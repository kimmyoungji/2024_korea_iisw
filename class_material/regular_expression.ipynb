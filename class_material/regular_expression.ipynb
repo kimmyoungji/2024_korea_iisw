{
 "cells": [
  {
   "cell_type": "code",
   "execution_count": null,
   "metadata": {},
   "outputs": [],
   "source": [
    "Regular Expression 이란?\n",
    "- 검색 패턴\n",
    "\n",
    "왜 사용?\n",
    "- 대량의 데이터를 빠르게 탐색하기 유리하다\n",
    "\n",
    "단점\n",
    "- 러닝 커브\n",
    "\n",
    "용도\n",
    "- 인풋 validation\n",
    "- 데이터 정제\n",
    "- 문자열 검색\n",
    "- 유닉스 계열 로그 분석 및 자동화"
   ]
  },
  {
   "cell_type": "code",
   "execution_count": null,
   "metadata": {},
   "outputs": [],
   "source": [
    "메타캐릭터\n",
    "- \"메타\": 무엇을 설명하기 위한 설명\n",
    "\n",
    "오토마타\n",
    ". : 아무 글자 하나\n",
    "* : 0개 이상의 모든 글자\n",
    "x+ : x가 1개 이상 반복\n",
    "x? : x가 있거나 없거나\n",
    "x{n} : x가 n번 반복\n",
    "x{n,} : x가 n번 이상 반복\n",
    "x{n,m}\n",
    "\n",
    "^x : x로 시작하는\n",
    "x$ : x로 끝나는\n",
    "x|y : x 또는 y \n",
    "(x) : 그룹 \n",
    "(x)(y)\n",
    "(x)(?:y)\n",
    "\n",
    "[zy]\n",
    "[x-z]\n",
    "[^d]  Negation d가 아닌\n",
    "\n",
    "\\  escape 문자, 원래의 의미를 벗어나는 처리를 할 때 사용\n",
    "\\^ 기호 자체로써의 ^ \n",
    "\\B 대문자는 소문자의 반대 버전\n",
    "\\b 워드바운더리 : 뉴스 기사\n",
    "\\d 숫자\n",
    "\\D 숫자 아닌것\n",
    "\\s white space\n",
    "\\S non_white_space\n",
    "\\t tab\n"
   ]
  },
  {
   "cell_type": "code",
   "execution_count": null,
   "metadata": {},
   "outputs": [],
   "source": [
    "https://regexr.com/"
   ]
  },
  {
   "cell_type": "code",
   "execution_count": null,
   "metadata": {},
   "outputs": [],
   "source": [
    "이런 url을 분석해서 데이터 수집을 하는 것이다.\n",
    "tel://\n",
    "mailto://\n",
    "https://\n",
    "http://\n",
    "ftp://\n",
    "ssh://"
   ]
  },
  {
   "cell_type": "code",
   "execution_count": null,
   "metadata": {},
   "outputs": [],
   "source": [
    "/(\\+?[0-9]{1,2}.?)?[0-9]{2,3}.?[0-9]{4}.?[0-9]{4}/g\n",
    " \n",
    "010-1234-1234\n",
    "01012341234\n",
    "010 1234 1234\n",
    "02-1234-1234\n",
    "+82 10 1234 1234\n",
    "82 010 1234 1234 \n",
    "공1공 일2삼4 1234"
   ]
  },
  {
   "cell_type": "code",
   "execution_count": null,
   "metadata": {},
   "outputs": [],
   "source": [
    "숙제\n",
    "(\\+?[0-9]{1,2}.?)?[1-9공일이삼사오육칠팔구][\\d공일이삼사오육칠팔구]{2,3}.?[\\d공일이삼사오육칠팔구]{4}.?[\\d공일이삼사오육칠팔구]{4}\n",
    "\n",
    "010-1234-1234\n",
    "01012341234\n",
    "010 1234 1234\n",
    "02-1234-1234\n",
    "+82 10 1234 1234\n",
    "82 010 1234 1234 \n",
    "공1공 일2삼4 1234"
   ]
  },
  {
   "cell_type": "code",
   "execution_count": null,
   "metadata": {},
   "outputs": [],
   "source": [
    "^(https?:\\/\\/)?(\\.?[a-z][a-z0-9.\\-_]+)+(\\/[a-z0-9.\\-]+){0,}\n",
    "  \n",
    "https://www.naver.com/search.nhn?asdfasdf=asdff\n",
    "https://www.naver.com/search.nhn?asdfasdf=asdff\n",
    "https://m.news.naver.com\n",
    "https://m.blog.naver.com/blogid/page?"
   ]
  },
  {
   "cell_type": "code",
   "execution_count": 19,
   "metadata": {},
   "outputs": [
    {
     "name": "stdout",
     "output_type": "stream",
     "text": [
      "<re.Match object; span=(5, 17), match='02-1234-1234'>\n"
     ]
    }
   ],
   "source": [
    "import re\n",
    "# re.compile => 패턴\n",
    "# re.search => 찾을 때\n",
    "# re.match => 처음부터 매칭되는지 찾을 때\n",
    "# re.findall => 다 찾을 때\n",
    "\n",
    "re.IGNORECASE\n",
    "re.MULTILINE\n",
    "\n",
    "data = '''\n",
    "    02-1234-1234\n",
    "    010-1234-1234\n",
    "    010 1234 1234\n",
    "    010.1234.1234\n",
    "    01공 일23사 1234\n",
    "'''\n",
    "reg = r'([0-9]{2,3}).?([0-9]{4}).?([0-9]{4})'\n",
    "rst = re.search(reg,data)\n",
    "print(rst)"
   ]
  },
  {
   "cell_type": "code",
   "execution_count": 20,
   "metadata": {},
   "outputs": [
    {
     "ename": "AttributeError",
     "evalue": "'tuple' object has no attribute 'rst'",
     "output_type": "error",
     "traceback": [
      "\u001b[0;31m---------------------------------------------------------------------------\u001b[0m",
      "\u001b[0;31mAttributeError\u001b[0m                            Traceback (most recent call last)",
      "Cell \u001b[0;32mIn[20], line 1\u001b[0m\n\u001b[0;32m----> 1\u001b[0m \u001b[43mrst\u001b[49m\u001b[38;5;241;43m.\u001b[39;49m\u001b[43mspan\u001b[49m\u001b[43m(\u001b[49m\u001b[43m)\u001b[49m\u001b[38;5;241;43m.\u001b[39;49m\u001b[43m \u001b[49m\u001b[43mrst\u001b[49m\u001b[38;5;241m.\u001b[39mgroups(), rst\u001b[38;5;241m.\u001b[39mgroup(),rst\u001b[38;5;241m.\u001b[39mstart(), rst\u001b[38;5;241m.\u001b[39mend(), data[rst\u001b[38;5;241m.\u001b[39mstart():rst\u001b[38;5;241m.\u001b[39mend()]\n",
      "\u001b[0;31mAttributeError\u001b[0m: 'tuple' object has no attribute 'rst'"
     ]
    }
   ],
   "source": [
    "rst.span(). rst.groups(), rst.group(),rst.start(), rst.end(), data[rst.start():rst.end()]"
   ]
  },
  {
   "cell_type": "code",
   "execution_count": 17,
   "metadata": {},
   "outputs": [
    {
     "data": {
      "text/plain": [
       "[('02', '1234', '1234'),\n",
       " ('010', '1234', '1234'),\n",
       " ('010', '1234', '1234'),\n",
       " ('010', '1234', '1234')]"
      ]
     },
     "execution_count": 17,
     "metadata": {},
     "output_type": "execute_result"
    }
   ],
   "source": [
    "re.findall(reg,data)"
   ]
  },
  {
   "cell_type": "code",
   "execution_count": 23,
   "metadata": {},
   "outputs": [],
   "source": [
    "re.match(r'Life', 'My Life is too short')"
   ]
  },
  {
   "cell_type": "code",
   "execution_count": 25,
   "metadata": {},
   "outputs": [],
   "source": [
    "re.search(r'^Life', 'My Life is too short')"
   ]
  },
  {
   "cell_type": "code",
   "execution_count": 24,
   "metadata": {},
   "outputs": [],
   "source": [
    "re.search(r'^Life', 'My Life is too short', re.IGNORECASE)"
   ]
  },
  {
   "cell_type": "code",
   "execution_count": 10,
   "metadata": {},
   "outputs": [
    {
     "data": {
      "text/plain": [
       "'c:\\\\User\\\\누구\\\\Downloads'"
      ]
     },
     "execution_count": 10,
     "metadata": {},
     "output_type": "execute_result"
    }
   ],
   "source": [
    "r'c:\\User\\누구\\Downloads'"
   ]
  },
  {
   "cell_type": "code",
   "execution_count": 9,
   "metadata": {},
   "outputs": [
    {
     "name": "stdout",
     "output_type": "stream",
     "text": [
      "\n",
      " \\n \\\n",
      " \\\\n\n"
     ]
    },
    {
     "data": {
      "text/plain": [
       "(None, '\\n', '\\\\n', '\\\\\\n')"
      ]
     },
     "execution_count": 9,
     "metadata": {},
     "output_type": "execute_result"
    }
   ],
   "source": [
    "print( '\\n',r'\\n', re.escape('\\n'), re.escape('\\\\n')),'\\n', r'\\n', re.escape('\\n') "
   ]
  },
  {
   "cell_type": "markdown",
   "metadata": {},
   "source": []
  },
  {
   "cell_type": "code",
   "execution_count": null,
   "metadata": {},
   "outputs": [],
   "source": [
    "# 패턴 만들대 주의점 아래 둘중 하나는 사용해야 특수문자 출력 가능\n",
    "- raw 텍스트 r'asdfafsa'\n",
    "- re.escape('asdfasf')"
   ]
  },
  {
   "cell_type": "code",
   "execution_count": null,
   "metadata": {},
   "outputs": [],
   "source": [
    "Greedy & Lazy\n",
    "- Greedy: 가장 나중에 매칭되는 결과\n",
    "- Lazy: 가장 먼저 매칭되는 결과\n",
    "- 이것 태그 뒤질 때 정말 많이 사용한다. \n"
   ]
  },
  {
   "cell_type": "code",
   "execution_count": null,
   "metadata": {},
   "outputs": [],
   "source": [
    "# 카카오 입사 문제를 줄것이다 이것을 풀어와라\n",
    "# 이것을 못풀면 코딩 테스트에 통과하지 못한다. "
   ]
  }
 ],
 "metadata": {
  "kernelspec": {
   "display_name": "myvenv2",
   "language": "python",
   "name": "python3"
  },
  "language_info": {
   "codemirror_mode": {
    "name": "ipython",
    "version": 3
   },
   "file_extension": ".py",
   "mimetype": "text/x-python",
   "name": "python",
   "nbconvert_exporter": "python",
   "pygments_lexer": "ipython3",
   "version": "3.11.8"
  }
 },
 "nbformat": 4,
 "nbformat_minor": 2
}
