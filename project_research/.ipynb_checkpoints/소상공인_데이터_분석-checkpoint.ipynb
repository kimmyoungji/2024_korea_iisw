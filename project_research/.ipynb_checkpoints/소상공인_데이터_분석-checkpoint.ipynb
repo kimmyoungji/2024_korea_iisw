{
 "cells": [
  {
   "cell_type": "code",
   "execution_count": 31,
   "id": "545f1ae9-a12e-4d08-aa3e-5a68d834f961",
   "metadata": {},
   "outputs": [
    {
     "name": "stdout",
     "output_type": "stream",
     "text": [
      "Collecting korean_romanizer\n",
      "  Downloading korean_romanizer-0.25.1-py3-none-any.whl.metadata (869 bytes)\n",
      "Downloading korean_romanizer-0.25.1-py3-none-any.whl (18 kB)\n",
      "Installing collected packages: korean_romanizer\n",
      "Successfully installed korean_romanizer-0.25.1\n",
      "Note: you may need to restart the kernel to use updated packages.\n"
     ]
    }
   ],
   "source": [
    "pip install korean_romanizer"
   ]
  },
  {
   "cell_type": "code",
   "execution_count": 12,
   "id": "37457895-1e72-4891-a4cd-d9c643dbee69",
   "metadata": {},
   "outputs": [],
   "source": [
    "import numpy as np\n",
    "import pandas as pd\n",
    "import os\n",
    "from korean_romanizer.romanizer import Romanizer\n",
    "import re"
   ]
  },
  {
   "cell_type": "code",
   "execution_count": 14,
   "id": "efce5d44-ac0f-4ed4-9ad3-c1be4013fdc7",
   "metadata": {},
   "outputs": [],
   "source": [
    "os.chdir('./2023_ko_small_bussiness')"
   ]
  },
  {
   "cell_type": "code",
   "execution_count": 16,
   "id": "35a919ed-c7ed-4bd8-be65-9b2d42cfaa06",
   "metadata": {},
   "outputs": [
    {
     "name": "stdout",
     "output_type": "stream",
     "text": [
      "/Users/myoungjikim/2024_Korea_iisw/project_research/2023_ko_small_bussiness\n"
     ]
    }
   ],
   "source": [
    "current_dir = os.getcwd()\n",
    "print(current_dir)"
   ]
  },
  {
   "cell_type": "code",
   "execution_count": 17,
   "id": "21b49763-2074-46d1-bdf2-6e17acbd3eeb",
   "metadata": {},
   "outputs": [
    {
     "name": "stdout",
     "output_type": "stream",
     "text": [
      "[]\n"
     ]
    }
   ],
   "source": [
    "files = os.listdir(current_dir)\n",
    "new_filename_list = list()\n",
    "for filename in files[1:]:\n",
    "    \n",
    "    if re.match(r'소상공인진흥공단_상가\\(상권\\)정보_.*_202312\\.csv', filename):\n",
    "        \n",
    "        filename_list = filename.split('_')\n",
    "        \n",
    "        if len(filename_list) > 3:\n",
    "            new_filename = Romanizer(filename_list[2])\n",
    "            new_filename = new_filename.romanize()\n",
    "            new_filename_list.append(new_filename)\n",
    "            \n",
    "print(new_filename_list)\n"
   ]
  },
  {
   "cell_type": "code",
   "execution_count": 26,
   "id": "45d27bec-9788-4740-9284-39490cb08275",
   "metadata": {},
   "outputs": [
    {
     "name": "stdout",
     "output_type": "stream",
     "text": [
      "['[필독]파일열람방법.txt', '소상공인시장진흥공단_상가(상권)정보_세종_202312.csv', '소상공인시장진흥공단_상가(상권)정보_제주_202312.csv', '소상공인시장진흥공단_상가(상권)정보_부산_202312.csv', '소상공인시장진흥공단_상가(상권)정보_대구_202312.csv', '소상공인시장진흥공단_상가(상권)정보_강원_202312.csv', '소상공인시장진흥공단_상가(상권)정보_광주_202312.csv', '소상공인시장진흥공단_상가(상권)정보_전북_202312.csv', '소상공인시장진흥공단_상가(상권)정보_경북_202312.csv', '소상공인시장진흥공단_상가(상권)정보_인천_202312.csv', '소상공인시장진흥공단_상가(상권)정보_경남_202312.csv', '소상공인시장진흥공단_상가(상권)정보_전남_202312.csv', '.ipynb_checkpoints', '소상공인시장진흥공단_상가(상권)정보_대전_202312.csv', '소상공인시장진흥공단_상가(상권)정보_서울_202312.csv', '소상공인시장진흥공단_상가(상권)정보_울산_202312.csv', '소상공인시장진흥공단_상가(상권)정보_경기_202312.csv', '소상공인시장진흥공단_상가(상권)정보_충북_202312.csv', '소상공인시장진흥공단_상가(상권)정보_충남_202312.csv']\n"
     ]
    }
   ],
   "source": [
    "files = os.listdir(current_dir)\n",
    "print(files)\n",
    "re.match(r'소상공인시장진흥공단_상가\\(상권\\)정보_(.*)_202312\\.csv', files[1])"
   ]
  },
  {
   "cell_type": "code",
   "execution_count": null,
   "id": "2abeecfa-262d-4842-8bc1-3b08ea6b76ae",
   "metadata": {},
   "outputs": [],
   "source": []
  },
  {
   "cell_type": "code",
   "execution_count": null,
   "id": "82672191-034d-4599-8ffc-ae24ef3bd12a",
   "metadata": {},
   "outputs": [],
   "source": []
  }
 ],
 "metadata": {
  "kernelspec": {
   "display_name": "Python 3 (ipykernel)",
   "language": "python",
   "name": "python3"
  },
  "language_info": {
   "codemirror_mode": {
    "name": "ipython",
    "version": 3
   },
   "file_extension": ".py",
   "mimetype": "text/x-python",
   "name": "python",
   "nbconvert_exporter": "python",
   "pygments_lexer": "ipython3",
   "version": "3.11.8"
  }
 },
 "nbformat": 4,
 "nbformat_minor": 5
}
