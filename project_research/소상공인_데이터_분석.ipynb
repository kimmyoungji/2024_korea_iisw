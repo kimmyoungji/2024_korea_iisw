{
 "cells": [
  {
   "cell_type": "code",
   "execution_count": null,
   "id": "545f1ae9-a12e-4d08-aa3e-5a68d834f961",
   "metadata": {},
   "outputs": [],
   "source": [
    "pip install korean_romanizer"
   ]
  },
  {
   "cell_type": "code",
   "execution_count": null,
   "id": "37457895-1e72-4891-a4cd-d9c643dbee69",
   "metadata": {},
   "outputs": [],
   "source": [
    "import numpy as np\n",
    "import pandas as pd\n",
    "import os\n",
    "import re"
   ]
  },
  {
   "cell_type": "code",
   "execution_count": null,
   "id": "efce5d44-ac0f-4ed4-9ad3-c1be4013fdc7",
   "metadata": {},
   "outputs": [],
   "source": [
    "os.chdir('./2023_ko_small_bussiness')"
   ]
  },
  {
   "cell_type": "code",
   "execution_count": null,
   "id": "35a919ed-c7ed-4bd8-be65-9b2d42cfaa06",
   "metadata": {},
   "outputs": [],
   "source": [
    "current_dir = os.getcwd()\n",
    "print(current_dir)"
   ]
  },
  {
   "cell_type": "code",
   "execution_count": null,
   "id": "3cf34d6e-5960-45e4-9b93-befbff4af1eb",
   "metadata": {},
   "outputs": [],
   "source": [
    "# import os\n",
    "# import sys\n",
    "# import urllib.request\n",
    "# client_id = \"YOUR_CLIENT_ID\" # 개발자센터에서 발급받은 Client ID 값\n",
    "# client_secret = \"YOUR_CLIENT_SECRET\" # 개발자센터에서 발급받은 Client Secret 값\n",
    "# encText = urllib.parse.quote(\"홍길동\")\n",
    "# url = \"https://openapi.naver.com/v1/krdict/romanization?query=\" + encText\n",
    "# request = urllib.request.Request(url)\n",
    "# request.add_header(\"X-Naver-Client-Id\",client_id)\n",
    "# request.add_header(\"X-Naver-Client-Secret\",client_secret)\n",
    "# response = urllib.request.urlopen(request)\n",
    "# rescode = response.getcode()\n",
    "# if(rescode==200):\n",
    "#     response_body = response.read()\n",
    "#     print(response_body.decode('utf-8'))\n",
    "# else:\n",
    "#     print(\"Error Code:\" + rescode)"
   ]
  },
  {
   "cell_type": "code",
   "execution_count": null,
   "id": "21b49763-2074-46d1-bdf2-6e17acbd3eeb",
   "metadata": {},
   "outputs": [],
   "source": [
    "from korean_romanizer.romanizer import Romanizer\n",
    "files = os.listdir(current_dir)\n",
    "new_filename_list = list()\n",
    "for filename in files[1:]:\n",
    "    \n",
    "    if re.findall(r'.*_.*_(.*)_202312\\.csv', filename):\n",
    "        \n",
    "        filename_list = filename.split('_')\n",
    "        \n",
    "        if len(filename_list) > 3:\n",
    "            r1 = Romanizer(filename_list[2])\n",
    "            new_filename = r1.romanize()\n",
    "            os.rename(os.path.join(current_dir,new_filename), os.path.join(current_dir, new_filename,'.txt'))\n",
    "            # new_filename_list.append(new_filename)\n",
    "            \n",
    "print(os.listdir(current_dir))\n"
   ]
  },
  {
   "cell_type": "code",
   "execution_count": null,
   "id": "45d27bec-9788-4740-9284-39490cb08275",
   "metadata": {},
   "outputs": [],
   "source": [
    "files = os.listdir(current_dir)\n",
    "result = re.findall(r'.*_.*_(.*)_202312\\.csv', files[0])\n",
    "result"
   ]
  },
  {
   "cell_type": "code",
   "execution_count": null,
   "id": "2abeecfa-262d-4842-8bc1-3b08ea6b76ae",
   "metadata": {},
   "outputs": [],
   "source": [
    "files = os.listdir(current_dir)\n",
    "for f in files:\n",
    "    if len(f)<19:\n",
    "        new_f = f.split('.')\n",
    "        os.rename(os.path.join(current_dir,f), os.path.join(current_dir, f'{new_f[0]}.csv'))\n"
   ]
  },
  {
   "cell_type": "code",
   "execution_count": null,
   "id": "82672191-034d-4599-8ffc-ae24ef3bd12a",
   "metadata": {},
   "outputs": [],
   "source": [
    "with open('./서울.csv','r',encoding='utf-8') as f:\n",
    "    data = f.read()\n",
    "    print(data)"
   ]
  },
  {
   "cell_type": "code",
   "execution_count": null,
   "id": "04ec4f01-3c5e-4fb7-a5a5-eeb94d681037",
   "metadata": {},
   "outputs": [],
   "source": [
    "data = pd.read_csv('./서울.csv')"
   ]
  },
  {
   "cell_type": "code",
   "execution_count": null,
   "id": "f5b2793b-6b7b-4c93-91db-ca74a1d5229b",
   "metadata": {},
   "outputs": [],
   "source": [
    "data.head()"
   ]
  },
  {
   "cell_type": "code",
   "execution_count": null,
   "id": "efdf1c0b-38a5-4a19-b009-63a5d3618530",
   "metadata": {},
   "outputs": [],
   "source": [
    "data.tail()"
   ]
  },
  {
   "cell_type": "code",
   "execution_count": null,
   "id": "8be2ddbc-0140-4bd8-9934-52a3dca22110",
   "metadata": {},
   "outputs": [],
   "source": [
    "data.groupby('상권업종소분류코드').boxplot()"
   ]
  },
  {
   "cell_type": "code",
   "execution_count": null,
   "id": "c9041557-b9ca-46f2-b640-6f2cd012accc",
   "metadata": {},
   "outputs": [],
   "source": []
  }
 ],
 "metadata": {
  "kernelspec": {
   "display_name": "Python 3 (ipykernel)",
   "language": "python",
   "name": "python3"
  },
  "language_info": {
   "codemirror_mode": {
    "name": "ipython",
    "version": 3
   },
   "file_extension": ".py",
   "mimetype": "text/x-python",
   "name": "python",
   "nbconvert_exporter": "python",
   "pygments_lexer": "ipython3",
   "version": "3.11.8"
  }
 },
 "nbformat": 4,
 "nbformat_minor": 5
}
