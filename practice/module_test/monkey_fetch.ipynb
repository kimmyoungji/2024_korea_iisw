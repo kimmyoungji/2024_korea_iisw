{
 "cells": [
  {
   "cell_type": "markdown",
   "id": "aa8ca1a4-e731-43ba-b009-174918bd15f6",
   "metadata": {},
   "source": [
    "# monkey fetch"
   ]
  },
  {
   "cell_type": "code",
   "execution_count": 1,
   "id": "c112a681-c657-453a-b385-52411aaad356",
   "metadata": {},
   "outputs": [],
   "source": [
    "import matplotlib as ma"
   ]
  },
  {
   "cell_type": "code",
   "execution_count": 4,
   "id": "aa47d3e9-3bb3-4bba-8113-aa0feb295ce9",
   "metadata": {},
   "outputs": [
    {
     "data": {
      "text/plain": [
       "105"
      ]
     },
     "execution_count": 4,
     "metadata": {},
     "output_type": "execute_result"
    }
   ],
   "source": [
    "len(dir(ma))"
   ]
  },
  {
   "cell_type": "code",
   "execution_count": 5,
   "id": "a879efeb-5ad9-43dd-b514-9ced4a685b97",
   "metadata": {},
   "outputs": [],
   "source": [
    "import matplotlib.pyplot as plt"
   ]
  },
  {
   "cell_type": "code",
   "execution_count": 7,
   "id": "8991ed97-d77f-45c1-9bba-93e266d4c836",
   "metadata": {},
   "outputs": [
    {
     "data": {
      "text/plain": [
       "157"
      ]
     },
     "execution_count": 7,
     "metadata": {},
     "output_type": "execute_result"
    }
   ],
   "source": [
    "len(dir(ma))  # monkey fetch (잠수함 fetch, 게릴라 fetch) \n",
    "              # 게릴라 패치 -> 고릴라 패치 -> 몽키 패치 -> 잠수함 패치\n",
    "              # 하나의 패키지가 의존하는 다른 패키지가 암묵적으로 같이 임포트 되는 경우가 있다.  => 임포트 순서를 신경써야 한다.\n",
    "              # 임포트 순서 명심하기 - 그럼 임포트 순서를 파악할 수 있는 방법이 있는가? "
   ]
  },
  {
   "cell_type": "code",
   "execution_count": null,
   "id": "ac5db5c3-f918-4c40-85d9-d8e4e3ccc6bb",
   "metadata": {},
   "outputs": [],
   "source": []
  }
 ],
 "metadata": {
  "kernelspec": {
   "display_name": "Python 3 (ipykernel)",
   "language": "python",
   "name": "python3"
  },
  "language_info": {
   "codemirror_mode": {
    "name": "ipython",
    "version": 3
   },
   "file_extension": ".py",
   "mimetype": "text/x-python",
   "name": "python",
   "nbconvert_exporter": "python",
   "pygments_lexer": "ipython3",
   "version": "3.11.8"
  }
 },
 "nbformat": 4,
 "nbformat_minor": 5
}
