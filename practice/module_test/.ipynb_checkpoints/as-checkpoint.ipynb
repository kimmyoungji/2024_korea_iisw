{
 "cells": [
  {
   "cell_type": "markdown",
   "id": "64ee4cdd-fb7a-49cd-b525-e53e95593dc9",
   "metadata": {},
   "source": [
    "# as 이름 변경하여 가져오기"
   ]
  },
  {
   "cell_type": "code",
   "execution_count": 15,
   "id": "4587b25a-6618-49f0-b113-6472296a898c",
   "metadata": {},
   "outputs": [],
   "source": [
    "from sun import x as xxx  # 글로벌영역에 데리고온다는 의미이다."
   ]
  },
  {
   "cell_type": "code",
   "execution_count": 17,
   "id": "6c0b0135-1c1b-4c62-8324-62942a186f86",
   "metadata": {},
   "outputs": [
    {
     "data": {
      "text/plain": [
       "1"
      ]
     },
     "execution_count": 17,
     "metadata": {},
     "output_type": "execute_result"
    }
   ],
   "source": [
    "xxx"
   ]
  },
  {
   "cell_type": "code",
   "execution_count": null,
   "id": "ad4fc949-61b5-4300-91c2-e777cb150185",
   "metadata": {},
   "outputs": [],
   "source": []
  },
  {
   "cell_type": "code",
   "execution_count": null,
   "id": "37d245cf-28c1-4f72-92cf-7befd53be407",
   "metadata": {},
   "outputs": [],
   "source": []
  }
 ],
 "metadata": {
  "kernelspec": {
   "display_name": "Python 3 (ipykernel)",
   "language": "python",
   "name": "python3"
  },
  "language_info": {
   "codemirror_mode": {
    "name": "ipython",
    "version": 3
   },
   "file_extension": ".py",
   "mimetype": "text/x-python",
   "name": "python",
   "nbconvert_exporter": "python",
   "pygments_lexer": "ipython3",
   "version": "3.11.8"
  }
 },
 "nbformat": 4,
 "nbformat_minor": 5
}
