{
 "cells": [
  {
   "cell_type": "markdown",
   "id": "14ae134d-623e-43b8-81aa-8250616637d9",
   "metadata": {},
   "source": [
    "# from ~ import *는 해당 파일의 모든 메서드,클래스를 가져오지만, 언더바가 붙은 비공개 이름은 가져오지 않는다"
   ]
  },
  {
   "cell_type": "code",
   "execution_count": 1,
   "id": "fc53cab6-2efd-4117-8550-19d937b3632f",
   "metadata": {},
   "outputs": [],
   "source": [
    "from sun import *  # 언더바가 붙어 있는 이름은 *로 임포트가 안된다."
   ]
  },
  {
   "cell_type": "code",
   "execution_count": 2,
   "id": "e748fd2e-d4da-4351-9c4d-6fbf5ae194b6",
   "metadata": {},
   "outputs": [
    {
     "ename": "NameError",
     "evalue": "name '_x' is not defined",
     "output_type": "error",
     "traceback": [
      "\u001b[0;31m---------------------------------------------------------------------------\u001b[0m",
      "\u001b[0;31mNameError\u001b[0m                                 Traceback (most recent call last)",
      "Cell \u001b[0;32mIn[2], line 1\u001b[0m\n\u001b[0;32m----> 1\u001b[0m \u001b[43m_x\u001b[49m\n",
      "\u001b[0;31mNameError\u001b[0m: name '_x' is not defined"
     ]
    }
   ],
   "source": [
    "_x"
   ]
  },
  {
   "cell_type": "code",
   "execution_count": 3,
   "id": "2e36a46e-1070-44ee-b3d1-c2808894a292",
   "metadata": {},
   "outputs": [
    {
     "data": {
      "text/plain": [
       "1"
      ]
     },
     "execution_count": 3,
     "metadata": {},
     "output_type": "execute_result"
    }
   ],
   "source": [
    "x"
   ]
  },
  {
   "cell_type": "code",
   "execution_count": 4,
   "id": "ff4bae50-d49e-4b1b-9c98-a9d2f897f2e8",
   "metadata": {},
   "outputs": [
    {
     "ename": "NameError",
     "evalue": "name '__x' is not defined",
     "output_type": "error",
     "traceback": [
      "\u001b[0;31m---------------------------------------------------------------------------\u001b[0m",
      "\u001b[0;31mNameError\u001b[0m                                 Traceback (most recent call last)",
      "Cell \u001b[0;32mIn[4], line 1\u001b[0m\n\u001b[0;32m----> 1\u001b[0m \u001b[43m__x\u001b[49m\n",
      "\u001b[0;31mNameError\u001b[0m: name '__x' is not defined"
     ]
    }
   ],
   "source": [
    "__x"
   ]
  },
  {
   "cell_type": "code",
   "execution_count": 20,
   "id": "dfdaf931-32d2-4eb7-a5fb-85d36a84e2df",
   "metadata": {},
   "outputs": [],
   "source": [
    "y()"
   ]
  },
  {
   "cell_type": "code",
   "execution_count": 21,
   "id": "61c76ef9-69b3-41dc-941c-edcc075b780c",
   "metadata": {},
   "outputs": [
    {
     "ename": "NameError",
     "evalue": "name '_y' is not defined",
     "output_type": "error",
     "traceback": [
      "\u001b[0;31m---------------------------------------------------------------------------\u001b[0m",
      "\u001b[0;31mNameError\u001b[0m                                 Traceback (most recent call last)",
      "Cell \u001b[0;32mIn[21], line 1\u001b[0m\n\u001b[0;32m----> 1\u001b[0m \u001b[43m_y\u001b[49m()\n",
      "\u001b[0;31mNameError\u001b[0m: name '_y' is not defined"
     ]
    }
   ],
   "source": [
    "_y()"
   ]
  },
  {
   "cell_type": "code",
   "execution_count": null,
   "id": "24be3c54-4f70-45a0-a5c7-0ba03572edc2",
   "metadata": {},
   "outputs": [],
   "source": []
  },
  {
   "cell_type": "code",
   "execution_count": null,
   "id": "7f0336a0-fa3d-4b08-a02a-e9de70636e64",
   "metadata": {},
   "outputs": [],
   "source": []
  }
 ],
 "metadata": {
  "kernelspec": {
   "display_name": "Python 3 (ipykernel)",
   "language": "python",
   "name": "python3"
  },
  "language_info": {
   "codemirror_mode": {
    "name": "ipython",
    "version": 3
   },
   "file_extension": ".py",
   "mimetype": "text/x-python",
   "name": "python",
   "nbconvert_exporter": "python",
   "pygments_lexer": "ipython3",
   "version": "3.11.8"
  }
 },
 "nbformat": 4,
 "nbformat_minor": 5
}
