{
 "cells": [
  {
   "cell_type": "markdown",
   "id": "4f101f80-46a7-4086-9bf2-a7ede3340d38",
   "metadata": {},
   "source": [
    "# import == 파일 불러오기\n",
    "# as == 이름 변경하기"
   ]
  },
  {
   "cell_type": "code",
   "execution_count": 2,
   "id": "b2c4c85f-1fbf-4187-926c-63fac6a44b50",
   "metadata": {},
   "outputs": [],
   "source": [
    "import sun"
   ]
  },
  {
   "cell_type": "code",
   "execution_count": 4,
   "id": "ab650b61-d73a-4142-bbc9-cc4d132f0841",
   "metadata": {},
   "outputs": [],
   "source": [
    "import sun as s"
   ]
  },
  {
   "cell_type": "code",
   "execution_count": 5,
   "id": "775557af-9e92-4c66-8711-2c4d400ae919",
   "metadata": {},
   "outputs": [
    {
     "data": {
      "text/plain": [
       "['__all__',\n",
       " '__builtins__',\n",
       " '__cached__',\n",
       " '__doc__',\n",
       " '__file__',\n",
       " '__loader__',\n",
       " '__name__',\n",
       " '__package__',\n",
       " '__spec__',\n",
       " '__x',\n",
       " '__y',\n",
       " '_x',\n",
       " '_y',\n",
       " 'x',\n",
       " 'y']"
      ]
     },
     "execution_count": 5,
     "metadata": {},
     "output_type": "execute_result"
    }
   ],
   "source": [
    "dir(sun)"
   ]
  },
  {
   "cell_type": "code",
   "execution_count": 6,
   "id": "90ea16a2-7b67-4cc4-98b3-72607083c036",
   "metadata": {},
   "outputs": [
    {
     "data": {
      "text/plain": [
       "2"
      ]
     },
     "execution_count": 6,
     "metadata": {},
     "output_type": "execute_result"
    }
   ],
   "source": [
    "sun._x"
   ]
  },
  {
   "cell_type": "code",
   "execution_count": 8,
   "id": "8876e08a-fd73-42ad-b6d6-42f08a7f0b0e",
   "metadata": {},
   "outputs": [
    {
     "data": {
      "text/plain": [
       "2"
      ]
     },
     "execution_count": 8,
     "metadata": {},
     "output_type": "execute_result"
    }
   ],
   "source": [
    "s._x"
   ]
  },
  {
   "cell_type": "code",
   "execution_count": null,
   "id": "22e6a58b-3a48-4bba-94c5-8dea4ad7f144",
   "metadata": {},
   "outputs": [],
   "source": []
  }
 ],
 "metadata": {
  "kernelspec": {
   "display_name": "Python 3 (ipykernel)",
   "language": "python",
   "name": "python3"
  },
  "language_info": {
   "codemirror_mode": {
    "name": "ipython",
    "version": 3
   },
   "file_extension": ".py",
   "mimetype": "text/x-python",
   "name": "python",
   "nbconvert_exporter": "python",
   "pygments_lexer": "ipython3",
   "version": "3.11.8"
  }
 },
 "nbformat": 4,
 "nbformat_minor": 5
}
