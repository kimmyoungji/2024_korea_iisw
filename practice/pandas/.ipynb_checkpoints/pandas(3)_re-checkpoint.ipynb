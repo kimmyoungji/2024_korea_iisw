{
 "cells": [
  {
   "cell_type": "code",
   "execution_count": null,
   "id": "396dfeee-7a5b-4b87-8ead-0a2edcde03e4",
   "metadata": {},
   "outputs": [],
   "source": [
    "import pandas as pd"
   ]
  },
  {
   "cell_type": "code",
   "execution_count": null,
   "id": "314bb71b-2ca7-4f29-b491-c8719f8f9ab2",
   "metadata": {},
   "outputs": [],
   "source": [
    "data = pd.read_csv('./pew.txt', sep='\\t')"
   ]
  },
  {
   "cell_type": "markdown",
   "id": "b5a5b5a0-addd-4638-9e5f-0542df9409e6",
   "metadata": {},
   "source": [
    "### 헌금 데이터 min, max로 분리해보기\n",
    "\n",
    "# pew 데이터\n",
    "- 변수의 값이 칼럼이 위치함"
   ]
  },
  {
   "cell_type": "code",
   "execution_count": null,
   "id": "d82b1c0f-16f8-421a-91bf-ca9defb4647e",
   "metadata": {},
   "outputs": [],
   "source": [
    "data.info()"
   ]
  },
  {
   "cell_type": "markdown",
   "id": "54b1d673-6f6a-4d16-925a-1310afdc9e82",
   "metadata": {},
   "source": [
    "# multi indexing 맛보기: SCI"
   ]
  },
  {
   "cell_type": "code",
   "execution_count": null,
   "id": "ef238344-e320-4783-ab60-acbb01fabcc4",
   "metadata": {},
   "outputs": [],
   "source": [
    "data.set_index('religion').stack().reset_index()  # SCI"
   ]
  },
  {
   "cell_type": "code",
   "execution_count": null,
   "id": "3e995f7f-ffac-4705-acc5-d2ae30eb009e",
   "metadata": {},
   "outputs": [],
   "source": [
    "data.set_index('religion').unstack().reset_index()  "
   ]
  },
  {
   "cell_type": "markdown",
   "id": "bae9ecb6-6d08-4035-b7e2-6c837368ca31",
   "metadata": {},
   "source": [
    "# melt: 분석하기 좋은 형태로 바꾸기\n",
    "1. 1변수 -> 칼럼\n",
    "2. 1관찰 -> 1행\n",
    "3. 같은 관찰 -> 같은 테이블"
   ]
  },
  {
   "cell_type": "code",
   "execution_count": null,
   "id": "55313ce6-7a72-425b-b8a2-56eeed2e05ef",
   "metadata": {},
   "outputs": [],
   "source": [
    "data_melt = data.melt('religion')"
   ]
  },
  {
   "cell_type": "code",
   "execution_count": null,
   "id": "49fcd20a-f6b4-43fa-850c-60f610383a2d",
   "metadata": {},
   "outputs": [],
   "source": [
    "data_melt.groupby('religion')[['value']].mean()"
   ]
  },
  {
   "cell_type": "markdown",
   "id": "a88f0591-26de-4f93-a1b3-adfb951e6775",
   "metadata": {},
   "source": [
    "# loc"
   ]
  },
  {
   "cell_type": "code",
   "execution_count": null,
   "id": "0b3cc34a-96d1-4aff-b6ca-07d5235b528c",
   "metadata": {},
   "outputs": [],
   "source": [
    "data.loc[3, '$10-20k'] = 615"
   ]
  },
  {
   "cell_type": "markdown",
   "id": "caf47b35-10d1-4d06-82af-3b2affb3f373",
   "metadata": {},
   "source": [
    "# billboard data\n",
    "- 날짜 데이터의 형식이 문자열과 숫자의 혼합형"
   ]
  },
  {
   "cell_type": "code",
   "execution_count": null,
   "id": "964ab076-dc7a-459b-baf9-9759716adb16",
   "metadata": {},
   "outputs": [],
   "source": [
    "data = pd.read_csv('./billboard.csv')"
   ]
  },
  {
   "cell_type": "code",
   "execution_count": null,
   "id": "2b2cb79d-9a5e-4e26-8e38-b833ac1f90d9",
   "metadata": {},
   "outputs": [],
   "source": [
    "data.columns[:7]"
   ]
  },
  {
   "cell_type": "code",
   "execution_count": null,
   "id": "5116a9d1-a6a3-4113-b12d-23565421a85d",
   "metadata": {},
   "outputs": [],
   "source": [
    "data.melt(data.columns[:7],var_name='A', value_name='B')"
   ]
  },
  {
   "cell_type": "code",
   "execution_count": null,
   "id": "1a68e977-e0cb-4928-88f6-de081fed2b01",
   "metadata": {},
   "outputs": [],
   "source": [
    "data_bilboard = data.melt(data.columns[:7]).dropna()"
   ]
  },
  {
   "cell_type": "code",
   "execution_count": null,
   "id": "d4c13590-dfaa-4849-bbd8-3a994ec02d69",
   "metadata": {},
   "outputs": [],
   "source": [
    "data_bilboard.variable.str.extract('(\\d+)')"
   ]
  },
  {
   "cell_type": "markdown",
   "id": "f9dea835-5c9f-42a5-b1a8-3a9096773feb",
   "metadata": {},
   "source": [
    "#  tb 데이터\n",
    "- new_sp 칼럼의 형식이 숫자와 문자의 혼합형이다."
   ]
  },
  {
   "cell_type": "code",
   "execution_count": null,
   "id": "c1b7bece-7e40-43e3-8808-1706e1dc8214",
   "metadata": {},
   "outputs": [],
   "source": [
    "data = pd.read_csv('./tb.csv')"
   ]
  },
  {
   "cell_type": "code",
   "execution_count": null,
   "id": "b6fb3f0b-43e0-42cd-a729-768efe795e17",
   "metadata": {},
   "outputs": [],
   "source": [
    "data_tb = data.melt(['iso2','year']).dropna()"
   ]
  },
  {
   "cell_type": "code",
   "execution_count": null,
   "id": "47711af6-3505-4016-a4ee-7fec56759e48",
   "metadata": {},
   "outputs": [],
   "source": [
    "data_tb['gender'] = 0"
   ]
  },
  {
   "cell_type": "code",
   "execution_count": null,
   "id": "462f24dc-fb9a-4ffc-a70a-9d2deb3f4f00",
   "metadata": {},
   "outputs": [],
   "source": [
    "data_tb.variable.value_counts()"
   ]
  },
  {
   "cell_type": "code",
   "execution_count": null,
   "id": "0804924d-0b8b-4dc1-a780-1635b6ba727a",
   "metadata": {},
   "outputs": [],
   "source": [
    "data_tb['variable'] = data_tb.variable.map(lambda x: 'U' if x=='new_sp' else x)"
   ]
  },
  {
   "cell_type": "code",
   "execution_count": null,
   "id": "fba55180-e9bb-40bd-902c-403b4bec1db5",
   "metadata": {},
   "outputs": [],
   "source": [
    "data_tb.variable.map(lambda x: 'F' if x.startswith('new_sp_f') \n",
    "                     else 'M' if x.startswith('new_sp_m') else 'U')"
   ]
  },
  {
   "cell_type": "markdown",
   "id": "559fbe1d-4322-4202-8bf3-9821107560c2",
   "metadata": {},
   "source": [
    "# 날씨 데이터\n",
    "- tmax, tmin이 칼럼으로 누적되어 있다. -> 멀티 인덱싱\n",
    "\n",
    "- 멀티인덱싱의 조건\n",
    "- 두개의 칼럼\n",
    "- 끝에 위치해야함 - 아니면 위치 지정해주어야함"
   ]
  },
  {
   "cell_type": "code",
   "execution_count": null,
   "id": "0d69b8f7-7515-4364-bdb9-b26f9e2b3c02",
   "metadata": {},
   "outputs": [],
   "source": [
    "data = pd.read_csv('./weather.txt', sep='\\t')"
   ]
  },
  {
   "cell_type": "code",
   "execution_count": null,
   "id": "4bf3f0b3-2898-4df9-a275-a9664646041e",
   "metadata": {},
   "outputs": [],
   "source": [
    "data_weather = data.melt(['id','year','month','element']).dropna()"
   ]
  },
  {
   "cell_type": "code",
   "execution_count": null,
   "id": "a62d3d5c-2b9d-4ab7-9760-021ff2ca99d9",
   "metadata": {},
   "outputs": [],
   "source": [
    "data_weather.set_index(['id','year','element', 'month', 'variable']).unstack(2).reset_index()"
   ]
  },
  {
   "cell_type": "code",
   "execution_count": null,
   "id": "f4047a5e-1c50-4e6b-9b30-7adec75dc457",
   "metadata": {},
   "outputs": [],
   "source": [
    "temp.set_index('element').stack()"
   ]
  },
  {
   "cell_type": "code",
   "execution_count": null,
   "id": "8122ecff-43e4-4d24-8e5a-5fc6700e0389",
   "metadata": {},
   "outputs": [],
   "source": [
    "import seaborn as sns"
   ]
  },
  {
   "cell_type": "code",
   "execution_count": null,
   "id": "aecc83a1-6ef4-4580-97d6-0a55d6ba070c",
   "metadata": {},
   "outputs": [],
   "source": [
    "tips = sns.load_dataset('tips')"
   ]
  },
  {
   "cell_type": "code",
   "execution_count": null,
   "id": "d65a9d84-052d-4026-8b85-33d4e08a46be",
   "metadata": {},
   "outputs": [],
   "source": [
    "tips.groupby(['sex']).mean() # aggregation # sac"
   ]
  },
  {
   "cell_type": "code",
   "execution_count": null,
   "id": "264c0b30-6b91-479d-a87e-a947a77c2372",
   "metadata": {},
   "outputs": [],
   "source": [
    "from itertools import groupby"
   ]
  },
  {
   "cell_type": "code",
   "execution_count": null,
   "id": "90cf4959-18bf-4e68-b73a-d9fb250e26c4",
   "metadata": {},
   "outputs": [],
   "source": [
    "tips.groupby(['day','smoker'])[['tip']].aggregate(['mean','std'])"
   ]
  },
  {
   "cell_type": "code",
   "execution_count": null,
   "id": "5e327814-2aed-4863-991d-47930df8cb01",
   "metadata": {},
   "outputs": [],
   "source": [
    "x = input('')"
   ]
  },
  {
   "cell_type": "code",
   "execution_count": null,
   "id": "949825da-1f21-48d9-a3d1-88aefd617647",
   "metadata": {},
   "outputs": [],
   "source": [
    "tips.groupby(['sex','day'], as_index=False)[['tip']].mean()"
   ]
  },
  {
   "cell_type": "code",
   "execution_count": null,
   "id": "3dc9e2a0-0ab7-4b94-8158-b77b16f22ff5",
   "metadata": {},
   "outputs": [],
   "source": [
    "for i in d:\n",
    "    print(i)"
   ]
  }
 ],
 "metadata": {
  "kernelspec": {
   "display_name": "Python 3 (ipykernel)",
   "language": "python",
   "name": "python3"
  },
  "language_info": {
   "codemirror_mode": {
    "name": "ipython",
    "version": 3
   },
   "file_extension": ".py",
   "mimetype": "text/x-python",
   "name": "python",
   "nbconvert_exporter": "python",
   "pygments_lexer": "ipython3",
   "version": "3.11.8"
  }
 },
 "nbformat": 4,
 "nbformat_minor": 5
}
