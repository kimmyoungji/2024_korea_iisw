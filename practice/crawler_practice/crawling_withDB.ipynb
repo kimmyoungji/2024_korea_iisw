{
 "cells": [
  {
   "cell_type": "code",
   "execution_count": null,
   "id": "7185ef1e-dab8-4752-a1f7-bacb8730a892",
   "metadata": {},
   "outputs": [],
   "source": [
    "URLs \n",
    "PK  HOST\n",
    "1   네이버검색결과\n",
    "2   네이버블로그\n",
    "\n",
    "Links\n",
    "PK    LINK         Visited    Host.FK   inbound   REGDATE(수집일)  Y/N(크롤링여부)\n",
    "1  /search?q=수지                1           0\n",
    "2  /id/304012                   1           1\n",
    "3  /id/304045                   1           1\n",
    "...\n",
    "\n",
    "Links where Y/N='N' order by PK limit 0,N \n",
    "\n",
    "FK => 1번 페이지가 갖는 전체 링크의 수\n",
    "PR = inbound / 전체 link\n",
    "전체 link수: count(inbound = 1)\n",
    "count where inbound = 1 group by Host.FK => 1번 페이지로부터 inbound 그룹내 페이지 수 = 1"
   ]
  },
  {
   "cell_type": "code",
   "execution_count": 9,
   "id": "4e234500-2f1b-4001-bf72-b82c84fdcfdc",
   "metadata": {},
   "outputs": [],
   "source": [
    "import sqlite3"
   ]
  },
  {
   "cell_type": "code",
   "execution_count": 10,
   "id": "d2071de3-0024-4c7e-bf98-ecffd2dd9d6b",
   "metadata": {},
   "outputs": [],
   "source": [
    "con = sqlite3.connect(':memory:')\n",
    "cur = con.cursor()"
   ]
  },
  {
   "cell_type": "code",
   "execution_count": 45,
   "id": "ef879db3-b58c-4403-83c7-2acd05b05b82",
   "metadata": {},
   "outputs": [
    {
     "data": {
      "text/plain": [
       "<sqlite3.Cursor at 0x113a2dd40>"
      ]
     },
     "execution_count": 45,
     "metadata": {},
     "output_type": "execute_result"
    }
   ],
   "source": [
    "cur.executescript('''\n",
    "    DROP TABLE IF EXISTS URLs;\n",
    "    CREATE TABLE URLs(\n",
    "        PK INTEGER PRIMARY KEY,\n",
    "        SCHEME TEXT NOT NULL DEFAULT 'http',\n",
    "        NETLOC TEXT NOT NULL,\n",
    "        REGDATE TIMESTAMP NOT NULL DEFAULT CURRENT_TIMESTAMP\n",
    "    );\n",
    "\n",
    "    DROP TABLE IF EXISTS Links;\n",
    "    CREATE TABLE Links(\n",
    "        PK INTEGER PRIMARY KEY,\n",
    "        PATH TEXT NOT NULL DEFAULT '/',\n",
    "        QS TEXT,\n",
    "        FK INTEGER NOT NULL,\n",
    "        REF INTEGER NOT NULL,  => 이전 도메인(outbound), inbound cnfcj\n",
    "        VISITED INTEGER NOT NULL DEFAULT 0,\n",
    "        REGDATE TIMESTAMP NOT NULL DEFAULT CURRENT_TIMESTAMP\n",
    "    );\n",
    "''')\n",
    "\n",
    "# Links 테이블에 추가할 속성: REF INTEGER NOT NULL,\n",
    "# TIMESTAMP, CURRENT_TIMESTAMP"
   ]
  },
  {
   "cell_type": "code",
   "execution_count": 46,
   "id": "de46b3e7-c0b0-44a0-96a5-3198649ddbbd",
   "metadata": {},
   "outputs": [
    {
     "data": {
      "text/plain": [
       "<sqlite3.Cursor at 0x113a2dd40>"
      ]
     },
     "execution_count": 46,
     "metadata": {},
     "output_type": "execute_result"
    }
   ],
   "source": [
    "cur.execute('INSERT INTO URLs(NETLOC) VALUES(\"www.naver.com\")')"
   ]
  },
  {
   "cell_type": "code",
   "execution_count": 47,
   "id": "3242aca8-1f2d-498f-b19b-e6115ababaa9",
   "metadata": {},
   "outputs": [
    {
     "data": {
      "text/plain": [
       "[(1, 'http', 'www.naver.com', '2024-03-18 01:33:37')]"
      ]
     },
     "execution_count": 47,
     "metadata": {},
     "output_type": "execute_result"
    }
   ],
   "source": [
    "cur.execute('SELECT * FROM URLs')\n",
    "cur.fetchall()"
   ]
  },
  {
   "cell_type": "code",
   "execution_count": 48,
   "id": "2bcdf033-14ee-4063-a39b-929adec56241",
   "metadata": {},
   "outputs": [
    {
     "data": {
      "text/plain": [
       "<sqlite3.Cursor at 0x113a2dd40>"
      ]
     },
     "execution_count": 48,
     "metadata": {},
     "output_type": "execute_result"
    }
   ],
   "source": [
    "cur.execute('DELETE FROM URLs')"
   ]
  },
  {
   "cell_type": "code",
   "execution_count": 49,
   "id": "dc150071-aa35-42d6-a2a3-a9a460fe032c",
   "metadata": {},
   "outputs": [
    {
     "name": "stdout",
     "output_type": "stream",
     "text": [
      "('https', 'search.naver.com', '/search.naver', '', 'where=nexearch&sm=top_hty&fbm=0&ie=utf8&query=수지', '')\n"
     ]
    }
   ],
   "source": [
    "from requests.compat import urlparse\n",
    "url = 'https://search.naver.com/search.naver?where=nexearch&sm=top_hty&fbm=0&ie=utf8&query=수지'\n",
    "url_seg = urlparse(url)\n",
    "print(url_seg[:])"
   ]
  },
  {
   "cell_type": "code",
   "execution_count": 50,
   "id": "1dfacbc8-e653-402a-b25d-aa9a16ed1255",
   "metadata": {},
   "outputs": [],
   "source": [
    "cur.execute('SELECT PK FROM URLs WHERE NETLOC=?',(url_seg.netloc,))\n",
    "temp = cur.fetchone()\n",
    "\n",
    "if not temp:\n",
    "    cur.execute('INSERT INTO URLs (SCHEME, NETLOC) VALUES(?,?)', url_seg[:2])\n",
    "\n",
    "cur.execute('SELECT PK FROM URLs WHERE NETLOC=?',(url_seg.netloc,))\n",
    "PK = cur.fetchone()[0]"
   ]
  },
  {
   "cell_type": "code",
   "execution_count": 51,
   "id": "4d8e3b65-3664-43ff-bedd-c39f519505d5",
   "metadata": {},
   "outputs": [],
   "source": [
    "cur.execute('SELECT COUNT(PK) FROM Links WHERE FK=? AND PATH=?', (PK, url_seg.path))\n",
    "\n",
    "# 만약에 있는 링크면 넣지 않는다.\n",
    "if cur.fetchone()[0] == 0:\n",
    "    cur.execute('INSERT INTO Links(PATH, QS, FK, REF) VALUES(?,?,?, 0)',\n",
    "               (url_seg.path, url_seg.query, PK))\n",
    "    con.commit()\n",
    "\n",
    "# 새로추가된 REF 때문에 에러난다.\n",
    "# REF = 0 시작이라는 의미"
   ]
  },
  {
   "cell_type": "code",
   "execution_count": 52,
   "id": "a4942251-9ef2-4252-94e8-dec9071367d8",
   "metadata": {},
   "outputs": [
    {
     "data": {
      "text/plain": [
       "[(1,\n",
       "  '/search.naver',\n",
       "  'where=nexearch&sm=top_hty&fbm=0&ie=utf8&query=수지',\n",
       "  1,\n",
       "  0,\n",
       "  '2024-03-18 01:33:38')]"
      ]
     },
     "execution_count": 52,
     "metadata": {},
     "output_type": "execute_result"
    }
   ],
   "source": [
    "cur.execute('SELECT * FROM Links')\n",
    "cur.fetchall()"
   ]
  },
  {
   "cell_type": "code",
   "execution_count": 53,
   "id": "d4f3d21e-f0c3-4646-aa19-f71fe218cb17",
   "metadata": {},
   "outputs": [
    {
     "data": {
      "text/plain": [
       "<sqlite3.Cursor at 0x113a2dd40>"
      ]
     },
     "execution_count": 53,
     "metadata": {},
     "output_type": "execute_result"
    }
   ],
   "source": [
    "cur.execute('''\n",
    "    SELECT SCHEME, NETLOC, PATH, QS FROM URLs INNER JOIN Links \n",
    "    ON Links.FK = URLs.PK\n",
    "    WHERE Links.VISITED = 0\n",
    "    ORDER BY Links.REGDATE ASC\n",
    "    LIMIT 0,10\n",
    "''')"
   ]
  },
  {
   "cell_type": "code",
   "execution_count": 58,
   "id": "d797ed34-6b20-4e04-b976-3b5174e3b5c4",
   "metadata": {},
   "outputs": [],
   "source": [
    "from bs4 import BeautifulSoup"
   ]
  },
  {
   "cell_type": "code",
   "execution_count": 59,
   "id": "a90ea66e-1586-437d-889b-5d044059f483",
   "metadata": {},
   "outputs": [
    {
     "name": "stdout",
     "output_type": "stream",
     "text": [
      "(1, 1, 'https', 'search.naver.com', '/search.naver', 'where=nexearch&sm=top_hty&fbm=0&ie=utf8&query=수지')\n",
      "https://search.naver.com/search.naver?where=nexearch&sm=top_hty&fbm=0&ie=utf8&query=수지\n"
     ]
    },
    {
     "ename": "NameError",
     "evalue": "name 'Beautifulsoup' is not defined",
     "output_type": "error",
     "traceback": [
      "\u001b[0;31m---------------------------------------------------------------------------\u001b[0m",
      "\u001b[0;31mNameError\u001b[0m                                 Traceback (most recent call last)",
      "Cell \u001b[0;32mIn[59], line 38\u001b[0m\n\u001b[1;32m     35\u001b[0m \u001b[38;5;66;03m# 응답이 성공적이고, 내용이 text 또는 html일 때\u001b[39;00m\n\u001b[1;32m     36\u001b[0m \u001b[38;5;28;01mif\u001b[39;00m resp\u001b[38;5;241m.\u001b[39mstatus_code \u001b[38;5;241m==\u001b[39m  \u001b[38;5;241m200\u001b[39m \u001b[38;5;129;01mand\u001b[39;00m\\\n\u001b[1;32m     37\u001b[0m    re\u001b[38;5;241m.\u001b[39msearch(\u001b[38;5;124mr\u001b[39m\u001b[38;5;124m'\u001b[39m\u001b[38;5;124mtext\u001b[39m\u001b[38;5;124m\\\u001b[39m\u001b[38;5;124m/html\u001b[39m\u001b[38;5;124m'\u001b[39m, resp\u001b[38;5;241m.\u001b[39mheaders[\u001b[38;5;124m'\u001b[39m\u001b[38;5;124mcontent-type\u001b[39m\u001b[38;5;124m'\u001b[39m]):\n\u001b[0;32m---> 38\u001b[0m       dom \u001b[38;5;241m=\u001b[39m \u001b[43mBeautifulsoup\u001b[49m(resp\u001b[38;5;241m.\u001b[39mtext)\n\u001b[1;32m     39\u001b[0m       \u001b[38;5;66;03m# dom.select('a[href], iframe[src]')\u001b[39;00m\n\u001b[1;32m     40\u001b[0m       \u001b[38;5;28;01mfor\u001b[39;00m tag \u001b[38;5;129;01min\u001b[39;00m dom\u001b[38;5;241m.\u001b[39mselect(\u001b[38;5;124m'\u001b[39m\u001b[38;5;124ma[href], iframe[src]\u001b[39m\u001b[38;5;124m'\u001b[39m):\n",
      "\u001b[0;31mNameError\u001b[0m: name 'Beautifulsoup' is not defined"
     ]
    }
   ],
   "source": [
    "from requests.compat import urlparse, urlunparse, urljoin #urlunparse:url다시합치기\n",
    "from requests import get\n",
    "import re\n",
    "\n",
    "\n",
    "# 왜 무한반복하는 거지?\n",
    "while True:\n",
    "    # ORDER BY ASC => Queue\n",
    "    # 아직 방문 안한 url들을 받아오기\n",
    "    cur.execute('''\n",
    "        SELECT Links.PK, Links.FK, SCHEME, NETLOC, PATH, QS FROM URLs INNER JOIN Links \n",
    "        ON Links.FK = URLs.PK\n",
    "        WHERE Links.VISITED = 0\n",
    "        ORDER BY Links.REGDATE ASC\n",
    "        LIMIT 0,10\n",
    "    ''')\n",
    "    \n",
    "    # Links.PK => 어느 사이트에서 왔는가\n",
    "    # Urls.PK => 수집했는지 여부, 업데이트용\n",
    "    # Urls.FK => 수집했는지 여부, 업데이트용\n",
    "    \n",
    "    urls = cur.fetchall()\n",
    "\n",
    "    if len(urls) == 0:\n",
    "        break\n",
    "\n",
    "    # 모든 urls들이 없어질 때까지 반복하기\n",
    "    while urls:\n",
    "        url_seg = urls.pop(0)\n",
    "        print(url_seg)\n",
    "        url = urlunparse((url_seg[2], url_seg[3], url_seg[4], None, url_seg[5], None))\n",
    "        print(url)\n",
    "\n",
    "        resp = get(url)\n",
    "        # 응답이 성공적이고, 내용이 text 또는 html일 때\n",
    "        if resp.status_code ==  200 and\\\n",
    "           re.search(r'text\\/html', resp.headers['content-type']):\n",
    "              dom = Beautifulsoup(resp.text)\n",
    "              # dom.select('a[href], iframe[src]')\n",
    "              for tag in dom.select('a[href], iframe[src]'):\n",
    "                  link = tag.attrs['href' if tag.has_attr('href') else 'src']\n",
    "                  newLink = urljoin(url, link)\n",
    "\n",
    "                  # newlink_seg의 net loc있는지 확인 PK 선택\n",
    "                  newlink_seg = urlparse(newLink)\n",
    "                  cur.execute('SELECT PK FROM URLs WHERE NETLOC=?',(newlink_seg.netloc,))\n",
    "                  temp = cur.fetchone()\n",
    "\n",
    "############### 여기 부터 다시 보기\n",
    "                  if not temp:\n",
    "                      cur.execute('INSERT INTO URLs (SCHEME, NETLOC) VALUES(?,?)', url_seg[:2])\n",
    "                  \n",
    "                  cur.execute('SELECT PK FROM URLs WHERE NETLOC=?',(url_seg.netloc,))\n",
    "                  PK = cur.fetchone()[0]\n",
    "\n",
    "                  \n",
    "            "
   ]
  },
  {
   "cell_type": "code",
   "execution_count": 35,
   "id": "73c581d7-789d-45d0-bf8e-96b3d8849683",
   "metadata": {},
   "outputs": [],
   "source": [
    "# URLs 들어간 내용 확인하기\n",
    "# Links Visited 내용 확인하기"
   ]
  },
  {
   "cell_type": "code",
   "execution_count": 60,
   "id": "8df2dc13-48ab-4011-819e-3100a3788a54",
   "metadata": {},
   "outputs": [],
   "source": [
    "# 1번 도메인의 outbound link의 수\n",
    "\n",
    "# 1번 도메인의 outbound를 도메인별로 구분한 수(도메인 입장 inbound)\n",
    "# 레퍼런스가 1인 것을 찾아내서, 각 link의 inbound를 전체 link 수로 나누면 PR(페이지 랭크) 구해진다.\n",
    "\n",
    "d = .875\n",
    "PR(B) = (1-d) + d*(B/A)\n",
    "        .15 + .85      = [0~1]  # 정규화 , 확률\n",
    "                                # 확률이 나오면 그다음 부터는 계산을 할 수 있다.\n",
    "\n",
    "# 이렇게 링크들을 수집하면, \n",
    "# 링크분석, \n",
    "# 지난주 내용을 적용할 수도 있다."
   ]
  },
  {
   "cell_type": "code",
   "execution_count": null,
   "id": "b79c1092-eaea-441d-bf20-a546628dda4f",
   "metadata": {},
   "outputs": [],
   "source": []
  }
 ],
 "metadata": {
  "kernelspec": {
   "display_name": "Python 3 (ipykernel)",
   "language": "python",
   "name": "python3"
  },
  "language_info": {
   "codemirror_mode": {
    "name": "ipython",
    "version": 3
   },
   "file_extension": ".py",
   "mimetype": "text/x-python",
   "name": "python",
   "nbconvert_exporter": "python",
   "pygments_lexer": "ipython3",
   "version": "3.11.8"
  }
 },
 "nbformat": 4,
 "nbformat_minor": 5
}
