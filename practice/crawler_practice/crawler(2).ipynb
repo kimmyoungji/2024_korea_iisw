{
 "cells": [
  {
   "cell_type": "code",
   "execution_count": 1,
   "id": "645452ba-3948-4469-b75c-e8f0f334f88e",
   "metadata": {},
   "outputs": [
    {
     "ename": "SyntaxError",
     "evalue": "invalid syntax (4003628311.py, line 1)",
     "output_type": "error",
     "traceback": [
      "\u001b[0;36m  Cell \u001b[0;32mIn[1], line 1\u001b[0;36m\u001b[0m\n\u001b[0;31m    CSSOM => CSS Rules => Selector(*)\u001b[0m\n\u001b[0m           ^\u001b[0m\n\u001b[0;31mSyntaxError\u001b[0m\u001b[0;31m:\u001b[0m invalid syntax\n"
     ]
    }
   ],
   "source": [
    "CSSOM => CSS Rules => Selector(*)\n",
    ":지칭, 구조, 관계 => find*\n",
    "\n",
    "가상선택자\n",
    "#아이디, .클래스, .클래스.클래스, 태그이름#아이디, #아이디.클래스\n",
    "(주의) 띄어쓰기는 자손, 자식 >, 바로다음형제 +, 다음 형제노드들 ~\n",
    ":has, :is, :nth-child(같은 부모를 공유하는 자식들의 순번), :nth-of-type(같은 종류의 태그 중 순번)\n",
    "           :nth-child(1) => first-child\n",
    "           :nth-child(-1) => last-child\n",
    "\n",
    "직접적용해보자. 지금은 누구나 할 수있고, 배울 수 있게 되었다.\n",
    "KT 센터장님 - 해외 물건 떼어다가 파는 사람이 있었는데, 크롤링을 통해 구매대행 자동화함.\n",
    "익숙해지기만 하면 많은 것들을 해볼 수 있다.\n",
    "---\n",
    "크롤러란\n",
    ":link를 따라다니면서, 웹페이지에 무슨 내용이 있었는지 수집(index/indexing/scraping) + 다음 link를 찾아 또 따라다니는\n",
    ":Tree(BFS, DFS) => link를 어떻게 찾나? => 정규화 => 다음번 방문할 link(방문한 곳, 방문할 곳에 포함되지 않는 link)\n",
    "=> focused crawling(*) + 스크래핑 + DB(다음 주 월요일)\n",
    "=> (수지 1,2,3,4,5,6...) 수집한 내용 중에서 우선순위를 매겨야한다. citation(href;linking) => PageRank\n",
    "\n",
    "---\n",
    "딥러닝의 역사를 알면 좋다.\n",
    "세상은 강약약강, 세상은 불공평하다.\n",
    "이걸 교육을 하면서도 잰 안될꺼야라고 생각한다.\n",
    "심리학과에서는 사람은 왜 이행동을 할까 하고 사람에 대해 연구하는 학과이다. -> 그중 인지 심리학 -> 인지언어 심리학\n",
    "교수님 VS 선생님\n",
    "인지언어 심리학 -> 우리도 우리를 모른다 -> 그럼 어떻게 인공지능이 인간을 알수 있겠는가?\n",
    "\n",
    "어제 만든 크롤러에 스택을 사용했다.\n",
    "---"
   ]
  },
  {
   "cell_type": "code",
   "execution_count": 157,
   "id": "81119cb2-0503-40a9-9c2c-ae3e43572d10",
   "metadata": {},
   "outputs": [],
   "source": [
    "from requests.compat import urlparse\n",
    "from requests import get\n",
    "from urllib.parse import urljoin\n",
    "ua = \"Mozilla/5.0 (Macintosh; Intel Mac OS X 10_15_7) AppleWebKit/537.36 (KHTML, like Gecko) Chrome/122.0.0.0 Safari/537.36\"\n",
    "\n",
    "def canFetch(url, path):\n",
    "    # disallowList = list()\n",
    "    resp = get(urljoin(url, '/robots.txt'))\n",
    "    \n",
    "    if resp.status_code != 200:\n",
    "        return True\n",
    "\n",
    "    disallowList = [link for link in re.findall(r'Disallow\\s*:\\s*(.+)',resp.text, re.IGNORECASE | re.MULTILINE)]\n",
    "\n",
    "    if urlparse(path).path in disallowList:\n",
    "        return False\n",
    "\n",
    "    return True\n",
    "\n",
    "# canFetch('https://lms.sunde41.net','/')"
   ]
  },
  {
   "cell_type": "code",
   "execution_count": 158,
   "id": "5366a138-c4b0-4aee-b6f9-90019759dcf8",
   "metadata": {},
   "outputs": [],
   "source": [
    "from requests import request\n",
    "from requests.exceptions import HTTPError\n",
    "from time import sleep\n",
    "\n",
    "def download(url, params={}, data={}, headers={}, method=\"GET\", retries=3):\n",
    "    # if not canFetch(url, url):\n",
    "    #     print('수집하면 안됨')\n",
    "    resp = request(method, url, params=params, data=data, headers=headers)\n",
    "    try:\n",
    "        resp.raise_for_status()\n",
    "    except HTTPError as e:\n",
    "        if 499 < resp.status_code and retries > 0:\n",
    "            print('재시도 중')\n",
    "            sleep(5)\n",
    "            return download(url, params, data, headers, method, retries=1 )\n",
    "        else: \n",
    "            print(e.response.status_code)\n",
    "            print(e.request.headers)\n",
    "            print(e.response.headers)\n",
    "            return None\n",
    "    return resp"
   ]
  },
  {
   "cell_type": "code",
   "execution_count": 179,
   "id": "3670d81a-4414-4017-9f49-468fde344fa6",
   "metadata": {},
   "outputs": [
    {
     "name": "stdout",
     "output_type": "stream",
     "text": [
      "13 1\n",
      "12 2\n",
      "11 3\n",
      "10 4\n",
      "9 5\n",
      "8 6\n",
      "7 7\n",
      "55 8\n",
      "55 9\n",
      "54 10\n",
      "54 11\n",
      "53 12\n",
      "54 13\n",
      "53 14\n"
     ]
    },
    {
     "ename": "AttributeError",
     "evalue": "'NoneType' object has no attribute 'group'",
     "output_type": "error",
     "traceback": [
      "\u001b[0;31m---------------------------------------------------------------------------\u001b[0m",
      "\u001b[0;31mAttributeError\u001b[0m                            Traceback (most recent call last)",
      "Cell \u001b[0;32mIn[179], line 53\u001b[0m\n\u001b[1;32m     51\u001b[0m ext \u001b[38;5;241m=\u001b[39m re\u001b[38;5;241m.\u001b[39msearch(\u001b[38;5;124mr\u001b[39m\u001b[38;5;124m'\u001b[39m\u001b[38;5;124mimage\u001b[39m\u001b[38;5;124m\\\u001b[39m\u001b[38;5;124m/(\u001b[39m\u001b[38;5;124m\\\u001b[39m\u001b[38;5;124mw+);?\u001b[39m\u001b[38;5;124m'\u001b[39m,resp\u001b[38;5;241m.\u001b[39mheaders[\u001b[38;5;124m'\u001b[39m\u001b[38;5;124mcontent-type\u001b[39m\u001b[38;5;124m'\u001b[39m])\u001b[38;5;241m.\u001b[39mgroup(\u001b[38;5;241m1\u001b[39m)\n\u001b[1;32m     52\u001b[0m \u001b[38;5;66;03m# 파일이름 고치세요\u001b[39;00m\n\u001b[0;32m---> 53\u001b[0m fname \u001b[38;5;241m=\u001b[39m \u001b[43mre\u001b[49m\u001b[38;5;241;43m.\u001b[39;49m\u001b[43msearch\u001b[49m\u001b[43m(\u001b[49m\u001b[38;5;124;43mr\u001b[39;49m\u001b[38;5;124;43m'\u001b[39;49m\u001b[38;5;124;43m/(\u001b[39;49m\u001b[38;5;124;43m\\\u001b[39;49m\u001b[38;5;124;43mw+\u001b[39;49m\u001b[38;5;124;43m\\\u001b[39;49m\u001b[38;5;124;43m.jpg|jpeg|png)\u001b[39;49m\u001b[38;5;124;43m'\u001b[39;49m\u001b[43m,\u001b[49m\u001b[43murl\u001b[49m\u001b[43m[\u001b[49m\u001b[38;5;124;43m'\u001b[39;49m\u001b[38;5;124;43mlink\u001b[39;49m\u001b[38;5;124;43m'\u001b[39;49m\u001b[43m]\u001b[49m\u001b[43m)\u001b[49m\u001b[38;5;241;43m.\u001b[39;49m\u001b[43mgroup\u001b[49m(\u001b[38;5;241m1\u001b[39m)\n\u001b[1;32m     54\u001b[0m \u001b[38;5;28;01mwith\u001b[39;00m \u001b[38;5;28mopen\u001b[39m(NEWS_IMG\u001b[38;5;241m+\u001b[39m\u001b[38;5;124m'\u001b[39m\u001b[38;5;124m/\u001b[39m\u001b[38;5;124m'\u001b[39m\u001b[38;5;241m+\u001b[39mfname\u001b[38;5;241m+\u001b[39m\u001b[38;5;124m'\u001b[39m\u001b[38;5;124m.\u001b[39m\u001b[38;5;124m'\u001b[39m\u001b[38;5;241m+\u001b[39mext, \u001b[38;5;124m'\u001b[39m\u001b[38;5;124mwb\u001b[39m\u001b[38;5;124m'\u001b[39m) \u001b[38;5;28;01mas\u001b[39;00m fp:\n\u001b[1;32m     55\u001b[0m     fp\u001b[38;5;241m.\u001b[39mwrite(resp\u001b[38;5;241m.\u001b[39mcontent)\n",
      "\u001b[0;31mAttributeError\u001b[0m: 'NoneType' object has no attribute 'group'"
     ]
    }
   ],
   "source": [
    "import re\n",
    "from bs4 import BeautifulSoup\n",
    "from urllib.parse import urlparse\n",
    "\n",
    "###### focused Crawling 전략\n",
    "# 전략1. depth 제한하기\n",
    "# 전략2. domain 제한하기\n",
    "# 전략3. HTML Tags 제한하기\n",
    "# 전략4. 만들어내기..\n",
    "\n",
    "#           구글검색결과             depth = 1\n",
    "# 1:이미지 2:블로그 3:뉴스 4:카페 5 6  depth = 2\n",
    "######\n",
    "\n",
    "URLs = []\n",
    "Visited = []\n",
    "Skipped = []\n",
    "\n",
    "# 전략1. 깊이로 제한\n",
    "depth = 5\n",
    "\n",
    "# 전략2. 도메인으로 제한\n",
    "optin = ['news.naver.com',\"n.news.naver.com\",\"imgnews.pstatic.net\"]\n",
    "optout = ['v.daum.net']\n",
    "\n",
    "# 수정\n",
    "# URLs.append({'link':'https://search.daum.net/search?q=수지','depth':0})\n",
    "URLs.append({'link':'https://news.naver.com','depth':0})\n",
    "\n",
    "NEWS_TEXT = './naver_news'\n",
    "NEWS_IMG = \"./naver_img\"\n",
    "\n",
    "while URLs:\n",
    "    url = URLs.pop(-1) # 0:FIFO:Queue:BFS, -1:LIFO:STACK:DFS\n",
    "\n",
    "    # 전략1. 깊이로 제한\n",
    "    if url['depth'] > depth:\n",
    "        Skipped.append(url['link'])  #DB를 사용하면 칼럼하나를 사용하여 표시하면 된다.\n",
    "        continue\n",
    "\n",
    "    ### 여기부터의 코드를 함수화 시키면 여러개의 스레드를 사용하여 실행시킬 수 있다.\n",
    "    Visited.append(url['link'])\n",
    "    \n",
    "    resp = download(url['link'], headers={\"user-agent\":ua})\n",
    "    \n",
    "    if resp is None:\n",
    "        continue\n",
    "\n",
    "    # Scraping\n",
    "    if re.search(r'image\\/(\\w+);?',resp.headers['content-type']):\n",
    "        ext = re.search(r'image\\/(\\w+);?',resp.headers['content-type']).group(1)\n",
    "        # 파일이름 고치세요\n",
    "        fname = re.search(r'/(\\w+\\.jpg|jpeg|png)',url['link']).group(1)\n",
    "        with open(NEWS_IMG+'/'+fname+'.'+ext, 'wb') as fp:\n",
    "            fp.write(resp.content)\n",
    "\n",
    "    # Crawling\n",
    "    if re.search(r'text\\/html', resp.headers['content-type']):\n",
    "        dom = BeautifulSoup(resp.text, \"html.parser\")\n",
    "        # 전략3. 뉴스인 경우 (HTML 요소로 제한)\n",
    "        # 1. 메뉴\n",
    "        linksA = dom.select('ul.Nlnb_menu_list li > a')\n",
    "        # 2. 뉴스\n",
    "        linksB = dom.select('[class$=\"_text\"] > a[href]:has(> strong)')\n",
    "        # 3. 뉴스 본문\n",
    "        linksC = dom.select('#dic_area a[href], #dic_area img[data-src]')\n",
    "        article = dom.select_one('#dic_area')\n",
    "\n",
    "        # Scraping for Indexing\n",
    "        if article:\n",
    "            with open(NEWS_TEXT+'/'+re.search(r'(\\d{10})$', url['link']).group(1)+'.txt','w',encoding='UTF-8') as fp:\n",
    "                fp.write(article.get_text())\n",
    "\n",
    "        for link in linksA+linksB+linksC:\n",
    "            if link.has_attr('href'):\n",
    "                newURL = link.attrs['href']\n",
    "            if link.has_attr('src'):\n",
    "                newURL = link.attrs['src']\n",
    "            if link.has_attr('data-src'):\n",
    "                newURL = link.attrs['data-src']\n",
    "        \n",
    "        # .sa|ss_text > a:has(\"> strong\") # 브라우저 console 창에서 확인할 수이 있다.\n",
    "        # jQuery 자바스크립트를 한번 감싸서 사용하기 편한기능을 제공하는 것.\n",
    "        # 최근에 다시 jQuery 쓰기시작하는 추세\n",
    "        \n",
    "        # for link in dom.select('''a[href], frame[src], iframe[src], img[src],\n",
    "        # audio[src], video[src], style[src], link[src]'''): # form['action']은?\n",
    "        #     newURL = link.attrs['href'] if link.has_attr('href') else link.attrs['src']\n",
    "\n",
    "            if not re.match(r'#|javascript|mailto|data', newURL): #data: base인코딩된 이미지데이터제외\n",
    "                # urljoin(url['link'], newURL)\n",
    "                normalizedURL = urljoin(url['link'], newURL) #수정\n",
    "\n",
    "                # 도메인 제한\n",
    "                if urlparse(normalizedURL).netloc not in optin:\n",
    "                    continue\n",
    "                # if urlparse(normalizedURL).netloc not in optout:\n",
    "                #     continue\n",
    "                \n",
    "                if normalizedURL not in Visited and \\\n",
    "                   normalizedURL not in [url['link'] for url in URLs] and \\\n",
    "                   normalizedURL not in Skipped:\n",
    "                    URLs.append({'link':normalizedURL, 'depth':url['depth']+1}) #수정\n",
    "                    \n",
    "    print(len(URLs), len(Visited))"
   ]
  },
  {
   "cell_type": "code",
   "execution_count": 156,
   "id": "d3bdd55d-7399-4e7e-83be-ac53948db8b3",
   "metadata": {
    "scrolled": true
   },
   "outputs": [
    {
     "ename": "InvalidSchema",
     "evalue": "No connection adapters were found for \"{'link': 'https://news.naver.com/main/opinion/home.naver', 'depth': 2}\"",
     "output_type": "error",
     "traceback": [
      "\u001b[0;31m---------------------------------------------------------------------------\u001b[0m",
      "\u001b[0;31mInvalidSchema\u001b[0m                             Traceback (most recent call last)",
      "Cell \u001b[0;32mIn[156], line 4\u001b[0m\n\u001b[1;32m      1\u001b[0m \u001b[38;5;66;03m# 디버깅 방법!\u001b[39;00m\n\u001b[1;32m      2\u001b[0m \u001b[38;5;66;03m# url = \"https://news.naver.com\"\u001b[39;00m\n\u001b[1;32m      3\u001b[0m \u001b[38;5;66;03m# url = \"https://news.naver.com/section/104\"\u001b[39;00m\n\u001b[0;32m----> 4\u001b[0m resp \u001b[38;5;241m=\u001b[39m \u001b[43mget\u001b[49m\u001b[43m(\u001b[49m\u001b[43murl\u001b[49m\u001b[43m,\u001b[49m\u001b[43m \u001b[49m\u001b[43mheaders\u001b[49m\u001b[38;5;241;43m=\u001b[39;49m\u001b[43m{\u001b[49m\u001b[38;5;124;43m'\u001b[39;49m\u001b[38;5;124;43muser-agent\u001b[39;49m\u001b[38;5;124;43m'\u001b[39;49m\u001b[43m:\u001b[49m\u001b[43mua\u001b[49m\u001b[43m}\u001b[49m\u001b[43m)\u001b[49m\n\u001b[1;32m      5\u001b[0m dom \u001b[38;5;241m=\u001b[39m BeautifulSoup(resp\u001b[38;5;241m.\u001b[39mtext,\u001b[38;5;124m\"\u001b[39m\u001b[38;5;124mhtml.parser\u001b[39m\u001b[38;5;124m\"\u001b[39m)\n\u001b[1;32m      6\u001b[0m \u001b[38;5;66;03m# dom.select('ul.Nlnb_menu_list li > a')\u001b[39;00m\n",
      "File \u001b[0;32m~/2024_Korea_iisw/myvenv2/lib/python3.11/site-packages/requests/api.py:73\u001b[0m, in \u001b[0;36mget\u001b[0;34m(url, params, **kwargs)\u001b[0m\n\u001b[1;32m     62\u001b[0m \u001b[38;5;28;01mdef\u001b[39;00m \u001b[38;5;21mget\u001b[39m(url, params\u001b[38;5;241m=\u001b[39m\u001b[38;5;28;01mNone\u001b[39;00m, \u001b[38;5;241m*\u001b[39m\u001b[38;5;241m*\u001b[39mkwargs):\n\u001b[1;32m     63\u001b[0m \u001b[38;5;250m    \u001b[39m\u001b[38;5;124mr\u001b[39m\u001b[38;5;124;03m\"\"\"Sends a GET request.\u001b[39;00m\n\u001b[1;32m     64\u001b[0m \n\u001b[1;32m     65\u001b[0m \u001b[38;5;124;03m    :param url: URL for the new :class:`Request` object.\u001b[39;00m\n\u001b[0;32m   (...)\u001b[0m\n\u001b[1;32m     70\u001b[0m \u001b[38;5;124;03m    :rtype: requests.Response\u001b[39;00m\n\u001b[1;32m     71\u001b[0m \u001b[38;5;124;03m    \"\"\"\u001b[39;00m\n\u001b[0;32m---> 73\u001b[0m     \u001b[38;5;28;01mreturn\u001b[39;00m \u001b[43mrequest\u001b[49m\u001b[43m(\u001b[49m\u001b[38;5;124;43m\"\u001b[39;49m\u001b[38;5;124;43mget\u001b[39;49m\u001b[38;5;124;43m\"\u001b[39;49m\u001b[43m,\u001b[49m\u001b[43m \u001b[49m\u001b[43murl\u001b[49m\u001b[43m,\u001b[49m\u001b[43m \u001b[49m\u001b[43mparams\u001b[49m\u001b[38;5;241;43m=\u001b[39;49m\u001b[43mparams\u001b[49m\u001b[43m,\u001b[49m\u001b[43m \u001b[49m\u001b[38;5;241;43m*\u001b[39;49m\u001b[38;5;241;43m*\u001b[39;49m\u001b[43mkwargs\u001b[49m\u001b[43m)\u001b[49m\n",
      "File \u001b[0;32m~/2024_Korea_iisw/myvenv2/lib/python3.11/site-packages/requests/api.py:59\u001b[0m, in \u001b[0;36mrequest\u001b[0;34m(method, url, **kwargs)\u001b[0m\n\u001b[1;32m     55\u001b[0m \u001b[38;5;66;03m# By using the 'with' statement we are sure the session is closed, thus we\u001b[39;00m\n\u001b[1;32m     56\u001b[0m \u001b[38;5;66;03m# avoid leaving sockets open which can trigger a ResourceWarning in some\u001b[39;00m\n\u001b[1;32m     57\u001b[0m \u001b[38;5;66;03m# cases, and look like a memory leak in others.\u001b[39;00m\n\u001b[1;32m     58\u001b[0m \u001b[38;5;28;01mwith\u001b[39;00m sessions\u001b[38;5;241m.\u001b[39mSession() \u001b[38;5;28;01mas\u001b[39;00m session:\n\u001b[0;32m---> 59\u001b[0m     \u001b[38;5;28;01mreturn\u001b[39;00m \u001b[43msession\u001b[49m\u001b[38;5;241;43m.\u001b[39;49m\u001b[43mrequest\u001b[49m\u001b[43m(\u001b[49m\u001b[43mmethod\u001b[49m\u001b[38;5;241;43m=\u001b[39;49m\u001b[43mmethod\u001b[49m\u001b[43m,\u001b[49m\u001b[43m \u001b[49m\u001b[43murl\u001b[49m\u001b[38;5;241;43m=\u001b[39;49m\u001b[43murl\u001b[49m\u001b[43m,\u001b[49m\u001b[43m \u001b[49m\u001b[38;5;241;43m*\u001b[39;49m\u001b[38;5;241;43m*\u001b[39;49m\u001b[43mkwargs\u001b[49m\u001b[43m)\u001b[49m\n",
      "File \u001b[0;32m~/2024_Korea_iisw/myvenv2/lib/python3.11/site-packages/requests/sessions.py:589\u001b[0m, in \u001b[0;36mSession.request\u001b[0;34m(self, method, url, params, data, headers, cookies, files, auth, timeout, allow_redirects, proxies, hooks, stream, verify, cert, json)\u001b[0m\n\u001b[1;32m    584\u001b[0m send_kwargs \u001b[38;5;241m=\u001b[39m {\n\u001b[1;32m    585\u001b[0m     \u001b[38;5;124m\"\u001b[39m\u001b[38;5;124mtimeout\u001b[39m\u001b[38;5;124m\"\u001b[39m: timeout,\n\u001b[1;32m    586\u001b[0m     \u001b[38;5;124m\"\u001b[39m\u001b[38;5;124mallow_redirects\u001b[39m\u001b[38;5;124m\"\u001b[39m: allow_redirects,\n\u001b[1;32m    587\u001b[0m }\n\u001b[1;32m    588\u001b[0m send_kwargs\u001b[38;5;241m.\u001b[39mupdate(settings)\n\u001b[0;32m--> 589\u001b[0m resp \u001b[38;5;241m=\u001b[39m \u001b[38;5;28;43mself\u001b[39;49m\u001b[38;5;241;43m.\u001b[39;49m\u001b[43msend\u001b[49m\u001b[43m(\u001b[49m\u001b[43mprep\u001b[49m\u001b[43m,\u001b[49m\u001b[43m \u001b[49m\u001b[38;5;241;43m*\u001b[39;49m\u001b[38;5;241;43m*\u001b[39;49m\u001b[43msend_kwargs\u001b[49m\u001b[43m)\u001b[49m\n\u001b[1;32m    591\u001b[0m \u001b[38;5;28;01mreturn\u001b[39;00m resp\n",
      "File \u001b[0;32m~/2024_Korea_iisw/myvenv2/lib/python3.11/site-packages/requests/sessions.py:697\u001b[0m, in \u001b[0;36mSession.send\u001b[0;34m(self, request, **kwargs)\u001b[0m\n\u001b[1;32m    694\u001b[0m hooks \u001b[38;5;241m=\u001b[39m request\u001b[38;5;241m.\u001b[39mhooks\n\u001b[1;32m    696\u001b[0m \u001b[38;5;66;03m# Get the appropriate adapter to use\u001b[39;00m\n\u001b[0;32m--> 697\u001b[0m adapter \u001b[38;5;241m=\u001b[39m \u001b[38;5;28;43mself\u001b[39;49m\u001b[38;5;241;43m.\u001b[39;49m\u001b[43mget_adapter\u001b[49m\u001b[43m(\u001b[49m\u001b[43murl\u001b[49m\u001b[38;5;241;43m=\u001b[39;49m\u001b[43mrequest\u001b[49m\u001b[38;5;241;43m.\u001b[39;49m\u001b[43murl\u001b[49m\u001b[43m)\u001b[49m\n\u001b[1;32m    699\u001b[0m \u001b[38;5;66;03m# Start time (approximately) of the request\u001b[39;00m\n\u001b[1;32m    700\u001b[0m start \u001b[38;5;241m=\u001b[39m preferred_clock()\n",
      "File \u001b[0;32m~/2024_Korea_iisw/myvenv2/lib/python3.11/site-packages/requests/sessions.py:794\u001b[0m, in \u001b[0;36mSession.get_adapter\u001b[0;34m(self, url)\u001b[0m\n\u001b[1;32m    791\u001b[0m         \u001b[38;5;28;01mreturn\u001b[39;00m adapter\n\u001b[1;32m    793\u001b[0m \u001b[38;5;66;03m# Nothing matches :-/\u001b[39;00m\n\u001b[0;32m--> 794\u001b[0m \u001b[38;5;28;01mraise\u001b[39;00m InvalidSchema(\u001b[38;5;124mf\u001b[39m\u001b[38;5;124m\"\u001b[39m\u001b[38;5;124mNo connection adapters were found for \u001b[39m\u001b[38;5;132;01m{\u001b[39;00murl\u001b[38;5;132;01m!r}\u001b[39;00m\u001b[38;5;124m\"\u001b[39m)\n",
      "\u001b[0;31mInvalidSchema\u001b[0m: No connection adapters were found for \"{'link': 'https://news.naver.com/main/opinion/home.naver', 'depth': 2}\""
     ]
    }
   ],
   "source": [
    "# 디버깅 방법!\n",
    "# url = \"https://news.naver.com\"\n",
    "# url = \"https://news.naver.com/section/104\"\n",
    "resp = get(url, headers={'user-agent':ua})\n",
    "dom = BeautifulSoup(resp.text,\"html.parser\")\n",
    "# dom.select('ul.Nlnb_menu_list li > a')\n",
    "dom.select('[class$=\"_text\"] > a[href]:has(> strong)')\n",
    "\n",
    "# # 1. 메뉴\n",
    "#         linksA = dom.select('ul.Nlnb_menu_list li > a')\n",
    "#         # 2. 뉴스\n",
    "#         linksB = dom.select('[class$=\"_text\"] > a[href]:has(> strong)')\n",
    "#         # 3. 뉴스 본문\n",
    "#         linksC = dom.select('#dic_area a[href]')\n",
    "#         article = dom.select('#dic_area')\n",
    "#         print(\"왜 안나오징\",article)"
   ]
  },
  {
   "cell_type": "code",
   "execution_count": 162,
   "id": "12cfec17-5678-48a3-858d-c567be973080",
   "metadata": {
    "scrolled": true
   },
   "outputs": [
    {
     "ename": "IndexError",
     "evalue": "list index out of range",
     "output_type": "error",
     "traceback": [
      "\u001b[0;31m---------------------------------------------------------------------------\u001b[0m",
      "\u001b[0;31mIndexError\u001b[0m                                Traceback (most recent call last)",
      "Cell \u001b[0;32mIn[162], line 1\u001b[0m\n\u001b[0;32m----> 1\u001b[0m \u001b[38;5;28mprint\u001b[39m(\u001b[38;5;28mlen\u001b[39m(URLs),\u001b[38;5;28mlen\u001b[39m(Visited),\u001b[38;5;28mlen\u001b[39m(Skipped),\u001b[43mURLs\u001b[49m\u001b[43m[\u001b[49m\u001b[38;5;241;43m-\u001b[39;49m\u001b[38;5;241;43m1\u001b[39;49m\u001b[43m]\u001b[49m,Visited[\u001b[38;5;241m-\u001b[39m\u001b[38;5;241m1\u001b[39m],Skipped[\u001b[38;5;241m-\u001b[39m\u001b[38;5;241m1\u001b[39m])\n",
      "\u001b[0;31mIndexError\u001b[0m: list index out of range"
     ]
    }
   ],
   "source": [
    "print(len(URLs),len(Visited),len(Skipped),URLs[-1],Visited[-1],Skipped[-1])"
   ]
  },
  {
   "cell_type": "code",
   "execution_count": 98,
   "id": "485be515-aaf5-4a41-b962-3c0d82749671",
   "metadata": {},
   "outputs": [],
   "source": [
    "from os import mkdir, listdir"
   ]
  },
  {
   "cell_type": "code",
   "execution_count": 122,
   "id": "95080aa7-0866-4d09-ae69-4e2bc5e6228f",
   "metadata": {},
   "outputs": [
    {
     "name": "stdout",
     "output_type": "stream",
     "text": [
      "The history saving thread hit an unexpected error (OperationalError('attempt to write a readonly database')).History will not be written to the database.\n"
     ]
    },
    {
     "data": {
      "text/plain": [
       "['myfirstdjango',\n",
       " 'Untitled1.ipynb',\n",
       " '.DS_Store',\n",
       " '0313_http.ipynb',\n",
       " 'test2.html',\n",
       " 'Untitled.ipynb',\n",
       " 'myvenv2',\n",
       " '\\x08crawler.ipynb',\n",
       " 'crawler(2).ipynb',\n",
       " '0314_http.ipynb',\n",
       " 'naver_news',\n",
       " 'idea.md',\n",
       " 'class_material',\n",
       " 'README.md',\n",
       " 'img4.jpg',\n",
       " 'test.html',\n",
       " '.gitignore',\n",
       " '.ipynb_checkpoints',\n",
       " '.git',\n",
       " 'practice',\n",
       " 'crawler(1).ipynb']"
      ]
     },
     "execution_count": 122,
     "metadata": {},
     "output_type": "execute_result"
    }
   ],
   "source": [
    "listdir('.')"
   ]
  },
  {
   "cell_type": "code",
   "execution_count": 100,
   "id": "054cb7bd-123b-47e9-9be9-b539aef77c51",
   "metadata": {},
   "outputs": [],
   "source": [
    "mkdir('./naver_news')"
   ]
  },
  {
   "cell_type": "code",
   "execution_count": 123,
   "id": "616810c1-0f0f-4987-bfbc-4620cea631d8",
   "metadata": {},
   "outputs": [
    {
     "data": {
      "text/plain": [
       "'/Users/myoungjikim/2024_Korea_iisw'"
      ]
     },
     "execution_count": 123,
     "metadata": {},
     "output_type": "execute_result"
    }
   ],
   "source": [
    "pwd"
   ]
  },
  {
   "cell_type": "code",
   "execution_count": 143,
   "id": "9795b2bd-b8be-45b4-a81a-9af4720afe12",
   "metadata": {},
   "outputs": [
    {
     "data": {
      "text/plain": [
       "int"
      ]
     },
     "execution_count": 143,
     "metadata": {},
     "output_type": "execute_result"
    }
   ],
   "source": [
    "[url['link'] for url in URLs]"
   ]
  },
  {
   "cell_type": "code",
   "execution_count": 151,
   "id": "d4061c0b-b18b-4128-9ece-be5262cf3841",
   "metadata": {},
   "outputs": [
    {
     "data": {
      "text/plain": [
       "'jpeg'"
      ]
     },
     "execution_count": 151,
     "metadata": {},
     "output_type": "execute_result"
    }
   ],
   "source": [
    "resp = get(\"https://imgnews.pstatic.net/image/001/2024/03/15/PYH2020111815300005600_P4_20240315082106032.jpg?type=w647\")\n",
    "re.search(r'image\\/(\\w+);?',resp.headers['content-type']).group(1)"
   ]
  },
  {
   "cell_type": "code",
   "execution_count": 154,
   "id": "31a15f34-60a8-4470-a732-735a9f808ffe",
   "metadata": {},
   "outputs": [
    {
     "data": {
      "text/plain": [
       "('PYH2020111815300005600_P4_20240315082106032.jpg',)"
      ]
     },
     "execution_count": 154,
     "metadata": {},
     "output_type": "execute_result"
    }
   ],
   "source": [
    "re.search(r'/(\\w+\\.jpg|jpeg|png|bmp|gif)','https://imgnews.pstatic.net/image/001/2024/03/15/PYH2020111815300005600_P4_20240315082106032.jpg?type=w647')\\\n",
    ".groups(1)"
   ]
  },
  {
   "cell_type": "code",
   "execution_count": 173,
   "id": "ed5b8ed0-9179-4d37-80d1-9bb3be617a22",
   "metadata": {},
   "outputs": [
    {
     "data": {
      "text/plain": [
       "[{'link': 'https://n.news.naver.com/mnews/article/001/0014565620', 'depth': 2},\n",
       " {'link': 'https://n.news.naver.com/mnews/article/081/0003437403', 'depth': 2},\n",
       " {'link': 'https://n.news.naver.com/mnews/article/008/0005012334', 'depth': 2},\n",
       " {'link': 'https://n.news.naver.com/mnews/article/016/0002280723', 'depth': 2},\n",
       " {'link': 'https://n.news.naver.com/mnews/article/001/0014565542', 'depth': 2},\n",
       " {'link': 'https://n.news.naver.com/mnews/article/016/0002280598', 'depth': 2},\n",
       " {'link': 'https://n.news.naver.com/mnews/article/016/0002280974', 'depth': 2},\n",
       " {'link': 'https://n.news.naver.com/mnews/article/047/0002425929', 'depth': 2},\n",
       " {'link': 'https://n.news.naver.com/mnews/article/002/0002323603', 'depth': 2},\n",
       " {'link': 'https://n.news.naver.com/mnews/article/469/0000790626', 'depth': 2},\n",
       " {'link': 'https://n.news.naver.com/mnews/article/123/0002329725', 'depth': 2},\n",
       " {'link': 'https://n.news.naver.com/mnews/article/123/0002329724', 'depth': 2},\n",
       " {'link': 'https://n.news.naver.com/mnews/article/047/0002425923', 'depth': 2},\n",
       " {'link': 'https://n.news.naver.com/mnews/article/469/0000790622', 'depth': 2},\n",
       " {'link': 'https://n.news.naver.com/mnews/article/003/0012428832', 'depth': 2},\n",
       " {'link': 'https://n.news.naver.com/mnews/article/021/0002626646', 'depth': 2},\n",
       " {'link': 'https://n.news.naver.com/mnews/article/055/0001138948', 'depth': 2},\n",
       " {'link': 'https://n.news.naver.com/mnews/article/119/0002809737', 'depth': 2},\n",
       " {'link': 'https://n.news.naver.com/mnews/article/016/0002280956', 'depth': 2},\n",
       " {'link': 'https://n.news.naver.com/mnews/article/123/0002329710', 'depth': 2},\n",
       " {'link': 'https://n.news.naver.com/mnews/article/055/0001138939', 'depth': 2},\n",
       " {'link': 'https://n.news.naver.com/mnews/article/052/0002010516', 'depth': 2},\n",
       " {'link': 'https://n.news.naver.com/mnews/article/422/0000649894', 'depth': 2},\n",
       " {'link': 'https://n.news.naver.com/mnews/article/123/0002329708', 'depth': 2},\n",
       " {'link': 'https://n.news.naver.com/mnews/article/016/0002280909', 'depth': 2},\n",
       " {'link': 'https://n.news.naver.com/mnews/article/047/0002425909', 'depth': 2},\n",
       " {'link': 'https://n.news.naver.com/mnews/article/014/0005156721', 'depth': 2},\n",
       " {'link': 'https://n.news.naver.com/mnews/article/006/0000122912', 'depth': 2},\n",
       " {'link': 'https://n.news.naver.com/mnews/article/088/0000867435', 'depth': 2},\n",
       " {'link': 'https://n.news.naver.com/mnews/article/052/0002010503', 'depth': 2},\n",
       " {'link': 'https://n.news.naver.com/mnews/article/422/0000649893', 'depth': 2},\n",
       " {'link': 'https://n.news.naver.com/mnews/article/052/0002010506', 'depth': 2},\n",
       " {'link': 'https://n.news.naver.com/mnews/article/055/0001138929', 'depth': 2},\n",
       " {'link': 'https://n.news.naver.com/mnews/article/016/0002280870', 'depth': 2},\n",
       " {'link': 'https://n.news.naver.com/mnews/article/047/0002425901', 'depth': 2},\n",
       " {'link': 'https://n.news.naver.com/mnews/article/586/0000074589', 'depth': 2},\n",
       " {'link': 'https://n.news.naver.com/mnews/article/022/0003914325', 'depth': 2},\n",
       " {'link': 'https://n.news.naver.com/mnews/article/437/0000384072', 'depth': 2},\n",
       " {'link': 'https://n.news.naver.com/mnews/article/586/0000074585', 'depth': 2},\n",
       " {'link': 'https://n.news.naver.com/mnews/article/437/0000384068', 'depth': 2},\n",
       " {'link': 'https://n.news.naver.com/mnews/article/366/0000978093', 'depth': 2},\n",
       " {'link': 'https://n.news.naver.com/mnews/article/052/0002010481', 'depth': 2},\n",
       " {'link': 'https://n.news.naver.com/mnews/article/016/0002280855', 'depth': 2},\n",
       " {'link': 'https://n.news.naver.com/mnews/article/018/0005692709', 'depth': 2},\n",
       " {'link': 'https://n.news.naver.com/mnews/article/417/0000989047', 'depth': 2},\n",
       " {'link': 'https://n.news.naver.com/mnews/article/018/0005691967', 'depth': 2},\n",
       " {'link': 'https://n.news.naver.com/mnews/article/016/0002280992', 'depth': 2},\n",
       " {'link': 'https://n.news.naver.com/mnews/article/056/0011681842', 'depth': 2},\n",
       " {'link': 'https://n.news.naver.com/mnews/article/055/0001138940', 'depth': 2},\n",
       " {'link': 'https://n.news.naver.com/mnews/article/003/0012427064', 'depth': 2},\n",
       " {'link': 'https://n.news.naver.com/mnews/article/052/0002010449', 'depth': 2},\n",
       " {'link': 'https://n.news.naver.com/mnews/article/003/0012428693', 'depth': 2},\n",
       " {'link': 'https://n.news.naver.com/mnews/article/123/0002329706', 'depth': 2},\n",
       " {'link': 'https://n.news.naver.com/mnews/article/277/0005392682', 'depth': 2},\n",
       " {'link': 'https://n.news.naver.com/mnews/article/015/0004960400', 'depth': 2},\n",
       " {'link': 'https://n.news.naver.com/mnews/article/277/0005392681', 'depth': 2},\n",
       " {'link': 'https://n.news.naver.com/mnews/article/009/0005272888', 'depth': 2},\n",
       " {'link': 'https://n.news.naver.com/mnews/article/081/0003437426', 'depth': 2},\n",
       " {'link': 'https://n.news.naver.com/mnews/article/215/0001153033', 'depth': 2},\n",
       " {'link': 'https://n.news.naver.com/mnews/article/008/0005012342', 'depth': 2},\n",
       " {'link': 'https://n.news.naver.com/mnews/article/421/0007413755', 'depth': 2},\n",
       " {'link': 'https://n.news.naver.com/mnews/article/215/0001153032', 'depth': 2},\n",
       " {'link': 'https://n.news.naver.com/mnews/article/015/0004960397', 'depth': 2},\n",
       " {'link': 'https://n.news.naver.com/mnews/article/293/0000052588', 'depth': 2},\n",
       " {'link': 'https://n.news.naver.com/mnews/article/015/0004960394', 'depth': 2},\n",
       " {'link': 'https://n.news.naver.com/mnews/article/215/0001153031', 'depth': 2},\n",
       " {'link': 'https://n.news.naver.com/mnews/article/001/0014565712', 'depth': 2},\n",
       " {'link': 'https://n.news.naver.com/mnews/article/001/0014565709', 'depth': 2},\n",
       " {'link': 'https://n.news.naver.com/mnews/article/366/0000978126', 'depth': 2},\n",
       " {'link': 'https://n.news.naver.com/mnews/article/014/0005156756', 'depth': 2},\n",
       " {'link': 'https://n.news.naver.com/mnews/article/079/0003874244', 'depth': 2},\n",
       " {'link': 'https://n.news.naver.com/mnews/article/366/0000978125', 'depth': 2},\n",
       " {'link': 'https://n.news.naver.com/mnews/article/421/0007413718', 'depth': 2},\n",
       " {'link': 'https://n.news.naver.com/mnews/article/374/0000374746', 'depth': 2},\n",
       " {'link': 'https://n.news.naver.com/mnews/article/021/0002626669', 'depth': 2},\n",
       " {'link': 'https://n.news.naver.com/mnews/article/021/0002626668', 'depth': 2},\n",
       " {'link': 'https://n.news.naver.com/mnews/article/119/0002809741', 'depth': 2},\n",
       " {'link': 'https://n.news.naver.com/mnews/article/586/0000074602', 'depth': 2},\n",
       " {'link': 'https://n.news.naver.com/mnews/article/374/0000374744', 'depth': 2},\n",
       " {'link': 'https://n.news.naver.com/mnews/article/374/0000374743', 'depth': 2},\n",
       " {'link': 'https://n.news.naver.com/mnews/article/021/0002626658', 'depth': 2},\n",
       " {'link': 'https://n.news.naver.com/mnews/article/021/0002626654', 'depth': 2},\n",
       " {'link': 'https://n.news.naver.com/mnews/article/123/0002329722', 'depth': 2},\n",
       " {'link': 'https://n.news.naver.com/mnews/article/018/0005692834', 'depth': 2},\n",
       " {'link': 'https://n.news.naver.com/mnews/article/374/0000374741', 'depth': 2},\n",
       " {'link': 'https://n.news.naver.com/mnews/article/081/0003437420', 'depth': 2},\n",
       " {'link': 'https://n.news.naver.com/mnews/article/374/0000374736', 'depth': 2},\n",
       " {'link': 'https://n.news.naver.com/mnews/article/016/0002280993', 'depth': 2},\n",
       " {'link': 'https://n.news.naver.com/mnews/article/629/0000273810', 'depth': 2},\n",
       " {'link': 'https://n.news.naver.com/mnews/article/009/0005272728', 'depth': 2},\n",
       " {'link': 'https://n.news.naver.com/mnews/article/056/0011681099', 'depth': 2},\n",
       " {'link': 'https://n.news.naver.com/mnews/article/052/0002010502', 'depth': 2},\n",
       " {'link': 'https://n.news.naver.com/mnews/article/052/0002010470', 'depth': 2},\n",
       " {'link': 'https://n.news.naver.com/mnews/article/031/0000820472', 'depth': 2},\n",
       " {'link': 'https://n.news.naver.com/mnews/article/022/0003914304', 'depth': 2},\n",
       " {'link': 'https://n.news.naver.com/mnews/article/277/0005392472', 'depth': 2},\n",
       " {'link': 'https://n.news.naver.com/mnews/article/422/0000649703', 'depth': 2},\n",
       " {'link': 'https://n.news.naver.com/mnews/article/021/0002626677', 'depth': 2},\n",
       " {'link': 'https://n.news.naver.com/mnews/article/277/0005392653', 'depth': 2},\n",
       " {'link': 'https://n.news.naver.com/mnews/article/421/0007413762', 'depth': 2},\n",
       " {'link': 'https://n.news.naver.com/mnews/article/003/0012428918', 'depth': 2},\n",
       " {'link': 'https://n.news.naver.com/mnews/article/001/0014565752', 'depth': 2},\n",
       " {'link': 'https://n.news.naver.com/mnews/article/003/0012428898', 'depth': 2},\n",
       " {'link': 'https://n.news.naver.com/mnews/article/123/0002329728', 'depth': 2},\n",
       " {'link': 'https://n.news.naver.com/mnews/article/056/0011681956', 'depth': 2},\n",
       " {'link': 'https://n.news.naver.com/mnews/article/028/0002681067', 'depth': 2},\n",
       " {'link': 'https://n.news.naver.com/mnews/article/087/0001032095', 'depth': 2},\n",
       " {'link': 'https://n.news.naver.com/mnews/article/047/0002425928', 'depth': 2},\n",
       " {'link': 'https://n.news.naver.com/mnews/article/422/0000649900', 'depth': 2},\n",
       " {'link': 'https://n.news.naver.com/mnews/article/016/0002281005', 'depth': 2},\n",
       " {'link': 'https://n.news.naver.com/mnews/article/047/0002425926', 'depth': 2},\n",
       " {'link': 'https://n.news.naver.com/mnews/article/047/0002425924', 'depth': 2},\n",
       " {'link': 'https://n.news.naver.com/mnews/article/003/0012428853', 'depth': 2},\n",
       " {'link': 'https://n.news.naver.com/mnews/article/001/0014565734', 'depth': 2},\n",
       " {'link': 'https://n.news.naver.com/mnews/article/214/0001336596', 'depth': 2},\n",
       " {'link': 'https://n.news.naver.com/mnews/article/001/0014565729', 'depth': 2},\n",
       " {'link': 'https://n.news.naver.com/mnews/article/421/0007413740', 'depth': 2},\n",
       " {'link': 'https://n.news.naver.com/mnews/article/016/0002281002', 'depth': 2},\n",
       " {'link': 'https://n.news.naver.com/mnews/article/082/0001260389', 'depth': 2},\n",
       " {'link': 'https://n.news.naver.com/mnews/article/011/0004313671', 'depth': 2},\n",
       " {'link': 'https://n.news.naver.com/mnews/article/079/0003874245', 'depth': 2},\n",
       " {'link': 'https://n.news.naver.com/mnews/article/001/0014565697', 'depth': 2},\n",
       " {'link': 'https://n.news.naver.com/mnews/article/421/0007413722', 'depth': 2},\n",
       " {'link': 'https://n.news.naver.com/mnews/article/003/0012428841', 'depth': 2},\n",
       " {'link': 'https://n.news.naver.com/mnews/article/421/0007413725', 'depth': 2},\n",
       " {'link': 'https://n.news.naver.com/mnews/article/008/0005012336', 'depth': 2},\n",
       " {'link': 'https://n.news.naver.com/mnews/article/437/0000384088', 'depth': 2},\n",
       " {'link': 'https://n.news.naver.com/mnews/article/021/0002626678', 'depth': 2},\n",
       " {'link': 'https://n.news.naver.com/mnews/article/028/0002681064', 'depth': 2},\n",
       " {'link': 'https://n.news.naver.com/mnews/article/127/0000035429', 'depth': 2},\n",
       " {'link': 'https://n.news.naver.com/mnews/article/277/0005392675', 'depth': 2},\n",
       " {'link': 'https://n.news.naver.com/mnews/article/001/0014565669', 'depth': 2},\n",
       " {'link': 'https://n.news.naver.com/mnews/article/052/0002010532', 'depth': 2},\n",
       " {'link': 'https://n.news.naver.com/mnews/article/366/0000978123', 'depth': 2},\n",
       " {'link': 'https://n.news.naver.com/mnews/article/008/0005012335', 'depth': 2},\n",
       " {'link': 'https://n.news.naver.com/mnews/article/001/0014565035', 'depth': 2},\n",
       " {'link': 'https://n.news.naver.com/mnews/article/016/0002280920', 'depth': 2},\n",
       " {'link': 'https://n.news.naver.com/mnews/article/032/0003284748', 'depth': 2},\n",
       " {'link': 'https://n.news.naver.com/mnews/article/014/0005156654', 'depth': 2},\n",
       " {'link': 'https://n.news.naver.com/mnews/article/003/0012428727', 'depth': 2},\n",
       " {'link': 'https://n.news.naver.com/mnews/article/020/0003553453', 'depth': 2},\n",
       " {'link': 'https://n.news.naver.com/mnews/article/214/0001336485', 'depth': 2},\n",
       " {'link': 'https://n.news.naver.com/mnews/article/421/0007413757', 'depth': 2},\n",
       " {'link': 'https://n.news.naver.com/mnews/article/047/0002425927', 'depth': 2},\n",
       " {'link': 'https://n.news.naver.com/mnews/article/021/0002626640', 'depth': 2},\n",
       " {'link': 'https://n.news.naver.com/mnews/article/277/0005392671', 'depth': 2},\n",
       " {'link': 'https://n.news.naver.com/mnews/article/346/0000071947', 'depth': 2},\n",
       " {'link': 'https://n.news.naver.com/mnews/article/421/0007413627', 'depth': 2},\n",
       " {'link': 'https://n.news.naver.com/mnews/article/011/0004313664', 'depth': 2},\n",
       " {'link': 'https://n.news.naver.com/mnews/article/296/0000075650', 'depth': 2},\n",
       " {'link': 'https://n.news.naver.com/mnews/article/047/0002425915', 'depth': 2},\n",
       " {'link': 'https://n.news.naver.com/mnews/article/079/0003874231', 'depth': 2},\n",
       " {'link': 'https://n.news.naver.com/mnews/article/422/0000649898', 'depth': 2},\n",
       " {'link': 'https://n.news.naver.com/mnews/article/001/0014565570', 'depth': 2},\n",
       " {'link': 'https://n.news.naver.com/mnews/article/003/0012428732', 'depth': 2},\n",
       " {'link': 'https://n.news.naver.com/mnews/article/277/0005392660', 'depth': 2},\n",
       " {'link': 'https://n.news.naver.com/mnews/article/277/0005392659', 'depth': 2},\n",
       " {'link': 'https://n.news.naver.com/mnews/article/346/0000071945', 'depth': 2},\n",
       " {'link': 'https://n.news.naver.com/mnews/article/028/0002681052', 'depth': 2},\n",
       " {'link': 'https://n.news.naver.com/mnews/article/052/0002010508', 'depth': 2},\n",
       " {'link': 'https://n.news.naver.com/mnews/article/346/0000071943', 'depth': 2},\n",
       " {'link': 'https://n.news.naver.com/mnews/article/009/0005272847', 'depth': 2},\n",
       " {'link': 'https://n.news.naver.com/mnews/article/032/0003284750', 'depth': 2},\n",
       " {'link': 'https://n.news.naver.com/mnews/article/014/0005156705', 'depth': 2},\n",
       " {'link': 'https://n.news.naver.com/mnews/article/014/0005156698', 'depth': 2},\n",
       " {'link': 'https://n.news.naver.com/mnews/article/031/0000820583', 'depth': 2},\n",
       " {'link': 'https://n.news.naver.com/mnews/article/009/0005272823', 'depth': 2},\n",
       " {'link': 'https://n.news.naver.com/mnews/article/655/0000017177', 'depth': 2},\n",
       " {'link': 'https://n.news.naver.com/mnews/article/296/0000075646', 'depth': 2},\n",
       " {'link': 'https://n.news.naver.com/mnews/article/003/0012428483', 'depth': 2},\n",
       " {'link': 'https://n.news.naver.com/mnews/article/052/0002010480', 'depth': 2},\n",
       " {'link': 'https://n.news.naver.com/mnews/article/011/0004313606', 'depth': 2},\n",
       " {'link': 'https://n.news.naver.com/mnews/article/056/0011681847', 'depth': 2},\n",
       " {'link': 'https://n.news.naver.com/mnews/article/657/0000023908', 'depth': 2},\n",
       " {'link': 'https://n.news.naver.com/mnews/article/047/0002425896', 'depth': 2},\n",
       " {'link': 'https://n.news.naver.com/mnews/article/047/0002425893', 'depth': 2},\n",
       " {'link': 'https://n.news.naver.com/mnews/article/056/0011681818', 'depth': 2},\n",
       " {'link': 'https://n.news.naver.com/mnews/article/047/0002425888', 'depth': 2},\n",
       " {'link': 'https://n.news.naver.com/mnews/article/138/0002168976', 'depth': 2},\n",
       " {'link': 'https://n.news.naver.com/mnews/article/021/0002626591', 'depth': 2},\n",
       " {'link': 'https://n.news.naver.com/mnews/article/014/0005156635', 'depth': 2},\n",
       " {'link': 'https://n.news.naver.com/mnews/article/016/0002280789', 'depth': 2},\n",
       " {'link': 'https://n.news.naver.com/mnews/article/031/0000820523', 'depth': 2},\n",
       " {'link': 'https://n.news.naver.com/mnews/article/009/0005272779', 'depth': 2},\n",
       " {'link': 'https://n.news.naver.com/mnews/article/032/0003284519', 'depth': 2},\n",
       " {'link': 'https://n.news.naver.com/mnews/article/018/0005692726', 'depth': 2},\n",
       " {'link': 'https://n.news.naver.com/mnews/article/366/0000978128', 'depth': 2},\n",
       " {'link': 'https://n.news.naver.com/mnews/article/001/0014565708', 'depth': 2},\n",
       " {'link': 'https://n.news.naver.com/mnews/article/366/0000978124', 'depth': 2},\n",
       " {'link': 'https://n.news.naver.com/mnews/article/421/0007413688', 'depth': 2},\n",
       " {'link': 'https://n.news.naver.com/mnews/article/417/0000989060', 'depth': 2},\n",
       " {'link': 'https://n.news.naver.com/mnews/article/006/0000122916', 'depth': 2},\n",
       " {'link': 'https://n.news.naver.com/mnews/article/003/0012428800', 'depth': 2},\n",
       " {'link': 'https://n.news.naver.com/mnews/article/016/0002280957', 'depth': 2},\n",
       " {'link': 'https://n.news.naver.com/mnews/article/015/0004960354', 'depth': 2},\n",
       " {'link': 'https://n.news.naver.com/mnews/article/417/0000989057', 'depth': 2},\n",
       " {'link': 'https://n.news.naver.com/mnews/article/003/0012428697', 'depth': 2},\n",
       " {'link': 'https://n.news.naver.com/mnews/article/014/0005156733', 'depth': 2},\n",
       " {'link': 'https://n.news.naver.com/mnews/article/092/0002324638', 'depth': 2},\n",
       " {'link': 'https://n.news.naver.com/mnews/article/029/0002861257', 'depth': 2},\n",
       " {'link': 'https://n.news.naver.com/mnews/article/030/0003189448', 'depth': 2},\n",
       " {'link': 'https://n.news.naver.com/mnews/article/366/0000978111', 'depth': 2},\n",
       " {'link': 'https://n.news.naver.com/mnews/article/092/0002324633', 'depth': 2},\n",
       " {'link': 'https://n.news.naver.com/mnews/article/011/0004313632', 'depth': 2},\n",
       " {'link': 'https://n.news.naver.com/mnews/article/092/0002324631', 'depth': 2},\n",
       " {'link': 'https://n.news.naver.com/mnews/article/015/0004960304', 'depth': 2},\n",
       " {'link': 'https://n.news.naver.com/mnews/article/092/0002324625', 'depth': 2},\n",
       " {'link': 'https://n.news.naver.com/mnews/article/009/0005272813', 'depth': 2},\n",
       " {'link': 'https://n.news.naver.com/mnews/article/029/0002861240', 'depth': 2},\n",
       " {'link': 'https://n.news.naver.com/mnews/article/584/0000026300', 'depth': 2},\n",
       " {'link': 'https://n.news.naver.com/mnews/article/092/0002324622', 'depth': 2},\n",
       " {'link': 'https://n.news.naver.com/mnews/article/092/0002324621', 'depth': 2},\n",
       " {'link': 'https://n.news.naver.com/mnews/article/014/0005156683', 'depth': 2},\n",
       " {'link': 'https://n.news.naver.com/mnews/article/014/0005156661', 'depth': 2},\n",
       " {'link': 'https://n.news.naver.com/mnews/article/421/0007413279', 'depth': 2},\n",
       " {'link': 'https://n.news.naver.com/mnews/article/092/0002324612', 'depth': 2},\n",
       " {'link': 'https://n.news.naver.com/mnews/article/023/0003822356', 'depth': 2},\n",
       " {'link': 'https://n.news.naver.com/mnews/article/001/0014565180', 'depth': 2},\n",
       " {'link': 'https://n.news.naver.com/mnews/article/092/0002324604', 'depth': 2},\n",
       " {'link': 'https://n.news.naver.com/mnews/article/215/0001152998', 'depth': 2},\n",
       " {'link': 'https://n.news.naver.com/mnews/article/015/0004960154', 'depth': 2},\n",
       " {'link': 'https://n.news.naver.com/mnews/article/001/0014564960', 'depth': 2},\n",
       " {'link': 'https://n.news.naver.com/mnews/article/008/0005012119', 'depth': 2},\n",
       " {'link': 'https://n.news.naver.com/mnews/article/003/0012428180', 'depth': 2},\n",
       " {'link': 'https://n.news.naver.com/mnews/article/469/0000790550', 'depth': 2},\n",
       " {'link': 'https://n.news.naver.com/mnews/article/374/0000374683', 'depth': 2},\n",
       " {'link': 'https://n.news.naver.com/mnews/article/081/0003437368', 'depth': 2},\n",
       " {'link': 'https://n.news.naver.com/mnews/article/056/0011681953', 'depth': 2},\n",
       " {'link': 'https://n.news.naver.com/mnews/article/366/0000977846', 'depth': 2},\n",
       " {'link': 'https://n.news.naver.com/mnews/article/008/0005012181', 'depth': 2},\n",
       " {'link': 'https://n.news.naver.com/mnews/article/020/0003553454', 'depth': 2},\n",
       " {'link': 'https://n.news.naver.com/mnews/article/421/0007413752', 'depth': 2},\n",
       " {'link': 'https://n.news.naver.com/mnews/article/001/0014565741', 'depth': 2},\n",
       " {'link': 'https://n.news.naver.com/mnews/article/079/0003874246', 'depth': 2},\n",
       " {'link': 'https://n.news.naver.com/mnews/article/003/0012428839', 'depth': 2},\n",
       " {'link': 'https://n.news.naver.com/mnews/article/021/0002626687', 'depth': 2},\n",
       " {'link': 'https://n.news.naver.com/mnews/article/021/0002626685', 'depth': 2},\n",
       " {'link': 'https://n.news.naver.com/mnews/article/003/0012428838', 'depth': 2},\n",
       " {'link': 'https://n.news.naver.com/mnews/article/001/0014565676', 'depth': 2},\n",
       " {'link': 'https://n.news.naver.com/mnews/article/001/0014565670', 'depth': 2},\n",
       " {'link': 'https://n.news.naver.com/mnews/article/003/0012428830', 'depth': 2},\n",
       " {'link': 'https://n.news.naver.com/mnews/article/028/0002681063', 'depth': 2},\n",
       " {'link': 'https://n.news.naver.com/mnews/article/003/0012428828', 'depth': 2},\n",
       " {'link': 'https://n.news.naver.com/mnews/article/374/0000374732', 'depth': 2},\n",
       " {'link': 'https://n.news.naver.com/mnews/article/001/0014565603', 'depth': 2},\n",
       " {'link': 'https://n.news.naver.com/mnews/article/123/0002329718', 'depth': 2},\n",
       " {'link': 'https://n.news.naver.com/mnews/article/469/0000790613', 'depth': 2},\n",
       " {'link': 'https://n.news.naver.com/mnews/article/008/0005012323', 'depth': 2},\n",
       " {'link': 'https://n.news.naver.com/mnews/article/023/0003822385', 'depth': 2},\n",
       " {'link': 'https://n.news.naver.com/mnews/article/016/0002280954', 'depth': 2},\n",
       " {'link': 'https://n.news.naver.com/mnews/article/018/0005692810', 'depth': 2},\n",
       " {'link': 'https://n.news.naver.com/mnews/article/003/0012428729', 'depth': 2},\n",
       " {'link': 'https://n.news.naver.com/mnews/article/374/0000374726', 'depth': 2},\n",
       " {'link': 'https://n.news.naver.com/mnews/article/586/0000074598', 'depth': 2},\n",
       " {'link': 'https://n.news.naver.com/mnews/article/001/0014565505', 'depth': 2},\n",
       " {'link': 'https://n.news.naver.com/mnews/article/023/0003822379', 'depth': 2},\n",
       " {'link': 'https://n.news.naver.com/mnews/article/005/0001681231', 'depth': 2},\n",
       " {'link': 'https://n.news.naver.com/mnews/article/015/0004960312', 'depth': 2},\n",
       " {'link': 'https://n.news.naver.com/mnews/article/009/0005272840', 'depth': 2},\n",
       " {'link': 'https://n.news.naver.com/mnews/article/028/0002681051', 'depth': 2},\n",
       " {'link': 'https://n.news.naver.com/mnews/article/016/0002280896', 'depth': 2},\n",
       " {'link': 'https://n.news.naver.com/mnews/article/030/0003189435', 'depth': 2},\n",
       " {'link': 'https://n.news.naver.com/mnews/article/008/0005012283', 'depth': 2},\n",
       " {'link': 'https://n.news.naver.com/mnews/article/015/0004960300', 'depth': 2},\n",
       " {'link': 'https://n.news.naver.com/mnews/article/052/0002010493', 'depth': 2},\n",
       " {'link': 'https://n.news.naver.com/mnews/article/421/0007413405', 'depth': 2},\n",
       " {'link': 'https://imgnews.pstatic.net/image/421/2024/03/15/0007413465_001_20240315110011308.jpg?type=w647',\n",
       "  'depth': 3}]"
      ]
     },
     "execution_count": 173,
     "metadata": {},
     "output_type": "execute_result"
    }
   ],
   "source": [
    "URLs"
   ]
  },
  {
   "cell_type": "code",
   "execution_count": 174,
   "id": "ca14afc0-d40f-4030-95e4-0880987f8b16",
   "metadata": {},
   "outputs": [
    {
     "data": {
      "text/plain": [
       "['https://news.naver.com',\n",
       " 'https://news.naver.com/?viewType=pc',\n",
       " 'https://news.naver.com/section/100',\n",
       " 'https://news.naver.com/section/101',\n",
       " 'https://news.naver.com/section/102',\n",
       " 'https://news.naver.com/section/103',\n",
       " 'https://news.naver.com/section/105',\n",
       " 'https://news.naver.com/section/104',\n",
       " 'https://news.naver.com/main/ranking/popularDay.naver',\n",
       " 'https://news.naver.com/newspaper/home?viewType=pc',\n",
       " 'https://news.naver.com/opinion/home',\n",
       " 'https://news.naver.com/main/tv/index.naver?mid=tvh',\n",
       " 'https://news.naver.com/factcheck/main',\n",
       " 'https://news.naver.com/main/ombudsman/errorArticleList.naver?mid=omb',\n",
       " 'https://news.naver.com/',\n",
       " 'https://news.naver.com/main/ranking/popularDay.naver?mid=etc&sid1=111',\n",
       " 'https://news.naver.com/newspaper/home',\n",
       " 'https://news.naver.com/main/opinion/home.naver',\n",
       " 'https://news.naver.com/main/factcheck/main.naver',\n",
       " 'https://n.news.naver.com/mnews/article/421/0007413465',\n",
       " 'https://n.news.naver.com/mnews/article/032/0003284650',\n",
       " 'https://n.news.naver.com/mnews/article/277/0005392525']"
      ]
     },
     "execution_count": 174,
     "metadata": {},
     "output_type": "execute_result"
    }
   ],
   "source": [
    "Visited"
   ]
  },
  {
   "cell_type": "code",
   "execution_count": null,
   "id": "05e0fbd2-898b-4c2c-aaec-de43b6a2b1d5",
   "metadata": {},
   "outputs": [],
   "source": []
  }
 ],
 "metadata": {
  "kernelspec": {
   "display_name": "Python 3 (ipykernel)",
   "language": "python",
   "name": "python3"
  },
  "language_info": {
   "codemirror_mode": {
    "name": "ipython",
    "version": 3
   },
   "file_extension": ".py",
   "mimetype": "text/x-python",
   "name": "python",
   "nbconvert_exporter": "python",
   "pygments_lexer": "ipython3",
   "version": "3.11.8"
  }
 },
 "nbformat": 4,
 "nbformat_minor": 5
}
