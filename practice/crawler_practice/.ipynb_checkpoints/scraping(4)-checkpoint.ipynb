{
 "cells": [
  {
   "cell_type": "code",
   "execution_count": 1,
   "metadata": {},
   "outputs": [],
   "source": [
    "# 복습"
   ]
  },
  {
   "cell_type": "code",
   "execution_count": 39,
   "metadata": {
    "scrolled": true
   },
   "outputs": [
    {
     "name": "stdout",
     "output_type": "stream",
     "text": [
      "#PWD_INSTAGRAM_BROWSER:0:1710984612:Eldrj1221@\n"
     ]
    },
    {
     "data": {
      "text/plain": [
       "{'Content-Type': 'application/json; charset=utf-8', 'ig-set-password-encryption-web-key-id': '205', 'ig-set-password-encryption-web-pub-key': 'acf022f7e0ef37eab8d6f17b22f725471f2569de8a2cd151053bdc442517d95c', 'ig-set-password-encryption-web-key-version': '10', 'x-robots-tag': 'noindex', 'Date': 'Thu, 21 Mar 2024 01:30:13 GMT', 'Vary': 'Accept-Language, Cookie', 'Content-Language': 'en', 'Strict-Transport-Security': 'max-age=31536000', 'Cache-Control': 'private, no-cache, no-store, must-revalidate', 'Pragma': 'no-cache', 'Expires': 'Sat, 01 Jan 2000 00:00:00 GMT', 'X-Frame-Options': 'SAMEORIGIN', 'content-security-policy': \"report-uri https://www.instagram.com/security/csp_report/; default-src 'self' https://www.instagram.com; img-src data: blob: https://*.fbcdn.net https://*.instagram.com https://*.cdninstagram.com https://*.facebook.com https://*.fbsbx.com https://*.threads.net https://*.giphy.com; font-src data: https://*.fbcdn.net https://*.instagram.com https://*.cdninstagram.com; media-src 'self' blob: https://www.instagram.com https://*.cdninstagram.com https://*.fbcdn.net; manifest-src 'self' https://www.instagram.com; script-src 'self' https://instagram.com https://www.instagram.com https://*.www.instagram.com https://*.cdninstagram.com wss://www.instagram.com https://*.facebook.com https://*.fbcdn.net https://*.facebook.net 'unsafe-inline' 'unsafe-eval' blob:; style-src 'self' https://*.www.instagram.com https://www.instagram.com 'unsafe-inline'; connect-src 'self' https://instagram.com https://www.instagram.com https://*.www.instagram.com https://graph.instagram.com https://*.graph.instagram.com https://i.instagram.com/graphql_www https://graphql.instagram.com https://*.cdninstagram.com https://api.instagram.com https://i.instagram.com https://*.i.instagram.com https://*.od.instagram.com https://i.threads.net https://*.od.threads.net wss://www.instagram.com wss://edge-chat.instagram.com https://*.facebook.com https://*.fbcdn.net https://*.facebook.net chrome-extension://boadgeojelhgndaghljhdicfkmllpafd blob:; worker-src 'self' blob: https://www.instagram.com; frame-src 'self' https://instagram.com https://www.instagram.com https://*.instagram.com https://staticxx.facebook.com https://www.facebook.com https://web.facebook.com https://connect.facebook.net https://m.facebook.com https://*.fbsbx.com; object-src 'none'; upgrade-insecure-requests\", 'cross-origin-embedder-policy-report-only': 'require-corp;report-to=\"coep\"', 'report-to': '{\"group\": \"coep\", \"max_age\": 86400, \"endpoints\": [{\"url\": \"/security/coep_report/\"}]},{\"group\": \"coop\", \"max_age\": 86400, \"endpoints\": [{\"url\": \"/security/coop_report/\"}]}', 'cross-origin-resource-policy': 'cross-origin', 'cross-origin-opener-policy': 'same-origin-allow-popups;report-to=\"coop\"', 'X-Content-Type-Options': 'nosniff', 'X-XSS-Protection': '0', 'x-ig-push-state': 'c2', 'x-ig-cache-control': 'no-cache', 'x-aed': '145', 'Access-Control-Expose-Headers': 'X-IG-Set-WWW-Claim', 'x-ig-request-elapsed-time-ms': '160', 'x-ig-peak-time': '1', 'x-stack': 'dis', 'Set-Cookie': 'csrftoken=yar_BnVD7sx7TV8_eMzUoc; Domain=.instagram.com; expires=Thu, 20-Mar-2025 01:30:13 GMT; Max-Age=31449600; Path=/; Secure, mid=ZfuNpQAEAAHsCKAY5ew6gm9BwPe_; Domain=.instagram.com; expires=Fri, 25-Apr-2025 01:30:13 GMT; Max-Age=34560000; Path=/; Secure, ig_did=1DFA5393-D905-499E-8890-EDB8461DE13B; Domain=.instagram.com; expires=Fri, 21-Mar-2025 01:30:13 GMT; HttpOnly; Max-Age=31536000; Path=/; Secure, ig_nrcb=1; Domain=.instagram.com; expires=Fri, 21-Mar-2025 01:30:13 GMT; Max-Age=31536000; Path=/; Secure', 'x-fb-load': '388', 'x-ig-origin-region': 'cco', 'Proxy-Status': 'http_request_error; e_fb_configversion=\"AcK-tq5XkCYe0KsZGhiosZKesl-MtqkHIg04-RsysWgFmcpE5uX2KggOx4RWqQ\"; e_clientaddr=\"AcIzd3GQBkU1gZEPaq8EfkBilLb4-yyzPoE7wpbK5vMk8ZncoMjJJ89WD3n8GOpEziVXib-DfYVbSIrdKRYaT7IgDW7cdnUzqYQf2aj833RcFT4S\"; e_fb_vipport=\"AcJS0KJJ4V6aDlE5bN80xz-m6EWqV7OntmWKB53tkK7pB3jbHGOrDbVPNNsw\"; e_upip=\"AcJEXPopnlcsx43E4944R-E3pjO6R5pB28Cg2695Y7MfRWM0LURsjhzpfp8wl1PkCSFp0lm4Gw5tzUw12xnFjKL3bBezdSX5xw\"; e_fb_requestsequencenumber=\"AcKFaGn4wgqdUaXD4suEwe6IdpT0z8a0MW297cKsKcrEGoEwnp7RNohJVLwp\"; e_fb_hostheader=\"AcJUUB6k9AN2svFJuXAdKFGIf9lwFiLzdHlNN-npskD-cGgFsVYaCkXkZddbUxo7Y0n_A2nbOONYlpI\"; e_fb_vipaddr=\"AcICBp6-GAkha4M0Og_Lh2b3zDRtb-mahVi2jmvhnkhz4H61XLBE3HXBqBXi_MkwvM60Gc6FpG-IFCrE1rWICrLNY78L4wAFZkCVcw\"; e_fb_requesthandler=\"AcL2NJBykmlFpaOXRzDwoZb3tQ0JWPARi4Ud4bHVVNyHQ3Cqi8vsbeusWzIet-66f1NOUMmhBn6NB1YY3nXrq4M\"; e_fb_requesttime=\"AcKzvzcokSIkvincDFjVttnqJCkr9h8oP1VC6GD9Q_ya4CZdjoNTxNKXUUIAMJlkfUdEgRw7wA\"; e_fb_builduser=\"AcKd7SkdyB1AvwYMdCM0neQvpgkiZ-jO64lzQZpNgzwxCFn2Tr1jwhAX4D7-EZA4N5g\"; e_fb_httpversion=\"AcIMZwRCLB_RMBs9kIDjIergHh6h2HRhEvJnpoPvX117EAXR62BMhmZlSjzQ\"; e_fb_binaryversion=\"AcJ194nK2tnSdtFW8toASrhqjuZN0wmKCHiI_RV4OapynV6HNqP54QZXDuocZv6bMV7OQb3fiN7cftjSLhE3xhFRjQXvEmED6Wc\"; e_proxy=\"AcIyzqpornsEIIZPthra65xF6tm5BUorNNiBxS-RYzcPY4q-VtBNKCteU82Mpvkb-X9-JaYB_JD-_udpdvcz\", http_request_error; e_fb_configversion=\"AcIftzzGgOnpdYScT7rWHC4ov4nQbXMP-EqKq7bwcZUUI2NEK6xtz7UIr9yPDw\"; e_clientaddr=\"AcILowi1F31ZJKKl5m0W5l0CPqFzVvwxnvrayt80dVgUTitIe3obM_iQ29_RB018gO2mbBiPsDbjb1VNqw\"; e_fb_vipport=\"AcKk-XktvHPQmGVIm5yV-Nu-HesOJ2VP4CGetrL8oU9gq4rh1xc1oBXzYE9s\"; e_upip=\"AcJfq5OrHPqa7r3Gg1edZSKqEpvboVC1ncWFTLcL4UfyFmgw617sJEuY0pDtA1ZItfaN0ePgdMZTp8RThIj-HXoycVuaOaJFBLgKDg\"; e_fb_requestsequencenumber=\"AcJWiyrazU42yrlIRPmQOIjvTjppdvcK28xlfrq_V22jNb4VgCxalZX7yA\"; e_fb_hostheader=\"AcKeBy45FxC0eLUDFKLlLEZoRsCM-ZT8bYxQW5nb11YHMJw-O9f9Fp-YgFqwbxz2KzdQ_AEdRm3BmRM\"; e_fb_vipaddr=\"AcL3-2uppactNdTwcG9V56QNJxdf0DvfDSEwOwy1uZrmfiX2g32bckHRULakTk9Z7SCXsdcFdn4\"; e_fb_requesthandler=\"AcLVgmFmwWWAnJXZ4igu2zK8m1EqmgNwAZ8EPcn1cbHPhwPiRgRuxyA5rj1L4qEfKKCc1vSkdcLe1Q\"; e_fb_requesttime=\"AcLV0cEuVrQn8baZ4VwQkyVsnB3_qU11txhHekSUKaQSYNm6KAo-av7iw1V0TMzSAroG8TW6qg\"; e_fb_builduser=\"AcKTL-cDZ8i7iiUkyzLvmtXUplklKPLAacsturhlotVmgymXt-t8KsC5uU2r7cq_QJM\"; e_fb_httpversion=\"AcJZts5KlM7wvc66l7-RqmJCmX_r5CckR35kv3ACsuxs788im-dGinw5qpZG\"; e_fb_binaryversion=\"AcJWsB0LWXncGZs-Zq90bFHJSj2WwJqvchIPnRoRJjCAQQWnSpdRsHDEI89j0iVg9v91lfBkgwPwHrhWCFt9E_yhX68yLcmRkxM\"; e_proxy=\"AcKWpO4VXYEDWli1horBIyKOg-Z2eKTSoLJzUAa3VFvQxlXN7rBY3qq0NLHK68a2cNDE8hp-MkdNQnw\"', 'Alt-Svc': 'h3=\":443\"; ma=86400', 'Connection': 'keep-alive', 'Content-Length': '100'}"
      ]
     },
     "execution_count": 39,
     "metadata": {},
     "output_type": "execute_result"
    }
   ],
   "source": [
    "from requests.sessions import Session\n",
    "from requests import request\n",
    "from bs4 import BeautifulSoup\n",
    "from datetime import datetime\n",
    "import re\n",
    "\n",
    "# csrf 토큰 가져오기\n",
    "url = 'https://www.instagram.com/'\n",
    "resp = request('GET', url)\n",
    "csrf = re.search(r'\"csrf_token\":\"(.+?)\"', resp.text).group(1)\n",
    "headers = {\n",
    "    \"X-csrftoken\": csrf\n",
    "}\n",
    "\n",
    "# enc_password\n",
    "url = \"https://www.instagram.com/api/v1/web/accounts/login/ajax/\"\n",
    "t = int(datetime.now().timestamp())\n",
    "encpw_li = ['#PWD_INSTAGRAM_BROWSER','0',f'{t}','Eldrj1221@']\n",
    "encpw = ':'.join(encpw_li)\n",
    "print(encpw)\n",
    "data = {\n",
    "    \"enc_password\": encpw,\n",
    "    \"optIntoOneTap\": \"false\",\n",
    "    \"queryParams\": {},\n",
    "    \"trustedDeviceRecords\": {},\n",
    "    \"username\": \"kmjoyit@gmail.com\"\n",
    "}\n",
    "#  g                    c b          a\n",
    "# PWD_INSTAGRAM_BROWSER:0:1710980697:Ac1QAHMYP\n",
    "# g => enc 어느 옵션\n",
    "# c => enc 옵션 값\n",
    "# b => 시간\n",
    "# a => 암호\n",
    "\n",
    "\n",
    "# 쿠키작업하기\n",
    "resp = request(\"POST\", url, data=data, headers=headers)\n",
    "resp.headers['set-cookie'].split(\";\")\n",
    "resp.headers\n",
    "# cookie = re.search(r'sessionid=([^;]+)', resp.headers)\n",
    "# csrftoken = re.search(r'csrftoken=([^;]+)', resp.text)\n",
    "# cookie, csrftoken\n"
   ]
  },
  {
   "cell_type": "code",
   "execution_count": 62,
   "metadata": {
    "scrolled": true
   },
   "outputs": [
    {
     "name": "stdout",
     "output_type": "stream",
     "text": [
      "('PWD_INSTAGRAM_BROWSER:0:1710983606:Eldrj1221@\\n'\n",
      " '(\\'{\"user\":true,\"userId\":\"65415610723\",\"authenticated\":true,\"oneTapPrompt\":true,\"has_onboarded_to_text_post_app\":false,\"status\":\"ok\"}\\',\\n'\n",
      " \" {'Content-Type': 'application/json; charset=utf-8', \"\n",
      " \"'ig-set-password-encryption-web-key-id': '205', \"\n",
      " \"'ig-set-password-encryption-web-pub-key': \"\n",
      " \"'acf022f7e0ef37eab8d6f17b22f725471f2569de8a2cd151053bdc442517d95c', \"\n",
      " \"'ig-set-password-encryption-web-key-version': '10', 'x-robots-tag': \"\n",
      " \"'noindex', 'Date': 'Thu, 21 Mar 2024 01:13:28 GMT', 'Vary': \"\n",
      " \"'Accept-Language, Cookie', 'Content-Language': 'en', \"\n",
      " \"'Strict-Transport-Security': 'max-age=31536000', 'Cache-Control': 'private, \"\n",
      " \"no-cache, no-store, must-revalidate', 'Pragma': 'no-cache', 'Expires': 'Sat, \"\n",
      " \"01 Jan 2000 00:00:00 GMT', 'X-Frame-Options': 'SAMEORIGIN', \"\n",
      " '\\'content-security-policy\\': \"report-uri '\n",
      " \"https://www.instagram.com/security/csp_report/; default-src 'self' \"\n",
      " 'https://www.instagram.com; img-src data: blob: https://*.fbcdn.net '\n",
      " 'https://*.instagram.com https://*.cdninstagram.com https://*.facebook.com '\n",
      " 'https://*.fbsbx.com https://*.threads.net https://*.giphy.com; font-src '\n",
      " 'data: https://*.fbcdn.net https://*.instagram.com '\n",
      " \"https://*.cdninstagram.com; media-src 'self' blob: https://www.instagram.com \"\n",
      " \"https://*.cdninstagram.com https://*.fbcdn.net; manifest-src 'self' \"\n",
      " \"https://www.instagram.com; script-src 'self' https://instagram.com \"\n",
      " 'https://www.instagram.com https://*.www.instagram.com '\n",
      " 'https://*.cdninstagram.com wss://www.instagram.com https://*.facebook.com '\n",
      " \"https://*.fbcdn.net https://*.facebook.net 'unsafe-inline' 'unsafe-eval' \"\n",
      " \"blob:; style-src 'self' https://*.www.instagram.com \"\n",
      " \"https://www.instagram.com 'unsafe-inline'; connect-src 'self' \"\n",
      " 'https://instagram.com https://www.instagram.com https://*.www.instagram.com '\n",
      " 'https://graph.instagram.com https://*.graph.instagram.com '\n",
      " 'https://i.instagram.com/graphql_www https://graphql.instagram.com '\n",
      " 'https://*.cdninstagram.com https://api.instagram.com https://i.instagram.com '\n",
      " 'https://*.i.instagram.com https://*.od.instagram.com https://i.threads.net '\n",
      " 'https://*.od.threads.net wss://www.instagram.com '\n",
      " 'wss://edge-chat.instagram.com https://*.facebook.com https://*.fbcdn.net '\n",
      " 'https://*.facebook.net chrome-extension://boadgeojelhgndaghljhdicfkmllpafd '\n",
      " \"blob:; worker-src 'self' blob: https://www.instagram.com; frame-src 'self' \"\n",
      " 'https://instagram.com https://www.instagram.com https://*.instagram.com '\n",
      " 'https://staticxx.facebook.com https://www.facebook.com '\n",
      " 'https://web.facebook.com https://connect.facebook.net https://m.facebook.com '\n",
      " 'https://*.fbsbx.com; object-src \\'none\\'; upgrade-insecure-requests\", '\n",
      " \"'cross-origin-embedder-policy-report-only': \"\n",
      " '\\'require-corp;report-to=\"coep\"\\', \\'report-to\\': \\'{\"group\": \"coep\", '\n",
      " '\"max_age\": 86400, \"endpoints\": [{\"url\": '\n",
      " '\"/security/coep_report/\"}]},{\"group\": \"coop\", \"max_age\": 86400, \"endpoints\": '\n",
      " '[{\"url\": \"/security/coop_report/\"}]}\\', \\'cross-origin-resource-policy\\': '\n",
      " \"'cross-origin', 'cross-origin-opener-policy': \"\n",
      " '\\'same-origin-allow-popups;report-to=\"coop\"\\', \\'X-Content-Type-Options\\': '\n",
      " \"'nosniff', 'X-XSS-Protection': '0', 'x-ig-push-state': 'c2', \"\n",
      " \"'x-ig-cache-control': 'cache', 'x-aed': '145', \"\n",
      " \"'Access-Control-Expose-Headers': 'X-IG-Set-WWW-Claim', \"\n",
      " \"'x-ig-request-elapsed-time-ms': '2081', 'x-ig-peak-time': '0', 'x-stack': \"\n",
      " \"'dis', 'Set-Cookie': 'csrftoken=2G6fKyTkNP5TOCClEWRNWaKiMe8FiHZD; \"\n",
      " 'Domain=.instagram.com; expires=Thu, 20-Mar-2025 01:13:28 GMT; '\n",
      " 'Max-Age=31449600; Path=/; Secure, '\n",
      " 'rur=\"CCO\\\\05465415610723\\\\0541742519608:01f73a78afe957b7b284eba5527d8cd401768805afbf4694bd785e8405ea2512cb85f0e8\"; '\n",
      " 'Domain=.instagram.com; HttpOnly; Path=/; SameSite=Lax; Secure, '\n",
      " 'mid=ZfuJtgAEAAH8sLYNgT9w7hESBezP; Domain=.instagram.com; expires=Fri, '\n",
      " '25-Apr-2025 01:13:28 GMT; Max-Age=34560000; Path=/; Secure, '\n",
      " 'ds_user_id=65415610723; Domain=.instagram.com; expires=Wed, 19-Jun-2024 '\n",
      " '01:13:28 GMT; Max-Age=7776000; Path=/; Secure, th_eu_pref=\"\"; '\n",
      " 'Domain=instagram.com; expires=Thu, 01-Jan-1970 00:00:00 GMT; Max-Age=0; '\n",
      " 'Path=/, th_eu_pref=\"\"; Domain=.instagram.com; expires=Thu, 01-Jan-1970 '\n",
      " '00:00:00 GMT; Max-Age=0; Path=/, th_eu_pref=\"\"; Domain=i.instagram.com; '\n",
      " 'expires=Thu, 01-Jan-1970 00:00:00 GMT; Max-Age=0; Path=/, th_eu_pref=\"\"; '\n",
      " 'Domain=.i.instagram.com; expires=Thu, 01-Jan-1970 00:00:00 GMT; Max-Age=0; '\n",
      " 'Path=/, th_eu_pref=\"\"; Domain=www.instagram.com; expires=Thu, 01-Jan-1970 '\n",
      " '00:00:00 GMT; Max-Age=0; Path=/, th_eu_pref=\"\"; Domain=.www.instagram.com; '\n",
      " 'expires=Thu, 01-Jan-1970 00:00:00 GMT; Max-Age=0; Path=/, th_eu_pref=\"\"; '\n",
      " 'Domain=.threads.net; expires=Thu, 01-Jan-1970 00:00:00 GMT; Max-Age=0; '\n",
      " 'Path=/, th_eu_pref=\"\"; expires=Thu, 01-Jan-1970 00:00:00 GMT; Max-Age=0; '\n",
      " 'Path=/, ig_did=5FC096B5-9A67-4798-A5DE-07EE66096C1B; Domain=.instagram.com; '\n",
      " 'expires=Fri, 21-Mar-2025 01:13:28 GMT; HttpOnly; Max-Age=31536000; Path=/; '\n",
      " 'Secure, '\n",
      " 'sessionid=65415610723%3AmZH88136JRGK0i%3A3%3AAYcZg_av97pj9O-wkQxlwHkiYKxY1t1OLoyolmEfhA; '\n",
      " 'Domain=.instagram.com; expires=Fri, 21-Mar-2025 01:13:28 GMT; HttpOnly; '\n",
      " \"Max-Age=31536000; Path=/; Secure', 'x-fb-load': '377', 'x-ig-origin-region': \"\n",
      " '\\'cco\\', \\'Alt-Svc\\': \\'h3=\":443\"; ma=86400\\', \\'Connection\\': '\n",
      " \"'keep-alive', 'Content-Length': '130'})\\n\"\n",
      " '# 쿠키가져오기\\n'\n",
      " 'resp = request(\"POST\", url, data=data, headers=headers)\\n')\n"
     ]
    }
   ],
   "source": [
    "from pprint import pprint\n",
    "headers = '''PWD_INSTAGRAM_BROWSER:0:1710983606:Eldrj1221@\n",
    "('{\"user\":true,\"userId\":\"65415610723\",\"authenticated\":true,\"oneTapPrompt\":true,\"has_onboarded_to_text_post_app\":false,\"status\":\"ok\"}',\n",
    " {'Content-Type': 'application/json; charset=utf-8', 'ig-set-password-encryption-web-key-id': '205', 'ig-set-password-encryption-web-pub-key': 'acf022f7e0ef37eab8d6f17b22f725471f2569de8a2cd151053bdc442517d95c', 'ig-set-password-encryption-web-key-version': '10', 'x-robots-tag': 'noindex', 'Date': 'Thu, 21 Mar 2024 01:13:28 GMT', 'Vary': 'Accept-Language, Cookie', 'Content-Language': 'en', 'Strict-Transport-Security': 'max-age=31536000', 'Cache-Control': 'private, no-cache, no-store, must-revalidate', 'Pragma': 'no-cache', 'Expires': 'Sat, 01 Jan 2000 00:00:00 GMT', 'X-Frame-Options': 'SAMEORIGIN', 'content-security-policy': \"report-uri https://www.instagram.com/security/csp_report/; default-src 'self' https://www.instagram.com; img-src data: blob: https://*.fbcdn.net https://*.instagram.com https://*.cdninstagram.com https://*.facebook.com https://*.fbsbx.com https://*.threads.net https://*.giphy.com; font-src data: https://*.fbcdn.net https://*.instagram.com https://*.cdninstagram.com; media-src 'self' blob: https://www.instagram.com https://*.cdninstagram.com https://*.fbcdn.net; manifest-src 'self' https://www.instagram.com; script-src 'self' https://instagram.com https://www.instagram.com https://*.www.instagram.com https://*.cdninstagram.com wss://www.instagram.com https://*.facebook.com https://*.fbcdn.net https://*.facebook.net 'unsafe-inline' 'unsafe-eval' blob:; style-src 'self' https://*.www.instagram.com https://www.instagram.com 'unsafe-inline'; connect-src 'self' https://instagram.com https://www.instagram.com https://*.www.instagram.com https://graph.instagram.com https://*.graph.instagram.com https://i.instagram.com/graphql_www https://graphql.instagram.com https://*.cdninstagram.com https://api.instagram.com https://i.instagram.com https://*.i.instagram.com https://*.od.instagram.com https://i.threads.net https://*.od.threads.net wss://www.instagram.com wss://edge-chat.instagram.com https://*.facebook.com https://*.fbcdn.net https://*.facebook.net chrome-extension://boadgeojelhgndaghljhdicfkmllpafd blob:; worker-src 'self' blob: https://www.instagram.com; frame-src 'self' https://instagram.com https://www.instagram.com https://*.instagram.com https://staticxx.facebook.com https://www.facebook.com https://web.facebook.com https://connect.facebook.net https://m.facebook.com https://*.fbsbx.com; object-src 'none'; upgrade-insecure-requests\", 'cross-origin-embedder-policy-report-only': 'require-corp;report-to=\"coep\"', 'report-to': '{\"group\": \"coep\", \"max_age\": 86400, \"endpoints\": [{\"url\": \"/security/coep_report/\"}]},{\"group\": \"coop\", \"max_age\": 86400, \"endpoints\": [{\"url\": \"/security/coop_report/\"}]}', 'cross-origin-resource-policy': 'cross-origin', 'cross-origin-opener-policy': 'same-origin-allow-popups;report-to=\"coop\"', 'X-Content-Type-Options': 'nosniff', 'X-XSS-Protection': '0', 'x-ig-push-state': 'c2', 'x-ig-cache-control': 'cache', 'x-aed': '145', 'Access-Control-Expose-Headers': 'X-IG-Set-WWW-Claim', 'x-ig-request-elapsed-time-ms': '2081', 'x-ig-peak-time': '0', 'x-stack': 'dis', 'Set-Cookie': 'csrftoken=2G6fKyTkNP5TOCClEWRNWaKiMe8FiHZD; Domain=.instagram.com; expires=Thu, 20-Mar-2025 01:13:28 GMT; Max-Age=31449600; Path=/; Secure, rur=\"CCO\\\\05465415610723\\\\0541742519608:01f73a78afe957b7b284eba5527d8cd401768805afbf4694bd785e8405ea2512cb85f0e8\"; Domain=.instagram.com; HttpOnly; Path=/; SameSite=Lax; Secure, mid=ZfuJtgAEAAH8sLYNgT9w7hESBezP; Domain=.instagram.com; expires=Fri, 25-Apr-2025 01:13:28 GMT; Max-Age=34560000; Path=/; Secure, ds_user_id=65415610723; Domain=.instagram.com; expires=Wed, 19-Jun-2024 01:13:28 GMT; Max-Age=7776000; Path=/; Secure, th_eu_pref=\"\"; Domain=instagram.com; expires=Thu, 01-Jan-1970 00:00:00 GMT; Max-Age=0; Path=/, th_eu_pref=\"\"; Domain=.instagram.com; expires=Thu, 01-Jan-1970 00:00:00 GMT; Max-Age=0; Path=/, th_eu_pref=\"\"; Domain=i.instagram.com; expires=Thu, 01-Jan-1970 00:00:00 GMT; Max-Age=0; Path=/, th_eu_pref=\"\"; Domain=.i.instagram.com; expires=Thu, 01-Jan-1970 00:00:00 GMT; Max-Age=0; Path=/, th_eu_pref=\"\"; Domain=www.instagram.com; expires=Thu, 01-Jan-1970 00:00:00 GMT; Max-Age=0; Path=/, th_eu_pref=\"\"; Domain=.www.instagram.com; expires=Thu, 01-Jan-1970 00:00:00 GMT; Max-Age=0; Path=/, th_eu_pref=\"\"; Domain=.threads.net; expires=Thu, 01-Jan-1970 00:00:00 GMT; Max-Age=0; Path=/, th_eu_pref=\"\"; expires=Thu, 01-Jan-1970 00:00:00 GMT; Max-Age=0; Path=/, ig_did=5FC096B5-9A67-4798-A5DE-07EE66096C1B; Domain=.instagram.com; expires=Fri, 21-Mar-2025 01:13:28 GMT; HttpOnly; Max-Age=31536000; Path=/; Secure, sessionid=65415610723%3AmZH88136JRGK0i%3A3%3AAYcZg_av97pj9O-wkQxlwHkiYKxY1t1OLoyolmEfhA; Domain=.instagram.com; expires=Fri, 21-Mar-2025 01:13:28 GMT; HttpOnly; Max-Age=31536000; Path=/; Secure', 'x-fb-load': '377', 'x-ig-origin-region': 'cco', 'Alt-Svc': 'h3=\":443\"; ma=86400', 'Connection': 'keep-alive', 'Content-Length': '130'})\n",
    "# 쿠키가져오기\n",
    "resp = request(\"POST\", url, data=data, headers=headers)\n",
    "'''\n",
    "\n",
    "pprint(headers)\n",
    "# sessionid=65415610723%3AmZH88136JRGK0i%3A3%3AAYcZg_av97pj9O-wkQxlwHkiYKxY1t1OLoyolmEfhA;\n",
    "#'csrftoken=2G6fKyTkNP5TOCClEWRNWaKiMe8FiHZD;"
   ]
  },
  {
   "cell_type": "code",
   "execution_count": 60,
   "metadata": {},
   "outputs": [
    {
     "name": "stdout",
     "output_type": "stream",
     "text": [
      "{'X-csrftoken': 'yar_BnVD7sx7TV8_eMzUoc', 'set-cookie': \"'csrftoken':'p1eHAMgGugnvlECV7WdjCb340skzk78o';'cookies_dict':'65415610723%3AFrh1MQF2fOl9Aj%3A28%3AAYeTNFnA6BHyUrq2uAf9Cl7qlYXye8lIJUMCW9Bshg'\"}\n"
     ]
    }
   ],
   "source": [
    "headers = {\n",
    "    \"X-csrftoken\": csrf,\n",
    "    \"set-cookie\": f\"'csrftoken':'{cookies_dict['csrftoken']}';'cookies_dict':'{cookies_dict['sessionid']}'\"\n",
    "}\n",
    "\n",
    "print(headers)"
   ]
  },
  {
   "cell_type": "code",
   "execution_count": 13,
   "metadata": {},
   "outputs": [
    {
     "data": {
      "text/plain": [
       "(200,\n",
       " {'Vary': 'Accept-Encoding', 'Content-Encoding': 'gzip', 'Content-Type': 'application/x-javascript; charset=utf-8', 'cross-origin-resource-policy': 'cross-origin', 'Cache-Control': 'private, no-cache, no-store, must-revalidate', 'Pragma': 'no-cache', 'X-Frame-Options': 'DENY', 'X-Content-Type-Options': 'nosniff', 'Expires': 'Sat, 01 Jan 2000 00:00:00 GMT', 'reporting-endpoints': 'coop_report=\"https://www.facebook.com/browser_reporting/coop/?minimize=0\", coep_report=\"https://www.facebook.com/browser_reporting/coep/?minimize=0\", default=\"https://www.instagram.com/error/ig_web_error_reports/?device_level=unknown\"', 'report-to': '{\"max_age\":2592000,\"endpoints\":[{\"url\":\"https:\\\\/\\\\/www.facebook.com\\\\/browser_reporting\\\\/coop\\\\/?minimize=0\"}],\"group\":\"coop_report\",\"include_subdomains\":true}, {\"max_age\":86400,\"endpoints\":[{\"url\":\"https:\\\\/\\\\/www.facebook.com\\\\/browser_reporting\\\\/coep\\\\/?minimize=0\"}],\"group\":\"coep_report\"}, {\"max_age\":259200,\"endpoints\":[{\"url\":\"https:\\\\/\\\\/www.instagram.com\\\\/error\\\\/ig_web_error_reports\\\\/?device_level=unknown\"}]}', 'cross-origin-embedder-policy-report-only': 'require-corp;report-to=\"coep_report\"', 'cross-origin-opener-policy': 'same-origin-allow-popups;report-to=\"coop_report\"', 'Strict-Transport-Security': 'max-age=31536000; preload; includeSubDomains', 'x-stack': 'www', 'X-FB-Debug': 'x2qn2GvdP2CCeR99IPmbkoETbRuUG1KgEVyvHdjQKWDIyDsoDMV/TmmMqHeN1fQrz0pchP/E9xNpQe02j1O3Rw==', 'Date': 'Thu, 21 Mar 2024 01:07:37 GMT', 'Alt-Svc': 'h3=\":443\"; ma=86400', 'Transfer-Encoding': 'chunked', 'Connection': 'keep-alive'},\n",
       " 'for (;;);{\"__ar\":1,\"error\":1357005,\"errorSummary\":\"Your Request Couldn\\'t be Processed\",\"errorDescription\":\"There was a problem with this request. We\\'re working on getting it fixed as soon as we can.\",\"payload\":null,\"lid\":\"7348617134635999525\"}')"
      ]
     },
     "execution_count": 13,
     "metadata": {},
     "output_type": "execute_result"
    }
   ],
   "source": [
    "#### 인스타그램 게시물 가져오려면 하나더 해야함: app_id를 넣어주어야 함.\n",
    "from requests.sessions import Session\n",
    "from requests import request\n",
    "from bs4 import BeautifulSoup\n",
    "from datetime import datetime\n",
    "import re\n",
    "\n",
    "# csrf 토큰 가져오기\n",
    "url = 'https://www.instagram.com/'\n",
    "resp = request('GET', url)\n",
    "csrf = re.search(r'\"csrf_token\":\"(.+?)\"', resp.text).group(1)\n",
    "\n",
    "headers = {\n",
    "    \"X-csrftoken\": csrf\n",
    "    \"set-cookie\": f\"{cookies_dict['csrftoken']};{cookies_dict['sessionid']}\"\n",
    "}\n",
    "\n",
    "print(headers)\n",
    "\n",
    "# 쿠키 가져오기\n",
    "Session.cookies = resp.headers['Set-cookies']\n",
    "\n",
    "url = \"https://www.instagram.com/api/graphql\"\n",
    "data = {\n",
    "    \"av\": 17841465361706951,\n",
    "    \"__d\": \"www\",\n",
    "    \"__user\": 0,\n",
    "    \"__a\": 1,\n",
    "    \"__req\": \"t\",\n",
    "    \"__hs\": \"19803.HYP:instagram_web_pkg.2.1..0.1\",\n",
    "    \"dpr\": 2,\n",
    "    \"__ccg\": \"UNKNOWN\",\n",
    "    \"__rev\": 1012200989,\n",
    "    \"__s\": \"w3c45x:2pz483:bhp7fr\",\n",
    "    \"__hsi\": 7348612487581341243,\n",
    "    \"__dyn\": \"7xeUjG1mxu1syUbFp40NonwgU7SbzEdF8aUco2qwJxS0k24o0B-q1ew65xO0FE2awt81s8hwGwQwoEcE7O2l0Fwqo31w9a9x-0z8jwae4UaEW2G1NwwwNwKwHw8Xxm16wUwtEvw4JwJCwLyES1Twoob82cwMwrUdUbGwmk0KU6O1FwlE6PhA6bxy4VUK6V89F8C58\",\n",
    "    \"__csr\": \"g94mRdlgnnJ9kykPFbdYQOv9liIxp4KAh5TBX49l_rcGUFQpteV2a9GnyOudAimEj-GUzBGLiLLiFebZt4rhUgFpr_hvyqz4qmidADz-EV4BKiVGCzd7UhK8VV8oKF8Jp8jAJ38jxu6kum00kZK0S82Z8VQ1K808_Cw3Go0pkaApmh2Eza0g6dg5W5EoDh9h0b40d1w2Toke0ZU9o2vEw1Kk0EQ4o13Qmt2FE6K1Km00AQE\",\n",
    "    \"__comet_req\": 7,\n",
    "    \"fb_dtsg\": \"NAcMUp2kL5-IqZluUQRVEZihEkYCVz-Fo640jeVtMo2N30_xcFMQ8ow:17865068956001195:1710980961\",\n",
    "    \"jazoest\": 26153,\n",
    "    \"lsd\": \"5SI-IpxcWQydow9V9Gjc-_\",\n",
    "    \"__spin_r\": 1012200989,\n",
    "    \"__spin_b\": \"trunk\",\n",
    "    \"__spin_t\": 1710982175,\n",
    "    \"fb_api_caller_class\": \"RelayModern\",\n",
    "    \"fb_api_req_friendly_name\": \"PolarisSearchBoxRefetchableQuery\",\n",
    "    \"variables\": '{\"data\":{\"context\":\"blended\",\"include_reel\":\"true\",\"query\":\"수지\",\"rank_token\":\"\",\"search_surface\":\"web_top_search\"},\"hasQuery\":true}',\n",
    "    \"server_timestamps\": \"true\",\n",
    "    \"doc_id\": 6990233261085530\n",
    "}\n",
    "resp = request(\"POST\", url, data=data, headers=headers)\n",
    "resp.status_code, resp.headers, resp.text"
   ]
  },
  {
   "cell_type": "code",
   "execution_count": 53,
   "metadata": {},
   "outputs": [
    {
     "name": "stdout",
     "output_type": "stream",
     "text": [
      "{'csrftoken': 'p1eHAMgGugnvlECV7WdjCb340skzk78o', 'rur': '\"CCO\\\\05465415610723\\\\0541742524464:01f7a31b698c568045531d6e846e56e447caed3c4f00a0ccc866d97141578bdb8080dc38\"', 'mid': 'ZfucrgAEAAFNn_5RDYEblHbYR-xw', 'ds_user_id': '65415610723', 'th_eu_pref': '\"\"', 'ig_did': '33701747-D317-481C-AA1C-5DF9FB9F337B', 'sessionid': '65415610723%3AFrh1MQF2fOl9Aj%3A28%3AAYeTNFnA6BHyUrq2uAf9Cl7qlYXye8lIJUMCW9Bshg'}\n"
     ]
    }
   ],
   "source": [
    "# 쿠키가져오기\n",
    "resp = request(\"POST\", url, data=data, headers=headers)\n",
    "cookies_dict = {}\n",
    "if 'set-cookie' in resp.headers:\n",
    "    # 각 쿠키를 분리합니다.\n",
    "    for cookie in resp.headers['set-cookie'].split(','):\n",
    "        # 각 쿠키에서 첫 번째 `=` 기호를 기준으로 이름과 값을 분리합니다.\n",
    "        parts = cookie.split(';', 1)[0].split('=', 1)\n",
    "        if len(parts) == 2:  # 이름과 값의 쌍이 올바르게 있을 경우에만\n",
    "            key, value = parts\n",
    "            cookies_dict[key.strip()] = value.strip()"
   ]
  },
  {
   "cell_type": "code",
   "execution_count": 63,
   "metadata": {},
   "outputs": [
    {
     "data": {
      "text/plain": [
       "'csrftoken=yGUyjz0vJ0pWF5TLMeVJdx; expires=Thu, 20-Mar-2025 02:43:38 GMT; Max-Age=31449600; path=/; domain=.instagram.com; secure'"
      ]
     },
     "execution_count": 63,
     "metadata": {},
     "output_type": "execute_result"
    }
   ],
   "source": [
    "url = 'https://www.instagram.com/'\n",
    "resp = request('GET', url)\n",
    "resp.headers['set-cookie']"
   ]
  },
  {
   "cell_type": "code",
   "execution_count": null,
   "metadata": {},
   "outputs": [],
   "source": []
  }
 ],
 "metadata": {
  "kernelspec": {
   "display_name": "Python 3 (ipykernel)",
   "language": "python",
   "name": "python3"
  },
  "language_info": {
   "codemirror_mode": {
    "name": "ipython",
    "version": 3
   },
   "file_extension": ".py",
   "mimetype": "text/x-python",
   "name": "python",
   "nbconvert_exporter": "python",
   "pygments_lexer": "ipython3",
   "version": "3.11.8"
  }
 },
 "nbformat": 4,
 "nbformat_minor": 4
}
