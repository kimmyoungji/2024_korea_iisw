{
 "cells": [
  {
   "cell_type": "code",
   "execution_count": 1,
   "id": "5f7c940a-daf0-4a12-84c0-c2c28bb9331a",
   "metadata": {},
   "outputs": [],
   "source": [
    "# 스크래핑을 하기 위해서는, 사이트의 특정을 파악해야함"
   ]
  },
  {
   "cell_type": "code",
   "execution_count": 2,
   "id": "3c1562b9-e887-4b7d-83f6-325968ef5284",
   "metadata": {},
   "outputs": [],
   "source": [
    "# 뽐뿌\n",
    "# html4.1"
   ]
  },
  {
   "cell_type": "code",
   "execution_count": null,
   "id": "0624615a-586c-4093-96ef-4db36ecc2783",
   "metadata": {},
   "outputs": [],
   "source": [
    "# 팁:\n",
    "1) 페이지를 변경해서 바뀌는 부분을 확인한다. - urlpath, "
   ]
  },
  {
   "cell_type": "code",
   "execution_count": 40,
   "id": "e4e9b282-4682-4976-8a80-92ba76bf54b3",
   "metadata": {},
   "outputs": [],
   "source": [
    "from requests import request\n",
    "\n",
    "url = \"https://www.ppomppu.co.kr/zboard/zboard.php\"\n",
    "params = {\n",
    "    'id':'freeboard',\n",
    "    'page':1\n",
    "}\n",
    "\n",
    "resp = request('GET',url, params=params)"
   ]
  },
  {
   "cell_type": "code",
   "execution_count": 41,
   "id": "495d1a3e-0adb-4013-9e8c-5f394f394efc",
   "metadata": {},
   "outputs": [
    {
     "data": {
      "text/plain": [
       "'text/html; charset=euc-kr'"
      ]
     },
     "execution_count": 41,
     "metadata": {},
     "output_type": "execute_result"
    }
   ],
   "source": [
    "resp.headers['content-type']"
   ]
  },
  {
   "cell_type": "code",
   "execution_count": 42,
   "id": "940f2266-b971-4dfa-9984-82f95e268242",
   "metadata": {},
   "outputs": [
    {
     "data": {
      "text/plain": [
       "str"
      ]
     },
     "execution_count": 42,
     "metadata": {},
     "output_type": "execute_result"
    }
   ],
   "source": [
    "type(resp.text)"
   ]
  },
  {
   "cell_type": "code",
   "execution_count": 43,
   "id": "47865ad2-83f5-4288-90e8-6263e15061c7",
   "metadata": {},
   "outputs": [
    {
     "ename": "UnicodeEncodeError",
     "evalue": "'euc_kr' codec can't encode character '\\ufffd' in position 56063: illegal multibyte sequence",
     "output_type": "error",
     "traceback": [
      "\u001b[0;31m---------------------------------------------------------------------------\u001b[0m",
      "\u001b[0;31mUnicodeEncodeError\u001b[0m                        Traceback (most recent call last)",
      "Cell \u001b[0;32mIn[43], line 2\u001b[0m\n\u001b[1;32m      1\u001b[0m \u001b[38;5;66;03m# resp.content == resp.text.encode('euc-kr')\u001b[39;00m\n\u001b[0;32m----> 2\u001b[0m \u001b[43mresp\u001b[49m\u001b[38;5;241;43m.\u001b[39;49m\u001b[43mtext\u001b[49m\u001b[38;5;241;43m.\u001b[39;49m\u001b[43mencode\u001b[49m\u001b[43m(\u001b[49m\u001b[38;5;124;43m'\u001b[39;49m\u001b[38;5;124;43meuc-kr\u001b[39;49m\u001b[38;5;124;43m'\u001b[39;49m\u001b[43m)\u001b[49m\u001b[38;5;241m.\u001b[39mdecode(\u001b[38;5;124m'\u001b[39m\u001b[38;5;124mutf8\u001b[39m\u001b[38;5;124m'\u001b[39m,errors\u001b[38;5;241m=\u001b[39m\u001b[38;5;124m'\u001b[39m\u001b[38;5;124mignore\u001b[39m\u001b[38;5;124m'\u001b[39m)\n",
      "\u001b[0;31mUnicodeEncodeError\u001b[0m: 'euc_kr' codec can't encode character '\\ufffd' in position 56063: illegal multibyte sequence"
     ]
    }
   ],
   "source": [
    "# resp.content == resp.text.encode('euc-kr')\n",
    "resp.text.encode('euc-kr').decode('utf8',errors='ignore')"
   ]
  },
  {
   "cell_type": "code",
   "execution_count": 15,
   "id": "710031cf-6c38-4757-930f-ee5536bd5865",
   "metadata": {},
   "outputs": [],
   "source": [
    "from bs4 import BeautifulSoup\n",
    "\n",
    "dom = BeautifulSoup(resp.text, 'html.parser')"
   ]
  },
  {
   "cell_type": "code",
   "execution_count": 17,
   "id": "eac46e53-f9f3-4374-a147-3dd155bf6363",
   "metadata": {},
   "outputs": [],
   "source": [
    "from requests.compat import urljoin\n",
    "for tag in dom.select('#revolution_main_tabel tr#headNotice ~ tr > td:nth-child(3)'):\n",
    "    print(urljoin(url, tag.attrs['href']))"
   ]
  },
  {
   "cell_type": "code",
   "execution_count": 11,
   "id": "24a4b3b5-09fa-403e-ab49-13fa915dc0f3",
   "metadata": {},
   "outputs": [
    {
     "data": {
      "text/plain": [
       "0"
      ]
     },
     "execution_count": 11,
     "metadata": {},
     "output_type": "execute_result"
    }
   ],
   "source": []
  },
  {
   "cell_type": "code",
   "execution_count": 18,
   "id": "44ef06e3-db97-4719-bd1e-9aa75df553be",
   "metadata": {},
   "outputs": [],
   "source": [
    "# 댓글 가져오기"
   ]
  },
  {
   "cell_type": "code",
   "execution_count": 52,
   "id": "54a65fc1-f438-4128-8d88-29faaaa3f015",
   "metadata": {},
   "outputs": [],
   "source": [
    "resp = request('GET','https://www.ppomppu.co.kr/zboard/view.php?id=freeboard&page=2&divpage=1623&no=8711399')"
   ]
  },
  {
   "cell_type": "code",
   "execution_count": 53,
   "id": "9d01b78f-4a51-4935-a82d-4edf5b12e931",
   "metadata": {},
   "outputs": [
    {
     "data": {
      "text/plain": [
       "'text/html; charset=euc-kr'"
      ]
     },
     "execution_count": 53,
     "metadata": {},
     "output_type": "execute_result"
    }
   ],
   "source": [
    "resp.headers['Content-type']"
   ]
  },
  {
   "cell_type": "code",
   "execution_count": 54,
   "id": "b5111d68-253e-4b50-8f4a-412f55f01af1",
   "metadata": {},
   "outputs": [],
   "source": [
    "dom = BeautifulSoup(resp.text, 'lxml')\n",
    "                                # html.parser => 파서마다 결과가 다름\n",
    "                                # html5lib"
   ]
  },
  {
   "cell_type": "code",
   "execution_count": 56,
   "id": "6a76642c-79e9-4b20-a780-4a69b7411c80",
   "metadata": {},
   "outputs": [
    {
     "data": {
      "text/plain": [
       "[<td align=\"left\" class=\"board-contents\" valign=\"top\">\n",
       " <p> </p>\n",
       " <p> </p>\n",
       " <p>크루전은 아직도 진조크루가 강력하네요</p>\n",
       " <p> </p>\n",
       " <p> </p>\n",
       " <p>\n",
       " <img alt=\"20240319094243_FQLwNUQnBL.jpg\" data-css_width=\"600\" src=\"//cdn2.ppomppu.co.kr/zboard/data3/2024/0319/20240319094243_FQLwNUQnBL.jpg\" style=\"width: 600px; height: auto; max-width:900px;\"/>\n",
       " </p>\n",
       " <p> </p>\n",
       " <p> </p>\n",
       " <p>\n",
       " <span style=\"font-family: '맑은 고딕', 'Malgun Gothic', 돋움, dotum, sans-serif; font-size: 17px;\">비보이팀 '진조크루'(SKT)가 '세계브레이킹대회 언디스퓨티드' 5대 5 배틀에서 우승했다.</span><br style=\"font-family: '맑은 고딕', 'Malgun Gothic', 돋움, dotum, sans-serif; font-size: 17px;\"/><br style=\"font-family: '맑은 고딕', 'Malgun Gothic', 돋움, dotum, sans-serif; font-size: 17px;\"/><span style=\"font-family: '맑은 고딕', 'Malgun Gothic', 돋움, dotum, sans-serif; font-size: 17px;\">18일 진조크루 측에 따르면, 이 팀은 전날 일본 도쿄에서 열린 해당 대회 '토너먼트 결승'에서 1위를 차지했다. 4강전에서 일본 '바디카니발+1'을 5대 0으로 물리친 후 결승전에서 '바디카니발 2'와 겨뤄 이 같은 성과를 얻었다.</span><br style=\"font-family: '맑은 고딕', 'Malgun Gothic', 돋움, dotum, sans-serif; font-size: 17px;\"/><br style=\"font-family: '맑은 고딕', 'Malgun Gothic', 돋움, dotum, sans-serif; font-size: 17px;\"/><span style=\"font-family: '맑은 고딕', 'Malgun Gothic', 돋움, dotum, sans-serif; font-size: 17px;\">진조크루는 작년 브레이킹 종목 금메달리스트 김헌우(비보이 윙/SKT/CJ/서울시청 소속)가 속한 팀으로 세계에서 유일하게 그랜드 슬램을 달성했다.</span>\n",
       " </p>\n",
       " <p> </p><!--\"&lt;--></td>]"
      ]
     },
     "execution_count": 56,
     "metadata": {},
     "output_type": "execute_result"
    }
   ],
   "source": [
    "dom.select('table table table > tr:first-child > :first-child') # 클래스나 아이디가 일정하지 않다면, 구조를 보고"
   ]
  },
  {
   "cell_type": "code",
   "execution_count": 46,
   "id": "2d1c947e-32d9-4171-83b1-598ec13f988d",
   "metadata": {},
   "outputs": [
    {
     "data": {
      "text/plain": [
       "<!DOCTYPE html PUBLIC \"-//W3C//DTD XHTML 1.0 Transitional//EN\" \"http://www.w3.org/TR/xhtml1/DTD/xhtml1-transitional.dtd\">\n",
       "<html>\n",
       "<head>\n",
       "<meta content=\"text/html; charset=utf-8\" http-equiv=\"Content-Type\"/>\n",
       "<meta content=\"text/javascript\" http-equiv=\"Content-Script-Type\"/>\n",
       "<meta content=\"text/css\" http-equiv=\"Content-Style-Type\"/>\n",
       "<meta content=\"IE=edge\" http-equiv=\"X-UA-Compatible\"/>\n",
       "<meta content=\"PPOMPPU CO.\" name=\"author\"/>\n",
       "<meta content=\"쇼핑몰핫딜, 쿠폰 및 이벤트, 사용기, 휴대폰 등 쇼핑 정보 제공\" name=\"description\"/>\n",
       "<meta content=\"\" name=\"keywords\"/>\n",
       "<script src=\"https://www.googleoptimize.com/optimize.js?id=OPT-N6TJ7LN\"></script>\n",
       "<script async=\"async\" src=\"//www.googletagservices.com/tag/js/gpt.js\"></script>\n",
       "<script>var googletag = googletag || {};googletag.cmd = googletag.cmd || [];var display_googletags = display_googletags || [];</script>\n",
       "<meta content=\"https://www.ppomppu.co.kr/images/icon_app_20160427.png\" property=\"og:image\"/>\n",
       "<meta content=\"뽐뿌\" property=\"og:site_name\"/>\n",
       "<title>뽐뿌 - 자유게시판</title>\n",
       "<link href=\"//www.ppomppu.co.kr/css/stylesheet_newest.css?v=2024030802\" rel=\"stylesheet\" type=\"text/css\"/>\n",
       "<!--[if IE]><link rel=\"stylesheet\" type=\"text/css\" href=\"//www.ppomppu.co.kr/css/stylesheet_ms.css?v=2024030802\" /><![endif]-->\n",
       "<link href=\"//img.ppomppu.co.kr/favicon.ico\" rel=\"shortcut icon\"/>\n",
       "<link href=\"//img.ppomppu.co.kr/images/nn128.jpeg\" rel=\"apple-touch-icon\"/>\n",
       "<script>\n",
       "var G_HOME_URL    = \"https://www.ppomppu.co.kr\";\n",
       "var G_WWW_URL     = \"https://www.ppomppu.co.kr\";\n",
       "var G_WWW_REL_URL = \"//www.ppomppu.co.kr\";\n",
       "var G_MOB_URL     = \"https://m.ppomppu.co.kr\";\n",
       "var G_MOB_REL_URL = \"//m.ppomppu.co.kr\";\n",
       "var G_NIC_URL     = \"//nic.ppomppu.co.kr\";\n",
       "var G_MEMO_URL    = \"https://memo.ppomppu.co.kr\";\n",
       "var G_S_URL       = \"https://s.ppomppu.co.kr\";\n",
       "var G_HOME_SSL_URL= \"https://www.ppomppu.co.kr\";\n",
       "var G_WWW_SSL_URL = \"https://www.ppomppu.co.kr\";\n",
       "var G_MOB_SSL_URL = \"https://m.ppomppu.co.kr\";\n",
       "var G_MEMO_SSL_URL= \"https://memo.ppomppu.co.kr\";\n",
       "var G_S_SSL_URL   = \"https://s.ppomppu.co.kr\";\n",
       "var G_STATIC_URL  = \"//static.ppomppu.co.kr\";\n",
       "var G_IMG_URL     = \"//img.ppomppu.co.kr\";\n",
       "var G_CDN_URL     = \"//cdn2.ppomppu.co.kr\";\n",
       "var G_WWW_HREF_URL = \"\";\n",
       "var G_IS_MOB      = \"\";\n",
       "var G_IS_DARK = \"\";\n",
       "var G_HOTKEY_ENABLE = \"1\";\n",
       "var G_HOTKEY_STR = \"\";\n",
       "var G_SKIN_DIR = \"skin/DQ_Revolution_BBS\";\n",
       "var G_BBS_ID = \"freeboard\";\n",
       "var G_IS_GUEST = 1;\n",
       "var CSS_PC = \"2024030802\";\n",
       "</script>\n",
       "<script src=\"//cdn2.ppomppu.co.kr/js/default3.js?v=2024031204\" type=\"text/javascript\"></script>\n",
       "<script src=\"//cdn2.ppomppu.co.kr/js/jquery-1.11.2.min.js\" type=\"text/javascript\"></script>\n",
       "<script src=\"//cdn2.ppomppu.co.kr/js/jquery-migrate-1.2.1.min.js\" type=\"text/javascript\"></script>\n",
       "<script src=\"//cdn2.ppomppu.co.kr/js/jquery.rolling.js\" type=\"text/javascript\"></script>\n",
       "<script src=\"//cdn2.ppomppu.co.kr/js/jquery.elipsis.js\" type=\"text/javascript\"></script>\n",
       "<script src=\"//cdn2.ppomppu.co.kr/js/writeCapture.js\" type=\"text/javascript\"></script>\n",
       "<script src=\"//cdn2.ppomppu.co.kr/js/jquery.writeCapture.js\" type=\"text/javascript\"></script>\n",
       "<script src=\"/js/header.js?v=2024031204\" type=\"text/javascript\"></script>\n",
       "<script type=\"text/javascript\">\n",
       "  (function(i,s,o,g,r,a,m){i['GoogleAnalyticsObject']=r;i[r]=i[r]||function(){\n",
       "  (i[r].q=i[r].q||[]).push(arguments)},i[r].l=1*new Date();a=s.createElement(o),\n",
       "  m=s.getElementsByTagName(o)[0];a.async=1;a.src=g;m.parentNode.insertBefore(a,m)\n",
       "  })(window,document,'script','//www.google-analytics.com/analytics.js','ga');\n",
       "  ga('create', 'UA-1778193-1', {'cookieDomain': 'ppomppu.co.kr'});\n",
       "  ga('require', 'linkid', 'linkid.js');\n",
       "  ga('send', 'pageview');\n",
       "</script>\n",
       "<!-- GA4 -->\n",
       "<!-- Google tag (gtag.js) -->\n",
       "<script async=\"\" src=\"https://www.googletagmanager.com/gtag/js?id=G-641CFJ8BV0\"></script>\n",
       "<script>\n",
       "  window.dataLayer = window.dataLayer || [];\n",
       "  function gtag(){dataLayer.push(arguments);}\n",
       "  gtag('js', new Date());\n",
       "  \n",
       "  gtag('config', 'G-641CFJ8BV0', {'cookieDomain': 'ppomppu.co.kr'});\n",
       "  gtag('require', 'linkid', 'linkid.js');\n",
       "  gtag('send', 'pageview');\n",
       "</script></head>\n",
       "<body>\n",
       "<div class=\"wrapper\">\n",
       "<div class=\"sidebar\">\n",
       "<div class=\"floating-banner\">\n",
       "<div class=\"ad-banner\" id=\"pp_ban_right\" style=\"width:160px;height:600px;\">\n",
       "<script>\n",
       "                        googletag.cmd.push(function() {\n",
       "                        googletag.defineSlot('/65120695/r_banner_f', [160, 600], 'div-gpt-ad-1552883278863-0').addService(googletag.pubads());\n",
       "                        });\n",
       "                        </script>\n",
       "<div id=\"div-gpt-ad-1552883278863-0\" style=\" width:160px;height:600px;\"></div>\n",
       "</div>\n",
       "<div class=\"personal-ui-box\" id=\"tabs-container\">\n",
       "<ul class=\"tabs\">\n",
       "<li class=\"shortcut_title\"><a href=\"/myinfo/env.php?cmd=env\">단축키 <img src=\"//cdn2.ppomppu.co.kr/images/personal_setting_icon.png\"/></a></li>\n",
       "</ul>\n",
       "</div><!--/#tab-container-->\n",
       "</div><!--/.floating-banner-->\n",
       "</div><!--/.aside-->\n",
       "<div class=\"contents\">\n",
       "<div class=\"header\">\n",
       "<div class=\"wrap\">\n",
       "<a class=\"logo-sm\" href=\"https://www.ppomppu.co.kr/index.php\"><img alt=\"뽐뿌\" src=\"//img.ppomppu.co.kr/images/logo_sub.png\"/> </a>\n",
       "<a class=\"title-image\" href=\"/zboard/zboard.php?id=freeboard\">커뮤니티</a>\n",
       "<div class=\"ad-banner header-banner\" id=\"pp_ban_top\">\n",
       "<script>\n",
       "                            googletag.cmd.push(function() {\n",
       "                            googletag.defineSlot('/65120695/top_f', [468, 60], 'div-gpt-ad-1553129536230-0').addService(googletag.pubads());\n",
       "                            });\n",
       "                            </script>\n",
       "<div id=\"div-gpt-ad-1553129536230-0\" style=\" width:468px;height:60px;\"></div>\n",
       "</div>\n",
       "</div><!--/.header-->\n",
       "</div><!--/.wrap-->\n",
       "<!-- Top navigation -->\n",
       "<div class=\"top-nav\">\n",
       "<ul>\n",
       "<li class=\"menu01\"><a class=\"menu\" href=\"/zboard/zboard.php?id=ppomppu\">뽐뿌</a>\n",
       "<div class=\"sub-menu\">\n",
       "<ul>\n",
       "<li class=\"strong\"><i class=\"caret\"></i><a href=\"/zboard/zboard.php?id=ppomppu\">뽐뿌게시판</a></li>\n",
       "<li><a href=\"/zboard/zboard.php?id=ppomppu2\">휴대폰뽐뿌</a></li>\n",
       "<li><a href=\"/zboard/zboard.php?id=ppomppu4\">해외뽐뿌</a></li>\n",
       "<li class=\"new\"><a href=\"/zboard/zboard.php?id=ppomppu8\">알리뽐뿌</a></li>\n",
       "<li class=\"\"><a href=\"/hotdeal/\">뽐뿌핫딜</a></li>\n",
       "<li><a href=\"/zboard/zboard.php?id=pmarket\">쇼핑뽐뿌</a></li>\n",
       "<li class=\"divider strong\"><a href=\"/zboard/zboard.php?id=pmarket2\">휴대폰업체</a></li>\n",
       "<li class=\"new\"><a href=\"/zboard/zboard.php?id=pmarket3\">인터넷가입업체</a></li>\n",
       "<li><a href=\"/zboard/zboard.php?id=card_market\">카드업체</a></li>\n",
       "<li><a href=\"/zboard/zboard.php?id=pmarket7\">렌탈업체</a></li>\n",
       "<li><a href=\"/zboard/zboard.php?id=pmarket8\">보험업체</a></li>\n",
       "</ul>\n",
       "</div>\n",
       "</li>\n",
       "<li class=\"menu02\"><a class=\"menu\" href=\"/recent_main_article.php?type=event\">이벤트</a>\n",
       "<div class=\"sub-menu\">\n",
       "<ul>\n",
       "<li class=\"strong\"><i class=\"caret\"></i><a href=\"/zboard/zboard.php?id=event2\">이벤트게시판</a></li>\n",
       "<li><a href=\"/zboard/zboard.php?id=coupon\">쿠폰게시판</a></li>\n",
       "<li><a href=\"/zboard/zboard.php?id=experience\">체험단모집</a></li>\n",
       "<li><a href=\"/zboard/zboard.php?id=wcoupon\">다운로드 쿠폰</a></li>\n",
       "<li class=\"divider\"><a href=\"/zboard/zboard.php?id=love\">사랑공간</a></li>\n",
       "<li class=\"divider strong\"><a href=\"/zboard/zboard.php?id=event_ppomppu\">뽐뿌이벤트</a></li>\n",
       "</ul>\n",
       "</div>\n",
       "</li>\n",
       "<li class=\"menu03\"><a class=\"menu\" href=\"/recent_main_article.php?type=info\">정보</a>\n",
       "<div class=\"sub-menu\">\n",
       "<ul>\n",
       "<li class=\"strong\"><i class=\"caret\"></i><a href=\"/zboard/zboard.php?id=etc_info\">이것저것공유</a></li>\n",
       "<li class=\"new\"><a href=\"/zboard/zboard.php?id=youtube_info\">유튜브정보</a></li>\n",
       "<li><a href=\"/books/index.php\">도서정보</a></li>\n",
       "<li class=\"new\"><a href=\"/alcohol_info.php\">주류정보</a></li> <li class=\"divider strong\"><a href=\"/zboard/zboard.php?id=review2\">사용기</a></li>\n",
       "<li><a href=\"/zboard/zboard.php?id=receive\">구매후기</a></li>\n",
       "<li class=\"divider\"><a href=\"/zboard/zboard.php?id=ppomapp\">앱정보</a></li>\n",
       "<li><a href=\"/zboard/zboard.php?id=guin\">구인정보</a></li>\n",
       "<li class=\"divider strong\"><a href=\"/fortune/index.html\">무료운세</a></li>\n",
       "<li class=\"new\"><a href=\"/zboard/zboard.php?id=ppom_game\">뽐뿌게임</a></li>\n",
       "</ul>\n",
       "</div>\n",
       "</li>\n",
       "<li class=\"menu04 active\"><a class=\"menu\" href=\"/zboard/zboard.php?id=freeboard\">커뮤니티</a>\n",
       "<div class=\"sub-menu\">\n",
       "<ul>\n",
       "<li class=\"strong\"><i class=\"caret\"></i><a href=\"/all_bbs.php\">최신글</a></li>\n",
       "<li><a href=\"/zboard/zboard.php?id=freeboard\">자유게시판</a></li>\n",
       "<li><a href=\"/zboard/zboard.php?id=issue\">정치자유게시판</a></li>\n",
       "<li class=\"new\"><a href=\"/zboard/zboard.php?id=pol_left\">진보공감게시판</a></li>\n",
       "<li class=\"new\"><a href=\"/zboard/zboard.php?id=pol_right\">보수공감게시판</a></li>\n",
       "<li class=\"strong\"><a href=\"/zboard/zboard.php?id=humor\">유머/감동</a></li>\n",
       "<li class=\"divider\"><a href=\"/zboard/zboard.php?id=grade\">신입게시판</a></li>\n",
       "<li class=\"new\"><a href=\"/zboard/zboard.php?id=campaign\">뽐뿌미션</a></li>\n",
       "<li class=\"divider strong\"><a href=\"/hot.php\">HOT게시글</a></li>\n",
       "<li><a href=\"/hot_comment.php\">HOT코멘트</a></li>\n",
       "</ul>\n",
       "</div>\n",
       "</li>\n",
       "<li class=\"menu05\"><a class=\"menu\" href=\"/zboard/zboard.php?id=free_gallery\">갤러리</a>\n",
       "<div class=\"sub-menu\">\n",
       "<ul>\n",
       "<li class=\"strong\"><i class=\"caret\"></i><a href=\"/zboard/zboard.php?id=free_gallery\">자유갤러리</a></li>\n",
       "<!-- <li class=\"new\"><a href=\"/zboard/zboard.php?id=contest_gallery\">공모전갤러리</a></li>-->\n",
       "<li><a href=\"/zboard/zboard.php?id=star\">연예인갤러리</a></li>\n",
       "<li><a href=\"/zboard/zboard.php?id=announcer\">아나운서갤러리</a></li>\n",
       "<li class=\"divider\"><a href=\"/zboard/zboard.php?id=sketch_gallery\">그림갤러리</a></li>\n",
       "<li><a href=\"/zboard/zboard.php?id=bg_gallery\">바탕화면갤러리</a></li>\n",
       "<li><a href=\"/zboard/zboard.php?id=jjalbang\">짤방갤러리</a></li>\n",
       "<li><a href=\"/zboard/zboard.php?id=review_gallery\">닉콘신청갤러리</a></li>\n",
       "</ul>\n",
       "</div>\n",
       "</li>\n",
       "<li class=\"menu06\"><a class=\"menu\" href=\"/recent_main_article.php?type=market\">장터</a>\n",
       "<div class=\"sub-menu\">\n",
       "<ul>\n",
       "<li class=\"strong\"><i class=\"caret\"></i><a href=\"/zboard/zboard.php?id=market\">뽐뿌장터</a></li>\n",
       "<li><a href=\"/zboard/zboard.php?id=market_phone\">휴대폰장터</a></li>\n",
       "<li class=\"\"><a href=\"/zboard/zboard.php?id=market_data\">데이터장터</a></li>\n",
       "<li><a href=\"/zboard/zboard.php?id=onmarket\">온라인장터</a></li>\n",
       "<li class=\"divider strong\"><a href=\"/zboard/zboard.php?id=market_ecig\">전자담배장터</a></li>\n",
       "<li><a href=\"/zboard/zboard.php?id=market_car\">중고차장터</a></li>\n",
       "<li class=\"divider strong new\"><a href=\"/zboard/zboard.php?id=gonggu\">OTT/멤버십</a></li>\n",
       "<li><a href=\"/zboard/zboard.php?id=market_agent\">해외구매대행</a></li>\n",
       "<li class=\"divider strong\"><a href=\"/zboard/zboard.php?id=market_story\">장터이야기</a></li>\n",
       "<li><a href=\"/zboard/zboard.php?id=relay\">추천릴레이</a></li>\n",
       "</ul>\n",
       "</div>\n",
       "</li>\n",
       "<li class=\"menu07 extand\"><a class=\"menu\" href=\"/recent_forum_article.php\">포럼</a>\n",
       "<i class=\"caret\"></i>\n",
       "<!-- 공식 -->\n",
       "<div class=\"sub-menu forum-favourite official\" id=\"favorite-forum-panel\"></div>\n",
       "</li>\n",
       "<li class=\"menu08\"><a class=\"menu\" href=\"/recent_main_article.php?type=news\">뉴스</a>\n",
       "<div class=\"sub-menu\">\n",
       "<ul>\n",
       "<li class=\"strong\"><i class=\"caret\"></i><a href=\"/zboard/zboard.php?id=news_broadcast\">방송/연예</a></li>\n",
       "<li><a href=\"/zboard/zboard.php?id=news_sports\">스포츠</a></li>\n",
       "<li><a href=\"/zboard/zboard.php?id=news_pol_eco\">정치</a></li>\n",
       "<li><a href=\"/zboard/zboard.php?id=news_economy\">경제</a></li>\n",
       "<li><a href=\"/zboard/zboard.php?id=news_society\">사회</a></li>\n",
       "<li><a href=\"/zboard/zboard.php?id=news_culture\">문화</a></li>\n",
       "<li><a href=\"/zboard/zboard.php?id=news_life\">라이프</a></li>\n",
       "<li><a href=\"/zboard/zboard.php?id=news_travel\">여행</a></li>\n",
       "<li><a href=\"/zboard/zboard.php?id=news2\">IT/테크</a></li>\n",
       "<li><a href=\"/zboard/zboard.php?id=news\">지역</a></li>\n",
       "</ul>\n",
       "</div>\n",
       "</li>\n",
       "<li class=\"menu09 extand02\"><a class=\"menu\" href=\"/recent_main_article.php?type=consult\">상담실</a>\n",
       "<i class=\"caret\"></i>\n",
       "<div class=\"sub-menu\">\n",
       "<ul>\n",
       "<li class=\"title\">경제/자동차</li>\n",
       "<li class=\"strong\"><a href=\"/zboard/zboard.php?id=consulting\">보험상담</a></li>\n",
       "<li><a href=\"/zboard/zboard.php?id=loan_consult\">대출상담</a></li>\n",
       "<li class=\"new\"><a href=\"/zboard/zboard.php?id=tele_consult\">인터넷가입상담</a></li>\n",
       "<li><a href=\"/zboard/zboard.php?id=card_consult\">카드상담</a></li>\n",
       "<li><a href=\"/zboard/zboard.php?id=rental_consult\">렌탈상담</a></li>\n",
       "<li class=\"divider strong\"><a href=\"/zboard/zboard.php?id=car_service\">신차견적상담</a></li>\n",
       "</ul>\n",
       "<ul>\n",
       "<li class=\"title\">생활/전문가</li>\n",
       "<li><a href=\"/zboard/zboard.php?id=wedding_consult\">웨딩상담</a></li>\n",
       "<li><a href=\"/zboard/zboard.php?id=move_consult\">이사상담</a></li>\n",
       "<li class=\"new\"><a href=\"/zboard/zboard.php?id=aircon_consult\">에어컨설치상담</a></li>\n",
       "<li style=\"letter-spacing:-2px !important;\"><a href=\"/zboard/zboard.php?id=security_guard_consult\">보안경비상담</a></li>\n",
       "<li class=\"strong\"><a href=\"/zboard/zboard.php?id=etc_consult\">가전견적상담</a></li>\n",
       "<li class=\"divider\"><a href=\"/zboard/zboard.php?id=law_consult\">법률상담</a></li>\n",
       "<li class=\"new\"><a href=\"/zboard/zboard.php?id=tax_consult\">경영지원상담</a></li>\n",
       "</ul>\n",
       "</div>\n",
       "</li>\n",
       "</ul>\n",
       "</div>\n",
       "<!-- //Top navigation -->\n",
       "<div class=\"sub-nav\">\n",
       "<form action=\"https://www.ppomppu.co.kr/search_bbs.php\" method=\"get\" name=\"search1\">\n",
       "<input name=\"bbs_cate\" type=\"hidden\" value=\"\"/>\n",
       "<div class=\"input-search\" style=\"width:290px;\">\n",
       "<input name=\"keyword\" type=\"text\" value=\"일본 금리 인상 환율\"/>\n",
       "</div>\n",
       "<div class=\"hot-keyword\" id=\"subpage-hot-keyword\">\n",
       "<span id=\"subpage-hot-keyword-toggle-btn\" style=\"\">▼</span>\n",
       "<div class=\"hot-keyword-wrapper\" id=\"subpage-hot-keyword-wrapper\">\n",
       "<a href=\"/search_bbs.php?order_type=date&amp;keyword=%C7%D1%BC%D2%C8%F1+%B7%F9%C1%D8%BF%AD\">\n",
       "<img src=\"//img.ppomppu.co.kr/images/header/keyword01.gif\"/>\n",
       "<span> 한소희 류준열</span>\n",
       "</a>\n",
       "<a href=\"/search_bbs.php?order_type=date&amp;keyword=%B8%E8%BB%EC+%C7%D1%B9%F8+%C0%E2%C8%FC%BD%C3%B4%D9\">\n",
       "<img src=\"//img.ppomppu.co.kr/images/header/keyword02.gif\"/>\n",
       "<span> 멱살 한번 잡힙시다</span>\n",
       "</a>\n",
       "<a href=\"/search_bbs.php?order_type=date&amp;keyword=%B1%E8%C5%C3%BF%AC\">\n",
       "<img src=\"//img.ppomppu.co.kr/images/header/keyword03.gif\"/>\n",
       "<span> 김택연</span>\n",
       "</a>\n",
       "<a href=\"/search_bbs.php?order_type=date&amp;keyword=GTC\">\n",
       "<img src=\"//img.ppomppu.co.kr/images/header/keyword04.gif\"/>\n",
       "<span> GTC</span>\n",
       "</a>\n",
       "<a href=\"/search_bbs.php?order_type=date&amp;keyword=%C0%A7%C5%AC%B8%AE\">\n",
       "<img src=\"//img.ppomppu.co.kr/images/header/keyword05.gif\"/>\n",
       "<span> 위클리</span>\n",
       "</a>\n",
       "<a href=\"/search_bbs.php?order_type=date&amp;keyword=%C8%D6%B9%AE%B0%ED+%C7%F6%C1%D6%BF%B1\">\n",
       "<img src=\"//img.ppomppu.co.kr/images/header/keyword06.gif\"/>\n",
       "<span> 휘문고 현주엽</span>\n",
       "</a>\n",
       "<a href=\"/search_bbs.php?order_type=date&amp;keyword=%B8%C7%C0%AF+%B4%EB+%B8%AE%B9%F6%C7%AE\">\n",
       "<img src=\"//img.ppomppu.co.kr/images/header/keyword07.gif\"/>\n",
       "<span> 맨유 대 리버풀</span>\n",
       "</a>\n",
       "<a href=\"/search_bbs.php?order_type=date&amp;keyword=%C8%B2%B4%EB%C7%E5\">\n",
       "<img src=\"//img.ppomppu.co.kr/images/header/keyword08.gif\"/>\n",
       "<span> 황대헌</span>\n",
       "</a>\n",
       "<a href=\"/search_bbs.php?order_type=date&amp;keyword=%C4%ED%C6%CE+%BF%CD%BF%EC+%C4%ED%C6%CE%C0%CC%C3%F7+%B9%E8%B4%DE%BA%F1\">\n",
       "<img src=\"//img.ppomppu.co.kr/images/header/keyword09.gif\"/>\n",
       "<span> 쿠팡 와우 쿠팡이츠 배달비</span>\n",
       "</a>\n",
       "<a href=\"/search_bbs.php?order_type=date&amp;keyword=%C0%CF%BA%BB+%B1%DD%B8%AE+%C0%CE%BB%F3+%C8%AF%C0%B2\" style=\"background:#f1f1f1;\">\n",
       "<img src=\"//img.ppomppu.co.kr/images/header/keyword10.gif\"/>\n",
       "<span> 일본 금리 인상 환율</span>\n",
       "</a>\n",
       "</div>\n",
       "</div>\n",
       "<button class=\"btn btn-search\" type=\"submit\"></button>\n",
       "</form>\n",
       "<script>/* header.js 로 이관 */</script>\n",
       "<div class=\"sm_loginwrap\">\n",
       "<span class=\"smloginbtnbox\"><a class=\"loginsmbtn\" href=\"javascript:toggleHelpLayerOn('loginsm');\">로그인</a></span>\n",
       "<span><a class=\"memrog\" href=\"/https_redirect.php\">회원가입</a>|<a class=\"idpw\" href=\"https://www.ppomppu.co.kr/auth/auth.php?tab=id\" target=\"_blank\">아이디</a><img src=\"/images/main/dot03.gif\"/><a class=\"idpw\" href=\"https://www.ppomppu.co.kr/auth/auth.php?tab=pwd\" target=\"_blank\">비번찾기</a></span>\n",
       "</div>\n",
       "<div class=\"loginbox02\" id=\"loginsm\" style=\"display:none;\">\n",
       "<form action=\"https://www.ppomppu.co.kr/zboard/login_check.php\" method=\"post\" name=\"zb_login\" onsubmit=\"return zb_login_check_submit();\">\n",
       "<input name=\"s_url\" type=\"hidden\" value=\"/zboard/zboard.php?id=freeboard&amp;page=1\"/>\n",
       "<input checked=\"checked\" name=\"secure1\" type=\"hidden\" value=\"1\"/>\n",
       "<div class=\"secuopt\"><!--span class=\"secubtn\"><font color=\"#FF7713\">보안접속 <a href=\"#\" id=\"secure_name\" onclick='javascript:change_ssl()'><strong>ON</strong></a></font></span--> <span class=\"autologin\"><label><input name=\"auto_login\" onclick=\"check_autologin()\" type=\"checkbox\" value=\"1\"/> </label>자동로그인</span><span class=\"closebox\" style=\"float:right; padding-right:5px;\"><a href=\"javascript:toggleHelpLayerOff('loginsm');\"><img alt=\"닫기\" src=\"/images/main/close01.gif\"/></a></span></div>\n",
       "<ul class=\"loginput\">\n",
       "<li><input class=\"idinput\" id=\"user_id\" maxlength=\"20\" name=\"user_id\" style=\"background:url('/images/main/ppimg_20100617_007.gif') no-repeat; background-position:4px 5px;background-color:#fff;\" title=\"아이디입력\" type=\"text\"/></li>\n",
       "<li><input class=\"pwinput\" maxlength=\"20\" name=\"password\" style=\"background:url('/images/main/ppimg_20100617_008.gif') no-repeat; background-position:4px 5px;background-color:#fff;\" title=\"비밀번호입력\" type=\"password\"/></li>\n",
       "<li class=\"loginbtn\"><input alt=\"로그인\" src=\"/images/main/login_mainbtn.gif\" type=\"image\"/></li>\n",
       "</ul>\n",
       "</form>\n",
       "</div>\n",
       "</div>\n",
       "<!-- ST container ST -->\n",
       "<div class=\"container\">\n",
       "<div align=\"center\"><div id=\"header_box\"> <div class=\"bbs_title\"> <h1><a href=\"/zboard/zboard.php?id=freeboard\">자유게시판</a> 입니다.</h1> <p><a href=\"/zboard/zboard.php?id=issue\">정치자유게시판</a> | <a href=\"/zboard/zboard.php?id=humor\">유머/감동</a> | <a href=\"/zboard/zboard.php?id=pol_left\">진보공감게시판</a> | <a href=\"/zboard/zboard.php?id=pol_right\">보수공감게시판</a> | <a href=\"/myinfo/member_bookmark.php\"><img alt=\"북마크 아이콘\" src=\"//cdn2.ppomppu.co.kr/images/bookmark_icon_button.png\" style=\"width:14px;margin:-2px 0 0 0;\" title=\"북마크\"/></a> </p> </div><div class=\"desc\">\n",
       "미풍양속을 해치지 않는 범위 내에서 자유롭게 작성해주세요. <a href=\"/zboard/view.php?id=regulation&amp;page=2&amp;divpage=1&amp;no=6\" target=\"_blank\">[게시판 이용규칙]</a><br/>\n",
       "정치와 관련된 글은 <a href=\"/zboard/zboard.php?id=issue\" target=\"_blank\">정치자유게시판</a>을 이용해주세요.\n",
       "</div></div> <style type=\"text/css\">\n",
       "\t.ajaxtooltip{\n",
       "\tposition: absolute; /*leave this alone*/\n",
       "\tdisplay: none; /*leave this alone*/\n",
       "\tleft: 0; /*leave this alone*/\n",
       "\ttop: 0; /*leave this alone*/\n",
       "\tbackground: lightyellow;\n",
       "\tborder: 1px solid #000000;\n",
       "\tpadding: 0px;\n",
       "\t}\n",
       "\t</style>\n",
       "<script> var mouseover_noimage_path = \"//static.ppomppu.co.kr/www/img/noimage/noimage_400x300.jpg\"; </script>\n",
       "<script src=\"/js/ajaxtooltip.js\" type=\"text/javascript\"></script>\n",
       "<script language=\"JavaScript\" type=\"text/JavaScript\">\n",
       "var id=\"freeboard\", no=\"\", page=\"1\", select_arrange=\"headnum\", desc=\"asc\", page_num=\"30\", keyword=\"\", category=\"\", sn=\"off\", ss=\"off\", sc=\"off\", su=\"\", url=\"/zboard/zboard.php?id=freeboard&page=1\", pic_overLimit1=\"900\", pic_overLimit2=\"900\", dir=\"skin/DQ_Revolution_BBS\";\n",
       "</script>\n",
       "<table border=\"0\" cellpadding=\"0\" cellspacing=\"0\" width=\"900\"><tr><td colspan=\"11\" height=\"5\">\n",
       "<div class=\"navcontainer\"><ul id=\"navlist\"><li><a href=\"zboard.php?id=freeboard\" id=\"current\" onfocus=\"blur()\"><b>전체</b></a></li><li><a href=\"zboard.php?id=freeboard&amp;category=1\" onfocus=\"blur()\">일반</a></li><li><a href=\"zboard.php?id=freeboard&amp;category=2\" onfocus=\"blur()\">말머리</a></li>\n",
       "<script>\n",
       "\n",
       "    \t$(document).ready(function(){\n",
       "\n",
       "    \t\t$('#cate_select').change(function() {\n",
       "        \t\tlocation.href = $('#cate_select option:selected').val();\n",
       "    \t\t});\n",
       "    \t});\n",
       "\n",
       "    \t</script>\n",
       "</ul><ul class=\"nav_hot2\" style=\"padding:15px 5px 0 0;\">\n",
       "<li><a href=\"/zboard/zboard.php?id=freeboard&amp;hotlist_flag=999\"> - <span class=\"nav_hot_ico\">HOT</span> 게시글</a></li>\n",
       "</ul></div></td></tr></table>\n",
       "<table border=\"0\" cellpadding=\"0\" cellspacing=\"0\" class=\"title_bg\" id=\"revolution_main_table\" width=\"900\">\n",
       "<col width=\"60\"/><col width=\"3\"/> <!--<col width=20></col><col width=3></col>--> <col width=\"110\"/><col width=\"3\"/> <col width=\"\"/> <col width=\"3\"/><col width=\"50\"/> <col width=\"3\"/><col width=\"38\"/> <col width=\"3\"/><col width=\"35\"/>\n",
       "<form action=\"list_all.php\" method=\"post\" name=\"list\">\n",
       "<input name=\"page\" type=\"hidden\" value=\"1\"/>\n",
       "<input name=\"id\" type=\"hidden\" value=\"freeboard\"/>\n",
       "<input name=\"select_arrange\" type=\"hidden\" value=\"headnum\"/>\n",
       "<input name=\"desc\" type=\"hidden\" value=\"asc\"/>\n",
       "<input name=\"page_num\" type=\"hidden\" value=\"30\"/>\n",
       "<input name=\"selected\" type=\"hidden\"/>\n",
       "<input name=\"exec\" type=\"hidden\"/>\n",
       "<input name=\"keyword\" type=\"hidden\" value=\"\"/>\n",
       "<input name=\"sn\" type=\"hidden\" value=\"off\"/>\n",
       "<input name=\"ss\" type=\"hidden\" value=\"Array\"/>\n",
       "<input name=\"sc\" type=\"hidden\" value=\"off\"/>\n",
       "<input name=\"html\" type=\"hidden\"/>\n",
       "<tr align=\"center\" id=\"headNotice\">\n",
       "<td class=\"baseList-space\" colspan=\"2\"><span class=\"baseList-sector\">번호</span></td>\n",
       "<td class=\"baseList-space\" colspan=\"2\"><span class=\"baseList-sector\">글쓴이</span></td> <td class=\"baseList-space\"><span class=\"baseList-sector\">제목</span></td> <td class=\"baseList-space\" colspan=\"2\"><span class=\"baseList-sector\">등록일</span></td> <td class=\"baseList-space\" colspan=\"2\"><span class=\"baseList-sector\">추천</span></td> <td class=\"baseList-space\" colspan=\"2\"><span class=\"baseList-sector\">조회</span></td></tr>\n",
       "<tr align=\"center\" class=\"baseNotice\" id=\"topNotice\" name=\"page_show_noti_1\" style=\"\">\n",
       "<td class=\"baseList-space baseList-numb\" colspan=\"2\"> <span id=\"notice-icon\">공지</span></td>\n",
       "<td align=\"left\" class=\"baseList-space\" colspan=\"2\"><a class=\"baseList-name\" href=\"#\" onclick=\"return false\"><img align=\"absmiddle\" alt=\"관리자3\" border=\"0\" src=\"//cdn2.ppomppu.co.kr/zboard/nickcon/157163.gif?v=20240319\"/></a></td>\n",
       "<td align=\"left\" class=\"baseList-space\"><img alt=\"이미지\" class=\"baseList-img\" src=\"/images/icon_04.png\"/> <a class=\"baseList-title\" href=\"view.php?id=regulation&amp;page=1&amp;divpage=202&amp;no=6\">[필독] 제목에는 특수 문자 사용을 절대 금지합니다.- 2010년 2월 24일</a></td>\n",
       "<td class=\"baseList-space\" colspan=\"2\" title=\"13.10.24 13:24:54\"><time class=\"baseList-time\">13/10/24</time></td>\n",
       "<td class=\"baseList-space baseList-rec\" colspan=\"2\">0</td> <td class=\"baseList-space baseList-views\" colspan=\"2\">4324677</td></tr>\n",
       "<tr align=\"center\" class=\"baseNotice js-alarm-list-first\">\n",
       "<td class=\"baseList-space baseList-numb\" colspan=\"2\"><span id=\"alert-icon\">알림</span></td>\n",
       "<td align=\"left\" class=\"baseList-space\" colspan=\"2\"><a class=\"baseList-name\" href=\"#\" onclick=\"return false\"><span><img alt=\"관리자아이콘\" src=\"//cdn2.ppomppu.co.kr/zboard/nickcon/1885556.gif?v=20240319\"/></span></a></td>\n",
       "<td align=\"left\" class=\"baseList-space\"><a class=\"baseList-title\" href=\"http://s.ppomppu.co.kr?target=aHR0cHM6Ly93d3cucHBvbXBwdS5jby5rci96Ym9hcmQvdmlldy5waHA/aWQ9ZXZlbnRfcHBvbXBwdSZubz04NTg=&amp;encode=on\" onclick=\"informAdClick('https://s.ppomppu.co.kr/inform_ad_click.php?p=aW5mb3JtX2FkX3B2X2NsaWNrfDIyODE%3D')\"><img class=\"baseList-img\" src=\"/images/icon_04.png\"/>[이벤트] 뽐뿌 공식 앱에 별점&amp;리뷰 남기고 뽐쿠폰 받자! (~3/24)</a><span class=\"baseList-toggleBtn\" onclick=\"listToggle(this)\"></span></td>\n",
       "<td class=\"baseList-space\" colspan=\"2\"><time class=\"baseList-time\">24/02/27</time></td>\n",
       "<td class=\"baseList-space baseList-views\" colspan=\"2\">0</td>\n",
       "</tr>\n",
       "<tr align=\"center\" class=\"baseNotice js-alarm-list\" style=\"display:none;\">\n",
       "<td class=\"baseList-space baseList-numb\" colspan=\"2\"><span id=\"alert-icon\">알림</span></td>\n",
       "<td align=\"left\" class=\"baseList-space\" colspan=\"2\"><a class=\"baseList-name\" href=\"#\" onclick=\"return false\"><span><img alt=\"관리자아이콘\" src=\"//cdn2.ppomppu.co.kr/zboard/nickcon/1885556.gif?v=20240319\"/></span></a></td>\n",
       "<td align=\"left\" class=\"baseList-space\"><a class=\"baseList-title\" href=\"http://s.ppomppu.co.kr?target=aHR0cHM6Ly93d3cucHBvbXBwdS5jby5rci96Ym9hcmQvdmlldy5waHA/aWQ9ZXZlbnRfcHBvbXBwdSZubz04NjI=&amp;encode=on\" onclick=\"informAdClick('https://s.ppomppu.co.kr/inform_ad_click.php?p=aW5mb3JtX2FkX3B2X2NsaWNrfDIyODQ%3D')\"><img class=\"baseList-img\" src=\"/images/icon_04.png\"/>영화 [바람의 세월] 시사회 응모 ~3/24 | 10년의 세월, 간절한 바람</a><span class=\"baseList-toggleBtn on\" onclick=\"listToggle(this)\"></span></td>\n",
       "<td class=\"baseList-space\" colspan=\"2\"><time class=\"baseList-time\">24/03/18</time></td>\n",
       "<td class=\"baseList-space baseList-views\" colspan=\"2\">0</td>\n",
       "</tr>\n",
       "<tr align=\"center\" class=\"baseNotice js-alarm-list\" style=\"display:none;\">\n",
       "<td class=\"baseList-space baseList-numb\" colspan=\"2\"><span id=\"alert-icon\">알림</span></td>\n",
       "<td align=\"left\" class=\"baseList-space\" colspan=\"2\"><a class=\"baseList-name\" href=\"#\" onclick=\"return false\"><span><img alt=\"관리자아이콘\" src=\"//cdn2.ppomppu.co.kr/zboard/nickcon/1885556.gif?v=20240319\"/></span></a></td>\n",
       "<td align=\"left\" class=\"baseList-space\"><a class=\"baseList-title\" href=\"http://s.ppomppu.co.kr?target=aHR0cHM6Ly93d3cucHBvbXBwdS5jby5rci96Ym9hcmQvdmlldy5waHA/aWQ9ZXZlbnRfcHBvbXBwdSZubz04NTg=&amp;encode=on\" onclick=\"informAdClick('https://s.ppomppu.co.kr/inform_ad_click.php?p=aW5mb3JtX2FkX3B2X2NsaWNrfDIyODE%3D')\"><img class=\"baseList-img\" src=\"/images/icon_04.png\"/>[이벤트] 뽐뿌 공식 앱에 별점&amp;리뷰 남기고 뽐쿠폰 받자! (~3/24)</a></td>\n",
       "<td class=\"baseList-space\" colspan=\"2\"><time class=\"baseList-time\">24/02/27</time></td>\n",
       "<td class=\"baseList-space baseList-views\" colspan=\"2\">0</td>\n",
       "</tr>\n",
       "<tr align=\"center\" class=\"baseNotice js-alarm-list\" style=\"display:none;\">\n",
       "<td class=\"baseList-space baseList-numb\" colspan=\"2\"><span id=\"alert-icon\">알림</span></td>\n",
       "<td align=\"left\" class=\"baseList-space\" colspan=\"2\"><a class=\"baseList-name\" href=\"#\" onclick=\"return false\"><span><img alt=\"관리자아이콘\" src=\"//cdn2.ppomppu.co.kr/zboard/nickcon/233708.gif?v=20240319\"/></span></a></td>\n",
       "<td align=\"left\" class=\"baseList-space\"><a class=\"baseList-title\" href=\"/zboard/zboard.php?id=consulting\" onclick=\"informAdClick('https://s.ppomppu.co.kr/inform_ad_click.php?p=aW5mb3JtX2FkX3B2X2NsaWNrfDExMjg%3D')\"><img class=\"baseList-img\" src=\"/images/icon_04.png\"/>[보험상담실] 비교설계, 증권분석, 보상청구</a></td>\n",
       "<td class=\"baseList-space\" colspan=\"2\"><time class=\"baseList-time\">20/12/02</time></td>\n",
       "<td class=\"baseList-space baseList-views\" colspan=\"2\">0</td>\n",
       "</tr>\n",
       "<tr align=\"center\" class=\"baseNotice js-alarm-list\" style=\"display:none;\">\n",
       "<td class=\"baseList-space baseList-numb\" colspan=\"2\"><span id=\"ad-icon\">AD</span></td>\n",
       "<td align=\"left\" class=\"baseList-space\" colspan=\"2\"><a class=\"baseList-name\" href=\"#\" onclick=\"return false\"><span>룰렛통신</span></a></td>\n",
       "<td align=\"left\" class=\"baseList-space\"><a class=\"baseList-title\" href=\"/zboard/view.php?id=sponsor&amp;no=87624\" onclick=\"informAdClick('https://s.ppomppu.co.kr/inform_ad_click.php?p=aW5mb3JtX2FkX3B2X2NsaWNrfDE3Nzk%3D')\"><img class=\"baseList-img\" src=\"/images/icon_04.png\"/>[룰렛통신]_[당일입금+전액현금+설치비면제]_[KT/SK/LG/알뜰인터넷]</a></td>\n",
       "<td class=\"baseList-space\" colspan=\"2\"><time class=\"baseList-time\">22/10/04</time></td>\n",
       "<td class=\"baseList-space baseList-views\" colspan=\"2\">0</td>\n",
       "</tr>\n",
       "<tr align=\"center\" class=\"baseNotice js-alarm-list\" style=\"display:none;\">\n",
       "<td class=\"baseList-space baseList-numb\" colspan=\"2\"><span id=\"ad-icon\">AD</span></td>\n",
       "<td align=\"left\" class=\"baseList-space\" colspan=\"2\"><a class=\"baseList-name\" href=\"#\" onclick=\"return false\"><span>홀리미렌탈</span></a></td>\n",
       "<td align=\"left\" class=\"baseList-space\"><a class=\"baseList-title\" href=\"/zboard/view.php?id=sponsor&amp;no=87483\" onclick=\"informAdClick('https://s.ppomppu.co.kr/inform_ad_click.php?p=aW5mb3JtX2FkX3B2X2NsaWNrfDE3Nzc%3D')\"><img class=\"baseList-img\" src=\"/images/icon_04.png\"/>I최고지원 최대지급I 뽐뿌 1위접수처 홀리미렌탈 제품별 최대지급l [쿠쿠][코웨이][현대...</a></td>\n",
       "<td class=\"baseList-space\" colspan=\"2\"><time class=\"baseList-time\">22/10/04</time></td>\n",
       "<td class=\"baseList-space baseList-views\" colspan=\"2\">0</td>\n",
       "</tr>\n",
       "<script>\n",
       "    function listToggle(obj){\n",
       "        if ( $(obj).hasClass(\"on\") ){\n",
       "        \t$('.js-alarm-list').hide();\n",
       "            $('.js-alarm-list-first').css('border-bottom', '0').show();\n",
       "            $('.baseNotice .baseList-toggleBtn').removeClass('on');\n",
       "        } else {\n",
       "        \t$('.js-alarm-list').show();\n",
       "            $('.js-alarm-list-first').css('border-bottom', '1px solid #e2e2e2').hide();\n",
       "            $('.baseNotice .baseList-toggleBtn').addClass('on');\n",
       "        }\n",
       "    }\n",
       "    var AlarmNotice = new class {\n",
       "        show(){\n",
       "            $('.js-alarm-list').show();\n",
       "            $('.js-alarm-list-first').css('border-bottom', '1px solid #e2e2e2').hide();\n",
       "        }\n",
       "\n",
       "        hide(){\n",
       "            $('.js-alarm-list').hide();\n",
       "            $('.js-alarm-list-first').css('border-bottom', '0').show();\n",
       "        }\n",
       "    };\n",
       "    </script>\n",
       "<tr><td colspan=\"11\"><div style=\"margin: 5px 0px 5px 0px;text-align:center;\"> <script>\n",
       "                        googletag.cmd.push(function() {\n",
       "                        googletag.defineSlot('/65120695/list2_f', [728, 90], 'div-gpt-ad-1683858142480-0').addService(googletag.pubads());\n",
       "                        });\n",
       "                        </script>\n",
       "<div style=\"text-align:center; width:100%; \">\n",
       "<center>\n",
       "<div id=\"div-gpt-ad-1683858142480-0\" style=\" width:728px;height:90px;\"></div>\n",
       "</center>\n",
       "</div>\n",
       "</div></td></tr>\n",
       "<tr align=\"center\" class=\"baseList\">\n",
       "<td class=\"baseList-space baseList-numb\" colspan=\"2\">8711468</td>\n",
       "<td align=\"left\" class=\"baseList-space\" colspan=\"2\"><a class=\"baseList-name\" href=\"#\" onclick=\"return false\"><span class=\"baseList-name\">이채양명주</span></a></td>\n",
       "<td align=\"left\" class=\"baseList-space\">\n",
       "<img alt=\"이미지\" class=\"baseList-img\" src=\"/images/icon_04.png\"/><a class=\"baseList-title\" href=\"view.php?id=freeboard&amp;page=1&amp;divpage=1623&amp;no=8711468\"><span>'대통령 1호 참모' 탈당 - 무소속 출마 잇따라</span></a><span class=\"baseList-c\" onclick='win_comment(\"popup_comment.php?id=freeboard&amp;no=8711468\");'>1</span>\n",
       "</td><td class=\"baseList-space\" colspan=\"2\" title=\"24.03.19 10:32:03\"><time class=\"baseList-time\">10:32:03</time></td><td class=\"baseList-space baseList-rec\" colspan=\"2\"></td><td class=\"baseList-space baseList-views\" colspan=\"2\">69</td></tr>\n",
       "<tr align=\"center\" class=\"baseList\">\n",
       "<td class=\"baseList-space baseList-numb\" colspan=\"2\">8711467</td>\n",
       "<td align=\"left\" class=\"baseList-space\" colspan=\"2\"><a class=\"baseList-name\" href=\"#\" onclick=\"return false\"><span class=\"baseList-name\">wIdltlhIdIql</span></a></td>\n",
       "<td align=\"left\" class=\"baseList-space\">\n",
       "<img align=\"absmiddle\" border=\"0\" class=\"baseList-img\" src=\"/images/icon_05.png\" title=\"모바일+이미지\"/><a class=\"baseList-title\" href=\"view.php?id=freeboard&amp;page=1&amp;divpage=1623&amp;no=8711467\"><span><span class=\"subject_preface\">[속보]</span> 떴네요 ㄷㄷ..jpg</span></a><span class=\"baseList-c\" onclick='win_comment(\"popup_comment.php?id=freeboard&amp;no=8711467\");'>5</span>\n",
       "</td><td class=\"baseList-space\" colspan=\"2\" title=\"24.03.19 10:29:36\"><time class=\"baseList-time\">10:29:36</time></td><td class=\"baseList-space baseList-rec\" colspan=\"2\"></td><td class=\"baseList-space baseList-views\" colspan=\"2\">1393</td></tr>\n",
       "<tr align=\"center\" class=\"baseList\">\n",
       "<td class=\"baseList-space baseList-numb\" colspan=\"2\">8711466</td>\n",
       "<td align=\"left\" class=\"baseList-space\" colspan=\"2\"><a class=\"baseList-name\" href=\"#\" onclick=\"return false\"><span class=\"baseList-name\">꼴값떠네</span></a></td>\n",
       "<td align=\"left\" class=\"baseList-space\">\n",
       "<img alt=\"이미지\" class=\"baseList-img\" src=\"/images/icon_01.png\"/><a class=\"baseList-title\" href=\"view.php?id=freeboard&amp;page=1&amp;divpage=1623&amp;no=8711466\"><span>조국 대표의 다섯자 토크 ㅋ</span></a><span class=\"baseList-c\" onclick='win_comment(\"popup_comment.php?id=freeboard&amp;no=8711466\");'>5</span>\n",
       "</td><td class=\"baseList-space\" colspan=\"2\" title=\"24.03.19 10:29:32\"><time class=\"baseList-time\">10:29:32</time></td><td class=\"baseList-space baseList-rec\" colspan=\"2\">1 - 0</td><td class=\"baseList-space baseList-views\" colspan=\"2\">492</td></tr>\n",
       "<tr align=\"center\" class=\"baseList\">\n",
       "<td class=\"baseList-space baseList-numb\" colspan=\"2\">8711465</td>\n",
       "<td align=\"left\" class=\"baseList-space\" colspan=\"2\"><a class=\"baseList-name\" href=\"#\" onclick=\"return false\"><span class=\"baseList-name\">올해는다르다</span></a></td>\n",
       "<td align=\"left\" class=\"baseList-space\">\n",
       "<img align=\"absmiddle\" border=\"0\" class=\"baseList-img\" src=\"/images/icon_05.png\" title=\"모바일+이미지\"/><a class=\"baseList-title\" href=\"view.php?id=freeboard&amp;page=1&amp;divpage=1623&amp;no=8711465\"><span>조국혁신당 논평 \"지금 격노할 사람은 국민\"</span></a><span class=\"baseList-c\" onclick='win_comment(\"popup_comment.php?id=freeboard&amp;no=8711465\");'>1</span>\n",
       "</td><td class=\"baseList-space\" colspan=\"2\" title=\"24.03.19 10:29:14\"><time class=\"baseList-time\">10:29:14</time></td><td class=\"baseList-space baseList-rec\" colspan=\"2\">2 - 0</td><td class=\"baseList-space baseList-views\" colspan=\"2\">276</td></tr>\n",
       "<tr align=\"center\" class=\"baseList\">\n",
       "<td class=\"baseList-space baseList-numb\" colspan=\"2\">8711464</td>\n",
       "<td align=\"left\" class=\"baseList-space\" colspan=\"2\"><a class=\"baseList-name\" href=\"#\" onclick=\"return false\"><span class=\"baseList-name\">이명박쥐세기</span></a></td>\n",
       "<td align=\"left\" class=\"baseList-space\">\n",
       "<img alt=\"이미지\" class=\"baseList-img\" src=\"/images/icon_04.png\"/><a class=\"baseList-title\" href=\"view.php?id=freeboard&amp;page=1&amp;divpage=1623&amp;no=8711464\"><span><span class=\"subject_preface\">[속보]</span> 의사들 큰일남 ㄷㄷㄷ</span></a><span class=\"baseList-c\" onclick='win_comment(\"popup_comment.php?id=freeboard&amp;no=8711464\");'>7</span>\n",
       "</td><td class=\"baseList-space\" colspan=\"2\" title=\"24.03.19 10:28:44\"><time class=\"baseList-time\">10:28:44</time></td><td class=\"baseList-space baseList-rec\" colspan=\"2\">1 - 0</td><td class=\"baseList-space baseList-views\" colspan=\"2\">989</td></tr>\n",
       "<tr align=\"center\" class=\"baseList\">\n",
       "<td class=\"baseList-space baseList-numb\" colspan=\"2\">8711463</td>\n",
       "<td align=\"left\" class=\"baseList-space\" colspan=\"2\"><a class=\"baseList-name\" href=\"#\" onclick=\"return false\"><span class=\"baseList-name\">알파라이징</span></a></td>\n",
       "<td align=\"left\" class=\"baseList-space\">\n",
       "<img alt=\"이미지\" class=\"baseList-img\" src=\"/images/icon_04.png\"/><a class=\"baseList-title\" href=\"view.php?id=freeboard&amp;page=1&amp;divpage=1623&amp;no=8711463\"><span>날씨가 많이 흐리네요</span></a><span class=\"baseList-c\" onclick='win_comment(\"popup_comment.php?id=freeboard&amp;no=8711463\");'>4</span>\n",
       "</td><td class=\"baseList-space\" colspan=\"2\" title=\"24.03.19 10:28:03\"><time class=\"baseList-time\">10:28:03</time></td><td class=\"baseList-space baseList-rec\" colspan=\"2\"></td><td class=\"baseList-space baseList-views\" colspan=\"2\">82</td></tr>\n",
       "<tr align=\"center\" class=\"baseList\">\n",
       "<td class=\"baseList-space baseList-numb\" colspan=\"2\">8711462</td>\n",
       "<td align=\"left\" class=\"baseList-space\" colspan=\"2\"><a class=\"baseList-name\" href=\"#\" onclick=\"return false\"><span class=\"baseList-name\">이채양명주</span></a></td>\n",
       "<td align=\"left\" class=\"baseList-space\">\n",
       "<img alt=\"이미지\" class=\"baseList-img\" src=\"/images/icon_04.png\"/><a class=\"baseList-title\" href=\"view.php?id=freeboard&amp;page=1&amp;divpage=1623&amp;no=8711462\"><span>박정훈 대령, 군검사 고소 - '구속영장 청구서에 허위사실 기재'</span></a><span class=\"baseList-c\" onclick='win_comment(\"popup_comment.php?id=freeboard&amp;no=8711462\");'>4</span>\n",
       "</td><td class=\"baseList-space\" colspan=\"2\" title=\"24.03.19 10:27:34\"><time class=\"baseList-time\">10:27:34</time></td><td class=\"baseList-space baseList-rec\" colspan=\"2\">3 - 0</td><td class=\"baseList-space baseList-views\" colspan=\"2\">304</td></tr>\n",
       "<tr align=\"center\" class=\"baseList\">\n",
       "<td class=\"baseList-space baseList-numb\" colspan=\"2\">8711461</td>\n",
       "<td align=\"left\" class=\"baseList-space\" colspan=\"2\"><a class=\"baseList-name\" href=\"#\" onclick=\"return false\"><span class=\"baseList-name\">홍차프린스</span></a></td>\n",
       "<td align=\"left\" class=\"baseList-space\">\n",
       "<img align=\"absmiddle\" border=\"0\" class=\"baseList-img\" src=\"/images/icon_02.png\" title=\"모바일\"/><a class=\"baseList-title\" href=\"view.php?id=freeboard&amp;page=1&amp;divpage=1623&amp;no=8711461\"><span>워치4 lte 모델 당근에서 샀는데 개통이 안되네요</span></a>\n",
       "</td><td class=\"baseList-space\" colspan=\"2\" title=\"24.03.19 10:27:10\"><time class=\"baseList-time\">10:27:10</time></td><td class=\"baseList-space baseList-rec\" colspan=\"2\"></td><td class=\"baseList-space baseList-views\" colspan=\"2\">141</td></tr>\n",
       "<tr align=\"center\" class=\"baseList\">\n",
       "<td class=\"baseList-space baseList-numb\" colspan=\"2\">8711460</td>\n",
       "<td align=\"left\" class=\"baseList-space\" colspan=\"2\"><a class=\"baseList-name\" href=\"#\" onclick=\"return false\"><span class=\"baseList-name\">어모나</span></a></td>\n",
       "<td align=\"left\" class=\"baseList-space\">\n",
       "<img alt=\"이미지\" class=\"baseList-img\" src=\"/images/icon_04.png\"/><a class=\"baseList-title\" href=\"view.php?id=freeboard&amp;page=1&amp;divpage=1623&amp;no=8711460\"><span>더펜트하우스청담 공시가만 164억 4년 연속 전국 최고가 아파트</span></a>\n",
       "</td><td class=\"baseList-space\" colspan=\"2\" title=\"24.03.19 10:27:05\"><time class=\"baseList-time\">10:27:05</time></td><td class=\"baseList-space baseList-rec\" colspan=\"2\"></td><td class=\"baseList-space baseList-views\" colspan=\"2\">116</td></tr>\n",
       "<tr align=\"center\" class=\"baseList\">\n",
       "<td class=\"baseList-space baseList-numb\" colspan=\"2\">8711459</td>\n",
       "<td align=\"left\" class=\"baseList-space\" colspan=\"2\"><a class=\"baseList-name\" href=\"#\" onclick=\"return false\"><span class=\"baseList-name\">부르스맨</span></a></td>\n",
       "<td align=\"left\" class=\"baseList-space\">\n",
       "<img align=\"absmiddle\" border=\"0\" class=\"baseList-img\" src=\"/images/icon_05.png\" title=\"모바일+이미지\"/><a class=\"baseList-title\" href=\"view.php?id=freeboard&amp;page=1&amp;divpage=1623&amp;no=8711459\"><span>공수부대 잡는 호주의 방공 시스템 ㅋ</span></a><span class=\"baseList-c\" onclick='win_comment(\"popup_comment.php?id=freeboard&amp;no=8711459\");'>4</span>\n",
       "</td><td class=\"baseList-space\" colspan=\"2\" title=\"24.03.19 10:26:56\"><time class=\"baseList-time\">10:26:56</time></td><td class=\"baseList-space baseList-rec\" colspan=\"2\"></td><td class=\"baseList-space baseList-views\" colspan=\"2\">570</td></tr>\n",
       "<tr align=\"center\" class=\"baseList\">\n",
       "<td class=\"baseList-space baseList-numb\" colspan=\"2\">8711458</td>\n",
       "<td align=\"left\" class=\"baseList-space\" colspan=\"2\"><a class=\"baseList-name\" href=\"#\" onclick=\"return false\"><span class=\"baseList-name\">wIdltlhIdIql</span></a></td>\n",
       "<td align=\"left\" class=\"baseList-space\">\n",
       "<img align=\"absmiddle\" border=\"0\" class=\"baseList-img\" src=\"/images/icon_02.png\" title=\"모바일\"/><a class=\"baseList-title\" href=\"view.php?id=freeboard&amp;page=1&amp;divpage=1623&amp;no=8711458\"><span><span class=\"subject_preface\">실시간)</span> 안산 근황 ㄷㄷ..jpg</span></a><span class=\"baseList-c\" onclick='win_comment(\"popup_comment.php?id=freeboard&amp;no=8711458\");'>2</span>\n",
       "</td><td class=\"baseList-space\" colspan=\"2\" title=\"24.03.19 10:26:49\"><time class=\"baseList-time\">10:26:49</time></td><td class=\"baseList-space baseList-rec\" colspan=\"2\">1 - 0</td><td class=\"baseList-space baseList-views\" colspan=\"2\">957</td></tr>\n",
       "<tr align=\"center\" class=\"baseList\">\n",
       "<td class=\"baseList-space baseList-numb\" colspan=\"2\">8711457</td>\n",
       "<td align=\"left\" class=\"baseList-space\" colspan=\"2\"><a class=\"baseList-name\" href=\"#\" onclick=\"return false\"><span class=\"baseList-name\">lulutori</span></a></td>\n",
       "<td align=\"left\" class=\"baseList-space\">\n",
       "<img align=\"absmiddle\" border=\"0\" class=\"baseList-img\" src=\"/images/icon_02.png\" title=\"모바일\"/><a class=\"baseList-title\" href=\"view.php?id=freeboard&amp;page=1&amp;divpage=1623&amp;no=8711457\"><span>차는 정말 자기 재산에 맞는걸 사야겠네요</span></a><span class=\"baseList-c\" onclick='win_comment(\"popup_comment.php?id=freeboard&amp;no=8711457\");'>3</span>\n",
       "</td><td class=\"baseList-space\" colspan=\"2\" title=\"24.03.19 10:26:19\"><time class=\"baseList-time\">10:26:19</time></td><td class=\"baseList-space baseList-rec\" colspan=\"2\"></td><td class=\"baseList-space baseList-views\" colspan=\"2\">473</td></tr>\n",
       "<tr align=\"center\" class=\"baseList\">\n",
       "<td class=\"baseList-space baseList-numb\" colspan=\"2\">8711456</td>\n",
       "<td align=\"left\" class=\"baseList-space\" colspan=\"2\"><a class=\"baseList-name\" href=\"#\" onclick=\"return false\"><span class=\"baseList-name\">탕탕물수육</span></a></td>\n",
       "<td align=\"left\" class=\"baseList-space\">\n",
       "<img alt=\"이미지\" class=\"baseList-img\" src=\"/images/icon_01.png\"/><a class=\"baseList-title\" href=\"view.php?id=freeboard&amp;page=1&amp;divpage=1623&amp;no=8711456\"><span>김흥국 대단하네요 ㄷㄷ</span></a><span class=\"baseList-c\" onclick='win_comment(\"popup_comment.php?id=freeboard&amp;no=8711456\");'>4</span>\n",
       "</td><td class=\"baseList-space\" colspan=\"2\" title=\"24.03.19 10:25:47\"><time class=\"baseList-time\">10:25:47</time></td><td class=\"baseList-space baseList-rec\" colspan=\"2\"></td><td class=\"baseList-space baseList-views\" colspan=\"2\">673</td></tr>\n",
       "<tr align=\"center\" class=\"baseList\">\n",
       "<td class=\"baseList-space baseList-numb\" colspan=\"2\">8711455</td>\n",
       "<td align=\"left\" class=\"baseList-space\" colspan=\"2\"><a class=\"baseList-name\" href=\"#\" onclick=\"return false\"><span class=\"baseList-name\">이채양명주</span></a></td>\n",
       "<td align=\"left\" class=\"baseList-space\">\n",
       "<img alt=\"이미지\" class=\"baseList-img\" src=\"/images/icon_04.png\"/><a class=\"baseList-title\" href=\"view.php?id=freeboard&amp;page=1&amp;divpage=1623&amp;no=8711455\"><span>김은혜 '이종섭 즉시 귀국해야' - 김웅 '김은혜, 역시 표 앞에 장사 없다...</span></a><span class=\"baseList-c\" onclick='win_comment(\"popup_comment.php?id=freeboard&amp;no=8711455\");'>4</span>\n",
       "</td><td class=\"baseList-space\" colspan=\"2\" title=\"24.03.19 10:25:38\"><time class=\"baseList-time\">10:25:38</time></td><td class=\"baseList-space baseList-rec\" colspan=\"2\"></td><td class=\"baseList-space baseList-views\" colspan=\"2\">292</td></tr>\n",
       "<tr align=\"center\" class=\"baseList\">\n",
       "<td class=\"baseList-space baseList-numb\" colspan=\"2\">8711454</td>\n",
       "<td align=\"left\" class=\"baseList-space\" colspan=\"2\"><a class=\"baseList-name\" href=\"#\" onclick=\"return false\"><span class=\"baseList-name\">출시요정</span></a></td>\n",
       "<td align=\"left\" class=\"baseList-space\">\n",
       "<img align=\"absmiddle\" border=\"0\" class=\"baseList-img\" src=\"/images/icon_05.png\" title=\"모바일+이미지\"/><a class=\"baseList-title\" href=\"view.php?id=freeboard&amp;page=1&amp;divpage=1623&amp;no=8711454\"><span><span class=\"subject_preface\">[기사]</span> \"허경영에게 성추행 당했다\" 수십명 무더기 고소</span></a><span class=\"baseList-c\" onclick='win_comment(\"popup_comment.php?id=freeboard&amp;no=8711454\");'>1</span>\n",
       "</td><td class=\"baseList-space\" colspan=\"2\" title=\"24.03.19 10:25:20\"><time class=\"baseList-time\">10:25:20</time></td><td class=\"baseList-space baseList-rec\" colspan=\"2\"></td><td class=\"baseList-space baseList-views\" colspan=\"2\">260</td></tr>\n",
       "<tr align=\"center\" class=\"baseList\">\n",
       "<td class=\"baseList-space baseList-numb\" colspan=\"2\">8711453</td>\n",
       "<td align=\"left\" class=\"baseList-space\" colspan=\"2\"><a class=\"baseList-name\" href=\"#\" onclick=\"return false\"><span class=\"baseList-name\">vip8371</span></a></td>\n",
       "<td align=\"left\" class=\"baseList-space\">\n",
       "<img align=\"absmiddle\" border=\"0\" class=\"baseList-img\" src=\"/images/icon_05.png\" title=\"모바일+이미지\"/><a class=\"baseList-title\" href=\"view.php?id=freeboard&amp;page=1&amp;divpage=1623&amp;no=8711453\"><span>검은 반도체 폭등</span></a><span class=\"baseList-c\" onclick='win_comment(\"popup_comment.php?id=freeboard&amp;no=8711453\");'>2</span>\n",
       "</td><td class=\"baseList-space\" colspan=\"2\" title=\"24.03.19 10:24:32\"><time class=\"baseList-time\">10:24:32</time></td><td class=\"baseList-space baseList-rec\" colspan=\"2\"></td><td class=\"baseList-space baseList-views\" colspan=\"2\">663</td></tr>\n",
       "<tr align=\"center\" class=\"baseList\">\n",
       "<td class=\"baseList-space baseList-numb\" colspan=\"2\">8711452</td>\n",
       "<td align=\"left\" class=\"baseList-space\" colspan=\"2\"><a class=\"baseList-name\" href=\"#\" onclick=\"return false\"><span class=\"baseList-name\">아르미써얼</span></a></td>\n",
       "<td align=\"left\" class=\"baseList-space\">\n",
       "<img align=\"absmiddle\" border=\"0\" class=\"baseList-img\" src=\"/images/icon_05.png\" title=\"모바일+이미지\"/><a class=\"baseList-title\" href=\"view.php?id=freeboard&amp;page=1&amp;divpage=1623&amp;no=8711452\"><span>윤, 의료개혁은 국민의 명령</span></a><span class=\"baseList-c\" onclick='win_comment(\"popup_comment.php?id=freeboard&amp;no=8711452\");'>6</span>\n",
       "</td><td class=\"baseList-space\" colspan=\"2\" title=\"24.03.19 10:23:44\"><time class=\"baseList-time\">10:23:44</time></td><td class=\"baseList-space baseList-rec\" colspan=\"2\">0 - 1</td><td class=\"baseList-space baseList-views\" colspan=\"2\">263</td></tr>\n",
       "<tr align=\"center\" class=\"baseList\">\n",
       "<td class=\"baseList-space baseList-numb\" colspan=\"2\">8711451</td>\n",
       "<td align=\"left\" class=\"baseList-space\" colspan=\"2\"><a class=\"baseList-name\" href=\"#\" onclick=\"return false\"><span class=\"baseList-name\">라이아게임</span></a></td>\n",
       "<td align=\"left\" class=\"baseList-space\">\n",
       "<img align=\"absmiddle\" border=\"0\" class=\"baseList-img\" src=\"/images/icon_05.png\" title=\"모바일+이미지\"/><a class=\"baseList-title\" href=\"view.php?id=freeboard&amp;page=1&amp;divpage=1623&amp;no=8711451\"><span>프랑스 국대 유니폼 어떤게 낫나요</span></a><span class=\"baseList-c\" onclick='win_comment(\"popup_comment.php?id=freeboard&amp;no=8711451\");'>4</span>\n",
       "</td><td class=\"baseList-space\" colspan=\"2\" title=\"24.03.19 10:23:34\"><time class=\"baseList-time\">10:23:34</time></td><td class=\"baseList-space baseList-rec\" colspan=\"2\"></td><td class=\"baseList-space baseList-views\" colspan=\"2\">359</td></tr>\n",
       "<tr align=\"center\" class=\"baseList\">\n",
       "<td class=\"baseList-space baseList-numb\" colspan=\"2\">8711450</td>\n",
       "<td align=\"left\" class=\"baseList-space\" colspan=\"2\"><a class=\"baseList-name\" href=\"#\" onclick=\"return false\"><span class=\"baseList-name\">ilillillilll</span></a></td>\n",
       "<td align=\"left\" class=\"baseList-space\">\n",
       "<img alt=\"이미지\" class=\"baseList-img\" src=\"/images/icon_01.png\"/><a class=\"baseList-title\" href=\"view.php?id=freeboard&amp;page=1&amp;divpage=1623&amp;no=8711450\"><span>정준영 출소,, ㄷㄷ</span></a>\n",
       "</td><td class=\"baseList-space\" colspan=\"2\" title=\"24.03.19 10:23:26\"><time class=\"baseList-time\">10:23:26</time></td><td class=\"baseList-space baseList-rec\" colspan=\"2\"></td><td class=\"baseList-space baseList-views\" colspan=\"2\">624</td></tr>\n",
       "<tr align=\"center\" class=\"baseList\">\n",
       "<td class=\"baseList-space baseList-numb\" colspan=\"2\">8711449</td>\n",
       "<td align=\"left\" class=\"baseList-space\" colspan=\"2\"><a class=\"baseList-name\" href=\"#\" onclick=\"return false\"><img align=\"absmiddle\" alt=\"주유\" border=\"0\" src=\"//cdn2.ppomppu.co.kr/zboard/nickcon/124659.gif?v=20240319\"/></a></td>\n",
       "<td align=\"left\" class=\"baseList-space\">\n",
       "<img alt=\"이미지\" class=\"baseList-img\" src=\"/images/icon_04.png\"/><a class=\"baseList-title\" href=\"view.php?id=freeboard&amp;page=1&amp;divpage=1623&amp;no=8711449\"><span>화담숲 대리 예약 해보신분??</span></a>\n",
       "</td><td class=\"baseList-space\" colspan=\"2\" title=\"24.03.19 10:23:24\"><time class=\"baseList-time\">10:23:24</time></td><td class=\"baseList-space baseList-rec\" colspan=\"2\"></td><td class=\"baseList-space baseList-views\" colspan=\"2\">140</td></tr>\n",
       "<tr align=\"center\" class=\"baseList\">\n",
       "<td class=\"baseList-space baseList-numb\" colspan=\"2\">8711448</td>\n",
       "<td align=\"left\" class=\"baseList-space\" colspan=\"2\"><a class=\"baseList-name\" href=\"#\" onclick=\"return false\"><span class=\"baseList-name\">아야~아야!</span></a></td>\n",
       "<td align=\"left\" class=\"baseList-space\">\n",
       "<img align=\"absmiddle\" border=\"0\" class=\"baseList-img\" src=\"/images/icon_02.png\" title=\"모바일\"/><a class=\"baseList-title\" href=\"view.php?id=freeboard&amp;page=1&amp;divpage=1623&amp;no=8711448\"><span>장성에세 무지 포 쏴대네요ㅠ</span></a>\n",
       "</td><td class=\"baseList-space\" colspan=\"2\" title=\"24.03.19 10:22:56\"><time class=\"baseList-time\">10:22:56</time></td><td class=\"baseList-space baseList-rec\" colspan=\"2\"></td><td class=\"baseList-space baseList-views\" colspan=\"2\">276</td></tr>\n",
       "<tr align=\"center\" class=\"baseList\">\n",
       "<td class=\"baseList-space baseList-numb\" colspan=\"2\">8711447</td>\n",
       "<td align=\"left\" class=\"baseList-space\" colspan=\"2\"><a class=\"baseList-name\" href=\"#\" onclick=\"return false\"><span class=\"baseList-name\">행복평화사랑</span></a></td>\n",
       "<td align=\"left\" class=\"baseList-space\">\n",
       "<img alt=\"이미지\" class=\"baseList-img\" src=\"/images/icon_04.png\"/><a class=\"baseList-title\" href=\"view.php?id=freeboard&amp;page=1&amp;divpage=1623&amp;no=8711447\"><span>카페 온 부모 \"아이 먹이게 우유 조금만\"거절하자 \"그게 아깝냐</span></a><span class=\"baseList-c\" onclick='win_comment(\"popup_comment.php?id=freeboard&amp;no=8711447\");'>5</span>\n",
       "</td><td class=\"baseList-space\" colspan=\"2\" title=\"24.03.19 10:22:36\"><time class=\"baseList-time\">10:22:36</time></td><td class=\"baseList-space baseList-rec\" colspan=\"2\">1 - 0</td><td class=\"baseList-space baseList-views\" colspan=\"2\">437</td></tr>\n",
       "<tr align=\"center\" class=\"baseList\">\n",
       "<td class=\"baseList-space baseList-numb\" colspan=\"2\">8711446</td>\n",
       "<td align=\"left\" class=\"baseList-space\" colspan=\"2\"><a class=\"baseList-name\" href=\"#\" onclick=\"return false\"><span class=\"baseList-name\">빈대보다못한2찍들</span></a></td>\n",
       "<td align=\"left\" class=\"baseList-space\">\n",
       "<img align=\"absmiddle\" border=\"0\" class=\"baseList-img\" src=\"/images/icon_05.png\" title=\"모바일+이미지\"/><a class=\"baseList-title\" href=\"view.php?id=freeboard&amp;page=1&amp;divpage=1623&amp;no=8711446\"><span>한동훈; 민주당은요?</span></a><span class=\"baseList-c\" onclick='win_comment(\"popup_comment.php?id=freeboard&amp;no=8711446\");'>7</span>\n",
       "</td><td class=\"baseList-space\" colspan=\"2\" title=\"24.03.19 10:22:17\"><time class=\"baseList-time\">10:22:17</time></td><td class=\"baseList-space baseList-rec\" colspan=\"2\"></td><td class=\"baseList-space baseList-views\" colspan=\"2\">498</td></tr>\n",
       "<tr align=\"center\" class=\"baseList\">\n",
       "<td class=\"baseList-space baseList-numb\" colspan=\"2\">8711445</td>\n",
       "<td align=\"left\" class=\"baseList-space\" colspan=\"2\"><a class=\"baseList-name\" href=\"#\" onclick=\"return false\"><span class=\"baseList-name\">금콩</span></a></td>\n",
       "<td align=\"left\" class=\"baseList-space\">\n",
       "<img alt=\"이미지\" class=\"baseList-img\" src=\"/images/icon_04.png\"/><a class=\"baseList-title\" href=\"view.php?id=freeboard&amp;page=1&amp;divpage=1623&amp;no=8711445\"><span>비가 �P아지겠네여</span></a><span class=\"baseList-c\" onclick='win_comment(\"popup_comment.php?id=freeboard&amp;no=8711445\");'>1</span>\n",
       "</td><td class=\"baseList-space\" colspan=\"2\" title=\"24.03.19 10:21:35\"><time class=\"baseList-time\">10:21:35</time></td><td class=\"baseList-space baseList-rec\" colspan=\"2\"></td><td class=\"baseList-space baseList-views\" colspan=\"2\">294</td></tr>\n",
       "<tr align=\"center\" class=\"baseList\">\n",
       "<td class=\"baseList-space baseList-numb\" colspan=\"2\">8711444</td>\n",
       "<td align=\"left\" class=\"baseList-space\" colspan=\"2\"><a class=\"baseList-name\" href=\"#\" onclick=\"return false\"><span class=\"baseList-name\">그린티커피</span></a></td>\n",
       "<td align=\"left\" class=\"baseList-space\">\n",
       "<img alt=\"이미지\" class=\"baseList-img\" src=\"/images/icon_01.png\"/><a class=\"baseList-title\" href=\"view.php?id=freeboard&amp;page=1&amp;divpage=1623&amp;no=8711444\"><span>정준영, 오늘(19일) 새벽 만기 출소</span></a><span class=\"baseList-c\" onclick='win_comment(\"popup_comment.php?id=freeboard&amp;no=8711444\");'>2</span>\n",
       "</td><td class=\"baseList-space\" colspan=\"2\" title=\"24.03.19 10:20:33\"><time class=\"baseList-time\">10:20:33</time></td><td class=\"baseList-space baseList-rec\" colspan=\"2\"></td><td class=\"baseList-space baseList-views\" colspan=\"2\">572</td></tr>\n",
       "<tr align=\"center\" class=\"baseList\">\n",
       "<td class=\"baseList-space baseList-numb\" colspan=\"2\">8711443</td>\n",
       "<td align=\"left\" class=\"baseList-space\" colspan=\"2\"><a class=\"baseList-name\" href=\"#\" onclick=\"return false\"><span class=\"baseList-name\">facebookrevievv</span></a></td>\n",
       "<td align=\"left\" class=\"baseList-space\">\n",
       "<img align=\"absmiddle\" border=\"0\" class=\"baseList-img\" src=\"/images/icon_05.png\" title=\"모바일+이미지\"/><a class=\"baseList-title\" href=\"view.php?id=freeboard&amp;page=1&amp;divpage=1623&amp;no=8711443\"><span>알리 파인애플 어제 안되던거 방금 됐네요 1000원</span></a><span class=\"baseList-c\" onclick='win_comment(\"popup_comment.php?id=freeboard&amp;no=8711443\");'>4</span>\n",
       "</td><td class=\"baseList-space\" colspan=\"2\" title=\"24.03.19 10:20:20\"><time class=\"baseList-time\">10:20:20</time></td><td class=\"baseList-space baseList-rec\" colspan=\"2\"></td><td class=\"baseList-space baseList-views\" colspan=\"2\">701</td></tr>\n",
       "<tr align=\"center\" class=\"baseList\">\n",
       "<td class=\"baseList-space baseList-numb\" colspan=\"2\">8711442</td>\n",
       "<td align=\"left\" class=\"baseList-space\" colspan=\"2\"><a class=\"baseList-name\" href=\"#\" onclick=\"return false\"><img align=\"absmiddle\" alt=\"수유주민\" border=\"0\" src=\"//cdn2.ppomppu.co.kr/zboard/nickcon/531585.gif?v=20240319\"/></a></td>\n",
       "<td align=\"left\" class=\"baseList-space\">\n",
       "<img alt=\"이미지\" class=\"baseList-img\" src=\"/images/icon_04.png\"/><img class=\"icons_vertical\" src=\"/images/menu/pop_icon2.jpg\"/> <a class=\"baseList-title\" href=\"view.php?id=freeboard&amp;page=1&amp;divpage=1623&amp;no=8711442\"><span>카톡 무료 이모티콘 3종</span></a><span class=\"baseList-c\" onclick='win_comment(\"popup_comment.php?id=freeboard&amp;no=8711442\");'>21</span>\n",
       "</td><td class=\"baseList-space\" colspan=\"2\" title=\"24.03.19 10:18:29\"><time class=\"baseList-time\">10:18:29</time></td><td class=\"baseList-space baseList-rec\" colspan=\"2\">18 - 0</td><td class=\"baseList-space baseList-views\" colspan=\"2\">2234</td></tr>\n",
       "<tr align=\"center\" class=\"baseList\">\n",
       "<td class=\"baseList-space baseList-numb\" colspan=\"2\">8711441</td>\n",
       "<td align=\"left\" class=\"baseList-space\" colspan=\"2\"><a class=\"baseList-name\" href=\"#\" onclick=\"return false\"><span class=\"baseList-name\">용감한치타</span></a></td>\n",
       "<td align=\"left\" class=\"baseList-space\">\n",
       "<img alt=\"이미지\" class=\"baseList-img\" src=\"/images/icon_01.png\"/><a class=\"baseList-title\" href=\"view.php?id=freeboard&amp;page=1&amp;divpage=1623&amp;no=8711441\"><span>연예인이나 운동선수가 정치적 발언 이해 못하는 대학생</span></a><span class=\"baseList-c\" onclick='win_comment(\"popup_comment.php?id=freeboard&amp;no=8711441\");'>5</span>\n",
       "</td><td class=\"baseList-space\" colspan=\"2\" title=\"24.03.19 10:17:36\"><time class=\"baseList-time\">10:17:36</time></td><td class=\"baseList-space baseList-rec\" colspan=\"2\"></td><td class=\"baseList-space baseList-views\" colspan=\"2\">717</td></tr>\n",
       "<tr align=\"center\" class=\"baseList\">\n",
       "<td class=\"baseList-space baseList-numb\" colspan=\"2\">8711440</td>\n",
       "<td align=\"left\" class=\"baseList-space\" colspan=\"2\"><a class=\"baseList-name\" href=\"#\" onclick=\"return false\"><span class=\"baseList-name\">backham</span></a></td>\n",
       "<td align=\"left\" class=\"baseList-space\">\n",
       "<img align=\"absmiddle\" border=\"0\" class=\"baseList-img\" src=\"/images/icon_02.png\" title=\"모바일\"/><a class=\"baseList-title\" href=\"view.php?id=freeboard&amp;page=1&amp;divpage=1623&amp;no=8711440\"><span>이정부가 이전 정부와 다른 점</span></a><span class=\"baseList-c\" onclick='win_comment(\"popup_comment.php?id=freeboard&amp;no=8711440\");'>9</span>\n",
       "</td><td class=\"baseList-space\" colspan=\"2\" title=\"24.03.19 10:16:40\"><time class=\"baseList-time\">10:16:40</time></td><td class=\"baseList-space baseList-rec\" colspan=\"2\">2 - 0</td><td class=\"baseList-space baseList-views\" colspan=\"2\">724</td></tr>\n",
       "<tr align=\"center\" class=\"baseList\">\n",
       "<td class=\"baseList-space baseList-numb\" colspan=\"2\">8711439</td>\n",
       "<td align=\"left\" class=\"baseList-space\" colspan=\"2\"><a class=\"baseList-name\" href=\"#\" onclick=\"return false\"><span class=\"baseList-name\">대치동피바라기</span></a></td>\n",
       "<td align=\"left\" class=\"baseList-space\">\n",
       "<img alt=\"이미지\" class=\"baseList-img\" src=\"/images/icon_04.png\"/><a class=\"baseList-title\" href=\"view.php?id=freeboard&amp;page=1&amp;divpage=1623&amp;no=8711439\"><span>선착 이벤트좀 없어졌으면</span></a><span class=\"baseList-c\" onclick='win_comment(\"popup_comment.php?id=freeboard&amp;no=8711439\");'>1</span>\n",
       "</td><td class=\"baseList-space\" colspan=\"2\" title=\"24.03.19 10:16:30\"><time class=\"baseList-time\">10:16:30</time></td><td class=\"baseList-space baseList-rec\" colspan=\"2\"></td><td class=\"baseList-space baseList-views\" colspan=\"2\">343</td></tr>\n",
       "<script>\n",
       "    $('.list-notice-alarm-tr').last().css('border-bottom', '0');\n",
       "    $('.notice_separator').css({ 'width':'900px', 'height':'1px'});\n",
       "    </script>\n",
       "<script language=\"JavaScript\" type=\"text/javascript\">\n",
       "function ChangeList(sel) {\n",
       "\tlocation.href=\"/set_list.php?list_num=\"+sel.value+\"&url=%2Fzboard%2Fzboard.php%3Fid%3Dfreeboard%26page%3D1\";\n",
       "}\n",
       "</script>\n",
       "</form>\n",
       "</table>\n",
       "<div class=\"dark_bt_line\" style=\"width: 100%;height: 1px; background:#e2e2e2\"></div>\n",
       "<div class=\"j_pp_ban_bbs_list\" id=\"pp_ban_bbs_list\" style=\"height:92px;text-align:center;vertical-align:middle;background: #f8f7f7;padding: 6px 0px 4px 0px;\">\n",
       "<script>\n",
       "                            googletag.cmd.push(function() {\n",
       "                            googletag.defineSlot('/65120695/list_f', [728, 90], 'div-gpt-ad-1553129226637-0').addService(googletag.pubads());\n",
       "                            });\n",
       "                            </script>\n",
       "<div style=\"text-align:center; width:100%; \">\n",
       "<center>\n",
       "<div id=\"div-gpt-ad-1553129226637-0\" style=\" width:728px;height:90px;\"></div>\n",
       "</center>\n",
       "</div>\n",
       "</div>\n",
       "<table border=\"0\" cellpadding=\"0\" cellspacing=\"0\" class=\"info_bg\" width=\"900\">\n",
       "<tr>\n",
       "<td class=\"title_bg_03\" colspan=\"11\"></td>\n",
       "</tr>\n",
       "</table>\n",
       "<table border=\"0\" cellpadding=\"0\" cellspacing=\"0\" class=\"info_bg\" width=\"900\">\n",
       "<tr><td colspan=\"3\" height=\"16\"></td></tr>\n",
       "<tr valign=\"top\">\n",
       "<td style=\"padding-left:10px;text-align:left\">\n",
       "<nobr>\n",
       "\t\t <a href=\"/zboard/zboard.php?id=freeboard&amp;page=1&amp;prev_no=&amp;divpage=1623\" onfocus=\"blur()\"><font class=\"han\" style=\"font-weight:bold\">-새로고침</font></a>  <a href=\"/zboard/zboard.php?id=freeboard&amp;page=2&amp;divpage=1623\" onfocus=\"blur()\"><font class=\"han\" style=\"font-weight:bold\">-다음페이지</font></a>  \t\t</nobr>\n",
       "</td>\n",
       "</tr>\n",
       "<tr><td colspan=\"3\" height=\"3\"></td></tr>\n",
       "</table>\n",
       "<link href=\"/css/page_list.css\" rel=\"stylesheet\" type=\"text/css\"/>\n",
       "<table border=\"0\" cellpadding=\"0\" cellspacing=\"0\" class=\"info_bg\" width=\"900\">\n",
       "<tbody>\n",
       "<tr>\n",
       "</tr>\n",
       "<tr>\n",
       "<td id=\"page_list\">\n",
       "<font class=\"han\">\n",
       "<font class=\"page_inert\">1</font> <a href=\"/zboard/zboard.php?id=freeboard&amp;page=2&amp;divpage=1623\" onfocus=\"blur()\">2</a> <a href=\"/zboard/zboard.php?id=freeboard&amp;page=3&amp;divpage=1623\" onfocus=\"blur()\">3</a> <a href=\"/zboard/zboard.php?id=freeboard&amp;page=4&amp;divpage=1623\" onfocus=\"blur()\">4</a> <a href=\"/zboard/zboard.php?id=freeboard&amp;page=5&amp;divpage=1623\" onfocus=\"blur()\">5</a> <a href=\"/zboard/zboard.php?id=freeboard&amp;page=6&amp;divpage=1623\" onfocus=\"blur()\">6</a> <a href=\"/zboard/zboard.php?id=freeboard&amp;page=7&amp;divpage=1623\" onfocus=\"blur()\">7</a> <a href=\"/zboard/zboard.php?id=freeboard&amp;page=8&amp;divpage=1623\" onfocus=\"blur()\">8</a> <a href=\"/zboard/zboard.php?id=freeboard&amp;page=9&amp;divpage=1623\" onfocus=\"blur()\">9</a> <a href=\"/zboard/zboard.php?id=freeboard&amp;page=10&amp;divpage=1623\" onfocus=\"blur()\">10</a> <a class=\"page_next\" href=\"/zboard/zboard.php?id=freeboard&amp;page=11&amp;divpage=1623\" onfocus=\"blur()\">다음<img src=\"/images/darkmode/icon_arrow_right.png\"/></a> </font>\n",
       "</td>\n",
       "</tr>\n",
       "</tbody></table>\n",
       "<table border=\"0\" cellpadding=\"0\" cellspacing=\"0\" class=\"info_bg\" width=\"900\">\n",
       "<form action=\"/zboard/zboard.php\" method=\"get\" name=\"search\">\n",
       "<input name=\"id\" type=\"hidden\" value=\"freeboard\"/>\n",
       "<input name=\"page_num\" type=\"hidden\" value=\"30\"/>\n",
       "<input name=\"category\" type=\"hidden\" value=\"\"/>\n",
       "<tr><td style=\"height:5px\"></td></tr>\n",
       "<tr>\n",
       "<td align=\"right\" colspan=\"2\" style=\"padding-right:5px;\">\n",
       "<table border=\"0\" cellpadding=\"0\" cellspacing=\"0\">\n",
       "<tr>\n",
       "<td style=\"width:150px;text-align:right;\"><nobr>\n",
       "<select id=\"search_type\" name=\"search_type\" style=\"height:30px;\">\n",
       "<option value=\"sub_memo\"> 제목+본문</option>\n",
       "<option value=\"subject\">제목만</option>\n",
       "<option value=\"name\">닉네임</option>\n",
       "<option value=\"csubject\">코멘트내용</option>\n",
       "<option value=\"cname\">코멘트작성자</option>\n",
       "</select>\n",
       "</nobr>\n",
       "</td>\n",
       "<td class=\"search-input\">\n",
       "<span class=\"default custom01\">\n",
       "<input class=\"input\" id=\"keyword\" name=\"keyword\" size=\"15\" style=\"height:27px !important;\" type=\"text\" value=\"\"/>\n",
       "<input onfocus=\"blur()\" style=\"background-color:#ffffff\" type=\"submit\" value=\"\"/>\n",
       "</span>\n",
       "</td>\n",
       "</tr>\n",
       "</table>\n",
       "</td>\n",
       "</tr>\n",
       "</form>\n",
       "</table>\n",
       "<table border=\"0\" cellpadding=\"0\" cellspacing=\"0\" width=\"900\">\n",
       "<tr class=\"info_bg\"><td colspan=\"2\" height=\"5\"></td></tr>\n",
       "<tr><td height=\"10\"></td></tr>\n",
       "</table>\n",
       "</div><script language=\"JavaScript\">\n",
       "<!--\n",
       "$(document).ready(function(){\n",
       "PpomHotKey.regist('Period', '/zboard/zboard.php?id=freeboard&page=2&divpage=1623');\n",
       "});\n",
       "// -->\n",
       "</script>\n",
       "<style>\n",
       ".container .YN_box2>div { width: 22%; }\n",
       ".container .YN_box2 ul li { width: 13px;}\n",
       "</style>\n",
       "</div></div></div>\n",
       "<!-- ED container ED -->\n",
       "<!--/.contents-->\n",
       "<!--/.wrapper-->\n",
       "<!-- Right small banner -->\n",
       "<div class=\"floating-banner-sm\">\n",
       "</div>\n",
       "<!-- Footer -->\n",
       "<div class=\"footer\">\n",
       "<div class=\"nav\">\n",
       "<a href=\"/zboard/zboard.php?id=faq\">사이트소개</a>\n",
       "<a href=\"/zboard/zboard.php?id=propose\">운영참여</a>\n",
       "<a href=\"/service/request.php\">게시중단요청</a>\n",
       "<a href=\"/zboard/view.php?id=regulation&amp;page=2&amp;divpage=1&amp;no=4\">이용약관</a>\n",
       "<a href=\"/zboard/view.php?id=regulation&amp;page=1&amp;divpage=1&amp;no=48\"><strong>개인정보처리방침</strong></a>\n",
       "<a href=\"/zboard/view.php?id=regulation&amp;page=2&amp;divpage=1&amp;no=5\">청소년보호정책</a>\n",
       "<a href=\"/zboard/view.php?id=regulation&amp;page=2&amp;divpage=1&amp;no=19\"><strong>불법촬영물등 신고</strong></a>\n",
       "<a href=\"/zboard/view.php?id=faq&amp;no=17\">광고/제휴</a>\n",
       "<a href=\"mailto:webmaster@ppomppu.co.kr\">메일문의</a>\n",
       "<a href=\"/recruit/culture.php\">뽐뿌채용</a>\n",
       "<a href=\"javascript:auth_save_mode();\">다크모드</a>\n",
       "</div>\n",
       "<div class=\"info\">\n",
       "<div class=\"wrap\">\n",
       "<span>Copyright 2005-2024 <strong>ppomppu</strong>. All rights reserved</span>\n",
       "</div>\n",
       "</div>\n",
       "</div>\n",
       "<div class=\"game_popup\" id=\"game_release_popup\" style=\"display:none;\"></div>\n",
       "<script src=\"//www.ppomppu.co.kr/js/common.js?v=2024032202\"></script>\n",
       "<script async=\"\" src=\"//pagead2.googlesyndication.com/pagead/js/adsbygoogle.js\"></script>\n",
       "<script async=\"\" src=\"/js/google_ad.js?v=2024031204\"></script>\n",
       "<div class=\"gif_down-layer\" style=\"display:none;\">\n",
       "<div class=\"gif_dimBg\"></div>\n",
       "<div class=\"gif_down_layer gif_pop-layer\" id=\"gif_down_layer\">\n",
       "<div class=\"gif_down_layer_box\" id=\"gif_down_layer_box\">\n",
       "<a class=\"gif_btn-layerClose\" href=\"javascript:;\" onclick=\"jfnGifLayerClose()\">X</a>\n",
       "<img id=\"gif_download_img\" src=\"//cdn2.ppomppu.co.kr/images/lazyloading.jpg\"/>\n",
       "</div>\n",
       "</div>\n",
       "</div>\n",
       "</body>\n",
       "</html>"
      ]
     },
     "execution_count": 46,
     "metadata": {},
     "output_type": "execute_result"
    }
   ],
   "source": []
  },
  {
   "cell_type": "code",
   "execution_count": null,
   "id": "75861703-faee-4e5e-a580-ced9337248c4",
   "metadata": {},
   "outputs": [],
   "source": []
  },
  {
   "cell_type": "code",
   "execution_count": 68,
   "id": "fc8f1cc2-d886-4c16-b128-c315233251e3",
   "metadata": {},
   "outputs": [],
   "source": [
    "# AJAX\n",
    "# CSR, 클라이언트 렌더링\n",
    "# 이때 바뀐 내용을 우리가 어떻게 알 수 있는가? \n",
    "\n",
    "url = \"https://pythonscraping.com/pages/javascript/ajaxDemo.html\"\n",
    "resp = request('GET',url)"
   ]
  },
  {
   "cell_type": "code",
   "execution_count": 69,
   "id": "97b3fde6-7319-4013-8cec-370a4710f3d3",
   "metadata": {},
   "outputs": [
    {
     "name": "stdout",
     "output_type": "stream",
     "text": [
      "<html>\n",
      "<head>\n",
      "<title>Some JavaScript-loaded content</title>\n",
      "<script src=\"../js/jquery-2.1.1.min.js\"></script>\n",
      "\n",
      "</head>\n",
      "<body>\n",
      "<div id=\"content\">\n",
      "This is some content that will appear on the page while it's loading. You don't care about scraping this.\n",
      "</div>\n",
      "\n",
      "<script>\n",
      "$.ajax({\n",
      "    type: \"GET\",\n",
      "    url: \"loadedContent.php\",\n",
      "    success: function(response){\n",
      "\n",
      "\tsetTimeout(function() {\n",
      "\t    $('#content').html(response);\n",
      "\t}, 2000);\n",
      "    }\n",
      "  });\n",
      "\n",
      "function ajax_delay(str){\n",
      " setTimeout(\"str\",2000);\n",
      "}\n",
      "</script>\n",
      "</body>\n",
      "</html>\n"
     ]
    }
   ],
   "source": [
    "print(resp.text)  # 뒷단에서 XHR이 돌아간것이다. "
   ]
  },
  {
   "cell_type": "code",
   "execution_count": 70,
   "id": "79f3b1f2-5079-444a-aac0-783f5b50fb74",
   "metadata": {},
   "outputs": [],
   "source": [
    "dom = BeautifulSoup(resp.text, 'lxml')"
   ]
  },
  {
   "cell_type": "code",
   "execution_count": 71,
   "id": "b0d545cb-c5aa-4c78-8123-3abfb058f882",
   "metadata": {},
   "outputs": [],
   "source": [
    "# $ - jQuery\n",
    "# $.ajax - 자바스크립트 실행하라는 의미\n",
    "# 셀레니움 - 쓰지마라. 느리다. 수집 용도가 아니라, 웹페이지 테스트 용도이다. - 브라우저와 동일하다. 속도가 느리다."
   ]
  },
  {
   "cell_type": "code",
   "execution_count": 72,
   "id": "bd9bef2e-661a-4d83-962d-19f3bfd490c0",
   "metadata": {},
   "outputs": [
    {
     "data": {
      "text/plain": [
       "'loadedContent.php\",'"
      ]
     },
     "execution_count": 72,
     "metadata": {},
     "output_type": "execute_result"
    }
   ],
   "source": [
    "import re\n",
    "re.search(r'^\\s*url\\s*:\\s*[\\'\\\"]?(.+)[\\'\\\"]?,?$', dom.body.script.text, re.MULTILINE).group(1)"
   ]
  },
  {
   "cell_type": "code",
   "execution_count": 81,
   "id": "4a6e1aa4-ffde-4fda-bf7b-c6fd00a7fb51",
   "metadata": {},
   "outputs": [
    {
     "ename": "AttributeError",
     "evalue": "'Response' object has no attribute 'resquest'",
     "output_type": "error",
     "traceback": [
      "\u001b[0;31m---------------------------------------------------------------------------\u001b[0m",
      "\u001b[0;31mAttributeError\u001b[0m                            Traceback (most recent call last)",
      "Cell \u001b[0;32mIn[81], line 4\u001b[0m\n\u001b[1;32m      1\u001b[0m \u001b[38;5;28;01mfrom\u001b[39;00m \u001b[38;5;21;01mrequests\u001b[39;00m\u001b[38;5;21;01m.\u001b[39;00m\u001b[38;5;21;01mcompat\u001b[39;00m \u001b[38;5;28;01mimport\u001b[39;00m urljoin\n\u001b[1;32m      2\u001b[0m \u001b[38;5;28;01mfrom\u001b[39;00m \u001b[38;5;21;01mrequests\u001b[39;00m \u001b[38;5;28;01mimport\u001b[39;00m request\n\u001b[0;32m----> 4\u001b[0m url \u001b[38;5;241m=\u001b[39m urljoin(\u001b[43mresp\u001b[49m\u001b[38;5;241;43m.\u001b[39;49m\u001b[43mresquest\u001b[49m\u001b[38;5;241m.\u001b[39murl, \u001b[38;5;124m'\u001b[39m\u001b[38;5;124mloadedContent.php\u001b[39m\u001b[38;5;124m'\u001b[39m)\n\u001b[1;32m      5\u001b[0m resp \u001b[38;5;241m=\u001b[39m request(\u001b[38;5;124m'\u001b[39m\u001b[38;5;124mGET\u001b[39m\u001b[38;5;124m'\u001b[39m, url)\n\u001b[1;32m      6\u001b[0m resp\u001b[38;5;241m.\u001b[39mtext\n",
      "\u001b[0;31mAttributeError\u001b[0m: 'Response' object has no attribute 'resquest'"
     ]
    }
   ],
   "source": [
    "from requests.compat import urljoin\n",
    "from requests import request\n",
    "\n",
    "url = urljoin(resp.resquest.url, 'loadedContent.php')\n",
    "resp = request('GET', url)\n",
    "resp.text"
   ]
  },
  {
   "cell_type": "code",
   "execution_count": 82,
   "id": "304fd159-c6e3-46d7-9525-bf6a989c8437",
   "metadata": {},
   "outputs": [],
   "source": [
    "## 브런치"
   ]
  },
  {
   "cell_type": "code",
   "execution_count": 84,
   "id": "5af919ca-dfbe-47cd-9ff4-0c737e7f0409",
   "metadata": {},
   "outputs": [],
   "source": [
    "url = \"https://brunch.co.kr/search?q=수지\"\n",
    "resp = request('GET', url)\n",
    "dom = BeautifulSoup(resp.text, 'html.parser')"
   ]
  },
  {
   "cell_type": "code",
   "execution_count": 85,
   "id": "27a80982-ce0b-4816-88c8-98b027f42744",
   "metadata": {},
   "outputs": [
    {
     "data": {
      "text/plain": [
       "['브런치스토리 글 검색: 수지']"
      ]
     },
     "execution_count": 85,
     "metadata": {},
     "output_type": "execute_result"
    }
   ],
   "source": [
    "dom.find_all(string=re.compile('수지'))"
   ]
  },
  {
   "cell_type": "code",
   "execution_count": null,
   "id": "76385e80-f9f7-4094-ae8b-8fa4fa431971",
   "metadata": {},
   "outputs": [],
   "source": [
    "# Fetch/XHR 의 responsem header 보기,Initiator 보면 요청 콜스택 확ㅇ니"
   ]
  },
  {
   "cell_type": "code",
   "execution_count": 89,
   "id": "622f0a52-1a64-4d19-a54c-3f6472823d19",
   "metadata": {},
   "outputs": [
    {
     "data": {
      "text/plain": [
       "<form action=\"/search\" method=\"get\">\n",
       "<input autocomplete=\"off\" id=\"searchQuery\" name=\"q\" placeholder=\"검색어를 입력해 주세요\" title=\"검색어입력\" type=\"text\" value=\"수지\"/>\n",
       "<input name=\"profileId\" type=\"hidden\" value=\"\"/>\n",
       "</form>"
      ]
     },
     "execution_count": 89,
     "metadata": {},
     "output_type": "execute_result"
    }
   ],
   "source": [
    "dom.select('form[action]')[0]"
   ]
  },
  {
   "cell_type": "code",
   "execution_count": null,
   "id": "26f3668a-c77d-472b-84d0-80069973298b",
   "metadata": {},
   "outputs": [],
   "source": [
    "<form action=\"/search\" method=\"get\">\n",
    "# 폼 안의 것들이 다 파라메터이다.\n",
    "<input autocomplete=\"off\" id=\"searchQuery\" name=\"q\" placeholder=\"검색어를 입력해 주세요\" title=\"검색어입력\" type=\"text\" value=\"수지\"/>\n",
    "<input name=\"profileId\" type=\"hidden\" value=\"\"/>\n",
    "</form>"
   ]
  },
  {
   "cell_type": "code",
   "execution_count": 90,
   "id": "dfaaa53d-61f3-4855-9d2c-a425b032d738",
   "metadata": {},
   "outputs": [
    {
     "name": "stdout",
     "output_type": "stream",
     "text": [
      "q 수지\n",
      "profileId \n",
      "q 수지\n",
      "type article\n"
     ]
    }
   ],
   "source": [
    "for tag in dom.select('form[action] input[name]'):\n",
    "    print(tag.attrs['name'], tag.attrs['value'])"
   ]
  },
  {
   "cell_type": "code",
   "execution_count": 105,
   "id": "5d964f2b-1936-4292-a84a-6cbc00bd4f98",
   "metadata": {},
   "outputs": [],
   "source": [
    "url = 'https://api.brunch.co.kr/v1/search/article'\n",
    "params = {\n",
    "    'q':'황정민',\n",
    "    'page': 2,\n",
    "    'pageSize': 20,\n",
    "    'highlighter': 'y',\n",
    "    'escape': 'd',\n",
    "    'sortBy': 'recency'\n",
    "}\n",
    "\n",
    "resp = request(\"GET\", url, params=params)"
   ]
  },
  {
   "cell_type": "code",
   "execution_count": 106,
   "id": "bb483d3d-d655-437d-a673-38a07491095f",
   "metadata": {},
   "outputs": [
    {
     "data": {
      "text/plain": [
       "(200,\n",
       " '',\n",
       " {'Date': 'Tue, 19 Mar 2024 02:11:52 GMT', 'Content-Type': 'application/json;charset=UTF-8', 'Transfer-Encoding': 'chunked', 'Connection': 'keep-alive', 'Vary': 'Accept-Encoding', 'Cache-Control': 'no-cache, no-store, must-revalidate, no-store', 'Pragma': 'no-cache', 'Expires': 'Thu, 01 Jan 1970 00:00:00 GMT', 'Access-Control-Allow-Methods': 'GET,POST,HEAD,OPTIONS,PUT,DELETE', 'Access-Control-Allow-Headers': 'Content-Type,X-Requested-With,accept,Origin,Access-Control-Request-Method,Access-Control-Request-Headers,brunch-client-os,X-CSRF-TOKEN,X-JSESSIONID,referer,brunch-agent', 'Access-Control-Allow-Credentials': 'true', 'Set-Cookie': 'bid=\"\"; Domain=.brunch.co.kr; Expires=Thu, 01-Jan-1970 00:00:10 GMT; Path=/; Secure', 'Content-Language': 'en-US', 'Strict-Transport-Security': 'max-age=15724800; includeSubDomains', 'Content-Encoding': 'gzip'},\n",
       " {'User-Agent': 'python-requests/2.31.0', 'Accept-Encoding': 'gzip, deflate', 'Accept': '*/*', 'Connection': 'keep-alive'})"
      ]
     },
     "execution_count": 106,
     "metadata": {},
     "output_type": "execute_result"
    }
   ],
   "source": [
    "resp.status_code, resp.reason, resp.headers, resp.request.headers"
   ]
  },
  {
   "cell_type": "code",
   "execution_count": 107,
   "id": "2ad35da4-2b78-40b3-940e-cc34d9634d3e",
   "metadata": {},
   "outputs": [
    {
     "name": "stdout",
     "output_type": "stream",
     "text": [
      "“커피 줘야지, 서늘한 바람에 슬픔이 묻어있으니” - [밤9시의 커피] 홉스봄의 혁명과 재즈가 흐른 겨울밤\n",
      "<데드맨>, 조진웅도 죽은 건 살릴 수 없다\n",
      "광고의 세계 - 심오하지\n",
      "시민덕희 2부\n",
      "<먹고사는 게 전부가 아닌 날도 있어서> (서평)\n",
      "서로 다른 서울의 두 가지 풍경 - -<서울의 봄>과 <싱글 인 서울>\n",
      "사는 것이 초콜릿보다 달콤하다는 것 - 하루 한 줄, 하루 한 대사\n",
      "혼돈 - 내면 작업 11\n",
      "당신의 이야기는 그리 재미있지 않다? - 나의 망생일지\n",
      "나는 왜 나를 함부로 대할까 - 자기돌봄이 필요한 그대에게\n",
      "이래서 경력자... 경력자.. 하나 봅니다.\n",
      "어둠 속에 있던 망자 - 그곳에 사람이 있었다.\n",
      "[짧은 영화리뷰]<어른 김장하>(강추),<서울의 봄> - 샛별BOOK연구소\n",
      "유진 스미스처럼\n",
      "아이들은 요리를 배우며 성장하고 난 아이들을 보며 큰다 - 산천 요리생 마지막이 아니길\n",
      "극장에서, 1979년 12월로 - <서울의 봄> 김성수, 2023\n",
      "January, 2024\n",
      "YMCA 야구단: 하늘에서 내려올 ‘공’을 기다리며\n",
      "정보는 디테일해야 힘을 갖는다\n",
      "초보 관리자의 이미지 메이킹 1\n"
     ]
    }
   ],
   "source": [
    "for it in resp.json()['data']['list']:\n",
    "    print(it['title'])"
   ]
  },
  {
   "cell_type": "code",
   "execution_count": 108,
   "id": "bf7653df-5b40-4f4e-add0-250615fcb233",
   "metadata": {},
   "outputs": [],
   "source": [
    "url = 'https://brunch.co.kr/'\n",
    "resp = request('GET', url)\n",
    "dom = BeautifulSoup(resp.text, 'html.parser')"
   ]
  },
  {
   "cell_type": "code",
   "execution_count": 109,
   "id": "d10d2dfc-8c95-4b6e-ab9b-29f818f6d8fe",
   "metadata": {},
   "outputs": [
    {
     "data": {
      "text/plain": [
       "[<form action=\"/search\" method=\"get\">\n",
       " <input autocomplete=\"off\" id=\"searchQuery\" name=\"q\" placeholder=\"검색어를 입력해 주세요\" title=\"검색어입력\" type=\"text\" value=\"\"/>\n",
       " <input name=\"profileId\" type=\"hidden\" value=\"\"/>\n",
       " </form>]"
      ]
     },
     "execution_count": 109,
     "metadata": {},
     "output_type": "execute_result"
    }
   ],
   "source": [
    "dom.select('form')"
   ]
  },
  {
   "cell_type": "code",
   "execution_count": 115,
   "id": "1d78ead5-c7f4-448f-9249-2319e23f8a11",
   "metadata": {},
   "outputs": [
    {
     "data": {
      "text/plain": [
       "(200, 'application/json;charset=UTF-8')"
      ]
     },
     "execution_count": 115,
     "metadata": {},
     "output_type": "execute_result"
    }
   ],
   "source": [
    "url = \"https://api.brunch.co.kr/v1/search/live\"\n",
    "params = {\n",
    "    'q' : '황정민'\n",
    "}\n",
    "\n",
    "resp = request('GET', url, params=params)\n",
    "resp.status_code, resp.headers['content-type']"
   ]
  },
  {
   "cell_type": "code",
   "execution_count": 116,
   "id": "48f44160-ddc7-4534-80c0-f9d6d2b701ed",
   "metadata": {},
   "outputs": [
    {
     "data": {
      "text/plain": [
       "['다시, 봄을 기다리며 &#39;서울의 봄&#39; - 김성수 감독, 정우성·<b>황정민</b> 주연 영화 &#39;서울의 봄&#39; 리뷰',\n",
       " '&#34;야 근데 <b>황정민</b>이 전두환이야?&#34; - &lt;서울의 봄&gt;과 타란티노',\n",
       " '류승범과 <b>황정민</b>을 상상하며 만들어 보는 캐릭터 - 합작 / 민정환 &amp; 변승류',\n",
       " '영화 리뷰-《서울의 봄》 - 한국 영화 / 감독 김성수-<b>황정민</b>, 정우성 / 141분',\n",
       " '&#39;전두광&#39;으로 변신한 <b>황정민</b>, 머리만큼 빛난 연기력',\n",
       " '&#34;교섭&#34;과 &#34;유령&#34;, <b>황정민</b>과 설경구',\n",
       " '[넷플릭스] 수리남 (2022) - 속고 속이는 목숨 건 심리전 (윤종빈 감독/하정우/<b>황정민</b>/박해수/조우진)']"
      ]
     },
     "execution_count": 116,
     "metadata": {},
     "output_type": "execute_result"
    }
   ],
   "source": [
    "list(map(lambda r:r['title'], resp.json()['data']['article']))"
   ]
  },
  {
   "cell_type": "code",
   "execution_count": 150,
   "id": "1762696e-938e-4196-8709-266ec7fcf970",
   "metadata": {},
   "outputs": [
    {
     "data": {
      "text/plain": [
       "['groot',\n",
       " 'Groot Akris Tafeltennis Toernooi',\n",
       " 'Groot Alfadoku',\n",
       " 'Groot Constantia',\n",
       " 'Groot Constantia 2004',\n",
       " 'Groot Mengdoku',\n",
       " 'Groot Slem en andere verhalen',\n",
       " 'Groot Vet Olifantboude',\n",
       " \"Groot Walenburg's Vuilharmonisch Orkest\",\n",
       " 'Groot is de liefde']"
      ]
     },
     "execution_count": 150,
     "metadata": {},
     "output_type": "execute_result"
    }
   ],
   "source": [
    "## 네이버\n",
    "url = \"https://ac.search.naver.com/nx/ac\"\n",
    "params = {\n",
    "    'q':'groot',\n",
    "    'con':0,\n",
    "    'frm':'nv',\n",
    "    'ans':2,\n",
    "    'r_format':'json',\n",
    "    'r_enc':'UTF-8',\n",
    "    'r_unicode':0,\n",
    "    't_koreng':1,\n",
    "    'run':2,\n",
    "    'rev':4,\n",
    "    'q_enc':'UTF-8',\n",
    "    'st':100,\n",
    "    # '_callback':'_jsonp_34'  # 이거 왜 있는거지? # 콜백함수 이름이다. \n",
    "                               # 이렇게 콜백을 붙여야 이벤트 driven하게 만들수 있다.\n",
    "                               # 자바스크립트는 이벤트를 고려해서 코드를 작성하고 이해해야한다. \n",
    "}\n",
    "\n",
    "resp = request('GET', url, params=params)\n",
    "resp.status_code, resp.headers['content-type']\n",
    "resp.json()['items'][0]\n",
    "list(map(lambda r:r[0], resp.json()['items'][0]))\n"
   ]
  },
  {
   "cell_type": "code",
   "execution_count": 151,
   "id": "e12e4161-1379-4038-9dfb-5e1c7f80194a",
   "metadata": {},
   "outputs": [],
   "source": [
    "# 403에러가 나면 User-agent 확인"
   ]
  },
  {
   "cell_type": "code",
   "execution_count": null,
   "id": "ac0a9487-7da6-44a4-982c-c456a5ca634f",
   "metadata": {},
   "outputs": [],
   "source": [
    "# 404에러가 나면 경로 확인"
   ]
  },
  {
   "cell_type": "code",
   "execution_count": 154,
   "id": "f7f7cb89-472b-477f-b99d-3350699a1349",
   "metadata": {},
   "outputs": [
    {
     "data": {
      "text/plain": [
       "\n",
       "<!DOCTYPE html>\n",
       "\n",
       "<html lang=\"ko\">\n",
       "<head>\n",
       "<title>네이버 웹툰</title>\n",
       "<link href=\"https://ssl.pstatic.net/static/m/comic/im/favicon/1804/webtoon_favicon_32x32.ico\" rel=\"shortcut icon\" type=\"image/x-icon\"/>\n",
       "<meta charset=\"utf-8\"/>\n",
       "<meta content=\"ie=edge\" http-equiv=\"x-ua-compatible\"/>\n",
       "<meta content=\"article\" property=\"og:type\"/>\n",
       "<meta content=\"네이버 웹툰\" property=\"og:article:author\"/>\n",
       "<meta content=\"https://comic.naver.com\" property=\"og:article:author:url\"/>\n",
       "<meta content=\"네이버 웹툰\" property=\"og:title\"/>\n",
       "<meta content=\"https://ssl.pstatic.net/static/comic/images/og_tag_v2.png\" property=\"og:image\"/>\n",
       "<meta content=\"매일매일 새로운 재미, 네이버 웹툰.\" property=\"og:description\"/>\n",
       "<script>\n",
       "\t\tif (/MSIE \\d|Trident.*rv:/.test(navigator.userAgent)) {\n",
       "\t\t\twindow.location = 'microsoft-edge:' + window.location;\n",
       "\t\t\tsetTimeout(function () {\n",
       "\t\t\t\twindow.location = 'https://go.microsoft.com/fwlink/?linkid=2135547';\n",
       "\t\t\t}, 1);\n",
       "\t\t}\n",
       "\t</script>\n",
       "<script async=\"\" src=\"https://ssl.pstatic.net/tveta/libs/glad/prod/gfp-core.js\"></script>\n",
       "<script>\n",
       "\t\tvar ccsrv = 'cc.naver.com';\n",
       "\t\twindow.gladsdk = window.gladsdk || { cmd: [] };\n",
       "\t</script>\n",
       "</head>\n",
       "<body>\n",
       "<div id=\"root\"></div>\n",
       "</body>\n",
       "<script src=\"/runtime-6097ce2ebbdb24a9f4d2.js\" type=\"text/javascript\"></script>\n",
       "<script src=\"/vendor-react-d37d9c657a271200d9cf.js\" type=\"text/javascript\"></script>\n",
       "<script src=\"/vendor-react-common-39f644b98f3af612d766.js\" type=\"text/javascript\"></script>\n",
       "<script src=\"/vendor-common-4c04532899aecf03d14c.js\" type=\"text/javascript\"></script>\n",
       "<script src=\"/vendor-log-feb99cf7b041c7e3b64d.js\" type=\"text/javascript\"></script>\n",
       "<script src=\"/router-b4aa7bff56fd79446adc.js\" type=\"text/javascript\"></script>\n",
       "</html>"
      ]
     },
     "execution_count": 154,
     "metadata": {},
     "output_type": "execute_result"
    }
   ],
   "source": [
    "# 웹툰 페이지\n",
    "url = \"https://comic.naver.com/webtoon\"\n",
    "resp = request('GET', url)\n",
    "dom = BeautifulSoup(resp.text,'html.parser')\n",
    "dom"
   ]
  },
  {
   "cell_type": "code",
   "execution_count": 167,
   "id": "b07067db-88d9-40f3-aaae-0c4e9d4fede2",
   "metadata": {},
   "outputs": [
    {
     "ename": "JSONDecodeError",
     "evalue": "Expecting value: line 5 column 1 (char 4)",
     "output_type": "error",
     "traceback": [
      "\u001b[0;31m---------------------------------------------------------------------------\u001b[0m",
      "\u001b[0;31mJSONDecodeError\u001b[0m                           Traceback (most recent call last)",
      "File \u001b[0;32m~/2024_Korea_iisw/myvenv2/lib/python3.11/site-packages/requests/models.py:971\u001b[0m, in \u001b[0;36mResponse.json\u001b[0;34m(self, **kwargs)\u001b[0m\n\u001b[1;32m    970\u001b[0m \u001b[38;5;28;01mtry\u001b[39;00m:\n\u001b[0;32m--> 971\u001b[0m     \u001b[38;5;28;01mreturn\u001b[39;00m \u001b[43mcomplexjson\u001b[49m\u001b[38;5;241;43m.\u001b[39;49m\u001b[43mloads\u001b[49m\u001b[43m(\u001b[49m\u001b[38;5;28;43mself\u001b[39;49m\u001b[38;5;241;43m.\u001b[39;49m\u001b[43mtext\u001b[49m\u001b[43m,\u001b[49m\u001b[43m \u001b[49m\u001b[38;5;241;43m*\u001b[39;49m\u001b[38;5;241;43m*\u001b[39;49m\u001b[43mkwargs\u001b[49m\u001b[43m)\u001b[49m\n\u001b[1;32m    972\u001b[0m \u001b[38;5;28;01mexcept\u001b[39;00m JSONDecodeError \u001b[38;5;28;01mas\u001b[39;00m e:\n\u001b[1;32m    973\u001b[0m     \u001b[38;5;66;03m# Catch JSON-related errors and raise as requests.JSONDecodeError\u001b[39;00m\n\u001b[1;32m    974\u001b[0m     \u001b[38;5;66;03m# This aliases json.JSONDecodeError and simplejson.JSONDecodeError\u001b[39;00m\n",
      "File \u001b[0;32m/opt/homebrew/Cellar/python@3.11/3.11.8/Frameworks/Python.framework/Versions/3.11/lib/python3.11/json/__init__.py:346\u001b[0m, in \u001b[0;36mloads\u001b[0;34m(s, cls, object_hook, parse_float, parse_int, parse_constant, object_pairs_hook, **kw)\u001b[0m\n\u001b[1;32m    343\u001b[0m \u001b[38;5;28;01mif\u001b[39;00m (\u001b[38;5;28mcls\u001b[39m \u001b[38;5;129;01mis\u001b[39;00m \u001b[38;5;28;01mNone\u001b[39;00m \u001b[38;5;129;01mand\u001b[39;00m object_hook \u001b[38;5;129;01mis\u001b[39;00m \u001b[38;5;28;01mNone\u001b[39;00m \u001b[38;5;129;01mand\u001b[39;00m\n\u001b[1;32m    344\u001b[0m         parse_int \u001b[38;5;129;01mis\u001b[39;00m \u001b[38;5;28;01mNone\u001b[39;00m \u001b[38;5;129;01mand\u001b[39;00m parse_float \u001b[38;5;129;01mis\u001b[39;00m \u001b[38;5;28;01mNone\u001b[39;00m \u001b[38;5;129;01mand\u001b[39;00m\n\u001b[1;32m    345\u001b[0m         parse_constant \u001b[38;5;129;01mis\u001b[39;00m \u001b[38;5;28;01mNone\u001b[39;00m \u001b[38;5;129;01mand\u001b[39;00m object_pairs_hook \u001b[38;5;129;01mis\u001b[39;00m \u001b[38;5;28;01mNone\u001b[39;00m \u001b[38;5;129;01mand\u001b[39;00m \u001b[38;5;129;01mnot\u001b[39;00m kw):\n\u001b[0;32m--> 346\u001b[0m     \u001b[38;5;28;01mreturn\u001b[39;00m \u001b[43m_default_decoder\u001b[49m\u001b[38;5;241;43m.\u001b[39;49m\u001b[43mdecode\u001b[49m\u001b[43m(\u001b[49m\u001b[43ms\u001b[49m\u001b[43m)\u001b[49m\n\u001b[1;32m    347\u001b[0m \u001b[38;5;28;01mif\u001b[39;00m \u001b[38;5;28mcls\u001b[39m \u001b[38;5;129;01mis\u001b[39;00m \u001b[38;5;28;01mNone\u001b[39;00m:\n",
      "File \u001b[0;32m/opt/homebrew/Cellar/python@3.11/3.11.8/Frameworks/Python.framework/Versions/3.11/lib/python3.11/json/decoder.py:337\u001b[0m, in \u001b[0;36mJSONDecoder.decode\u001b[0;34m(self, s, _w)\u001b[0m\n\u001b[1;32m    333\u001b[0m \u001b[38;5;250m\u001b[39m\u001b[38;5;124;03m\"\"\"Return the Python representation of ``s`` (a ``str`` instance\u001b[39;00m\n\u001b[1;32m    334\u001b[0m \u001b[38;5;124;03mcontaining a JSON document).\u001b[39;00m\n\u001b[1;32m    335\u001b[0m \n\u001b[1;32m    336\u001b[0m \u001b[38;5;124;03m\"\"\"\u001b[39;00m\n\u001b[0;32m--> 337\u001b[0m obj, end \u001b[38;5;241m=\u001b[39m \u001b[38;5;28;43mself\u001b[39;49m\u001b[38;5;241;43m.\u001b[39;49m\u001b[43mraw_decode\u001b[49m\u001b[43m(\u001b[49m\u001b[43ms\u001b[49m\u001b[43m,\u001b[49m\u001b[43m \u001b[49m\u001b[43midx\u001b[49m\u001b[38;5;241;43m=\u001b[39;49m\u001b[43m_w\u001b[49m\u001b[43m(\u001b[49m\u001b[43ms\u001b[49m\u001b[43m,\u001b[49m\u001b[43m \u001b[49m\u001b[38;5;241;43m0\u001b[39;49m\u001b[43m)\u001b[49m\u001b[38;5;241;43m.\u001b[39;49m\u001b[43mend\u001b[49m\u001b[43m(\u001b[49m\u001b[43m)\u001b[49m\u001b[43m)\u001b[49m\n\u001b[1;32m    338\u001b[0m end \u001b[38;5;241m=\u001b[39m _w(s, end)\u001b[38;5;241m.\u001b[39mend()\n",
      "File \u001b[0;32m/opt/homebrew/Cellar/python@3.11/3.11.8/Frameworks/Python.framework/Versions/3.11/lib/python3.11/json/decoder.py:355\u001b[0m, in \u001b[0;36mJSONDecoder.raw_decode\u001b[0;34m(self, s, idx)\u001b[0m\n\u001b[1;32m    354\u001b[0m \u001b[38;5;28;01mexcept\u001b[39;00m \u001b[38;5;167;01mStopIteration\u001b[39;00m \u001b[38;5;28;01mas\u001b[39;00m err:\n\u001b[0;32m--> 355\u001b[0m     \u001b[38;5;28;01mraise\u001b[39;00m JSONDecodeError(\u001b[38;5;124m\"\u001b[39m\u001b[38;5;124mExpecting value\u001b[39m\u001b[38;5;124m\"\u001b[39m, s, err\u001b[38;5;241m.\u001b[39mvalue) \u001b[38;5;28;01mfrom\u001b[39;00m \u001b[38;5;28;01mNone\u001b[39;00m\n\u001b[1;32m    356\u001b[0m \u001b[38;5;28;01mreturn\u001b[39;00m obj, end\n",
      "\u001b[0;31mJSONDecodeError\u001b[0m: Expecting value: line 5 column 1 (char 4)",
      "\nDuring handling of the above exception, another exception occurred:\n",
      "\u001b[0;31mJSONDecodeError\u001b[0m                           Traceback (most recent call last)",
      "Cell \u001b[0;32mIn[167], line 12\u001b[0m\n\u001b[1;32m      9\u001b[0m resp \u001b[38;5;241m=\u001b[39m request(\u001b[38;5;124m'\u001b[39m\u001b[38;5;124mGET\u001b[39m\u001b[38;5;124m'\u001b[39m, url, params\u001b[38;5;241m=\u001b[39mparams)\n\u001b[1;32m     10\u001b[0m resp\u001b[38;5;241m.\u001b[39mstatus_code, resp\u001b[38;5;241m.\u001b[39mheaders[\u001b[38;5;124m'\u001b[39m\u001b[38;5;124mcontent-type\u001b[39m\u001b[38;5;124m'\u001b[39m]\n\u001b[0;32m---> 12\u001b[0m \u001b[38;5;28;01mfor\u001b[39;00m node \u001b[38;5;129;01min\u001b[39;00m \u001b[43mresp\u001b[49m\u001b[38;5;241;43m.\u001b[39;49m\u001b[43mjson\u001b[49m\u001b[43m(\u001b[49m\u001b[43m)\u001b[49m[\u001b[38;5;124m'\u001b[39m\u001b[38;5;124mtitleList\u001b[39m\u001b[38;5;124m'\u001b[39m]:\n\u001b[1;32m     13\u001b[0m     \u001b[38;5;28mprint\u001b[39m(node[\u001b[38;5;124m'\u001b[39m\u001b[38;5;124mtitleId\u001b[39m\u001b[38;5;124m'\u001b[39m], node[\u001b[38;5;124m'\u001b[39m\u001b[38;5;124mtitleName\u001b[39m\u001b[38;5;124m'\u001b[39m])\n",
      "File \u001b[0;32m~/2024_Korea_iisw/myvenv2/lib/python3.11/site-packages/requests/models.py:975\u001b[0m, in \u001b[0;36mResponse.json\u001b[0;34m(self, **kwargs)\u001b[0m\n\u001b[1;32m    971\u001b[0m     \u001b[38;5;28;01mreturn\u001b[39;00m complexjson\u001b[38;5;241m.\u001b[39mloads(\u001b[38;5;28mself\u001b[39m\u001b[38;5;241m.\u001b[39mtext, \u001b[38;5;241m*\u001b[39m\u001b[38;5;241m*\u001b[39mkwargs)\n\u001b[1;32m    972\u001b[0m \u001b[38;5;28;01mexcept\u001b[39;00m JSONDecodeError \u001b[38;5;28;01mas\u001b[39;00m e:\n\u001b[1;32m    973\u001b[0m     \u001b[38;5;66;03m# Catch JSON-related errors and raise as requests.JSONDecodeError\u001b[39;00m\n\u001b[1;32m    974\u001b[0m     \u001b[38;5;66;03m# This aliases json.JSONDecodeError and simplejson.JSONDecodeError\u001b[39;00m\n\u001b[0;32m--> 975\u001b[0m     \u001b[38;5;28;01mraise\u001b[39;00m RequestsJSONDecodeError(e\u001b[38;5;241m.\u001b[39mmsg, e\u001b[38;5;241m.\u001b[39mdoc, e\u001b[38;5;241m.\u001b[39mpos)\n",
      "\u001b[0;31mJSONDecodeError\u001b[0m: Expecting value: line 5 column 1 (char 4)"
     ]
    }
   ],
   "source": [
    "url = \"https://comic.naver.com/webtoon\"\n",
    "params = {\n",
    "    'week':'mon',\n",
    "    'order':'user'\n",
    "}\n",
    "\n",
    "params['week'] = 'tue'\n",
    "\n",
    "resp = request('GET', url, params=params)\n",
    "resp.status_code, resp.headers['content-type']\n",
    "\n",
    "for node in resp.json()['titleList']:\n",
    "    print(node['titleId'], node['titleName'])"
   ]
  },
  {
   "cell_type": "code",
   "execution_count": 166,
   "id": "88035514-f2ff-4588-9c65-62520e305a88",
   "metadata": {},
   "outputs": [
    {
     "ename": "KeyError",
     "evalue": "'titleList'",
     "output_type": "error",
     "traceback": [
      "\u001b[0;31m---------------------------------------------------------------------------\u001b[0m",
      "\u001b[0;31mKeyError\u001b[0m                                  Traceback (most recent call last)",
      "Cell \u001b[0;32mIn[166], line 2\u001b[0m\n\u001b[1;32m      1\u001b[0m wurl \u001b[38;5;241m=\u001b[39m \u001b[38;5;124m\"\u001b[39m\u001b[38;5;124mhttps://comic.naver.com/api/webtoon/list?titleId=\u001b[39m\u001b[38;5;132;01m{}\u001b[39;00m\u001b[38;5;124m&tab=\u001b[39m\u001b[38;5;132;01m{}\u001b[39;00m\u001b[38;5;124m\"\u001b[39m\u001b[38;5;241m.\u001b[39mformat(\n\u001b[0;32m----> 2\u001b[0m     \u001b[43mresp\u001b[49m\u001b[38;5;241;43m.\u001b[39;49m\u001b[43mjson\u001b[49m\u001b[43m(\u001b[49m\u001b[43m)\u001b[49m\u001b[43m[\u001b[49m\u001b[38;5;124;43m'\u001b[39;49m\u001b[38;5;124;43mtitleList\u001b[39;49m\u001b[38;5;124;43m'\u001b[39;49m\u001b[43m]\u001b[49m[\u001b[38;5;241m2\u001b[39m][\u001b[38;5;124m'\u001b[39m\u001b[38;5;124mtitleId\u001b[39m\u001b[38;5;124m'\u001b[39m], params[\u001b[38;5;124m'\u001b[39m\u001b[38;5;124mweek\u001b[39m\u001b[38;5;124m'\u001b[39m]\n\u001b[1;32m      3\u001b[0m )\n",
      "\u001b[0;31mKeyError\u001b[0m: 'titleList'"
     ]
    }
   ],
   "source": [
    "wurl = \"https://comic.naver.com/api/webtoon/list?titleId={}&tab={}\".format(\n",
    "    resp.json()['titleList'][2]['titleId'], params['week']\n",
    ")"
   ]
  },
  {
   "cell_type": "code",
   "execution_count": 169,
   "id": "09668ddd-042b-4cb7-acac-113efcc49186",
   "metadata": {},
   "outputs": [
    {
     "data": {
      "text/plain": [
       "'text/html;charset=UTF-8'"
      ]
     },
     "execution_count": 169,
     "metadata": {},
     "output_type": "execute_result"
    }
   ],
   "source": [
    "url2 = \"https://comic.naver.com/webtoon/detail?titleId=814543&page=1\"\n",
    "resp = request('GET', url2)\n",
    "resp.headers['content-type']"
   ]
  },
  {
   "cell_type": "code",
   "execution_count": 175,
   "id": "090d3412-b7dc-4f34-873f-8fd1e1cafa68",
   "metadata": {},
   "outputs": [
    {
     "data": {
      "text/plain": [
       "[<img alt=\"comic content\" src=\"https://image-comic.pstatic.net/webtoon/img-ctguide-white_new.png\" title=\"\"/>,\n",
       " <img alt=\"comic content\" id=\"content_image_0\" src=\"https://image-comic.pstatic.net/webtoon/814543/32/20240129122313_ca7d2ae8e21e48aa91276631038e5594_IMAG01_1.jpg\"/>,\n",
       " <img alt=\"comic content\" id=\"content_image_1\" src=\"https://image-comic.pstatic.net/webtoon/814543/32/20240129122313_ca7d2ae8e21e48aa91276631038e5594_IMAG01_2.jpg\"/>,\n",
       " <img alt=\"comic content\" id=\"content_image_2\" src=\"https://image-comic.pstatic.net/webtoon/814543/32/20240129122313_ca7d2ae8e21e48aa91276631038e5594_IMAG01_3.jpg\"/>,\n",
       " <img alt=\"comic content\" id=\"content_image_3\" src=\"https://image-comic.pstatic.net/webtoon/814543/32/20240129122313_ca7d2ae8e21e48aa91276631038e5594_IMAG01_4.jpg\"/>,\n",
       " <img alt=\"comic content\" id=\"content_image_4\" src=\"https://image-comic.pstatic.net/webtoon/814543/32/20240129122313_ca7d2ae8e21e48aa91276631038e5594_IMAG01_5.jpg\"/>,\n",
       " <img alt=\"comic content\" id=\"content_image_5\" src=\"https://image-comic.pstatic.net/webtoon/814543/32/20240129122313_ca7d2ae8e21e48aa91276631038e5594_IMAG01_6.jpg\"/>,\n",
       " <img alt=\"comic content\" id=\"content_image_6\" src=\"https://image-comic.pstatic.net/webtoon/814543/32/20240129122313_ca7d2ae8e21e48aa91276631038e5594_IMAG01_7.jpg\"/>,\n",
       " <img alt=\"comic content\" id=\"content_image_7\" src=\"https://image-comic.pstatic.net/webtoon/814543/32/20240129122313_ca7d2ae8e21e48aa91276631038e5594_IMAG01_8.jpg\"/>,\n",
       " <img alt=\"comic content\" id=\"content_image_8\" src=\"https://image-comic.pstatic.net/webtoon/814543/32/20240129122313_ca7d2ae8e21e48aa91276631038e5594_IMAG01_9.jpg\"/>,\n",
       " <img alt=\"comic content\" id=\"content_image_9\" src=\"https://image-comic.pstatic.net/webtoon/814543/32/20240129122313_ca7d2ae8e21e48aa91276631038e5594_IMAG01_10.jpg\"/>,\n",
       " <img alt=\"comic content\" id=\"content_image_10\" src=\"https://image-comic.pstatic.net/webtoon/814543/32/20240129122313_ca7d2ae8e21e48aa91276631038e5594_IMAG01_11.jpg\"/>,\n",
       " <img alt=\"comic content\" id=\"content_image_11\" src=\"https://image-comic.pstatic.net/webtoon/814543/32/20240129122313_ca7d2ae8e21e48aa91276631038e5594_IMAG01_12.jpg\"/>,\n",
       " <img alt=\"comic content\" id=\"content_image_12\" src=\"https://image-comic.pstatic.net/webtoon/814543/32/20240129122313_ca7d2ae8e21e48aa91276631038e5594_IMAG01_13.jpg\"/>,\n",
       " <img alt=\"comic content\" id=\"content_image_13\" src=\"https://image-comic.pstatic.net/webtoon/814543/32/20240129122313_ca7d2ae8e21e48aa91276631038e5594_IMAG01_14.jpg\"/>,\n",
       " <img alt=\"comic content\" id=\"content_image_14\" src=\"https://image-comic.pstatic.net/webtoon/814543/32/20240129122313_ca7d2ae8e21e48aa91276631038e5594_IMAG01_15.jpg\"/>,\n",
       " <img alt=\"comic content\" id=\"content_image_15\" src=\"https://image-comic.pstatic.net/webtoon/814543/32/20240129122313_ca7d2ae8e21e48aa91276631038e5594_IMAG01_16.jpg\"/>,\n",
       " <img alt=\"comic content\" id=\"content_image_16\" src=\"https://image-comic.pstatic.net/webtoon/814543/32/20240129122313_ca7d2ae8e21e48aa91276631038e5594_IMAG01_17.jpg\"/>,\n",
       " <img alt=\"comic content\" id=\"content_image_17\" src=\"https://image-comic.pstatic.net/webtoon/814543/32/20240129122313_ca7d2ae8e21e48aa91276631038e5594_IMAG01_18.jpg\"/>,\n",
       " <img alt=\"comic content\" id=\"content_image_18\" src=\"https://image-comic.pstatic.net/webtoon/814543/32/20240129122313_ca7d2ae8e21e48aa91276631038e5594_IMAG01_19.jpg\"/>]"
      ]
     },
     "execution_count": 175,
     "metadata": {},
     "output_type": "execute_result"
    }
   ],
   "source": [
    "url2 = \"https://comic.naver.com/webtoon/detail?titleId=814543&no=32&week=tue\"\n",
    "resp = request('GET', url2)\n",
    "resp.text, resp.headers['content-type']\n",
    "dom = BeautifulSoup(resp.text, 'html.parser')\n",
    "dom.select('#sectionContWide > img[src]')"
   ]
  },
  {
   "cell_type": "code",
   "execution_count": 184,
   "id": "3655bae4-edae-4b68-a8c2-14f4912d9da7",
   "metadata": {},
   "outputs": [],
   "source": [
    "def webtoonList(week): \n",
    "    url = \"https://comic.naver.com/webtoon\"\n",
    "    params = {\n",
    "        'week':'mon',\n",
    "        'order':'user'\n",
    "    }\n",
    "\n",
    "    params['week'] = 'tue'\n",
    "\n",
    "    resp = request('GET', url, params=params)\n",
    "\n",
    "    if resp.status_code == 200 and\\\n",
    "       re.search(r'application\\/json', resp.headers['content-type']):\n",
    "         return resp.json()\n",
    "\n",
    "    return None"
   ]
  },
  {
   "cell_type": "code",
   "execution_count": 185,
   "id": "00495690-566d-447d-afe9-4181d82bd9bb",
   "metadata": {},
   "outputs": [
    {
     "ename": "TypeError",
     "evalue": "'NoneType' object is not subscriptable",
     "output_type": "error",
     "traceback": [
      "\u001b[0;31m---------------------------------------------------------------------------\u001b[0m",
      "\u001b[0;31mTypeError\u001b[0m                                 Traceback (most recent call last)",
      "Cell \u001b[0;32mIn[185], line 7\u001b[0m\n\u001b[1;32m      4\u001b[0m         result[item[\u001b[38;5;124m'\u001b[39m\u001b[38;5;124mtitleId\u001b[39m\u001b[38;5;124m'\u001b[39m]] \u001b[38;5;241m=\u001b[39m item[\u001b[38;5;124m'\u001b[39m\u001b[38;5;124mtitleName\u001b[39m\u001b[38;5;124m'\u001b[39m]\n\u001b[1;32m      5\u001b[0m     \u001b[38;5;28;01mreturn\u001b[39;00m \u001b[38;5;28mlist\u001b[39m(\u001b[38;5;28mfilter\u001b[39m(\u001b[38;5;28;01mlambda\u001b[39;00m r:re\u001b[38;5;241m.\u001b[39msearch(title,r[\u001b[38;5;124m'\u001b[39m\u001b[38;5;124mtitleName\u001b[39m\u001b[38;5;124m'\u001b[39m]),wl[\u001b[38;5;124m'\u001b[39m\u001b[38;5;124mtitleList\u001b[39m\u001b[38;5;124m'\u001b[39m]))\n\u001b[0;32m----> 7\u001b[0m \u001b[43mfindByName\u001b[49m\u001b[43m(\u001b[49m\u001b[38;5;124;43m'\u001b[39;49m\u001b[38;5;124;43m마음의\u001b[39;49m\u001b[38;5;124;43m'\u001b[39;49m\u001b[43m,\u001b[49m\u001b[43m \u001b[49m\u001b[43mwebtoonList\u001b[49m\u001b[43m(\u001b[49m\u001b[38;5;124;43m'\u001b[39;49m\u001b[38;5;124;43mtue\u001b[39;49m\u001b[38;5;124;43m'\u001b[39;49m\u001b[43m)\u001b[49m\u001b[43m)\u001b[49m\n",
      "Cell \u001b[0;32mIn[185], line 3\u001b[0m, in \u001b[0;36mfindByName\u001b[0;34m(title, wl)\u001b[0m\n\u001b[1;32m      1\u001b[0m \u001b[38;5;28;01mdef\u001b[39;00m \u001b[38;5;21mfindByName\u001b[39m(title, wl):\n\u001b[1;32m      2\u001b[0m     result \u001b[38;5;241m=\u001b[39m \u001b[38;5;28mdict\u001b[39m()\n\u001b[0;32m----> 3\u001b[0m     \u001b[38;5;28;01mfor\u001b[39;00m item \u001b[38;5;129;01min\u001b[39;00m \u001b[38;5;28mlist\u001b[39m(\u001b[38;5;28mfilter\u001b[39m(\u001b[38;5;28;01mlambda\u001b[39;00m r:re\u001b[38;5;241m.\u001b[39msearch(title, r[\u001b[38;5;124m'\u001b[39m\u001b[38;5;124mtitleName\u001b[39m\u001b[38;5;124m'\u001b[39m]), \u001b[43mwl\u001b[49m\u001b[43m[\u001b[49m\u001b[38;5;124;43m'\u001b[39;49m\u001b[38;5;124;43mtitleList\u001b[39;49m\u001b[38;5;124;43m'\u001b[39;49m\u001b[43m]\u001b[49m)):\n\u001b[1;32m      4\u001b[0m         result[item[\u001b[38;5;124m'\u001b[39m\u001b[38;5;124mtitleId\u001b[39m\u001b[38;5;124m'\u001b[39m]] \u001b[38;5;241m=\u001b[39m item[\u001b[38;5;124m'\u001b[39m\u001b[38;5;124mtitleName\u001b[39m\u001b[38;5;124m'\u001b[39m]\n\u001b[1;32m      5\u001b[0m     \u001b[38;5;28;01mreturn\u001b[39;00m \u001b[38;5;28mlist\u001b[39m(\u001b[38;5;28mfilter\u001b[39m(\u001b[38;5;28;01mlambda\u001b[39;00m r:re\u001b[38;5;241m.\u001b[39msearch(title,r[\u001b[38;5;124m'\u001b[39m\u001b[38;5;124mtitleName\u001b[39m\u001b[38;5;124m'\u001b[39m]),wl[\u001b[38;5;124m'\u001b[39m\u001b[38;5;124mtitleList\u001b[39m\u001b[38;5;124m'\u001b[39m]))\n",
      "\u001b[0;31mTypeError\u001b[0m: 'NoneType' object is not subscriptable"
     ]
    }
   ],
   "source": [
    "def findByName(title, wl):\n",
    "    result = dict()\n",
    "    for item in list(filter(lambda r:re.search(title, r['titleName']), wl['titleList'])):\n",
    "        result[item['titleId']] = item['titleName']\n",
    "    return list(filter(lambda r:re.search(title,r['titleName']),wl['titleList']))\n",
    "\n",
    "findByName('마음의', webtoonList('tue'))"
   ]
  },
  {
   "cell_type": "code",
   "execution_count": 183,
   "id": "faeeeef7-ffa8-464c-809d-95440b365463",
   "metadata": {},
   "outputs": [
    {
     "ename": "NameError",
     "evalue": "name 'tId' is not defined",
     "output_type": "error",
     "traceback": [
      "\u001b[0;31m---------------------------------------------------------------------------\u001b[0m",
      "\u001b[0;31mNameError\u001b[0m                                 Traceback (most recent call last)",
      "Cell \u001b[0;32mIn[183], line 16\u001b[0m\n\u001b[1;32m     12\u001b[0m          \u001b[38;5;28;01mreturn\u001b[39;00m resp\u001b[38;5;241m.\u001b[39mjson()\n\u001b[1;32m     14\u001b[0m     \u001b[38;5;28;01mreturn\u001b[39;00m \u001b[38;5;28;01mNone\u001b[39;00m\n\u001b[0;32m---> 16\u001b[0m \u001b[43mwebtoonNo\u001b[49m\u001b[43m(\u001b[49m\u001b[38;5;241;43m814543\u001b[39;49m\u001b[43m)\u001b[49m\n",
      "Cell \u001b[0;32mIn[183], line 4\u001b[0m, in \u001b[0;36mwebtoonNo\u001b[0;34m(tid, page)\u001b[0m\n\u001b[1;32m      1\u001b[0m \u001b[38;5;28;01mdef\u001b[39;00m \u001b[38;5;21mwebtoonNo\u001b[39m(tid, page\u001b[38;5;241m=\u001b[39m\u001b[38;5;241m1\u001b[39m):\n\u001b[1;32m      2\u001b[0m     url \u001b[38;5;241m=\u001b[39m \u001b[38;5;124m\"\u001b[39m\u001b[38;5;124mhttps://comic.naver.com/api/article/list\u001b[39m\u001b[38;5;124m\"\u001b[39m\n\u001b[1;32m      3\u001b[0m     params \u001b[38;5;241m=\u001b[39m {\n\u001b[0;32m----> 4\u001b[0m         \u001b[38;5;124m'\u001b[39m\u001b[38;5;124mtitleId\u001b[39m\u001b[38;5;124m'\u001b[39m: \u001b[43mtId\u001b[49m, \n\u001b[1;32m      5\u001b[0m         \u001b[38;5;124m'\u001b[39m\u001b[38;5;124mpage\u001b[39m\u001b[38;5;124m'\u001b[39m: page\n\u001b[1;32m      6\u001b[0m     }\n\u001b[1;32m      8\u001b[0m     resp \u001b[38;5;241m=\u001b[39m requset(\u001b[38;5;124m'\u001b[39m\u001b[38;5;124mGET\u001b[39m\u001b[38;5;124m'\u001b[39m, url, params\u001b[38;5;241m=\u001b[39mparams)\n\u001b[1;32m     10\u001b[0m     \u001b[38;5;28;01mif\u001b[39;00m resp\u001b[38;5;241m.\u001b[39mstatus_code \u001b[38;5;241m==\u001b[39m \u001b[38;5;241m200\u001b[39m \u001b[38;5;129;01mand\u001b[39;00m\\\n\u001b[1;32m     11\u001b[0m        re\u001b[38;5;241m.\u001b[39msearch(\u001b[38;5;124mr\u001b[39m\u001b[38;5;124m'\u001b[39m\u001b[38;5;124mapplication\u001b[39m\u001b[38;5;124m\\\u001b[39m\u001b[38;5;124m/json\u001b[39m\u001b[38;5;124m'\u001b[39m, resp\u001b[38;5;241m.\u001b[39mheaders[\u001b[38;5;124m'\u001b[39m\u001b[38;5;124mcontent-type\u001b[39m\u001b[38;5;124m'\u001b[39m]):\n",
      "\u001b[0;31mNameError\u001b[0m: name 'tId' is not defined"
     ]
    }
   ],
   "source": [
    "def webtoonNo(tid, page=1):\n",
    "    url = \"https://comic.naver.com/api/article/list\"\n",
    "    params = {\n",
    "        'titleId': tId, \n",
    "        'page': page\n",
    "    }\n",
    "\n",
    "    resp = requset('GET', url, params=params)\n",
    "\n",
    "    if resp.status_code == 200 and\\\n",
    "       re.search(r'application\\/json', resp.headers['content-type']):\n",
    "         return resp.json()\n",
    "\n",
    "    return None\n",
    "\n",
    "webtoonNo(814543)"
   ]
  },
  {
   "cell_type": "code",
   "execution_count": null,
   "id": "0506879f-77e5-441a-88af-243c8bf4fd01",
   "metadata": {},
   "outputs": [],
   "source": [
    "def imgDownloader(tid, no):\n",
    "    url = 'https://comic.naver.com/webtoon/detail'\n",
    "    params = {\n",
    "        'titleId'=tid\n",
    "        'no'=no\n",
    "    }\n",
    "\n",
    "    resp = request('GET', url, params=params)\n",
    "\n",
    "    if resp.status_code == 200 and\\\n",
    "       re.search(r'text\\/html', resp.headers['content-type']):\n",
    "         dom = BeautifulSoup(resp.text,\"html.parser\")\n",
    "         return list(map(lambda r:urljoin(resp.request.url, r.attrs['src']),\n",
    "                        dom.select('#sectionContWide > img[src]')))\n",
    "         return None\n",
    "\n",
    "imgDownloader(814543,32)"
   ]
  },
  {
   "cell_type": "code",
   "execution_count": null,
   "id": "77354fa9-c5bd-4f40-9f8a-c6c47388ff21",
   "metadata": {},
   "outputs": [],
   "source": [
    "# 이미지 다운 받기"
   ]
  },
  {
   "cell_type": "code",
   "execution_count": 187,
   "id": "587cff57-88c2-41bb-a7e4-3bf18251d01f",
   "metadata": {},
   "outputs": [
    {
     "data": {
      "text/plain": [
       "'<form method=\"post\" action=\"login.php\">\\nUsername: <input type=\"text\" name=\"username\"><br>\\nPassword: <input type=\"text\" name=\"password\"><br>\\n<input type=\"submit\" value=\"Submit\">\\n</form>'"
      ]
     },
     "execution_count": 187,
     "metadata": {},
     "output_type": "execute_result"
    }
   ],
   "source": [
    "# 로그인\n",
    "url = 'https://pythonscraping.com/pages/login.html'\n",
    "resp = request('GET', url)\n",
    "resp.text"
   ]
  },
  {
   "cell_type": "code",
   "execution_count": null,
   "id": "57a9a0a3-765b-48d4-8db0-46e6cf263ef7",
   "metadata": {},
   "outputs": [],
   "source": [
    "GET: 주소에 파라미터  (이렇게 하면 안된다.)\n",
    "로그인(정보기입) => 서버로 요청\n",
    "\n",
    "POST: HTTP.Request.Body = id = 내아이디&pw= 내비밀번호"
   ]
  },
  {
   "cell_type": "code",
   "execution_count": 188,
   "id": "60a1c5d0-bd2d-40ae-b8a9-31f68910a9c8",
   "metadata": {},
   "outputs": [],
   "source": [
    "dom = BeautifulSoup(resp.text, 'html.parser')"
   ]
  },
  {
   "cell_type": "code",
   "execution_count": 190,
   "id": "cd4f0ebe-fc42-4179-99bd-a8e2dc99b871",
   "metadata": {},
   "outputs": [
    {
     "name": "stdout",
     "output_type": "stream",
     "text": [
      "username\n",
      "password\n"
     ]
    },
    {
     "data": {
      "text/plain": [
       "('login.php', 'post')"
      ]
     },
     "execution_count": 190,
     "metadata": {},
     "output_type": "execute_result"
    }
   ],
   "source": [
    "for tag in dom.select('form input[name]'):\n",
    "    print(tag['name'])\n",
    "\n",
    "form = dom.select_one('form')\n",
    "form.attrs['action'], form.attrs['method']"
   ]
  },
  {
   "cell_type": "code",
   "execution_count": 198,
   "id": "ae635699-259e-44db-92d9-b56b7b7555c1",
   "metadata": {},
   "outputs": [
    {
     "data": {
      "text/plain": [
       "'https://pythonscraping.com/pages/login.php'"
      ]
     },
     "execution_count": 198,
     "metadata": {},
     "output_type": "execute_result"
    }
   ],
   "source": [
    "urljoin(url, form.attrs['action'])"
   ]
  },
  {
   "cell_type": "code",
   "execution_count": 200,
   "id": "e5b020a6-0ab3-4bed-8882-a9a902d4dc0b",
   "metadata": {},
   "outputs": [
    {
     "data": {
      "text/plain": [
       "(200,\n",
       " '<!DOCTYPE html PUBLIC \"-//W3C//DTD XHTML 1.0 Transitional//EN\" \"DTD/xhtml1-transitional.dtd\">\\n<html xmlns=\"http://www.w3.org/1999/xhtml\"><head>\\n<style type=\"text/css\">\\nbody {background-color: #fff; color: #222; font-family: sans-serif;}\\npre {margin: 0; font-family: monospace;}\\na:link {color: #009; text-decoration: none; background-color: #fff;}\\na:hover {text-decoration: underline;}\\ntable {border-collapse: collapse; border: 0; width: 934px; box-shadow: 1px 2px 3px #ccc;}\\n.center {text-align: center;}\\n.center table {margin: 1em auto; text-align: left;}\\n.center th {text-align: center !important;}\\ntd, th {border: 1px solid #666; font-size: 75%; vertical-align: baseline; padding: 4px 5px;}\\nth {position: sticky; top: 0; background: inherit;}\\nh1 {font-size: 150%;}\\nh2 {font-size: 125%;}\\n.p {text-align: left;}\\n.e {background-color: #ccf; width: 300px; font-weight: bold;}\\n.h {background-color: #99c; font-weight: bold;}\\n.v {background-color: #ddd; max-width: 300px; overflow-x: auto; word-wrap: break-word;}\\n.v i {color: #999;}\\nimg {float: right; border: 0;}\\nhr {width: 934px; background-color: #ccc; border: 0; height: 1px;}\\n</style>\\n<title>PHP 7.4.33 - phpinfo()</title><meta name=\"ROBOTS\" content=\"NOINDEX,NOFOLLOW,NOARCHIVE\" /></head>\\n<body><div class=\"center\">\\n<table>\\n<tr class=\"h\"><td>\\n<a href=\"http://www.php.net/\"><img border=\"0\" src=\"data:image/png;base64,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\" alt=\"PHP logo\" /></a><h1 class=\"p\">PHP Version 7.4.33</h1>\\n</td></tr>\\n</table>\\n<table>\\n<tr><td class=\"e\">System </td><td class=\"v\">Linux ahs4.r4l.com 5.4.0-91-generic #102-Ubuntu SMP Fri Nov 5 16:31:28 UTC 2021 x86_64 </td></tr>\\n<tr><td class=\"e\">Build Date </td><td class=\"v\">Nov  9 2022 07:43:48 </td></tr>\\n<tr><td class=\"e\">Configure Command </td><td class=\"v\"> &#039;./configure&#039;  &#039;--docdir=/opt/plesk/php/7.4/share/doc&#039; &#039;--runstatedir=/run&#039; &#039;--infodir=/opt/plesk/php/7.4/share/info&#039; &#039;--localedir=/opt/plesk/php/7.4/share/locale&#039; &#039;--exec-prefix=/opt/plesk/php/7.4&#039; &#039;--sysconfdir=/opt/plesk/php/7.4/etc&#039; &#039;--includedir=/opt/plesk/php/7.4/include&#039; &#039;--prefix=/opt/plesk/php/7.4&#039; &#039;--libdir=/opt/plesk/php/7.4/lib/x86_64-linux-gnu&#039; &#039;--sbindir=/opt/plesk/php/7.4/sbin&#039; &#039;--datadir=/opt/plesk/php/7.4/share&#039; &#039;--sharedstatedir=/opt/plesk/php/7.4/com&#039; &#039;--libexecdir=/opt/plesk/php/7.4/lib&#039; &#039;--mandir=/opt/plesk/php/7.4/share/man&#039; &#039;--bindir=/opt/plesk/php/7.4/bin&#039; &#039;--localstatedir=/opt/plesk/php/7.4/var&#039; &#039;--build=x86_64-linux-gnu&#039; &#039;--host=x86_64-linux-gnu&#039; &#039;--disable-debug&#039; &#039;--disable-rpath&#039; &#039;--enable-calendar&#039; &#039;--enable-exif&#039; &#039;--enable-ftp&#039; &#039;--enable-litespeed&#039; &#039;--enable-phpdbg&#039; &#039;--enable-sockets&#039; &#039;--enable-sysvmsg&#039; &#039;--enable-sysvsem&#039; &#039;--enable-sysvshm&#039; &#039;--enable-xml&#039; &#039;--with-bz2&#039; &#039;--with-config-file-path=/opt/plesk/php/7.4/etc&#039; &#039;--with-config-file-scan-dir=/opt/plesk/php/7.4/etc/php.d&#039; &#039;--with-enchant=shared&#039; &#039;--with-gettext&#039; &#039;--with-gmp&#039; &#039;--with-iconv&#039; &#039;--with-kerberos&#039; &#039;--with-layout=GNU&#039; &#039;--with-libdir=lib&#039; &#039;--with-libxml&#039; &#039;--with-openssl&#039; &#039;--with-pic&#039; &#039;--with-system-tzdata&#039; &#039;--with-zlib&#039; &#039;--without-gdbm&#039; &#039;--without-pear&#039; &#039;--disable-dba&#039; &#039;--disable-dom&#039; &#039;--disable-fileinfo&#039; &#039;--disable-gd&#039; &#039;--disable-json&#039; &#039;--disable-pdo&#039; &#039;--disable-phar&#039; &#039;--disable-posix&#039; &#039;--disable-sysvmsg&#039; &#039;--disable-sysvsem&#039; &#039;--disable-sysvshm&#039; &#039;--disable-xmlreader&#039; &#039;--disable-xmlwriter&#039; &#039;--enable-fpm&#039; &#039;--with-fpm-acl&#039; &#039;--without-curl&#039; &#039;--without-pspell&#039; &#039;--without-sqlite3&#039; &#039;--without-unixODBC&#039; &#039;--with-fpm-systemd&#039; &#039;build_alias=x86_64-linux-gnu&#039; &#039;host_alias=x86_64-linux-gnu&#039; &#039;PKG_CONFIG=/var/jenkins/workspace/php-7.4-unix-aws/rules/buck-out/gen/build/pkg-config.pex&#039; </td></tr>\\n<tr><td class=\"e\">Server API </td><td class=\"v\">FPM/FastCGI </td></tr>\\n<tr><td class=\"e\">Virtual Directory Support </td><td class=\"v\">disabled </td></tr>\\n<tr><td class=\"e\">Configuration File (php.ini) Path </td><td class=\"v\">/opt/plesk/php/7.4/etc </td></tr>\\n<tr><td class=\"e\">Loaded Configuration File </td><td class=\"v\">/opt/plesk/php/7.4/etc/php.ini </td></tr>\\n<tr><td class=\"e\">Scan this dir for additional .ini files </td><td class=\"v\">/opt/plesk/php/7.4/etc/php.d </td></tr>\\n<tr><td class=\"e\">Additional .ini files parsed </td><td class=\"v\">/opt/plesk/php/7.4/etc/php.d/00-ioncube-loader.ini,\\n/opt/plesk/php/7.4/etc/php.d/10-opcache.ini,\\n/opt/plesk/php/7.4/etc/php.d/20-mysqlnd.ini,\\n/opt/plesk/php/7.4/etc/php.d/50-xdebug.ini,\\n/opt/plesk/php/7.4/etc/php.d/bcmath.ini,\\n/opt/plesk/php/7.4/etc/php.d/curl.ini,\\n/opt/plesk/php/7.4/etc/php.d/dba.ini,\\n/opt/plesk/php/7.4/etc/php.d/dom.ini,\\n/opt/plesk/php/7.4/etc/php.d/enchant.ini,\\n/opt/plesk/php/7.4/etc/php.d/fileinfo.ini,\\n/opt/plesk/php/7.4/etc/php.d/gd.ini,\\n/opt/plesk/php/7.4/etc/php.d/imagick.ini,\\n/opt/plesk/php/7.4/etc/php.d/imap.ini,\\n/opt/plesk/php/7.4/etc/php.d/intl.ini,\\n/opt/plesk/php/7.4/etc/php.d/json.ini,\\n/opt/plesk/php/7.4/etc/php.d/ldap.ini,\\n/opt/plesk/php/7.4/etc/php.d/mbstring.ini,\\n/opt/plesk/php/7.4/etc/php.d/mysqli.ini,\\n/opt/plesk/php/7.4/etc/php.d/odbc.ini,\\n/opt/plesk/php/7.4/etc/php.d/pdo.ini,\\n/opt/plesk/php/7.4/etc/php.d/pdo_mysql.ini,\\n/opt/plesk/php/7.4/etc/php.d/pdo_odbc.ini,\\n/opt/plesk/php/7.4/etc/php.d/pdo_pgsql.ini,\\n/opt/plesk/php/7.4/etc/php.d/pdo_sqlite.ini,\\n/opt/plesk/php/7.4/etc/php.d/pgsql.ini,\\n/opt/plesk/php/7.4/etc/php.d/phar.ini,\\n/opt/plesk/php/7.4/etc/php.d/posix.ini,\\n/opt/plesk/php/7.4/etc/php.d/pspell.ini,\\n/opt/plesk/php/7.4/etc/php.d/r4l-global-overrides.ini,\\n/opt/plesk/php/7.4/etc/php.d/redis.ini,\\n/opt/plesk/php/7.4/etc/php.d/snmp.ini,\\n/opt/plesk/php/7.4/etc/php.d/soap.ini,\\n/opt/plesk/php/7.4/etc/php.d/sodium.ini,\\n/opt/plesk/php/7.4/etc/php.d/sqlite3.ini,\\n/opt/plesk/php/7.4/etc/php.d/sysvmsg.ini,\\n/opt/plesk/php/7.4/etc/php.d/sysvsem.ini,\\n/opt/plesk/php/7.4/etc/php.d/sysvshm.ini,\\n/opt/plesk/php/7.4/etc/php.d/tidy.ini,\\n/opt/plesk/php/7.4/etc/php.d/xmlreader.ini,\\n/opt/plesk/php/7.4/etc/php.d/xmlrpc.ini,\\n/opt/plesk/php/7.4/etc/php.d/xmlwriter.ini,\\n/opt/plesk/php/7.4/etc/php.d/xsl.ini,\\n/opt/plesk/php/7.4/etc/php.d/zip.ini\\n </td></tr>\\n<tr><td class=\"e\">PHP API </td><td class=\"v\">20190902 </td></tr>\\n<tr><td class=\"e\">PHP Extension </td><td class=\"v\">20190902 </td></tr>\\n<tr><td class=\"e\">Zend Extension </td><td class=\"v\">320190902 </td></tr>\\n<tr><td class=\"e\">Zend Extension Build </td><td class=\"v\">API320190902,NTS </td></tr>\\n<tr><td class=\"e\">PHP Extension Build </td><td class=\"v\">API20190902,NTS </td></tr>\\n<tr><td class=\"e\">Debug Build </td><td class=\"v\">no </td></tr>\\n<tr><td class=\"e\">Thread Safety </td><td class=\"v\">disabled </td></tr>\\n<tr><td class=\"e\">Zend Signal Handling </td><td class=\"v\">enabled </td></tr>\\n<tr><td class=\"e\">Zend Memory Manager </td><td class=\"v\">enabled </td></tr>\\n<tr><td class=\"e\">Zend Multibyte Support </td><td class=\"v\">provided by mbstring </td></tr>\\n<tr><td class=\"e\">IPv6 Support </td><td class=\"v\">enabled </td></tr>\\n<tr><td class=\"e\">DTrace Support </td><td class=\"v\">disabled </td></tr>\\n<tr><td class=\"e\">Registered PHP Streams</td><td class=\"v\">https, ftps, compress.zlib, compress.bzip2, php, file, glob, data, http, ftp, phar, zip</td></tr>\\n<tr><td class=\"e\">Registered Stream Socket Transports</td><td class=\"v\">tcp, udp, unix, udg, ssl, tls, tlsv1.0, tlsv1.1, tlsv1.2, tlsv1.3</td></tr>\\n<tr><td class=\"e\">Registered Stream Filters</td><td class=\"v\">zlib.*, bzip2.*, convert.iconv.*, string.rot13, string.toupper, string.tolower, string.strip_tags, convert.*, consumed, dechunk</td></tr>\\n</table>\\n<table>\\n<tr class=\"v\"><td>\\n<a href=\"http://www.zend.com/\"><img border=\"0\" src=\"data:image/png;base64,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\" alt=\"Zend logo\" /></a>\\nThis program makes use of the Zend Scripting Language Engine:<br />Zend&nbsp;Engine&nbsp;v3.4.0,&nbsp;Copyright&nbsp;(c)&nbsp;Zend&nbsp;Technologies<br />&nbsp;&nbsp;&nbsp;&nbsp;with&nbsp;the&nbsp;ionCube&nbsp;PHP&nbsp;Loader&nbsp;+&nbsp;ionCube24&nbsp;v11.0.1,&nbsp;Copyright&nbsp;(c)&nbsp;2002-2022,&nbsp;by&nbsp;ionCube&nbsp;Ltd.<br />&nbsp;&nbsp;&nbsp;&nbsp;with&nbsp;Zend&nbsp;OPcache&nbsp;v7.4.33,&nbsp;Copyright&nbsp;(c),&nbsp;by&nbsp;Zend&nbsp;Technologies<br /></td></tr>\\n</table>\\n<hr />\\n<h1>Configuration</h1>\\n<h2><a name=\"module_bcmath\">bcmath</a></h2>\\n<table>\\n<tr><td class=\"e\">BCMath support </td><td class=\"v\">enabled </td></tr>\\n</table>\\n<table>\\n<tr class=\"h\"><th>Directive</th><th>Local Value</th><th>Master Value</th></tr>\\n<tr><td class=\"e\">bcmath.scale</td><td class=\"v\">0</td><td class=\"v\">0</td></tr>\\n</table>\\n<h2><a name=\"module_bz2\">bz2</a></h2>\\n<table>\\n<tr><td class=\"e\">BZip2 Support </td><td class=\"v\">Enabled </td></tr>\\n<tr><td class=\"e\">Stream Wrapper support </td><td class=\"v\">compress.bzip2:// </td></tr>\\n<tr><td class=\"e\">Stream Filter support </td><td class=\"v\">bzip2.decompress, bzip2.compress </td></tr>\\n<tr><td class=\"e\">BZip2 Version </td><td class=\"v\">1.0.8, 13-Jul-2019 </td></tr>\\n</table>\\n<h2><a name=\"module_calendar\">calendar</a></h2>\\n<table>\\n<tr><td class=\"e\">Calendar support </td><td class=\"v\">enabled </td></tr>\\n</table>\\n<h2><a name=\"module_cgi-fcgi\">cgi-fcgi</a></h2>\\n<table>\\n<tr><td class=\"e\">php-fpm </td><td class=\"v\">active </td></tr>\\n</table>\\n<table>\\n<tr class=\"h\"><th>Directive</th><th>Local Value</th><th>Master Value</th></tr>\\n<tr><td class=\"e\">cgi.discard_path</td><td class=\"v\">0</td><td class=\"v\">0</td></tr>\\n<tr><td class=\"e\">cgi.fix_pathinfo</td><td class=\"v\">1</td><td class=\"v\">1</td></tr>\\n<tr><td class=\"e\">cgi.force_redirect</td><td class=\"v\">1</td><td class=\"v\">1</td></tr>\\n<tr><td class=\"e\">cgi.nph</td><td class=\"v\">0</td><td class=\"v\">0</td></tr>\\n<tr><td class=\"e\">cgi.redirect_status_env</td><td class=\"v\"><i>no value</i></td><td class=\"v\"><i>no value</i></td></tr>\\n<tr><td class=\"e\">cgi.rfc2616_headers</td><td class=\"v\">0</td><td class=\"v\">0</td></tr>\\n<tr><td class=\"e\">fastcgi.error_header</td><td class=\"v\"><i>no value</i></td><td class=\"v\"><i>no value</i></td></tr>\\n<tr><td class=\"e\">fastcgi.logging</td><td class=\"v\">1</td><td class=\"v\">1</td></tr>\\n<tr><td class=\"e\">fpm.config</td><td class=\"v\"><i>no value</i></td><td class=\"v\"><i>no value</i></td></tr>\\n</table>\\n<h2><a name=\"module_core\">Core</a></h2>\\n<table>\\n<tr><td class=\"e\">PHP Version </td><td class=\"v\">7.4.33 </td></tr>\\n</table>\\n<table>\\n<tr class=\"h\"><th>Directive</th><th>Local Value</th><th>Master Value</th></tr>\\n<tr><td class=\"e\">allow_url_fopen</td><td class=\"v\">On</td><td class=\"v\">On</td></tr>\\n<tr><td class=\"e\">allow_url_include</td><td class=\"v\">Off</td><td class=\"v\">Off</td></tr>\\n<tr><td class=\"e\">arg_separator.input</td><td class=\"v\">&amp;</td><td class=\"v\">&amp;</td></tr>\\n<tr><td class=\"e\">arg_separator.output</td><td class=\"v\">&amp;</td><td class=\"v\">&amp;</td></tr>\\n<tr><td class=\"e\">auto_append_file</td><td class=\"v\"><i>no value</i></td><td class=\"v\"><i>no value</i></td></tr>\\n<tr><td class=\"e\">auto_globals_jit</td><td class=\"v\">On</td><td class=\"v\">On</td></tr>\\n<tr><td class=\"e\">auto_prepend_file</td><td class=\"v\"><i>no value</i></td><td class=\"v\"><i>no value</i></td></tr>\\n<tr><td class=\"e\">browscap</td><td class=\"v\"><i>no value</i></td><td class=\"v\"><i>no value</i></td></tr>\\n<tr><td class=\"e\">default_charset</td><td class=\"v\">UTF-8</td><td class=\"v\">UTF-8</td></tr>\\n<tr><td class=\"e\">default_mimetype</td><td class=\"v\">text/html</td><td class=\"v\">text/html</td></tr>\\n<tr><td class=\"e\">disable_classes</td><td class=\"v\"><i>no value</i></td><td class=\"v\"><i>no value</i></td></tr>\\n<tr><td class=\"e\">disable_functions</td><td class=\"v\">opcache_get_status</td><td class=\"v\">opcache_get_status</td></tr>\\n<tr><td class=\"e\">display_errors</td><td class=\"v\">Off</td><td class=\"v\">Off</td></tr>\\n<tr><td class=\"e\">display_startup_errors</td><td class=\"v\">Off</td><td class=\"v\">Off</td></tr>\\n<tr><td class=\"e\">doc_root</td><td class=\"v\"><i>no value</i></td><td class=\"v\"><i>no value</i></td></tr>\\n<tr><td class=\"e\">docref_ext</td><td class=\"v\"><i>no value</i></td><td class=\"v\"><i>no value</i></td></tr>\\n<tr><td class=\"e\">docref_root</td><td class=\"v\"><i>no value</i></td><td class=\"v\"><i>no value</i></td></tr>\\n<tr><td class=\"e\">enable_dl</td><td class=\"v\">Off</td><td class=\"v\">Off</td></tr>\\n<tr><td class=\"e\">enable_post_data_reading</td><td class=\"v\">On</td><td class=\"v\">On</td></tr>\\n<tr><td class=\"e\">error_append_string</td><td class=\"v\"><i>no value</i></td><td class=\"v\"><i>no value</i></td></tr>\\n<tr><td class=\"e\">error_log</td><td class=\"v\"><i>no value</i></td><td class=\"v\"><i>no value</i></td></tr>\\n<tr><td class=\"e\">error_prepend_string</td><td class=\"v\"><i>no value</i></td><td class=\"v\"><i>no value</i></td></tr>\\n<tr><td class=\"e\">error_reporting</td><td class=\"v\">22519</td><td class=\"v\">22519</td></tr>\\n<tr><td class=\"e\">expose_php</td><td class=\"v\">On</td><td class=\"v\">On</td></tr>\\n<tr><td class=\"e\">extension_dir</td><td class=\"v\">/opt/plesk/php/7.4/lib/php/modules</td><td class=\"v\">/opt/plesk/php/7.4/lib/php/modules</td></tr>\\n<tr><td class=\"e\">file_uploads</td><td class=\"v\">On</td><td class=\"v\">On</td></tr>\\n<tr><td class=\"e\">hard_timeout</td><td class=\"v\">2</td><td class=\"v\">2</td></tr>\\n<tr><td class=\"e\">highlight.comment</td><td class=\"v\"><font style=\"color: #FF8000\">#FF8000</font></td><td class=\"v\"><font style=\"color: #FF8000\">#FF8000</font></td></tr>\\n<tr><td class=\"e\">highlight.default</td><td class=\"v\"><font style=\"color: #0000BB\">#0000BB</font></td><td class=\"v\"><font style=\"color: #0000BB\">#0000BB</font></td></tr>\\n<tr><td class=\"e\">highlight.html</td><td class=\"v\"><font style=\"color: #000000\">#000000</font></td><td class=\"v\"><font style=\"color: #000000\">#000000</font></td></tr>\\n<tr><td class=\"e\">highlight.keyword</td><td class=\"v\"><font style=\"color: #007700\">#007700</font></td><td class=\"v\"><font style=\"color: #007700\">#007700</font></td></tr>\\n<tr><td class=\"e\">highlight.string</td><td class=\"v\"><font style=\"color: #DD0000\">#DD0000</font></td><td class=\"v\"><font style=\"color: #DD0000\">#DD0000</font></td></tr>\\n<tr><td class=\"e\">html_errors</td><td class=\"v\">On</td><td class=\"v\">On</td></tr>\\n<tr><td class=\"e\">ignore_repeated_errors</td><td class=\"v\">Off</td><td class=\"v\">Off</td></tr>\\n<tr><td class=\"e\">ignore_repeated_source</td><td class=\"v\">Off</td><td class=\"v\">Off</td></tr>\\n<tr><td class=\"e\">ignore_user_abort</td><td class=\"v\">Off</td><td class=\"v\">Off</td></tr>\\n<tr><td class=\"e\">implicit_flush</td><td class=\"v\">Off</td><td class=\"v\">Off</td></tr>\\n<tr><td class=\"e\">include_path</td><td class=\"v\">.:/opt/plesk/php/7.4/share/pear</td><td class=\"v\">.:/opt/plesk/php/7.4/share/pear</td></tr>\\n<tr><td class=\"e\">input_encoding</td><td class=\"v\"><i>no value</i></td><td class=\"v\"><i>no value</i></td></tr>\\n<tr><td class=\"e\">internal_encoding</td><td class=\"v\"><i>no value</i></td><td class=\"v\"><i>no value</i></td></tr>\\n<tr><td class=\"e\">log_errors</td><td class=\"v\">On</td><td class=\"v\">On</td></tr>\\n<tr><td class=\"e\">log_errors_max_len</td><td class=\"v\">1024</td><td class=\"v\">1024</td></tr>\\n<tr><td class=\"e\">mail.add_x_header</td><td class=\"v\">Off</td><td class=\"v\">Off</td></tr>\\n<tr><td class=\"e\">mail.force_extra_parameters</td><td class=\"v\"><i>no value</i></td><td class=\"v\"><i>no value</i></td></tr>\\n<tr><td class=\"e\">mail.log</td><td class=\"v\"><i>no value</i></td><td class=\"v\"><i>no value</i></td></tr>\\n<tr><td class=\"e\">max_execution_time</td><td class=\"v\">30</td><td class=\"v\">30</td></tr>\\n<tr><td class=\"e\">max_file_uploads</td><td class=\"v\">20</td><td class=\"v\">20</td></tr>\\n<tr><td class=\"e\">max_input_nesting_level</td><td class=\"v\">64</td><td class=\"v\">64</td></tr>\\n<tr><td class=\"e\">max_input_time</td><td class=\"v\">60</td><td class=\"v\">60</td></tr>\\n<tr><td class=\"e\">max_input_vars</td><td class=\"v\">1000</td><td class=\"v\">1000</td></tr>\\n<tr><td class=\"e\">memory_limit</td><td class=\"v\">128M</td><td class=\"v\">128M</td></tr>\\n<tr><td class=\"e\">open_basedir</td><td class=\"v\">/var/www/vhosts/pythonscraping.com/:/tmp/</td><td class=\"v\">/var/www/vhosts/pythonscraping.com/:/tmp/</td></tr>\\n<tr><td class=\"e\">output_buffering</td><td class=\"v\">4096</td><td class=\"v\">4096</td></tr>\\n<tr><td class=\"e\">output_encoding</td><td class=\"v\"><i>no value</i></td><td class=\"v\"><i>no value</i></td></tr>\\n<tr><td class=\"e\">output_handler</td><td class=\"v\"><i>no value</i></td><td class=\"v\"><i>no value</i></td></tr>\\n<tr><td class=\"e\">post_max_size</td><td class=\"v\">32M</td><td class=\"v\">32M</td></tr>\\n<tr><td class=\"e\">precision</td><td class=\"v\">14</td><td class=\"v\">14</td></tr>\\n<tr><td class=\"e\">realpath_cache_size</td><td class=\"v\">4096K</td><td class=\"v\">4096K</td></tr>\\n<tr><td class=\"e\">realpath_cache_ttl</td><td class=\"v\">120</td><td class=\"v\">120</td></tr>\\n<tr><td class=\"e\">register_argc_argv</td><td class=\"v\">Off</td><td class=\"v\">Off</td></tr>\\n<tr><td class=\"e\">report_memleaks</td><td class=\"v\">On</td><td class=\"v\">On</td></tr>\\n<tr><td class=\"e\">report_zend_debug</td><td class=\"v\">On</td><td class=\"v\">On</td></tr>\\n<tr><td class=\"e\">request_order</td><td class=\"v\">GP</td><td class=\"v\">GP</td></tr>\\n<tr><td class=\"e\">sendmail_from</td><td class=\"v\"><i>no value</i></td><td class=\"v\"><i>no value</i></td></tr>\\n<tr><td class=\"e\">sendmail_path</td><td class=\"v\">/usr/sbin/sendmail&nbsp;-t&nbsp;-i</td><td class=\"v\">/usr/sbin/sendmail&nbsp;-t&nbsp;-i</td></tr>\\n<tr><td class=\"e\">serialize_precision</td><td class=\"v\">-1</td><td class=\"v\">-1</td></tr>\\n<tr><td class=\"e\">short_open_tag</td><td class=\"v\">Off</td><td class=\"v\">Off</td></tr>\\n<tr><td class=\"e\">SMTP</td><td class=\"v\">localhost</td><td class=\"v\">localhost</td></tr>\\n<tr><td class=\"e\">smtp_port</td><td class=\"v\">25</td><td class=\"v\">25</td></tr>\\n<tr><td class=\"e\">sys_temp_dir</td><td class=\"v\"><i>no value</i></td><td class=\"v\"><i>no value</i></td></tr>\\n<tr><td class=\"e\">syslog.facility</td><td class=\"v\">LOG_USER</td><td class=\"v\">LOG_USER</td></tr>\\n<tr><td class=\"e\">syslog.filter</td><td class=\"v\">no-ctrl</td><td class=\"v\">no-ctrl</td></tr>\\n<tr><td class=\"e\">syslog.ident</td><td class=\"v\">php</td><td class=\"v\">php</td></tr>\\n<tr><td class=\"e\">track_errors</td><td class=\"v\">Off</td><td class=\"v\">Off</td></tr>\\n<tr><td class=\"e\">unserialize_callback_func</td><td class=\"v\"><i>no value</i></td><td class=\"v\"><i>no value</i></td></tr>\\n<tr><td class=\"e\">upload_max_filesize</td><td class=\"v\">32M</td><td class=\"v\">32M</td></tr>\\n<tr><td class=\"e\">upload_tmp_dir</td><td class=\"v\"><i>no value</i></td><td class=\"v\"><i>no value</i></td></tr>\\n<tr><td class=\"e\">user_dir</td><td class=\"v\"><i>no value</i></td><td class=\"v\"><i>no value</i></td></tr>\\n<tr><td class=\"e\">user_ini.cache_ttl</td><td class=\"v\">300</td><td class=\"v\">300</td></tr>\\n<tr><td class=\"e\">user_ini.filename</td><td class=\"v\">.user.ini</td><td class=\"v\">.user.ini</td></tr>\\n<tr><td class=\"e\">variables_order</td><td class=\"v\">GPCS</td><td class=\"v\">GPCS</td></tr>\\n<tr><td class=\"e\">xmlrpc_error_number</td><td class=\"v\">0</td><td class=\"v\">0</td></tr>\\n<tr><td class=\"e\">xmlrpc_errors</td><td class=\"v\">Off</td><td class=\"v\">Off</td></tr>\\n<tr><td class=\"e\">zend.assertions</td><td class=\"v\">-1</td><td class=\"v\">-1</td></tr>\\n<tr><td class=\"e\">zend.detect_unicode</td><td class=\"v\">On</td><td class=\"v\">On</td></tr>\\n<tr><td class=\"e\">zend.enable_gc</td><td class=\"v\">On</td><td class=\"v\">On</td></tr>\\n<tr><td class=\"e\">zend.exception_ignore_args</td><td class=\"v\">On</td><td class=\"v\">On</td></tr>\\n<tr><td class=\"e\">zend.multibyte</td><td class=\"v\">Off</td><td class=\"v\">Off</td></tr>\\n<tr><td class=\"e\">zend.script_encoding</td><td class=\"v\"><i>no value</i></td><td class=\"v\"><i>no value</i></td></tr>\\n<tr><td class=\"e\">zend.signal_check</td><td class=\"v\">Off</td><td class=\"v\">Off</td></tr>\\n</table>\\n<h2><a name=\"module_ctype\">ctype</a></h2>\\n<table>\\n<tr><td class=\"e\">ctype functions </td><td class=\"v\">enabled </td></tr>\\n</table>\\n<h2><a name=\"module_curl\">curl</a></h2>\\n<table>\\n<tr><td class=\"e\">cURL support </td><td class=\"v\">enabled </td></tr>\\n<tr><td class=\"e\">cURL Information </td><td class=\"v\">7.68.0 </td></tr>\\n<tr><td class=\"e\">Age </td><td class=\"v\">5 </td></tr>\\n<tr><td class=\"e\">Features </td></tr>\\n<tr><td class=\"e\">AsynchDNS </td><td class=\"v\">Yes </td></tr>\\n<tr><td class=\"e\">CharConv </td><td class=\"v\">No </td></tr>\\n<tr><td class=\"e\">Debug </td><td class=\"v\">No </td></tr>\\n<tr><td class=\"e\">GSS-Negotiate </td><td class=\"v\">No </td></tr>\\n<tr><td class=\"e\">IDN </td><td class=\"v\">Yes </td></tr>\\n<tr><td class=\"e\">IPv6 </td><td class=\"v\">Yes </td></tr>\\n<tr><td class=\"e\">krb4 </td><td class=\"v\">No </td></tr>\\n<tr><td class=\"e\">Largefile </td><td class=\"v\">Yes </td></tr>\\n<tr><td class=\"e\">libz </td><td class=\"v\">Yes </td></tr>\\n<tr><td class=\"e\">NTLM </td><td class=\"v\">Yes </td></tr>\\n<tr><td class=\"e\">NTLMWB </td><td class=\"v\">Yes </td></tr>\\n<tr><td class=\"e\">SPNEGO </td><td class=\"v\">Yes </td></tr>\\n<tr><td class=\"e\">SSL </td><td class=\"v\">Yes </td></tr>\\n<tr><td class=\"e\">SSPI </td><td class=\"v\">No </td></tr>\\n<tr><td class=\"e\">TLS-SRP </td><td class=\"v\">Yes </td></tr>\\n<tr><td class=\"e\">HTTP2 </td><td class=\"v\">Yes </td></tr>\\n<tr><td class=\"e\">GSSAPI </td><td class=\"v\">Yes </td></tr>\\n<tr><td class=\"e\">KERBEROS5 </td><td class=\"v\">Yes </td></tr>\\n<tr><td class=\"e\">UNIX_SOCKETS </td><td class=\"v\">Yes </td></tr>\\n<tr><td class=\"e\">PSL </td><td class=\"v\">Yes </td></tr>\\n<tr><td class=\"e\">HTTPS_PROXY </td><td class=\"v\">Yes </td></tr>\\n<tr><td class=\"e\">MULTI_SSL </td><td class=\"v\">No </td></tr>\\n<tr><td class=\"e\">BROTLI </td><td class=\"v\">Yes </td></tr>\\n<tr><td class=\"e\">Protocols </td><td class=\"v\">dict, file, ftp, ftps, gopher, http, https, imap, imaps, ldap, ldaps, pop3, pop3s, rtmp, rtsp, scp, sftp, smb, smbs, smtp, smtps, telnet, tftp </td></tr>\\n<tr><td class=\"e\">Host </td><td class=\"v\">x86_64-pc-linux-gnu </td></tr>\\n<tr><td class=\"e\">SSL Version </td><td class=\"v\">OpenSSL/1.1.1f </td></tr>\\n<tr><td class=\"e\">ZLib Version </td><td class=\"v\">1.2.11 </td></tr>\\n<tr><td class=\"e\">libSSH Version </td><td class=\"v\">libssh/0.9.3/openssl/zlib </td></tr>\\n</table>\\n<table>\\n<tr class=\"h\"><th>Directive</th><th>Local Value</th><th>Master Value</th></tr>\\n<tr><td class=\"e\">curl.cainfo</td><td class=\"v\"><i>no value</i></td><td class=\"v\"><i>no value</i></td></tr>\\n</table>\\n<h2><a name=\"module_date\">date</a></h2>\\n<table>\\n<tr><td class=\"e\">date/time support </td><td class=\"v\">enabled </td></tr>\\n<tr><td class=\"e\">timelib version </td><td class=\"v\">2018.04 </td></tr>\\n<tr><td class=\"e\">&quot;Olson&quot; Timezone Database Version </td><td class=\"v\">0.system </td></tr>\\n<tr><td class=\"e\">Timezone Database </td><td class=\"v\">internal </td></tr>\\n<tr><td class=\"e\">Default timezone </td><td class=\"v\">America/Montreal </td></tr>\\n</table>\\n<table>\\n<tr class=\"h\"><th>Directive</th><th>Local Value</th><th>Master Value</th></tr>\\n<tr><td class=\"e\">date.default_latitude</td><td class=\"v\">31.7667</td><td class=\"v\">31.7667</td></tr>\\n<tr><td class=\"e\">date.default_longitude</td><td class=\"v\">35.2333</td><td class=\"v\">35.2333</td></tr>\\n<tr><td class=\"e\">date.sunrise_zenith</td><td class=\"v\">90.583333</td><td class=\"v\">90.583333</td></tr>\\n<tr><td class=\"e\">date.sunset_zenith</td><td class=\"v\">90.583333</td><td class=\"v\">90.583333</td></tr>\\n<tr><td class=\"e\">date.timezone</td><td class=\"v\">America/Montreal</td><td class=\"v\">America/Montreal</td></tr>\\n</table>\\n<h2><a name=\"module_dba\">dba</a></h2>\\n<table>\\n<tr><td class=\"e\">DBA support </td><td class=\"v\">enabled </td></tr>\\n<tr><td class=\"e\">Supported handlers </td><td class=\"v\">cdb cdb_make db4 inifile flatfile  </td></tr>\\n</table>\\n<table>\\n<tr class=\"h\"><th>Directive</th><th>Local Value</th><th>Master Value</th></tr>\\n<tr><td class=\"e\">dba.default_handler</td><td class=\"v\">flatfile</td><td class=\"v\">flatfile</td></tr>\\n</table>\\n<h2><a name=\"module_dom\">dom</a></h2>\\n<table>\\n<tr><td class=\"e\">DOM/XML </td><td class=\"v\">enabled </td></tr>\\n<tr><td class=\"e\">DOM/XML API Version </td><td class=\"v\">20031129 </td></tr>\\n<tr><td class=\"e\">libxml Version </td><td class=\"v\">2.9.10 </td></tr>\\n<tr><td class=\"e\">HTML Support </td><td class=\"v\">enabled </td></tr>\\n<tr><td class=\"e\">XPath Support </td><td class=\"v\">enabled </td></tr>\\n<tr><td class=\"e\">XPointer Support </td><td class=\"v\">enabled </td></tr>\\n<tr><td class=\"e\">Schema Support </td><td class=\"v\">enabled </td></tr>\\n<tr><td class=\"e\">RelaxNG Support </td><td class=\"v\">enabled </td></tr>\\n</table>\\n<h2><a name=\"module_enchant\">enchant</a></h2>\\n<table>\\n<tr><td class=\"e\">enchant support </td><td class=\"v\">enabled </td></tr>\\n<tr><td class=\"e\">Libenchant Version </td><td class=\"v\">1.6.0 </td></tr>\\n</table>\\n<table>\\n<tr><td class=\"e\">aspell </td><td class=\"v\">Aspell Provider </td><td class=\"v\">/usr/lib/x86_64-linux-gnu/enchant/libenchant_aspell.so </td></tr>\\n<tr><td class=\"e\">myspell </td><td class=\"v\">Myspell Provider </td><td class=\"v\">/usr/lib/x86_64-linux-gnu/enchant/libenchant_myspell.so </td></tr>\\n<tr><td class=\"e\">hspell </td><td class=\"v\">Hspell Provider </td><td class=\"v\">/usr/lib/x86_64-linux-gnu/enchant/libenchant_hspell.so </td></tr>\\n<tr><td class=\"e\">ispell </td><td class=\"v\">Ispell Provider </td><td class=\"v\">/usr/lib/x86_64-linux-gnu/enchant/libenchant_ispell.so </td></tr>\\n</table>\\n<h2><a name=\"module_exif\">exif</a></h2>\\n<table>\\n<tr><td class=\"e\">EXIF Support </td><td class=\"v\">enabled </td></tr>\\n<tr><td class=\"e\">Supported EXIF Version </td><td class=\"v\">0220 </td></tr>\\n<tr><td class=\"e\">Supported filetypes </td><td class=\"v\">JPEG, TIFF </td></tr>\\n<tr><td class=\"e\">Multibyte decoding support using mbstring </td><td class=\"v\">enabled </td></tr>\\n<tr><td class=\"e\">Extended EXIF tag formats </td><td class=\"v\">Canon, Casio, Fujifilm, Nikon, Olympus, Samsung, Panasonic, DJI, Sony, Pentax, Minolta, Sigma, Foveon, Kyocera, Ricoh, AGFA, Epson </td></tr>\\n</table>\\n<table>\\n<tr class=\"h\"><th>Directive</th><th>Local Value</th><th>Master Value</th></tr>\\n<tr><td class=\"e\">exif.decode_jis_intel</td><td class=\"v\">JIS</td><td class=\"v\">JIS</td></tr>\\n<tr><td class=\"e\">exif.decode_jis_motorola</td><td class=\"v\">JIS</td><td class=\"v\">JIS</td></tr>\\n<tr><td class=\"e\">exif.decode_unicode_intel</td><td class=\"v\">UCS-2LE</td><td class=\"v\">UCS-2LE</td></tr>\\n<tr><td class=\"e\">exif.decode_unicode_motorola</td><td class=\"v\">UCS-2BE</td><td class=\"v\">UCS-2BE</td></tr>\\n<tr><td class=\"e\">exif.encode_jis</td><td class=\"v\"><i>no value</i></td><td class=\"v\"><i>no value</i></td></tr>\\n<tr><td class=\"e\">exif.encode_unicode</td><td class=\"v\">ISO-8859-15</td><td class=\"v\">ISO-8859-15</td></tr>\\n</table>\\n<h2><a name=\"module_fileinfo\">fileinfo</a></h2>\\n<table>\\n<tr><td class=\"e\">fileinfo support </td><td class=\"v\">enabled </td></tr>\\n<tr><td class=\"e\">libmagic </td><td class=\"v\">537 </td></tr>\\n</table>\\n<h2><a name=\"module_filter\">filter</a></h2>\\n<table>\\n<tr><td class=\"e\">Input Validation and Filtering </td><td class=\"v\">enabled </td></tr>\\n</table>\\n<table>\\n<tr class=\"h\"><th>Directive</th><th>Local Value</th><th>Master Value</th></tr>\\n<tr><td class=\"e\">filter.default</td><td class=\"v\">unsafe_raw</td><td class=\"v\">unsafe_raw</td></tr>\\n<tr><td class=\"e\">filter.default_flags</td><td class=\"v\"><i>no value</i></td><td class=\"v\"><i>no value</i></td></tr>\\n</table>\\n<h2><a name=\"module_ftp\">ftp</a></h2>\\n<table>\\n<tr><td class=\"e\">FTP support </td><td class=\"v\">enabled </td></tr>\\n<tr><td class=\"e\">FTPS support </td><td class=\"v\">enabled </td></tr>\\n</table>\\n<h2><a name=\"module_gd\">gd</a></h2>\\n<table>\\n<tr><td class=\"e\">GD Support </td><td class=\"v\">enabled </td></tr>\\n<tr><td class=\"e\">GD Version </td><td class=\"v\">bundled (2.1.0 compatible) </td></tr>\\n<tr><td class=\"e\">FreeType Support </td><td class=\"v\">enabled </td></tr>\\n<tr><td class=\"e\">FreeType Linkage </td><td class=\"v\">with freetype </td></tr>\\n<tr><td class=\"e\">FreeType Version </td><td class=\"v\">2.10.1 </td></tr>\\n<tr><td class=\"e\">GIF Read Support </td><td class=\"v\">enabled </td></tr>\\n<tr><td class=\"e\">GIF Create Support </td><td class=\"v\">enabled </td></tr>\\n<tr><td class=\"e\">JPEG Support </td><td class=\"v\">enabled </td></tr>\\n<tr><td class=\"e\">libJPEG Version </td><td class=\"v\">8 </td></tr>\\n<tr><td class=\"e\">PNG Support </td><td class=\"v\">enabled </td></tr>\\n<tr><td class=\"e\">libPNG Version </td><td class=\"v\">1.6.37 </td></tr>\\n<tr><td class=\"e\">WBMP Support </td><td class=\"v\">enabled </td></tr>\\n<tr><td class=\"e\">XPM Support </td><td class=\"v\">enabled </td></tr>\\n<tr><td class=\"e\">libXpm Version </td><td class=\"v\">30411 </td></tr>\\n<tr><td class=\"e\">XBM Support </td><td class=\"v\">enabled </td></tr>\\n<tr><td class=\"e\">WebP Support </td><td class=\"v\">enabled </td></tr>\\n<tr><td class=\"e\">BMP Support </td><td class=\"v\">enabled </td></tr>\\n<tr><td class=\"e\">TGA Read Support </td><td class=\"v\">enabled </td></tr>\\n</table>\\n<table>\\n<tr class=\"h\"><th>Directive</th><th>Local Value</th><th>Master Value</th></tr>\\n<tr><td class=\"e\">gd.jpeg_ignore_warning</td><td class=\"v\">1</td><td class=\"v\">1</td></tr>\\n</table>\\n<h2><a name=\"module_gettext\">gettext</a></h2>\\n<table>\\n<tr><td class=\"e\">GetText Support </td><td class=\"v\">enabled </td></tr>\\n</table>\\n<h2><a name=\"module_gmp\">gmp</a></h2>\\n<table>\\n<tr><td class=\"e\">gmp support </td><td class=\"v\">enabled </td></tr>\\n<tr><td class=\"e\">GMP version </td><td class=\"v\">6.2.0 </td></tr>\\n</table>\\n<h2><a name=\"module_hash\">hash</a></h2>\\n<table>\\n<tr><td class=\"e\">hash support </td><td class=\"v\">enabled </td></tr>\\n<tr><td class=\"e\">Hashing Engines </td><td class=\"v\">md2 md4 md5 sha1 sha224 sha256 sha384 sha512/224 sha512/256 sha512 sha3-224 sha3-256 sha3-384 sha3-512 ripemd128 ripemd160 ripemd256 ripemd320 whirlpool tiger128,3 tiger160,3 tiger192,3 tiger128,4 tiger160,4 tiger192,4 snefru snefru256 gost gost-crypto adler32 crc32 crc32b crc32c fnv132 fnv1a32 fnv164 fnv1a64 joaat haval128,3 haval160,3 haval192,3 haval224,3 haval256,3 haval128,4 haval160,4 haval192,4 haval224,4 haval256,4 haval128,5 haval160,5 haval192,5 haval224,5 haval256,5  </td></tr>\\n</table>\\n<h2><a name=\"module_iconv\">iconv</a></h2>\\n<table>\\n<tr><td class=\"e\">iconv support </td><td class=\"v\">enabled </td></tr>\\n<tr><td class=\"e\">iconv implementation </td><td class=\"v\">glibc </td></tr>\\n<tr><td class=\"e\">iconv library version </td><td class=\"v\">2.31 </td></tr>\\n</table>\\n<table>\\n<tr class=\"h\"><th>Directive</th><th>Local Value</th><th>Master Value</th></tr>\\n<tr><td class=\"e\">iconv.input_encoding</td><td class=\"v\"><i>no value</i></td><td class=\"v\"><i>no value</i></td></tr>\\n<tr><td class=\"e\">iconv.internal_encoding</td><td class=\"v\"><i>no value</i></td><td class=\"v\"><i>no value</i></td></tr>\\n<tr><td class=\"e\">iconv.output_encoding</td><td class=\"v\"><i>no value</i></td><td class=\"v\"><i>no value</i></td></tr>\\n</table>\\n<h2><a name=\"module_imagick\">imagick</a></h2>\\n<table>\\n<tr class=\"h\"><th>imagick module</th><th>enabled</th></tr>\\n<tr><td class=\"e\">imagick module version </td><td class=\"v\">3.7.0 </td></tr>\\n<tr><td class=\"e\">imagick classes </td><td class=\"v\">Imagick, ImagickDraw, ImagickPixel, ImagickPixelIterator, ImagickKernel </td></tr>\\n<tr><td class=\"e\">Imagick compiled with ImageMagick version </td><td class=\"v\">ImageMagick 6.9.10-23 Q16 x86_64 20190101 https://imagemagick.org </td></tr>\\n<tr><td class=\"e\">Imagick using ImageMagick library version </td><td class=\"v\">ImageMagick 6.9.10-23 Q16 x86_64 20190101 https://imagemagick.org </td></tr>\\n<tr><td class=\"e\">ImageMagick copyright </td><td class=\"v\">© 1999-2019 ImageMagick Studio LLC </td></tr>\\n<tr><td class=\"e\">ImageMagick release date </td><td class=\"v\">20190101 </td></tr>\\n<tr><td class=\"e\">ImageMagick number of supported formats:  </td><td class=\"v\">235 </td></tr>\\n<tr><td class=\"e\">ImageMagick supported formats </td><td class=\"v\">3FR, 3G2, 3GP, AAI, AI, ART, ARW, AVI, AVS, BGR, BGRA, BGRO, BIE, BMP, BMP2, BMP3, BRF, CAL, CALS, CANVAS, CAPTION, CIN, CIP, CLIP, CMYK, CMYKA, CR2, CRW, CUR, CUT, DATA, DCM, DCR, DCX, DDS, DFONT, DJVU, DNG, DOT, DPX, DXT1, DXT5, EPDF, EPI, EPS, EPS2, EPS3, EPSF, EPSI, EPT, EPT2, EPT3, ERF, EXR, FAX, FILE, FITS, FRACTAL, FTP, FTS, G3, G4, GIF, GIF87, GRADIENT, GRAY, GRAYA, GROUP4, GV, H, HALD, HDR, HISTOGRAM, HRZ, HTM, HTML, HTTP, HTTPS, ICB, ICO, ICON, IIQ, INFO, INLINE, IPL, ISOBRL, ISOBRL6, JBG, JBIG, JNG, JNX, JPE, JPEG, JPG, JPS, JSON, K25, KDC, LABEL, M2V, M4V, MAC, MAGICK, MAP, MASK, MAT, MATTE, MEF, MIFF, MKV, MNG, MONO, MOV, MP4, MPC, MPEG, MPG, MRW, MSL, MSVG, MTV, MVG, NEF, NRW, NULL, ORF, OTB, OTF, PAL, PALM, PAM, PANGO, PATTERN, PBM, PCD, PCDS, PCL, PCT, PCX, PDB, PDF, PDFA, PEF, PES, PFA, PFB, PFM, PGM, PGX, PICON, PICT, PIX, PJPEG, PLASMA, PNG, PNG00, PNG24, PNG32, PNG48, PNG64, PNG8, PNM, PPM, PREVIEW, PS, PS2, PS3, PSB, PSD, PTIF, PWP, RADIAL-GRADIENT, RAF, RAS, RAW, RGB, RGBA, RGBO, RGF, RLA, RLE, RMF, RW2, SCR, SCT, SFW, SGI, SHTML, SIX, SIXEL, SPARSE-COLOR, SR2, SRF, STEGANO, SUN, SVG, SVGZ, TEXT, TGA, THUMBNAIL, TIFF, TIFF64, TILE, TIM, TTC, TTF, TXT, UBRL, UBRL6, UIL, UYVY, VDA, VICAR, VID, VIFF, VIPS, VST, WBMP, WEBP, WMF, WMV, WMZ, WPG, X, X3F, XBM, XC, XCF, XPM, XPS, XV, XWD, YCbCr, YCbCrA, YUV </td></tr>\\n</table>\\n<table>\\n<tr class=\"h\"><th>Directive</th><th>Local Value</th><th>Master Value</th></tr>\\n<tr><td class=\"e\">imagick.allow_zero_dimension_images</td><td class=\"v\">0</td><td class=\"v\">0</td></tr>\\n<tr><td class=\"e\">imagick.locale_fix</td><td class=\"v\">0</td><td class=\"v\">0</td></tr>\\n<tr><td class=\"e\">imagick.progress_monitor</td><td class=\"v\">0</td><td class=\"v\">0</td></tr>\\n<tr><td class=\"e\">imagick.set_single_thread</td><td class=\"v\">1</td><td class=\"v\">1</td></tr>\\n<tr><td class=\"e\">imagick.shutdown_sleep_count</td><td class=\"v\">10</td><td class=\"v\">10</td></tr>\\n<tr><td class=\"e\">imagick.skip_version_check</td><td class=\"v\">0</td><td class=\"v\">0</td></tr>\\n</table>\\n<h2><a name=\"module_imap\">imap</a></h2>\\n<table>\\n<tr><td class=\"e\">IMAP c-Client Version </td><td class=\"v\">2007f </td></tr>\\n<tr><td class=\"e\">SSL Support </td><td class=\"v\">enabled </td></tr>\\n<tr><td class=\"e\">Kerberos Support </td><td class=\"v\">enabled </td></tr>\\n</table>\\n<table>\\n<tr class=\"h\"><th>Directive</th><th>Local Value</th><th>Master Value</th></tr>\\n<tr><td class=\"e\">imap.enable_insecure_rsh</td><td class=\"v\">Off</td><td class=\"v\">Off</td></tr>\\n</table>\\n<h2><a name=\"module_intl\">intl</a></h2>\\n<table>\\n<tr class=\"h\"><th>Internationalization support</th><th>enabled</th></tr>\\n<tr><td class=\"e\">ICU version </td><td class=\"v\">66.1 </td></tr>\\n<tr><td class=\"e\">ICU Data version </td><td class=\"v\">66.1 </td></tr>\\n<tr><td class=\"e\">ICU TZData version </td><td class=\"v\">2024a </td></tr>\\n<tr><td class=\"e\">ICU Unicode version </td><td class=\"v\">13.0 </td></tr>\\n</table>\\n<table>\\n<tr class=\"h\"><th>Directive</th><th>Local Value</th><th>Master Value</th></tr>\\n<tr><td class=\"e\">intl.default_locale</td><td class=\"v\"><i>no value</i></td><td class=\"v\"><i>no value</i></td></tr>\\n<tr><td class=\"e\">intl.error_level</td><td class=\"v\">0</td><td class=\"v\">0</td></tr>\\n<tr><td class=\"e\">intl.use_exceptions</td><td class=\"v\">0</td><td class=\"v\">0</td></tr>\\n</table>\\n<h2><a name=\"module_ioncube+loader\">ionCube Loader</a></h2>\\n<style type=\"text/css\">.ioncube {\\npadding:10px;\\n}\\n\\n.icshadow {\\n-webkit-box-shadow: 5px 5px 5px #999;\\n-moz-box-shadow: 5px 5px 5px #999;\\nbox-shadow: 5px 5px 5px #999;\\nmargin-bottom: 10px;\\n}\\n\\n.ioncube a {\\ncolor:blue!important;\\ntext-decoration:underline!important;\\nbackground-color:transparent!important;\\n}\\n\\n.ioncube span {\\nmargin-bottom: 10px;\\ndisplay:inline-block;\\n}\\n\\n.iclogos {\\nfloat: right;\\nborder: 1px solid #bbb;\\nborder-radius: 10px;\\nbackground:#f0f0f0;\\npadding: 10px;\\nposition:relative;\\nheight:47px;\\nwidth:47px;\\n}\\n\\n.iclogos img {\\nposition:absolute;\\nleft:10px;\\n}\\n@keyframes icKF {\\n0% {opacity:0;}\\n45% {opacity:0;}\\n55% {opacity:1;}\\n100% {opacity:1;}\\n}\\n\\n@-webkit-keyframes icKF {\\n0% {opacity:0;}\\n45% {opacity:0;}\\n55% {opacity:1;}\\n100% {opacity:1;}\\n}\\n\\n.iclogos img.top {\\nanimation-name: icKF;\\nanimation-timing-function: ease-in-out;\\nanimation-iteration-count: infinite;\\nanimation-duration: 6s;\\nanimation-direction: alternate;\\n-webkit-animation-name: icKF;\\n-webkit-animation-timing-function: ease-in-out;\\n-webkit-animation-iteration-count: infinite;\\n-webkit-animation-duration: 6s;\\n-webkit-animation-direction: alternate;\\n}\\n</style><table>\\n<tr class=\"v\"><td>\\n<div class=\"ioncube\">\\n<div class=\"iclogos icshadow\">\\n\\n<img class=\"logo bottom\" src=\"data:image/png;base64,iVBORw0KGgoAAAANSUhEUgAAAC8AAAAvAQMAAABJ6QHvAAAABlBMVEUAAADnHCzdZU5UAAAAAXRSTlMAQObYZgAAAB1JREFUGNNj+A8C//BSKAAmSH/qA8R2TAqqZGApABzlAKl/WOJXAAAAAElFTkSuQmCC\" alt=\"ionCube logo\">\\n\\n<img class=\"logo top\" src=\"data:image/png;base64,iVBORw0KGgoAAAANSUhEUgAAAC8AAAAvCAMAAABE+WOeAAAAbFBMVEXAHS4Sc7j///8AAAC/HS8Lb7YAV6oQcrgIbbUAWqsARqEFa7QAZ7IAZLEAXa0dersAYa8AQJ8ALJR7stgAVKm/HS7w9/sAZbIAT6aXwuBEkcgAOpy62Ouu0OaaxOGOvN1cn89OlsoxhsIANZn5xp2bAAAA/UlEQVRIx+3Ty26DQAyF4cxpxp47EAiQpPe+/ztWYiiCtEZC6ZJ/Z+nDCzCHp2U4LLufd7/7//XHeWecj4s278emfj+ult3PS30cPJuYbOr03JtYeha8Tm8AFJnJs7GvaLTkP1ATUJSTN2UBOCN4Dsk2Di/047lLqFBJXrHWwT23k/dNezlJ+3OxQp1Gr+0V7gbnZe+bC1zIniMh9jdUgSVvqEBInL0m1F/VCSfygje2QEFejd5iLArvkxSCs1Fnz4H63q3sDwVq9Xl9j9kr1sZEBxdY8C2G0uBzmkDi9y0tWWtLP/Psu3w/G+/z4fsXZqn1//cPvzrvfveP+W9a0A8QyZV5dwAAAABJRU5ErkJggg==\" alt=\"ionCube24 logo\">\\n\\n</div>\\n\\n<div class=\"icinfo\">\\n<span>ionCube Loader developed by ionCube Ltd.</span>\\n<br/>\\n<span>\\nVisit ioncube.com for <a href=\"https://www.ioncube.com/loaders.php\" target=\"loaders\">latest Loaders</a> and <a href=\"https://support.ioncube.com\" target=\"icsupport\">support</a>.\\n</span>\\n<br/>\\n<span>\\nThis Loader also includes features for real-time error reporting and malware protection.  Visit <a href=\"https://ioncube24.com\" target=\"ioncube24\">ioncube24.com</a> for more details.\\n</span>\\n</div>\\n</div>\\n\\n</td></tr>\\n</table>\\n<table>\\n<tr><td class=\"e\">Loader version </td><td class=\"v\">11.0.1 </td></tr>\\n<tr><td class=\"e\">ionCube24 features </td><td class=\"v\">unconfigured </td></tr>\\n</table>\\n<table>\\n<tr class=\"h\"><th>Directive</th><th>Local Value</th><th>Master Value</th></tr>\\n<tr><td class=\"e\">ic24.api.log_msg_errors</td><td class=\"v\">0</td><td class=\"v\">0</td></tr>\\n<tr><td class=\"e\">ic24.api.max_timeout</td><td class=\"v\">7</td><td class=\"v\">7</td></tr>\\n<tr><td class=\"e\">ic24.api_access_key</td><td class=\"v\">********</td><td class=\"v\">********</td></tr>\\n<tr><td class=\"e\">ic24.api_check_ip</td><td class=\"v\">1</td><td class=\"v\">1</td></tr>\\n<tr><td class=\"e\">ic24.enable</td><td class=\"v\">0</td><td class=\"v\">0</td></tr>\\n<tr><td class=\"e\">ic24.home_dir</td><td class=\"v\"><i>no value</i></td><td class=\"v\"><i>no value</i></td></tr>\\n<tr><td class=\"e\">ic24.phperr.enable</td><td class=\"v\">auto</td><td class=\"v\">auto</td></tr>\\n<tr><td class=\"e\">ic24.phperr.ignore</td><td class=\"v\">0</td><td class=\"v\">0</td></tr>\\n<tr><td class=\"e\">ic24.sec.block_stdin</td><td class=\"v\">1</td><td class=\"v\">1</td></tr>\\n<tr><td class=\"e\">ic24.sec.block_uploaded_files</td><td class=\"v\">1</td><td class=\"v\">1</td></tr>\\n<tr><td class=\"e\">ic24.sec.enable</td><td class=\"v\">auto</td><td class=\"v\">auto</td></tr>\\n<tr><td class=\"e\">ic24.sec.exclusion_key</td><td class=\"v\">********</td><td class=\"v\">********</td></tr>\\n<tr><td class=\"e\">ic24.sec.initial_action</td><td class=\"v\">block</td><td class=\"v\">block</td></tr>\\n<tr><td class=\"e\">ic24.sec.initial_cache_all</td><td class=\"v\">1</td><td class=\"v\">1</td></tr>\\n<tr><td class=\"e\">ic24.sec.initial_notify</td><td class=\"v\">always</td><td class=\"v\">always</td></tr>\\n<tr><td class=\"e\">ic24.sec.initial_state</td><td class=\"v\">1</td><td class=\"v\">1</td></tr>\\n<tr><td class=\"e\">ic24.sec.stop_on_error</td><td class=\"v\">1</td><td class=\"v\">1</td></tr>\\n<tr><td class=\"e\">ic24.sec.trusted_include_paths</td><td class=\"v\">********</td><td class=\"v\">********</td></tr>\\n<tr><td class=\"e\">ic24.slt</td><td class=\"v\">7</td><td class=\"v\">7</td></tr>\\n<tr><td class=\"e\">ic24.update_domains_retry_interval</td><td class=\"v\">30</td><td class=\"v\">30</td></tr>\\n<tr><td class=\"e\">ioncube.loader.encoded_paths</td><td class=\"v\"><i>no value</i></td><td class=\"v\"><i>no value</i></td></tr>\\n</table>\\n<h2><a name=\"module_json\">json</a></h2>\\n<table>\\n<tr><td class=\"e\">json support </td><td class=\"v\">enabled </td></tr>\\n</table>\\n<h2><a name=\"module_ldap\">ldap</a></h2>\\n<table>\\n<tr><td class=\"e\">LDAP Support </td><td class=\"v\">enabled </td></tr>\\n<tr><td class=\"e\">Total Links </td><td class=\"v\">0/unlimited </td></tr>\\n<tr><td class=\"e\">API Version </td><td class=\"v\">3001 </td></tr>\\n<tr><td class=\"e\">Vendor Name </td><td class=\"v\">OpenLDAP </td></tr>\\n<tr><td class=\"e\">Vendor Version </td><td class=\"v\">20449 </td></tr>\\n<tr><td class=\"e\">SASL Support </td><td class=\"v\">Enabled </td></tr>\\n</table>\\n<table>\\n<tr class=\"h\"><th>Directive</th><th>Local Value</th><th>Master Value</th></tr>\\n<tr><td class=\"e\">ldap.max_links</td><td class=\"v\">Unlimited</td><td class=\"v\">Unlimited</td></tr>\\n</table>\\n<h2><a name=\"module_libxml\">libxml</a></h2>\\n<table>\\n<tr><td class=\"e\">libXML support </td><td class=\"v\">active </td></tr>\\n<tr><td class=\"e\">libXML Compiled Version </td><td class=\"v\">2.9.10 </td></tr>\\n<tr><td class=\"e\">libXML Loaded Version </td><td class=\"v\">20910 </td></tr>\\n<tr><td class=\"e\">libXML streams </td><td class=\"v\">enabled </td></tr>\\n</table>\\n<h2><a name=\"module_mbstring\">mbstring</a></h2>\\n<table>\\n<tr><td class=\"e\">Multibyte Support </td><td class=\"v\">enabled </td></tr>\\n<tr><td class=\"e\">Multibyte string engine </td><td class=\"v\">libmbfl </td></tr>\\n<tr><td class=\"e\">HTTP input encoding translation </td><td class=\"v\">disabled </td></tr>\\n<tr><td class=\"e\">libmbfl version </td><td class=\"v\">1.3.2 </td></tr>\\n</table>\\n<table>\\n<tr class=\"h\"><th>mbstring extension makes use of \"streamable kanji code filter and converter\", which is distributed under the GNU Lesser General Public License version 2.1.</th></tr>\\n</table>\\n<table>\\n<tr><td class=\"e\">Multibyte (japanese) regex support </td><td class=\"v\">enabled </td></tr>\\n<tr><td class=\"e\">Multibyte regex (oniguruma) version </td><td class=\"v\">6.9.4 </td></tr>\\n</table>\\n<table>\\n<tr class=\"h\"><th>Directive</th><th>Local Value</th><th>Master Value</th></tr>\\n<tr><td class=\"e\">mbstring.detect_order</td><td class=\"v\"><i>no value</i></td><td class=\"v\"><i>no value</i></td></tr>\\n<tr><td class=\"e\">mbstring.encoding_translation</td><td class=\"v\">Off</td><td class=\"v\">Off</td></tr>\\n<tr><td class=\"e\">mbstring.func_overload</td><td class=\"v\">0</td><td class=\"v\">0</td></tr>\\n<tr><td class=\"e\">mbstring.http_input</td><td class=\"v\"><i>no value</i></td><td class=\"v\"><i>no value</i></td></tr>\\n<tr><td class=\"e\">mbstring.http_output</td><td class=\"v\"><i>no value</i></td><td class=\"v\"><i>no value</i></td></tr>\\n<tr><td class=\"e\">mbstring.http_output_conv_mimetypes</td><td class=\"v\">^(text/|application/xhtml\\\\+xml)</td><td class=\"v\">^(text/|application/xhtml\\\\+xml)</td></tr>\\n<tr><td class=\"e\">mbstring.internal_encoding</td><td class=\"v\"><i>no value</i></td><td class=\"v\"><i>no value</i></td></tr>\\n<tr><td class=\"e\">mbstring.language</td><td class=\"v\">neutral</td><td class=\"v\">neutral</td></tr>\\n<tr><td class=\"e\">mbstring.regex_retry_limit</td><td class=\"v\">1000000</td><td class=\"v\">1000000</td></tr>\\n<tr><td class=\"e\">mbstring.regex_stack_limit</td><td class=\"v\">100000</td><td class=\"v\">100000</td></tr>\\n<tr><td class=\"e\">mbstring.strict_detection</td><td class=\"v\">Off</td><td class=\"v\">Off</td></tr>\\n<tr><td class=\"e\">mbstring.substitute_character</td><td class=\"v\"><i>no value</i></td><td class=\"v\"><i>no value</i></td></tr>\\n</table>\\n<h2><a name=\"module_mysqli\">mysqli</a></h2>\\n<table>\\n<tr class=\"h\"><th>MysqlI Support</th><th>enabled</th></tr>\\n<tr><td class=\"e\">Client API library version </td><td class=\"v\">mysqlnd 7.4.33 </td></tr>\\n<tr><td class=\"e\">Active Persistent Links </td><td class=\"v\">0 </td></tr>\\n<tr><td class=\"e\">Inactive Persistent Links </td><td class=\"v\">0 </td></tr>\\n<tr><td class=\"e\">Active Links </td><td class=\"v\">0 </td></tr>\\n</table>\\n<table>\\n<tr class=\"h\"><th>Directive</th><th>Local Value</th><th>Master Value</th></tr>\\n<tr><td class=\"e\">mysqli.allow_local_infile</td><td class=\"v\">Off</td><td class=\"v\">Off</td></tr>\\n<tr><td class=\"e\">mysqli.allow_persistent</td><td class=\"v\">On</td><td class=\"v\">On</td></tr>\\n<tr><td class=\"e\">mysqli.default_host</td><td class=\"v\"><i>no value</i></td><td class=\"v\"><i>no value</i></td></tr>\\n<tr><td class=\"e\">mysqli.default_port</td><td class=\"v\">3306</td><td class=\"v\">3306</td></tr>\\n<tr><td class=\"e\">mysqli.default_pw</td><td class=\"v\"><i>no value</i></td><td class=\"v\"><i>no value</i></td></tr>\\n<tr><td class=\"e\">mysqli.default_socket</td><td class=\"v\">/var/run/mysqld/mysqld.sock</td><td class=\"v\">/var/run/mysqld/mysqld.sock</td></tr>\\n<tr><td class=\"e\">mysqli.default_user</td><td class=\"v\"><i>no value</i></td><td class=\"v\"><i>no value</i></td></tr>\\n<tr><td class=\"e\">mysqli.max_links</td><td class=\"v\">Unlimited</td><td class=\"v\">Unlimited</td></tr>\\n<tr><td class=\"e\">mysqli.max_persistent</td><td class=\"v\">Unlimited</td><td class=\"v\">Unlimited</td></tr>\\n<tr><td class=\"e\">mysqli.reconnect</td><td class=\"v\">Off</td><td class=\"v\">Off</td></tr>\\n<tr><td class=\"e\">mysqli.rollback_on_cached_plink</td><td class=\"v\">Off</td><td class=\"v\">Off</td></tr>\\n</table>\\n<h2><a name=\"module_mysqlnd\">mysqlnd</a></h2>\\n<table>\\n<tr class=\"h\"><th>mysqlnd</th><th>enabled</th></tr>\\n<tr><td class=\"e\">Version </td><td class=\"v\">mysqlnd 7.4.33 </td></tr>\\n<tr><td class=\"e\">Compression </td><td class=\"v\">supported </td></tr>\\n<tr><td class=\"e\">core SSL </td><td class=\"v\">supported </td></tr>\\n<tr><td class=\"e\">extended SSL </td><td class=\"v\">supported </td></tr>\\n<tr><td class=\"e\">Command buffer size </td><td class=\"v\">4096 </td></tr>\\n<tr><td class=\"e\">Read buffer size </td><td class=\"v\">32768 </td></tr>\\n<tr><td class=\"e\">Read timeout </td><td class=\"v\">86400 </td></tr>\\n<tr><td class=\"e\">Collecting statistics </td><td class=\"v\">Yes </td></tr>\\n<tr><td class=\"e\">Collecting memory statistics </td><td class=\"v\">No </td></tr>\\n<tr><td class=\"e\">Tracing </td><td class=\"v\">n/a </td></tr>\\n<tr><td class=\"e\">Loaded plugins </td><td class=\"v\">mysqlnd,debug_trace,auth_plugin_mysql_native_password,auth_plugin_mysql_clear_password,auth_plugin_caching_sha2_password,auth_plugin_sha256_password </td></tr>\\n<tr><td class=\"e\">API Extensions </td><td class=\"v\">mysqli,pdo_mysql </td></tr>\\n</table>\\n<h2><a name=\"module_odbc\">odbc</a></h2>\\n<table>\\n<tr class=\"h\"><th>ODBC Support</th><th>enabled</th></tr>\\n<tr><td class=\"e\">Active Persistent Links </td><td class=\"v\">0 </td></tr>\\n<tr><td class=\"e\">Active Links </td><td class=\"v\">0 </td></tr>\\n<tr><td class=\"e\">ODBC library </td><td class=\"v\">unixODBC </td></tr>\\n<tr><td class=\"e\">ODBCVER </td><td class=\"v\">0x0380 </td></tr>\\n<tr><td class=\"e\">ODBC_CFLAGS </td><td class=\"v\">-I/usr/include </td></tr>\\n<tr><td class=\"e\">ODBC_LFLAGS </td><td class=\"v\">-L/usr/lib </td></tr>\\n<tr><td class=\"e\">ODBC_LIBS </td><td class=\"v\">-lodbc </td></tr>\\n</table>\\n<table>\\n<tr class=\"h\"><th>Directive</th><th>Local Value</th><th>Master Value</th></tr>\\n<tr><td class=\"e\">odbc.allow_persistent</td><td class=\"v\">On</td><td class=\"v\">On</td></tr>\\n<tr><td class=\"e\">odbc.check_persistent</td><td class=\"v\">On</td><td class=\"v\">On</td></tr>\\n<tr><td class=\"e\">odbc.default_cursortype</td><td class=\"v\">Static cursor</td><td class=\"v\">Static cursor</td></tr>\\n<tr><td class=\"e\">odbc.default_db</td><td class=\"v\"><i>no value</i></td><td class=\"v\"><i>no value</i></td></tr>\\n<tr><td class=\"e\">odbc.default_pw</td><td class=\"v\"><i>no value</i></td><td class=\"v\"><i>no value</i></td></tr>\\n<tr><td class=\"e\">odbc.default_user</td><td class=\"v\"><i>no value</i></td><td class=\"v\"><i>no value</i></td></tr>\\n<tr><td class=\"e\">odbc.defaultbinmode</td><td class=\"v\">return as is</td><td class=\"v\">return as is</td></tr>\\n<tr><td class=\"e\">odbc.defaultlrl</td><td class=\"v\">return up to 4096 bytes</td><td class=\"v\">return up to 4096 bytes</td></tr>\\n<tr><td class=\"e\">odbc.max_links</td><td class=\"v\">Unlimited</td><td class=\"v\">Unlimited</td></tr>\\n<tr><td class=\"e\">odbc.max_persistent</td><td class=\"v\">Unlimited</td><td class=\"v\">Unlimited</td></tr>\\n</table>\\n<h2><a name=\"module_openssl\">openssl</a></h2>\\n<table>\\n<tr><td class=\"e\">OpenSSL support </td><td class=\"v\">enabled </td></tr>\\n<tr><td class=\"e\">OpenSSL Library Version </td><td class=\"v\">OpenSSL 1.1.1f  31 Mar 2020 </td></tr>\\n<tr><td class=\"e\">OpenSSL Header Version </td><td class=\"v\">OpenSSL 1.1.1f  31 Mar 2020 </td></tr>\\n<tr><td class=\"e\">Openssl default config </td><td class=\"v\">/usr/lib/ssl/openssl.cnf </td></tr>\\n</table>\\n<table>\\n<tr class=\"h\"><th>Directive</th><th>Local Value</th><th>Master Value</th></tr>\\n<tr><td class=\"e\">openssl.cafile</td><td class=\"v\"><i>no value</i></td><td class=\"v\"><i>no value</i></td></tr>\\n<tr><td class=\"e\">openssl.capath</td><td class=\"v\"><i>no value</i></td><td class=\"v\"><i>no value</i></td></tr>\\n</table>\\n<h2><a name=\"module_pcre\">pcre</a></h2>\\n<table>\\n<tr><td class=\"e\">PCRE (Perl Compatible Regular Expressions) Support </td><td class=\"v\">enabled </td></tr>\\n<tr><td class=\"e\">PCRE Library Version </td><td class=\"v\">10.35 2020-05-09 </td></tr>\\n<tr><td class=\"e\">PCRE Unicode Version </td><td class=\"v\">13.0.0 </td></tr>\\n<tr><td class=\"e\">PCRE JIT Support </td><td class=\"v\">enabled </td></tr>\\n<tr><td class=\"e\">PCRE JIT Target </td><td class=\"v\">x86 64bit (little endian + unaligned) </td></tr>\\n</table>\\n<table>\\n<tr class=\"h\"><th>Directive</th><th>Local Value</th><th>Master Value</th></tr>\\n<tr><td class=\"e\">pcre.backtrack_limit</td><td class=\"v\">1000000</td><td class=\"v\">1000000</td></tr>\\n<tr><td class=\"e\">pcre.jit</td><td class=\"v\">1</td><td class=\"v\">1</td></tr>\\n<tr><td class=\"e\">pcre.recursion_limit</td><td class=\"v\">100000</td><td class=\"v\">100000</td></tr>\\n</table>\\n<h2><a name=\"module_pdo\">PDO</a></h2>\\n<table>\\n<tr class=\"h\"><th>PDO support</th><th>enabled</th></tr>\\n<tr><td class=\"e\">PDO drivers </td><td class=\"v\">mysql, odbc, pgsql, sqlite </td></tr>\\n</table>\\n<h2><a name=\"module_pdo_mysql\">pdo_mysql</a></h2>\\n<table>\\n<tr class=\"h\"><th>PDO Driver for MySQL</th><th>enabled</th></tr>\\n<tr><td class=\"e\">Client API version </td><td class=\"v\">mysqlnd 7.4.33 </td></tr>\\n</table>\\n<table>\\n<tr class=\"h\"><th>Directive</th><th>Local Value</th><th>Master Value</th></tr>\\n<tr><td class=\"e\">pdo_mysql.default_socket</td><td class=\"v\">/var/run/mysqld/mysqld.sock</td><td class=\"v\">/var/run/mysqld/mysqld.sock</td></tr>\\n</table>\\n<h2><a name=\"module_pdo_odbc\">PDO_ODBC</a></h2>\\n<table>\\n<tr class=\"h\"><th>PDO Driver for ODBC (unixODBC)</th><th>enabled</th></tr>\\n<tr><td class=\"e\">ODBC Connection Pooling </td><td class=\"v\">Enabled, strict matching </td></tr>\\n</table>\\n<h2><a name=\"module_pdo_pgsql\">pdo_pgsql</a></h2>\\n<table>\\n<tr><td class=\"e\">PDO Driver for PostgreSQL </td><td class=\"v\">enabled </td></tr>\\n<tr><td class=\"e\">PostgreSQL(libpq) Version </td><td class=\"v\">12.12 (Ubuntu 12.12-0ubuntu0.20.04.1) </td></tr>\\n</table>\\n<h2><a name=\"module_pdo_sqlite\">pdo_sqlite</a></h2>\\n<table>\\n<tr class=\"h\"><th>PDO Driver for SQLite 3.x</th><th>enabled</th></tr>\\n<tr><td class=\"e\">SQLite Library </td><td class=\"v\">3.31.1 </td></tr>\\n</table>\\n<h2><a name=\"module_pgsql\">pgsql</a></h2>\\n<table>\\n<tr class=\"h\"><th>PostgreSQL Support</th><th>enabled</th></tr>\\n<tr><td class=\"e\">PostgreSQL(libpq) Version </td><td class=\"v\">12.12 (Ubuntu 12.12-0ubuntu0.20.04.1) </td></tr>\\n<tr><td class=\"e\">PostgreSQL(libpq)  </td><td class=\"v\">PostgreSQL 12.12 (Ubuntu 12.12-0ubuntu0.20.04.1) on x86_64-pc-linux-gnu, compiled by gcc (Ubuntu 9.4.0-1ubuntu1~20.04.1) 9.4.0, 64-bit </td></tr>\\n<tr><td class=\"e\">Multibyte character support </td><td class=\"v\">enabled </td></tr>\\n<tr><td class=\"e\">SSL support </td><td class=\"v\">enabled </td></tr>\\n<tr><td class=\"e\">Active Persistent Links </td><td class=\"v\">0 </td></tr>\\n<tr><td class=\"e\">Active Links </td><td class=\"v\">0 </td></tr>\\n</table>\\n<table>\\n<tr class=\"h\"><th>Directive</th><th>Local Value</th><th>Master Value</th></tr>\\n<tr><td class=\"e\">pgsql.allow_persistent</td><td class=\"v\">On</td><td class=\"v\">On</td></tr>\\n<tr><td class=\"e\">pgsql.auto_reset_persistent</td><td class=\"v\">Off</td><td class=\"v\">Off</td></tr>\\n<tr><td class=\"e\">pgsql.ignore_notice</td><td class=\"v\">Off</td><td class=\"v\">Off</td></tr>\\n<tr><td class=\"e\">pgsql.log_notice</td><td class=\"v\">Off</td><td class=\"v\">Off</td></tr>\\n<tr><td class=\"e\">pgsql.max_links</td><td class=\"v\">Unlimited</td><td class=\"v\">Unlimited</td></tr>\\n<tr><td class=\"e\">pgsql.max_persistent</td><td class=\"v\">Unlimited</td><td class=\"v\">Unlimited</td></tr>\\n</table>\\n<h2><a name=\"module_phar\">Phar</a></h2>\\n<table>\\n<tr class=\"h\"><th>Phar: PHP Archive support</th><th>enabled</th></tr>\\n<tr><td class=\"e\">Phar API version </td><td class=\"v\">1.1.1 </td></tr>\\n<tr><td class=\"e\">Phar-based phar archives </td><td class=\"v\">enabled </td></tr>\\n<tr><td class=\"e\">Tar-based phar archives </td><td class=\"v\">enabled </td></tr>\\n<tr><td class=\"e\">ZIP-based phar archives </td><td class=\"v\">enabled </td></tr>\\n<tr><td class=\"e\">gzip compression </td><td class=\"v\">enabled </td></tr>\\n<tr><td class=\"e\">bzip2 compression </td><td class=\"v\">enabled </td></tr>\\n<tr><td class=\"e\">Native OpenSSL support </td><td class=\"v\">enabled </td></tr>\\n</table>\\n<table>\\n<tr class=\"v\"><td>\\nPhar based on pear/PHP_Archive, original concept by Davey Shafik.<br />Phar fully realized by Gregory Beaver and Marcus Boerger.<br />Portions of tar implementation Copyright (c) 2003-2009 Tim Kientzle.</td></tr>\\n</table>\\n<table>\\n<tr class=\"h\"><th>Directive</th><th>Local Value</th><th>Master Value</th></tr>\\n<tr><td class=\"e\">phar.cache_list</td><td class=\"v\"><i>no value</i></td><td class=\"v\"><i>no value</i></td></tr>\\n<tr><td class=\"e\">phar.readonly</td><td class=\"v\">On</td><td class=\"v\">On</td></tr>\\n<tr><td class=\"e\">phar.require_hash</td><td class=\"v\">On</td><td class=\"v\">On</td></tr>\\n</table>\\n<h2><a name=\"module_posix\">posix</a></h2>\\n<table>\\n<tr><td class=\"e\">POSIX support </td><td class=\"v\">enabled </td></tr>\\n</table>\\n<h2><a name=\"module_pspell\">pspell</a></h2>\\n<table>\\n<tr><td class=\"e\">PSpell Support </td><td class=\"v\">enabled </td></tr>\\n</table>\\n<h2><a name=\"module_redis\">redis</a></h2>\\n<table>\\n<tr class=\"h\"><th>Redis Support</th><th>enabled</th></tr>\\n<tr><td class=\"e\">Redis Version </td><td class=\"v\">5.3.7 </td></tr>\\n<tr><td class=\"e\">Redis Sentinel Version </td><td class=\"v\">0.1 </td></tr>\\n<tr><td class=\"e\">Available serializers </td><td class=\"v\">php, json </td></tr>\\n</table>\\n<table>\\n<tr class=\"h\"><th>Directive</th><th>Local Value</th><th>Master Value</th></tr>\\n<tr><td class=\"e\">redis.arrays.algorithm</td><td class=\"v\"><i>no value</i></td><td class=\"v\"><i>no value</i></td></tr>\\n<tr><td class=\"e\">redis.arrays.auth</td><td class=\"v\"><i>no value</i></td><td class=\"v\"><i>no value</i></td></tr>\\n<tr><td class=\"e\">redis.arrays.autorehash</td><td class=\"v\">0</td><td class=\"v\">0</td></tr>\\n<tr><td class=\"e\">redis.arrays.connecttimeout</td><td class=\"v\">0</td><td class=\"v\">0</td></tr>\\n<tr><td class=\"e\">redis.arrays.consistent</td><td class=\"v\">0</td><td class=\"v\">0</td></tr>\\n<tr><td class=\"e\">redis.arrays.distributor</td><td class=\"v\"><i>no value</i></td><td class=\"v\"><i>no value</i></td></tr>\\n<tr><td class=\"e\">redis.arrays.functions</td><td class=\"v\"><i>no value</i></td><td class=\"v\"><i>no value</i></td></tr>\\n<tr><td class=\"e\">redis.arrays.hosts</td><td class=\"v\"><i>no value</i></td><td class=\"v\"><i>no value</i></td></tr>\\n<tr><td class=\"e\">redis.arrays.index</td><td class=\"v\">0</td><td class=\"v\">0</td></tr>\\n<tr><td class=\"e\">redis.arrays.lazyconnect</td><td class=\"v\">0</td><td class=\"v\">0</td></tr>\\n<tr><td class=\"e\">redis.arrays.names</td><td class=\"v\"><i>no value</i></td><td class=\"v\"><i>no value</i></td></tr>\\n<tr><td class=\"e\">redis.arrays.pconnect</td><td class=\"v\">0</td><td class=\"v\">0</td></tr>\\n<tr><td class=\"e\">redis.arrays.previous</td><td class=\"v\"><i>no value</i></td><td class=\"v\"><i>no value</i></td></tr>\\n<tr><td class=\"e\">redis.arrays.readtimeout</td><td class=\"v\">0</td><td class=\"v\">0</td></tr>\\n<tr><td class=\"e\">redis.arrays.retryinterval</td><td class=\"v\">0</td><td class=\"v\">0</td></tr>\\n<tr><td class=\"e\">redis.clusters.auth</td><td class=\"v\"><i>no value</i></td><td class=\"v\"><i>no value</i></td></tr>\\n<tr><td class=\"e\">redis.clusters.cache_slots</td><td class=\"v\">0</td><td class=\"v\">0</td></tr>\\n<tr><td class=\"e\">redis.clusters.persistent</td><td class=\"v\">0</td><td class=\"v\">0</td></tr>\\n<tr><td class=\"e\">redis.clusters.read_timeout</td><td class=\"v\">0</td><td class=\"v\">0</td></tr>\\n<tr><td class=\"e\">redis.clusters.seeds</td><td class=\"v\"><i>no value</i></td><td class=\"v\"><i>no value</i></td></tr>\\n<tr><td class=\"e\">redis.clusters.timeout</td><td class=\"v\">0</td><td class=\"v\">0</td></tr>\\n<tr><td class=\"e\">redis.pconnect.connection_limit</td><td class=\"v\">0</td><td class=\"v\">0</td></tr>\\n<tr><td class=\"e\">redis.pconnect.echo_check_liveness</td><td class=\"v\">1</td><td class=\"v\">1</td></tr>\\n<tr><td class=\"e\">redis.pconnect.pool_detect_dirty</td><td class=\"v\">0</td><td class=\"v\">0</td></tr>\\n<tr><td class=\"e\">redis.pconnect.pool_pattern</td><td class=\"v\"><i>no value</i></td><td class=\"v\"><i>no value</i></td></tr>\\n<tr><td class=\"e\">redis.pconnect.pool_poll_timeout</td><td class=\"v\">0</td><td class=\"v\">0</td></tr>\\n<tr><td class=\"e\">redis.pconnect.pooling_enabled</td><td class=\"v\">1</td><td class=\"v\">1</td></tr>\\n<tr><td class=\"e\">redis.session.lock_expire</td><td class=\"v\">0</td><td class=\"v\">0</td></tr>\\n<tr><td class=\"e\">redis.session.lock_retries</td><td class=\"v\">10</td><td class=\"v\">10</td></tr>\\n<tr><td class=\"e\">redis.session.lock_wait_time</td><td class=\"v\">2000</td><td class=\"v\">2000</td></tr>\\n<tr><td class=\"e\">redis.session.locking_enabled</td><td class=\"v\">0</td><td class=\"v\">0</td></tr>\\n</table>\\n<h2><a name=\"module_reflection\">Reflection</a></h2>\\n<table>\\n<tr><td class=\"e\">Reflection </td><td class=\"v\">enabled </td></tr>\\n</table>\\n<h2><a name=\"module_session\">session</a></h2>\\n<table>\\n<tr><td class=\"e\">Session Support </td><td class=\"v\">enabled </td></tr>\\n<tr><td class=\"e\">Registered save handlers </td><td class=\"v\">files user redis rediscluster  </td></tr>\\n<tr><td class=\"e\">Registered serializer handlers </td><td class=\"v\">php_serialize php php_binary  </td></tr>\\n</table>\\n<table>\\n<tr class=\"h\"><th>Directive</th><th>Local Value</th><th>Master Value</th></tr>\\n<tr><td class=\"e\">session.auto_start</td><td class=\"v\">Off</td><td class=\"v\">Off</td></tr>\\n<tr><td class=\"e\">session.cache_expire</td><td class=\"v\">180</td><td class=\"v\">180</td></tr>\\n<tr><td class=\"e\">session.cache_limiter</td><td class=\"v\">nocache</td><td class=\"v\">nocache</td></tr>\\n<tr><td class=\"e\">session.cookie_domain</td><td class=\"v\"><i>no value</i></td><td class=\"v\"><i>no value</i></td></tr>\\n<tr><td class=\"e\">session.cookie_httponly</td><td class=\"v\"><i>no value</i></td><td class=\"v\"><i>no value</i></td></tr>\\n<tr><td class=\"e\">session.cookie_lifetime</td><td class=\"v\">0</td><td class=\"v\">0</td></tr>\\n<tr><td class=\"e\">session.cookie_path</td><td class=\"v\">/</td><td class=\"v\">/</td></tr>\\n<tr><td class=\"e\">session.cookie_samesite</td><td class=\"v\"><i>no value</i></td><td class=\"v\"><i>no value</i></td></tr>\\n<tr><td class=\"e\">session.cookie_secure</td><td class=\"v\">0</td><td class=\"v\">0</td></tr>\\n<tr><td class=\"e\">session.gc_divisor</td><td class=\"v\">1000</td><td class=\"v\">1000</td></tr>\\n<tr><td class=\"e\">session.gc_maxlifetime</td><td class=\"v\">1440</td><td class=\"v\">1440</td></tr>\\n<tr><td class=\"e\">session.gc_probability</td><td class=\"v\">0</td><td class=\"v\">0</td></tr>\\n<tr><td class=\"e\">session.lazy_write</td><td class=\"v\">On</td><td class=\"v\">On</td></tr>\\n<tr><td class=\"e\">session.name</td><td class=\"v\">PHPSESSID</td><td class=\"v\">PHPSESSID</td></tr>\\n<tr><td class=\"e\">session.referer_check</td><td class=\"v\"><i>no value</i></td><td class=\"v\"><i>no value</i></td></tr>\\n<tr><td class=\"e\">session.save_handler</td><td class=\"v\">files</td><td class=\"v\">files</td></tr>\\n<tr><td class=\"e\">session.save_path</td><td class=\"v\">/var/lib/php/sessions</td><td class=\"v\">/var/lib/php/sessions</td></tr>\\n<tr><td class=\"e\">session.serialize_handler</td><td class=\"v\">php</td><td class=\"v\">php</td></tr>\\n<tr><td class=\"e\">session.sid_bits_per_character</td><td class=\"v\">5</td><td class=\"v\">5</td></tr>\\n<tr><td class=\"e\">session.sid_length</td><td class=\"v\">26</td><td class=\"v\">26</td></tr>\\n<tr><td class=\"e\">session.upload_progress.cleanup</td><td class=\"v\">On</td><td class=\"v\">On</td></tr>\\n<tr><td class=\"e\">session.upload_progress.enabled</td><td class=\"v\">On</td><td class=\"v\">On</td></tr>\\n<tr><td class=\"e\">session.upload_progress.freq</td><td class=\"v\">1%</td><td class=\"v\">1%</td></tr>\\n<tr><td class=\"e\">session.upload_progress.min_freq</td><td class=\"v\">1</td><td class=\"v\">1</td></tr>\\n<tr><td class=\"e\">session.upload_progress.name</td><td class=\"v\">PHP_SESSION_UPLOAD_PROGRESS</td><td class=\"v\">PHP_SESSION_UPLOAD_PROGRESS</td></tr>\\n<tr><td class=\"e\">session.upload_progress.prefix</td><td class=\"v\">upload_progress_</td><td class=\"v\">upload_progress_</td></tr>\\n<tr><td class=\"e\">session.use_cookies</td><td class=\"v\">1</td><td class=\"v\">1</td></tr>\\n<tr><td class=\"e\">session.use_only_cookies</td><td class=\"v\">1</td><td class=\"v\">1</td></tr>\\n<tr><td class=\"e\">session.use_strict_mode</td><td class=\"v\">0</td><td class=\"v\">0</td></tr>\\n<tr><td class=\"e\">session.use_trans_sid</td><td class=\"v\">0</td><td class=\"v\">0</td></tr>\\n</table>\\n<h2><a name=\"module_simplexml\">SimpleXML</a></h2>\\n<table>\\n<tr><td class=\"e\">SimpleXML support </td><td class=\"v\">enabled </td></tr>\\n<tr><td class=\"e\">Schema support </td><td class=\"v\">enabled </td></tr>\\n</table>\\n<h2><a name=\"module_soap\">soap</a></h2>\\n<table>\\n<tr><td class=\"e\">Soap Client </td><td class=\"v\">enabled </td></tr>\\n<tr><td class=\"e\">Soap Server </td><td class=\"v\">enabled </td></tr>\\n</table>\\n<table>\\n<tr class=\"h\"><th>Directive</th><th>Local Value</th><th>Master Value</th></tr>\\n<tr><td class=\"e\">soap.wsdl_cache</td><td class=\"v\">1</td><td class=\"v\">1</td></tr>\\n<tr><td class=\"e\">soap.wsdl_cache_dir</td><td class=\"v\">/tmp</td><td class=\"v\">/tmp</td></tr>\\n<tr><td class=\"e\">soap.wsdl_cache_enabled</td><td class=\"v\">1</td><td class=\"v\">1</td></tr>\\n<tr><td class=\"e\">soap.wsdl_cache_limit</td><td class=\"v\">5</td><td class=\"v\">5</td></tr>\\n<tr><td class=\"e\">soap.wsdl_cache_ttl</td><td class=\"v\">86400</td><td class=\"v\">86400</td></tr>\\n</table>\\n<h2><a name=\"module_sockets\">sockets</a></h2>\\n<table>\\n<tr><td class=\"e\">Sockets Support </td><td class=\"v\">enabled </td></tr>\\n</table>\\n<h2><a name=\"module_sodium\">sodium</a></h2>\\n<table>\\n<tr class=\"h\"><th>sodium support</th><th>enabled</th></tr>\\n<tr><td class=\"e\">libsodium headers version </td><td class=\"v\">1.0.18 </td></tr>\\n<tr><td class=\"e\">libsodium library version </td><td class=\"v\">1.0.18 </td></tr>\\n</table>\\n<h2><a name=\"module_spl\">SPL</a></h2>\\n<table>\\n<tr class=\"h\"><th>SPL support</th><th>enabled</th></tr>\\n<tr><td class=\"e\">Interfaces </td><td class=\"v\">OuterIterator, RecursiveIterator, SeekableIterator, SplObserver, SplSubject </td></tr>\\n<tr><td class=\"e\">Classes </td><td class=\"v\">AppendIterator, ArrayIterator, ArrayObject, BadFunctionCallException, BadMethodCallException, CachingIterator, CallbackFilterIterator, DirectoryIterator, DomainException, EmptyIterator, FilesystemIterator, FilterIterator, GlobIterator, InfiniteIterator, InvalidArgumentException, IteratorIterator, LengthException, LimitIterator, LogicException, MultipleIterator, NoRewindIterator, OutOfBoundsException, OutOfRangeException, OverflowException, ParentIterator, RangeException, RecursiveArrayIterator, RecursiveCachingIterator, RecursiveCallbackFilterIterator, RecursiveDirectoryIterator, RecursiveFilterIterator, RecursiveIteratorIterator, RecursiveRegexIterator, RecursiveTreeIterator, RegexIterator, RuntimeException, SplDoublyLinkedList, SplFileInfo, SplFileObject, SplFixedArray, SplHeap, SplMinHeap, SplMaxHeap, SplObjectStorage, SplPriorityQueue, SplQueue, SplStack, SplTempFileObject, UnderflowException, UnexpectedValueException </td></tr>\\n</table>\\n<h2><a name=\"module_sqlite3\">sqlite3</a></h2>\\n<table>\\n<tr class=\"h\"><th>SQLite3 support</th><th>enabled</th></tr>\\n<tr><td class=\"e\">SQLite Library </td><td class=\"v\">3.31.1 </td></tr>\\n</table>\\n<table>\\n<tr class=\"h\"><th>Directive</th><th>Local Value</th><th>Master Value</th></tr>\\n<tr><td class=\"e\">sqlite3.defensive</td><td class=\"v\">1</td><td class=\"v\">1</td></tr>\\n<tr><td class=\"e\">sqlite3.extension_dir</td><td class=\"v\"><i>no value</i></td><td class=\"v\"><i>no value</i></td></tr>\\n</table>\\n<h2><a name=\"module_standard\">standard</a></h2>\\n<table>\\n<tr><td class=\"e\">Dynamic Library Support </td><td class=\"v\">enabled </td></tr>\\n<tr><td class=\"e\">Path to sendmail </td><td class=\"v\">/usr/sbin/sendmail -t -i </td></tr>\\n</table>\\n<table>\\n<tr class=\"h\"><th>Directive</th><th>Local Value</th><th>Master Value</th></tr>\\n<tr><td class=\"e\">assert.active</td><td class=\"v\">1</td><td class=\"v\">1</td></tr>\\n<tr><td class=\"e\">assert.bail</td><td class=\"v\">0</td><td class=\"v\">0</td></tr>\\n<tr><td class=\"e\">assert.callback</td><td class=\"v\"><i>no value</i></td><td class=\"v\"><i>no value</i></td></tr>\\n<tr><td class=\"e\">assert.exception</td><td class=\"v\">0</td><td class=\"v\">0</td></tr>\\n<tr><td class=\"e\">assert.quiet_eval</td><td class=\"v\">0</td><td class=\"v\">0</td></tr>\\n<tr><td class=\"e\">assert.warning</td><td class=\"v\">1</td><td class=\"v\">1</td></tr>\\n<tr><td class=\"e\">auto_detect_line_endings</td><td class=\"v\">0</td><td class=\"v\">0</td></tr>\\n<tr><td class=\"e\">default_socket_timeout</td><td class=\"v\">60</td><td class=\"v\">60</td></tr>\\n<tr><td class=\"e\">from</td><td class=\"v\"><i>no value</i></td><td class=\"v\"><i>no value</i></td></tr>\\n<tr><td class=\"e\">session.trans_sid_hosts</td><td class=\"v\"><i>no value</i></td><td class=\"v\"><i>no value</i></td></tr>\\n<tr><td class=\"e\">session.trans_sid_tags</td><td class=\"v\">a=href,area=href,frame=src,form=</td><td class=\"v\">a=href,area=href,frame=src,form=</td></tr>\\n<tr><td class=\"e\">unserialize_max_depth</td><td class=\"v\">4096</td><td class=\"v\">4096</td></tr>\\n<tr><td class=\"e\">url_rewriter.hosts</td><td class=\"v\"><i>no value</i></td><td class=\"v\"><i>no value</i></td></tr>\\n<tr><td class=\"e\">url_rewriter.tags</td><td class=\"v\">form=</td><td class=\"v\">form=</td></tr>\\n<tr><td class=\"e\">user_agent</td><td class=\"v\"><i>no value</i></td><td class=\"v\"><i>no value</i></td></tr>\\n</table>\\n<h2><a name=\"module_sysvmsg\">sysvmsg</a></h2>\\n<table>\\n<tr><td class=\"e\">sysvmsg support </td><td class=\"v\">enabled </td></tr>\\n</table>\\n<h2><a name=\"module_sysvsem\">sysvsem</a></h2>\\n<table>\\n<tr><td class=\"e\">sysvsem support </td><td class=\"v\">enabled </td></tr>\\n</table>\\n<h2><a name=\"module_sysvshm\">sysvshm</a></h2>\\n<table>\\n<tr><td class=\"e\">sysvshm support </td><td class=\"v\">enabled </td></tr>\\n</table>\\n<h2><a name=\"module_tidy\">tidy</a></h2>\\n<table>\\n<tr><td class=\"e\">Tidy support </td><td class=\"v\">enabled </td></tr>\\n<tr><td class=\"e\">libTidy Version </td><td class=\"v\">5.6.0 </td></tr>\\n<tr><td class=\"e\">libTidy Release </td><td class=\"v\">2017/11/25 </td></tr>\\n</table>\\n<table>\\n<tr class=\"h\"><th>Directive</th><th>Local Value</th><th>Master Value</th></tr>\\n<tr><td class=\"e\">tidy.clean_output</td><td class=\"v\"><i>no value</i></td><td class=\"v\"><i>no value</i></td></tr>\\n<tr><td class=\"e\">tidy.default_config</td><td class=\"v\"><i>no value</i></td><td class=\"v\"><i>no value</i></td></tr>\\n</table>\\n<h2><a name=\"module_tokenizer\">tokenizer</a></h2>\\n<table>\\n<tr><td class=\"e\">Tokenizer Support </td><td class=\"v\">enabled </td></tr>\\n</table>\\n<h2><a name=\"module_xml\">xml</a></h2>\\n<table>\\n<tr><td class=\"e\">XML Support </td><td class=\"v\">active </td></tr>\\n<tr><td class=\"e\">XML Namespace Support </td><td class=\"v\">active </td></tr>\\n<tr><td class=\"e\">libxml2 Version </td><td class=\"v\">2.9.10 </td></tr>\\n</table>\\n<h2><a name=\"module_xmlreader\">xmlreader</a></h2>\\n<table>\\n<tr><td class=\"e\">XMLReader </td><td class=\"v\">enabled </td></tr>\\n</table>\\n<h2><a name=\"module_xmlrpc\">xmlrpc</a></h2>\\n<table>\\n<tr><td class=\"e\">core library version </td><td class=\"v\">xmlrpc-epi v. 0.51 </td></tr>\\n<tr><td class=\"e\">author </td><td class=\"v\">Dan Libby </td></tr>\\n<tr><td class=\"e\">homepage </td><td class=\"v\">http://xmlrpc-epi.sourceforge.net </td></tr>\\n<tr><td class=\"e\">open sourced by </td><td class=\"v\">Epinions.com </td></tr>\\n</table>\\n<h2><a name=\"module_xmlwriter\">xmlwriter</a></h2>\\n<table>\\n<tr><td class=\"e\">XMLWriter </td><td class=\"v\">enabled </td></tr>\\n</table>\\n<h2><a name=\"module_xsl\">xsl</a></h2>\\n<table>\\n<tr><td class=\"e\">XSL </td><td class=\"v\">enabled </td></tr>\\n<tr><td class=\"e\">libxslt Version </td><td class=\"v\">1.1.34 </td></tr>\\n<tr><td class=\"e\">libxslt compiled against libxml Version </td><td class=\"v\">2.9.10 </td></tr>\\n<tr><td class=\"e\">EXSLT </td><td class=\"v\">enabled </td></tr>\\n<tr><td class=\"e\">libexslt Version </td><td class=\"v\">1.1.34 </td></tr>\\n</table>\\n<h2><a name=\"module_zend+opcache\">Zend OPcache</a></h2>\\n<table>\\n<tr><td class=\"e\">Opcode Caching </td><td class=\"v\">Up and Running </td></tr>\\n<tr><td class=\"e\">Optimization </td><td class=\"v\">Enabled </td></tr>\\n<tr><td class=\"e\">SHM Cache </td><td class=\"v\">Enabled </td></tr>\\n<tr><td class=\"e\">File Cache </td><td class=\"v\">Disabled </td></tr>\\n<tr><td class=\"e\">Startup </td><td class=\"v\">OK </td></tr>\\n<tr><td class=\"e\">Shared memory model </td><td class=\"v\">mmap </td></tr>\\n<tr><td class=\"e\">Cache hits </td><td class=\"v\">580322332 </td></tr>\\n<tr><td class=\"e\">Cache misses </td><td class=\"v\">151425570 </td></tr>\\n<tr><td class=\"e\">Used memory </td><td class=\"v\">131224464 </td></tr>\\n<tr><td class=\"e\">Free memory </td><td class=\"v\">24808 </td></tr>\\n<tr><td class=\"e\">Wasted memory </td><td class=\"v\">2968456 </td></tr>\\n<tr><td class=\"e\">Interned Strings Used memory </td><td class=\"v\">6291008 </td></tr>\\n<tr><td class=\"e\">Interned Strings Free memory </td><td class=\"v\">0 </td></tr>\\n<tr><td class=\"e\">Cached scripts </td><td class=\"v\">3304 </td></tr>\\n<tr><td class=\"e\">Cached keys </td><td class=\"v\">3304 </td></tr>\\n<tr><td class=\"e\">Max keys </td><td class=\"v\">16229 </td></tr>\\n<tr><td class=\"e\">OOM restarts </td><td class=\"v\">1 </td></tr>\\n<tr><td class=\"e\">Hash keys restarts </td><td class=\"v\">0 </td></tr>\\n<tr><td class=\"e\">Manual restarts </td><td class=\"v\">2 </td></tr>\\n</table>\\n<table>\\n<tr class=\"h\"><th>Directive</th><th>Local Value</th><th>Master Value</th></tr>\\n<tr><td class=\"e\">opcache.blacklist_filename</td><td class=\"v\"><i>no value</i></td><td class=\"v\"><i>no value</i></td></tr>\\n<tr><td class=\"e\">opcache.consistency_checks</td><td class=\"v\">0</td><td class=\"v\">0</td></tr>\\n<tr><td class=\"e\">opcache.dups_fix</td><td class=\"v\">Off</td><td class=\"v\">Off</td></tr>\\n<tr><td class=\"e\">opcache.enable</td><td class=\"v\">On</td><td class=\"v\">On</td></tr>\\n<tr><td class=\"e\">opcache.enable_cli</td><td class=\"v\">Off</td><td class=\"v\">Off</td></tr>\\n<tr><td class=\"e\">opcache.enable_file_override</td><td class=\"v\">Off</td><td class=\"v\">Off</td></tr>\\n<tr><td class=\"e\">opcache.error_log</td><td class=\"v\"><i>no value</i></td><td class=\"v\"><i>no value</i></td></tr>\\n<tr><td class=\"e\">opcache.file_cache</td><td class=\"v\"><i>no value</i></td><td class=\"v\"><i>no value</i></td></tr>\\n<tr><td class=\"e\">opcache.file_cache_consistency_checks</td><td class=\"v\">On</td><td class=\"v\">On</td></tr>\\n<tr><td class=\"e\">opcache.file_cache_only</td><td class=\"v\">Off</td><td class=\"v\">Off</td></tr>\\n<tr><td class=\"e\">opcache.file_update_protection</td><td class=\"v\">2</td><td class=\"v\">2</td></tr>\\n<tr><td class=\"e\">opcache.force_restart_timeout</td><td class=\"v\">180</td><td class=\"v\">180</td></tr>\\n<tr><td class=\"e\">opcache.huge_code_pages</td><td class=\"v\">Off</td><td class=\"v\">Off</td></tr>\\n<tr><td class=\"e\">opcache.interned_strings_buffer</td><td class=\"v\">8</td><td class=\"v\">8</td></tr>\\n<tr><td class=\"e\">opcache.lockfile_path</td><td class=\"v\">/tmp</td><td class=\"v\">/tmp</td></tr>\\n<tr><td class=\"e\">opcache.log_verbosity_level</td><td class=\"v\">1</td><td class=\"v\">1</td></tr>\\n<tr><td class=\"e\">opcache.max_accelerated_files</td><td class=\"v\">10000</td><td class=\"v\">10000</td></tr>\\n<tr><td class=\"e\">opcache.max_file_size</td><td class=\"v\">0</td><td class=\"v\">0</td></tr>\\n<tr><td class=\"e\">opcache.max_wasted_percentage</td><td class=\"v\">5</td><td class=\"v\">5</td></tr>\\n<tr><td class=\"e\">opcache.memory_consumption</td><td class=\"v\">128</td><td class=\"v\">128</td></tr>\\n<tr><td class=\"e\">opcache.opt_debug_level</td><td class=\"v\">0</td><td class=\"v\">0</td></tr>\\n<tr><td class=\"e\">opcache.optimization_level</td><td class=\"v\">0x7FFEBFFF</td><td class=\"v\">0x7FFEBFFF</td></tr>\\n<tr><td class=\"e\">opcache.preferred_memory_model</td><td class=\"v\"><i>no value</i></td><td class=\"v\"><i>no value</i></td></tr>\\n<tr><td class=\"e\">opcache.preload</td><td class=\"v\"><i>no value</i></td><td class=\"v\"><i>no value</i></td></tr>\\n<tr><td class=\"e\">opcache.preload_user</td><td class=\"v\"><i>no value</i></td><td class=\"v\"><i>no value</i></td></tr>\\n<tr><td class=\"e\">opcache.protect_memory</td><td class=\"v\">Off</td><td class=\"v\">Off</td></tr>\\n<tr><td class=\"e\">opcache.restrict_api</td><td class=\"v\"><i>no value</i></td><td class=\"v\"><i>no value</i></td></tr>\\n<tr><td class=\"e\">opcache.revalidate_freq</td><td class=\"v\">2</td><td class=\"v\">2</td></tr>\\n<tr><td class=\"e\">opcache.revalidate_path</td><td class=\"v\">On</td><td class=\"v\">On</td></tr>\\n<tr><td class=\"e\">opcache.save_comments</td><td class=\"v\">On</td><td class=\"v\">On</td></tr>\\n<tr><td class=\"e\">opcache.use_cwd</td><td class=\"v\">On</td><td class=\"v\">On</td></tr>\\n<tr><td class=\"e\">opcache.validate_permission</td><td class=\"v\">On</td><td class=\"v\">On</td></tr>\\n<tr><td class=\"e\">opcache.validate_root</td><td class=\"v\">Off</td><td class=\"v\">Off</td></tr>\\n<tr><td class=\"e\">opcache.validate_timestamps</td><td class=\"v\">On</td><td class=\"v\">On</td></tr>\\n</table>\\n<h2><a name=\"module_zip\">zip</a></h2>\\n<table>\\n<tr><td class=\"e\">Zip </td><td class=\"v\">enabled </td></tr>\\n<tr><td class=\"e\">Zip version </td><td class=\"v\">1.15.6 </td></tr>\\n<tr><td class=\"e\">Libzip headers version </td><td class=\"v\">1.5.1 </td></tr>\\n<tr><td class=\"e\">Libzip library version </td><td class=\"v\">1.5.1 </td></tr>\\n</table>\\n<h2><a name=\"module_zlib\">zlib</a></h2>\\n<table>\\n<tr class=\"h\"><th>ZLib Support</th><th>enabled</th></tr>\\n<tr><td class=\"e\">Stream Wrapper </td><td class=\"v\">compress.zlib:// </td></tr>\\n<tr><td class=\"e\">Stream Filter </td><td class=\"v\">zlib.inflate, zlib.deflate </td></tr>\\n<tr><td class=\"e\">Compiled Version </td><td class=\"v\">1.2.11 </td></tr>\\n<tr><td class=\"e\">Linked Version </td><td class=\"v\">1.2.11 </td></tr>\\n</table>\\n<table>\\n<tr class=\"h\"><th>Directive</th><th>Local Value</th><th>Master Value</th></tr>\\n<tr><td class=\"e\">zlib.output_compression</td><td class=\"v\">Off</td><td class=\"v\">Off</td></tr>\\n<tr><td class=\"e\">zlib.output_compression_level</td><td class=\"v\">-1</td><td class=\"v\">-1</td></tr>\\n<tr><td class=\"e\">zlib.output_handler</td><td class=\"v\"><i>no value</i></td><td class=\"v\"><i>no value</i></td></tr>\\n</table>\\n<h2>Additional Modules</h2>\\n<table>\\n<tr class=\"h\"><th>Module Name</th></tr>\\n</table>\\n<h2>Environment</h2>\\n<table>\\n<tr class=\"h\"><th>Variable</th><th>Value</th></tr>\\n<tr><td class=\"e\">USER </td><td class=\"v\">pythoafa </td></tr>\\n<tr><td class=\"e\">HOME </td><td class=\"v\">/var/www/vhosts/pythonscraping.com </td></tr>\\n</table>\\n<h2>PHP Variables</h2>\\n<table>\\n<tr class=\"h\"><th>Variable</th><th>Value</th></tr>\\n<tr><td class=\"e\">$_REQUEST[\\'username\\']</td><td class=\"v\">아무개</td></tr>\\n<tr><td class=\"e\">$_REQUEST[\\'password\\']</td><td class=\"v\">password</td></tr>\\n<tr><td class=\"e\">$_POST[\\'username\\']</td><td class=\"v\">아무개</td></tr>\\n<tr><td class=\"e\">$_POST[\\'password\\']</td><td class=\"v\">password</td></tr>\\n<tr><td class=\"e\">$_SERVER[\\'USER\\']</td><td class=\"v\">pythoafa</td></tr>\\n<tr><td class=\"e\">$_SERVER[\\'HOME\\']</td><td class=\"v\">/var/www/vhosts/pythonscraping.com</td></tr>\\n<tr><td class=\"e\">$_SERVER[\\'SCRIPT_NAME\\']</td><td class=\"v\">/pages/login.php</td></tr>\\n<tr><td class=\"e\">$_SERVER[\\'REQUEST_URI\\']</td><td class=\"v\">/pages/login.php</td></tr>\\n<tr><td class=\"e\">$_SERVER[\\'QUERY_STRING\\']</td><td class=\"v\"><i>no value</i></td></tr>\\n<tr><td class=\"e\">$_SERVER[\\'REQUEST_METHOD\\']</td><td class=\"v\">POST</td></tr>\\n<tr><td class=\"e\">$_SERVER[\\'SERVER_PROTOCOL\\']</td><td class=\"v\">HTTP/1.0</td></tr>\\n<tr><td class=\"e\">$_SERVER[\\'GATEWAY_INTERFACE\\']</td><td class=\"v\">CGI/1.1</td></tr>\\n<tr><td class=\"e\">$_SERVER[\\'REMOTE_PORT\\']</td><td class=\"v\">56036</td></tr>\\n<tr><td class=\"e\">$_SERVER[\\'SCRIPT_FILENAME\\']</td><td class=\"v\">/var/www/vhosts/pythonscraping.com/public_html/pages/login.php</td></tr>\\n<tr><td class=\"e\">$_SERVER[\\'SERVER_ADMIN\\']</td><td class=\"v\">[no address given]</td></tr>\\n<tr><td class=\"e\">$_SERVER[\\'CONTEXT_DOCUMENT_ROOT\\']</td><td class=\"v\">/var/www/vhosts/pythonscraping.com/public_html</td></tr>\\n<tr><td class=\"e\">$_SERVER[\\'CONTEXT_PREFIX\\']</td><td class=\"v\"><i>no value</i></td></tr>\\n<tr><td class=\"e\">$_SERVER[\\'REQUEST_SCHEME\\']</td><td class=\"v\">https</td></tr>\\n<tr><td class=\"e\">$_SERVER[\\'DOCUMENT_ROOT\\']</td><td class=\"v\">/var/www/vhosts/pythonscraping.com/public_html</td></tr>\\n<tr><td class=\"e\">$_SERVER[\\'REMOTE_ADDR\\']</td><td class=\"v\">163.152.3.162</td></tr>\\n<tr><td class=\"e\">$_SERVER[\\'SERVER_PORT\\']</td><td class=\"v\">443</td></tr>\\n<tr><td class=\"e\">$_SERVER[\\'SERVER_ADDR\\']</td><td class=\"v\">142.4.205.1</td></tr>\\n<tr><td class=\"e\">$_SERVER[\\'SERVER_NAME\\']</td><td class=\"v\">pythonscraping.com</td></tr>\\n<tr><td class=\"e\">$_SERVER[\\'SERVER_SOFTWARE\\']</td><td class=\"v\">Apache</td></tr>\\n<tr><td class=\"e\">$_SERVER[\\'SERVER_SIGNATURE\\']</td><td class=\"v\">&lt;address&gt;Apache Server at pythonscraping.com Port 443&lt;/address&gt;\\n</td></tr>\\n<tr><td class=\"e\">$_SERVER[\\'PATH\\']</td><td class=\"v\">/usr/local/sbin:/usr/local/bin:/usr/sbin:/usr/bin:/sbin:/bin</td></tr>\\n<tr><td class=\"e\">$_SERVER[\\'CONTENT_TYPE\\']</td><td class=\"v\">application/x-www-form-urlencoded</td></tr>\\n<tr><td class=\"e\">$_SERVER[\\'HTTP_ACCEPT\\']</td><td class=\"v\">*/*</td></tr>\\n<tr><td class=\"e\">$_SERVER[\\'HTTP_ACCEPT_ENCODING\\']</td><td class=\"v\">gzip, deflate</td></tr>\\n<tr><td class=\"e\">$_SERVER[\\'HTTP_USER_AGENT\\']</td><td class=\"v\">python-requests/2.31.0</td></tr>\\n<tr><td class=\"e\">$_SERVER[\\'CONTENT_LENGTH\\']</td><td class=\"v\">54</td></tr>\\n<tr><td class=\"e\">$_SERVER[\\'HTTP_CONNECTION\\']</td><td class=\"v\">close</td></tr>\\n<tr><td class=\"e\">$_SERVER[\\'HTTP_X_ACCEL_INTERNAL\\']</td><td class=\"v\">/internal-nginx-static-location</td></tr>\\n<tr><td class=\"e\">$_SERVER[\\'HTTP_X_REAL_IP\\']</td><td class=\"v\">163.152.3.162</td></tr>\\n<tr><td class=\"e\">$_SERVER[\\'HTTP_HOST\\']</td><td class=\"v\">pythonscraping.com</td></tr>\\n<tr><td class=\"e\">$_SERVER[\\'proxy-nokeepalive\\']</td><td class=\"v\">1</td></tr>\\n<tr><td class=\"e\">$_SERVER[\\'HTTPS\\']</td><td class=\"v\">on</td></tr>\\n<tr><td class=\"e\">$_SERVER[\\'PASSENGER_DOWNLOAD_NATIVE_SUPPORT_BINARY\\']</td><td class=\"v\">0</td></tr>\\n<tr><td class=\"e\">$_SERVER[\\'PASSENGER_COMPILE_NATIVE_SUPPORT_BINARY\\']</td><td class=\"v\">0</td></tr>\\n<tr><td class=\"e\">$_SERVER[\\'HTTP_AUTHORIZATION\\']</td><td class=\"v\"><i>no value</i></td></tr>\\n<tr><td class=\"e\">$_SERVER[\\'SCRIPT_URI\\']</td><td class=\"v\">https://pythonscraping.com/pages/login.php</td></tr>\\n<tr><td class=\"e\">$_SERVER[\\'SCRIPT_URL\\']</td><td class=\"v\">/pages/login.php</td></tr>\\n<tr><td class=\"e\">$_SERVER[\\'UNIQUE_ID\\']</td><td class=\"v\">ZfkFn@WJG6OZ4nudMM0J1QAAADg</td></tr>\\n<tr><td class=\"e\">$_SERVER[\\'FCGI_ROLE\\']</td><td class=\"v\">RESPONDER</td></tr>\\n<tr><td class=\"e\">$_SERVER[\\'PHP_SELF\\']</td><td class=\"v\">/pages/login.php</td></tr>\\n<tr><td class=\"e\">$_SERVER[\\'REQUEST_TIME_FLOAT\\']</td><td class=\"v\">1710818719.8204</td></tr>\\n<tr><td class=\"e\">$_SERVER[\\'REQUEST_TIME\\']</td><td class=\"v\">1710818719</td></tr>\\n</table>\\n<hr />\\n<h1>PHP Credits</h1>\\n<table>\\n<tr class=\"h\"><th>PHP Group</th></tr>\\n<tr><td class=\"e\">Thies C. Arntzen, Stig Bakken, Shane Caraveo, Andi Gutmans, Rasmus Lerdorf, Sam Ruby, Sascha Schumann, Zeev Suraski, Jim Winstead, Andrei Zmievski </td></tr>\\n</table>\\n<table>\\n<tr class=\"h\"><th>Language Design &amp; Concept</th></tr>\\n<tr><td class=\"e\">Andi Gutmans, Rasmus Lerdorf, Zeev Suraski, Marcus Boerger </td></tr>\\n</table>\\n<table>\\n<tr class=\"h\"><th colspan=\"2\">PHP Authors</th></tr>\\n<tr class=\"h\"><th>Contribution</th><th>Authors</th></tr>\\n<tr><td class=\"e\">Zend Scripting Language Engine </td><td class=\"v\">Andi Gutmans, Zeev Suraski, Stanislav Malyshev, Marcus Boerger, Dmitry Stogov, Xinchen Hui, Nikita Popov </td></tr>\\n<tr><td class=\"e\">Extension Module API </td><td class=\"v\">Andi Gutmans, Zeev Suraski, Andrei Zmievski </td></tr>\\n<tr><td class=\"e\">UNIX Build and Modularization </td><td class=\"v\">Stig Bakken, Sascha Schumann, Jani Taskinen, Peter Kokot </td></tr>\\n<tr><td class=\"e\">Windows Support </td><td class=\"v\">Shane Caraveo, Zeev Suraski, Wez Furlong, Pierre-Alain Joye, Anatol Belski, Kalle Sommer Nielsen </td></tr>\\n<tr><td class=\"e\">Server API (SAPI) Abstraction Layer </td><td class=\"v\">Andi Gutmans, Shane Caraveo, Zeev Suraski </td></tr>\\n<tr><td class=\"e\">Streams Abstraction Layer </td><td class=\"v\">Wez Furlong, Sara Golemon </td></tr>\\n<tr><td class=\"e\">PHP Data Objects Layer </td><td class=\"v\">Wez Furlong, Marcus Boerger, Sterling Hughes, George Schlossnagle, Ilia Alshanetsky </td></tr>\\n<tr><td class=\"e\">Output Handler </td><td class=\"v\">Zeev Suraski, Thies C. Arntzen, Marcus Boerger, Michael Wallner </td></tr>\\n<tr><td class=\"e\">Consistent 64 bit support </td><td class=\"v\">Anthony Ferrara, Anatol Belski </td></tr>\\n</table>\\n<table>\\n<tr class=\"h\"><th colspan=\"2\">SAPI Modules</th></tr>\\n<tr class=\"h\"><th>Contribution</th><th>Authors</th></tr>\\n<tr><td class=\"e\">Apache 2.0 Handler </td><td class=\"v\">Ian Holsman, Justin Erenkrantz (based on Apache 2.0 Filter code) </td></tr>\\n<tr><td class=\"e\">CGI / FastCGI </td><td class=\"v\">Rasmus Lerdorf, Stig Bakken, Shane Caraveo, Dmitry Stogov </td></tr>\\n<tr><td class=\"e\">CLI </td><td class=\"v\">Edin Kadribasic, Marcus Boerger, Johannes Schlueter, Moriyoshi Koizumi, Xinchen Hui </td></tr>\\n<tr><td class=\"e\">Embed </td><td class=\"v\">Edin Kadribasic </td></tr>\\n<tr><td class=\"e\">FastCGI Process Manager </td><td class=\"v\">Andrei Nigmatulin, dreamcat4, Antony Dovgal, Jerome Loyet </td></tr>\\n<tr><td class=\"e\">litespeed </td><td class=\"v\">George Wang </td></tr>\\n<tr><td class=\"e\">phpdbg </td><td class=\"v\">Felipe Pena, Joe Watkins, Bob Weinand </td></tr>\\n</table>\\n<table>\\n<tr class=\"h\"><th colspan=\"2\">Module Authors</th></tr>\\n<tr class=\"h\"><th>Module</th><th>Authors</th></tr>\\n<tr><td class=\"e\">BC Math </td><td class=\"v\">Andi Gutmans </td></tr>\\n<tr><td class=\"e\">Bzip2 </td><td class=\"v\">Sterling Hughes </td></tr>\\n<tr><td class=\"e\">Calendar </td><td class=\"v\">Shane Caraveo, Colin Viebrock, Hartmut Holzgraefe, Wez Furlong </td></tr>\\n<tr><td class=\"e\">COM and .Net </td><td class=\"v\">Wez Furlong </td></tr>\\n<tr><td class=\"e\">ctype </td><td class=\"v\">Hartmut Holzgraefe </td></tr>\\n<tr><td class=\"e\">cURL </td><td class=\"v\">Sterling Hughes </td></tr>\\n<tr><td class=\"e\">Date/Time Support </td><td class=\"v\">Derick Rethans </td></tr>\\n<tr><td class=\"e\">DB-LIB (MS SQL, Sybase) </td><td class=\"v\">Wez Furlong, Frank M. Kromann, Adam Baratz </td></tr>\\n<tr><td class=\"e\">DBA </td><td class=\"v\">Sascha Schumann, Marcus Boerger </td></tr>\\n<tr><td class=\"e\">DOM </td><td class=\"v\">Christian Stocker, Rob Richards, Marcus Boerger </td></tr>\\n<tr><td class=\"e\">enchant </td><td class=\"v\">Pierre-Alain Joye, Ilia Alshanetsky </td></tr>\\n<tr><td class=\"e\">EXIF </td><td class=\"v\">Rasmus Lerdorf, Marcus Boerger </td></tr>\\n<tr><td class=\"e\">FFI </td><td class=\"v\">Dmitry Stogov </td></tr>\\n<tr><td class=\"e\">fileinfo </td><td class=\"v\">Ilia Alshanetsky, Pierre Alain Joye, Scott MacVicar, Derick Rethans, Anatol Belski </td></tr>\\n<tr><td class=\"e\">Firebird driver for PDO </td><td class=\"v\">Ard Biesheuvel </td></tr>\\n<tr><td class=\"e\">FTP </td><td class=\"v\">Stefan Esser, Andrew Skalski </td></tr>\\n<tr><td class=\"e\">GD imaging </td><td class=\"v\">Rasmus Lerdorf, Stig Bakken, Jim Winstead, Jouni Ahto, Ilia Alshanetsky, Pierre-Alain Joye, Marcus Boerger </td></tr>\\n<tr><td class=\"e\">GetText </td><td class=\"v\">Alex Plotnick </td></tr>\\n<tr><td class=\"e\">GNU GMP support </td><td class=\"v\">Stanislav Malyshev </td></tr>\\n<tr><td class=\"e\">Iconv </td><td class=\"v\">Rui Hirokawa, Stig Bakken, Moriyoshi Koizumi </td></tr>\\n<tr><td class=\"e\">IMAP </td><td class=\"v\">Rex Logan, Mark Musone, Brian Wang, Kaj-Michael Lang, Antoni Pamies Olive, Rasmus Lerdorf, Andrew Skalski, Chuck Hagenbuch, Daniel R Kalowsky </td></tr>\\n<tr><td class=\"e\">Input Filter </td><td class=\"v\">Rasmus Lerdorf, Derick Rethans, Pierre-Alain Joye, Ilia Alshanetsky </td></tr>\\n<tr><td class=\"e\">Internationalization </td><td class=\"v\">Ed Batutis, Vladimir Iordanov, Dmitry Lakhtyuk, Stanislav Malyshev, Vadim Savchuk, Kirti Velankar </td></tr>\\n<tr><td class=\"e\">JSON </td><td class=\"v\">Jakub Zelenka, Omar Kilani, Scott MacVicar </td></tr>\\n<tr><td class=\"e\">LDAP </td><td class=\"v\">Amitay Isaacs, Eric Warnke, Rasmus Lerdorf, Gerrit Thomson, Stig Venaas </td></tr>\\n<tr><td class=\"e\">LIBXML </td><td class=\"v\">Christian Stocker, Rob Richards, Marcus Boerger, Wez Furlong, Shane Caraveo </td></tr>\\n<tr><td class=\"e\">Multibyte String Functions </td><td class=\"v\">Tsukada Takuya, Rui Hirokawa </td></tr>\\n<tr><td class=\"e\">MySQL driver for PDO </td><td class=\"v\">George Schlossnagle, Wez Furlong, Ilia Alshanetsky, Johannes Schlueter </td></tr>\\n<tr><td class=\"e\">MySQLi </td><td class=\"v\">Zak Greant, Georg Richter, Andrey Hristov, Ulf Wendel </td></tr>\\n<tr><td class=\"e\">MySQLnd </td><td class=\"v\">Andrey Hristov, Ulf Wendel, Georg Richter, Johannes Schlüter </td></tr>\\n<tr><td class=\"e\">OCI8 </td><td class=\"v\">Stig Bakken, Thies C. Arntzen, Andy Sautins, David Benson, Maxim Maletsky, Harald Radi, Antony Dovgal, Andi Gutmans, Wez Furlong, Christopher Jones, Oracle Corporation </td></tr>\\n<tr><td class=\"e\">ODBC driver for PDO </td><td class=\"v\">Wez Furlong </td></tr>\\n<tr><td class=\"e\">ODBC </td><td class=\"v\">Stig Bakken, Andreas Karajannis, Frank M. Kromann, Daniel R. Kalowsky </td></tr>\\n<tr><td class=\"e\">Opcache </td><td class=\"v\">Andi Gutmans, Zeev Suraski, Stanislav Malyshev, Dmitry Stogov, Xinchen Hui </td></tr>\\n<tr><td class=\"e\">OpenSSL </td><td class=\"v\">Stig Venaas, Wez Furlong, Sascha Kettler, Scott MacVicar </td></tr>\\n<tr><td class=\"e\">Oracle (OCI) driver for PDO </td><td class=\"v\">Wez Furlong </td></tr>\\n<tr><td class=\"e\">pcntl </td><td class=\"v\">Jason Greene, Arnaud Le Blanc </td></tr>\\n<tr><td class=\"e\">Perl Compatible Regexps </td><td class=\"v\">Andrei Zmievski </td></tr>\\n<tr><td class=\"e\">PHP Archive </td><td class=\"v\">Gregory Beaver, Marcus Boerger </td></tr>\\n<tr><td class=\"e\">PHP Data Objects </td><td class=\"v\">Wez Furlong, Marcus Boerger, Sterling Hughes, George Schlossnagle, Ilia Alshanetsky </td></tr>\\n<tr><td class=\"e\">PHP hash </td><td class=\"v\">Sara Golemon, Rasmus Lerdorf, Stefan Esser, Michael Wallner, Scott MacVicar </td></tr>\\n<tr><td class=\"e\">Posix </td><td class=\"v\">Kristian Koehntopp </td></tr>\\n<tr><td class=\"e\">PostgreSQL driver for PDO </td><td class=\"v\">Edin Kadribasic, Ilia Alshanetsky </td></tr>\\n<tr><td class=\"e\">PostgreSQL </td><td class=\"v\">Jouni Ahto, Zeev Suraski, Yasuo Ohgaki, Chris Kings-Lynne </td></tr>\\n<tr><td class=\"e\">Pspell </td><td class=\"v\">Vlad Krupin </td></tr>\\n<tr><td class=\"e\">Readline </td><td class=\"v\">Thies C. Arntzen </td></tr>\\n<tr><td class=\"e\">Reflection </td><td class=\"v\">Marcus Boerger, Timm Friebe, George Schlossnagle, Andrei Zmievski, Johannes Schlueter </td></tr>\\n<tr><td class=\"e\">Sessions </td><td class=\"v\">Sascha Schumann, Andrei Zmievski </td></tr>\\n<tr><td class=\"e\">Shared Memory Operations </td><td class=\"v\">Slava Poliakov, Ilia Alshanetsky </td></tr>\\n<tr><td class=\"e\">SimpleXML </td><td class=\"v\">Sterling Hughes, Marcus Boerger, Rob Richards </td></tr>\\n<tr><td class=\"e\">SNMP </td><td class=\"v\">Rasmus Lerdorf, Harrie Hazewinkel, Mike Jackson, Steven Lawrance, Johann Hanne, Boris Lytochkin </td></tr>\\n<tr><td class=\"e\">SOAP </td><td class=\"v\">Brad Lafountain, Shane Caraveo, Dmitry Stogov </td></tr>\\n<tr><td class=\"e\">Sockets </td><td class=\"v\">Chris Vandomelen, Sterling Hughes, Daniel Beulshausen, Jason Greene </td></tr>\\n<tr><td class=\"e\">Sodium </td><td class=\"v\">Frank Denis </td></tr>\\n<tr><td class=\"e\">SPL </td><td class=\"v\">Marcus Boerger, Etienne Kneuss </td></tr>\\n<tr><td class=\"e\">SQLite 3.x driver for PDO </td><td class=\"v\">Wez Furlong </td></tr>\\n<tr><td class=\"e\">SQLite3 </td><td class=\"v\">Scott MacVicar, Ilia Alshanetsky, Brad Dewar </td></tr>\\n<tr><td class=\"e\">System V Message based IPC </td><td class=\"v\">Wez Furlong </td></tr>\\n<tr><td class=\"e\">System V Semaphores </td><td class=\"v\">Tom May </td></tr>\\n<tr><td class=\"e\">System V Shared Memory </td><td class=\"v\">Christian Cartus </td></tr>\\n<tr><td class=\"e\">tidy </td><td class=\"v\">John Coggeshall, Ilia Alshanetsky </td></tr>\\n<tr><td class=\"e\">tokenizer </td><td class=\"v\">Andrei Zmievski, Johannes Schlueter </td></tr>\\n<tr><td class=\"e\">XML </td><td class=\"v\">Stig Bakken, Thies C. Arntzen, Sterling Hughes </td></tr>\\n<tr><td class=\"e\">XMLReader </td><td class=\"v\">Rob Richards </td></tr>\\n<tr><td class=\"e\">xmlrpc </td><td class=\"v\">Dan Libby </td></tr>\\n<tr><td class=\"e\">XMLWriter </td><td class=\"v\">Rob Richards, Pierre-Alain Joye </td></tr>\\n<tr><td class=\"e\">XSL </td><td class=\"v\">Christian Stocker, Rob Richards </td></tr>\\n<tr><td class=\"e\">Zip </td><td class=\"v\">Pierre-Alain Joye, Remi Collet </td></tr>\\n<tr><td class=\"e\">Zlib </td><td class=\"v\">Rasmus Lerdorf, Stefan Roehrich, Zeev Suraski, Jade Nicoletti, Michael Wallner </td></tr>\\n</table>\\n<table>\\n<tr class=\"h\"><th colspan=\"2\">PHP Documentation</th></tr>\\n<tr><td class=\"e\">Authors </td><td class=\"v\">Mehdi Achour, Friedhelm Betz, Antony Dovgal, Nuno Lopes, Hannes Magnusson, Philip Olson, Georg Richter, Damien Seguy, Jakub Vrana, Adam Harvey </td></tr>\\n<tr><td class=\"e\">Editor </td><td class=\"v\">Peter Cowburn </td></tr>\\n<tr><td class=\"e\">User Note Maintainers </td><td class=\"v\">Daniel P. Brown, Thiago Henrique Pojda </td></tr>\\n<tr><td class=\"e\">Other Contributors </td><td class=\"v\">Previously active authors, editors and other contributors are listed in the manual. </td></tr>\\n</table>\\n<table>\\n<tr class=\"h\"><th>PHP Quality Assurance Team</th></tr>\\n<tr><td class=\"e\">Ilia Alshanetsky, Joerg Behrens, Antony Dovgal, Stefan Esser, Moriyoshi Koizumi, Magnus Maatta, Sebastian Nohn, Derick Rethans, Melvyn Sopacua, Pierre-Alain Joye, Dmitry Stogov, Felipe Pena, David Soria Parra, Stanislav Malyshev, Julien Pauli, Stephen Zarkos, Anatol Belski, Remi Collet, Ferenc Kovacs </td></tr>\\n</table>\\n<table>\\n<tr class=\"h\"><th colspan=\"2\">Websites and Infrastructure team</th></tr>\\n<tr><td class=\"e\">PHP Websites Team </td><td class=\"v\">Rasmus Lerdorf, Hannes Magnusson, Philip Olson, Lukas Kahwe Smith, Pierre-Alain Joye, Kalle Sommer Nielsen, Peter Cowburn, Adam Harvey, Ferenc Kovacs, Levi Morrison </td></tr>\\n<tr><td class=\"e\">Event Maintainers </td><td class=\"v\">Damien Seguy, Daniel P. Brown </td></tr>\\n<tr><td class=\"e\">Network Infrastructure </td><td class=\"v\">Daniel P. Brown </td></tr>\\n<tr><td class=\"e\">Windows Infrastructure </td><td class=\"v\">Alex Schoenmaker </td></tr>\\n</table>\\n<h2>PHP License</h2>\\n<table>\\n<tr class=\"v\"><td>\\n<p>\\nThis program is free software; you can redistribute it and/or modify it under the terms of the PHP License as published by the PHP Group and included in the distribution in the file:  LICENSE\\n</p>\\n<p>This program is distributed in the hope that it will be useful, but WITHOUT ANY WARRANTY; without even the implied warranty of MERCHANTABILITY or FITNESS FOR A PARTICULAR PURPOSE.\\n</p>\\n<p>If you did not receive a copy of the PHP license, or have any questions about PHP licensing, please contact license@php.net.\\n</p>\\n</td></tr>\\n</table>\\n</div></body></html>')"
      ]
     },
     "execution_count": 200,
     "metadata": {},
     "output_type": "execute_result"
    }
   ],
   "source": [
    "params = {\n",
    "    'username':'아무개',\n",
    "    'password':'password'\n",
    "}\n",
    "\n",
    "resp = request('POST', urljoin(url, form.attrs['action']),data=params)\n",
    "resp.status_code, resp.text"
   ]
  },
  {
   "cell_type": "code",
   "execution_count": null,
   "id": "bbae76a6-eef5-4a85-9b40-28836af661b6",
   "metadata": {},
   "outputs": [],
   "source": [
    "Cookie vs. Session\n",
    "# LMS에 자동으로 로그인을 해볼 것이다.\n",
    "# 스크롤러와 크롤러 수집해서\n",
    "# REST API 어떻게 악용될 수 있는지.\n",
    "# Bot을 이용해서 수백개의 댓글을 달았다가, 지울 것이다. => 여론조작 봇\n",
    "# 로그인하는 것이 얼마나 힘든지 보여줄 것이다.\n",
    "# 내 쿠키를 활용하여 할 수 있는 다른 API\n",
    "# 인스타 로그인 해볼 것이다. Graph API를 만들어서 접근해야하는데, 이 외에 다른 개구멍을 이용해서 로그인을 해볼것, 검색도"
   ]
  }
 ],
 "metadata": {
  "kernelspec": {
   "display_name": "Python 3 (ipykernel)",
   "language": "python",
   "name": "python3"
  },
  "language_info": {
   "codemirror_mode": {
    "name": "ipython",
    "version": 3
   },
   "file_extension": ".py",
   "mimetype": "text/x-python",
   "name": "python",
   "nbconvert_exporter": "python",
   "pygments_lexer": "ipython3",
   "version": "3.11.8"
  }
 },
 "nbformat": 4,
 "nbformat_minor": 5
}
