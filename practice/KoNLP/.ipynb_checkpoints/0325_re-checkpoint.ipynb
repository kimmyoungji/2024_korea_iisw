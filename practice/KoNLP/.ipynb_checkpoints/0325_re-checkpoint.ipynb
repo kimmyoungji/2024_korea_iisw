{
 "cells": [
  {
   "cell_type": "code",
   "execution_count": null,
   "id": "3bf7d35f-e16e-4837-ae7a-06b704ba6a7a",
   "metadata": {},
   "outputs": [],
   "source": [
    "from konlpy.tag import Kkma\n",
    "\n",
    "Kkma().pos('아버지가방에들어가신다.')"
   ]
  },
  {
   "cell_type": "markdown",
   "id": "ffb8d8b2-4108-483a-92a5-a5bfcf3571a2",
   "metadata": {},
   "source": [
    "P(A|B) = P(A,B) => A,B가 동시에 발생한 사건\n",
    "         ------\n",
    "          P(B)  => B라고 하는 사건하에\n",
    "P(A,B) = P(A|B)P(B)\n",
    "B가 일어났을때, A가 일어났을 확률\n",
    "\n",
    "P(B|A) = P(B,A) = P(A,B) = P(A|B)P(B)\n",
    "         ------\n",
    "          P(A)\n",
    "P(B,A) = P(B|A)P(A)\n",
    "\n",
    "A가 given B의 확률\n",
    "P(B|A) = Likeli P(A|B)P(B) Prior\n",
    "          --------\n",
    "             P(A) => evidence, constant"
   ]
  },
  {
   "cell_type": "code",
   "execution_count": null,
   "id": "ad0e04c6-5bfd-4dbe-afcb-990a7c71c896",
   "metadata": {},
   "outputs": [],
   "source": [
    "import nltk"
   ]
  },
  {
   "cell_type": "code",
   "execution_count": null,
   "id": "a42d6864-46c4-4b7c-92e4-ed45bf437b45",
   "metadata": {},
   "outputs": [],
   "source": [
    "nltk.download('gutenberg')\n",
    "nltk.download('punkt')"
   ]
  },
  {
   "cell_type": "code",
   "execution_count": null,
   "id": "5b3c9014-a576-4f8b-9c90-bcd779bfaf22",
   "metadata": {},
   "outputs": [],
   "source": [
    "from nltk.corpus import gutenberg"
   ]
  },
  {
   "cell_type": "code",
   "execution_count": null,
   "id": "91fb3b72-235b-48ac-97d3-304528820565",
   "metadata": {},
   "outputs": [],
   "source": [
    "corpus = gutenberg.open(gutenberg.fileids()[0]).read()"
   ]
  },
  {
   "cell_type": "code",
   "execution_count": null,
   "id": "5c86546c-9746-457f-9339-b70148cbb102",
   "metadata": {},
   "outputs": [],
   "source": [
    "from nltk.tokenize import sent_tokenize, word_tokenize, regexp_tokenize, TweetTokenizer"
   ]
  },
  {
   "cell_type": "code",
   "execution_count": null,
   "id": "655dfd41-6e87-4174-a975-946ebc8ff248",
   "metadata": {},
   "outputs": [],
   "source": [
    "# {문장, ...} ㅌ {문단, ...} ㅌ 문서, 문장이 문서를 구성하는 가장 작은 단위\n",
    "# 문장을 분리\n",
    "len(corpus.splitlines()), len(sent_tokenize(corpus))\n",
    "sum([len(s) for s in sent_tokenize(corpus)])/7493   # 이거 sum왜 구하지? "
   ]
  },
  {
   "cell_type": "code",
   "execution_count": null,
   "id": "f3225fdd-b720-467b-91ed-eb522669ac4c",
   "metadata": {},
   "outputs": [],
   "source": [
    "sent_tokenize('한글에서는 어떻게 분리하는지 봅시다... 볼까요 ? 볼래요!')"
   ]
  },
  {
   "cell_type": "code",
   "execution_count": null,
   "id": "40558529-0c99-4c5e-ac87-001a4b63bb3a",
   "metadata": {},
   "outputs": [],
   "source": [
    "data = '''\n",
    "정부의 의과대학 정원 증원에 반발하는 전국 의대 교수들의 '무더기 사직'이 현실화됐다. 교수들은 정부가 '2000명 증원'을 철회하는 것이 대화의 선결 조건이라며 강경한 입장이다. \n",
    "\n",
    "전국의과대학교수협의회(전의교협)는 25일 \"의대 입학정원 증원은 의대 교육의 파탄을 넘어 의료체계를 붕괴시킬 게 자명하다\"며 정부에 의대 증원 배정 선(先)철회를 촉구하고 나섰다. \n",
    "\n",
    "전의교협은 \"정부에 의한 입학 정원과 정원 배정 철회가 없는 한 이번 위기는 해결될 수 없다\"며 \"정부의 철회 의사가 있다면 국민들 앞에서 모든 현안을 논의할 준비가 돼 있다\"고 했다.\n",
    "\n",
    "윤석열 대통령이 전날 집단사직 전공의에 대한 행정처분 등에 대해 '유연한 처리'를 주문하였고, 동시에 한동훈 국민의힘 비상대책위원장 겸 총괄선거대책위원장이 '중재'를 자처하고 나섰지만 증원 정책 철회 없이는 의미 있는 대화 진전은 힘들다는 게 의대 교수들 입장이다. \n",
    "'''\n",
    "\n",
    "len([s for s in data.splitlines() if len(s) > 1]), len(sent_tokenize(data))"
   ]
  },
  {
   "cell_type": "code",
   "execution_count": null,
   "id": "0a4f3adb-af56-44f1-b53c-fc60c77cf9ba",
   "metadata": {},
   "outputs": [],
   "source": [
    "len(corpus.split()), len(word_tokenize(corpus)),\\\n",
    "len(set(corpus.split())), len(set(word_tokenize(corpus)))"
   ]
  },
  {
   "cell_type": "code",
   "execution_count": null,
   "id": "48090816-e805-4e3c-a1d1-32c795b7f434",
   "metadata": {},
   "outputs": [],
   "source": [
    "len(data.split()), len(word_tokenize(data)),\\\n",
    "len(set(data.split())), len(set(word_tokenize(data)))"
   ]
  },
  {
   "cell_type": "code",
   "execution_count": null,
   "id": "a51e8520-c86d-484f-809a-2e985a3b6c42",
   "metadata": {},
   "outputs": [],
   "source": [
    "len(regexp_tokenize(corpus, r'\\b\\w+\\b')), len(set(regexp_tokenize(corpus, r'\\b\\w+\\b')))"
   ]
  },
  {
   "cell_type": "code",
   "execution_count": null,
   "id": "3f7af32f-eba8-43fc-b74d-ca3ceb81def4",
   "metadata": {},
   "outputs": [],
   "source": [
    "word_tokenize, regexp_tokenize, TweetTokenizer\n",
    "음절, 어절, 형태소, ..., \n",
    "Ngram => P, Markov Assumption\n",
    "entropy, perplexity => P\n",
    "BPE, BT, SPT, + MA\n",
    "Tokenizing => Normalizing(Stopwords...) => Feature Selection => Model"
   ]
  },
  {
   "cell_type": "code",
   "execution_count": null,
   "id": "f6c921b5-b42e-4c2e-a27c-acb04bf89984",
   "metadata": {},
   "outputs": [],
   "source": [
    "tt = TweetTokenizer()"
   ]
  },
  {
   "cell_type": "code",
   "execution_count": null,
   "id": "6037d7df-d843-4273-8902-32f6002f51b3",
   "metadata": {},
   "outputs": [],
   "source": [
    "tt.tokenize(':) =( ㅠㅠ'), word_tokenize(':)')"
   ]
  },
  {
   "cell_type": "code",
   "execution_count": null,
   "id": "e24361b1-a4a4-456e-8bed-1dfb9bd3b258",
   "metadata": {},
   "outputs": [],
   "source": [
    "len(tt.tokenize(corpus)), len(set(tt.tokenize(corpus)))"
   ]
  },
  {
   "cell_type": "code",
   "execution_count": null,
   "id": "ff383eb1-aa6b-4b46-afc5-300d10047b71",
   "metadata": {},
   "outputs": [],
   "source": [
    "token => 어절, 음절, 단어, 형태소, 어간, 어미, 어근, 접사, 구, 품사, ..."
   ]
  },
  {
   "cell_type": "code",
   "execution_count": null,
   "id": "7d863d08-2eb2-4556-b384-403f83995b83",
   "metadata": {},
   "outputs": [],
   "source": [
    "from nltk.text import Text\n",
    "t = Text(word_tokenize(corpus))\n",
    "t.count('Emma')"
   ]
  },
  {
   "cell_type": "code",
   "execution_count": null,
   "id": "288fd361-3f8a-4353-a6d2-6140ae413401",
   "metadata": {},
   "outputs": [],
   "source": [
    "# 고유 단어의수    # 모든 단어수\n",
    "t.vocab().B(), t.vocab().N(), len(t.tokens)\n",
    "\n",
    "t.vocab().freq('Emma')\n",
    "=> FreqDist"
   ]
  },
  {
   "cell_type": "code",
   "execution_count": null,
   "id": "630f6ff2-6bbb-409e-81dd-cc8f4995bb97",
   "metadata": {},
   "outputs": [],
   "source": [
    "from nltk.text import Text"
   ]
  },
  {
   "cell_type": "code",
   "execution_count": null,
   "id": "138acdd3-c6f7-4849-b887-3ba739da65c5",
   "metadata": {},
   "outputs": [],
   "source": [
    "t.vocab().freq('Emma')\n",
    "=> FreqDist"
   ]
  },
  {
   "cell_type": "code",
   "execution_count": null,
   "id": "e316dade-e265-4d10-86cf-c6a4d0f3c1cd",
   "metadata": {},
   "outputs": [],
   "source": [
    "t.vocab().most_common(50)"
   ]
  },
  {
   "cell_type": "code",
   "execution_count": null,
   "id": "c414f215-18c6-40ec-bb34-bb971a359ebf",
   "metadata": {},
   "outputs": [],
   "source": [
    "t.collocations()"
   ]
  },
  {
   "cell_type": "code",
   "execution_count": null,
   "id": "c211ee5d-6b53-40d4-97f5-80f39022a67b",
   "metadata": {},
   "outputs": [],
   "source": [
    "t.count('Weston')"
   ]
  },
  {
   "cell_type": "code",
   "execution_count": null,
   "id": "adad914a-0c57-405f-94c0-e75432fb1297",
   "metadata": {},
   "outputs": [],
   "source": [
    "t.concordance('Emma')"
   ]
  },
  {
   "cell_type": "code",
   "execution_count": null,
   "id": "1446e585-14bd-41c8-8957-b9e2ec68b540",
   "metadata": {},
   "outputs": [],
   "source": [
    "t.similar('Emma')"
   ]
  },
  {
   "cell_type": "code",
   "execution_count": null,
   "id": "13267286-7289-49e1-9d21-13b0b0f52478",
   "metadata": {},
   "outputs": [],
   "source": [
    "collocation(연어), co-occurence(공기어)\n",
    "-> 이웃한 패턴       -> 같이 자주 나오는 표현"
   ]
  },
  {
   "cell_type": "code",
   "execution_count": null,
   "id": "29c240f6-4d56-4397-b92d-d9ba9fd22bb0",
   "metadata": {},
   "outputs": [],
   "source": [
    "from nltk.collocations import BigramAssocMeasures, BigramCollocationFinder\n",
    "bigram = BigramCollocationFinder.from_words(word_tokenize(corpus))\n",
    "bigram.nbest(BigramAssocMeasures.pmi, 10)\n"
   ]
  },
  {
   "cell_type": "markdown",
   "id": "8f1e5bad-50d0-4d37-a93c-b557f641a327",
   "metadata": {},
   "source": [
    "# Ngram"
   ]
  },
  {
   "cell_type": "code",
   "execution_count": null,
   "id": "5df5dcfd-9784-40cb-b51d-1322f99a6f91",
   "metadata": {},
   "outputs": [],
   "source": [
    "Ngram => Language Model => NLU, NLG\n",
    "P(의과대학|정부의)\n",
    "P(정원|정부의, 의과대학)\n",
    "P(증원에|정부의, 의과대학, 정원) ~ P(증원에|정원, 예산)\n",
    "                            P(정원,예산,증원에)/P(정원,예산)\n",
    "                            P(증원에|예산) => P(예산,증원에)/P(예산)\n",
    "                                           count(예산,증원에)/N / count(예산)/N\n",
    "                                           count(예산,증원에)/count(예산)\n",
    "\n",
    "P(F|A,B,C,D,E)\n",
    "\n",
    "Bigram => Markov 1st Assumption\n",
    "Trigram => Markov 2nd Assumptino\n",
    "\n",
    "S => A, B, C, D, ..., Z\n",
    "P(S) => P(Z|A,...,Y)P(A,...,Y)\n",
    "     => P(Z|Y)P(Y|X)P(X|W)...\n",
    "    \n",
    "Ngram, Ngram Lanuage Model"
   ]
  },
  {
   "cell_type": "code",
   "execution_count": 7,
   "id": "4a2a7cf9-b955-41bc-a521-d0582bf9edfd",
   "metadata": {},
   "outputs": [
    {
     "data": {
      "text/plain": [
       "['의대교수', '교수줄사직', '줄사직시작됐다.']"
      ]
     },
     "execution_count": 7,
     "metadata": {},
     "output_type": "execute_result"
    }
   ],
   "source": [
    "def ngram(text, n=2):\n",
    "    result = list()\n",
    "    for i in range(len(text)-(n-1)):\n",
    "        result.append(''.join(text[i:i+n]))\n",
    "    return result\n",
    "\n",
    "ngram('의대 교수 줄사직 시작됐다.'.split())"
   ]
  },
  {
   "cell_type": "code",
   "execution_count": null,
   "id": "bb28c1e1-51bb-4e0b-9461-24ff194204fe",
   "metadata": {},
   "outputs": [],
   "source": [
    "bigram = ngram(word_tokenize(corpus))\n",
    "unigram = ngram(word_tokenize(corpus), 1)"
   ]
  },
  {
   "cell_type": "code",
   "execution_count": null,
   "id": "8a921bc3-cce0-45e7-942a-7ed983adab9c",
   "metadata": {},
   "outputs": [],
   "source": [
    "bigramText = Text(bigram)\n",
    "unigramText = Text(unigram)"
   ]
  },
  {
   "cell_type": "code",
   "execution_count": null,
   "id": "0f478c22-cf52-4f1a-b32d-aac9c2aff1fd",
   "metadata": {},
   "outputs": [],
   "source": [
    "unigramText.count('Emma'), unigramText.vocab().N(), \\\n",
    "unigramText.count('Emma')/unigramText.vocab().N(), unigramText.vocab().freq('Emma')\n",
    "(855, 191785, 0.004458117162447532, 0.004458117162447532)"
   ]
  },
  {
   "cell_type": "code",
   "execution_count": null,
   "id": "3aa579f4-45df-44dc-8d5a-811118da8b34",
   "metadata": {},
   "outputs": [],
   "source": [
    "import re\n",
    "\n",
    "def findToken(k, t):\n",
    "    result = list()\n",
    "    for token in t:\n",
    "        if re.match(k, token):\n",
    "            result.append(token)\n",
    "            \n",
    "    return result\n",
    "\n",
    "# for k in findToken('Emma', bigramText.tokens):\n",
    "#     print(k, bigramText.count(k)/unigramText.count('Emma'))\n",
    "    \n",
    "nextword = {k:bigramText.count(k)/unigramText.count('Emma')\n",
    " for k in findToken('Emma', bigramText.tokens)}"
   ]
  },
  {
   "cell_type": "code",
   "execution_count": null,
   "id": "de07c6e5-17f9-4239-b3dd-96e165165188",
   "metadata": {},
   "outputs": [],
   "source": [
    "sorted(nextword.items(), key=lambda r:r[1], reverse=True)[:5]"
   ]
  }
 ],
 "metadata": {
  "kernelspec": {
   "display_name": "Python 3 (ipykernel)",
   "language": "python",
   "name": "python3"
  },
  "language_info": {
   "codemirror_mode": {
    "name": "ipython",
    "version": 3
   },
   "file_extension": ".py",
   "mimetype": "text/x-python",
   "name": "python",
   "nbconvert_exporter": "python",
   "pygments_lexer": "ipython3",
   "version": "3.11.8"
  }
 },
 "nbformat": 4,
 "nbformat_minor": 5
}
