{
 "cells": [
  {
   "cell_type": "code",
   "execution_count": null,
   "id": "77ded74f-33a3-4885-87aa-c2016e1ddac9",
   "metadata": {},
   "outputs": [],
   "source": [
    "Preprocessing : 전처리\n",
    "Tokenizing => Tokens = {음절, 어절, 단어, 형태소, 어근, 접사, 어간, 어미, 구 ... ngram, 품사}\n",
    "           => 왜? => 좋은 feature들을 찾으려고. => 좋은 토큰을 뽑아야지만, 좋은 모델이 만들어진다.\n",
    "\n",
    "zip's law => 빈도의 순으로 나열 = 순위의 역순이랑 동일, 가장 많이 나온 단어는 그 다음 단어의 두배\n",
    "             고빈도단어(문장부호, 접사, 조사.... -> 의미 파악시 별로 안 중요함); 상위 n개의 단어가 대부분 차지\n",
    "             저빈도단어(고유명사, 신조어,비속어,오탈자); 토큰 후보들 중 대부분을 차지하는 너무 많음\n",
    "Heaps law =>  문서에 나타난 고유한 단어들은 전체 단어의 수와 일전한 관계\n",
    "\n",
    "tokenizing 기법:\n",
    "NLTK -> sent_tokenize : 문장 단위로 쪼갤 때 사용한다. , word_tokenize => regex_tokenize, Tweettokenize\n",
    "한글  -> Morpheme analyser, POS, nouns .... 품사표(tagset)\n",
    "        => key 못 찾음; Out of Vocabulary (OOV) =>unknown 토은 저장하면된데, 이제 근간이 되는 데이커기때문에...\n",
    "\n",
    "Entropy, Perplexity(Cohestipon) => 조건부확률\n",
    "Stemming. (Stem, 어간); 어간+어미; 있다| 있었다| 있었고 | 있었으며 .. \n",
    "Lemmatization(Lemma) 페제어 추출; 어근/원형, 날다 + 나/는 ... => 날/눈,,,,,\n",
    "                           is  was be ... -:\n",
    "\n",
    "SPM - WPM - BPE(*)   => 워드피스모델: 단어조각\n",
    "; Sententce-picec Model(문장; 분절 띄어쓰기)=> 0\n",
    "      ; Word-Piece-Model(어절;분절)\n",
    "            ; Byte Pair Encoding 방법 (*) \n",
    "\n",
    "Normaliazion\n",
    "대소문자, 약어(LA, losangeles), Stopwords"
   ]
  },
  {
   "cell_type": "code",
   "execution_count": null,
   "id": "57236ca2-11bf-4bfb-886b-a1c676b3e7f0",
   "metadata": {},
   "outputs": [],
   "source": [
    "from konlpy.tag import Hannanum"
   ]
  },
  {
   "cell_type": "code",
   "execution_count": null,
   "id": "4e3cb1f0-781c-4ce4-bdbe-9fc41ef89497",
   "metadata": {},
   "outputs": [],
   "source": [
    "ma = Hannanum()\n",
    "data='''2022년 말 GTP-3.5 기반의 챗GPT를 공개한 오픈AI는 불과 4개월 만인 지난해 3월 GPT-4를 선보였다. 매개변수는 공개하지 않았지만 1750억개인 GPT-3.5보다 증가했고 인식 가능한 명령어도 GPT-3.5가 문자만 가능했다면 GPT-4는 문자는 물론 이미지까지 포함했다.\n",
    "\n",
    "인식 가능한 글 길이도 단어 약 3000개에서 2만5000여 개로 늘어났다. 오픈AI는 GPT-3.5의 미국 변호사 시험 성적이 하위 10%였다면 GPT-4는 상위 10%를 기록하면서 보다 인간다워졌다고 밝혔다. 그리고 지난해 11월에는 멀티모달리티 기능을 강화한 'GPT-4 터보'를 선보인 바 있다.\n",
    "\n",
    "업계는 오픈AI가 공개를 앞둔 GPT-5가 범용 인공지능(AGI)에 얼마나 가까워졌을지 주목하고 있다. 아직 완벽한 AGI 구현은 어렵겠지만 GPT-5가 AGI를 개발하는 데 징검다리 역할을 할 수 있기 때문이다.\n",
    "'''\n"
   ]
  },
  {
   "cell_type": "code",
   "execution_count": null,
   "id": "445ca189-0d21-4594-b92a-b103b4542e9f",
   "metadata": {
    "scrolled": true
   },
   "outputs": [],
   "source": [
    "ma.nouns(data)"
   ]
  },
  {
   "cell_type": "code",
   "execution_count": null,
   "id": "fe4f57b5-7ad0-42c1-b416-11e27c64663a",
   "metadata": {},
   "outputs": [],
   "source": [
    "from konlpy.tag import Hannanum, Kkma, Komoran, Okt\n",
    "\n",
    "ma = [Hannanum(), Kkma(), Komoran(), Okt()]"
   ]
  },
  {
   "cell_type": "code",
   "execution_count": null,
   "id": "f1abeea8-759b-474f-b62b-11a13ad5c729",
   "metadata": {},
   "outputs": [],
   "source": [
    "for m in ma:\n",
    "    print(m.pos('하늘을 나는 새'))"
   ]
  },
  {
   "cell_type": "markdown",
   "id": "fe5e20dd-f239-4d3a-a754-e5f7e375a293",
   "metadata": {},
   "source": [
    "# 띄어쓰기"
   ]
  },
  {
   "cell_type": "code",
   "execution_count": 13,
   "id": "db7ecfc1-6fac-4732-824f-19bda83c275e",
   "metadata": {},
   "outputs": [
    {
     "data": {
      "text/plain": [
       "'/Users/myoungjikim/2024_Korea_iisw/practice/KoNLP/news'"
      ]
     },
     "execution_count": 13,
     "metadata": {},
     "output_type": "execute_result"
    }
   ],
   "source": [
    "pwd"
   ]
  },
  {
   "cell_type": "code",
   "execution_count": null,
   "id": "83e3eeab-2b63-451a-9b46-e7752e6008bf",
   "metadata": {},
   "outputs": [],
   "source": [
    "# 뉴스 수집기"
   ]
  },
  {
   "cell_type": "code",
   "execution_count": 14,
   "id": "8781f966-3ff4-49ee-812c-f95799a99f21",
   "metadata": {},
   "outputs": [],
   "source": [
    "from requests.compat import urljoin\n",
    "from requests import get\n",
    "from bs4 import BeautifulSoup\n",
    "import re\n",
    "\n",
    "urls = ['https://news.naver.com']\n",
    "seens = []\n",
    "path = './news'\n",
    "\n",
    "while urls:\n",
    "    url = urls.pop(0)\n",
    "    \n",
    "    resp = get(url)\n",
    "    seens.append(url)\n",
    "\n",
    "    if not re.search(r'text\\/html', resp.headers['content-type']):\n",
    "        continue\n",
    "        \n",
    "    dom = BeautifulSoup(resp.text, 'html.parser')\n",
    "    \n",
    "    # 1번 뉴스 메뉴\n",
    "    for a in dom.select('.Nlnb_menu_list > li > a[href]')[1:7]:\n",
    "        nurl = urljoin(url, a.attrs['href'])\n",
    "        if nurl not in urls and nurl not in seens:\n",
    "            urls.append(nurl)\n",
    "    # 헤드라인\n",
    "    for a in dom.select('[id^=\"_SECTION_HEADLINE_LIST\"] .sa_text_title[href]'):\n",
    "        nurl = urljoin(url, a.attrs['href'])\n",
    "        if nurl not in urls and nurl not in seens:\n",
    "            urls.append(nurl)\n",
    "\n",
    "    # 3번 - 뉴스본문 # 원래는 있는지 없는지 봐야함\n",
    "    c = dom.select_one('#contents')  \n",
    "    if c: \n",
    "        file = re.search(r'(\\d{8,})$',url).group(1)\n",
    "        with open(f'{path}{file}.txt', 'w', encoding='utf8') as f:\n",
    "            f.write(c.get_text())"
   ]
  },
  {
   "cell_type": "code",
   "execution_count": 21,
   "id": "8f0b016f-21a5-413c-bb9d-845f3258fee0",
   "metadata": {
    "scrolled": true
   },
   "outputs": [
    {
     "data": {
      "text/plain": [
       "['./news0014589984.txt',\n",
       " './news0000271121.txt',\n",
       " './news0011689328.txt',\n",
       " './news0002015128.txt',\n",
       " './news0002863576.txt',\n",
       " './news0001684071.txt',\n",
       " './news0003192190.txt',\n",
       " './news0003918372.txt',\n",
       " './news0014589503.txt',\n",
       " './news0007438390.txt',\n",
       " './news0000651852.txt',\n",
       " './news0004318789.txt',\n",
       " './news0000981067.txt',\n",
       " './news0002286172.txt',\n",
       " './news0014590722.txt',\n",
       " './news0001154678.txt',\n",
       " './news0011688732.txt',\n",
       " './news0001154691.txt',\n",
       " './news0005397592.txt',\n",
       " './news0011689225.txt',\n",
       " './news0002015384.txt',\n",
       " './news0005017481.txt',\n",
       " './news0003918040.txt',\n",
       " './news0011689232.txt',\n",
       " './news0005700204.txt',\n",
       " './news0011688689.txt',\n",
       " './news0002285853.txt',\n",
       " './news0002286023.txt',\n",
       " './news0014588941.txt',\n",
       " './news0001154671.txt',\n",
       " './news0012451820.txt',\n",
       " './news0000376392.txt',\n",
       " './news0000792544.txt',\n",
       " './news0005397607.txt',\n",
       " './news0003192138.txt',\n",
       " './news0000980969.txt',\n",
       " './news0007437354.txt',\n",
       " './news0007438311.txt',\n",
       " './news0003918357.txt',\n",
       " './news0011689050.txt',\n",
       " './news0005397099.txt',\n",
       " './news0000075240.txt',\n",
       " './news0003824532.txt',\n",
       " './news0004319001.txt',\n",
       " './news0012452152.txt',\n",
       " './news0002286257.txt',\n",
       " './news0005017394.txt',\n",
       " './news0005700857.txt',\n",
       " './news0014590161.txt',\n",
       " './news0004964996.txt',\n",
       " './news0001141817.txt']"
      ]
     },
     "execution_count": 21,
     "metadata": {},
     "output_type": "execute_result"
    }
   ],
   "source": [
    "from os import listdir\n",
    "def fileids(path):\n",
    "    return list(map(lambda f:path + ('' if path[-1] == '/' else '/')+f, listdir(path)))\n",
    "    \n",
    "fileids('./')"
   ]
  },
  {
   "cell_type": "code",
   "execution_count": 27,
   "id": "087070d6-77b6-4b33-9661-ed5b3b44e6eb",
   "metadata": {},
   "outputs": [
    {
     "name": "stdout",
     "output_type": "stream",
     "text": [
      "0325.ipynb       0327.ipynb       \u001b[1m\u001b[36mnews\u001b[m\u001b[m/\n",
      "0326.ipynb       \u001b[1m\u001b[36mUntitled Folder\u001b[m\u001b[m/\n"
     ]
    }
   ],
   "source": [
    "ls"
   ]
  },
  {
   "cell_type": "code",
   "execution_count": 71,
   "id": "842e1971-cc3e-4790-9a59-147314fd3384",
   "metadata": {},
   "outputs": [],
   "source": [
    "corpus = list()\n",
    "for file in fileids('news'):\n",
    "    with open(fileids('./news')[0], 'r', encoding='utf8') as f:\n",
    "        d = f.read()\n",
    "        corpus.append(  re.sub( r'\\sCopyright.+', '', re.sub( r'^\\s+|\\s+$', '', re.sub( r'\\s+', ' ', re.sub(r'\\x00-\\xff', '', d))))  )"
   ]
  },
  {
   "cell_type": "code",
   "execution_count": 72,
   "id": "ebb73c98-2a68-4294-a227-0142d0a75d70",
   "metadata": {},
   "outputs": [],
   "source": [
    "from nltk.text import Text\n",
    "from nltk.tokenize import word_tokenize\n",
    "from nltk.stem import PorterStemmer  # 어간 추출, 어간: 단어의 줄기\n",
    "import matplotlib as plt"
   ]
  },
  {
   "cell_type": "code",
   "execution_count": 73,
   "id": "e5bba698-a9a9-462d-a271-44e61e4da227",
   "metadata": {},
   "outputs": [
    {
     "data": {
      "text/plain": [
       "('play', 'play', 'play', 'wa')"
      ]
     },
     "execution_count": 73,
     "metadata": {},
     "output_type": "execute_result"
    }
   ],
   "source": [
    "PorterStemmer().stem('play'),\\\n",
    "PorterStemmer().stem('played'),\\\n",
    "PorterStemmer().stem('playing'),\\\n",
    "PorterStemmer().stem('was')  # ==> 이렇게 오류가 나는 지점 때문에 lemma도 필요하다"
   ]
  },
  {
   "cell_type": "code",
   "execution_count": 74,
   "id": "380df739-f437-4749-a565-0803b17f7536",
   "metadata": {},
   "outputs": [],
   "source": [
    "tObj = list()"
   ]
  },
  {
   "cell_type": "code",
   "execution_count": 78,
   "id": "9f2a293d-fe5c-43cd-bf2f-24245d3f57de",
   "metadata": {},
   "outputs": [],
   "source": [
    "from konlpy.tag import Hannanum, Kkma, Komoran, Okt\n",
    "\n",
    "ma = [Hannanum(), Kkma(), Komoran(), Okt()]"
   ]
  },
  {
   "cell_type": "code",
   "execution_count": 88,
   "id": "eae8128d-e7fb-4560-81b4-17ce154788b5",
   "metadata": {},
   "outputs": [
    {
     "ename": "TypeError",
     "evalue": "unsupported operand type(s) for +: 'method' and 'FreqDist'",
     "output_type": "error",
     "traceback": [
      "\u001b[0;31m---------------------------------------------------------------------------\u001b[0m",
      "\u001b[0;31mTypeError\u001b[0m                                 Traceback (most recent call last)",
      "Cell \u001b[0;32mIn[88], line 5\u001b[0m\n\u001b[1;32m      3\u001b[0m         tObj\u001b[38;5;241m.\u001b[39mappend(Text(word_tokenize(d))\u001b[38;5;241m.\u001b[39mvocab)\n\u001b[1;32m      4\u001b[0m     \u001b[38;5;28;01melse\u001b[39;00m:\n\u001b[0;32m----> 5\u001b[0m         tObj\u001b[38;5;241m.\u001b[39mappend(\u001b[43mtObj\u001b[49m\u001b[43m[\u001b[49m\u001b[38;5;241;43m-\u001b[39;49m\u001b[38;5;241;43m1\u001b[39;49m\u001b[43m]\u001b[49m\u001b[43m \u001b[49m\u001b[38;5;241;43m+\u001b[39;49m\u001b[43m \u001b[49m\u001b[43mText\u001b[49m\u001b[43m(\u001b[49m\u001b[43mword_tokenize\u001b[49m\u001b[43m(\u001b[49m\u001b[43md\u001b[49m\u001b[43m)\u001b[49m\u001b[43m)\u001b[49m\u001b[38;5;241;43m.\u001b[39;49m\u001b[43mvocab\u001b[49m\u001b[43m(\u001b[49m\u001b[43m)\u001b[49m)\n\u001b[1;32m      6\u001b[0m \u001b[38;5;28mprint\u001b[39m(tokens)\n",
      "\u001b[0;31mTypeError\u001b[0m: unsupported operand type(s) for +: 'method' and 'FreqDist'"
     ]
    }
   ],
   "source": [
    "for d in corpus:\n",
    "    if len(tObj) == 0:\n",
    "        tObj.append(Text(word_tokenize(d)).vocab)\n",
    "    else:\n",
    "        tObj.append(tObj[-1] + Text(word_tokenize(d)).vocab())\n",
    "print(tokens)"
   ]
  },
  {
   "cell_type": "code",
   "execution_count": 86,
   "id": "dc052969-6175-412d-bfd7-1504c15bda2f",
   "metadata": {},
   "outputs": [
    {
     "ename": "AttributeError",
     "evalue": "'function' object has no attribute 'N'",
     "output_type": "error",
     "traceback": [
      "\u001b[0;31m---------------------------------------------------------------------------\u001b[0m",
      "\u001b[0;31mAttributeError\u001b[0m                            Traceback (most recent call last)",
      "Cell \u001b[0;32mIn[86], line 1\u001b[0m\n\u001b[0;32m----> 1\u001b[0m \u001b[43mtObj\u001b[49m\u001b[43m[\u001b[49m\u001b[38;5;241;43m-\u001b[39;49m\u001b[38;5;241;43m1\u001b[39;49m\u001b[43m]\u001b[49m\u001b[38;5;241;43m.\u001b[39;49m\u001b[43mN\u001b[49m(), tObj[\u001b[38;5;241m-\u001b[39m\u001b[38;5;241m1\u001b[39m]\u001b[38;5;241m.\u001b[39mB()\n",
      "\u001b[0;31mAttributeError\u001b[0m: 'function' object has no attribute 'N'"
     ]
    }
   ],
   "source": [
    "tObj[-1].N(), tObj[-1].B()"
   ]
  },
  {
   "cell_type": "code",
   "execution_count": 87,
   "id": "5aa5caf0-3b24-4a9e-b307-f063fef3e33d",
   "metadata": {},
   "outputs": [
    {
     "ename": "NameError",
     "evalue": "name 'kkmobj' is not defined",
     "output_type": "error",
     "traceback": [
      "\u001b[0;31m---------------------------------------------------------------------------\u001b[0m",
      "\u001b[0;31mNameError\u001b[0m                                 Traceback (most recent call last)",
      "Cell \u001b[0;32mIn[87], line 7\u001b[0m\n\u001b[1;32m      5\u001b[0m     kkmtObj\u001b[38;5;241m.\u001b[39mappend(Text(ma[\u001b[38;5;241m1\u001b[39m]\u001b[38;5;241m.\u001b[39mmorphs(d))\u001b[38;5;241m.\u001b[39mvocab())\n\u001b[1;32m      6\u001b[0m \u001b[38;5;28;01melse\u001b[39;00m:\n\u001b[0;32m----> 7\u001b[0m     kkmtObj\u001b[38;5;241m.\u001b[39mappend(\u001b[43mkkmobj\u001b[49m[\u001b[38;5;241m-\u001b[39m\u001b[38;5;241m1\u001b[39m] \u001b[38;5;241m+\u001b[39m Text(ma[\u001b[38;5;241m1\u001b[39m]\u001b[38;5;241m.\u001b[39mmorphs(d))\u001b[38;5;241m.\u001b[39mvocab())\n",
      "\u001b[0;31mNameError\u001b[0m: name 'kkmobj' is not defined"
     ]
    }
   ],
   "source": [
    "kkmtObj = list()\n",
    "\n",
    "for d in corpus:\n",
    "    if len(kkmtObj) == 0:\n",
    "        kkmtObj.append(Text(ma[1].morphs(d)).vocab())\n",
    "    else:\n",
    "        kkmtObj.append(kkmObj[-1] + Text(ma[1].morphs(d)).vocab())"
   ]
  },
  {
   "cell_type": "code",
   "execution_count": 84,
   "id": "aaf18f98-3f3c-4c66-8aaf-8d5e5e629ea4",
   "metadata": {},
   "outputs": [
    {
     "ename": "AttributeError",
     "evalue": "module 'matplotlib' has no attribute 'plot'",
     "output_type": "error",
     "traceback": [
      "\u001b[0;31m---------------------------------------------------------------------------\u001b[0m",
      "\u001b[0;31mAttributeError\u001b[0m                            Traceback (most recent call last)",
      "Cell \u001b[0;32mIn[84], line 3\u001b[0m\n\u001b[1;32m      1\u001b[0m \u001b[38;5;66;03m# zips laws\u001b[39;00m\n\u001b[1;32m      2\u001b[0m n \u001b[38;5;241m=\u001b[39m \u001b[38;5;241m50\u001b[39m\n\u001b[0;32m----> 3\u001b[0m \u001b[43mplt\u001b[49m\u001b[38;5;241;43m.\u001b[39;49m\u001b[43mplot\u001b[49m([\u001b[38;5;241m1\u001b[39m\u001b[38;5;241m/\u001b[39mi \u001b[38;5;28;01mfor\u001b[39;00m i \u001b[38;5;129;01min\u001b[39;00m \u001b[38;5;28mrange\u001b[39m(\u001b[38;5;241m1\u001b[39m,n\u001b[38;5;241m+\u001b[39m\u001b[38;5;241m1\u001b[39m)], c\u001b[38;5;241m=\u001b[39m\u001b[38;5;124m'\u001b[39m\u001b[38;5;124mk\u001b[39m\u001b[38;5;124m'\u001b[39m)\n\u001b[1;32m      4\u001b[0m plt\u001b[38;5;241m.\u001b[39mplot([r[\u001b[38;5;241m1\u001b[39m]\u001b[38;5;241m/\u001b[39mtObj[\u001b[38;5;241m-\u001b[39m\u001b[38;5;241m1\u001b[39m]\u001b[38;5;241m.\u001b[39mget(tObj[\u001b[38;5;241m-\u001b[39m\u001b[38;5;241m1\u001b[39m]\u001b[38;5;241m.\u001b[39mmax()) \u001b[38;5;28;01mfor\u001b[39;00m r \u001b[38;5;129;01min\u001b[39;00m tObj[\u001b[38;5;241m-\u001b[39m\u001b[38;5;241m1\u001b[39m]\u001b[38;5;241m.\u001b[39mmost_common(n)], c\u001b[38;5;241m=\u001b[39m\u001b[38;5;124m'\u001b[39m\u001b[38;5;124mk\u001b[39m\u001b[38;5;124m'\u001b[39m)\n",
      "File \u001b[0;32m~/2024_Korea_iisw/myvenv2/lib/python3.11/site-packages/matplotlib/_api/__init__.py:217\u001b[0m, in \u001b[0;36mcaching_module_getattr.<locals>.__getattr__\u001b[0;34m(name)\u001b[0m\n\u001b[1;32m    215\u001b[0m \u001b[38;5;28;01mif\u001b[39;00m name \u001b[38;5;129;01min\u001b[39;00m props:\n\u001b[1;32m    216\u001b[0m     \u001b[38;5;28;01mreturn\u001b[39;00m props[name]\u001b[38;5;241m.\u001b[39m\u001b[38;5;21m__get__\u001b[39m(instance)\n\u001b[0;32m--> 217\u001b[0m \u001b[38;5;28;01mraise\u001b[39;00m \u001b[38;5;167;01mAttributeError\u001b[39;00m(\n\u001b[1;32m    218\u001b[0m     \u001b[38;5;124mf\u001b[39m\u001b[38;5;124m\"\u001b[39m\u001b[38;5;124mmodule \u001b[39m\u001b[38;5;132;01m{\u001b[39;00m\u001b[38;5;28mcls\u001b[39m\u001b[38;5;241m.\u001b[39m\u001b[38;5;18m__module__\u001b[39m\u001b[38;5;132;01m!r}\u001b[39;00m\u001b[38;5;124m has no attribute \u001b[39m\u001b[38;5;132;01m{\u001b[39;00mname\u001b[38;5;132;01m!r}\u001b[39;00m\u001b[38;5;124m\"\u001b[39m)\n",
      "\u001b[0;31mAttributeError\u001b[0m: module 'matplotlib' has no attribute 'plot'"
     ]
    }
   ],
   "source": [
    "# zips laws\n",
    "n = 50\n",
    "plt.plot([1/i for i in range(1,n+1)], c='k')\n",
    "plt.plot([r[1]/tObj[-1].get(tObj[-1].max()) for r in tObj[-1].most_common(n)], c='k')"
   ]
  },
  {
   "cell_type": "code",
   "execution_count": 75,
   "id": "6981a2e8-9250-40c4-8a03-68ccdee66973",
   "metadata": {},
   "outputs": [
    {
     "ename": "AttributeError",
     "evalue": "module 'matplotlib' has no attribute 'plot'",
     "output_type": "error",
     "traceback": [
      "\u001b[0;31m---------------------------------------------------------------------------\u001b[0m",
      "\u001b[0;31mAttributeError\u001b[0m                            Traceback (most recent call last)",
      "Cell \u001b[0;32mIn[75], line 4\u001b[0m\n\u001b[1;32m      2\u001b[0m k \u001b[38;5;241m=\u001b[39m \u001b[38;5;241m12\u001b[39m\n\u001b[1;32m      3\u001b[0m b \u001b[38;5;241m=\u001b[39m \u001b[38;5;241m.48\u001b[39m\n\u001b[0;32m----> 4\u001b[0m \u001b[43mplt\u001b[49m\u001b[38;5;241;43m.\u001b[39;49m\u001b[43mplot\u001b[49m([k\u001b[38;5;241m.\u001b[39mB() \u001b[38;5;28;01mfor\u001b[39;00m k \u001b[38;5;129;01min\u001b[39;00m kkmtObj], c\u001b[38;5;241m=\u001b[39m\u001b[38;5;124m'\u001b[39m\u001b[38;5;124mk\u001b[39m\u001b[38;5;124m'\u001b[39m)\n\u001b[1;32m      5\u001b[0m plt\u001b[38;5;241m.\u001b[39mplot([\u001b[38;5;241m12\u001b[39m\u001b[38;5;241m*\u001b[39mk\u001b[38;5;241m.\u001b[39mN() \u001b[38;5;28;01mfor\u001b[39;00m k \u001b[38;5;129;01min\u001b[39;00m kkmtObj], c\u001b[38;5;241m=\u001b[39m\u001b[38;5;124m'\u001b[39m\u001b[38;5;124mr\u001b[39m\u001b[38;5;124m'\u001b[39m)\n",
      "File \u001b[0;32m~/2024_Korea_iisw/myvenv2/lib/python3.11/site-packages/matplotlib/_api/__init__.py:217\u001b[0m, in \u001b[0;36mcaching_module_getattr.<locals>.__getattr__\u001b[0;34m(name)\u001b[0m\n\u001b[1;32m    215\u001b[0m \u001b[38;5;28;01mif\u001b[39;00m name \u001b[38;5;129;01min\u001b[39;00m props:\n\u001b[1;32m    216\u001b[0m     \u001b[38;5;28;01mreturn\u001b[39;00m props[name]\u001b[38;5;241m.\u001b[39m\u001b[38;5;21m__get__\u001b[39m(instance)\n\u001b[0;32m--> 217\u001b[0m \u001b[38;5;28;01mraise\u001b[39;00m \u001b[38;5;167;01mAttributeError\u001b[39;00m(\n\u001b[1;32m    218\u001b[0m     \u001b[38;5;124mf\u001b[39m\u001b[38;5;124m\"\u001b[39m\u001b[38;5;124mmodule \u001b[39m\u001b[38;5;132;01m{\u001b[39;00m\u001b[38;5;28mcls\u001b[39m\u001b[38;5;241m.\u001b[39m\u001b[38;5;18m__module__\u001b[39m\u001b[38;5;132;01m!r}\u001b[39;00m\u001b[38;5;124m has no attribute \u001b[39m\u001b[38;5;132;01m{\u001b[39;00mname\u001b[38;5;132;01m!r}\u001b[39;00m\u001b[38;5;124m\"\u001b[39m)\n",
      "\u001b[0;31mAttributeError\u001b[0m: module 'matplotlib' has no attribute 'plot'"
     ]
    }
   ],
   "source": [
    "# heaps laws\n",
    "k = 12\n",
    "b = .48\n",
    "plt.plot([k.B() for k in kkmtObj], c='k')\n",
    "plt.plot([12*k.N() for k in kkmtObj], c='r')"
   ]
  },
  {
   "cell_type": "code",
   "execution_count": 89,
   "id": "7c6663a9-d727-4139-8f7f-b1036e9b4042",
   "metadata": {},
   "outputs": [],
   "source": [
    "def ngram(s,n=2,t=True):  #음절이냐, 어절이냐의 차이로 해본다.  # t=True; 어절  t=False; 음절\n",
    "    result  = []\n",
    "    if not t:\n",
    "        s = list(s)\n",
    "\n",
    "    for i in range(len(s)-(n-1)):\n",
    "        result.append(tuple(s[i:i+n]))\n",
    "        \n",
    "    return result"
   ]
  },
  {
   "cell_type": "code",
   "execution_count": null,
   "id": "95aac099-882b-426b-9809-a91764e1a387",
   "metadata": {},
   "outputs": [],
   "source": []
  }
 ],
 "metadata": {
  "kernelspec": {
   "display_name": "Python 3 (ipykernel)",
   "language": "python",
   "name": "python3"
  },
  "language_info": {
   "codemirror_mode": {
    "name": "ipython",
    "version": 3
   },
   "file_extension": ".py",
   "mimetype": "text/x-python",
   "name": "python",
   "nbconvert_exporter": "python",
   "pygments_lexer": "ipython3",
   "version": "3.11.8"
  }
 },
 "nbformat": 4,
 "nbformat_minor": 5
}
