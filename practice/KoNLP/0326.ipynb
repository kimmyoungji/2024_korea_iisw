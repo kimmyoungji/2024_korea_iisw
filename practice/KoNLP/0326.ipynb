{
 "cells": [
  {
   "cell_type": "markdown",
   "metadata": {},
   "source": [
    "# konlpy"
   ]
  },
  {
   "cell_type": "code",
   "execution_count": null,
   "metadata": {},
   "outputs": [],
   "source": [
    "Preprocessing => tokenizing => sentence(의미를 가지는 단위) => tokens(word, regexp, tweet, tokenizer)\n",
    "                                                            split(기호) + P, MA(형태소 분석기 konlpy)"
   ]
  },
  {
   "cell_type": "code",
   "execution_count": 4,
   "metadata": {},
   "outputs": [],
   "source": [
    "from konlpy.tag import Hannanum, Kkma, Komoran, Okt # 껍데기만 파이썬이고, 실제는 JAVA에서 돌아간다."
   ]
  },
  {
   "cell_type": "code",
   "execution_count": 5,
   "metadata": {},
   "outputs": [],
   "source": [
    "# core\n",
    "# Java - Jpype - api/Python"
   ]
  },
  {
   "cell_type": "code",
   "execution_count": 6,
   "metadata": {},
   "outputs": [
    {
     "name": "stderr",
     "output_type": "stream",
     "text": [
      "OpenJDK 64-Bit Server VM warning: Attempt to protect stack guard pages failed.\n",
      "OpenJDK 64-Bit Server VM warning: Attempt to deallocate stack guard pages failed.\n"
     ]
    }
   ],
   "source": [
    "han = Hannanum()\n",
    "kkm = Kkma()\n",
    "kom = Komoran()\n",
    "okt = Okt()"
   ]
  },
  {
   "cell_type": "code",
   "execution_count": 10,
   "metadata": {},
   "outputs": [
    {
     "data": {
      "text/plain": [
       "(29, 67, 45, 19)"
      ]
     },
     "execution_count": 10,
     "metadata": {},
     "output_type": "execute_result"
    }
   ],
   "source": [
    "han.tagset.__len__(), kkm.tagset.__len__(), kom.tagset.__len__(), okt.tagset.__len__(), "
   ]
  },
  {
   "cell_type": "code",
   "execution_count": 14,
   "metadata": {},
   "outputs": [],
   "source": [
    "# 형태소 분석기 다 특징이 다르다."
   ]
  },
  {
   "cell_type": "code",
   "execution_count": 20,
   "metadata": {},
   "outputs": [
    {
     "name": "stderr",
     "output_type": "stream",
     "text": [
      "[nltk_data] Downloading package tagsets to\n",
      "[nltk_data]     /Users/myoungjikim/nltk_data...\n",
      "[nltk_data]   Unzipping help/tagsets.zip.\n"
     ]
    }
   ],
   "source": [
    "import nltk\n",
    "nltk.download('tagsets')\n",
    "from nltk.tokenize import treebank\n",
    "from nltk.tag import pos_tag\n",
    "from nltk.help import upenn_tagset"
   ]
  },
  {
   "cell_type": "code",
   "execution_count": 21,
   "metadata": {},
   "outputs": [
    {
     "name": "stdout",
     "output_type": "stream",
     "text": [
      "$: dollar\n",
      "    $ -$ --$ A$ C$ HK$ M$ NZ$ S$ U.S.$ US$\n",
      "'': closing quotation mark\n",
      "    ' ''\n",
      "(: opening parenthesis\n",
      "    ( [ {\n",
      "): closing parenthesis\n",
      "    ) ] }\n",
      ",: comma\n",
      "    ,\n",
      "--: dash\n",
      "    --\n",
      ".: sentence terminator\n",
      "    . ! ?\n",
      ":: colon or ellipsis\n",
      "    : ; ...\n",
      "CC: conjunction, coordinating\n",
      "    & 'n and both but either et for less minus neither nor or plus so\n",
      "    therefore times v. versus vs. whether yet\n",
      "CD: numeral, cardinal\n",
      "    mid-1890 nine-thirty forty-two one-tenth ten million 0.5 one forty-\n",
      "    seven 1987 twenty '79 zero two 78-degrees eighty-four IX '60s .025\n",
      "    fifteen 271,124 dozen quintillion DM2,000 ...\n",
      "DT: determiner\n",
      "    all an another any both del each either every half la many much nary\n",
      "    neither no some such that the them these this those\n",
      "EX: existential there\n",
      "    there\n",
      "FW: foreign word\n",
      "    gemeinschaft hund ich jeux habeas Haementeria Herr K'ang-si vous\n",
      "    lutihaw alai je jour objets salutaris fille quibusdam pas trop Monte\n",
      "    terram fiche oui corporis ...\n",
      "IN: preposition or conjunction, subordinating\n",
      "    astride among uppon whether out inside pro despite on by throughout\n",
      "    below within for towards near behind atop around if like until below\n",
      "    next into if beside ...\n",
      "JJ: adjective or numeral, ordinal\n",
      "    third ill-mannered pre-war regrettable oiled calamitous first separable\n",
      "    ectoplasmic battery-powered participatory fourth still-to-be-named\n",
      "    multilingual multi-disciplinary ...\n",
      "JJR: adjective, comparative\n",
      "    bleaker braver breezier briefer brighter brisker broader bumper busier\n",
      "    calmer cheaper choosier cleaner clearer closer colder commoner costlier\n",
      "    cozier creamier crunchier cuter ...\n",
      "JJS: adjective, superlative\n",
      "    calmest cheapest choicest classiest cleanest clearest closest commonest\n",
      "    corniest costliest crassest creepiest crudest cutest darkest deadliest\n",
      "    dearest deepest densest dinkiest ...\n",
      "LS: list item marker\n",
      "    A A. B B. C C. D E F First G H I J K One SP-44001 SP-44002 SP-44005\n",
      "    SP-44007 Second Third Three Two * a b c d first five four one six three\n",
      "    two\n",
      "MD: modal auxiliary\n",
      "    can cannot could couldn't dare may might must need ought shall should\n",
      "    shouldn't will would\n",
      "NN: noun, common, singular or mass\n",
      "    common-carrier cabbage knuckle-duster Casino afghan shed thermostat\n",
      "    investment slide humour falloff slick wind hyena override subhumanity\n",
      "    machinist ...\n",
      "NNP: noun, proper, singular\n",
      "    Motown Venneboerger Czestochwa Ranzer Conchita Trumplane Christos\n",
      "    Oceanside Escobar Kreisler Sawyer Cougar Yvette Ervin ODI Darryl CTCA\n",
      "    Shannon A.K.C. Meltex Liverpool ...\n",
      "NNPS: noun, proper, plural\n",
      "    Americans Americas Amharas Amityvilles Amusements Anarcho-Syndicalists\n",
      "    Andalusians Andes Andruses Angels Animals Anthony Antilles Antiques\n",
      "    Apache Apaches Apocrypha ...\n",
      "NNS: noun, common, plural\n",
      "    undergraduates scotches bric-a-brac products bodyguards facets coasts\n",
      "    divestitures storehouses designs clubs fragrances averages\n",
      "    subjectivists apprehensions muses factory-jobs ...\n",
      "PDT: pre-determiner\n",
      "    all both half many quite such sure this\n",
      "POS: genitive marker\n",
      "    ' 's\n",
      "PRP: pronoun, personal\n",
      "    hers herself him himself hisself it itself me myself one oneself ours\n",
      "    ourselves ownself self she thee theirs them themselves they thou thy us\n",
      "PRP$: pronoun, possessive\n",
      "    her his mine my our ours their thy your\n",
      "RB: adverb\n",
      "    occasionally unabatingly maddeningly adventurously professedly\n",
      "    stirringly prominently technologically magisterially predominately\n",
      "    swiftly fiscally pitilessly ...\n",
      "RBR: adverb, comparative\n",
      "    further gloomier grander graver greater grimmer harder harsher\n",
      "    healthier heavier higher however larger later leaner lengthier less-\n",
      "    perfectly lesser lonelier longer louder lower more ...\n",
      "RBS: adverb, superlative\n",
      "    best biggest bluntest earliest farthest first furthest hardest\n",
      "    heartiest highest largest least less most nearest second tightest worst\n",
      "RP: particle\n",
      "    aboard about across along apart around aside at away back before behind\n",
      "    by crop down ever fast for forth from go high i.e. in into just later\n",
      "    low more off on open out over per pie raising start teeth that through\n",
      "    under unto up up-pp upon whole with you\n",
      "SYM: symbol\n",
      "    % & ' '' ''. ) ). * + ,. < = > @ A[fj] U.S U.S.S.R * ** ***\n",
      "TO: \"to\" as preposition or infinitive marker\n",
      "    to\n",
      "UH: interjection\n",
      "    Goodbye Goody Gosh Wow Jeepers Jee-sus Hubba Hey Kee-reist Oops amen\n",
      "    huh howdy uh dammit whammo shucks heck anyways whodunnit honey golly\n",
      "    man baby diddle hush sonuvabitch ...\n",
      "VB: verb, base form\n",
      "    ask assemble assess assign assume atone attention avoid bake balkanize\n",
      "    bank begin behold believe bend benefit bevel beware bless boil bomb\n",
      "    boost brace break bring broil brush build ...\n",
      "VBD: verb, past tense\n",
      "    dipped pleaded swiped regummed soaked tidied convened halted registered\n",
      "    cushioned exacted snubbed strode aimed adopted belied figgered\n",
      "    speculated wore appreciated contemplated ...\n",
      "VBG: verb, present participle or gerund\n",
      "    telegraphing stirring focusing angering judging stalling lactating\n",
      "    hankerin' alleging veering capping approaching traveling besieging\n",
      "    encrypting interrupting erasing wincing ...\n",
      "VBN: verb, past participle\n",
      "    multihulled dilapidated aerosolized chaired languished panelized used\n",
      "    experimented flourished imitated reunifed factored condensed sheared\n",
      "    unsettled primed dubbed desired ...\n",
      "VBP: verb, present tense, not 3rd person singular\n",
      "    predominate wrap resort sue twist spill cure lengthen brush terminate\n",
      "    appear tend stray glisten obtain comprise detest tease attract\n",
      "    emphasize mold postpone sever return wag ...\n",
      "VBZ: verb, present tense, 3rd person singular\n",
      "    bases reconstructs marks mixes displeases seals carps weaves snatches\n",
      "    slumps stretches authorizes smolders pictures emerges stockpiles\n",
      "    seduces fizzes uses bolsters slaps speaks pleads ...\n",
      "WDT: WH-determiner\n",
      "    that what whatever which whichever\n",
      "WP: WH-pronoun\n",
      "    that what whatever whatsoever which who whom whosoever\n",
      "WP$: WH-pronoun, possessive\n",
      "    whose\n",
      "WRB: Wh-adverb\n",
      "    how however whence whenever where whereby whereever wherein whereof why\n",
      "``: opening quotation mark\n",
      "    ` ``\n"
     ]
    }
   ],
   "source": [
    "upenn_tagset()"
   ]
  },
  {
   "cell_type": "code",
   "execution_count": 22,
   "metadata": {},
   "outputs": [],
   "source": [
    "from nltk.corpus import gutenberg\n",
    "emma = gutenberg.open(gutenberg.fileids()[0]).read()"
   ]
  },
  {
   "cell_type": "code",
   "execution_count": 31,
   "metadata": {},
   "outputs": [],
   "source": [
    "from nltk.text import Text\n",
    "from nltk.tokenize import word_tokenize\n",
    "\n",
    "t1 = Text(word_tokenize(emma))\n",
    "tokenizer = treebank.TreebankWordDetokenizer()     # 뭐가 이렇구나 라는 걸까?\n",
    "t2 = Text(tokenizer.tokenize(emma)) "
   ]
  },
  {
   "cell_type": "code",
   "execution_count": 32,
   "metadata": {},
   "outputs": [
    {
     "data": {
      "text/plain": [
       "[((',', 12016), (' ', 1017134)),\n",
       " (('.', 6355), ('e', 84518)),\n",
       " (('to', 5125), ('t', 58069)),\n",
       " (('the', 4844), ('a', 53669)),\n",
       " (('and', 4653), ('o', 52893)),\n",
       " (('of', 4272), ('n', 46986)),\n",
       " (('I', 3177), ('i', 42590)),\n",
       " (('--', 3100), ('s', 41555)),\n",
       " (('a', 3001), ('h', 40828)),\n",
       " ((\"''\", 2452), ('r', 40698)),\n",
       " (('was', 2383), ('d', 28328)),\n",
       " (('her', 2360), ('l', 27539)),\n",
       " ((';', 2353), ('u', 20605)),\n",
       " (('not', 2242), ('m', 17909)),\n",
       " (('in', 2103), ('\\n', 16822)),\n",
       " (('it', 2103), ('y', 15267)),\n",
       " (('be', 1965), ('w', 14935)),\n",
       " (('she', 1774), ('c', 14815)),\n",
       " (('``', 1735), ('f', 14598)),\n",
       " (('that', 1729), ('g', 13525))]"
      ]
     },
     "execution_count": 32,
     "metadata": {},
     "output_type": "execute_result"
    }
   ],
   "source": [
    "list(zip(t1.vocab().most_common(20), t2.vocab().most_common(20)))"
   ]
  },
  {
   "cell_type": "code",
   "execution_count": 33,
   "metadata": {},
   "outputs": [],
   "source": [
    "# 우리나라 말에서는 명사가 중요하다.\n",
    "data='아버지가방에들어가신다.'"
   ]
  },
  {
   "cell_type": "code",
   "execution_count": 34,
   "metadata": {},
   "outputs": [
    {
     "data": {
      "text/plain": [
       "[('아버지가방에들어가', 'N'), ('이', 'J'), ('시ㄴ다', 'E'), ('.', 'S')]"
      ]
     },
     "execution_count": 34,
     "metadata": {},
     "output_type": "execute_result"
    }
   ],
   "source": [
    "han.pos(data)  # 최장일치, 최단일치 ? "
   ]
  },
  {
   "cell_type": "code",
   "execution_count": 35,
   "metadata": {},
   "outputs": [
    {
     "data": {
      "text/plain": [
       "[('아버지', 'NNG'),\n",
       " ('가방', 'NNG'),\n",
       " ('에', 'JKM'),\n",
       " ('들어가', 'VV'),\n",
       " ('시', 'EPH'),\n",
       " ('ㄴ다', 'EFN'),\n",
       " ('.', 'SF')]"
      ]
     },
     "execution_count": 35,
     "metadata": {},
     "output_type": "execute_result"
    }
   ],
   "source": [
    "kkm.pos(data)"
   ]
  },
  {
   "cell_type": "code",
   "execution_count": 36,
   "metadata": {},
   "outputs": [
    {
     "data": {
      "text/plain": [
       "[('아버지', 'NNG'),\n",
       " ('가방', 'NNP'),\n",
       " ('에', 'JKB'),\n",
       " ('들어가', 'VV'),\n",
       " ('시', 'EP'),\n",
       " ('ㄴ다', 'EF'),\n",
       " ('.', 'SF')]"
      ]
     },
     "execution_count": 36,
     "metadata": {},
     "output_type": "execute_result"
    }
   ],
   "source": [
    "kom.pos(data)"
   ]
  },
  {
   "cell_type": "code",
   "execution_count": 37,
   "metadata": {},
   "outputs": [
    {
     "data": {
      "text/plain": [
       "[('아버지', 'Noun'),\n",
       " ('가방', 'Noun'),\n",
       " ('에', 'Josa'),\n",
       " ('들어가신다', 'Verb'),\n",
       " ('.', 'Punctuation')]"
      ]
     },
     "execution_count": 37,
     "metadata": {},
     "output_type": "execute_result"
    }
   ],
   "source": [
    "okt.pos(data)    "
   ]
  },
  {
   "cell_type": "code",
   "execution_count": null,
   "metadata": {},
   "outputs": [],
   "source": [
    "# mecab 추천, 도커 사용해라. 리눅스에서 돌아간다. -> 왜 한국어가 되는가? "
   ]
  },
  {
   "cell_type": "code",
   "execution_count": 38,
   "metadata": {},
   "outputs": [],
   "source": [
    "# 명가는 의미파악에 중요하기 때문에, 따로 추출하는 기능이 있다."
   ]
  },
  {
   "cell_type": "code",
   "execution_count": 40,
   "metadata": {},
   "outputs": [
    {
     "data": {
      "text/plain": [
       "[('알잘딱깔센', 'N')]"
      ]
     },
     "execution_count": 40,
     "metadata": {},
     "output_type": "execute_result"
    }
   ],
   "source": [
    "han.pos('알잘딱깔센')"
   ]
  },
  {
   "cell_type": "code",
   "execution_count": 41,
   "metadata": {},
   "outputs": [
    {
     "data": {
      "text/plain": [
       "[('알', 'NNG'),\n",
       " ('잘', 'MAG'),\n",
       " ('딱', 'MAG'),\n",
       " ('깔', 'VV'),\n",
       " ('ㄹ', 'ETD'),\n",
       " ('세', 'VV'),\n",
       " ('ㄴ', 'ETD')]"
      ]
     },
     "execution_count": 41,
     "metadata": {},
     "output_type": "execute_result"
    }
   ],
   "source": [
    "kkm.pos('알잘딱깔센')"
   ]
  },
  {
   "cell_type": "code",
   "execution_count": 42,
   "metadata": {},
   "outputs": [
    {
     "data": {
      "text/plain": [
       "[('알', 'NNG'),\n",
       " ('잘', 'MAG'),\n",
       " ('딱', 'MAG'),\n",
       " ('깔', 'VV'),\n",
       " ('ㄹ', 'ETM'),\n",
       " ('센', 'NNP')]"
      ]
     },
     "execution_count": 42,
     "metadata": {},
     "output_type": "execute_result"
    }
   ],
   "source": [
    "kom.pos('알잘딱깔센')   #pos가 무엇의 줄임말인가? -> "
   ]
  },
  {
   "cell_type": "code",
   "execution_count": 43,
   "metadata": {},
   "outputs": [
    {
     "data": {
      "text/plain": [
       "[('알잘', 'Verb'), ('딱', 'VerbPrefix'), ('깔', 'Verb'), ('센', 'Verb')]"
      ]
     },
     "execution_count": 43,
     "metadata": {},
     "output_type": "execute_result"
    }
   ],
   "source": [
    "okt.pos('알잘딱깔센')"
   ]
  },
  {
   "cell_type": "code",
   "execution_count": null,
   "metadata": {},
   "outputs": [],
   "source": [
    "# corpus는 시대상을 반영한다. 그래서 시대에 사용하는 언어 자료들을 사용하여 만든다. \n",
    "# 말뭉치는 여러 상황을 담을 수 있게끔 언어 자료를 잘 모아야 한다.\n",
    "# 띄어쓰기가 잘 안되어 있어서 분석하기 어려울 수있다     -> 맞춤법 검사기를 돌려서 사용할 순 없나? "
   ]
  },
  {
   "cell_type": "markdown",
   "metadata": {},
   "source": [
    "# 자연어의 특징"
   ]
  },
  {
   "cell_type": "code",
   "execution_count": 45,
   "metadata": {
    "scrolled": true
   },
   "outputs": [],
   "source": [
    "# Zipf's Law"
   ]
  },
  {
   "cell_type": "code",
   "execution_count": 51,
   "metadata": {},
   "outputs": [
    {
     "data": {
      "text/plain": [
       "[(' ', 1017134),\n",
       " ('e', 84518),\n",
       " ('t', 58069),\n",
       " ('a', 53669),\n",
       " ('o', 52893),\n",
       " ('n', 46986),\n",
       " ('i', 42590),\n",
       " ('s', 41555),\n",
       " ('h', 40828),\n",
       " ('r', 40698),\n",
       " ('d', 28328),\n",
       " ('l', 27539),\n",
       " ('u', 20605),\n",
       " ('m', 17909),\n",
       " ('\\n', 16822),\n",
       " ('y', 15267),\n",
       " ('w', 14935),\n",
       " ('c', 14815),\n",
       " ('f', 14598),\n",
       " ('g', 13525),\n",
       " (',', 12018),\n",
       " ('b', 10533),\n",
       " ('p', 10284),\n",
       " ('.', 8882),\n",
       " ('v', 7645),\n",
       " ('-', 6774),\n",
       " ('k', 4351),\n",
       " ('\"', 4187),\n",
       " ('I', 4016),\n",
       " ('M', 2796),\n",
       " (';', 2353),\n",
       " ('H', 1740),\n",
       " ('E', 1503),\n",
       " ('W', 1355),\n",
       " ('x', 1346),\n",
       " ('T', 1132),\n",
       " (\"'\", 1116),\n",
       " ('!', 1063),\n",
       " ('S', 953),\n",
       " ('q', 895),\n",
       " ('_', 741),\n",
       " ('A', 710),\n",
       " ('j', 688),\n",
       " ('C', 647),\n",
       " ('?', 621),\n",
       " ('B', 598),\n",
       " ('F', 542),\n",
       " ('Y', 439),\n",
       " ('J', 433),\n",
       " ('K', 412)]"
      ]
     },
     "execution_count": 51,
     "metadata": {},
     "output_type": "execute_result"
    }
   ],
   "source": [
    "t2.vocab().most_common(50)"
   ]
  },
  {
   "cell_type": "code",
   "execution_count": 47,
   "metadata": {},
   "outputs": [],
   "source": [
    "import matplotlib.pylab as plt"
   ]
  },
  {
   "cell_type": "code",
   "execution_count": 52,
   "metadata": {},
   "outputs": [
    {
     "data": {
      "text/plain": [
       "[<matplotlib.lines.Line2D at 0x2b6b3a1d0>]"
      ]
     },
     "execution_count": 52,
     "metadata": {},
     "output_type": "execute_result"
    },
    {
     "data": {
      "image/png": "[encoded data removed]",
      "text/plain": [
       "<Figure size 640x480 with 1 Axes>"
      ]
     },
     "metadata": {},
     "output_type": "display_data"
    }
   ],
   "source": [
    "plt.plot([1/i for i in range(1,51)])\n",
    "plt.plot([r[1]/12016 for r in t1.vocab().most_common(50) ])  # 왜 12016으로 나누지? \n",
    "plt.plot([r[1]/1017134 for r in t2.vocab().most_common(50) ])"
   ]
  },
  {
   "cell_type": "code",
   "execution_count": 55,
   "metadata": {},
   "outputs": [],
   "source": [
    "from konlpy.corpus import kolaw, kobill"
   ]
  },
  {
   "cell_type": "code",
   "execution_count": 57,
   "metadata": {},
   "outputs": [],
   "source": [
    "law = kolaw.open(kolaw.fileids()[0]).read() "
   ]
  },
  {
   "cell_type": "code",
   "execution_count": 72,
   "metadata": {},
   "outputs": [
    {
     "name": "stderr",
     "output_type": "stream",
     "text": [
      "[nltk_data] Downloading package averaged_perceptron_tagger to\n",
      "[nltk_data]     /Users/myoungjikim/nltk_data...\n",
      "[nltk_data]   Package averaged_perceptron_tagger is already up-to-\n",
      "[nltk_data]       date!\n"
     ]
    }
   ],
   "source": [
    "from nltk.tokenize import regexp_tokenize\n",
    "from nltk.tag import pos_tag  # part of speech tagging\n",
    "nltk.download('averaged_perceptron_tagger')\n",
    "\n",
    "kt1 = Text(law.split())\n",
    "kt2 = Text(word_tokenize(law))\n",
    "kt3 = Text(regexp_tokenize(law,r'\\b\\w+\\b'))\n",
    "kt4 = Text(pos_tag(word_tokenize(law)))\n",
    "kt5 = Text(han.morphs(law))\n",
    "kt6 = Text(kkm.morphs(law))\n",
    "kt7 = Text(kom.morphs(law))\n",
    "kt8 = Text(okt.morphs(law))\n",
    "kt9 = Text(han.pos(law))\n",
    "kt10 = Text(kkm.pos(law))\n",
    "kt11 = Text(kom.pos(law))\n",
    "kt12 = Text(okt.pos(law))"
   ]
  },
  {
   "cell_type": "code",
   "execution_count": 205,
   "metadata": {},
   "outputs": [
    {
     "name": "stdout",
     "output_type": "stream",
     "text": [
      "The history saving thread hit an unexpected error (OperationalError('attempt to write a readonly database')).History will not be written to the database."
     ]
    },
    {
     "data": {
      "text/plain": [
       "FreqDist({'수': 87, '①': 75, '또는': 70, '의하여': 66, '법률이': 57, '있다.': 57, '한다.': 56, '정하는': 50, '그': 44, '때에는': 42, ...})"
      ]
     },
     "execution_count": 205,
     "metadata": {},
     "output_type": "execute_result"
    },
    {
     "name": "stdout",
     "output_type": "stream",
     "text": [
      "\n"
     ]
    }
   ],
   "source": [
    "kt1.vocab()\n"
   ]
  },
  {
   "cell_type": "code",
   "execution_count": 76,
   "metadata": {},
   "outputs": [
    {
     "data": {
      "text/plain": [
       "[<matplotlib.lines.Line2D at 0x2b9f201d0>]"
      ]
     },
     "execution_count": 76,
     "metadata": {},
     "output_type": "execute_result"
    },
    {
     "data": {
      "image/png": "[encoded data removed]",
      "text/plain": [
       "<Figure size 640x480 with 1 Axes>"
      ]
     },
     "metadata": {},
     "output_type": "display_data"
    }
   ],
   "source": [
    "n = 50\n",
    "plt.plot([1/i for i in range(1,n+1)], c='k')\n",
    "plt.plot([r[1]/kt1.count(kt1.vocab().max()) for r in kt1.vocab().most_common(n)],c='r')\n",
    "plt.plot([r[1]/kt2.count(kt2.vocab().max()) for r in kt2.vocab().most_common(n)],c='g')\n",
    "plt.plot([r[1]/kt3.count(kt3.vocab().max()) for r in kt3.vocab().most_common(n)],c='b')\n",
    "plt.plot([r[1]/kt4.count(kt4.vocab().max()) for r in kt4.vocab().most_common(n)],c='c')"
   ]
  },
  {
   "cell_type": "code",
   "execution_count": 87,
   "metadata": {},
   "outputs": [
    {
     "data": {
      "text/plain": [
       "[<matplotlib.lines.Line2D at 0x2bc134590>]"
      ]
     },
     "execution_count": 87,
     "metadata": {},
     "output_type": "execute_result"
    },
    {
     "data": {
      "image/png": "[encoded data removed]",
      "text/plain": [
       "<Figure size 640x480 with 1 Axes>"
      ]
     },
     "metadata": {},
     "output_type": "display_data"
    }
   ],
   "source": [
    "n = 50\n",
    "plt.plot([1/i for i in range(1,n+1)], c='k')\n",
    "plt.plot([r[1]/kt5.count(kt5.vocab().max()) for r in kt5.vocab().most_common(n)],c='r')\n",
    "plt.plot([r[1]/kt6.count(kt6.vocab().max()) for r in kt6.vocab().most_common(n)],c='g')\n",
    "plt.plot([r[1]/kt7.count(kt7.vocab().max()) for r in kt7.vocab().most_common(n)],c='b')\n",
    "plt.plot([r[1]/kt8.count(kt8.vocab().max()) for r in kt8.vocab().most_common(n)],c='c')\n",
    "plt.plot([r[1]/kt9.count(kt9.vocab().max()) for r in kt9.vocab().most_common(n)],c='y')\n",
    "plt.plot([r[1]/kt10.count(kt10.vocab().max()) for r in kt10.vocab().most_common(n)],c='k')\n",
    "plt.plot([r[1]/kt11.count(kt11.vocab().max()) for r in kt11.vocab().most_common(n)],c='g')\n",
    "plt.plot([r[1]/kt12.count(kt12.vocab().max()) for r in kt12.vocab().most_common(n)],c='r')"
   ]
  },
  {
   "cell_type": "code",
   "execution_count": 63,
   "metadata": {},
   "outputs": [],
   "source": [
    "# 한글로된 zipf's law"
   ]
  },
  {
   "cell_type": "code",
   "execution_count": 86,
   "metadata": {},
   "outputs": [
    {
     "data": {
      "text/plain": [
       "[[('의', 532),\n",
       "  ('하', 457),\n",
       "  ('.', 359),\n",
       "  ('에', 328),\n",
       "  ('는', 281),\n",
       "  ('ㄴ다', 243),\n",
       "  ('ㄴ', 234),\n",
       "  ('을', 232),\n",
       "  ('은', 195),\n",
       "  ('이', 192)],\n",
       " [(('의', 'JKG'), 532),\n",
       "  (('.', 'SF'), 359),\n",
       "  (('하', 'XSV'), 350),\n",
       "  (('에', 'JKM'), 328),\n",
       "  (('ㄴ다', 'EFN'), 243),\n",
       "  (('ㄴ', 'ETD'), 234),\n",
       "  (('을', 'JKO'), 211),\n",
       "  (('은', 'JX'), 182),\n",
       "  (('는', 'JX'), 180),\n",
       "  (('저', 'NP'), 155)]]"
      ]
     },
     "execution_count": 86,
     "metadata": {},
     "output_type": "execute_result"
    }
   ],
   "source": [
    "[ kt6.vocab().most_common(10), kt10.vocab().most_common(10)] "
   ]
  },
  {
   "cell_type": "markdown",
   "metadata": {},
   "source": [
    "### zip's law에 적용되는지 관측해봄으로써, 내가 사용하는 형태소분석기가 적절한지, 데이터 셋이 믿을만한지를 판단할 수 있다.\n",
    "### 자연어의 특징: 상위 50개의 단어가 대부분의 문장과 대화들로 구성된다."
   ]
  },
  {
   "cell_type": "markdown",
   "metadata": {},
   "source": [
    "# 전처리"
   ]
  },
  {
   "cell_type": "code",
   "execution_count": 89,
   "metadata": {},
   "outputs": [
    {
     "data": {
      "text/plain": [
       "(191785, 8406)"
      ]
     },
     "execution_count": 89,
     "metadata": {},
     "output_type": "execute_result"
    }
   ],
   "source": [
    "t1.vocab().N(), t1.vocab().B()"
   ]
  },
  {
   "cell_type": "code",
   "execution_count": 94,
   "metadata": {},
   "outputs": [
    {
     "name": "stdout",
     "output_type": "stream",
     "text": [
      ", 0.06265349219177725 0.06265349219177725\n",
      ". 0.03313606382146675 0.03313606382146675\n",
      "to 0.026722632114086087 0.026722632114086087\n",
      "the 0.025257449748416195 0.025257449748416195\n",
      "and 0.024261542873530256 0.024261542873530256\n",
      "of 0.022274943295878195 0.022274943295878195\n",
      "I 0.016565424824673464 0.016565424824673464\n",
      "-- 0.016163933571447194 0.016163933571447194\n",
      "a 0.015647730531584848 0.015647730531584848\n",
      "'' 0.012785150037802747 0.012785150037802747\n",
      "was 0.012425372161535051 0.012425372161535051\n",
      "her 0.012305446202779154 0.012305446202779154\n",
      "; 0.012268946997940402 0.012268946997940402\n",
      "not 0.011690173892640196 0.011690173892640196\n",
      "in 0.010965403967984982 0.010965403967984982\n",
      "it 0.010965403967984982 0.010965403967984982\n",
      "be 0.010245848215449592 0.010245848215449592\n",
      "she 0.009249941340563651 0.009249941340563651\n",
      "`` 0.009046588627890607 0.009046588627890607\n",
      "that 0.009015303595171676 0.009015303595171676\n",
      "you 0.008676382407383268 0.008676382407383268\n",
      "had 0.00836874625231379 0.00836874625231379\n",
      "as 0.007232056730192664 0.007232056730192664\n",
      "he 0.0071173449435565864 0.0071173449435565864\n",
      "for 0.0068827071981646115 0.0068827071981646115\n",
      "have 0.006783637927887999 0.006783637927887999\n",
      "is 0.006366504158302266 0.006366504158302266\n",
      "with 0.006178793961988685 0.006178793961988685\n",
      "very 0.006001512109914748 0.006001512109914748\n",
      "but 0.0059858695935552835 0.0059858695935552835\n",
      "Mr. 0.005688661782725448 0.005688661782725448\n",
      "his 0.0056521625778866965 0.0056521625778866965\n",
      "! 0.005542664963370441 0.005542664963370441\n",
      "at 0.0051933154313423885 0.0051933154313423885\n",
      "so 0.004786610005996298 0.004786610005996298\n",
      "'s 0.004515473055765571 0.004515473055765571\n",
      "Emma 0.004458117162447532 0.004458117162447532\n",
      "all 0.004332977031571812 0.004332977031571812\n",
      "could 0.00429647782673306 0.00429647782673306\n",
      "would 0.004239121933415022 0.004239121933415022\n",
      "been 0.0039366999504653645 0.0039366999504653645\n",
      "him 0.0039002007456266133 0.0039002007456266133\n",
      "on 0.003514352008759809 0.003514352008759809\n",
      "Mrs. 0.003483066976040879 0.003483066976040879\n",
      "any 0.0033944260500039106 0.0033944260500039106\n",
      "? 0.0032380008864092602 0.0032380008864092602\n",
      "my 0.003227572542169617 0.003227572542169617\n",
      "no 0.003211930025810152 0.003211930025810152\n",
      "Miss 0.0030867898949344316 0.0030867898949344316\n",
      "were 0.0030763615506947885 0.0030763615506947885\n"
     ]
    },
    {
     "data": {
      "text/plain": [
       "(98964.0, 0.5160153296660321)"
      ]
     },
     "execution_count": 94,
     "metadata": {},
     "output_type": "execute_result"
    }
   ],
   "source": [
    "# 상위 50개의 빈도와 비율을 출력, 단어들을 보면 사실 불용어가 많다.\n",
    "n = 10\n",
    "s1 = 0.0 # 빈도 누적\n",
    "s2 = 0.0 # 비율 누적\n",
    "for r in t1.vocab().most_common(50):\n",
    "    s1 += r[1]\n",
    "    s2 += r[1]/t1.vocab().N()\n",
    "    print(r[0], r[1]/t1.vocab().N(), t1.vocab().freq(r[0]))\n",
    "\n",
    "s1,s2 "
   ]
  },
  {
   "cell_type": "code",
   "execution_count": 95,
   "metadata": {},
   "outputs": [
    {
     "name": "stdout",
     "output_type": "stream",
     "text": [
      "의 0.0027739395677451313 0.0\n",
      "하 0.0023828766587585056 0.0\n",
      ". 0.0018718877910159815 0.03313606382146675\n",
      "에 0.0017102484553015095 0.0\n",
      "는 0.0014651823656698908 0.0\n",
      "ㄴ다 0.001267043825116667 0.0\n",
      "ㄴ 0.001220116276038272 0.0\n",
      "을 0.0012096879317986286 0.0\n",
      "은 0.0010167635633652266 0.0\n",
      "이 0.0010011210470057617 0.0\n",
      "저 0.0008081966785723597 0.0\n",
      "여 0.0007769116458534296 0.0\n",
      "· 0.0007560549573741429 0.0\n",
      "ㄹ 0.0007351982688948562 0.0\n",
      "조 0.0007091274082957478 0.0\n",
      "를 0.0007039132361759262 0.0\n",
      "법률 0.0006309148264984228 0.0\n",
      "되 0.0005892014495398493 0.0\n",
      ", 0.0005266313841019892 0.06265349219177725\n",
      "있 0.0005162030398623459 0.0\n",
      "다 0.0004588471465443074 0.0\n",
      "정하 0.0004588471465443074 0.0\n",
      "수 0.0004588471465443074 0.0\n",
      "대통령 0.00043799045806502073 0.0\n",
      "의하 0.00043277628594519906 0.0\n",
      "과 0.0004275621138253774 0.0\n",
      "① 0.0004067054253460907 0.0\n",
      "② 0.0004067054253460907 0.0\n",
      "국가 0.0003806345647469823 0.0\n",
      "헌법 0.0003597778762676956 0.0\n"
     ]
    },
    {
     "data": {
      "text/plain": [
       "(5159.0, 0.02689991396616002)"
      ]
     },
     "execution_count": 95,
     "metadata": {},
     "output_type": "execute_result"
    }
   ],
   "source": [
    "# 상위 50개의 빈도와 비율을 출력, 단어들을 보면 사실 불용어가 많다.\n",
    "n = 30\n",
    "s1 = 0.0 # 빈도 누적\n",
    "s2 = 0.0 # 비율 누적\n",
    "for r in kt6.vocab().most_common(n):\n",
    "    s1 += r[1]\n",
    "    s2 += r[1]/t1.vocab().N()\n",
    "    print(r[0], r[1]/t1.vocab().N(), t1.vocab().freq(r[0]))  # 단어, 단어수/전체수(이 단어가 전체글에서 나타난 비율)\n",
    "\n",
    "s1,s2 "
   ]
  },
  {
   "cell_type": "code",
   "execution_count": 96,
   "metadata": {},
   "outputs": [
    {
     "data": {
      "text/plain": [
       "(10053, 1247)"
      ]
     },
     "execution_count": 96,
     "metadata": {},
     "output_type": "execute_result"
    }
   ],
   "source": [
    "kt6.vocab().N(), kt6.vocab().B() "
   ]
  },
  {
   "cell_type": "code",
   "execution_count": 121,
   "metadata": {},
   "outputs": [
    {
     "data": {
      "text/plain": [
       "(191785.0, 1.0000000000000047)"
      ]
     },
     "execution_count": 121,
     "metadata": {},
     "output_type": "execute_result"
    }
   ],
   "source": [
    "n = 8406\n",
    "s1 = 0.0 # 빈도 누적\n",
    "s2 = 0.0 # 비율 누적\n",
    "for r in t1.vocab().most_common()[::-1][:n]:\n",
    "    s1 += r[1]\n",
    "    s2 += r[1]/t1.vocab().N()\n",
    "    # print(r[0], r[1]/t1.vocab().N(), t1.vocab().freq(r[0]))  # 단어, 단어수/전체수(이 단어가 전체글에서 나타난 비율)\n",
    "\n",
    "s1,s2   # 전체 단어수, 비율 누적"
   ]
  },
  {
   "cell_type": "code",
   "execution_count": 122,
   "metadata": {},
   "outputs": [
    {
     "data": {
      "text/plain": [
       "(961.0, 0.00501081940714871)"
      ]
     },
     "execution_count": 122,
     "metadata": {},
     "output_type": "execute_result"
    }
   ],
   "source": [
    "n = 800\n",
    "s1 = 0.0 # 빈도 누적\n",
    "s2 = 0.0 # 비율 누적\n",
    "# 가장 빈도수가 높은\n",
    "for r in kt6.vocab().most_common(n)[::-1][:n]:\n",
    "    s1 += r[1]\n",
    "    s2 += r[1]/t1.vocab().N()\n",
    "    # print(r[0], r[1]/t1.vocab().N(), t1.vocab().freq(r[0]))  # 단어, 단어수/전체수(이 단어가 전체글에서 나타난 비율)\n",
    "\n",
    "s1,s2   # 전체 단어수, 비율 누적"
   ]
  },
  {
   "cell_type": "code",
   "execution_count": 128,
   "metadata": {},
   "outputs": [
    {
     "data": {
      "text/plain": [
       "(9, 1156, 1247)"
      ]
     },
     "execution_count": 128,
     "metadata": {},
     "output_type": "execute_result"
    }
   ],
   "source": [
    "threshold = .3\n",
    "\n",
    "s = 0.0\n",
    "mfw = list()\n",
    "mrw = list()\n",
    "\n",
    "for r in kt6.vocab().most_common():   # 고빈도 단어 자르기\n",
    "    s += kt6.vocab().freq(r[0])\n",
    "\n",
    "    if s > threshold:\n",
    "        break\n",
    "\n",
    "    mfw.append(r[0])\n",
    "\n",
    "s = 0.0\n",
    "for r in kt6.vocab().most_common()[::-1]:   # 저빈도 단어 자르기\n",
    "    s += kt6.vocab().freq(r[0])\n",
    "\n",
    "    if s > threshold:\n",
    "        break\n",
    "\n",
    "    mrw.append(r[0])\n",
    "\n",
    "len(mfw), len(mrw), 1247\n"
   ]
  },
  {
   "cell_type": "code",
   "execution_count": 127,
   "metadata": {},
   "outputs": [
    {
     "data": {
      "text/plain": [
       "82"
      ]
     },
     "execution_count": 127,
     "metadata": {},
     "output_type": "execute_result"
    }
   ],
   "source": [
    "1247 - (9+1156)"
   ]
  },
  {
   "cell_type": "code",
   "execution_count": 129,
   "metadata": {
    "scrolled": true
   },
   "outputs": [
    {
     "data": {
      "text/plain": [
       "['②',\n",
       " ',',\n",
       " '선거',\n",
       " '의무',\n",
       " '제',\n",
       " '임기',\n",
       " 'ㄹ',\n",
       " '있',\n",
       " '가지',\n",
       " '사항',\n",
       " '대통령',\n",
       " '여야',\n",
       " '직무',\n",
       " '바',\n",
       " '정하',\n",
       " '이상',\n",
       " '으로',\n",
       " '조직',\n",
       " '때',\n",
       " '국가',\n",
       " '가',\n",
       " '대하',\n",
       " '그',\n",
       " '임명',\n",
       " '로',\n",
       " '·',\n",
       " '경제',\n",
       " '국민',\n",
       " '여',\n",
       " '위원',\n",
       " '①',\n",
       " '관하',\n",
       " '거나',\n",
       " '아니하',\n",
       " '1',\n",
       " '와',\n",
       " '의하',\n",
       " '3',\n",
       " '국무',\n",
       " '지',\n",
       " '며',\n",
       " '고',\n",
       " '이',\n",
       " '의원',\n",
       " '기타',\n",
       " '모든',\n",
       " '권리',\n",
       " '조',\n",
       " '에서',\n",
       " '법원',\n",
       " '를',\n",
       " '의결',\n",
       " '저',\n",
       " '2',\n",
       " '수',\n",
       " '필요',\n",
       " '어야',\n",
       " '또는',\n",
       " '헌법',\n",
       " '없',\n",
       " '및',\n",
       " '경우',\n",
       " '국',\n",
       " '공무원',\n",
       " '③',\n",
       " '되',\n",
       " '회의',\n",
       " '항',\n",
       " '얻',\n",
       " '과',\n",
       " '일',\n",
       " '정부',\n",
       " '국회',\n",
       " '보장',\n",
       " '자유',\n",
       " '국회의원',\n",
       " '기',\n",
       " '위하',\n",
       " '법률',\n",
       " '④',\n",
       " '받',\n",
       " '다']"
      ]
     },
     "execution_count": 129,
     "metadata": {},
     "output_type": "execute_result"
    }
   ],
   "source": [
    "list(set(kt6.tokens) - set(mfw) - set(mrw)) "
   ]
  },
  {
   "cell_type": "code",
   "execution_count": 130,
   "metadata": {},
   "outputs": [],
   "source": [
    "k = 10, 100\n",
    "b = .4, .6"
   ]
  },
  {
   "cell_type": "code",
   "execution_count": 136,
   "metadata": {},
   "outputs": [],
   "source": [
    "heaps = []\n",
    "heaps.append(Text(word_tokenize(gutenberg.open(gutenberg.fileids()[0]).read())).vocab())\n",
    "for file in gutenberg.fileids()[1:]:\n",
    "    corpus = gutenberg.open(file).read()\n",
    "    heaps.append(heaps[-1] + Text(word_tokenize(corpus)).vocab())"
   ]
  },
  {
   "cell_type": "code",
   "execution_count": 138,
   "metadata": {},
   "outputs": [
    {
     "data": {
      "text/plain": [
       "(18, 191785, 2538838, 8406, 61835)"
      ]
     },
     "execution_count": 138,
     "metadata": {},
     "output_type": "execute_result"
    }
   ],
   "source": [
    "len(heaps), heaps[0].N(), heaps[-1].N(), heaps[0].B(), heaps[-1].B(),"
   ]
  },
  {
   "cell_type": "code",
   "execution_count": 147,
   "metadata": {},
   "outputs": [
    {
     "data": {
      "text/plain": [
       "[<matplotlib.lines.Line2D at 0x2beb746d0>]"
      ]
     },
     "execution_count": 147,
     "metadata": {},
     "output_type": "execute_result"
    },
    {
     "data": {
      "image/png": "[encoded data removed]",
      "text/plain": [
       "<Figure size 640x480 with 1 Axes>"
      ]
     },
     "metadata": {},
     "output_type": "display_data"
    }
   ],
   "source": [
    "k = 15\n",
    "b = .55\n",
    "plt.plot([h.B() for h in heaps],c='b')\n",
    "plt.plot([k*h.N()**b for h in heaps],c='y')"
   ]
  },
  {
   "cell_type": "code",
   "execution_count": 148,
   "metadata": {},
   "outputs": [],
   "source": [
    "# 데이터를 아무리 수집해도 단어의 최대 수는 8000개 아래"
   ]
  },
  {
   "cell_type": "code",
   "execution_count": 149,
   "metadata": {},
   "outputs": [
    {
     "data": {
      "text/plain": [
       "2095.025430717325"
      ]
     },
     "execution_count": 149,
     "metadata": {},
     "output_type": "execute_result"
    }
   ],
   "source": [
    "(k*1000000**b) * .07"
   ]
  },
  {
   "cell_type": "code",
   "execution_count": 150,
   "metadata": {},
   "outputs": [
    {
     "data": {
      "text/plain": [
       "0.9342421812349639"
      ]
     },
     "execution_count": 150,
     "metadata": {},
     "output_type": "execute_result"
    }
   ],
   "source": [
    "(9+1156)/1247"
   ]
  },
  {
   "cell_type": "code",
   "execution_count": null,
   "metadata": {},
   "outputs": [],
   "source": [
    "k = 10, 100 # 이게 뭐였지?\n",
    "b = .4, .6  # 이게 뭐였지? "
   ]
  },
  {
   "cell_type": "code",
   "execution_count": 151,
   "metadata": {},
   "outputs": [],
   "source": [
    "heaps = []\n",
    "heaps.append(Text(kkm.morphs(kobill.open(kobill.fileids()[0]).read())).vocab())\n",
    "for file in kobill.fileids()[1:]:\n",
    "    corpus = kobill.open(file).read()\n",
    "    heaps.append(heaps[-1] + Text(kkm.morphs(corpus)).vocab())"
   ]
  },
  {
   "cell_type": "code",
   "execution_count": 152,
   "metadata": {},
   "outputs": [
    {
     "data": {
      "text/plain": [
       "(21686, 254.73463536595145)"
      ]
     },
     "execution_count": 152,
     "metadata": {},
     "output_type": "execute_result"
    }
   ],
   "source": [
    "heaps[-1].N(), (k*heaps[-1].N()**b) * .07"
   ]
  },
  {
   "cell_type": "code",
   "execution_count": null,
   "metadata": {},
   "outputs": [],
   "source": [
    "# 이걸 잘 이해하면 모델의 사이즈를 예상 할 수 있다.\n",
    "# 오늘 배운 경험적인 법칙들을 꼭 기억하자. \n"
   ]
  },
  {
   "cell_type": "markdown",
   "metadata": {},
   "source": [
    "# Ngram\n",
    "## N개의 token으로 구성된 시퀀스 freq(A,B,C...) => P(A,B,C...) => 결합확률\n",
    "                            P(?|A,B) = P(A,B.?)/P(A,B)\n",
    "                                     = freq(A,B,?)/N  / freq(A,B)/N\n",
    "                                     = freq(A,B,?) / freq(A,B)\n",
    "## 가장 간단한, 통계를 기반으로 하는 자연어 처리 모델"
   ]
  },
  {
   "cell_type": "code",
   "execution_count": 155,
   "metadata": {},
   "outputs": [],
   "source": [
    "def ngram(s,n=2,t=True):  #음절이냐, 어절이냐의 차이로 해본다.  # t=True; 어절  t=False; 음절\n",
    "    result  = []\n",
    "    if not t:\n",
    "        s = list(s)\n",
    "\n",
    "    for i in range(len(s)-(n-1)):\n",
    "        result.append(''.join(s[i:i+n]))\n",
    "        \n",
    "    return result"
   ]
  },
  {
   "cell_type": "code",
   "execution_count": 156,
   "metadata": {},
   "outputs": [
    {
     "data": {
      "text/plain": [
       "['아버', '버지', '지가', '가방', '방에', '에들', '들어', '어가', '가신', '신다', '다.']"
      ]
     },
     "execution_count": 156,
     "metadata": {},
     "output_type": "execute_result"
    }
   ],
   "source": [
    "ngram('아버지가방에들어가신다.',t=False)  # 음절"
   ]
  },
  {
   "cell_type": "code",
   "execution_count": 158,
   "metadata": {},
   "outputs": [
    {
     "data": {
      "text/plain": [
       "['아버지가방에', '방에들어가신다.']"
      ]
     },
     "execution_count": 158,
     "metadata": {},
     "output_type": "execute_result"
    }
   ],
   "source": [
    "ngram('아버지가 방에 들어가신다.'.split())  # 어절"
   ]
  },
  {
   "cell_type": "code",
   "execution_count": 164,
   "metadata": {},
   "outputs": [],
   "source": [
    "tokens = kkm.morphs(law)"
   ]
  },
  {
   "cell_type": "code",
   "execution_count": 162,
   "metadata": {},
   "outputs": [],
   "source": [
    "bigram = Text(ngram(tokens))"
   ]
  },
  {
   "cell_type": "code",
   "execution_count": 165,
   "metadata": {},
   "outputs": [],
   "source": [
    "unigram = Text(ngram(tokens, n=1))"
   ]
  },
  {
   "cell_type": "code",
   "execution_count": 176,
   "metadata": {},
   "outputs": [
    {
     "name": "stdout",
     "output_type": "stream",
     "text": [
      "대통령으로서 1 0.011904761904761904\n",
      "대통령후보자 1 0.011904761904761904\n",
      "대통령또는 1 0.011904761904761904\n",
      "대통령소속하 1 0.011904761904761904\n",
      "대통령으로 2 0.023809523809523808\n",
      "대통령은 28 0.3333333333333333\n",
      "대통령이 21 0.25\n",
      "대통령제 1 0.011904761904761904\n",
      "대통령령을 1 0.011904761904761904\n",
      "대통령령의 1 0.011904761904761904\n",
      "대통령과 1 0.011904761904761904\n",
      "대통령및 1 0.011904761904761904\n",
      "대통령에 2 0.023809523809523808\n",
      "대통령의 14 0.16666666666666666\n",
      "대통령선거 1 0.011904761904761904\n",
      "대통령에게 2 0.023809523809523808\n",
      "대통령령안 1 0.011904761904761904\n",
      "대통령을 3 0.03571428571428571\n",
      "대통령당선자 1 0.011904761904761904\n",
      "대통령· 3 0.03571428571428571\n"
     ]
    },
    {
     "data": {
      "text/plain": [
       "(84, 87, 1.0357142857142854)"
      ]
     },
     "execution_count": 176,
     "metadata": {},
     "output_type": "execute_result"
    }
   ],
   "source": [
    "# NLU\n",
    "seed = '대통령'\n",
    "s = 0.0\n",
    "c = 0\n",
    "seed_tokens = list(set(filter(lambda t:t.startswith(seed), bigram.tokens)))\n",
    "for t in seed_tokens:\n",
    "    s += bigram.count(t)/unigram.count(seed)\n",
    "    c += bigram.count(t)\n",
    "    print(t,bigram.count(t), bigram.count(t)/unigram.count(seed))\n",
    "\n",
    "unigram.count(seed), c, s"
   ]
  },
  {
   "cell_type": "code",
   "execution_count": 177,
   "metadata": {
    "scrolled": true
   },
   "outputs": [
    {
     "name": "stdout",
     "output_type": "stream",
     "text": [
      "은대법관 1 0.005128205128205128\n",
      "은청구 1 0.005128205128205128\n",
      "은공개 1 0.005128205128205128\n",
      "은3 1 0.005128205128205128\n",
      "은재적 1 0.005128205128205128\n",
      "은법률안 1 0.005128205128205128\n",
      "은즉시 1 0.005128205128205128\n",
      "은직업 1 0.005128205128205128\n",
      "은정부 1 0.005128205128205128\n",
      "은국제법 1 0.005128205128205128\n",
      "은차기 1 0.005128205128205128\n",
      "은대법원 1 0.005128205128205128\n",
      "은통신 1 0.005128205128205128\n",
      "은그때 1 0.005128205128205128\n",
      "은국회 10 0.05128205128205128\n",
      "은군인 1 0.005128205128205128\n",
      "은법관 1 0.005128205128205128\n",
      "은인간 3 0.015384615384615385\n",
      "은탄핵 2 0.010256410256410256\n",
      "은고문 1 0.005128205128205128\n",
      "은자유 1 0.005128205128205128\n",
      "은신속 1 0.005128205128205128\n",
      "은저 6 0.03076923076923077\n",
      "은확정 1 0.005128205128205128\n",
      "은원장 2 0.010256410256410256\n",
      "은신체 1 0.005128205128205128\n",
      "은세입 1 0.005128205128205128\n",
      "은거주 1 0.005128205128205128\n",
      "은비상계엄 1 0.005128205128205128\n",
      "은당 1 0.005128205128205128\n",
      "은상당 1 0.005128205128205128\n",
      "은위원 1 0.005128205128205128\n",
      "은환경 1 0.005128205128205128\n",
      "은직전 1 0.005128205128205128\n",
      "은이르 3 0.015384615384615385\n",
      "은내우 1 0.005128205128205128\n",
      "은국무총리 2 0.010256410256410256\n",
      "은현행 1 0.005128205128205128\n",
      "은취임 1 0.005128205128205128\n",
      "은대통령 3 0.015384615384615385\n",
      "은국제 1 0.005128205128205128\n",
      "은자 3 0.015384615384615385\n",
      "은법 1 0.005128205128205128\n",
      "은최고 1 0.005128205128205128\n",
      "은청렴 1 0.005128205128205128\n",
      "은조국 1 0.005128205128205128\n",
      "은건강 1 0.005128205128205128\n",
      "은통일 1 0.005128205128205128\n",
      "은소급 1 0.005128205128205128\n",
      "은1988 1 0.005128205128205128\n",
      "은정당 2 0.010256410256410256\n",
      "은현역 2 0.010256410256410256\n",
      "은국민 6 0.03076923076923077\n",
      "은때 3 0.015384615384615385\n",
      "은내란 1 0.005128205128205128\n",
      "은필요 1 0.005128205128205128\n",
      "은이에 1 0.005128205128205128\n",
      "은개인 1 0.005128205128205128\n",
      "은근로 2 0.010256410256410256\n",
      "은준수 1 0.005128205128205128\n",
      "은회기 1 0.005128205128205128\n",
      "은조약 1 0.005128205128205128\n",
      "은언론 1 0.005128205128205128\n",
      "은전시 1 0.005128205128205128\n",
      "은주거 1 0.005128205128205128\n",
      "은국가 5 0.02564102564102564\n",
      "은행위시 1 0.005128205128205128\n",
      "은지체 1 0.005128205128205128\n",
      "은보건 1 0.005128205128205128\n",
      "은소관 1 0.005128205128205128\n",
      "은특별 1 0.005128205128205128\n",
      "은출석 1 0.005128205128205128\n",
      "은자기 1 0.005128205128205128\n",
      "은국정 1 0.005128205128205128\n",
      "은대한민국 1 0.005128205128205128\n",
      "은대법원장 1 0.005128205128205128\n",
      "은종교 1 0.005128205128205128\n",
      "은공직 1 0.005128205128205128\n",
      "은유죄 1 0.005128205128205128\n",
      "은헌법 6 0.03076923076923077\n",
      "은사생활 1 0.005128205128205128\n",
      "은이 5 0.02564102564102564\n",
      "은효력 1 0.005128205128205128\n",
      "은능력 1 0.005128205128205128\n",
      "은면제 1 0.005128205128205128\n",
      "은무상 1 0.005128205128205128\n",
      "은그 5 0.02564102564102564\n",
      "은손해 1 0.005128205128205128\n",
      "은보장 1 0.005128205128205128\n",
      "은의결 1 0.005128205128205128\n",
      "은민주 1 0.005128205128205128\n",
      "은국무 3 0.015384615384615385\n",
      "은각급 1 0.005128205128205128\n",
      "은법률 44 0.22564102564102564\n",
      "은학문 1 0.005128205128205128\n",
      "은사항 1 0.005128205128205128\n",
      "은타인 1 0.005128205128205128\n",
      "은양심 1 0.005128205128205128\n"
     ]
    },
    {
     "data": {
      "text/plain": [
       "(195, 195, 0.9999999999999992)"
      ]
     },
     "execution_count": 177,
     "metadata": {},
     "output_type": "execute_result"
    }
   ],
   "source": [
    "# NLU\n",
    "seed = '은' # 대통령 은(0.33) 법률(0.22)\n",
    "s = 0.0\n",
    "c = 0\n",
    "seed_tokens = list(set(filter(lambda t:t.startswith(seed), bigram.tokens)))\n",
    "for t in seed_tokens:\n",
    "    s += bigram.count(t)/unigram.count(seed)\n",
    "    c += bigram.count(t)\n",
    "    print(t,bigram.count(t), bigram.count(t)/unigram.count(seed))\n",
    "\n",
    "unigram.count(seed), c, s"
   ]
  },
  {
   "cell_type": "code",
   "execution_count": 183,
   "metadata": {},
   "outputs": [
    {
     "name": "stdout",
     "output_type": "stream",
     "text": [
      "('대통령은', 0.3333333333333333)\n",
      "('은법률', 0.22564102564102564)\n",
      "('법률이', 0.48760330578512395)\n",
      "('이정하', 0.2916666666666667)\n",
      "('정하는', 0.5681818181818182)\n",
      "('는바', 0.13167259786476868)\n",
      "('바에', 1.0)\n",
      "('에의하', 0.2530487804878049)\n",
      "('의하여', 0.7951807228915663)\n",
      "('여야하', 0.2080536912751678)\n"
     ]
    }
   ],
   "source": [
    "# NLU -> NLG\n",
    "# seed를 바꿔가면서 볼것이다.\n",
    "import re\n",
    "\n",
    "seed = '대통령' # 대통령 은(0.33) 법률(0.22)\n",
    "s = 0.0\n",
    "c = 0\n",
    "\n",
    "for t in range(10):\n",
    "    result = {}\n",
    "    seed_tokens = list(set(filter(lambda t:t.startswith(seed), bigram.tokens)))\n",
    "    for t in seed_tokens:\n",
    "        result[t] = bigram.count(t)/unigram.count(seed)\n",
    "    n = sorted(result.items(), key=lambda r:r[1], reverse=True)[0]\n",
    "    print(n)\n",
    "    seed = re.sub(seed, '', n[0])\n"
   ]
  },
  {
   "cell_type": "markdown",
   "metadata": {},
   "source": [
    "# 띄어쓰기"
   ]
  },
  {
   "cell_type": "code",
   "execution_count": 190,
   "metadata": {},
   "outputs": [],
   "source": [
    "import re\n",
    "plaw = re.sub(r'^\\s+|\\s+$','',re.sub(r'\\s+',' ',law))"
   ]
  },
  {
   "cell_type": "code",
   "execution_count": 202,
   "metadata": {},
   "outputs": [],
   "source": [
    "trigram = Text(ngram(plaw,n=3, t=False))\n",
    "bigram = Text(ngram(plaw, t=False))\n",
    "unigram = Text(ngram(plaw, n=1, t=False))"
   ]
  },
  {
   "cell_type": "code",
   "execution_count": 204,
   "metadata": {},
   "outputs": [
    {
     "data": {
      "text/plain": [
       "('통령은', 0.3218390804597701)"
      ]
     },
     "execution_count": 204,
     "metadata": {},
     "output_type": "execute_result"
    }
   ],
   "source": [
    "# NLU : NL understanding\n",
    "# NLG : NL Generating\n",
    "\n",
    "seed = '대통령'\n",
    "# bigram => P(B\\A)\n",
    "# trigram => P(C|A,B)\n",
    "s = 0.0\n",
    "c = 0\n",
    "\n",
    "result = {}\n",
    "seed_tokens = list(set(filter(lambda t:t.startswith(seed[-2:]), trigram.tokens)))\n",
    "for t in seed_tokens:\n",
    "    result[t] = trigram.count(t)/bigram.count(seed[-2:]) \n",
    "sorted(result.items(),  key=lambda r:r[1], reverse=True)[0]"
   ]
  },
  {
   "cell_type": "code",
   "execution_count": null,
   "metadata": {},
   "outputs": [],
   "source": []
  },
  {
   "cell_type": "code",
   "execution_count": null,
   "metadata": {},
   "outputs": [],
   "source": []
  }
 ],
 "metadata": {
  "kernelspec": {
   "display_name": "Python 3 (ipykernel)",
   "language": "python",
   "name": "python3"
  },
  "language_info": {
   "codemirror_mode": {
    "name": "ipython",
    "version": 3
   },
   "file_extension": ".py",
   "mimetype": "text/x-python",
   "name": "python",
   "nbconvert_exporter": "python",
   "pygments_lexer": "ipython3",
   "version": "3.11.8"
  }
 },
 "nbformat": 4,
 "nbformat_minor": 4
}
