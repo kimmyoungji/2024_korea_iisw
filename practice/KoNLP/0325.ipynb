{
 "cells": [
  {
   "cell_type": "code",
   "execution_count": null,
   "metadata": {},
   "outputs": [],
   "source": [
    "!python3 -m pip install --upgrade pip\n",
    "!python3 -m pip install konlpy"
   ]
  },
  {
   "cell_type": "code",
   "execution_count": null,
   "metadata": {},
   "outputs": [],
   "source": [
    "from konlpy.tag import Kkma\n",
    "\n",
    "Kkma().pos('아버지가방에들어가신다.')"
   ]
  },
  {
   "cell_type": "code",
   "execution_count": 11,
   "metadata": {},
   "outputs": [
    {
     "name": "stdout",
     "output_type": "stream",
     "text": [
      "Requirement already satisfied: nltk in /Users/myoungjikim/2024_Korea_iisw/myvenv2/lib/python3.11/site-packages (3.8.1)\n",
      "Requirement already satisfied: click in /Users/myoungjikim/2024_Korea_iisw/myvenv2/lib/python3.11/site-packages (from nltk) (8.1.7)\n",
      "Requirement already satisfied: joblib in /Users/myoungjikim/2024_Korea_iisw/myvenv2/lib/python3.11/site-packages (from nltk) (1.3.2)\n",
      "Requirement already satisfied: regex>=2021.8.3 in /Users/myoungjikim/2024_Korea_iisw/myvenv2/lib/python3.11/site-packages (from nltk) (2023.12.25)\n",
      "Requirement already satisfied: tqdm in /Users/myoungjikim/2024_Korea_iisw/myvenv2/lib/python3.11/site-packages (from nltk) (4.66.2)\n"
     ]
    }
   ],
   "source": [
    "!pip install nltk"
   ]
  },
  {
   "cell_type": "code",
   "execution_count": 3,
   "metadata": {},
   "outputs": [],
   "source": [
    "import nltk"
   ]
  },
  {
   "cell_type": "code",
   "execution_count": 4,
   "metadata": {},
   "outputs": [],
   "source": [
    "import nltk"
   ]
  },
  {
   "cell_type": "code",
   "execution_count": 5,
   "metadata": {},
   "outputs": [
    {
     "name": "stderr",
     "output_type": "stream",
     "text": [
      "[nltk_data] Downloading package gutenberg to\n",
      "[nltk_data]     /Users/myoungjikim/nltk_data...\n",
      "[nltk_data]   Package gutenberg is already up-to-date!\n",
      "[nltk_data] Downloading package punkt to\n",
      "[nltk_data]     /Users/myoungjikim/nltk_data...\n",
      "[nltk_data]   Package punkt is already up-to-date!\n",
      "[nltk_data] Downloading package stopwords to\n",
      "[nltk_data]     /Users/myoungjikim/nltk_data...\n",
      "[nltk_data]   Package stopwords is already up-to-date!\n"
     ]
    },
    {
     "data": {
      "text/plain": [
       "True"
      ]
     },
     "execution_count": 5,
     "metadata": {},
     "output_type": "execute_result"
    }
   ],
   "source": [
    "nltk.download('gutenberg')\n",
    "nltk.download('punkt')\n",
    "nltk.download('stopwords')"
   ]
  },
  {
   "cell_type": "code",
   "execution_count": 6,
   "metadata": {},
   "outputs": [],
   "source": [
    "from nltk.corpus import gutenberg"
   ]
  },
  {
   "cell_type": "code",
   "execution_count": 7,
   "metadata": {},
   "outputs": [],
   "source": [
    "corpus = gutenberg.open(gutenberg.fileids()[0]).read()"
   ]
  },
  {
   "cell_type": "code",
   "execution_count": 7,
   "metadata": {},
   "outputs": [],
   "source": [
    "from nltk.tokenize import sent_tokenize, word_tokenize, regexp_tokenize, TweetTokenizer"
   ]
  },
  {
   "cell_type": "markdown",
   "metadata": {},
   "source": [
    "# sent_tokenizer"
   ]
  },
  {
   "cell_type": "code",
   "execution_count": 13,
   "metadata": {},
   "outputs": [
    {
     "data": {
      "text/plain": [
       "116.64780461764313"
      ]
     },
     "execution_count": 13,
     "metadata": {},
     "output_type": "execute_result"
    }
   ],
   "source": [
    "# (문장, ...) ㅌ (문단, ...) ㅌ {문서...}\n",
    "# 문장을 분리\n",
    "len(corpus.splitlines()), len(sent_tokenize(corpus))\n",
    "sum([len(s) for s in sent_tokenize(corpus)])/7493"
   ]
  },
  {
   "cell_type": "code",
   "execution_count": 18,
   "metadata": {},
   "outputs": [
    {
     "data": {
      "text/plain": [
       "['한글에서는 어떻게 문장을 분리하는지 봅시다.', '볼까요?', '볼래요!']"
      ]
     },
     "execution_count": 18,
     "metadata": {},
     "output_type": "execute_result"
    }
   ],
   "source": [
    "sent_tokenize('한글에서는 어떻게 문장을 분리하는지 봅시다. 볼까요? 볼래요!')\n",
    "# 문장을 구분하는 단위기호: white-space . ? ! 등으로 문장이 쪼개진다."
   ]
  },
  {
   "cell_type": "code",
   "execution_count": 22,
   "metadata": {},
   "outputs": [
    {
     "data": {
      "text/plain": [
       "(4, 3)"
      ]
     },
     "execution_count": 22,
     "metadata": {},
     "output_type": "execute_result"
    }
   ],
   "source": [
    "data = '''\n",
    "정부가 26일부터 현장에 복귀하지 않은 전공의를 대상으로 적용하기로 한 면허정지 처분을 무기한 연기할 방침이다. \n",
    "대신 정부와 의사단체 간 협의체를 구성해 의료개혁과 관련한 타협안 모색에 나선다. \n",
    "의대 교수 단체가 집단 사직을 예고한 25일을 하루 앞두고 ‘강(强) 대 강’ 대치를 이어오던 \n",
    "양측이 한발씩 물러서는 모양새다.\n",
    "'''\n",
    "\n",
    "len([s for s in data.splitlines() if len(s) > 1]),len(sent_tokenize(data))"
   ]
  },
  {
   "cell_type": "code",
   "execution_count": 23,
   "metadata": {},
   "outputs": [
    {
     "data": {
      "text/plain": [
       "['\\n정부가 26일부터 현장에 복귀하지 않은 전공의를 대상으로 적용하기로 한 면허정지 처분을 무기한 연기할 방침이다.',\n",
       " '대신 정부와 의사단체 간 협의체를 구성해 의료개혁과 관련한 타협안 모색에 나선다.',\n",
       " '의대 교수 단체가 집단 사직을 예고한 25일을 하루 앞두고 ‘강(强) 대 강’ 대치를 이어오던 \\n양측이 한발씩 물러서는 모양새다.']"
      ]
     },
     "execution_count": 23,
     "metadata": {},
     "output_type": "execute_result"
    }
   ],
   "source": [
    "sent_tokenize(data)"
   ]
  },
  {
   "cell_type": "markdown",
   "metadata": {},
   "source": [
    "# word tokenizer"
   ]
  },
  {
   "cell_type": "code",
   "execution_count": 25,
   "metadata": {},
   "outputs": [
    {
     "data": {
      "text/plain": [
       "(158167, 191785, 17409, 8406)"
      ]
     },
     "execution_count": 25,
     "metadata": {},
     "output_type": "execute_result"
    }
   ],
   "source": [
    "len(corpus.split()), len(word_tokenize(corpus)), \\\n",
    "len(set(corpus.split())), len(set(word_tokenize(corpus)))\n",
    "\n",
    "# 화이트 스페이스로 구별 / 단어 / 화이트스페이스로 구별 후 유니크 / 단어 유니크화"
   ]
  },
  {
   "cell_type": "code",
   "execution_count": 26,
   "metadata": {},
   "outputs": [
    {
     "data": {
      "text/plain": [
       "(43, 51, 43, 48)"
      ]
     },
     "execution_count": 26,
     "metadata": {},
     "output_type": "execute_result"
    }
   ],
   "source": [
    "len(data.split()), len(word_tokenize(data)), \\\n",
    "len(set(data.split())), len(set(word_tokenize(data)))"
   ]
  },
  {
   "cell_type": "code",
   "execution_count": 30,
   "metadata": {},
   "outputs": [
    {
     "data": {
      "text/plain": [
       "{'(',\n",
       " ')',\n",
       " '.',\n",
       " '25일을',\n",
       " '26일부터',\n",
       " '‘',\n",
       " '’',\n",
       " '强',\n",
       " '간',\n",
       " '강',\n",
       " '관련한',\n",
       " '교수',\n",
       " '구성해',\n",
       " '나선다.',\n",
       " '단체가',\n",
       " '대',\n",
       " '대상으로',\n",
       " '대신',\n",
       " '대치를',\n",
       " '면허정지',\n",
       " '모색에',\n",
       " '모양새다',\n",
       " '무기한',\n",
       " '물러서는',\n",
       " '방침이다.',\n",
       " '복귀하지',\n",
       " '사직을',\n",
       " '않은',\n",
       " '앞두고',\n",
       " '양측이',\n",
       " '연기할',\n",
       " '예고한',\n",
       " '의대',\n",
       " '의료개혁과',\n",
       " '의사단체',\n",
       " '이어오던',\n",
       " '적용하기로',\n",
       " '전공의를',\n",
       " '정부가',\n",
       " '정부와',\n",
       " '집단',\n",
       " '처분을',\n",
       " '타협안',\n",
       " '하루',\n",
       " '한',\n",
       " '한발씩',\n",
       " '현장에',\n",
       " '협의체를'}"
      ]
     },
     "execution_count": 30,
     "metadata": {},
     "output_type": "execute_result"
    }
   ],
   "source": [
    "set(word_tokenize(data,preserve_line=True)) "
   ]
  },
  {
   "cell_type": "markdown",
   "metadata": {},
   "source": [
    "# regexp_tokenizer"
   ]
  },
  {
   "cell_type": "code",
   "execution_count": 32,
   "metadata": {},
   "outputs": [
    {
     "data": {
      "text/plain": [
       "(158167, 161983, 17409, 7723)"
      ]
     },
     "execution_count": 32,
     "metadata": {},
     "output_type": "execute_result"
    }
   ],
   "source": [
    "len(corpus.split()), len(regexp_tokenize(corpus,r'\\b\\w+\\b')), \\\n",
    "len(set(corpus.split())), len(set(regexp_tokenize(corpus,r'\\b\\w+\\b')))"
   ]
  },
  {
   "cell_type": "code",
   "execution_count": null,
   "metadata": {},
   "outputs": [],
   "source": [
    "일반적인 모델 구축 과정\n",
    "Tokenizing => Normalizing(Stopwords...) => Feature Selection => Model\n",
    "\n",
    "토크나이저에서 어떤 토큰을 뽑느냐에 따라, 모델의 피쳐가 달라지고 적은 모델로도 더 좋은 성능을 낼 수 있다.\n",
    "보통 BERT 토크나이저를 사용하는데, 바이트 페어 인코딩을 알아야 하고, \n",
    "엔트로피, perplexity => 확률 이용\n",
    "Ngram => P. Markov Assumption 을 사용한다. \n",
    "\n",
    "어절, 음절, 형태소를 보고 분리한다,\n",
    "분리해주는 기능을 토크나이저라고 한다. 어떤 토크나이저를 사용하느냐에 따라\n",
    "토크나이지으 결과가 달라진다.\n"
   ]
  },
  {
   "cell_type": "code",
   "execution_count": 33,
   "metadata": {},
   "outputs": [],
   "source": [
    "tt = TweetTokenizer()"
   ]
  },
  {
   "cell_type": "code",
   "execution_count": 36,
   "metadata": {},
   "outputs": [
    {
     "data": {
      "text/plain": [
       "([':)', '=(', ')'], [':', ')'])"
      ]
     },
     "execution_count": 36,
     "metadata": {},
     "output_type": "execute_result"
    }
   ],
   "source": [
    "tt.tokenize(':) =()'), word_tokenize(':)')"
   ]
  },
  {
   "cell_type": "code",
   "execution_count": 37,
   "metadata": {},
   "outputs": [
    {
     "data": {
      "text/plain": [
       "(193228, 193228)"
      ]
     },
     "execution_count": 37,
     "metadata": {},
     "output_type": "execute_result"
    }
   ],
   "source": [
    "len(tt.tokenize(corpus)), len(tt.tokenize(corpus))"
   ]
  },
  {
   "cell_type": "code",
   "execution_count": null,
   "metadata": {},
   "outputs": [],
   "source": [
    "token => 어절 음절 단어 형태소 어간 어미 어근 접사 구 품사 청크... 다 토큰이 될 수 있다.\n",
    "한글일 때는 형태소 분석기를 사용하고, 추가적으로 확률을 이용한 형태소 분석기를 사용한다."
   ]
  },
  {
   "cell_type": "code",
   "execution_count": 8,
   "metadata": {},
   "outputs": [],
   "source": [
    "from nltk.text import Text"
   ]
  },
  {
   "cell_type": "code",
   "execution_count": 9,
   "metadata": {},
   "outputs": [
    {
     "ename": "NameError",
     "evalue": "name 'corpus' is not defined",
     "output_type": "error",
     "traceback": [
      "\u001b[0;31m---------------------------------------------------------------------------\u001b[0m",
      "\u001b[0;31mNameError\u001b[0m                                 Traceback (most recent call last)",
      "Cell \u001b[0;32mIn[9], line 1\u001b[0m\n\u001b[0;32m----> 1\u001b[0m t \u001b[38;5;241m=\u001b[39m Text(word_tokenize(\u001b[43mcorpus\u001b[49m))\n",
      "\u001b[0;31mNameError\u001b[0m: name 'corpus' is not defined"
     ]
    }
   ],
   "source": [
    "t = Text(word_tokenize(corpus))"
   ]
  },
  {
   "cell_type": "code",
   "execution_count": 44,
   "metadata": {},
   "outputs": [
    {
     "data": {
      "text/plain": [
       "['_CONTEXT_RE',\n",
       " '_COPY_TOKENS',\n",
       " '__class__',\n",
       " '__delattr__',\n",
       " '__dict__',\n",
       " '__dir__',\n",
       " '__doc__',\n",
       " '__eq__',\n",
       " '__format__',\n",
       " '__ge__',\n",
       " '__getattribute__',\n",
       " '__getitem__',\n",
       " '__getstate__',\n",
       " '__gt__',\n",
       " '__hash__',\n",
       " '__init__',\n",
       " '__init_subclass__',\n",
       " '__le__',\n",
       " '__len__',\n",
       " '__lt__',\n",
       " '__module__',\n",
       " '__ne__',\n",
       " '__new__',\n",
       " '__reduce__',\n",
       " '__reduce_ex__',\n",
       " '__repr__',\n",
       " '__setattr__',\n",
       " '__sizeof__',\n",
       " '__str__',\n",
       " '__subclasshook__',\n",
       " '__weakref__',\n",
       " '_context',\n",
       " '_train_default_ngram_lm',\n",
       " 'collocation_list',\n",
       " 'collocations',\n",
       " 'common_contexts',\n",
       " 'concordance',\n",
       " 'concordance_list',\n",
       " 'count',\n",
       " 'dispersion_plot',\n",
       " 'findall',\n",
       " 'generate',\n",
       " 'index',\n",
       " 'name',\n",
       " 'plot',\n",
       " 'readability',\n",
       " 'similar',\n",
       " 'tokens',\n",
       " 'vocab']"
      ]
     },
     "execution_count": 44,
     "metadata": {},
     "output_type": "execute_result"
    }
   ],
   "source": [
    "dir(t)"
   ]
  },
  {
   "cell_type": "code",
   "execution_count": 45,
   "metadata": {},
   "outputs": [
    {
     "data": {
      "text/plain": [
       "855"
      ]
     },
     "execution_count": 45,
     "metadata": {},
     "output_type": "execute_result"
    }
   ],
   "source": [
    "t.count('Emma')"
   ]
  },
  {
   "cell_type": "code",
   "execution_count": 46,
   "metadata": {},
   "outputs": [
    {
     "data": {
      "text/plain": [
       "(8406, 191785, 191785)"
      ]
     },
     "execution_count": 46,
     "metadata": {},
     "output_type": "execute_result"
    }
   ],
   "source": [
    "t.vocab().B(), t.vocab().N(), len(t.tokens)"
   ]
  },
  {
   "cell_type": "code",
   "execution_count": 47,
   "metadata": {},
   "outputs": [
    {
     "data": {
      "text/plain": [
       "0.004458117162447532"
      ]
     },
     "execution_count": 47,
     "metadata": {},
     "output_type": "execute_result"
    }
   ],
   "source": [
    "t.vocab().freq('Emma')"
   ]
  },
  {
   "cell_type": "code",
   "execution_count": 48,
   "metadata": {},
   "outputs": [
    {
     "data": {
      "text/plain": [
       "[(',', 12016),\n",
       " ('.', 6355),\n",
       " ('to', 5125),\n",
       " ('the', 4844),\n",
       " ('and', 4653),\n",
       " ('of', 4272),\n",
       " ('I', 3177),\n",
       " ('--', 3100),\n",
       " ('a', 3001),\n",
       " (\"''\", 2452),\n",
       " ('was', 2383),\n",
       " ('her', 2360),\n",
       " (';', 2353),\n",
       " ('not', 2242),\n",
       " ('in', 2103),\n",
       " ('it', 2103),\n",
       " ('be', 1965),\n",
       " ('she', 1774),\n",
       " ('``', 1735),\n",
       " ('that', 1729),\n",
       " ('you', 1664),\n",
       " ('had', 1605),\n",
       " ('as', 1387),\n",
       " ('he', 1365),\n",
       " ('for', 1320),\n",
       " ('have', 1301),\n",
       " ('is', 1221),\n",
       " ('with', 1185),\n",
       " ('very', 1151),\n",
       " ('but', 1148),\n",
       " ('Mr.', 1091),\n",
       " ('his', 1084),\n",
       " ('!', 1063),\n",
       " ('at', 996),\n",
       " ('so', 918),\n",
       " (\"'s\", 866),\n",
       " ('Emma', 855),\n",
       " ('all', 831),\n",
       " ('could', 824),\n",
       " ('would', 813),\n",
       " ('been', 755),\n",
       " ('him', 748),\n",
       " ('on', 674),\n",
       " ('Mrs.', 668),\n",
       " ('any', 651),\n",
       " ('?', 621),\n",
       " ('my', 619),\n",
       " ('no', 616),\n",
       " ('Miss', 592),\n",
       " ('were', 590)]"
      ]
     },
     "execution_count": 48,
     "metadata": {},
     "output_type": "execute_result"
    }
   ],
   "source": [
    "t.vocab().most_common(50)"
   ]
  },
  {
   "cell_type": "code",
   "execution_count": 51,
   "metadata": {},
   "outputs": [
    {
     "name": "stdout",
     "output_type": "stream",
     "text": [
      "Mr. Knightley; Mrs. Weston; Frank Churchill; Mr. Elton; Miss\n",
      "Woodhouse; Miss Bates; Mrs. Elton; Miss Fairfax; Mr. Weston; Jane\n",
      "Fairfax; every thing; Mr. Woodhouse; every body; young man; great\n",
      "deal; dare say; Maple Grove; Mrs. Goddard; John Knightley; Miss Smith\n"
     ]
    }
   ],
   "source": [
    "t.collocations() # 가장 많이 나온 쌍"
   ]
  },
  {
   "cell_type": "code",
   "execution_count": 52,
   "metadata": {},
   "outputs": [
    {
     "data": {
      "text/plain": [
       "429"
      ]
     },
     "execution_count": 52,
     "metadata": {},
     "output_type": "execute_result"
    }
   ],
   "source": [
    "t.count('Weston')"
   ]
  },
  {
   "cell_type": "code",
   "execution_count": 53,
   "metadata": {},
   "outputs": [
    {
     "name": "stdout",
     "output_type": "stream",
     "text": [
      "Displaying 25 of 855 matches:\n",
      "[ Emma by Jane Austen 1816 ] VOLUME I CHAPT\n",
      "ane Austen 1816 ] VOLUME I CHAPTER I Emma Woodhouse , handsome , clever , and \n",
      "both daughters , but particularly of Emma . Between _them_ it was more the int\n",
      " friend very mutually attached , and Emma doing just what she liked ; highly e\n",
      "r own . The real evils , indeed , of Emma 's situation were the power of havin\n",
      "ding-day of this beloved friend that Emma first sat in mournful thought of any\n",
      "ing only half a mile from them ; but Emma was aware that great must be the dif\n",
      "y . It was a melancholy change ; and Emma could not but sigh over it , and wis\n",
      " the rest of her life at Hartfield . Emma smiled and chatted as cheerfully as \n",
      "able to tell her how we all are . '' Emma spared no exertions to maintain this\n",
      " ' I have a great regard for you and Emma ; but when it comes to the question \n",
      "ful , troublesome creature ! '' said Emma playfully . `` That is what you have\n",
      "e few people who could see faults in Emma Woodhouse , and the only one who eve\n",
      "is was not particularly agreeable to Emma herself , she knew it would be so mu\n",
      "g thought perfect by every body . `` Emma knows I never flatter her , '' said \n",
      "t be a gainer . '' `` Well , '' said Emma , willing to let it pass -- '' you w\n",
      "re of meeting every day . '' `` Dear Emma bears every thing so well , '' said \n",
      "ss her more than she thinks for . '' Emma turned away her head , divided betwe\n",
      "nd smiles . `` It is impossible that Emma should not miss such a companion , '\n",
      "en one matter of joy to me , '' said Emma , '' and a very considerable one -- \n",
      "od to them , by interference . '' `` Emma never thinks of herself , if she can\n",
      "etter thing . Invite him to dinner , Emma , and help him to the best of the fi\n",
      " could not think , without pain , of Emma 's losing a single pleasure , or suf\n",
      " of her companionableness : but dear Emma was of no feeble character ; she was\n",
      ", was so just and so apparent , that Emma , well as she knew her father , was \n"
     ]
    }
   ],
   "source": [
    "t.concordance('Emma')"
   ]
  },
  {
   "cell_type": "code",
   "execution_count": 54,
   "metadata": {},
   "outputs": [
    {
     "name": "stderr",
     "output_type": "stream",
     "text": [
      "/Users/myoungjikim/2024_Korea_iisw/myvenv2/lib/python3.11/site-packages/nltk/draw/__init__.py:15: UserWarning: nltk.draw package not loaded (please install Tkinter library).\n",
      "  warnings.warn(\"nltk.draw package not loaded (please install Tkinter library).\")\n"
     ]
    },
    {
     "data": {
      "image/png": "[encoded data removed]",
      "text/plain": [
       "<Figure size 640x480 with 1 Axes>"
      ]
     },
     "metadata": {},
     "output_type": "display_data"
    }
   ],
   "source": [
    "t.dispersion_plot(['Emma', 'Weston', 'Elton'])"
   ]
  },
  {
   "cell_type": "code",
   "execution_count": 55,
   "metadata": {},
   "outputs": [
    {
     "name": "stdout",
     "output_type": "stream",
     "text": [
      "she it he i weston you her harriet elton him me knightley jane that\n",
      "and the all there they them\n"
     ]
    }
   ],
   "source": [
    "t.similar('Emma') # 언어습관을 분석할 때 이런 메서드를 사용한다. "
   ]
  },
  {
   "cell_type": "code",
   "execution_count": null,
   "metadata": {},
   "outputs": [],
   "source": [
    "from nltk.collocations import BigramAssocMeasures\n",
    "\n",
    "BigramAssocMeasures()."
   ]
  },
  {
   "cell_type": "code",
   "execution_count": null,
   "metadata": {},
   "outputs": [],
   "source": [
    "collocation(연어), co-ocurence(공기어)\n",
    "-> 이웃한 패턴       -> 같이 자주 나오는 표현 (꼭 바로 옆에 붙어있지 않음)"
   ]
  },
  {
   "cell_type": "code",
   "execution_count": 56,
   "metadata": {},
   "outputs": [],
   "source": [
    "from nltk.collocations import BigramAssocMeasures, BigramCollocationFinder"
   ]
  },
  {
   "cell_type": "code",
   "execution_count": 58,
   "metadata": {},
   "outputs": [],
   "source": [
    "bigram = BigramCollocationFinder.from_words(word_tokenize(corpus))"
   ]
  },
  {
   "cell_type": "code",
   "execution_count": 60,
   "metadata": {},
   "outputs": [
    {
     "data": {
      "text/plain": [
       "[('&', 'c.'),\n",
       " ('10,000', 'l.'),\n",
       " ('26th', 'ult.'),\n",
       " ('Abominable', 'scoundrel'),\n",
       " ('Agricultural', 'Reports'),\n",
       " ('Austen', '1816'),\n",
       " ('Baronne', \"d'Almane\"),\n",
       " ('Candles', 'everywhere.'),\n",
       " ('Clayton', 'Park'),\n",
       " ('Comtesse', \"d'Ostalis\")]"
      ]
     },
     "execution_count": 60,
     "metadata": {},
     "output_type": "execute_result"
    }
   ],
   "source": [
    "bigram.nbest(BigramAssocMeasures.chi_sq,10)"
   ]
  },
  {
   "cell_type": "code",
   "execution_count": 61,
   "metadata": {},
   "outputs": [
    {
     "data": {
      "text/plain": [
       "[('26th', 'ult.'),\n",
       " ('Abominable', 'scoundrel'),\n",
       " ('Agricultural', 'Reports'),\n",
       " ('Austen', '1816'),\n",
       " ('Baronne', \"d'Almane\"),\n",
       " ('Candles', 'everywhere.'),\n",
       " ('Clayton', 'Park'),\n",
       " ('Comtesse', \"d'Ostalis\"),\n",
       " ('DEAR', 'MADAM'),\n",
       " ('Farmer', 'Mitchell')]"
      ]
     },
     "execution_count": 61,
     "metadata": {},
     "output_type": "execute_result"
    }
   ],
   "source": [
    "bigram.nbest(BigramAssocMeasures.pmi,10)"
   ]
  },
  {
   "cell_type": "markdown",
   "metadata": {},
   "source": [
    "# Ngram\n",
    "- 자연어 처리 모델의 일종\n",
    "- 종류:  Bi_gram, tri_gram, quad_gram, n_gram"
   ]
  },
  {
   "cell_type": "code",
   "execution_count": 62,
   "metadata": {},
   "outputs": [
    {
     "name": "stdout",
     "output_type": "stream",
     "text": [
      "\n",
      "정부가 26일부터 현장에 복귀하지 않은 전공의를 대상으로 적용하기로 한 면허정지 처분을 무기한 연기할 방침이다. \n",
      "대신 정부와 의사단체 간 협의체를 구성해 의료개혁과 관련한 타협안 모색에 나선다. \n",
      "의대 교수 단체가 집단 사직을 예고한 25일을 하루 앞두고 ‘강(强) 대 강’ 대치를 이어오던 \n",
      "양측이 한발씩 물러서는 모양새다.\n",
      "\n"
     ]
    }
   ],
   "source": [
    "print(data) "
   ]
  },
  {
   "cell_type": "code",
   "execution_count": 63,
   "metadata": {},
   "outputs": [
    {
     "ename": "SyntaxError",
     "evalue": "invalid decimal literal (1957442510.py, line 9)",
     "output_type": "error",
     "traceback": [
      "\u001b[0;36m  Cell \u001b[0;32mIn[63], line 9\u001b[0;36m\u001b[0m\n\u001b[0;31m    Bigram => Markov 1st Assumption\u001b[0m\n\u001b[0m                     ^\u001b[0m\n\u001b[0;31mSyntaxError\u001b[0m\u001b[0;31m:\u001b[0m invalid decimal literal\n"
     ]
    }
   ],
   "source": [
    "P(의과대학|정부의)\n",
    "P(정원|정부의, 의과대학)\n",
    "P(증원에|정부의, 의과대학, 정원) ~ P(증원에|정원, 예산)\n",
    "                            P(정원,예산,증원에)/P(정원,예산) = 0\n",
    "                            P(증원에|예산) => P(예산,증원에)/P(예산)\n",
    "                            count(예산, 증원에)/N / count(예산)/N\n",
    "                            count(예산, 증원에)/ count(예산) \n",
    "P(F|A,B,C,D,E)\n",
    "Bigram => Markov 1st Assumption\n",
    "Trigram => Markov 2nd Assumption\n",
    "\n",
    "S => A,B,C,D ....Z\n",
    "P(S) => P(Z|A,...Y)P(A,...Y)\n",
    "     => P(Z|Y)P(Y|X)P(X|W)\n",
    "\n",
    "우리는 모든 데이터 셋을 얻을 수 없다.\n",
    "모은 데이터로 최대한 추측해볼 수 밖에 없다. \n",
    "그래서 복잡한 모델 보다 간단한 모델을 선호한다.\n",
    "\n",
    "지금 본 모델은 가장 단순한 모델이다. "
   ]
  },
  {
   "cell_type": "markdown",
   "metadata": {},
   "source": [
    "# Ngram"
   ]
  },
  {
   "cell_type": "code",
   "execution_count": 68,
   "metadata": {},
   "outputs": [
    {
     "data": {
      "text/plain": [
       "['의대교수', '교수줄사직', '줄사직시작댔다.']"
      ]
     },
     "execution_count": 68,
     "metadata": {},
     "output_type": "execute_result"
    }
   ],
   "source": [
    "def ngram(text, n=2):\n",
    "    result = list()\n",
    "    for i in range(len(text)-(n-1)):\n",
    "        result.append(''.join(text[i:i+n]))\n",
    "    return result\n",
    "\n",
    "ngram('의대 교수 줄사직 시작댔다.'.split())"
   ]
  },
  {
   "cell_type": "code",
   "execution_count": 69,
   "metadata": {},
   "outputs": [],
   "source": [
    "bigram = ngram(word_tokenize(corpus))\n",
    "unigram = ngram(word_tokenize(corpus),1)"
   ]
  },
  {
   "cell_type": "code",
   "execution_count": 70,
   "metadata": {},
   "outputs": [],
   "source": [
    "bigramText = Text(bigram)\n",
    "unigramText = Text(unigram)"
   ]
  },
  {
   "cell_type": "code",
   "execution_count": 71,
   "metadata": {},
   "outputs": [
    {
     "data": {
      "text/plain": [
       "(855, 191785, 0.004458117162447532, 0.004458117162447532)"
      ]
     },
     "execution_count": 71,
     "metadata": {},
     "output_type": "execute_result"
    }
   ],
   "source": [
    "unigramText.count('Emma'), unigramText.vocab().N(), \\\n",
    "unigramText.count('Emma')/unigramText.vocab().N(), unigramText.vocab().freq('Emma')"
   ]
  },
  {
   "cell_type": "code",
   "execution_count": 1,
   "metadata": {},
   "outputs": [
    {
     "ename": "NameError",
     "evalue": "name 'bigramText' is not defined",
     "output_type": "error",
     "traceback": [
      "\u001b[0;31m---------------------------------------------------------------------------\u001b[0m",
      "\u001b[0;31mNameError\u001b[0m                                 Traceback (most recent call last)",
      "Cell \u001b[0;32mIn[1], line 10\u001b[0m\n\u001b[1;32m      7\u001b[0m             result\u001b[38;5;241m.\u001b[39mappend(token)\n\u001b[1;32m      8\u001b[0m     \u001b[38;5;28;01mreturn\u001b[39;00m result\n\u001b[0;32m---> 10\u001b[0m \u001b[38;5;28;01mfor\u001b[39;00m k \u001b[38;5;129;01min\u001b[39;00m findToken(\u001b[38;5;124m'\u001b[39m\u001b[38;5;124mEmma\u001b[39m\u001b[38;5;124m'\u001b[39m, \u001b[43mbigramText\u001b[49m\u001b[38;5;241m.\u001b[39mtokens):\n\u001b[1;32m     11\u001b[0m     \u001b[38;5;28mprint\u001b[39m(k, bigramText\u001b[38;5;241m.\u001b[39mcount(k)\u001b[38;5;241m/\u001b[39munigramText\u001b[38;5;241m.\u001b[39mcount(\u001b[38;5;124m'\u001b[39m\u001b[38;5;124mEmma\u001b[39m\u001b[38;5;124m'\u001b[39m))\n\u001b[1;32m     13\u001b[0m \u001b[38;5;66;03m# nextword = {k:bigramText.count(k)/unigramText.count('Emma')\u001b[39;00m\n\u001b[1;32m     14\u001b[0m \u001b[38;5;66;03m#  for k in findToken('Emma', bigramText.tokens)}\u001b[39;00m\n",
      "\u001b[0;31mNameError\u001b[0m: name 'bigramText' is not defined"
     ]
    }
   ],
   "source": [
    "import re\n",
    "\n",
    "def findToken(k, t):\n",
    "    result = list()\n",
    "    for token in t:\n",
    "        if re.match(k, token):\n",
    "            result.append(token)\n",
    "    return result\n",
    "\n",
    "for k in findToken('Emma', bigramText.tokens):\n",
    "    print(k, bigramText.count(k)/unigramText.count('Emma'))\n",
    "\n",
    "# nextword = {k:bigramText.count(k)/unigramText.count('Emma')\n",
    "#  for k in findToken('Emma', bigramText.tokens)}\n"
   ]
  },
  {
   "cell_type": "code",
   "execution_count": 76,
   "metadata": {},
   "outputs": [
    {
     "data": {
      "text/plain": [
       "[('Emma,', 0.21403508771929824),\n",
       " (\"Emma's\", 0.08654970760233918),\n",
       " ('Emmawas', 0.07485380116959064),\n",
       " ('Emmacould', 0.07134502923976609),\n",
       " ('Emma.', 0.05847953216374269)]"
      ]
     },
     "execution_count": 76,
     "metadata": {},
     "output_type": "execute_result"
    }
   ],
   "source": [
    "sorted(nextword.items(), key=lambda r:r[1], reverse=True)[:5]"
   ]
  },
  {
   "cell_type": "code",
   "execution_count": null,
   "metadata": {},
   "outputs": [],
   "source": [
    "자동으로 띄어쓰기 해주는 모델을 만들어볼 수 있다. -> 내일\n",
    "\n",
    "형태소 분석기가 필요한 이유: 형태는 다르지만, 같은 의미를 지닌 단어들이 있다. "
   ]
  },
  {
   "cell_type": "markdown",
   "metadata": {},
   "source": [
    "# 놀라야 하는 포인트\n",
    "## t.collocation => NER\n",
    "## t.similar\n",
    "## bigram "
   ]
  },
  {
   "cell_type": "markdown",
   "metadata": {},
   "source": [
    "# TFIDF ? "
   ]
  }
 ],
 "metadata": {
  "kernelspec": {
   "display_name": "myvenv2",
   "language": "python",
   "name": "python3"
  },
  "language_info": {
   "codemirror_mode": {
    "name": "ipython",
    "version": 3
   },
   "file_extension": ".py",
   "mimetype": "text/x-python",
   "name": "python",
   "nbconvert_exporter": "python",
   "pygments_lexer": "ipython3",
   "version": "3.11.8"
  }
 },
 "nbformat": 4,
 "nbformat_minor": 2
}
