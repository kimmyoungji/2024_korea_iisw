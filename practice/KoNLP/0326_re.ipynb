{
 "cells": [
  {
   "cell_type": "code",
   "execution_count": null,
   "id": "d9fa8d96-14c6-4085-bca8-1bc201d1f30b",
   "metadata": {},
   "outputs": [],
   "source": [
    "P => MLE, MAP(Bayes) => p=theta optimization => derivation\n",
    "PAC learning => Model(error 수반) < error(^-N)\n",
    "P(A) => 조건부(conditional),결합(joint)\n",
    "P(B=결과|A=원인) => P(A,B) / P(A)\n",
    "P(A|B) => P(A,B) / P(B)\n",
    "P(B|A) => P(A=원인|B=결과)P(B) / P(A)\n",
    "=> P(A,B) = P(B|A)P(A)\n",
    "=> sum_a P(B) = P(A=true, B) + P(A=false, B); marginalization, summing out\n",
    "P(A={},B={},C={},D={},E={}) => P(B,C,D,E|A)P(A)\n",
    "                            => P(E|A,B,C,D,E)P(A,B,C,D,E)\n",
    "                                             P(E|A,B,C,D)P(A,B,C,D) ... P(B|A)P(A)\n",
    "1st Markov Assumption       => P(E|D)P(D|C)P(C|B)P(B|A)P(A) => N-gram(2-gram)\n",
    "                                                  --------\n",
    "                                                   P(A,B)   P(A)=freq(a/N)\n",
    "                                                  freq(A,B)/freq(A)\n",
    "N-gram = Language Model => s,s,... P(s) 계산가능\n",
    "                           s를 생성\n",
    "\n",
    "Preprocessing => tokenizing => sentence => tokens(word, regexp, tweet tokenizer)\n",
    "                             splitlines(X)        split(기호)     +     P, MA(konlpy)"
   ]
  },
  {
   "cell_type": "code",
   "execution_count": null,
   "id": "9c537e5e-1442-486d-8cc2-6a8ea53c9ae6",
   "metadata": {},
   "outputs": [],
   "source": [
    "from konlpy.tag import Hannanum, Kkma, Komoran, Okt\n",
    "\n",
    "# core                api\n",
    "# Java(JVM) - Jpype - Python\n",
    "han = Hannanum()\n",
    "kkm = Kkma()\n",
    "kom = Komoran()\n",
    "okt = Okt()"
   ]
  },
  {
   "cell_type": "code",
   "execution_count": null,
   "id": "690f32bc-2c56-4952-8659-ab19915f516f",
   "metadata": {},
   "outputs": [],
   "source": [
    "len(han.tagset), len(kkm.tagset), len(kom.tagset), len(okt.tagset)"
   ]
  },
  {
   "cell_type": "code",
   "execution_count": null,
   "id": "6a5e575b-b3e1-4cb5-b3c9-da30ba6c68db",
   "metadata": {},
   "outputs": [],
   "source": [
    "upenn_tagset('NN')"
   ]
  },
  {
   "cell_type": "code",
   "execution_count": null,
   "id": "fc36ec98-eeb5-49ac-9ba1-2f9f1a13389c",
   "metadata": {},
   "outputs": [],
   "source": [
    "from nltk.corpus import gutenberg\n",
    "\n",
    "emma = gutenberg.open(gutenberg.fileids()[0]).read()"
   ]
  },
  {
   "cell_type": "code",
   "execution_count": null,
   "id": "48a8dc92-aad7-4b37-9bbc-418b33b2ea39",
   "metadata": {},
   "outputs": [],
   "source": [
    "from nltk.text import Text\n",
    "from nltk.tokenize import word_tokenize\n",
    "\n",
    "t1 = Text(word_tokenize(emma))\n",
    "\n",
    "tokenizer = treebank.TreebankWordTokenizer()\n",
    "t2 = Text(tokenizer.tokenize(emma))"
   ]
  }
 ],
 "metadata": {
  "kernelspec": {
   "display_name": "Python 3 (ipykernel)",
   "language": "python",
   "name": "python3"
  },
  "language_info": {
   "codemirror_mode": {
    "name": "ipython",
    "version": 3
   },
   "file_extension": ".py",
   "mimetype": "text/x-python",
   "name": "python",
   "nbconvert_exporter": "python",
   "pygments_lexer": "ipython3",
   "version": "3.11.8"
  }
 },
 "nbformat": 4,
 "nbformat_minor": 5
}
