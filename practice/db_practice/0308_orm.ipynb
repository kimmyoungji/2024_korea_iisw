{
 "cells": [
  {
   "cell_type": "markdown",
   "metadata": {},
   "source": [
    "# ORM - sqlalchemy"
   ]
  },
  {
   "cell_type": "code",
   "execution_count": null,
   "metadata": {},
   "outputs": [],
   "source": [
    "! pip show sqlalchemy"
   ]
  },
  {
   "cell_type": "code",
   "execution_count": 1,
   "metadata": {},
   "outputs": [],
   "source": [
    "import sqlalchemy"
   ]
  },
  {
   "cell_type": "code",
   "execution_count": 2,
   "metadata": {},
   "outputs": [
    {
     "data": {
      "text/plain": [
       "'1.4.38'"
      ]
     },
     "execution_count": 2,
     "metadata": {},
     "output_type": "execute_result"
    }
   ],
   "source": [
    "sqlalchemy.__version__"
   ]
  },
  {
   "cell_type": "markdown",
   "metadata": {},
   "source": [
    "#### 구조: DB API -> 코어 -> ORM\n",
    "\n",
    "#### 코어\n",
    "- 항상 엔진을 만들면서 시작한다.\n",
    "- engine = connection + dialect\n",
    "- craete_engine echo 옵션 == 로그 보이게하기\n",
    "- lazy connecting, 실제 엔진에 접속할 때 연결한다. 파일이 바로 생기지 않는다."
   ]
  },
  {
   "cell_type": "code",
   "execution_count": 4,
   "metadata": {},
   "outputs": [],
   "source": [
    "from sqlalchemy.engine import create_engine\n",
    "from sqlalchemy.schema import Table, Column, ForeignKey\n",
    "from sqlalchemy.types import Integer, Text\n",
    "from sqlalchemy.sql import select, insert, update"
   ]
  },
  {
   "cell_type": "code",
   "execution_count": 9,
   "metadata": {},
   "outputs": [
    {
     "name": "stdout",
     "output_type": "stream",
     "text": [
      "playlist.db sns.db\n",
      "zsh:1: command not found: diri\n"
     ]
    }
   ],
   "source": [
    "!ls *.db\n",
    "!diri *.db"
   ]
  },
  {
   "cell_type": "code",
   "execution_count": 5,
   "metadata": {},
   "outputs": [],
   "source": [
    "# 아직 db 안 만들어진것 확인하기\n",
    "engine = create_engine('sqlite:///orm.db', echo=True)"
   ]
  },
  {
   "cell_type": "markdown",
   "metadata": {},
   "source": [
    "1               2           3             4\n",
    "Python      |   ORM         RDBMS         DB\n",
    "------      |   Core       SQLite        FILE\n",
    "       Obj  |                                  \n",
    "(class => MetaData)\n",
    "\n",
    "메타데이터에 클래스가 어떻게 등록되는지만 알면된다.\n",
    "메타데이터를 갖고 있는것 1\n",
    "일을 하는 것 2 "
   ]
  },
  {
   "cell_type": "code",
   "execution_count": 6,
   "metadata": {},
   "outputs": [],
   "source": [
    "from sqlalchemy.schema import MetaData\n",
    "meta = MetaData()"
   ]
  },
  {
   "cell_type": "code",
   "execution_count": 7,
   "metadata": {},
   "outputs": [
    {
     "data": {
      "text/plain": [
       "FacadeDict({})"
      ]
     },
     "execution_count": 7,
     "metadata": {},
     "output_type": "execute_result"
    }
   ],
   "source": [
    "meta.tables"
   ]
  },
  {
   "cell_type": "code",
   "execution_count": 8,
   "metadata": {},
   "outputs": [],
   "source": [
    "# 1번에 연관이 있고 2,3,4에는 연관이 없다.\n",
    "meta.clear()"
   ]
  },
  {
   "cell_type": "code",
   "execution_count": null,
   "metadata": {},
   "outputs": [],
   "source": [
    "Table()\n",
    "Column()"
   ]
  },
  {
   "cell_type": "code",
   "execution_count": 4,
   "metadata": {},
   "outputs": [],
   "source": [
    "pk = Column('PK',Integer, primary_key=True)"
   ]
  },
  {
   "cell_type": "code",
   "execution_count": null,
   "metadata": {},
   "outputs": [],
   "source": [
    "Table('User', meta, \n",
    "      pk, \n",
    "      Column('NAME',Text, nullable=False))"
   ]
  },
  {
   "cell_type": "code",
   "execution_count": 9,
   "metadata": {},
   "outputs": [],
   "source": [
    "meta.clear()"
   ]
  },
  {
   "cell_type": "code",
   "execution_count": 9,
   "metadata": {},
   "outputs": [
    {
     "data": {
      "text/plain": [
       "Table('User', MetaData(), Column('PK', Integer(), table=<User>, primary_key=True, nullable=False), Column('NAME', Text(), table=<User>, nullable=False), schema=None)"
      ]
     },
     "execution_count": 9,
     "metadata": {},
     "output_type": "execute_result"
    }
   ],
   "source": [
    "Table('User', meta, \n",
    "      Column('PK',Integer, primary_key=True), \n",
    "      Column('NAME',Text, nullable=False))"
   ]
  },
  {
   "cell_type": "code",
   "execution_count": 10,
   "metadata": {},
   "outputs": [
    {
     "data": {
      "text/plain": [
       "FacadeDict({'User': Table('User', MetaData(), Column('PK', Integer(), table=<User>, primary_key=True, nullable=False), Column('NAME', Text(), table=<User>, nullable=False), schema=None)})"
      ]
     },
     "execution_count": 10,
     "metadata": {},
     "output_type": "execute_result"
    }
   ],
   "source": [
    "meta.tables"
   ]
  },
  {
   "cell_type": "code",
   "execution_count": 11,
   "metadata": {},
   "outputs": [
    {
     "name": "stdout",
     "output_type": "stream",
     "text": [
      "2024-03-08 10:28:49,595 INFO sqlalchemy.engine.Engine BEGIN (implicit)\n",
      "2024-03-08 10:28:49,596 INFO sqlalchemy.engine.Engine PRAGMA main.table_info(\"User\")\n",
      "2024-03-08 10:28:49,597 INFO sqlalchemy.engine.Engine [raw sql] ()\n",
      "2024-03-08 10:28:49,598 INFO sqlalchemy.engine.Engine COMMIT\n"
     ]
    }
   ],
   "source": [
    "meta.create_all(engine)\n",
    "# 이제 DB가 생성이 된다."
   ]
  },
  {
   "cell_type": "code",
   "execution_count": 12,
   "metadata": {},
   "outputs": [],
   "source": [
    "User = meta.tables['User']"
   ]
  },
  {
   "cell_type": "code",
   "execution_count": 13,
   "metadata": {},
   "outputs": [
    {
     "name": "stdout",
     "output_type": "stream",
     "text": [
      "SELECT \"User\".\"PK\", \"User\".\"NAME\" \n",
      "FROM \"User\"\n",
      "SELECT \"User\".\"PK\", \"User\".\"NAME\" \n",
      "FROM \"User\"\n"
     ]
    },
    {
     "data": {
      "text/plain": [
       "(None, None)"
      ]
     },
     "execution_count": 13,
     "metadata": {},
     "output_type": "execute_result"
    }
   ],
   "source": [
    "print(select(User)), print(User.select())"
   ]
  },
  {
   "cell_type": "code",
   "execution_count": 14,
   "metadata": {},
   "outputs": [
    {
     "name": "stdout",
     "output_type": "stream",
     "text": [
      "2024-03-08 10:29:03,460 INFO sqlalchemy.engine.Engine SELECT \"User\".\"PK\", \"User\".\"NAME\" \n",
      "FROM \"User\"\n",
      "2024-03-08 10:29:03,460 INFO sqlalchemy.engine.Engine [generated in 0.00065s] ()\n"
     ]
    }
   ],
   "source": [
    "rst = engine.execute(select(User))"
   ]
  },
  {
   "cell_type": "code",
   "execution_count": 15,
   "metadata": {},
   "outputs": [
    {
     "data": {
      "text/plain": [
       "[]"
      ]
     },
     "execution_count": 15,
     "metadata": {},
     "output_type": "execute_result"
    }
   ],
   "source": [
    "rst.fetchall()"
   ]
  },
  {
   "cell_type": "code",
   "execution_count": 16,
   "metadata": {},
   "outputs": [
    {
     "name": "stdout",
     "output_type": "stream",
     "text": [
      "INSERT INTO \"User\" (\"PK\", \"NAME\") VALUES (:PK, :NAME)\n",
      "INSERT INTO \"User\" (\"NAME\") VALUES (:NAME)\n",
      "{'NAME': '어쩌고'}\n"
     ]
    }
   ],
   "source": [
    "# 아래 두개의 출력이 다르다. \n",
    "print(insert(User))\n",
    "print(insert(User).values(NAME='어쩌고'))\n",
    "print(insert(User).values(NAME='어쩌고').compile().params)"
   ]
  },
  {
   "cell_type": "code",
   "execution_count": 17,
   "metadata": {},
   "outputs": [
    {
     "name": "stdout",
     "output_type": "stream",
     "text": [
      "2024-03-08 10:29:50,360 INFO sqlalchemy.engine.Engine INSERT INTO \"User\" (\"NAME\") VALUES (?)\n",
      "2024-03-08 10:29:50,360 INFO sqlalchemy.engine.Engine [generated in 0.00041s] ('어쩌고',)\n",
      "2024-03-08 10:29:50,361 INFO sqlalchemy.engine.Engine COMMIT\n"
     ]
    },
    {
     "data": {
      "text/plain": [
       "<sqlalchemy.engine.cursor.LegacyCursorResult at 0x1199d94d0>"
      ]
     },
     "execution_count": 17,
     "metadata": {},
     "output_type": "execute_result"
    }
   ],
   "source": [
    "engine.execute(insert(User).values(NAME='어쩌고'))"
   ]
  },
  {
   "cell_type": "code",
   "execution_count": 18,
   "metadata": {},
   "outputs": [
    {
     "name": "stdout",
     "output_type": "stream",
     "text": [
      "2024-03-08 10:32:02,982 INFO sqlalchemy.engine.Engine INSERT INTO \"User\" (\"NAME\") VALUES (?)\n",
      "2024-03-08 10:32:02,982 INFO sqlalchemy.engine.Engine [cached since 132.6s ago] ('사람1',)\n",
      "2024-03-08 10:32:02,983 INFO sqlalchemy.engine.Engine COMMIT\n",
      "2024-03-08 10:32:02,983 INFO sqlalchemy.engine.Engine INSERT INTO \"User\" (\"NAME\") VALUES (?)\n",
      "2024-03-08 10:32:02,984 INFO sqlalchemy.engine.Engine [cached since 132.6s ago] ('사람2',)\n",
      "2024-03-08 10:32:02,984 INFO sqlalchemy.engine.Engine COMMIT\n",
      "2024-03-08 10:32:02,985 INFO sqlalchemy.engine.Engine INSERT INTO \"User\" (\"NAME\") VALUES (?)\n",
      "2024-03-08 10:32:02,986 INFO sqlalchemy.engine.Engine [cached since 132.6s ago] ('사람3',)\n",
      "2024-03-08 10:32:02,986 INFO sqlalchemy.engine.Engine COMMIT\n"
     ]
    }
   ],
   "source": [
    "for person in ['사람1','사람2','사람3']:\n",
    "    engine.execute(User.insert().values(NAME=person))"
   ]
  },
  {
   "cell_type": "code",
   "execution_count": null,
   "metadata": {},
   "outputs": [],
   "source": [
    "engine.execute(User.select().where(User.c['PK']==1)).fetchall()\n",
    "engine.execute(User.select().where_or((User.c['PK']==1))).fetchall()"
   ]
  },
  {
   "cell_type": "code",
   "execution_count": 21,
   "metadata": {},
   "outputs": [],
   "source": [
    "### 다시!"
   ]
  },
  {
   "cell_type": "code",
   "execution_count": 22,
   "metadata": {},
   "outputs": [],
   "source": [
    "conn = engine.connect()"
   ]
  },
  {
   "cell_type": "code",
   "execution_count": 24,
   "metadata": {},
   "outputs": [],
   "source": [
    "### 다시"
   ]
  },
  {
   "cell_type": "code",
   "execution_count": 25,
   "metadata": {},
   "outputs": [],
   "source": [
    "engine = create_engine('sqlite:///playlist.db', echo=True)"
   ]
  },
  {
   "cell_type": "code",
   "execution_count": 26,
   "metadata": {},
   "outputs": [],
   "source": [
    "conn = engine.connect()"
   ]
  },
  {
   "cell_type": "code",
   "execution_count": 27,
   "metadata": {},
   "outputs": [],
   "source": [
    "meta = MetaData()"
   ]
  },
  {
   "cell_type": "code",
   "execution_count": 28,
   "metadata": {},
   "outputs": [
    {
     "name": "stdout",
     "output_type": "stream",
     "text": [
      "2024-03-08 10:36:19,060 INFO sqlalchemy.engine.Engine SELECT name FROM sqlite_master WHERE type='table' ORDER BY name\n",
      "2024-03-08 10:36:19,061 INFO sqlalchemy.engine.Engine [raw sql] ()\n",
      "2024-03-08 10:36:19,062 INFO sqlalchemy.engine.Engine PRAGMA main.table_xinfo(\"ALBUM\")\n",
      "2024-03-08 10:36:19,062 INFO sqlalchemy.engine.Engine [raw sql] ()\n",
      "2024-03-08 10:36:19,063 INFO sqlalchemy.engine.Engine SELECT sql FROM  (SELECT * FROM sqlite_master UNION ALL   SELECT * FROM sqlite_temp_master) WHERE name = ? AND type = 'table'\n",
      "2024-03-08 10:36:19,063 INFO sqlalchemy.engine.Engine [raw sql] ('ALBUM',)\n",
      "2024-03-08 10:36:19,064 INFO sqlalchemy.engine.Engine PRAGMA main.foreign_key_list(\"ALBUM\")\n",
      "2024-03-08 10:36:19,064 INFO sqlalchemy.engine.Engine [raw sql] ()\n",
      "2024-03-08 10:36:19,065 INFO sqlalchemy.engine.Engine PRAGMA temp.foreign_key_list(\"ALBUM\")\n",
      "2024-03-08 10:36:19,065 INFO sqlalchemy.engine.Engine [raw sql] ()\n",
      "2024-03-08 10:36:19,065 INFO sqlalchemy.engine.Engine SELECT sql FROM  (SELECT * FROM sqlite_master UNION ALL   SELECT * FROM sqlite_temp_master) WHERE name = ? AND type = 'table'\n",
      "2024-03-08 10:36:19,065 INFO sqlalchemy.engine.Engine [raw sql] ('ALBUM',)\n",
      "2024-03-08 10:36:19,066 INFO sqlalchemy.engine.Engine PRAGMA main.index_list(\"ALBUM\")\n",
      "2024-03-08 10:36:19,067 INFO sqlalchemy.engine.Engine [raw sql] ()\n",
      "2024-03-08 10:36:19,067 INFO sqlalchemy.engine.Engine PRAGMA temp.index_list(\"ALBUM\")\n",
      "2024-03-08 10:36:19,067 INFO sqlalchemy.engine.Engine [raw sql] ()\n",
      "2024-03-08 10:36:19,068 INFO sqlalchemy.engine.Engine PRAGMA main.index_list(\"ALBUM\")\n",
      "2024-03-08 10:36:19,068 INFO sqlalchemy.engine.Engine [raw sql] ()\n",
      "2024-03-08 10:36:19,068 INFO sqlalchemy.engine.Engine PRAGMA temp.index_list(\"ALBUM\")\n",
      "2024-03-08 10:36:19,069 INFO sqlalchemy.engine.Engine [raw sql] ()\n",
      "2024-03-08 10:36:19,069 INFO sqlalchemy.engine.Engine SELECT sql FROM  (SELECT * FROM sqlite_master UNION ALL   SELECT * FROM sqlite_temp_master) WHERE name = ? AND type = 'table'\n",
      "2024-03-08 10:36:19,069 INFO sqlalchemy.engine.Engine [raw sql] ('ALBUM',)\n",
      "2024-03-08 10:36:19,071 INFO sqlalchemy.engine.Engine PRAGMA main.table_xinfo(\"ARTIST\")\n",
      "2024-03-08 10:36:19,071 INFO sqlalchemy.engine.Engine [raw sql] ()\n",
      "2024-03-08 10:36:19,072 INFO sqlalchemy.engine.Engine SELECT sql FROM  (SELECT * FROM sqlite_master UNION ALL   SELECT * FROM sqlite_temp_master) WHERE name = ? AND type = 'table'\n",
      "2024-03-08 10:36:19,072 INFO sqlalchemy.engine.Engine [raw sql] ('ARTIST',)\n",
      "2024-03-08 10:36:19,072 INFO sqlalchemy.engine.Engine PRAGMA main.foreign_key_list(\"ARTIST\")\n",
      "2024-03-08 10:36:19,073 INFO sqlalchemy.engine.Engine [raw sql] ()\n",
      "2024-03-08 10:36:19,073 INFO sqlalchemy.engine.Engine PRAGMA temp.foreign_key_list(\"ARTIST\")\n",
      "2024-03-08 10:36:19,073 INFO sqlalchemy.engine.Engine [raw sql] ()\n",
      "2024-03-08 10:36:19,074 INFO sqlalchemy.engine.Engine SELECT sql FROM  (SELECT * FROM sqlite_master UNION ALL   SELECT * FROM sqlite_temp_master) WHERE name = ? AND type = 'table'\n",
      "2024-03-08 10:36:19,074 INFO sqlalchemy.engine.Engine [raw sql] ('ARTIST',)\n",
      "2024-03-08 10:36:19,074 INFO sqlalchemy.engine.Engine PRAGMA main.index_list(\"ARTIST\")\n",
      "2024-03-08 10:36:19,074 INFO sqlalchemy.engine.Engine [raw sql] ()\n",
      "2024-03-08 10:36:19,075 INFO sqlalchemy.engine.Engine PRAGMA temp.index_list(\"ARTIST\")\n",
      "2024-03-08 10:36:19,075 INFO sqlalchemy.engine.Engine [raw sql] ()\n",
      "2024-03-08 10:36:19,075 INFO sqlalchemy.engine.Engine PRAGMA main.index_list(\"ARTIST\")\n",
      "2024-03-08 10:36:19,075 INFO sqlalchemy.engine.Engine [raw sql] ()\n",
      "2024-03-08 10:36:19,076 INFO sqlalchemy.engine.Engine PRAGMA temp.index_list(\"ARTIST\")\n",
      "2024-03-08 10:36:19,077 INFO sqlalchemy.engine.Engine [raw sql] ()\n",
      "2024-03-08 10:36:19,077 INFO sqlalchemy.engine.Engine SELECT sql FROM  (SELECT * FROM sqlite_master UNION ALL   SELECT * FROM sqlite_temp_master) WHERE name = ? AND type = 'table'\n",
      "2024-03-08 10:36:19,077 INFO sqlalchemy.engine.Engine [raw sql] ('ARTIST',)\n",
      "2024-03-08 10:36:19,078 INFO sqlalchemy.engine.Engine PRAGMA main.table_xinfo(\"GENRE\")\n",
      "2024-03-08 10:36:19,078 INFO sqlalchemy.engine.Engine [raw sql] ()\n",
      "2024-03-08 10:36:19,079 INFO sqlalchemy.engine.Engine SELECT sql FROM  (SELECT * FROM sqlite_master UNION ALL   SELECT * FROM sqlite_temp_master) WHERE name = ? AND type = 'table'\n",
      "2024-03-08 10:36:19,079 INFO sqlalchemy.engine.Engine [raw sql] ('GENRE',)\n",
      "2024-03-08 10:36:19,079 INFO sqlalchemy.engine.Engine PRAGMA main.foreign_key_list(\"GENRE\")\n",
      "2024-03-08 10:36:19,080 INFO sqlalchemy.engine.Engine [raw sql] ()\n",
      "2024-03-08 10:36:19,080 INFO sqlalchemy.engine.Engine PRAGMA temp.foreign_key_list(\"GENRE\")\n",
      "2024-03-08 10:36:19,080 INFO sqlalchemy.engine.Engine [raw sql] ()\n",
      "2024-03-08 10:36:19,081 INFO sqlalchemy.engine.Engine SELECT sql FROM  (SELECT * FROM sqlite_master UNION ALL   SELECT * FROM sqlite_temp_master) WHERE name = ? AND type = 'table'\n",
      "2024-03-08 10:36:19,081 INFO sqlalchemy.engine.Engine [raw sql] ('GENRE',)\n",
      "2024-03-08 10:36:19,081 INFO sqlalchemy.engine.Engine PRAGMA main.index_list(\"GENRE\")\n",
      "2024-03-08 10:36:19,081 INFO sqlalchemy.engine.Engine [raw sql] ()\n",
      "2024-03-08 10:36:19,082 INFO sqlalchemy.engine.Engine PRAGMA temp.index_list(\"GENRE\")\n",
      "2024-03-08 10:36:19,082 INFO sqlalchemy.engine.Engine [raw sql] ()\n",
      "2024-03-08 10:36:19,083 INFO sqlalchemy.engine.Engine PRAGMA main.index_list(\"GENRE\")\n",
      "2024-03-08 10:36:19,083 INFO sqlalchemy.engine.Engine [raw sql] ()\n",
      "2024-03-08 10:36:19,083 INFO sqlalchemy.engine.Engine PRAGMA temp.index_list(\"GENRE\")\n",
      "2024-03-08 10:36:19,083 INFO sqlalchemy.engine.Engine [raw sql] ()\n",
      "2024-03-08 10:36:19,084 INFO sqlalchemy.engine.Engine SELECT sql FROM  (SELECT * FROM sqlite_master UNION ALL   SELECT * FROM sqlite_temp_master) WHERE name = ? AND type = 'table'\n",
      "2024-03-08 10:36:19,084 INFO sqlalchemy.engine.Engine [raw sql] ('GENRE',)\n",
      "2024-03-08 10:36:19,084 INFO sqlalchemy.engine.Engine PRAGMA main.table_xinfo(\"TRACK\")\n",
      "2024-03-08 10:36:19,085 INFO sqlalchemy.engine.Engine [raw sql] ()\n",
      "2024-03-08 10:36:19,085 INFO sqlalchemy.engine.Engine SELECT sql FROM  (SELECT * FROM sqlite_master UNION ALL   SELECT * FROM sqlite_temp_master) WHERE name = ? AND type = 'table'\n",
      "2024-03-08 10:36:19,085 INFO sqlalchemy.engine.Engine [raw sql] ('TRACK',)\n",
      "2024-03-08 10:36:19,086 INFO sqlalchemy.engine.Engine PRAGMA main.foreign_key_list(\"TRACK\")\n",
      "2024-03-08 10:36:19,086 INFO sqlalchemy.engine.Engine [raw sql] ()\n",
      "2024-03-08 10:36:19,087 INFO sqlalchemy.engine.Engine PRAGMA temp.foreign_key_list(\"TRACK\")\n",
      "2024-03-08 10:36:19,087 INFO sqlalchemy.engine.Engine [raw sql] ()\n",
      "2024-03-08 10:36:19,087 INFO sqlalchemy.engine.Engine SELECT sql FROM  (SELECT * FROM sqlite_master UNION ALL   SELECT * FROM sqlite_temp_master) WHERE name = ? AND type = 'table'\n",
      "2024-03-08 10:36:19,087 INFO sqlalchemy.engine.Engine [raw sql] ('TRACK',)\n",
      "2024-03-08 10:36:19,087 INFO sqlalchemy.engine.Engine PRAGMA main.index_list(\"TRACK\")\n",
      "2024-03-08 10:36:19,088 INFO sqlalchemy.engine.Engine [raw sql] ()\n",
      "2024-03-08 10:36:19,088 INFO sqlalchemy.engine.Engine PRAGMA temp.index_list(\"TRACK\")\n",
      "2024-03-08 10:36:19,088 INFO sqlalchemy.engine.Engine [raw sql] ()\n",
      "2024-03-08 10:36:19,089 INFO sqlalchemy.engine.Engine PRAGMA main.index_list(\"TRACK\")\n",
      "2024-03-08 10:36:19,089 INFO sqlalchemy.engine.Engine [raw sql] ()\n",
      "2024-03-08 10:36:19,089 INFO sqlalchemy.engine.Engine PRAGMA temp.index_list(\"TRACK\")\n",
      "2024-03-08 10:36:19,090 INFO sqlalchemy.engine.Engine [raw sql] ()\n",
      "2024-03-08 10:36:19,090 INFO sqlalchemy.engine.Engine SELECT sql FROM  (SELECT * FROM sqlite_master UNION ALL   SELECT * FROM sqlite_temp_master) WHERE name = ? AND type = 'table'\n",
      "2024-03-08 10:36:19,090 INFO sqlalchemy.engine.Engine [raw sql] ('TRACK',)\n"
     ]
    }
   ],
   "source": [
    "meta.reflect(conn)"
   ]
  },
  {
   "cell_type": "code",
   "execution_count": 29,
   "metadata": {},
   "outputs": [
    {
     "data": {
      "text/plain": [
       "(4, dict_keys(['ALBUM', 'ARTIST', 'GENRE', 'TRACK']))"
      ]
     },
     "execution_count": 29,
     "metadata": {},
     "output_type": "execute_result"
    }
   ],
   "source": [
    "len(meta.tables), meta.tables.keys()"
   ]
  },
  {
   "cell_type": "code",
   "execution_count": 30,
   "metadata": {},
   "outputs": [
    {
     "data": {
      "text/plain": [
       "['PK', 'NAME', 'LENGTH', 'RATING', 'COUNT', 'AFK', 'GFK']"
      ]
     },
     "execution_count": 30,
     "metadata": {},
     "output_type": "execute_result"
    }
   ],
   "source": [
    "meta.tables['TRACK'].c.keys()"
   ]
  },
  {
   "cell_type": "code",
   "execution_count": 31,
   "metadata": {},
   "outputs": [],
   "source": [
    "Artist = meta.tables['ARTIST']\n",
    "Album = meta.tables['ALBUM']\n",
    "Genre = meta.tables['GENRE']\n",
    "Track = meta.tables['TRACK']"
   ]
  },
  {
   "cell_type": "code",
   "execution_count": 33,
   "metadata": {},
   "outputs": [
    {
     "name": "stdout",
     "output_type": "stream",
     "text": [
      "ImmutableColumnCollection(ARTIST.PK, ARTIST.NAME, ARTIST.temp)\n"
     ]
    }
   ],
   "source": [
    "print(Artist.c)"
   ]
  },
  {
   "cell_type": "code",
   "execution_count": 36,
   "metadata": {},
   "outputs": [
    {
     "name": "stdout",
     "output_type": "stream",
     "text": [
      "SELECT \"ARTIST\".\"PK\", \"ARTIST\".\"NAME\", \"ARTIST\".temp \n",
      "FROM \"ARTIST\"\n",
      "2024-03-08 10:39:03,149 INFO sqlalchemy.engine.Engine SELECT \"ARTIST\".\"PK\", \"ARTIST\".\"NAME\", \"ARTIST\".\"temp\" \n",
      "FROM \"ARTIST\"\n",
      "2024-03-08 10:39:03,150 INFO sqlalchemy.engine.Engine [generated in 0.00056s] ()\n"
     ]
    },
    {
     "data": {
      "text/plain": [
       "[(1, '수지', ''), (2, '박효신', ''), (3, '아이유', '')]"
      ]
     },
     "execution_count": 36,
     "metadata": {},
     "output_type": "execute_result"
    }
   ],
   "source": [
    "print(Artist.select())\n",
    "conn.execute(Artist.select()).fetchall()"
   ]
  },
  {
   "cell_type": "code",
   "execution_count": 37,
   "metadata": {},
   "outputs": [
    {
     "name": "stdout",
     "output_type": "stream",
     "text": [
      "\"ALBUM\" JOIN \"ARTIST\" ON \"ALBUM\".\"FK\" = \"ARTIST\".\"PK\"\n"
     ]
    }
   ],
   "source": [
    "print(Album.join(Artist, Album.c.FK==Artist.c.PK))"
   ]
  },
  {
   "cell_type": "code",
   "execution_count": 40,
   "metadata": {},
   "outputs": [
    {
     "name": "stdout",
     "output_type": "stream",
     "text": [
      "2024-03-08 10:42:03,884 INFO sqlalchemy.engine.Engine SELECT \"ARTIST\".\"NAME\" \n",
      "FROM \"ALBUM\" JOIN \"ARTIST\" ON \"ALBUM\".\"FK\" = \"ARTIST\".\"PK\" \n",
      "WHERE \"ALBUM\".\"NAME\"\n",
      "2024-03-08 10:42:03,884 INFO sqlalchemy.engine.Engine [generated in 0.00079s] ()\n"
     ]
    },
    {
     "data": {
      "text/plain": [
       "[]"
      ]
     },
     "execution_count": 40,
     "metadata": {},
     "output_type": "execute_result"
    }
   ],
   "source": [
    "conn.execute(select([Artist.c.NAME], Album.c.NAME).select_from(\n",
    "    Album.join(Artist, Album.c.FK==Artist.c.PK)\n",
    ")).fetchall()"
   ]
  },
  {
   "cell_type": "code",
   "execution_count": 41,
   "metadata": {},
   "outputs": [
    {
     "name": "stdout",
     "output_type": "stream",
     "text": [
      "\"ALBUM\" JOIN \"ARTIST\" ON \"ALBUM\".\"FK\" = \"ARTIST\".\"PK\" JOIN \"TRACK\" ON \"ALBUM\".\"PK\" = \"TRACK\".\"AFK\"\n"
     ]
    }
   ],
   "source": [
    "print(Album.join(Artist, Album.c.FK==Artist.c.PK).join(Track, Album.c.PK==Track.c.AFK))"
   ]
  },
  {
   "cell_type": "code",
   "execution_count": 42,
   "metadata": {},
   "outputs": [
    {
     "name": "stdout",
     "output_type": "stream",
     "text": [
      "2024-03-08 10:43:41,360 INFO sqlalchemy.engine.Engine SELECT \"ARTIST\".\"NAME\", \"ALBUM\".\"NAME\" AS \"NAME_1\", \"TRACK\".\"NAME\" AS \"NAME_2\" \n",
      "FROM \"ALBUM\" JOIN \"ARTIST\" ON \"ALBUM\".\"FK\" = \"ARTIST\".\"PK\" JOIN \"TRACK\" ON \"ALBUM\".\"PK\" = \"TRACK\".\"AFK\"\n",
      "2024-03-08 10:43:41,361 INFO sqlalchemy.engine.Engine [generated in 0.00071s] ()\n"
     ]
    },
    {
     "data": {
      "text/plain": [
       "[('박효신', '박효신앨범', '박효신노래1'),\n",
       " ('박효신', '박효신앨범', '박효신노래2'),\n",
       " ('박효신', '박효신앨범', '박효신노래3'),\n",
       " ('아이유', '아이유앨범', '아이유노래1'),\n",
       " ('아이유', '아이유앨범', '아이유노래2'),\n",
       " ('아이유', '아이유앨범', '아이유노래3')]"
      ]
     },
     "execution_count": 42,
     "metadata": {},
     "output_type": "execute_result"
    }
   ],
   "source": [
    "conn.execute(select([Artist.c.NAME, Album.c.NAME, Track.c.NAME]).select_from(\n",
    "    Album.join(Artist, Album.c.FK==Artist.c.PK).join(Track, Album.c.PK==Track.c.AFK)\n",
    ")).fetchall()"
   ]
  },
  {
   "cell_type": "code",
   "execution_count": 44,
   "metadata": {},
   "outputs": [
    {
     "name": "stdout",
     "output_type": "stream",
     "text": [
      "\"ALBUM\" JOIN \"ARTIST\" ON \"ALBUM\".\"FK\" = \"ARTIST\".\"PK\" JOIN \"TRACK\" ON \"TRACK\".\"AFK\" = \"ALBUM\".\"PK\" JOIN \"GENRE\" ON \"TRACK\".\"GFK\" = \"GENRE\".\"PK\"\n"
     ]
    }
   ],
   "source": [
    "print( Album.join(Artist, Album.c.FK==Artist.c.PK) \\\n",
    "      .join(Track, Track.c.AFK==Album.c.PK) \\\n",
    "      .join(Genre, Track.c.GFK==Genre.c.PK) \\\n",
    "    )"
   ]
  },
  {
   "cell_type": "code",
   "execution_count": 45,
   "metadata": {},
   "outputs": [
    {
     "data": {
      "text/plain": [
       "Table('ARTIST', MetaData(), Column('PK', INTEGER(), table=<ARTIST>, primary_key=True), Column('NAME', TEXT(), table=<ARTIST>, nullable=False, server_default=DefaultClause(<sqlalchemy.sql.elements.TextClause object at 0x1199d4dd0>, for_update=False)), Column('temp', TEXT(), table=<ARTIST>, nullable=False, server_default=DefaultClause(<sqlalchemy.sql.elements.TextClause object at 0x119a52290>, for_update=False)), schema=None)"
      ]
     },
     "execution_count": 45,
     "metadata": {},
     "output_type": "execute_result"
    }
   ],
   "source": [
    "Artist"
   ]
  },
  {
   "cell_type": "code",
   "execution_count": 47,
   "metadata": {},
   "outputs": [
    {
     "ename": "InvalidRequestError",
     "evalue": "Table 'ARTIST' is already defined for this MetaData instance.  Specify 'extend_existing=True' to redefine options and columns on an existing Table object.",
     "output_type": "error",
     "traceback": [
      "\u001b[0;31m---------------------------------------------------------------------------\u001b[0m",
      "\u001b[0;31mInvalidRequestError\u001b[0m                       Traceback (most recent call last)",
      "Cell \u001b[0;32mIn[47], line 1\u001b[0m\n\u001b[0;32m----> 1\u001b[0m \u001b[43mTable\u001b[49m\u001b[43m(\u001b[49m\u001b[38;5;124;43m'\u001b[39;49m\u001b[38;5;124;43mARTIST\u001b[39;49m\u001b[38;5;124;43m'\u001b[39;49m\u001b[43m,\u001b[49m\u001b[43m \u001b[49m\u001b[43mmeta\u001b[49m\u001b[43m,\u001b[49m\u001b[43m \u001b[49m\u001b[43mColumn\u001b[49m\u001b[43m(\u001b[49m\u001b[38;5;124;43m'\u001b[39;49m\u001b[38;5;124;43mPK\u001b[39;49m\u001b[38;5;124;43m'\u001b[39;49m\u001b[43m,\u001b[49m\u001b[43mInteger\u001b[49m\u001b[43m)\u001b[49m\u001b[43m)\u001b[49m\n",
      "File \u001b[0;32m<string>:2\u001b[0m, in \u001b[0;36m__new__\u001b[0;34m(cls, *args, **kw)\u001b[0m\n",
      "File \u001b[0;32m~/2024_Korea_iisw/myvenv2/lib/python3.11/site-packages/sqlalchemy/util/deprecations.py:309\u001b[0m, in \u001b[0;36mdeprecated_params.<locals>.decorate.<locals>.warned\u001b[0;34m(fn, *args, **kwargs)\u001b[0m\n\u001b[1;32m    302\u001b[0m     \u001b[38;5;28;01mif\u001b[39;00m m \u001b[38;5;129;01min\u001b[39;00m kwargs:\n\u001b[1;32m    303\u001b[0m         _warn_with_version(\n\u001b[1;32m    304\u001b[0m             messages[m],\n\u001b[1;32m    305\u001b[0m             versions[m],\n\u001b[1;32m    306\u001b[0m             version_warnings[m],\n\u001b[1;32m    307\u001b[0m             stacklevel\u001b[38;5;241m=\u001b[39m\u001b[38;5;241m3\u001b[39m,\n\u001b[1;32m    308\u001b[0m         )\n\u001b[0;32m--> 309\u001b[0m \u001b[38;5;28;01mreturn\u001b[39;00m \u001b[43mfn\u001b[49m\u001b[43m(\u001b[49m\u001b[38;5;241;43m*\u001b[39;49m\u001b[43margs\u001b[49m\u001b[43m,\u001b[49m\u001b[43m \u001b[49m\u001b[38;5;241;43m*\u001b[39;49m\u001b[38;5;241;43m*\u001b[39;49m\u001b[43mkwargs\u001b[49m\u001b[43m)\u001b[49m\n",
      "File \u001b[0;32m~/2024_Korea_iisw/myvenv2/lib/python3.11/site-packages/sqlalchemy/sql/schema.py:593\u001b[0m, in \u001b[0;36mTable.__new__\u001b[0;34m(cls, *args, **kw)\u001b[0m\n\u001b[1;32m    591\u001b[0m \u001b[38;5;28;01mif\u001b[39;00m key \u001b[38;5;129;01min\u001b[39;00m metadata\u001b[38;5;241m.\u001b[39mtables:\n\u001b[1;32m    592\u001b[0m     \u001b[38;5;28;01mif\u001b[39;00m \u001b[38;5;129;01mnot\u001b[39;00m keep_existing \u001b[38;5;129;01mand\u001b[39;00m \u001b[38;5;129;01mnot\u001b[39;00m extend_existing \u001b[38;5;129;01mand\u001b[39;00m \u001b[38;5;28mbool\u001b[39m(args):\n\u001b[0;32m--> 593\u001b[0m         \u001b[38;5;28;01mraise\u001b[39;00m exc\u001b[38;5;241m.\u001b[39mInvalidRequestError(\n\u001b[1;32m    594\u001b[0m             \u001b[38;5;124m\"\u001b[39m\u001b[38;5;124mTable \u001b[39m\u001b[38;5;124m'\u001b[39m\u001b[38;5;132;01m%s\u001b[39;00m\u001b[38;5;124m'\u001b[39m\u001b[38;5;124m is already defined for this MetaData \u001b[39m\u001b[38;5;124m\"\u001b[39m\n\u001b[1;32m    595\u001b[0m             \u001b[38;5;124m\"\u001b[39m\u001b[38;5;124minstance.  Specify \u001b[39m\u001b[38;5;124m'\u001b[39m\u001b[38;5;124mextend_existing=True\u001b[39m\u001b[38;5;124m'\u001b[39m\u001b[38;5;124m \u001b[39m\u001b[38;5;124m\"\u001b[39m\n\u001b[1;32m    596\u001b[0m             \u001b[38;5;124m\"\u001b[39m\u001b[38;5;124mto redefine \u001b[39m\u001b[38;5;124m\"\u001b[39m\n\u001b[1;32m    597\u001b[0m             \u001b[38;5;124m\"\u001b[39m\u001b[38;5;124moptions and columns on an \u001b[39m\u001b[38;5;124m\"\u001b[39m\n\u001b[1;32m    598\u001b[0m             \u001b[38;5;124m\"\u001b[39m\u001b[38;5;124mexisting Table object.\u001b[39m\u001b[38;5;124m\"\u001b[39m \u001b[38;5;241m%\u001b[39m key\n\u001b[1;32m    599\u001b[0m         )\n\u001b[1;32m    600\u001b[0m     table \u001b[38;5;241m=\u001b[39m metadata\u001b[38;5;241m.\u001b[39mtables[key]\n\u001b[1;32m    601\u001b[0m     \u001b[38;5;28;01mif\u001b[39;00m extend_existing:\n",
      "\u001b[0;31mInvalidRequestError\u001b[0m: Table 'ARTIST' is already defined for this MetaData instance.  Specify 'extend_existing=True' to redefine options and columns on an existing Table object."
     ]
    }
   ],
   "source": [
    "Table('ARTIST', meta, Column('PK',Integer))"
   ]
  },
  {
   "cell_type": "code",
   "execution_count": 48,
   "metadata": {},
   "outputs": [],
   "source": [
    "meta.clear()\n",
    "conn.close()"
   ]
  },
  {
   "cell_type": "code",
   "execution_count": 49,
   "metadata": {},
   "outputs": [
    {
     "data": {
      "text/plain": [
       "(MetaData(), <sqlalchemy.engine.base.Connection at 0x119ae8f10>)"
      ]
     },
     "execution_count": 49,
     "metadata": {},
     "output_type": "execute_result"
    }
   ],
   "source": [
    "meta, conn"
   ]
  },
  {
   "cell_type": "code",
   "execution_count": 50,
   "metadata": {},
   "outputs": [],
   "source": [
    "engine = create_engine('sqlite:///:memory:\"', echo=True)\n",
    "conn = engine.connect()"
   ]
  },
  {
   "cell_type": "code",
   "execution_count": 51,
   "metadata": {},
   "outputs": [
    {
     "data": {
      "text/plain": [
       "MetaData()"
      ]
     },
     "execution_count": 51,
     "metadata": {},
     "output_type": "execute_result"
    }
   ],
   "source": [
    "meta"
   ]
  },
  {
   "cell_type": "code",
   "execution_count": 52,
   "metadata": {},
   "outputs": [
    {
     "data": {
      "text/plain": [
       "Table('TEMP', MetaData(), Column('PK', Integer(), table=<TEMP>), schema=None)"
      ]
     },
     "execution_count": 52,
     "metadata": {},
     "output_type": "execute_result"
    }
   ],
   "source": [
    "# 메타에만 등록이 된다.\n",
    "Table('TEMP', meta, Column('PK', Integer))"
   ]
  },
  {
   "cell_type": "code",
   "execution_count": 54,
   "metadata": {},
   "outputs": [
    {
     "ename": "InvalidRequestError",
     "evalue": "Table 'TEMP' is already defined for this MetaData instance.  Specify 'extend_existing=True' to redefine options and columns on an existing Table object.",
     "output_type": "error",
     "traceback": [
      "\u001b[0;31m---------------------------------------------------------------------------\u001b[0m",
      "\u001b[0;31mInvalidRequestError\u001b[0m                       Traceback (most recent call last)",
      "Cell \u001b[0;32mIn[54], line 1\u001b[0m\n\u001b[0;32m----> 1\u001b[0m \u001b[43mTable\u001b[49m\u001b[43m(\u001b[49m\u001b[38;5;124;43m'\u001b[39;49m\u001b[38;5;124;43mTEMP\u001b[39;49m\u001b[38;5;124;43m'\u001b[39;49m\u001b[43m,\u001b[49m\u001b[43m \u001b[49m\u001b[43mmeta\u001b[49m\u001b[43m,\u001b[49m\u001b[43m \u001b[49m\u001b[43mColumn\u001b[49m\u001b[43m(\u001b[49m\u001b[38;5;124;43m'\u001b[39;49m\u001b[38;5;124;43mPK\u001b[39;49m\u001b[38;5;124;43m'\u001b[39;49m\u001b[43m,\u001b[49m\u001b[43m \u001b[49m\u001b[43mInteger\u001b[49m\u001b[43m,\u001b[49m\u001b[43m \u001b[49m\u001b[43mprimary_key\u001b[49m\u001b[38;5;241;43m=\u001b[39;49m\u001b[38;5;28;43;01mTrue\u001b[39;49;00m\u001b[43m)\u001b[49m\u001b[43m)\u001b[49m\n",
      "File \u001b[0;32m<string>:2\u001b[0m, in \u001b[0;36m__new__\u001b[0;34m(cls, *args, **kw)\u001b[0m\n",
      "File \u001b[0;32m~/2024_Korea_iisw/myvenv2/lib/python3.11/site-packages/sqlalchemy/util/deprecations.py:309\u001b[0m, in \u001b[0;36mdeprecated_params.<locals>.decorate.<locals>.warned\u001b[0;34m(fn, *args, **kwargs)\u001b[0m\n\u001b[1;32m    302\u001b[0m     \u001b[38;5;28;01mif\u001b[39;00m m \u001b[38;5;129;01min\u001b[39;00m kwargs:\n\u001b[1;32m    303\u001b[0m         _warn_with_version(\n\u001b[1;32m    304\u001b[0m             messages[m],\n\u001b[1;32m    305\u001b[0m             versions[m],\n\u001b[1;32m    306\u001b[0m             version_warnings[m],\n\u001b[1;32m    307\u001b[0m             stacklevel\u001b[38;5;241m=\u001b[39m\u001b[38;5;241m3\u001b[39m,\n\u001b[1;32m    308\u001b[0m         )\n\u001b[0;32m--> 309\u001b[0m \u001b[38;5;28;01mreturn\u001b[39;00m \u001b[43mfn\u001b[49m\u001b[43m(\u001b[49m\u001b[38;5;241;43m*\u001b[39;49m\u001b[43margs\u001b[49m\u001b[43m,\u001b[49m\u001b[43m \u001b[49m\u001b[38;5;241;43m*\u001b[39;49m\u001b[38;5;241;43m*\u001b[39;49m\u001b[43mkwargs\u001b[49m\u001b[43m)\u001b[49m\n",
      "File \u001b[0;32m~/2024_Korea_iisw/myvenv2/lib/python3.11/site-packages/sqlalchemy/sql/schema.py:593\u001b[0m, in \u001b[0;36mTable.__new__\u001b[0;34m(cls, *args, **kw)\u001b[0m\n\u001b[1;32m    591\u001b[0m \u001b[38;5;28;01mif\u001b[39;00m key \u001b[38;5;129;01min\u001b[39;00m metadata\u001b[38;5;241m.\u001b[39mtables:\n\u001b[1;32m    592\u001b[0m     \u001b[38;5;28;01mif\u001b[39;00m \u001b[38;5;129;01mnot\u001b[39;00m keep_existing \u001b[38;5;129;01mand\u001b[39;00m \u001b[38;5;129;01mnot\u001b[39;00m extend_existing \u001b[38;5;129;01mand\u001b[39;00m \u001b[38;5;28mbool\u001b[39m(args):\n\u001b[0;32m--> 593\u001b[0m         \u001b[38;5;28;01mraise\u001b[39;00m exc\u001b[38;5;241m.\u001b[39mInvalidRequestError(\n\u001b[1;32m    594\u001b[0m             \u001b[38;5;124m\"\u001b[39m\u001b[38;5;124mTable \u001b[39m\u001b[38;5;124m'\u001b[39m\u001b[38;5;132;01m%s\u001b[39;00m\u001b[38;5;124m'\u001b[39m\u001b[38;5;124m is already defined for this MetaData \u001b[39m\u001b[38;5;124m\"\u001b[39m\n\u001b[1;32m    595\u001b[0m             \u001b[38;5;124m\"\u001b[39m\u001b[38;5;124minstance.  Specify \u001b[39m\u001b[38;5;124m'\u001b[39m\u001b[38;5;124mextend_existing=True\u001b[39m\u001b[38;5;124m'\u001b[39m\u001b[38;5;124m \u001b[39m\u001b[38;5;124m\"\u001b[39m\n\u001b[1;32m    596\u001b[0m             \u001b[38;5;124m\"\u001b[39m\u001b[38;5;124mto redefine \u001b[39m\u001b[38;5;124m\"\u001b[39m\n\u001b[1;32m    597\u001b[0m             \u001b[38;5;124m\"\u001b[39m\u001b[38;5;124moptions and columns on an \u001b[39m\u001b[38;5;124m\"\u001b[39m\n\u001b[1;32m    598\u001b[0m             \u001b[38;5;124m\"\u001b[39m\u001b[38;5;124mexisting Table object.\u001b[39m\u001b[38;5;124m\"\u001b[39m \u001b[38;5;241m%\u001b[39m key\n\u001b[1;32m    599\u001b[0m         )\n\u001b[1;32m    600\u001b[0m     table \u001b[38;5;241m=\u001b[39m metadata\u001b[38;5;241m.\u001b[39mtables[key]\n\u001b[1;32m    601\u001b[0m     \u001b[38;5;28;01mif\u001b[39;00m extend_existing:\n",
      "\u001b[0;31mInvalidRequestError\u001b[0m: Table 'TEMP' is already defined for this MetaData instance.  Specify 'extend_existing=True' to redefine options and columns on an existing Table object."
     ]
    }
   ],
   "source": [
    "Table('TEMP', meta, Column('PK', Integer, primary_key=True))"
   ]
  },
  {
   "cell_type": "code",
   "execution_count": 53,
   "metadata": {},
   "outputs": [
    {
     "data": {
      "text/plain": [
       "Table('TEMP', MetaData(), Column('PK', Integer(), table=<TEMP>, primary_key=True, nullable=False), schema=None)"
      ]
     },
     "execution_count": 53,
     "metadata": {},
     "output_type": "execute_result"
    }
   ],
   "source": [
    "# 메타에 테이블이 존재하면 그 테이블을 수정한다.\n",
    "Table('TEMP', meta, Column('PK', Integer, primary_key=True), extend_existing=True)"
   ]
  },
  {
   "cell_type": "code",
   "execution_count": 55,
   "metadata": {},
   "outputs": [
    {
     "name": "stdout",
     "output_type": "stream",
     "text": [
      "2024-03-08 10:51:57,675 INFO sqlalchemy.engine.Engine PRAGMA main.table_info(\"TEMP\")\n",
      "2024-03-08 10:51:57,676 INFO sqlalchemy.engine.Engine [raw sql] ()\n",
      "2024-03-08 10:51:57,677 INFO sqlalchemy.engine.Engine PRAGMA temp.table_info(\"TEMP\")\n",
      "2024-03-08 10:51:57,677 INFO sqlalchemy.engine.Engine [raw sql] ()\n",
      "2024-03-08 10:51:57,678 INFO sqlalchemy.engine.Engine \n",
      "CREATE TABLE \"TEMP\" (\n",
      "\t\"PK\" INTEGER NOT NULL, \n",
      "\tPRIMARY KEY (\"PK\")\n",
      ")\n",
      "\n",
      "\n",
      "2024-03-08 10:51:57,678 INFO sqlalchemy.engine.Engine [no key 0.00023s] ()\n",
      "2024-03-08 10:51:57,679 INFO sqlalchemy.engine.Engine COMMIT\n"
     ]
    }
   ],
   "source": [
    "meta.create_all(conn) # 이렇게 해야 테이블이 생성이 된다. \n",
    "# lazy connection 이 이건가? "
   ]
  },
  {
   "cell_type": "code",
   "execution_count": null,
   "metadata": {},
   "outputs": [],
   "source": [
    "Table('TEMP', meta, Column('PK', Integer, primary_key=True))\n",
    "# ORM은 주로 기존에 있는 DB에 매핑할 때 주로 사용한다. "
   ]
  },
  {
   "cell_type": "code",
   "execution_count": 56,
   "metadata": {},
   "outputs": [],
   "source": [
    "# mapper를 사용할 것 이다. 클래스는 다음 주 월요일에. "
   ]
  },
  {
   "cell_type": "code",
   "execution_count": null,
   "metadata": {},
   "outputs": [],
   "source": []
  }
 ],
 "metadata": {
  "kernelspec": {
   "display_name": "myvenv2",
   "language": "python",
   "name": "python3"
  },
  "language_info": {
   "codemirror_mode": {
    "name": "ipython",
    "version": 3
   },
   "file_extension": ".py",
   "mimetype": "text/x-python",
   "name": "python",
   "nbconvert_exporter": "python",
   "pygments_lexer": "ipython3",
   "version": "3.11.8"
  }
 },
 "nbformat": 4,
 "nbformat_minor": 2
}
