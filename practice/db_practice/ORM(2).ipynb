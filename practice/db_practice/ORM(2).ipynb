{
 "cells": [
  {
   "cell_type": "code",
   "execution_count": 1,
   "id": "0653750e-11aa-4dd8-9f19-fd8d56f327ef",
   "metadata": {},
   "outputs": [],
   "source": [
    "# class + ORM"
   ]
  },
  {
   "cell_type": "code",
   "execution_count": 2,
   "id": "0aca4f08-7106-4148-a98f-3b2f0ac8752a",
   "metadata": {},
   "outputs": [],
   "source": [
    "# 순서\n",
    "# declarative_base\n",
    "\n",
    "# sqlalchemy 구조 복습하기***\n",
    "# 새로운 개념(까먹은 개념): Meta Data, Session, commit"
   ]
  },
  {
   "cell_type": "code",
   "execution_count": 53,
   "id": "b39da60e-0d7f-4d59-a66d-f6c88f8a32f2",
   "metadata": {},
   "outputs": [],
   "source": [
    "from sqlalchemy.engine import create_engine\n",
    "from sqlalchemy.ext.declarative import declarative_base\n",
    "from sqlalchemy.schema import Column, ForeignKey\n",
    "from sqlalchemy.types import Integer, Text\n",
    "from sqlalchemy.orm.session import sessionmaker"
   ]
  },
  {
   "cell_type": "code",
   "execution_count": 2,
   "id": "f0ebb416-a1a2-4760-a575-690407f8422c",
   "metadata": {},
   "outputs": [],
   "source": [
    "engine = create_engine('sqlite:///:memory:', echo=True)"
   ]
  },
  {
   "cell_type": "code",
   "execution_count": 3,
   "id": "578a1f11-1098-4b82-8e8e-0cc695d15935",
   "metadata": {},
   "outputs": [],
   "source": [
    "base = declarative_base()"
   ]
  },
  {
   "cell_type": "code",
   "execution_count": 4,
   "id": "6886dd67-3459-4f50-bff1-d56ad6e03f7d",
   "metadata": {},
   "outputs": [],
   "source": [
    "class User(base):\n",
    "    __tablename__ = 'T_USER'\n",
    "    __table_args__ = {'extend_existing':True} # 테이블 객체에 있었다.\n",
    "\n",
    "    pk = Column('PK',  Integer, primary_key=True)\n",
    "    name = Column('NAME', Text, nullable=False)\n",
    "\n",
    "    def __repr__(self):\n",
    "        return f'pk={self.pk}. name={self.name}'\n",
    "\n",
    "# base에 등록된 User 클래스 - 아래의 테이블과 다르다."
   ]
  },
  {
   "cell_type": "code",
   "execution_count": 5,
   "id": "b10e6c7b-71a6-42fe-9342-162e8a307ead",
   "metadata": {},
   "outputs": [
    {
     "data": {
      "text/plain": [
       "FacadeDict({'T_USER': Table('T_USER', MetaData(), Column('PK', Integer(), table=<T_USER>, primary_key=True, nullable=False), Column('NAME', Text(), table=<T_USER>, nullable=False), schema=None)})"
      ]
     },
     "execution_count": 5,
     "metadata": {},
     "output_type": "execute_result"
    }
   ],
   "source": [
    "# ORM - tabel 객체\n",
    "base.metadata.tables "
   ]
  },
  {
   "cell_type": "code",
   "execution_count": 6,
   "id": "4196838c-bdd4-4d2e-b62d-4c61ad1838bd",
   "metadata": {},
   "outputs": [
    {
     "name": "stdout",
     "output_type": "stream",
     "text": [
      "2024-03-18 11:21:59,009 INFO sqlalchemy.engine.Engine BEGIN (implicit)\n",
      "2024-03-18 11:21:59,011 INFO sqlalchemy.engine.Engine PRAGMA main.table_info(\"T_USER\")\n",
      "2024-03-18 11:21:59,012 INFO sqlalchemy.engine.Engine [raw sql] ()\n",
      "2024-03-18 11:21:59,014 INFO sqlalchemy.engine.Engine PRAGMA temp.table_info(\"T_USER\")\n",
      "2024-03-18 11:21:59,015 INFO sqlalchemy.engine.Engine [raw sql] ()\n",
      "2024-03-18 11:21:59,016 INFO sqlalchemy.engine.Engine \n",
      "CREATE TABLE \"T_USER\" (\n",
      "\t\"PK\" INTEGER NOT NULL, \n",
      "\t\"NAME\" TEXT NOT NULL, \n",
      "\tPRIMARY KEY (\"PK\")\n",
      ")\n",
      "\n",
      "\n",
      "2024-03-18 11:21:59,017 INFO sqlalchemy.engine.Engine [no key 0.00082s] ()\n",
      "2024-03-18 11:21:59,018 INFO sqlalchemy.engine.Engine COMMIT\n"
     ]
    }
   ],
   "source": [
    "base.metadata.create_all(engine) # 이때 테이블이 생성된다.\n",
    "                                 # Table 객체를 DB에 반영(테이블 생성시)"
   ]
  },
  {
   "cell_type": "code",
   "execution_count": 15,
   "id": "450ed7c6-14e7-4ac6-b142-74d57f7d3e3b",
   "metadata": {},
   "outputs": [
    {
     "ename": "SyntaxError",
     "evalue": "invalid syntax (1939222039.py, line 1)",
     "output_type": "error",
     "traceback": [
      "\u001b[0;36m  Cell \u001b[0;32mIn[15], line 1\u001b[0;36m\u001b[0m\n\u001b[0;31m    Mapping; base       ORM;core    DB\u001b[0m\n\u001b[0m                        ^\u001b[0m\n\u001b[0;31mSyntaxError\u001b[0m\u001b[0;31m:\u001b[0m invalid syntax\n"
     ]
    }
   ],
   "source": [
    "Mapping; base      ORM;core    DB\n",
    "declarative_base   Metadata    RDBMS\n",
    "Class(base)        Table객체    Table 생김"
   ]
  },
  {
   "cell_type": "code",
   "execution_count": 7,
   "id": "4434eaae-7b18-434c-b8c6-20be8a3b565a",
   "metadata": {},
   "outputs": [],
   "source": [
    "a = User(name='kim')"
   ]
  },
  {
   "cell_type": "code",
   "execution_count": 8,
   "id": "da493f1f-28bf-4e3d-a4e6-46e2fa2f52a3",
   "metadata": {},
   "outputs": [
    {
     "data": {
      "text/plain": [
       "pk=None. name=kim"
      ]
     },
     "execution_count": 8,
     "metadata": {},
     "output_type": "execute_result"
    }
   ],
   "source": [
    "a # 아직 DB에 안들어가서 PK 값이 없다."
   ]
  },
  {
   "cell_type": "code",
   "execution_count": 9,
   "id": "573aeac0-ae75-4804-aa30-194447fccaa4",
   "metadata": {},
   "outputs": [],
   "source": [
    "# 세션만들기\n",
    "session = sessionmaker(engine)\n",
    "sess = session()"
   ]
  },
  {
   "cell_type": "code",
   "execution_count": 10,
   "id": "33157dd3-3a87-405b-aa2b-838281a6199e",
   "metadata": {},
   "outputs": [],
   "source": [
    "# session 객체가 주시하고 있는 클래스의 인스턴스를 등록하는 과정\n",
    "sess.add(a)"
   ]
  },
  {
   "cell_type": "code",
   "execution_count": 11,
   "id": "21352be1-846f-4e9f-a1a0-fd848ac92bff",
   "metadata": {},
   "outputs": [
    {
     "data": {
      "text/plain": [
       "IdentitySet([])"
      ]
     },
     "execution_count": 11,
     "metadata": {},
     "output_type": "execute_result"
    }
   ],
   "source": [
    "sess.dirty # 세션이 관측하고 있는 객체에 변화가 감지 되었는가."
   ]
  },
  {
   "cell_type": "code",
   "execution_count": 12,
   "id": "2458f4a0-9cd6-460e-b879-f3988ae21727",
   "metadata": {},
   "outputs": [
    {
     "data": {
      "text/plain": [
       "True"
      ]
     },
     "execution_count": 12,
     "metadata": {},
     "output_type": "execute_result"
    }
   ],
   "source": [
    "sess.is_modified(a) # 특정 객체가 어떻게 되었는가 변했는가?"
   ]
  },
  {
   "cell_type": "code",
   "execution_count": 13,
   "id": "8890b3ab-0d4b-4930-8a47-644b17c96c3b",
   "metadata": {},
   "outputs": [
    {
     "name": "stdout",
     "output_type": "stream",
     "text": [
      "2024-03-18 11:22:16,225 INFO sqlalchemy.engine.Engine BEGIN (implicit)\n",
      "2024-03-18 11:22:16,228 INFO sqlalchemy.engine.Engine INSERT INTO \"T_USER\" (\"NAME\") VALUES (?)\n",
      "2024-03-18 11:22:16,229 INFO sqlalchemy.engine.Engine [generated in 0.00104s] ('kim',)\n",
      "2024-03-18 11:22:16,230 INFO sqlalchemy.engine.Engine COMMIT\n"
     ]
    }
   ],
   "source": [
    "sess.commit()"
   ]
  },
  {
   "cell_type": "code",
   "execution_count": 14,
   "id": "2d746c17-354e-478b-98af-9710c33d91bb",
   "metadata": {},
   "outputs": [
    {
     "data": {
      "text/plain": [
       "False"
      ]
     },
     "execution_count": 14,
     "metadata": {},
     "output_type": "execute_result"
    }
   ],
   "source": [
    "sess.is_modified(a)"
   ]
  },
  {
   "cell_type": "code",
   "execution_count": 15,
   "id": "c5f337cb-2ae1-48e3-9c7c-3a61cac8a4aa",
   "metadata": {},
   "outputs": [
    {
     "name": "stdout",
     "output_type": "stream",
     "text": [
      "2024-03-18 11:22:18,495 INFO sqlalchemy.engine.Engine BEGIN (implicit)\n",
      "2024-03-18 11:22:18,507 INFO sqlalchemy.engine.Engine SELECT \"T_USER\".\"PK\" AS \"T_USER_PK\", \"T_USER\".\"NAME\" AS \"T_USER_NAME\" \n",
      "FROM \"T_USER\" \n",
      "WHERE \"T_USER\".\"PK\" = ?\n",
      "2024-03-18 11:22:18,508 INFO sqlalchemy.engine.Engine [generated in 0.00138s] (1,)\n"
     ]
    },
    {
     "data": {
      "text/plain": [
       "pk=1. name=kim"
      ]
     },
     "execution_count": 15,
     "metadata": {},
     "output_type": "execute_result"
    }
   ],
   "source": [
    "a"
   ]
  },
  {
   "cell_type": "code",
   "execution_count": 16,
   "id": "aed87a6c-a2fe-4d14-baaa-9e058ed026f6",
   "metadata": {},
   "outputs": [],
   "source": [
    "a.name = '이름 바뀜'"
   ]
  },
  {
   "cell_type": "code",
   "execution_count": 17,
   "id": "2ccb540e-7dca-4e0d-9194-b04236f6a6e7",
   "metadata": {},
   "outputs": [
    {
     "data": {
      "text/plain": [
       "pk=1. name=이름 바뀜"
      ]
     },
     "execution_count": 17,
     "metadata": {},
     "output_type": "execute_result"
    }
   ],
   "source": [
    "a"
   ]
  },
  {
   "cell_type": "code",
   "execution_count": 18,
   "id": "2fd29ba4-a7d4-463c-9852-66bd5b6a765d",
   "metadata": {},
   "outputs": [
    {
     "data": {
      "text/plain": [
       "IdentitySet([pk=1. name=이름 바뀜])"
      ]
     },
     "execution_count": 18,
     "metadata": {},
     "output_type": "execute_result"
    }
   ],
   "source": [
    "sess.dirty"
   ]
  },
  {
   "cell_type": "code",
   "execution_count": 19,
   "id": "2d2b2262-98e5-494a-a1bb-9cb67eaec5e6",
   "metadata": {},
   "outputs": [
    {
     "name": "stdout",
     "output_type": "stream",
     "text": [
      "2024-03-18 11:22:22,991 INFO sqlalchemy.engine.Engine UPDATE \"T_USER\" SET \"NAME\"=? WHERE \"T_USER\".\"PK\" = ?\n",
      "2024-03-18 11:22:22,995 INFO sqlalchemy.engine.Engine [generated in 0.00365s] ('이름 바뀜', 1)\n",
      "2024-03-18 11:22:22,997 INFO sqlalchemy.engine.Engine COMMIT\n"
     ]
    }
   ],
   "source": [
    "sess.commit()"
   ]
  },
  {
   "cell_type": "code",
   "execution_count": 20,
   "id": "ae073616-1b49-462e-9871-32c4708ae286",
   "metadata": {},
   "outputs": [
    {
     "name": "stdout",
     "output_type": "stream",
     "text": [
      "2024-03-18 11:22:24,595 INFO sqlalchemy.engine.Engine BEGIN (implicit)\n",
      "2024-03-18 11:22:24,602 INFO sqlalchemy.engine.Engine SELECT \"T_USER\".\"PK\" AS \"T_USER_PK\", \"T_USER\".\"NAME\" AS \"T_USER_NAME\" \n",
      "FROM \"T_USER\"\n",
      "2024-03-18 11:22:24,603 INFO sqlalchemy.engine.Engine [generated in 0.00092s] ()\n",
      "2024-03-18 11:22:24,605 INFO sqlalchemy.engine.Engine SELECT \"T_USER\".\"PK\" AS \"T_USER_PK\", \"T_USER\".\"NAME\" AS \"T_USER_NAME\" \n",
      "FROM \"T_USER\" \n",
      "WHERE \"T_USER\".\"PK\" = ?\n",
      "2024-03-18 11:22:24,606 INFO sqlalchemy.engine.Engine [generated in 0.00066s] (1,)\n",
      "2024-03-18 11:22:24,606 INFO sqlalchemy.engine.Engine SELECT \"T_USER\".\"PK\" AS \"T_USER_PK\", \"T_USER\".\"NAME\" AS \"T_USER_NAME\" \n",
      "FROM \"T_USER\"\n",
      "2024-03-18 11:22:24,607 INFO sqlalchemy.engine.Engine [cached since 0.00541s ago] ()\n"
     ]
    },
    {
     "data": {
      "text/plain": [
       "pk=1. name=이름 바뀜"
      ]
     },
     "execution_count": 20,
     "metadata": {},
     "output_type": "execute_result"
    }
   ],
   "source": [
    "sess.query(User).all() is a\n",
    "sess.query(User).filter(User.pk == 1).all()[0] is a\n",
    "sess.query(User).all()[0]"
   ]
  },
  {
   "cell_type": "code",
   "execution_count": 21,
   "id": "e4d5d6c1-1748-4d2a-a6fe-1c50a3a21753",
   "metadata": {},
   "outputs": [],
   "source": [
    "# 메타데이터를 만들어서 싱크 시킬 수도 있고\n",
    "# reflect를 통해 데이터베이스에 직접 소통가능"
   ]
  },
  {
   "cell_type": "code",
   "execution_count": 22,
   "id": "2d1cb85f-259c-4ccc-a510-09e16730864b",
   "metadata": {},
   "outputs": [],
   "source": [
    "base.registry.dispose()"
   ]
  },
  {
   "cell_type": "code",
   "execution_count": 23,
   "id": "315ae354-c718-43ab-9866-43db3bd48e4c",
   "metadata": {},
   "outputs": [
    {
     "data": {
      "text/plain": [
       "FacadeDict({'T_USER': Table('T_USER', MetaData(), Column('PK', Integer(), table=<T_USER>, primary_key=True, nullable=False), Column('NAME', Text(), table=<T_USER>, nullable=False), schema=None)})"
      ]
     },
     "execution_count": 23,
     "metadata": {},
     "output_type": "execute_result"
    }
   ],
   "source": [
    "base.metadata.tables"
   ]
  },
  {
   "cell_type": "code",
   "execution_count": 24,
   "id": "c6447279-249a-48ef-84b2-03062163c276",
   "metadata": {},
   "outputs": [],
   "source": [
    "# 메타데이터를 따로 관리하는 경우\n",
    "class User(base):\n",
    "    __table__ = base.metadata.tables['T_USER']\n",
    "    "
   ]
  },
  {
   "cell_type": "code",
   "execution_count": 25,
   "id": "51146837-ae92-4918-b521-95254e891771",
   "metadata": {},
   "outputs": [
    {
     "name": "stdout",
     "output_type": "stream",
     "text": [
      "2024-03-18 11:22:30,785 INFO sqlalchemy.engine.Engine SELECT \"T_USER\".\"PK\" AS \"T_USER_PK\", \"T_USER\".\"NAME\" AS \"T_USER_NAME\" \n",
      "FROM \"T_USER\"\n",
      "2024-03-18 11:22:30,786 INFO sqlalchemy.engine.Engine [generated in 0.00090s] ()\n"
     ]
    },
    {
     "data": {
      "text/plain": [
       "<__main__.User at 0x11191e150>"
      ]
     },
     "execution_count": 25,
     "metadata": {},
     "output_type": "execute_result"
    }
   ],
   "source": [
    "# sess.query(User).all() is a\n",
    "# sess.query(User).filter(User.pk == 1).all()[0] is a\n",
    "sess.query(User).all()[0]"
   ]
  },
  {
   "cell_type": "code",
   "execution_count": 26,
   "id": "1f150849-fbe6-4ac6-8598-410faa918c71",
   "metadata": {},
   "outputs": [
    {
     "name": "stderr",
     "output_type": "stream",
     "text": [
      "/var/folders/1n/x_wfn1w17ng2dw0lf7_z5klw0000gn/T/ipykernel_70757/771683204.py:2: SAWarning: This declarative base already contains a class with the same class name and module name as __main__.User, and will be replaced in the string-lookup table.\n",
      "  class User(base):\n"
     ]
    }
   ],
   "source": [
    "from sqlalchemy.schema import Table\n",
    "class User(base):\n",
    "    __table__ = Table('T_USER', base.metadata, reflect=True)\n",
    "    __table_args__ = { 'extend_existing':True }"
   ]
  },
  {
   "cell_type": "code",
   "execution_count": 27,
   "id": "d1ee1d67-0586-41e1-885e-a0b1fafc2fb2",
   "metadata": {},
   "outputs": [],
   "source": [
    "class Address(base):\n",
    "    __tablename__ = 'T_ADDRESS'\n",
    "    __table_args__ = { 'extend_existing':True }\n",
    "\n",
    "    pk = Column('PK', Integer, primary_key = True)\n",
    "    address = Column('ADDRESS', Text)\n",
    "    fk = ForeignKey(User.PK)"
   ]
  },
  {
   "cell_type": "code",
   "execution_count": 28,
   "id": "0a1c9f2d-4603-469b-8936-34d62845b81c",
   "metadata": {},
   "outputs": [
    {
     "name": "stdout",
     "output_type": "stream",
     "text": [
      "2024-03-18 11:30:24,638 INFO sqlalchemy.engine.Engine BEGIN (implicit)\n",
      "2024-03-18 11:30:24,640 INFO sqlalchemy.engine.Engine PRAGMA main.table_info(\"T_USER\")\n",
      "2024-03-18 11:30:24,642 INFO sqlalchemy.engine.Engine [raw sql] ()\n",
      "2024-03-18 11:30:24,643 INFO sqlalchemy.engine.Engine PRAGMA main.table_info(\"T_ADDRESS\")\n",
      "2024-03-18 11:30:24,643 INFO sqlalchemy.engine.Engine [raw sql] ()\n",
      "2024-03-18 11:30:24,644 INFO sqlalchemy.engine.Engine PRAGMA temp.table_info(\"T_ADDRESS\")\n",
      "2024-03-18 11:30:24,645 INFO sqlalchemy.engine.Engine [raw sql] ()\n",
      "2024-03-18 11:30:24,646 INFO sqlalchemy.engine.Engine \n",
      "CREATE TABLE \"T_ADDRESS\" (\n",
      "\t\"PK\" INTEGER NOT NULL, \n",
      "\t\"ADDRESS\" TEXT, \n",
      "\tPRIMARY KEY (\"PK\")\n",
      ")\n",
      "\n",
      "\n",
      "2024-03-18 11:30:24,647 INFO sqlalchemy.engine.Engine [no key 0.00058s] ()\n",
      "2024-03-18 11:30:24,648 INFO sqlalchemy.engine.Engine COMMIT\n"
     ]
    }
   ],
   "source": [
    "base.metadata.create_all(engine)"
   ]
  },
  {
   "cell_type": "code",
   "execution_count": 30,
   "id": "bdddbbd9-1c96-441a-8f0d-fd3ae39085a1",
   "metadata": {},
   "outputs": [
    {
     "name": "stdout",
     "output_type": "stream",
     "text": [
      "2024-03-18 11:30:53,021 INFO sqlalchemy.engine.Engine SELECT \"T_USER\".\"PK\" AS \"T_USER_PK\", \"T_USER\".\"NAME\" AS \"T_USER_NAME\" \n",
      "FROM \"T_USER\"\n",
      "2024-03-18 11:30:53,022 INFO sqlalchemy.engine.Engine [generated in 0.00076s] ()\n"
     ]
    }
   ],
   "source": [
    "a = sess.query(User).one()"
   ]
  },
  {
   "cell_type": "code",
   "execution_count": 33,
   "id": "cb5671a8-40b9-4562-ac4f-eb1f9ac24ddf",
   "metadata": {},
   "outputs": [],
   "source": [
    "sess.add(Address(address='주소', fk=a.PK))"
   ]
  },
  {
   "cell_type": "code",
   "execution_count": 36,
   "id": "00ec1c9d-5f28-4745-992b-bf9d4d89e600",
   "metadata": {},
   "outputs": [
    {
     "data": {
      "text/plain": [
       "(IdentitySet([]), False)"
      ]
     },
     "execution_count": 36,
     "metadata": {},
     "output_type": "execute_result"
    }
   ],
   "source": [
    "sess.dirty, sess.is_modified(a) "
   ]
  },
  {
   "cell_type": "code",
   "execution_count": 37,
   "id": "b386926c-827c-4243-ba95-ae48a918c702",
   "metadata": {
    "scrolled": true
   },
   "outputs": [
    {
     "name": "stdout",
     "output_type": "stream",
     "text": [
      "2024-03-18 11:32:13,333 INFO sqlalchemy.engine.Engine INSERT INTO \"T_ADDRESS\" (\"ADDRESS\") VALUES (?)\n",
      "2024-03-18 11:32:13,339 INFO sqlalchemy.engine.Engine [generated in 0.00623s] ('주소',)\n",
      "2024-03-18 11:32:13,342 INFO sqlalchemy.engine.Engine COMMIT\n"
     ]
    },
    {
     "ename": "AttributeError",
     "evalue": "'NoneType' object has no attribute 'expire'",
     "output_type": "error",
     "traceback": [
      "\u001b[0;31m---------------------------------------------------------------------------\u001b[0m",
      "\u001b[0;31mAttributeError\u001b[0m                            Traceback (most recent call last)",
      "Cell \u001b[0;32mIn[37], line 1\u001b[0m\n\u001b[0;32m----> 1\u001b[0m \u001b[43msess\u001b[49m\u001b[38;5;241;43m.\u001b[39;49m\u001b[43mcommit\u001b[49m\u001b[43m(\u001b[49m\u001b[43m)\u001b[49m\n",
      "File \u001b[0;32m~/2024_Korea_iisw/myvenv2/lib/python3.11/site-packages/sqlalchemy/orm/session.py:1451\u001b[0m, in \u001b[0;36mSession.commit\u001b[0;34m(self)\u001b[0m\n\u001b[1;32m   1448\u001b[0m     \u001b[38;5;28;01mif\u001b[39;00m \u001b[38;5;129;01mnot\u001b[39;00m \u001b[38;5;28mself\u001b[39m\u001b[38;5;241m.\u001b[39m_autobegin():\n\u001b[1;32m   1449\u001b[0m         \u001b[38;5;28;01mraise\u001b[39;00m sa_exc\u001b[38;5;241m.\u001b[39mInvalidRequestError(\u001b[38;5;124m\"\u001b[39m\u001b[38;5;124mNo transaction is begun.\u001b[39m\u001b[38;5;124m\"\u001b[39m)\n\u001b[0;32m-> 1451\u001b[0m \u001b[38;5;28;43mself\u001b[39;49m\u001b[38;5;241;43m.\u001b[39;49m\u001b[43m_transaction\u001b[49m\u001b[38;5;241;43m.\u001b[39;49m\u001b[43mcommit\u001b[49m\u001b[43m(\u001b[49m\u001b[43m_to_root\u001b[49m\u001b[38;5;241;43m=\u001b[39;49m\u001b[38;5;28;43mself\u001b[39;49m\u001b[38;5;241;43m.\u001b[39;49m\u001b[43mfuture\u001b[49m\u001b[43m)\u001b[49m\n",
      "File \u001b[0;32m~/2024_Korea_iisw/myvenv2/lib/python3.11/site-packages/sqlalchemy/orm/session.py:841\u001b[0m, in \u001b[0;36mSessionTransaction.commit\u001b[0;34m(self, _to_root)\u001b[0m\n\u001b[1;32m    838\u001b[0m     \u001b[38;5;28mself\u001b[39m\u001b[38;5;241m.\u001b[39m_state \u001b[38;5;241m=\u001b[39m COMMITTED\n\u001b[1;32m    839\u001b[0m     \u001b[38;5;28mself\u001b[39m\u001b[38;5;241m.\u001b[39msession\u001b[38;5;241m.\u001b[39mdispatch\u001b[38;5;241m.\u001b[39mafter_commit(\u001b[38;5;28mself\u001b[39m\u001b[38;5;241m.\u001b[39msession)\n\u001b[0;32m--> 841\u001b[0m     \u001b[38;5;28;43mself\u001b[39;49m\u001b[38;5;241;43m.\u001b[39;49m\u001b[43m_remove_snapshot\u001b[49m\u001b[43m(\u001b[49m\u001b[43m)\u001b[49m\n\u001b[1;32m    843\u001b[0m \u001b[38;5;28mself\u001b[39m\u001b[38;5;241m.\u001b[39mclose()\n\u001b[1;32m    845\u001b[0m \u001b[38;5;28;01mif\u001b[39;00m _to_root \u001b[38;5;129;01mand\u001b[39;00m \u001b[38;5;28mself\u001b[39m\u001b[38;5;241m.\u001b[39m_parent:\n",
      "File \u001b[0;32m~/2024_Korea_iisw/myvenv2/lib/python3.11/site-packages/sqlalchemy/orm/session.py:708\u001b[0m, in \u001b[0;36mSessionTransaction._remove_snapshot\u001b[0;34m(self)\u001b[0m\n\u001b[1;32m    706\u001b[0m \u001b[38;5;28;01mif\u001b[39;00m \u001b[38;5;129;01mnot\u001b[39;00m \u001b[38;5;28mself\u001b[39m\u001b[38;5;241m.\u001b[39mnested \u001b[38;5;129;01mand\u001b[39;00m \u001b[38;5;28mself\u001b[39m\u001b[38;5;241m.\u001b[39msession\u001b[38;5;241m.\u001b[39mexpire_on_commit:\n\u001b[1;32m    707\u001b[0m     \u001b[38;5;28;01mfor\u001b[39;00m s \u001b[38;5;129;01min\u001b[39;00m \u001b[38;5;28mself\u001b[39m\u001b[38;5;241m.\u001b[39msession\u001b[38;5;241m.\u001b[39midentity_map\u001b[38;5;241m.\u001b[39mall_states():\n\u001b[0;32m--> 708\u001b[0m         \u001b[43ms\u001b[49m\u001b[38;5;241;43m.\u001b[39;49m\u001b[43m_expire\u001b[49m\u001b[43m(\u001b[49m\u001b[43ms\u001b[49m\u001b[38;5;241;43m.\u001b[39;49m\u001b[43mdict\u001b[49m\u001b[43m,\u001b[49m\u001b[43m \u001b[49m\u001b[38;5;28;43mself\u001b[39;49m\u001b[38;5;241;43m.\u001b[39;49m\u001b[43msession\u001b[49m\u001b[38;5;241;43m.\u001b[39;49m\u001b[43midentity_map\u001b[49m\u001b[38;5;241;43m.\u001b[39;49m\u001b[43m_modified\u001b[49m\u001b[43m)\u001b[49m\n\u001b[1;32m    710\u001b[0m     statelib\u001b[38;5;241m.\u001b[39mInstanceState\u001b[38;5;241m.\u001b[39m_detach_states(\n\u001b[1;32m    711\u001b[0m         \u001b[38;5;28mlist\u001b[39m(\u001b[38;5;28mself\u001b[39m\u001b[38;5;241m.\u001b[39m_deleted), \u001b[38;5;28mself\u001b[39m\u001b[38;5;241m.\u001b[39msession\n\u001b[1;32m    712\u001b[0m     )\n\u001b[1;32m    713\u001b[0m     \u001b[38;5;28mself\u001b[39m\u001b[38;5;241m.\u001b[39m_deleted\u001b[38;5;241m.\u001b[39mclear()\n",
      "File \u001b[0;32m~/2024_Korea_iisw/myvenv2/lib/python3.11/site-packages/sqlalchemy/orm/state.py:662\u001b[0m, in \u001b[0;36mInstanceState._expire\u001b[0;34m(self, dict_, modified_set)\u001b[0m\n\u001b[1;32m    659\u001b[0m \u001b[38;5;28;01mfor\u001b[39;00m key \u001b[38;5;129;01min\u001b[39;00m \u001b[38;5;28mself\u001b[39m\u001b[38;5;241m.\u001b[39mmanager\u001b[38;5;241m.\u001b[39m_all_key_set\u001b[38;5;241m.\u001b[39mintersection(dict_):\n\u001b[1;32m    660\u001b[0m     \u001b[38;5;28;01mdel\u001b[39;00m dict_[key]\n\u001b[0;32m--> 662\u001b[0m \u001b[38;5;28;43mself\u001b[39;49m\u001b[38;5;241;43m.\u001b[39;49m\u001b[43mmanager\u001b[49m\u001b[38;5;241;43m.\u001b[39;49m\u001b[43mdispatch\u001b[49m\u001b[38;5;241;43m.\u001b[39;49m\u001b[43mexpire\u001b[49m(\u001b[38;5;28mself\u001b[39m, \u001b[38;5;28;01mNone\u001b[39;00m)\n",
      "\u001b[0;31mAttributeError\u001b[0m: 'NoneType' object has no attribute 'expire'"
     ]
    }
   ],
   "source": [
    "sess.commit()"
   ]
  },
  {
   "cell_type": "code",
   "execution_count": 113,
   "id": "8c246b28-b5a7-4bd0-951d-e1c7a29aa328",
   "metadata": {},
   "outputs": [
    {
     "name": "stdout",
     "output_type": "stream",
     "text": [
      "2024-03-18 12:13:48,257 INFO sqlalchemy.engine.Engine ROLLBACK\n"
     ]
    }
   ],
   "source": [
    "sess.close()"
   ]
  },
  {
   "cell_type": "code",
   "execution_count": 114,
   "id": "df2058bc-4e21-4e79-9a3d-1c9c8c844e72",
   "metadata": {},
   "outputs": [],
   "source": [
    "engine.dispose() "
   ]
  },
  {
   "cell_type": "code",
   "execution_count": 115,
   "id": "e2382aca-0b6a-46de-a875-ef07aba37aa9",
   "metadata": {},
   "outputs": [],
   "source": [
    "### 다시"
   ]
  },
  {
   "cell_type": "code",
   "execution_count": 116,
   "id": "4024f412-9357-4ea8-9c3b-e5bac0e7ccdc",
   "metadata": {},
   "outputs": [],
   "source": [
    "base = declarative_base()\n",
    "engine = create_engine('sqlite:///:memory:')"
   ]
  },
  {
   "cell_type": "code",
   "execution_count": 42,
   "id": "e41071df-de10-410d-8755-3654e51db3a1",
   "metadata": {},
   "outputs": [],
   "source": [
    "class User(base):\n",
    "    __tablename__ = 'T_USER'\n",
    "\n",
    "    pk = Column('PK', Integer, primary_key=True)\n",
    "    name = Column('NAME', Text, nullable=False)\n",
    "\n",
    "class Address(base):\n",
    "    __tablename__ = 'T_ADDRESS'\n",
    "\n",
    "    pk = Column('PK', Integer, primary_key=True)\n",
    "    address = Column('NAME',Text, nullable=False)\n",
    "    fk = Column('FK', Integer, nullable=False)"
   ]
  },
  {
   "cell_type": "code",
   "execution_count": 43,
   "id": "c81a0920-eaca-4848-92c4-316a3f130d0c",
   "metadata": {},
   "outputs": [],
   "source": [
    "base.metadata.create_all(engine)"
   ]
  },
  {
   "cell_type": "code",
   "execution_count": 117,
   "id": "a36786e5-f68d-4eaf-a868-5a0087b4c7f0",
   "metadata": {},
   "outputs": [],
   "source": [
    "session = sessionmaker(engine)\n",
    "sess = session()"
   ]
  },
  {
   "cell_type": "code",
   "execution_count": 46,
   "id": "5a9b908a-0da3-4e1f-a7ed-78bd3eac20fe",
   "metadata": {},
   "outputs": [],
   "source": [
    "sess.add(User(name='이름1')) "
   ]
  },
  {
   "cell_type": "code",
   "execution_count": 70,
   "id": "65dd2558-b341-4ac9-9980-0830232e35d4",
   "metadata": {},
   "outputs": [
    {
     "name": "stdout",
     "output_type": "stream",
     "text": [
      "1\n"
     ]
    }
   ],
   "source": [
    "a = sess.query(User).one()\n",
    "print(a.pk)"
   ]
  },
  {
   "cell_type": "code",
   "execution_count": 48,
   "id": "7028976d-d04d-4f04-84aa-fe4cf65f1f13",
   "metadata": {},
   "outputs": [],
   "source": [
    "sess.add(Address(address='주소1',fk=a.pk))"
   ]
  },
  {
   "cell_type": "code",
   "execution_count": 49,
   "id": "44f531f8-f09e-4ad6-9bcf-3085d58d7154",
   "metadata": {},
   "outputs": [
    {
     "data": {
      "text/plain": [
       "1"
      ]
     },
     "execution_count": 49,
     "metadata": {},
     "output_type": "execute_result"
    }
   ],
   "source": [
    "sess.query(Address).all()[0].fk"
   ]
  },
  {
   "cell_type": "code",
   "execution_count": 50,
   "id": "987a4f74-aeaa-4ffa-8925-b64505dca247",
   "metadata": {},
   "outputs": [
    {
     "data": {
      "text/plain": [
       "[('이름1', '주소1')]"
      ]
     },
     "execution_count": 50,
     "metadata": {},
     "output_type": "execute_result"
    }
   ],
   "source": [
    "from sqlalchemy.sql import join\n",
    "sess.query(User.name, Address.address).select_from(join(User, Address, User.pk==Address.fk)).all()"
   ]
  },
  {
   "cell_type": "code",
   "execution_count": null,
   "id": "cd208957-e4e0-4bbb-b1aa-52135105f2de",
   "metadata": {
    "scrolled": true
   },
   "outputs": [],
   "source": [
    "\n",
    "class Phone(base):\n",
    "    __tablename__ = 'T_PHONE'\n",
    "\n",
    "    pk = Column('PK', Integer, primary_key=True)\n",
    "    phone = Column('PHONE', Text)\n",
    "    fk = ForeignKey(User.pk)"
   ]
  },
  {
   "cell_type": "code",
   "execution_count": 63,
   "id": "cdcb0251-b52f-4366-87c4-76305d1bae1d",
   "metadata": {},
   "outputs": [],
   "source": [
    "base.metadata.create_all(engine)"
   ]
  },
  {
   "cell_type": "code",
   "execution_count": 74,
   "id": "35b7f504-3aad-412f-b973-fd1e07f5415c",
   "metadata": {},
   "outputs": [],
   "source": [
    "sess.add(Phone(phone='전화번호', fk=a.pk ))"
   ]
  },
  {
   "cell_type": "code",
   "execution_count": 75,
   "id": "898a462a-7062-4478-8f84-f174d721c769",
   "metadata": {},
   "outputs": [],
   "source": [
    "sess.commit() "
   ]
  },
  {
   "cell_type": "code",
   "execution_count": 79,
   "id": "41552668-cb5b-430d-a88e-75664333af56",
   "metadata": {},
   "outputs": [
    {
     "name": "stderr",
     "output_type": "stream",
     "text": [
      "/var/folders/1n/x_wfn1w17ng2dw0lf7_z5klw0000gn/T/ipykernel_70757/2840527228.py:1: SADeprecationWarning: The Session.close_all() method is deprecated and will be removed in a future release.  Please refer to session.close_all_sessions(). (deprecated since: 1.3)\n",
      "  sess.close_all()\n"
     ]
    }
   ],
   "source": [
    "sess.close_all()\n",
    "base.metadata.clear()\n",
    "engine.dispose()"
   ]
  },
  {
   "cell_type": "code",
   "execution_count": 80,
   "id": "a61ba2fc-e875-4bc7-acf2-4718a4a907c8",
   "metadata": {},
   "outputs": [],
   "source": [
    "## 다시"
   ]
  },
  {
   "cell_type": "code",
   "execution_count": 118,
   "id": "4c835865-d43a-4cdf-978e-110993d617ac",
   "metadata": {},
   "outputs": [],
   "source": [
    "sess.close()\n",
    "engine.dispose()\n",
    "engine = create_engine('sqlite:///:memory:', echo=True)\n",
    "session = sessionmaker(engine)\n",
    "sess = session()"
   ]
  },
  {
   "cell_type": "code",
   "execution_count": 105,
   "id": "5224bb15-19cf-47ac-9a87-b435ea0ed384",
   "metadata": {},
   "outputs": [],
   "source": []
  },
  {
   "cell_type": "code",
   "execution_count": 106,
   "id": "ec9764ae-04fd-4567-b5f1-9cb624d34f75",
   "metadata": {},
   "outputs": [],
   "source": [
    "base = declarative_base()\n",
    "\n",
    "class User(base):\n",
    "    __tablename__ = 'T_USER'\n",
    "\n",
    "    pk = Column('PK', Integer, primary_key=True)\n",
    "    name = Column('NAME', Text, nullable=False)\n",
    "\n",
    "class Address(base):\n",
    "    __tablename__ = 'T_ADDRESS'\n",
    "\n",
    "    pk = Column('PK', Integer, primary_key=True)\n",
    "    address = Column('NAME',Text, nullable=False)\n",
    "    fk = Column('FK', Integer, ForeignKey(User.name))"
   ]
  },
  {
   "cell_type": "code",
   "execution_count": 107,
   "id": "57b64204-ad92-40a5-bff9-6aa760546415",
   "metadata": {},
   "outputs": [
    {
     "name": "stdout",
     "output_type": "stream",
     "text": [
      "2024-03-18 12:13:09,023 INFO sqlalchemy.engine.Engine BEGIN (implicit)\n",
      "2024-03-18 12:13:09,026 INFO sqlalchemy.engine.Engine PRAGMA main.table_info(\"T_USER\")\n",
      "2024-03-18 12:13:09,028 INFO sqlalchemy.engine.Engine [raw sql] ()\n",
      "2024-03-18 12:13:09,030 INFO sqlalchemy.engine.Engine PRAGMA temp.table_info(\"T_USER\")\n",
      "2024-03-18 12:13:09,030 INFO sqlalchemy.engine.Engine [raw sql] ()\n",
      "2024-03-18 12:13:09,041 INFO sqlalchemy.engine.Engine PRAGMA main.table_info(\"T_ADDRESS\")\n",
      "2024-03-18 12:13:09,041 INFO sqlalchemy.engine.Engine [raw sql] ()\n",
      "2024-03-18 12:13:09,042 INFO sqlalchemy.engine.Engine PRAGMA temp.table_info(\"T_ADDRESS\")\n",
      "2024-03-18 12:13:09,042 INFO sqlalchemy.engine.Engine [raw sql] ()\n",
      "2024-03-18 12:13:09,043 INFO sqlalchemy.engine.Engine \n",
      "CREATE TABLE \"T_USER\" (\n",
      "\t\"PK\" INTEGER NOT NULL, \n",
      "\t\"NAME\" TEXT NOT NULL, \n",
      "\tPRIMARY KEY (\"PK\")\n",
      ")\n",
      "\n",
      "\n",
      "2024-03-18 12:13:09,043 INFO sqlalchemy.engine.Engine [no key 0.00031s] ()\n",
      "2024-03-18 12:13:09,044 INFO sqlalchemy.engine.Engine \n",
      "CREATE TABLE \"T_ADDRESS\" (\n",
      "\t\"PK\" INTEGER NOT NULL, \n",
      "\t\"NAME\" TEXT NOT NULL, \n",
      "\t\"FK\" INTEGER, \n",
      "\tPRIMARY KEY (\"PK\"), \n",
      "\tFOREIGN KEY(\"FK\") REFERENCES \"T_USER\" (\"NAME\")\n",
      ")\n",
      "\n",
      "\n",
      "2024-03-18 12:13:09,044 INFO sqlalchemy.engine.Engine [no key 0.00029s] ()\n",
      "2024-03-18 12:13:09,045 INFO sqlalchemy.engine.Engine COMMIT\n"
     ]
    }
   ],
   "source": [
    "base.metadata.create_all(engine)"
   ]
  },
  {
   "cell_type": "code",
   "execution_count": 108,
   "id": "cbc5e781-6de7-4877-bc16-21f0e7b9c764",
   "metadata": {},
   "outputs": [
    {
     "name": "stdout",
     "output_type": "stream",
     "text": [
      "2024-03-18 12:13:16,969 INFO sqlalchemy.engine.Engine BEGIN (implicit)\n",
      "2024-03-18 12:13:16,974 INFO sqlalchemy.engine.Engine INSERT INTO \"T_USER\" (\"NAME\") VALUES (?)\n",
      "2024-03-18 12:13:16,975 INFO sqlalchemy.engine.Engine [generated in 0.00099s] ('이름1',)\n",
      "2024-03-18 12:13:16,976 INFO sqlalchemy.engine.Engine COMMIT\n"
     ]
    }
   ],
   "source": [
    "a = User(name='이름1')\n",
    "sess.add(a)\n",
    "sess.commit()"
   ]
  },
  {
   "cell_type": "code",
   "execution_count": 109,
   "id": "b42f556e-4ff5-4cee-b46f-d7e7c6520861",
   "metadata": {},
   "outputs": [
    {
     "name": "stdout",
     "output_type": "stream",
     "text": [
      "2024-03-18 12:13:17,281 INFO sqlalchemy.engine.Engine BEGIN (implicit)\n",
      "2024-03-18 12:13:17,285 INFO sqlalchemy.engine.Engine SELECT \"T_USER\".\"PK\" AS \"T_USER_PK\", \"T_USER\".\"NAME\" AS \"T_USER_NAME\" \n",
      "FROM \"T_USER\" \n",
      "WHERE \"T_USER\".\"PK\" = ?\n",
      "2024-03-18 12:13:17,288 INFO sqlalchemy.engine.Engine [generated in 0.00265s] (1,)\n",
      "2024-03-18 12:13:17,292 INFO sqlalchemy.engine.Engine INSERT INTO \"T_ADDRESS\" (\"NAME\", \"FK\") VALUES (?, ?)\n",
      "2024-03-18 12:13:17,293 INFO sqlalchemy.engine.Engine [generated in 0.00136s] ('주소1', 1)\n",
      "2024-03-18 12:13:17,295 INFO sqlalchemy.engine.Engine COMMIT\n"
     ]
    }
   ],
   "source": [
    "sess.add(Address(address='주소1', fk=a.pk))\n",
    "sess.commit()"
   ]
  },
  {
   "cell_type": "code",
   "execution_count": 110,
   "id": "1ec5b599-82fe-4ec4-aee8-843f926a8e22",
   "metadata": {},
   "outputs": [
    {
     "name": "stdout",
     "output_type": "stream",
     "text": [
      "2024-03-18 12:13:17,782 INFO sqlalchemy.engine.Engine BEGIN (implicit)\n",
      "2024-03-18 12:13:17,787 INFO sqlalchemy.engine.Engine SELECT \"T_USER\".\"NAME\" AS \"T_USER_NAME\", \"T_ADDRESS\".\"NAME\" AS \"T_ADDRESS_NAME\" \n",
      "FROM \"T_USER\" JOIN \"T_ADDRESS\" ON \"T_USER\".\"NAME\" = \"T_ADDRESS\".\"FK\"\n",
      "2024-03-18 12:13:17,789 INFO sqlalchemy.engine.Engine [generated in 0.00167s] ()\n"
     ]
    },
    {
     "data": {
      "text/plain": [
       "[]"
      ]
     },
     "execution_count": 110,
     "metadata": {},
     "output_type": "execute_result"
    }
   ],
   "source": [
    "sess.query(User.name, Address.address).join(Address).all()"
   ]
  },
  {
   "cell_type": "code",
   "execution_count": 87,
   "id": "34d45887-f3e1-4138-bb9e-430625737166",
   "metadata": {},
   "outputs": [
    {
     "ename": "IndentationError",
     "evalue": "unexpected indent (1632538249.py, line 2)",
     "output_type": "error",
     "traceback": [
      "\u001b[0;36m  Cell \u001b[0;32mIn[87], line 2\u001b[0;36m\u001b[0m\n\u001b[0;31m    base.metadata.table        base.registiry\u001b[0m\n\u001b[0m    ^\u001b[0m\n\u001b[0;31mIndentationError\u001b[0m\u001b[0;31m:\u001b[0m unexpected indent\n"
     ]
    }
   ],
   "source": [
    "                                declarative_base\n",
    "                   base.metadata.table        base.registiry\n",
    "                   base.metadata.clear()      base.registriy.dispose()\n",
    "DB                 ORM;core                    ORM:MAPPER\n",
    "                   Metadata                    declarative_base\n",
    "Class(base)        Table객체                    Table 생김\n",
    "T_USER            Table('T_USER')              User(base)\n",
    "T_ADDRESS         Table('T_ADDRESS')           Address(base)\n",
    "                                               Relationship (클래스 사이의 관계를 정의해준다.)\n",
    "<========================session(engine)========================>\n",
    "join(T,T,on = Reference/ForeignKey X)"
   ]
  },
  {
   "cell_type": "code",
   "execution_count": 111,
   "id": "7f4c8a58-0026-4290-98cd-cc8258b383d6",
   "metadata": {},
   "outputs": [
    {
     "data": {
      "text/plain": [
       "Table('T_ADDRESS', MetaData(), Column('PK', Integer(), table=<T_ADDRESS>, primary_key=True, nullable=False), Column('NAME', Text(), table=<T_ADDRESS>, nullable=False), Column('FK', Integer(), ForeignKey('T_USER.NAME'), table=<T_ADDRESS>), schema=None)"
      ]
     },
     "execution_count": 111,
     "metadata": {},
     "output_type": "execute_result"
    }
   ],
   "source": [
    "base.metadata.tables['T_ADDRESS']"
   ]
  },
  {
   "cell_type": "code",
   "execution_count": 112,
   "id": "f6d4177e-8928-40c2-9f49-c9ccd8b10396",
   "metadata": {
    "scrolled": true
   },
   "outputs": [
    {
     "ename": "AttributeError",
     "evalue": "type object 'User' has no attribute 'addresses'",
     "output_type": "error",
     "traceback": [
      "\u001b[0;31m---------------------------------------------------------------------------\u001b[0m",
      "\u001b[0;31mAttributeError\u001b[0m                            Traceback (most recent call last)",
      "Cell \u001b[0;32mIn[112], line 1\u001b[0m\n\u001b[0;32m----> 1\u001b[0m \u001b[43mUser\u001b[49m\u001b[38;5;241;43m.\u001b[39;49m\u001b[43maddresses\u001b[49m\n",
      "\u001b[0;31mAttributeError\u001b[0m: type object 'User' has no attribute 'addresses'"
     ]
    }
   ],
   "source": [
    "User.addresses"
   ]
  },
  {
   "cell_type": "code",
   "execution_count": 89,
   "id": "1cdbcabe-7636-4c8f-a8ca-a6d51f4a62fb",
   "metadata": {},
   "outputs": [],
   "source": [
    "## 다시 객체만으로"
   ]
  },
  {
   "cell_type": "code",
   "execution_count": 141,
   "id": "3c8e4b17-d1c2-4f36-9641-c0a990901683",
   "metadata": {},
   "outputs": [],
   "source": [
    "sess.close()\n",
    "base.registry.dispose()\n",
    "base.metadata.clear()\n",
    "engine.dispose()\n",
    "\n",
    "engine = create_engine('sqlite:///:memory:', echo=True)\n",
    "session = sessionmaker(engine)\n",
    "sess = session()"
   ]
  },
  {
   "cell_type": "code",
   "execution_count": 142,
   "id": "11cf4612-912c-4273-aaa6-0af5a073a2e4",
   "metadata": {
    "scrolled": true
   },
   "outputs": [],
   "source": [
    "from sqlalchemy.ext.declarative import declarative_base\n",
    "from sqlalchemy import Column, Integer, String\n",
    "from sqlalchemy.orm import relationship\n",
    "\n",
    "Base = declarative_base()\n",
    "\n",
    "class Artist(Base):\n",
    "    __tablename__ = 'T_ARTIST'\n",
    "    __table_args__ = {'extend_existing':True}  # 수정 클래스 덮어씌우는\n",
    "\n",
    "    pk = Column('PK', Integer, primary_key=True)\n",
    "    name = Column('NAME', Text)\n",
    "    albums = relationship(\"Album\", back_populates=\"artist\", uselist=True)\n",
    "\n",
    "    def __repr__(self):\n",
    "        return f'pk={self.pk}. name={self.name}'\n",
    "\n",
    "class Album(Base):\n",
    "    __tablename__ = 'T_ALBUM'\n",
    "    __table_args__ = {'extend_existing':True}\n",
    "\n",
    "    pk = Column('PK', Integer, primary_key=True)\n",
    "    name = Column('NAME', Text)\n",
    "    fk = Column('FK', None, ForeignKey(Artist.pk))\n",
    "    artist = relationship(\"Artist\", back_populates=\"albums\", uselist=False)\n",
    "\n",
    "    def __repr__(self):\n",
    "        return f'pk={self.pk}. name={self.name}'\n",
    "        \n",
    "# class Artist(base):\n",
    "# class Artist(base):\n",
    "# class Artist(base):"
   ]
  },
  {
   "cell_type": "code",
   "execution_count": 132,
   "id": "d6e65352-8b4d-46ec-a7d2-4f35328df1e8",
   "metadata": {},
   "outputs": [
    {
     "ename": "SyntaxError",
     "evalue": "invalid syntax (1681694727.py, line 1)",
     "output_type": "error",
     "traceback": [
      "\u001b[0;36m  Cell \u001b[0;32mIn[132], line 1\u001b[0;36m\u001b[0m\n\u001b[0;31m    Artirst.albums[]\u001b[0m\n\u001b[0m                   ^\u001b[0m\n\u001b[0;31mSyntaxError\u001b[0m\u001b[0;31m:\u001b[0m invalid syntax\n"
     ]
    }
   ],
   "source": [
    "Artirst.albums[]\n",
    "1      :       N(userlist=True)\n",
    "Artist.albums\n",
    "Album.artist => 경로, backref, back_populates"
   ]
  },
  {
   "cell_type": "code",
   "execution_count": 143,
   "id": "48dd9d85-9318-492d-bd7d-452188dc75f4",
   "metadata": {},
   "outputs": [
    {
     "name": "stdout",
     "output_type": "stream",
     "text": [
      "2024-03-18 12:31:03,560 INFO sqlalchemy.engine.Engine BEGIN (implicit)\n",
      "2024-03-18 12:31:03,564 INFO sqlalchemy.engine.Engine COMMIT\n"
     ]
    }
   ],
   "source": [
    "base.metadata.create_all(engine)"
   ]
  },
  {
   "cell_type": "code",
   "execution_count": 144,
   "id": "26f474c4-4688-4273-983d-3557f4b56592",
   "metadata": {},
   "outputs": [
    {
     "data": {
      "text/plain": [
       "pk=None. name=아무개"
      ]
     },
     "execution_count": 144,
     "metadata": {},
     "output_type": "execute_result"
    }
   ],
   "source": [
    "Artist(name='아무개')"
   ]
  },
  {
   "cell_type": "code",
   "execution_count": 145,
   "id": "33d4db0d-c056-4357-ae25-04819a9d63eb",
   "metadata": {},
   "outputs": [],
   "source": [
    "sess.add(Artist(name='아무개'))"
   ]
  },
  {
   "cell_type": "code",
   "execution_count": null,
   "id": "c8afbdaf-56b7-4b4d-9cae-81035997c458",
   "metadata": {},
   "outputs": [],
   "source": [
    "# 숙제하기 -> POST, HASHTAG"
   ]
  }
 ],
 "metadata": {
  "kernelspec": {
   "display_name": "Python 3 (ipykernel)",
   "language": "python",
   "name": "python3"
  },
  "language_info": {
   "codemirror_mode": {
    "name": "ipython",
    "version": 3
   },
   "file_extension": ".py",
   "mimetype": "text/x-python",
   "name": "python",
   "nbconvert_exporter": "python",
   "pygments_lexer": "ipython3",
   "version": "3.11.8"
  }
 },
 "nbformat": 4,
 "nbformat_minor": 5
}
