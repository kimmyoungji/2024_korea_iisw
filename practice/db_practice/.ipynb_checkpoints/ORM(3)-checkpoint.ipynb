{
 "cells": [
  {
   "cell_type": "code",
   "execution_count": 4,
   "id": "cbdd9f68-61fe-4ba0-9afd-204fc5f8a9ea",
   "metadata": {},
   "outputs": [],
   "source": [
    "from sqlalchemy.engine import create_engine\n",
    "from sqlalchemy.orm.session import sessionmaker\n",
    "from sqlalchemy.ext.declarative import declarative_base\n",
    "from sqlalchemy.schema import Column, ForeignKey\n",
    "from sqlalchemy.types import Integer, Text\n",
    "from sqlalchemy.orm import relationship"
   ]
  },
  {
   "cell_type": "code",
   "execution_count": 33,
   "id": "904e865b-ee98-4283-80f4-eca498ea0d2b",
   "metadata": {
    "scrolled": true
   },
   "outputs": [
    {
     "name": "stdout",
     "output_type": "stream",
     "text": [
      "2024-03-19 09:44:59,071 INFO sqlalchemy.engine.Engine ROLLBACK\n"
     ]
    }
   ],
   "source": [
    "# 환경 초기화 작업\n",
    "sess.close() # 세션 닫기\n",
    "base.registry.dispose() # 베이스 비우기\n",
    "base.metadata.clear() # 메타데이터 비우기\n",
    "engine.dispose() # 엔진 지우기"
   ]
  },
  {
   "cell_type": "code",
   "execution_count": 34,
   "id": "c62150ac-69eb-4708-86ab-8ace1c9fd0fe",
   "metadata": {},
   "outputs": [],
   "source": [
    "engine = create_engine('sqlite:///:memory:', echo=True)\n",
    "session = sessionmaker(engine)\n",
    "sess = session()"
   ]
  },
  {
   "cell_type": "code",
   "execution_count": 35,
   "id": "bde92fc9-2d8b-4604-80f7-47422bd1e6df",
   "metadata": {},
   "outputs": [],
   "source": [
    "base = declarative_base()"
   ]
  },
  {
   "cell_type": "code",
   "execution_count": 36,
   "id": "2cc5b977-0eb8-4473-80ef-07ec66c3e221",
   "metadata": {
    "scrolled": true
   },
   "outputs": [],
   "source": [
    "# base.metadata.reflect(engine)"
   ]
  },
  {
   "cell_type": "code",
   "execution_count": 37,
   "id": "c89f47a9-40cf-499d-8d08-783f08f66404",
   "metadata": {},
   "outputs": [],
   "source": [
    "class Artist(base):\n",
    "    __tablename__ = 'T_ARTIST'\n",
    "    __table_args__ = {'extend_existing':True}  # 수정 클래스 덮어씌우는\n",
    "\n",
    "    pk = Column('PK', Integer, primary_key=True)\n",
    "    name = Column('NAME', Text)\n",
    "    albums = relationship(\"Album\", back_populates=\"artist\", uselist=True)\n",
    "\n",
    "\n",
    "class Album(base):\n",
    "    __tablename__ = 'T_ALBUM'\n",
    "    __table_args__ = {'extend_existing':True}\n",
    "\n",
    "    pk = Column('PK', Integer, primary_key=True)\n",
    "    name = Column('NAME', Text)\n",
    "    fk = Column('FK', None, ForeignKey(Artist.pk))\n",
    "    artist = relationship(\"Artist\", back_populates=\"albums\", uselist=False)\n"
   ]
  },
  {
   "cell_type": "code",
   "execution_count": 38,
   "id": "a15a112b-ee6e-495b-a704-021e3f4f3fdf",
   "metadata": {},
   "outputs": [
    {
     "name": "stdout",
     "output_type": "stream",
     "text": [
      "2024-03-19 09:45:05,289 INFO sqlalchemy.engine.Engine BEGIN (implicit)\n",
      "2024-03-19 09:45:05,291 INFO sqlalchemy.engine.Engine PRAGMA main.table_info(\"T_ARTIST\")\n",
      "2024-03-19 09:45:05,292 INFO sqlalchemy.engine.Engine [raw sql] ()\n",
      "2024-03-19 09:45:05,294 INFO sqlalchemy.engine.Engine PRAGMA temp.table_info(\"T_ARTIST\")\n",
      "2024-03-19 09:45:05,294 INFO sqlalchemy.engine.Engine [raw sql] ()\n",
      "2024-03-19 09:45:05,295 INFO sqlalchemy.engine.Engine PRAGMA main.table_info(\"T_ALBUM\")\n",
      "2024-03-19 09:45:05,295 INFO sqlalchemy.engine.Engine [raw sql] ()\n",
      "2024-03-19 09:45:05,296 INFO sqlalchemy.engine.Engine PRAGMA temp.table_info(\"T_ALBUM\")\n",
      "2024-03-19 09:45:05,297 INFO sqlalchemy.engine.Engine [raw sql] ()\n",
      "2024-03-19 09:45:05,298 INFO sqlalchemy.engine.Engine \n",
      "CREATE TABLE \"T_ARTIST\" (\n",
      "\t\"PK\" INTEGER NOT NULL, \n",
      "\t\"NAME\" TEXT, \n",
      "\tPRIMARY KEY (\"PK\")\n",
      ")\n",
      "\n",
      "\n",
      "2024-03-19 09:45:05,299 INFO sqlalchemy.engine.Engine [no key 0.00059s] ()\n",
      "2024-03-19 09:45:05,300 INFO sqlalchemy.engine.Engine \n",
      "CREATE TABLE \"T_ALBUM\" (\n",
      "\t\"PK\" INTEGER NOT NULL, \n",
      "\t\"NAME\" TEXT, \n",
      "\t\"FK\" INTEGER, \n",
      "\tPRIMARY KEY (\"PK\"), \n",
      "\tFOREIGN KEY(\"FK\") REFERENCES \"T_ARTIST\" (\"PK\")\n",
      ")\n",
      "\n",
      "\n",
      "2024-03-19 09:45:05,301 INFO sqlalchemy.engine.Engine [no key 0.00086s] ()\n",
      "2024-03-19 09:45:05,303 INFO sqlalchemy.engine.Engine COMMIT\n"
     ]
    }
   ],
   "source": [
    "base.metadata.create_all(engine)"
   ]
  },
  {
   "cell_type": "code",
   "execution_count": 43,
   "id": "4d98c5e5-1bcb-4911-996e-e494f9e4dfd1",
   "metadata": {},
   "outputs": [
    {
     "data": {
      "text/plain": [
       "([__main__.Artist, __main__.Album],\n",
       " FacadeDict({'T_ARTIST': Table('T_ARTIST', MetaData(), Column('PK', Integer(), table=<T_ARTIST>, primary_key=True, nullable=False), Column('NAME', Text(), table=<T_ARTIST>), schema=None), 'T_ALBUM': Table('T_ALBUM', MetaData(), Column('PK', Integer(), table=<T_ALBUM>, primary_key=True, nullable=False), Column('NAME', Text(), table=<T_ALBUM>), Column('FK', Integer(), ForeignKey('T_ARTIST.PK'), table=<T_ALBUM>), schema=None)}),\n",
       " IdentitySet([]))"
      ]
     },
     "execution_count": 43,
     "metadata": {},
     "output_type": "execute_result"
    }
   ],
   "source": [
    "base.__subclasses__(), base.metadata.tables, sess.dirty"
   ]
  },
  {
   "cell_type": "code",
   "execution_count": 44,
   "id": "557598a2-eab8-4b21-b050-a4c45ccc0f57",
   "metadata": {
    "scrolled": true
   },
   "outputs": [
    {
     "name": "stdout",
     "output_type": "stream",
     "text": [
      "2024-03-19 09:47:54,118 INFO sqlalchemy.engine.Engine BEGIN (implicit)\n",
      "2024-03-19 09:47:54,122 INFO sqlalchemy.engine.Engine INSERT INTO \"T_ARTIST\" (\"NAME\") VALUES (?)\n",
      "2024-03-19 09:47:54,123 INFO sqlalchemy.engine.Engine [generated in 0.00082s] ('수지',)\n",
      "2024-03-19 09:47:54,124 INFO sqlalchemy.engine.Engine COMMIT\n",
      "2024-03-19 09:47:54,125 INFO sqlalchemy.engine.Engine BEGIN (implicit)\n",
      "2024-03-19 09:47:54,127 INFO sqlalchemy.engine.Engine SELECT \"T_ARTIST\".\"PK\" AS \"T_ARTIST_PK\", \"T_ARTIST\".\"NAME\" AS \"T_ARTIST_NAME\" \n",
      "FROM \"T_ARTIST\" \n",
      "WHERE \"T_ARTIST\".\"PK\" = ?\n",
      "2024-03-19 09:47:54,128 INFO sqlalchemy.engine.Engine [generated in 0.00150s] (1,)\n",
      "2024-03-19 09:47:54,132 INFO sqlalchemy.engine.Engine INSERT INTO \"T_ALBUM\" (\"NAME\", \"FK\") VALUES (?, ?)\n",
      "2024-03-19 09:47:54,134 INFO sqlalchemy.engine.Engine [generated in 0.00261s] ('수지앨범', 1)\n",
      "2024-03-19 09:47:54,135 INFO sqlalchemy.engine.Engine COMMIT\n"
     ]
    }
   ],
   "source": [
    "a = Artist(name='수지')\n",
    "\n",
    "sess.add(a)\n",
    "sess.commit()\n",
    "\n",
    "sess.add(Album(name=\"수지앨범\", fk=a.pk))\n",
    "sess.commit()"
   ]
  },
  {
   "cell_type": "code",
   "execution_count": 45,
   "id": "23b59291-de0b-4afd-8a27-1692220245e1",
   "metadata": {
    "scrolled": true
   },
   "outputs": [
    {
     "name": "stdout",
     "output_type": "stream",
     "text": [
      "2024-03-19 09:47:55,499 INFO sqlalchemy.engine.Engine BEGIN (implicit)\n",
      "2024-03-19 09:47:55,507 INFO sqlalchemy.engine.Engine SELECT \"T_ARTIST\".\"PK\" AS \"T_ARTIST_PK\", \"T_ARTIST\".\"NAME\" AS \"T_ARTIST_NAME\" \n",
      "FROM \"T_ARTIST\" JOIN \"T_ALBUM\" ON \"T_ARTIST\".\"PK\" = \"T_ALBUM\".\"FK\"\n",
      "2024-03-19 09:47:55,508 INFO sqlalchemy.engine.Engine [generated in 0.00085s] ()\n"
     ]
    },
    {
     "data": {
      "text/plain": [
       "[<__main__.Artist at 0x1104a70d0>]"
      ]
     },
     "execution_count": 45,
     "metadata": {},
     "output_type": "execute_result"
    }
   ],
   "source": [
    "sess.query(Artist).join(Album).all()"
   ]
  },
  {
   "cell_type": "code",
   "execution_count": 46,
   "id": "d4a8c5fd-0a10-44d3-b7dd-2bff5eeb0bcf",
   "metadata": {},
   "outputs": [
    {
     "data": {
      "text/plain": [
       "[__main__.Artist, __main__.Album]"
      ]
     },
     "execution_count": 46,
     "metadata": {},
     "output_type": "execute_result"
    }
   ],
   "source": [
    "base.__subclasses__()"
   ]
  },
  {
   "cell_type": "code",
   "execution_count": 50,
   "id": "b7beccf1-0620-450e-b4db-83c8fdfd8fd3",
   "metadata": {},
   "outputs": [],
   "source": [
    "del base\n",
    "base = declarative_base()"
   ]
  },
  {
   "cell_type": "code",
   "execution_count": 51,
   "id": "c2a833c4-dfad-44f4-a7bf-5e0b786a8c67",
   "metadata": {},
   "outputs": [
    {
     "data": {
      "text/plain": [
       "FacadeDict({})"
      ]
     },
     "execution_count": 51,
     "metadata": {},
     "output_type": "execute_result"
    }
   ],
   "source": [
    "base.metadata.tables"
   ]
  },
  {
   "cell_type": "code",
   "execution_count": 52,
   "id": "068e9784-4e77-4d39-9fa6-f4f202b118f4",
   "metadata": {},
   "outputs": [
    {
     "ename": "KeyError",
     "evalue": "'T_ARTIST'",
     "output_type": "error",
     "traceback": [
      "\u001b[0;31m---------------------------------------------------------------------------\u001b[0m",
      "\u001b[0;31mKeyError\u001b[0m                                  Traceback (most recent call last)",
      "Cell \u001b[0;32mIn[52], line 1\u001b[0m\n\u001b[0;32m----> 1\u001b[0m \u001b[38;5;28;43;01mclass\u001b[39;49;00m\u001b[43m \u001b[49m\u001b[38;5;21;43;01mArtist\u001b[39;49;00m\u001b[43m(\u001b[49m\u001b[43mbase\u001b[49m\u001b[43m)\u001b[49m\u001b[43m:\u001b[49m\n\u001b[1;32m      2\u001b[0m \u001b[43m    \u001b[49m\u001b[43m__table__\u001b[49m\u001b[43m \u001b[49m\u001b[38;5;241;43m=\u001b[39;49m\u001b[43m \u001b[49m\u001b[43mbase\u001b[49m\u001b[38;5;241;43m.\u001b[39;49m\u001b[43mmetadata\u001b[49m\u001b[38;5;241;43m.\u001b[39;49m\u001b[43mtables\u001b[49m\u001b[43m[\u001b[49m\u001b[38;5;124;43m'\u001b[39;49m\u001b[38;5;124;43mT_ARTIST\u001b[39;49m\u001b[38;5;124;43m'\u001b[39;49m\u001b[43m]\u001b[49m\n\u001b[1;32m      4\u001b[0m \u001b[43m    \u001b[49m\u001b[43mpk\u001b[49m\u001b[43m \u001b[49m\u001b[38;5;241;43m=\u001b[39;49m\u001b[43m \u001b[49m\u001b[43mbase\u001b[49m\u001b[38;5;241;43m.\u001b[39;49m\u001b[43mmetadata\u001b[49m\u001b[38;5;241;43m.\u001b[39;49m\u001b[43mtables\u001b[49m\u001b[43m[\u001b[49m\u001b[38;5;124;43m'\u001b[39;49m\u001b[38;5;124;43mT_ARTIST\u001b[39;49m\u001b[38;5;124;43m'\u001b[39;49m\u001b[43m]\u001b[49m\u001b[38;5;241;43m.\u001b[39;49m\u001b[43mc\u001b[49m\u001b[38;5;241;43m.\u001b[39;49m\u001b[43mPK\u001b[49m\n",
      "Cell \u001b[0;32mIn[52], line 2\u001b[0m, in \u001b[0;36mArtist\u001b[0;34m()\u001b[0m\n\u001b[1;32m      1\u001b[0m \u001b[38;5;28;01mclass\u001b[39;00m \u001b[38;5;21;01mArtist\u001b[39;00m(base):\n\u001b[0;32m----> 2\u001b[0m     __table__ \u001b[38;5;241m=\u001b[39m \u001b[43mbase\u001b[49m\u001b[38;5;241;43m.\u001b[39;49m\u001b[43mmetadata\u001b[49m\u001b[38;5;241;43m.\u001b[39;49m\u001b[43mtables\u001b[49m\u001b[43m[\u001b[49m\u001b[38;5;124;43m'\u001b[39;49m\u001b[38;5;124;43mT_ARTIST\u001b[39;49m\u001b[38;5;124;43m'\u001b[39;49m\u001b[43m]\u001b[49m\n\u001b[1;32m      4\u001b[0m     pk \u001b[38;5;241m=\u001b[39m base\u001b[38;5;241m.\u001b[39mmetadata\u001b[38;5;241m.\u001b[39mtables[\u001b[38;5;124m'\u001b[39m\u001b[38;5;124mT_ARTIST\u001b[39m\u001b[38;5;124m'\u001b[39m]\u001b[38;5;241m.\u001b[39mc\u001b[38;5;241m.\u001b[39mPK\n\u001b[1;32m      5\u001b[0m     name \u001b[38;5;241m=\u001b[39m base\u001b[38;5;241m.\u001b[39mmetadata\u001b[38;5;241m.\u001b[39mtables[\u001b[38;5;124m'\u001b[39m\u001b[38;5;124mT_ARTIST\u001b[39m\u001b[38;5;124m'\u001b[39m]\u001b[38;5;241m.\u001b[39mc\u001b[38;5;241m.\u001b[39mNAME\n",
      "\u001b[0;31mKeyError\u001b[0m: 'T_ARTIST'"
     ]
    }
   ],
   "source": [
    "class Artist(base):\n",
    "    __table__ = base.metadata.tables['T_ARTIST']\n",
    "\n",
    "    pk = base.metadata.tables['T_ARTIST'].c.PK\n",
    "    name = base.metadata.tables['T_ARTIST'].c.NAME\n",
    "    albums = relationship(\"Album\", back_populates=\"artist\", uselist=True)\n",
    "\n",
    "class Album(base):\n",
    "    __table__ = base.metadata.tables['T_ALBUM']\n",
    "\n",
    "    pk = base.metadata.tables['T_ALBUM'].c.PK\n",
    "    name = base.metadata.tables['T_ALBUM'].c.NAME\n",
    "    fk = base.metadata.tables['T_ALBUM'].c.FK\n",
    "    artist = relationship(\"Artist\", back_populates=\"albums\", uselist=False)\n"
   ]
  },
  {
   "cell_type": "code",
   "execution_count": 14,
   "id": "aa124af6-51b2-49e2-b541-914d10978ea8",
   "metadata": {},
   "outputs": [
    {
     "ename": "PendingRollbackError",
     "evalue": "This Session's transaction has been rolled back due to a previous exception during flush. To begin a new transaction with this Session, first issue Session.rollback(). Original exception was: (sqlite3.OperationalError) no such table: T_ARTIST\n[SQL: INSERT INTO \"T_ARTIST\" (\"NAME\") VALUES (?)]\n[parameters: ('수지',)]\n(Background on this error at: https://sqlalche.me/e/14/e3q8) (Background on this error at: https://sqlalche.me/e/14/7s2a)",
     "output_type": "error",
     "traceback": [
      "\u001b[0;31m---------------------------------------------------------------------------\u001b[0m",
      "\u001b[0;31mPendingRollbackError\u001b[0m                      Traceback (most recent call last)",
      "Cell \u001b[0;32mIn[14], line 1\u001b[0m\n\u001b[0;32m----> 1\u001b[0m a \u001b[38;5;241m=\u001b[39m \u001b[43msess\u001b[49m\u001b[38;5;241;43m.\u001b[39;49m\u001b[43mquery\u001b[49m\u001b[43m(\u001b[49m\u001b[43mArtist\u001b[49m\u001b[43m)\u001b[49m\u001b[38;5;241;43m.\u001b[39;49m\u001b[43mall\u001b[49m\u001b[43m(\u001b[49m\u001b[43m)\u001b[49m[\u001b[38;5;241m0\u001b[39m]\n",
      "File \u001b[0;32m~/2024_Korea_iisw/myvenv2/lib/python3.11/site-packages/sqlalchemy/orm/query.py:2768\u001b[0m, in \u001b[0;36mQuery.all\u001b[0;34m(self)\u001b[0m\n\u001b[1;32m   2752\u001b[0m \u001b[38;5;28;01mdef\u001b[39;00m \u001b[38;5;21mall\u001b[39m(\u001b[38;5;28mself\u001b[39m):\n\u001b[1;32m   2753\u001b[0m \u001b[38;5;250m    \u001b[39m\u001b[38;5;124;03m\"\"\"Return the results represented by this :class:`_query.Query`\u001b[39;00m\n\u001b[1;32m   2754\u001b[0m \u001b[38;5;124;03m    as a list.\u001b[39;00m\n\u001b[1;32m   2755\u001b[0m \n\u001b[0;32m   (...)\u001b[0m\n\u001b[1;32m   2766\u001b[0m \u001b[38;5;124;03m            :ref:`faq_query_deduplicating`\u001b[39;00m\n\u001b[1;32m   2767\u001b[0m \u001b[38;5;124;03m    \"\"\"\u001b[39;00m\n\u001b[0;32m-> 2768\u001b[0m     \u001b[38;5;28;01mreturn\u001b[39;00m \u001b[38;5;28;43mself\u001b[39;49m\u001b[38;5;241;43m.\u001b[39;49m\u001b[43m_iter\u001b[49m\u001b[43m(\u001b[49m\u001b[43m)\u001b[49m\u001b[38;5;241m.\u001b[39mall()\n",
      "File \u001b[0;32m~/2024_Korea_iisw/myvenv2/lib/python3.11/site-packages/sqlalchemy/orm/query.py:2903\u001b[0m, in \u001b[0;36mQuery._iter\u001b[0;34m(self)\u001b[0m\n\u001b[1;32m   2900\u001b[0m params \u001b[38;5;241m=\u001b[39m \u001b[38;5;28mself\u001b[39m\u001b[38;5;241m.\u001b[39m_params\n\u001b[1;32m   2902\u001b[0m statement \u001b[38;5;241m=\u001b[39m \u001b[38;5;28mself\u001b[39m\u001b[38;5;241m.\u001b[39m_statement_20()\n\u001b[0;32m-> 2903\u001b[0m result \u001b[38;5;241m=\u001b[39m \u001b[38;5;28;43mself\u001b[39;49m\u001b[38;5;241;43m.\u001b[39;49m\u001b[43msession\u001b[49m\u001b[38;5;241;43m.\u001b[39;49m\u001b[43mexecute\u001b[49m\u001b[43m(\u001b[49m\n\u001b[1;32m   2904\u001b[0m \u001b[43m    \u001b[49m\u001b[43mstatement\u001b[49m\u001b[43m,\u001b[49m\n\u001b[1;32m   2905\u001b[0m \u001b[43m    \u001b[49m\u001b[43mparams\u001b[49m\u001b[43m,\u001b[49m\n\u001b[1;32m   2906\u001b[0m \u001b[43m    \u001b[49m\u001b[43mexecution_options\u001b[49m\u001b[38;5;241;43m=\u001b[39;49m\u001b[43m{\u001b[49m\u001b[38;5;124;43m\"\u001b[39;49m\u001b[38;5;124;43m_sa_orm_load_options\u001b[39;49m\u001b[38;5;124;43m\"\u001b[39;49m\u001b[43m:\u001b[49m\u001b[43m \u001b[49m\u001b[38;5;28;43mself\u001b[39;49m\u001b[38;5;241;43m.\u001b[39;49m\u001b[43mload_options\u001b[49m\u001b[43m}\u001b[49m\u001b[43m,\u001b[49m\n\u001b[1;32m   2907\u001b[0m \u001b[43m\u001b[49m\u001b[43m)\u001b[49m\n\u001b[1;32m   2909\u001b[0m \u001b[38;5;66;03m# legacy: automatically set scalars, unique\u001b[39;00m\n\u001b[1;32m   2910\u001b[0m \u001b[38;5;28;01mif\u001b[39;00m result\u001b[38;5;241m.\u001b[39m_attributes\u001b[38;5;241m.\u001b[39mget(\u001b[38;5;124m\"\u001b[39m\u001b[38;5;124mis_single_entity\u001b[39m\u001b[38;5;124m\"\u001b[39m, \u001b[38;5;28;01mFalse\u001b[39;00m):\n",
      "File \u001b[0;32m~/2024_Korea_iisw/myvenv2/lib/python3.11/site-packages/sqlalchemy/orm/session.py:1660\u001b[0m, in \u001b[0;36mSession.execute\u001b[0;34m(self, statement, params, execution_options, bind_arguments, _parent_execute_state, _add_event, **kw)\u001b[0m\n\u001b[1;32m   1654\u001b[0m execution_options \u001b[38;5;241m=\u001b[39m util\u001b[38;5;241m.\u001b[39mcoerce_to_immutabledict(execution_options)\n\u001b[1;32m   1656\u001b[0m \u001b[38;5;28;01mif\u001b[39;00m compile_state_cls \u001b[38;5;129;01mis\u001b[39;00m \u001b[38;5;129;01mnot\u001b[39;00m \u001b[38;5;28;01mNone\u001b[39;00m:\n\u001b[1;32m   1657\u001b[0m     (\n\u001b[1;32m   1658\u001b[0m         statement,\n\u001b[1;32m   1659\u001b[0m         execution_options,\n\u001b[0;32m-> 1660\u001b[0m     ) \u001b[38;5;241m=\u001b[39m \u001b[43mcompile_state_cls\u001b[49m\u001b[38;5;241;43m.\u001b[39;49m\u001b[43morm_pre_session_exec\u001b[49m\u001b[43m(\u001b[49m\n\u001b[1;32m   1661\u001b[0m \u001b[43m        \u001b[49m\u001b[38;5;28;43mself\u001b[39;49m\u001b[43m,\u001b[49m\n\u001b[1;32m   1662\u001b[0m \u001b[43m        \u001b[49m\u001b[43mstatement\u001b[49m\u001b[43m,\u001b[49m\n\u001b[1;32m   1663\u001b[0m \u001b[43m        \u001b[49m\u001b[43mparams\u001b[49m\u001b[43m,\u001b[49m\n\u001b[1;32m   1664\u001b[0m \u001b[43m        \u001b[49m\u001b[43mexecution_options\u001b[49m\u001b[43m,\u001b[49m\n\u001b[1;32m   1665\u001b[0m \u001b[43m        \u001b[49m\u001b[43mbind_arguments\u001b[49m\u001b[43m,\u001b[49m\n\u001b[1;32m   1666\u001b[0m \u001b[43m        \u001b[49m\u001b[43m_parent_execute_state\u001b[49m\u001b[43m \u001b[49m\u001b[38;5;129;43;01mis\u001b[39;49;00m\u001b[43m \u001b[49m\u001b[38;5;129;43;01mnot\u001b[39;49;00m\u001b[43m \u001b[49m\u001b[38;5;28;43;01mNone\u001b[39;49;00m\u001b[43m,\u001b[49m\n\u001b[1;32m   1667\u001b[0m \u001b[43m    \u001b[49m\u001b[43m)\u001b[49m\n\u001b[1;32m   1668\u001b[0m \u001b[38;5;28;01melse\u001b[39;00m:\n\u001b[1;32m   1669\u001b[0m     bind_arguments\u001b[38;5;241m.\u001b[39msetdefault(\u001b[38;5;124m\"\u001b[39m\u001b[38;5;124mclause\u001b[39m\u001b[38;5;124m\"\u001b[39m, statement)\n",
      "File \u001b[0;32m~/2024_Korea_iisw/myvenv2/lib/python3.11/site-packages/sqlalchemy/orm/context.py:319\u001b[0m, in \u001b[0;36mORMCompileState.orm_pre_session_exec\u001b[0;34m(cls, session, statement, params, execution_options, bind_arguments, is_reentrant_invoke)\u001b[0m\n\u001b[1;32m    316\u001b[0m         bind_arguments[\u001b[38;5;124m\"\u001b[39m\u001b[38;5;124mmapper\u001b[39m\u001b[38;5;124m\"\u001b[39m] \u001b[38;5;241m=\u001b[39m plugin_subject\u001b[38;5;241m.\u001b[39mmapper\n\u001b[1;32m    318\u001b[0m \u001b[38;5;28;01mif\u001b[39;00m load_options\u001b[38;5;241m.\u001b[39m_autoflush:\n\u001b[0;32m--> 319\u001b[0m     \u001b[43msession\u001b[49m\u001b[38;5;241;43m.\u001b[39;49m\u001b[43m_autoflush\u001b[49m\u001b[43m(\u001b[49m\u001b[43m)\u001b[49m\n\u001b[1;32m    321\u001b[0m \u001b[38;5;28;01mreturn\u001b[39;00m statement, execution_options\n",
      "File \u001b[0;32m~/2024_Korea_iisw/myvenv2/lib/python3.11/site-packages/sqlalchemy/orm/session.py:2246\u001b[0m, in \u001b[0;36mSession._autoflush\u001b[0;34m(self)\u001b[0m\n\u001b[1;32m   2244\u001b[0m \u001b[38;5;28;01mif\u001b[39;00m \u001b[38;5;28mself\u001b[39m\u001b[38;5;241m.\u001b[39mautoflush \u001b[38;5;129;01mand\u001b[39;00m \u001b[38;5;129;01mnot\u001b[39;00m \u001b[38;5;28mself\u001b[39m\u001b[38;5;241m.\u001b[39m_flushing:\n\u001b[1;32m   2245\u001b[0m     \u001b[38;5;28;01mtry\u001b[39;00m:\n\u001b[0;32m-> 2246\u001b[0m         \u001b[38;5;28;43mself\u001b[39;49m\u001b[38;5;241;43m.\u001b[39;49m\u001b[43mflush\u001b[49m\u001b[43m(\u001b[49m\u001b[43m)\u001b[49m\n\u001b[1;32m   2247\u001b[0m     \u001b[38;5;28;01mexcept\u001b[39;00m sa_exc\u001b[38;5;241m.\u001b[39mStatementError \u001b[38;5;28;01mas\u001b[39;00m e:\n\u001b[1;32m   2248\u001b[0m         \u001b[38;5;66;03m# note we are reraising StatementError as opposed to\u001b[39;00m\n\u001b[1;32m   2249\u001b[0m         \u001b[38;5;66;03m# raising FlushError with \"chaining\" to remain compatible\u001b[39;00m\n\u001b[1;32m   2250\u001b[0m         \u001b[38;5;66;03m# with code that catches StatementError, IntegrityError,\u001b[39;00m\n\u001b[1;32m   2251\u001b[0m         \u001b[38;5;66;03m# etc.\u001b[39;00m\n\u001b[1;32m   2252\u001b[0m         e\u001b[38;5;241m.\u001b[39madd_detail(\n\u001b[1;32m   2253\u001b[0m             \u001b[38;5;124m\"\u001b[39m\u001b[38;5;124mraised as a result of Query-invoked autoflush; \u001b[39m\u001b[38;5;124m\"\u001b[39m\n\u001b[1;32m   2254\u001b[0m             \u001b[38;5;124m\"\u001b[39m\u001b[38;5;124mconsider using a session.no_autoflush block if this \u001b[39m\u001b[38;5;124m\"\u001b[39m\n\u001b[1;32m   2255\u001b[0m             \u001b[38;5;124m\"\u001b[39m\u001b[38;5;124mflush is occurring prematurely\u001b[39m\u001b[38;5;124m\"\u001b[39m\n\u001b[1;32m   2256\u001b[0m         )\n",
      "File \u001b[0;32m~/2024_Korea_iisw/myvenv2/lib/python3.11/site-packages/sqlalchemy/orm/session.py:3383\u001b[0m, in \u001b[0;36mSession.flush\u001b[0;34m(self, objects)\u001b[0m\n\u001b[1;32m   3381\u001b[0m \u001b[38;5;28;01mtry\u001b[39;00m:\n\u001b[1;32m   3382\u001b[0m     \u001b[38;5;28mself\u001b[39m\u001b[38;5;241m.\u001b[39m_flushing \u001b[38;5;241m=\u001b[39m \u001b[38;5;28;01mTrue\u001b[39;00m\n\u001b[0;32m-> 3383\u001b[0m     \u001b[38;5;28;43mself\u001b[39;49m\u001b[38;5;241;43m.\u001b[39;49m\u001b[43m_flush\u001b[49m\u001b[43m(\u001b[49m\u001b[43mobjects\u001b[49m\u001b[43m)\u001b[49m\n\u001b[1;32m   3384\u001b[0m \u001b[38;5;28;01mfinally\u001b[39;00m:\n\u001b[1;32m   3385\u001b[0m     \u001b[38;5;28mself\u001b[39m\u001b[38;5;241m.\u001b[39m_flushing \u001b[38;5;241m=\u001b[39m \u001b[38;5;28;01mFalse\u001b[39;00m\n",
      "File \u001b[0;32m~/2024_Korea_iisw/myvenv2/lib/python3.11/site-packages/sqlalchemy/orm/session.py:3479\u001b[0m, in \u001b[0;36mSession._flush\u001b[0;34m(self, objects)\u001b[0m\n\u001b[1;32m   3476\u001b[0m \u001b[38;5;28;01mif\u001b[39;00m \u001b[38;5;129;01mnot\u001b[39;00m flush_context\u001b[38;5;241m.\u001b[39mhas_work:\n\u001b[1;32m   3477\u001b[0m     \u001b[38;5;28;01mreturn\u001b[39;00m\n\u001b[0;32m-> 3479\u001b[0m flush_context\u001b[38;5;241m.\u001b[39mtransaction \u001b[38;5;241m=\u001b[39m transaction \u001b[38;5;241m=\u001b[39m \u001b[38;5;28;43mself\u001b[39;49m\u001b[38;5;241;43m.\u001b[39;49m\u001b[43mbegin\u001b[49m\u001b[43m(\u001b[49m\u001b[43m_subtrans\u001b[49m\u001b[38;5;241;43m=\u001b[39;49m\u001b[38;5;28;43;01mTrue\u001b[39;49;00m\u001b[43m)\u001b[49m\n\u001b[1;32m   3480\u001b[0m \u001b[38;5;28;01mtry\u001b[39;00m:\n\u001b[1;32m   3481\u001b[0m     \u001b[38;5;28mself\u001b[39m\u001b[38;5;241m.\u001b[39m_warn_on_events \u001b[38;5;241m=\u001b[39m \u001b[38;5;28;01mTrue\u001b[39;00m\n",
      "File \u001b[0;32m<string>:2\u001b[0m, in \u001b[0;36mbegin\u001b[0;34m(self, subtransactions, nested, _subtrans)\u001b[0m\n",
      "File \u001b[0;32m~/2024_Korea_iisw/myvenv2/lib/python3.11/site-packages/sqlalchemy/util/deprecations.py:309\u001b[0m, in \u001b[0;36mdeprecated_params.<locals>.decorate.<locals>.warned\u001b[0;34m(fn, *args, **kwargs)\u001b[0m\n\u001b[1;32m    302\u001b[0m     \u001b[38;5;28;01mif\u001b[39;00m m \u001b[38;5;129;01min\u001b[39;00m kwargs:\n\u001b[1;32m    303\u001b[0m         _warn_with_version(\n\u001b[1;32m    304\u001b[0m             messages[m],\n\u001b[1;32m    305\u001b[0m             versions[m],\n\u001b[1;32m    306\u001b[0m             version_warnings[m],\n\u001b[1;32m    307\u001b[0m             stacklevel\u001b[38;5;241m=\u001b[39m\u001b[38;5;241m3\u001b[39m,\n\u001b[1;32m    308\u001b[0m         )\n\u001b[0;32m--> 309\u001b[0m \u001b[38;5;28;01mreturn\u001b[39;00m \u001b[43mfn\u001b[49m\u001b[43m(\u001b[49m\u001b[38;5;241;43m*\u001b[39;49m\u001b[43margs\u001b[49m\u001b[43m,\u001b[49m\u001b[43m \u001b[49m\u001b[38;5;241;43m*\u001b[39;49m\u001b[38;5;241;43m*\u001b[39;49m\u001b[43mkwargs\u001b[49m\u001b[43m)\u001b[49m\n",
      "File \u001b[0;32m~/2024_Korea_iisw/myvenv2/lib/python3.11/site-packages/sqlalchemy/orm/session.py:1326\u001b[0m, in \u001b[0;36mSession.begin\u001b[0;34m(self, subtransactions, nested, _subtrans)\u001b[0m\n\u001b[1;32m   1324\u001b[0m \u001b[38;5;28;01mif\u001b[39;00m \u001b[38;5;28mself\u001b[39m\u001b[38;5;241m.\u001b[39m_transaction \u001b[38;5;129;01mis\u001b[39;00m \u001b[38;5;129;01mnot\u001b[39;00m \u001b[38;5;28;01mNone\u001b[39;00m:\n\u001b[1;32m   1325\u001b[0m     \u001b[38;5;28;01mif\u001b[39;00m subtransactions \u001b[38;5;129;01mor\u001b[39;00m _subtrans \u001b[38;5;129;01mor\u001b[39;00m nested:\n\u001b[0;32m-> 1326\u001b[0m         trans \u001b[38;5;241m=\u001b[39m \u001b[38;5;28;43mself\u001b[39;49m\u001b[38;5;241;43m.\u001b[39;49m\u001b[43m_transaction\u001b[49m\u001b[38;5;241;43m.\u001b[39;49m\u001b[43m_begin\u001b[49m\u001b[43m(\u001b[49m\u001b[43mnested\u001b[49m\u001b[38;5;241;43m=\u001b[39;49m\u001b[43mnested\u001b[49m\u001b[43m)\u001b[49m\n\u001b[1;32m   1327\u001b[0m         \u001b[38;5;28;01massert\u001b[39;00m \u001b[38;5;28mself\u001b[39m\u001b[38;5;241m.\u001b[39m_transaction \u001b[38;5;129;01mis\u001b[39;00m trans\n\u001b[1;32m   1328\u001b[0m         \u001b[38;5;28;01mif\u001b[39;00m nested:\n",
      "File \u001b[0;32m~/2024_Korea_iisw/myvenv2/lib/python3.11/site-packages/sqlalchemy/orm/session.py:629\u001b[0m, in \u001b[0;36mSessionTransaction._begin\u001b[0;34m(self, nested)\u001b[0m\n\u001b[1;32m    628\u001b[0m \u001b[38;5;28;01mdef\u001b[39;00m \u001b[38;5;21m_begin\u001b[39m(\u001b[38;5;28mself\u001b[39m, nested\u001b[38;5;241m=\u001b[39m\u001b[38;5;28;01mFalse\u001b[39;00m):\n\u001b[0;32m--> 629\u001b[0m     \u001b[38;5;28;43mself\u001b[39;49m\u001b[38;5;241;43m.\u001b[39;49m\u001b[43m_assert_active\u001b[49m\u001b[43m(\u001b[49m\u001b[43m)\u001b[49m\n\u001b[1;32m    630\u001b[0m     \u001b[38;5;28;01mreturn\u001b[39;00m SessionTransaction(\u001b[38;5;28mself\u001b[39m\u001b[38;5;241m.\u001b[39msession, \u001b[38;5;28mself\u001b[39m, nested\u001b[38;5;241m=\u001b[39mnested)\n",
      "File \u001b[0;32m~/2024_Korea_iisw/myvenv2/lib/python3.11/site-packages/sqlalchemy/orm/session.py:601\u001b[0m, in \u001b[0;36mSessionTransaction._assert_active\u001b[0;34m(self, prepared_ok, rollback_ok, deactive_ok, closed_msg)\u001b[0m\n\u001b[1;32m    599\u001b[0m \u001b[38;5;28;01mif\u001b[39;00m \u001b[38;5;129;01mnot\u001b[39;00m deactive_ok \u001b[38;5;129;01mand\u001b[39;00m \u001b[38;5;129;01mnot\u001b[39;00m rollback_ok:\n\u001b[1;32m    600\u001b[0m     \u001b[38;5;28;01mif\u001b[39;00m \u001b[38;5;28mself\u001b[39m\u001b[38;5;241m.\u001b[39m_rollback_exception:\n\u001b[0;32m--> 601\u001b[0m         \u001b[38;5;28;01mraise\u001b[39;00m sa_exc\u001b[38;5;241m.\u001b[39mPendingRollbackError(\n\u001b[1;32m    602\u001b[0m             \u001b[38;5;124m\"\u001b[39m\u001b[38;5;124mThis Session\u001b[39m\u001b[38;5;124m'\u001b[39m\u001b[38;5;124ms transaction has been rolled back \u001b[39m\u001b[38;5;124m\"\u001b[39m\n\u001b[1;32m    603\u001b[0m             \u001b[38;5;124m\"\u001b[39m\u001b[38;5;124mdue to a previous exception during flush.\u001b[39m\u001b[38;5;124m\"\u001b[39m\n\u001b[1;32m    604\u001b[0m             \u001b[38;5;124m\"\u001b[39m\u001b[38;5;124m To begin a new transaction with this Session, \u001b[39m\u001b[38;5;124m\"\u001b[39m\n\u001b[1;32m    605\u001b[0m             \u001b[38;5;124m\"\u001b[39m\u001b[38;5;124mfirst issue Session.rollback().\u001b[39m\u001b[38;5;124m\"\u001b[39m\n\u001b[1;32m    606\u001b[0m             \u001b[38;5;124m\"\u001b[39m\u001b[38;5;124m Original exception was: \u001b[39m\u001b[38;5;132;01m%s\u001b[39;00m\u001b[38;5;124m\"\u001b[39m\n\u001b[1;32m    607\u001b[0m             \u001b[38;5;241m%\u001b[39m \u001b[38;5;28mself\u001b[39m\u001b[38;5;241m.\u001b[39m_rollback_exception,\n\u001b[1;32m    608\u001b[0m             code\u001b[38;5;241m=\u001b[39m\u001b[38;5;124m\"\u001b[39m\u001b[38;5;124m7s2a\u001b[39m\u001b[38;5;124m\"\u001b[39m,\n\u001b[1;32m    609\u001b[0m         )\n\u001b[1;32m    610\u001b[0m     \u001b[38;5;28;01melif\u001b[39;00m \u001b[38;5;129;01mnot\u001b[39;00m deactive_ok:\n\u001b[1;32m    611\u001b[0m         \u001b[38;5;28;01mraise\u001b[39;00m sa_exc\u001b[38;5;241m.\u001b[39mInvalidRequestError(\n\u001b[1;32m    612\u001b[0m             \u001b[38;5;124m\"\u001b[39m\u001b[38;5;124mThis session is in \u001b[39m\u001b[38;5;124m'\u001b[39m\u001b[38;5;124minactive\u001b[39m\u001b[38;5;124m'\u001b[39m\u001b[38;5;124m state, due to the \u001b[39m\u001b[38;5;124m\"\u001b[39m\n\u001b[1;32m    613\u001b[0m             \u001b[38;5;124m\"\u001b[39m\u001b[38;5;124mSQL transaction being rolled back; no further \u001b[39m\u001b[38;5;124m\"\u001b[39m\n\u001b[1;32m    614\u001b[0m             \u001b[38;5;124m\"\u001b[39m\u001b[38;5;124mSQL can be emitted within this transaction.\u001b[39m\u001b[38;5;124m\"\u001b[39m\n\u001b[1;32m    615\u001b[0m         )\n",
      "\u001b[0;31mPendingRollbackError\u001b[0m: This Session's transaction has been rolled back due to a previous exception during flush. To begin a new transaction with this Session, first issue Session.rollback(). Original exception was: (sqlite3.OperationalError) no such table: T_ARTIST\n[SQL: INSERT INTO \"T_ARTIST\" (\"NAME\") VALUES (?)]\n[parameters: ('수지',)]\n(Background on this error at: https://sqlalche.me/e/14/e3q8) (Background on this error at: https://sqlalche.me/e/14/7s2a)"
     ]
    }
   ],
   "source": [
    "a = sess.query(Artist).all()[0]"
   ]
  },
  {
   "cell_type": "code",
   "execution_count": null,
   "id": "e6504ccc-645c-441d-bc4c-893ccd65d2a6",
   "metadata": {},
   "outputs": [],
   "source": [
    "a.albums[0].name"
   ]
  },
  {
   "cell_type": "code",
   "execution_count": null,
   "id": "81bf2957-271c-49db-90b4-c2899e4cdcc6",
   "metadata": {},
   "outputs": [],
   "source": [
    "a.albums.appned(Album(name='수지앨범2', fk=a.pk))"
   ]
  },
  {
   "cell_type": "code",
   "execution_count": null,
   "id": "0118e8fc-b1c2-4275-a041-56e5d9a467e3",
   "metadata": {},
   "outputs": [],
   "source": [
    "session.dirty, sess.is_modified()"
   ]
  },
  {
   "cell_type": "code",
   "execution_count": 18,
   "id": "ade35723-c418-4626-bdec-0f203b5ef247",
   "metadata": {},
   "outputs": [
    {
     "ename": "KeyError",
     "evalue": "'T_ARTIST'",
     "output_type": "error",
     "traceback": [
      "\u001b[0;31m---------------------------------------------------------------------------\u001b[0m",
      "\u001b[0;31mKeyError\u001b[0m                                  Traceback (most recent call last)",
      "Cell \u001b[0;32mIn[18], line 1\u001b[0m\n\u001b[0;32m----> 1\u001b[0m \u001b[38;5;28;43;01mclass\u001b[39;49;00m\u001b[43m \u001b[49m\u001b[38;5;21;43;01mArtist\u001b[39;49;00m\u001b[43m(\u001b[49m\u001b[43mbase\u001b[49m\u001b[43m)\u001b[49m\u001b[43m:\u001b[49m\n\u001b[1;32m      2\u001b[0m \u001b[43m    \u001b[49m\u001b[43m__table__\u001b[49m\u001b[43m \u001b[49m\u001b[38;5;241;43m=\u001b[39;49m\u001b[43m \u001b[49m\u001b[43mbase\u001b[49m\u001b[38;5;241;43m.\u001b[39;49m\u001b[43mmetadata\u001b[49m\u001b[38;5;241;43m.\u001b[39;49m\u001b[43mtables\u001b[49m\u001b[43m[\u001b[49m\u001b[38;5;124;43m'\u001b[39;49m\u001b[38;5;124;43mT_ARTIST\u001b[39;49m\u001b[38;5;124;43m'\u001b[39;49m\u001b[43m]\u001b[49m\n\u001b[1;32m      4\u001b[0m \u001b[43m    \u001b[49m\u001b[43mpk\u001b[49m\u001b[43m \u001b[49m\u001b[38;5;241;43m=\u001b[39;49m\u001b[43m \u001b[49m\u001b[43mbase\u001b[49m\u001b[38;5;241;43m.\u001b[39;49m\u001b[43mmetadata\u001b[49m\u001b[38;5;241;43m.\u001b[39;49m\u001b[43mtables\u001b[49m\u001b[43m[\u001b[49m\u001b[38;5;124;43m'\u001b[39;49m\u001b[38;5;124;43mT_ARTIST\u001b[39;49m\u001b[38;5;124;43m'\u001b[39;49m\u001b[43m]\u001b[49m\u001b[38;5;241;43m.\u001b[39;49m\u001b[43mc\u001b[49m\u001b[38;5;241;43m.\u001b[39;49m\u001b[43mPK\u001b[49m\n",
      "Cell \u001b[0;32mIn[18], line 2\u001b[0m, in \u001b[0;36mArtist\u001b[0;34m()\u001b[0m\n\u001b[1;32m      1\u001b[0m \u001b[38;5;28;01mclass\u001b[39;00m \u001b[38;5;21;01mArtist\u001b[39;00m(base):\n\u001b[0;32m----> 2\u001b[0m     __table__ \u001b[38;5;241m=\u001b[39m \u001b[43mbase\u001b[49m\u001b[38;5;241;43m.\u001b[39;49m\u001b[43mmetadata\u001b[49m\u001b[38;5;241;43m.\u001b[39;49m\u001b[43mtables\u001b[49m\u001b[43m[\u001b[49m\u001b[38;5;124;43m'\u001b[39;49m\u001b[38;5;124;43mT_ARTIST\u001b[39;49m\u001b[38;5;124;43m'\u001b[39;49m\u001b[43m]\u001b[49m\n\u001b[1;32m      4\u001b[0m     pk \u001b[38;5;241m=\u001b[39m base\u001b[38;5;241m.\u001b[39mmetadata\u001b[38;5;241m.\u001b[39mtables[\u001b[38;5;124m'\u001b[39m\u001b[38;5;124mT_ARTIST\u001b[39m\u001b[38;5;124m'\u001b[39m]\u001b[38;5;241m.\u001b[39mc\u001b[38;5;241m.\u001b[39mPK\n\u001b[1;32m      5\u001b[0m     name \u001b[38;5;241m=\u001b[39m base\u001b[38;5;241m.\u001b[39mmetadata\u001b[38;5;241m.\u001b[39mtables[\u001b[38;5;124m'\u001b[39m\u001b[38;5;124mT_ARTIST\u001b[39m\u001b[38;5;124m'\u001b[39m]\u001b[38;5;241m.\u001b[39mc\u001b[38;5;241m.\u001b[39mNAME\n",
      "\u001b[0;31mKeyError\u001b[0m: 'T_ARTIST'"
     ]
    }
   ],
   "source": [
    "class Artist(base):\n",
    "    __table__ = base.metadata.tables['T_ARTIST']\n",
    "\n",
    "    pk = base.metadata.tables['T_ARTIST'].c.PK\n",
    "    name = base.metadata.tables['T_ARTIST'].c.NAME\n",
    "    albums = relationship(\"Album\", back_populates=\"artist\", uselist=True)\n",
    "\n",
    "    def addAlbum(self, s, name):\n",
    "        s.add(Album(name, fk=self.pk))\n",
    "        s.commit()\n",
    "\n",
    "    def delAlbum(self, s, name):\n",
    "        album = list(filter(lambda a:a.name == name, albums))[0]\n",
    "        self.albums.remove(album)\n",
    "        s.commit()\n",
    "\n",
    "class Album(base):\n",
    "    __table__ = base.metadata.tables['T_Album']\n",
    "\n",
    "    pk = base.metadata.tables['T_Album'].c.PK\n",
    "    name = base.metadata.tables['T_Album'].c.NAME\n",
    "    fk = base.metadata.tables['T_Album'].c.FK\n",
    "    artist = relationship(\"Artist\", back_populates=\"albums\", uselist=False)"
   ]
  },
  {
   "cell_type": "code",
   "execution_count": null,
   "id": "626f9eb7-05c3-4fb0-b243-4daf5edde097",
   "metadata": {},
   "outputs": [],
   "source": [
    "a = sess.query(Aritst).all()[0]"
   ]
  },
  {
   "cell_type": "code",
   "execution_count": null,
   "id": "5aa1b698-7cb3-4e03-8c2b-772c1615479c",
   "metadata": {},
   "outputs": [],
   "source": [
    "a.addAlbum(sess, \"수지앨범3\")"
   ]
  },
  {
   "cell_type": "code",
   "execution_count": null,
   "id": "f8632aac-2654-4641-8611-111186b05d60",
   "metadata": {},
   "outputs": [],
   "source": [
    "len(a.albums), a.albums[-1].name"
   ]
  },
  {
   "cell_type": "code",
   "execution_count": null,
   "id": "ea16807a-d8d2-49a1-a368-94452dda21ff",
   "metadata": {},
   "outputs": [],
   "source": [
    "# 포스팅             + 해시태그 (반드시 풀에 존재)\n",
    "                    +1   =1\n",
    "Post                Hashtag\n",
    "Post.addTags(....)  Tag.plus(), Tag.minus"
   ]
  },
  {
   "cell_type": "code",
   "execution_count": null,
   "id": "805ed5c3-cb03-474b-b594-ecefe795e43e",
   "metadata": {},
   "outputs": [],
   "source": [
    "# M(model)VC 패턴\n",
    "# M(model)VVM 패턴"
   ]
  }
 ],
 "metadata": {
  "kernelspec": {
   "display_name": "Python 3 (ipykernel)",
   "language": "python",
   "name": "python3"
  },
  "language_info": {
   "codemirror_mode": {
    "name": "ipython",
    "version": 3
   },
   "file_extension": ".py",
   "mimetype": "text/x-python",
   "name": "python",
   "nbconvert_exporter": "python",
   "pygments_lexer": "ipython3",
   "version": "3.11.8"
  }
 },
 "nbformat": 4,
 "nbformat_minor": 5
}
