{
 "cells": [
  {
   "cell_type": "code",
   "execution_count": 1,
   "metadata": {},
   "outputs": [],
   "source": [
    "import sqlite3\n",
    "conn = sqlite3.connect(\"playlist.db\")\n",
    "cur = conn.cursor()"
   ]
  },
  {
   "cell_type": "code",
   "execution_count": 2,
   "metadata": {},
   "outputs": [
    {
     "data": {
      "text/plain": [
       "<sqlite3.Cursor at 0x104fe35c0>"
      ]
     },
     "execution_count": 2,
     "metadata": {},
     "output_type": "execute_result"
    }
   ],
   "source": [
    "cur.execute('''\n",
    "  CREATE TABLE ARTIST(\n",
    "    PK INTEGER PRIMARY KEY,\n",
    "    NAME TEXT NOT NULL DEFAULT '가수'\n",
    "  );\n",
    "''')"
   ]
  },
  {
   "cell_type": "code",
   "execution_count": 3,
   "metadata": {},
   "outputs": [
    {
     "data": {
      "text/plain": [
       "<sqlite3.Cursor at 0x104fe35c0>"
      ]
     },
     "execution_count": 3,
     "metadata": {},
     "output_type": "execute_result"
    }
   ],
   "source": [
    "cur.executescript('''\n",
    "  CREATE TABLE ALBUM(\n",
    "    PK INTEGER PRIMARY KEY,\n",
    "    NAME TEXT,\n",
    "    FK INTEGER NOT NULL\n",
    "  );\n",
    "  CREATE TABLE GENRE(\n",
    "    PK INTEGER PRIMARY KEY,\n",
    "    NAME TEXT\n",
    "  );\n",
    "  CREATE TABLE TRACK(\n",
    "    PK INTEGER PRIMARY KEY,\n",
    "    NAME TEXT,\n",
    "    LENGTH INTEGER DEFAULT 0,\n",
    "    RATING INTEGER DEFAULT 0,\n",
    "    COUNT INTEGER DEFAULT 0,\n",
    "    AFK INTEGER NOT NULL,\n",
    "    GFK INTEGER NOT NULL\n",
    "  );\n",
    "''')\n",
    "\n",
    "# STAR RATING : 현업에서 사용자의 반응을 알기 위해 많이 사용한다. 보통 별 5개를 사용 => 통계기법"
   ]
  },
  {
   "cell_type": "code",
   "execution_count": 17,
   "metadata": {},
   "outputs": [
    {
     "ename": "SyntaxError",
     "evalue": "invalid syntax (2602426753.py, line 1)",
     "output_type": "error",
     "traceback": [
      "\u001b[0;36m  Cell \u001b[0;32mIn[17], line 1\u001b[0;36m\u001b[0m\n\u001b[0;31m    DB Broswer for SQLite\u001b[0m\n\u001b[0m       ^\u001b[0m\n\u001b[0;31mSyntaxError\u001b[0m\u001b[0;31m:\u001b[0m invalid syntax\n"
     ]
    }
   ],
   "source": [
    "DB Broswer for SQLite"
   ]
  },
  {
   "cell_type": "code",
   "execution_count": 4,
   "metadata": {},
   "outputs": [
    {
     "data": {
      "text/plain": [
       "<sqlite3.Cursor at 0x104fe35c0>"
      ]
     },
     "execution_count": 4,
     "metadata": {},
     "output_type": "execute_result"
    }
   ],
   "source": [
    "cur.executemany('''\n",
    "    INSERT INTO ARTIST VALUES(NULL,?);\n",
    "    ''',[['수지'],['박효신'],['아이유']])"
   ]
  },
  {
   "cell_type": "code",
   "execution_count": 5,
   "metadata": {},
   "outputs": [],
   "source": [
    "conn.commit()"
   ]
  },
  {
   "cell_type": "code",
   "execution_count": 6,
   "metadata": {},
   "outputs": [
    {
     "data": {
      "text/plain": [
       "<sqlite3.Cursor at 0x104fe35c0>"
      ]
     },
     "execution_count": 6,
     "metadata": {},
     "output_type": "execute_result"
    }
   ],
   "source": [
    "cur.executemany('''\n",
    "    INSERT INTO GENRE VALUES(NULL,?);\n",
    "''',[['발라드'],['R&B'],['락']])"
   ]
  },
  {
   "cell_type": "code",
   "execution_count": 7,
   "metadata": {},
   "outputs": [],
   "source": [
    "conn.commit()"
   ]
  },
  {
   "cell_type": "code",
   "execution_count": 8,
   "metadata": {},
   "outputs": [],
   "source": [
    "# artist에서 pk 찾아서 insert \n",
    "def addAlbum(artist, album):\n",
    "    cur.execute('''SELECT PK FROM ARTIST WHERE NAME LIKE ?''', ['%'+artist+'%'])\n",
    "    PK = cur.fetchone()\n",
    "\n",
    "    if PK:\n",
    "        FK = PK[0]\n",
    "        cur.execute('INSERT INTO ALBUM VALUES(NULL, ?, ?)',(album, FK))\n",
    "    \n",
    "    return PK, artist, album, cur.lastrowid"
   ]
  },
  {
   "cell_type": "code",
   "execution_count": 35,
   "metadata": {},
   "outputs": [],
   "source": [
    "addAlbum('박효신','박효신앨범')\n",
    "addAlbum('아이유','아이유앨범')\n",
    "conn.commit()"
   ]
  },
  {
   "cell_type": "code",
   "execution_count": 24,
   "metadata": {},
   "outputs": [],
   "source": [
    "# INSERT track AFk=PK1, GFK=PK2\n",
    "def addTrack(album, genre, track, length=0, rating=0,  count=0):\n",
    "    cur.execute('SELECT PK FROM ALBUM WHERE NAME LIKE ?',['%'+album+'%'])\n",
    "    PK1 = cur.fetchone()\n",
    "\n",
    "    cur.execute('SELECT PK FROM GENRE WHERE NAME LIKE ?',['%'+genre+'%'])\n",
    "    PK2 = cur.fetchone()\n",
    "\n",
    "    if PK1 != None and PK2 != None:\n",
    "        AFK = PK1[0]\n",
    "        GFK = PK2[0]\n",
    "        cur.execute('''\n",
    "            INSERT INTO TRACK\n",
    "            VALUES(NULL, :name, :length, :rating, :count, :afk, :gfk)\n",
    "        ''', {'name':track, 'length':length, 'rating':rating, 'count':count,'afk':AFK, 'gfk':GFK })\n",
    "        conn.commit()\n",
    "        \n",
    "    return PK1, PK2"
   ]
  },
  {
   "cell_type": "code",
   "execution_count": 37,
   "metadata": {},
   "outputs": [
    {
     "data": {
      "text/plain": [
       "((3,), (1,))"
      ]
     },
     "execution_count": 37,
     "metadata": {},
     "output_type": "execute_result"
    }
   ],
   "source": [
    "addTrack('아이유','발라드','아이유노래1')\n",
    "addTrack('아이유','발라드','아이유노래2')\n",
    "addTrack('아이유','발라드','아이유노래3')"
   ]
  },
  {
   "cell_type": "code",
   "execution_count": 36,
   "metadata": {},
   "outputs": [
    {
     "data": {
      "text/plain": [
       "((2,), (3,))"
      ]
     },
     "execution_count": 36,
     "metadata": {},
     "output_type": "execute_result"
    }
   ],
   "source": [
    "addTrack('박효신','R&B','박효신노래1')\n",
    "addTrack('박효신','발라드','박효신노래2')\n",
    "addTrack('박효신','락','박효신노래3')"
   ]
  },
  {
   "cell_type": "code",
   "execution_count": 12,
   "metadata": {},
   "outputs": [
    {
     "name": "stdout",
     "output_type": "stream",
     "text": [
      "[(1, '수지'), (2, '박효신'), (3, '아이유')]\n"
     ]
    }
   ],
   "source": [
    "cur.execute('SELECT * FROM ARTIST')\n",
    "rst = cur.fetchall()\n",
    "print(rst)"
   ]
  },
  {
   "cell_type": "code",
   "execution_count": 13,
   "metadata": {},
   "outputs": [
    {
     "name": "stdout",
     "output_type": "stream",
     "text": [
      "[(1, '발라드'), (2, 'R&B'), (3, '락')]\n"
     ]
    }
   ],
   "source": [
    "cur.execute('SELECT * FROM GENRE')\n",
    "rst = cur.fetchall()\n",
    "print(rst)"
   ]
  },
  {
   "cell_type": "code",
   "execution_count": 14,
   "metadata": {},
   "outputs": [
    {
     "name": "stdout",
     "output_type": "stream",
     "text": [
      "[(1, '수지앨범', 1), (2, '아이유앨범', 3), (3, '박효진앨범', 2)]\n"
     ]
    }
   ],
   "source": [
    "cur.execute('SELECT * FROM ALBUM')\n",
    "rst = cur.fetchall()\n",
    "print(rst)"
   ]
  },
  {
   "cell_type": "code",
   "execution_count": 15,
   "metadata": {},
   "outputs": [
    {
     "name": "stdout",
     "output_type": "stream",
     "text": [
      "[(1, '아이유노래1', 0, 0, 0, 2, 1), (2, '아이유노래2', 0, 0, 0, 2, 1), (3, '아이유노래3', 0, 0, 0, 2, 1)]\n"
     ]
    }
   ],
   "source": [
    "cur.execute('SELECT * FROM TRACK')\n",
    "rst = cur.fetchall()\n",
    "print(rst)"
   ]
  },
  {
   "cell_type": "code",
   "execution_count": 19,
   "metadata": {},
   "outputs": [],
   "source": [
    "conn.commit()"
   ]
  },
  {
   "cell_type": "code",
   "execution_count": 34,
   "metadata": {},
   "outputs": [],
   "source": [
    "cur.execute('DELETE FROM ALBUM WHERE NAME LIKE \"%아이유%\"')\n",
    "conn.commit()"
   ]
  },
  {
   "cell_type": "code",
   "execution_count": 28,
   "metadata": {},
   "outputs": [
    {
     "data": {
      "text/plain": [
       "<sqlite3.Cursor at 0x104fe35c0>"
      ]
     },
     "execution_count": 28,
     "metadata": {},
     "output_type": "execute_result"
    }
   ],
   "source": [
    "cur.execute('DELETE FROM TRACK WHERE NAME LIKE \"%아이유%\"')"
   ]
  },
  {
   "cell_type": "code",
   "execution_count": 29,
   "metadata": {},
   "outputs": [],
   "source": [
    "conn.commit()"
   ]
  },
  {
   "cell_type": "code",
   "execution_count": 41,
   "metadata": {},
   "outputs": [
    {
     "data": {
      "text/plain": [
       "[('수지', '수지앨범'), ('박효신', '박효신앨범'), ('아이유', '아이유앨범')]"
      ]
     },
     "execution_count": 41,
     "metadata": {},
     "output_type": "execute_result"
    }
   ],
   "source": [
    "# 아티스트 - 앨범\n",
    "cur.execute('SELECT DISTINCT * FROM ARTIST')\n",
    "cur.fetchall()\n",
    "\n",
    "cur.execute('SELECT * FROM ALBUM')\n",
    "cur.fetchall()\n",
    "\n",
    "cur.execute('''\n",
    "    SELECT ARTIST.NAME, ALBUM.NAME\n",
    "    FROM ARTIST\n",
    "    LEFT JOIN ALBUM\n",
    "    ON ALBUM.FK = ARTIST.PK\n",
    "''')\n",
    "cur.fetchall()\n"
   ]
  },
  {
   "cell_type": "code",
   "execution_count": 39,
   "metadata": {},
   "outputs": [
    {
     "data": {
      "text/plain": [
       "[('박효신', 1), ('수지', 1), ('아이유', 1)]"
      ]
     },
     "execution_count": 39,
     "metadata": {},
     "output_type": "execute_result"
    }
   ],
   "source": [
    "# 가수당 몇개의 앨범이 있는가? \n",
    "cur.execute('''\n",
    "    SELECT ARTIST.NAME, COUNT(ALBUM.NAME)\n",
    "    FROM ARTIST\n",
    "    INNER JOIN ALBUM\n",
    "    ON ALBUM.FK = ARTIST.PK\n",
    "    GROUP BY ALBUM.NAME\n",
    "    ORDER BY ARTIST.NAME ASC\n",
    "''')\n",
    "cur.fetchall()"
   ]
  },
  {
   "cell_type": "code",
   "execution_count": 47,
   "metadata": {},
   "outputs": [
    {
     "data": {
      "text/plain": [
       "[('박효신앨범', 3), ('아이유앨범', 3)]"
      ]
     },
     "execution_count": 47,
     "metadata": {},
     "output_type": "execute_result"
    }
   ],
   "source": [
    "# 앨범별 노래가 몇개 있는가? \n",
    "cur.execute('''\n",
    "    SELECT ALBUM.NAME, COUNT(TRACK.NAME)\n",
    "    FROM TRACK\n",
    "    INNER JOIN ALBUM\n",
    "    ON ALBUM.PK = TRACK.AFK\n",
    "    GROUP BY ALBUM.NAME\n",
    "''')\n",
    "cur.fetchall()"
   ]
  },
  {
   "cell_type": "code",
   "execution_count": 46,
   "metadata": {},
   "outputs": [
    {
     "data": {
      "text/plain": [
       "[('R&B', 3), ('락', 3)]"
      ]
     },
     "execution_count": 46,
     "metadata": {},
     "output_type": "execute_result"
    }
   ],
   "source": [
    "# 장르별 몇개의 노래가 있는가? \n",
    "# GENRE = TRACK\n",
    "cur.execute('''\n",
    "    SELECT GENRE.NAME, COUNT(TRACK.NAME)\n",
    "    FROM TRACK\n",
    "    LEFT JOIN GENRE\n",
    "    ON GENRE.PK = TRACK.AFK\n",
    "    GROUP BY GENRE.NAME\n",
    "''')\n",
    "cur.fetchall()"
   ]
  },
  {
   "cell_type": "code",
   "execution_count": 48,
   "metadata": {},
   "outputs": [],
   "source": [
    "# 기준이 되는 테이블을 아는 방법은?"
   ]
  },
  {
   "cell_type": "code",
   "execution_count": 52,
   "metadata": {},
   "outputs": [
    {
     "data": {
      "text/plain": [
       "[('수지', '수지앨범', None),\n",
       " ('박효신', '박효신앨범', '박효신노래1'),\n",
       " ('박효신', '박효신앨범', '박효신노래2'),\n",
       " ('박효신', '박효신앨범', '박효신노래3'),\n",
       " ('아이유', '아이유앨범', '아이유노래1'),\n",
       " ('아이유', '아이유앨범', '아이유노래2'),\n",
       " ('아이유', '아이유앨범', '아이유노래3')]"
      ]
     },
     "execution_count": 52,
     "metadata": {},
     "output_type": "execute_result"
    }
   ],
   "source": [
    "# ARTIST - ALBUM - TRACK\n",
    "cur.execute('''\n",
    "    SELECT A.NAME, B.NAME, C.NAME\n",
    "    FROM ARTIST AS A\n",
    "    LEFT JOIN ALBUM AS B\n",
    "    ON B.FK = A.PK\n",
    "    LEFT JOIN TRACK AS C\n",
    "    ON C.AFK = B.PK\n",
    "''')\n",
    "cur.fetchall()"
   ]
  },
  {
   "cell_type": "code",
   "execution_count": 54,
   "metadata": {},
   "outputs": [
    {
     "data": {
      "text/plain": [
       "[('수지', '수지앨범'),\n",
       " ('박효신', '박효신앨범'),\n",
       " ('박효신', '박효신앨범'),\n",
       " ('박효신', '박효신앨범'),\n",
       " ('아이유', '아이유앨범'),\n",
       " ('아이유', '아이유앨범'),\n",
       " ('아이유', '아이유앨범')]"
      ]
     },
     "execution_count": 54,
     "metadata": {},
     "output_type": "execute_result"
    }
   ],
   "source": [
    "# ARTIST - ALBUM - TRACK\n",
    "# 누구와 합칠지 먼저 구하고, 그 다음 함치는 것\n",
    "cur.execute('''\n",
    "    SELECT A.NAME, B.NAME\n",
    "    FROM ARTIST AS A\n",
    "    LEFT JOIN (\n",
    "        SELECT ALBUM.FK, ALBUM.NAME AS NAME, TRACK.NAME AS TNAME\n",
    "        FROM ALBUM\n",
    "        LEFT JOIN TRACK\n",
    "        ON TRACK.AFK = ALBUM.PK\n",
    "    ) AS B\n",
    "    ON B.FK = A.PK\n",
    "''')\n",
    "cur.fetchall()"
   ]
  },
  {
   "cell_type": "code",
   "execution_count": 56,
   "metadata": {},
   "outputs": [
    {
     "data": {
      "text/plain": [
       "[('박효신', '박효신앨범', 3), ('아이유', '아이유앨범', 3)]"
      ]
     },
     "execution_count": 56,
     "metadata": {},
     "output_type": "execute_result"
    }
   ],
   "source": [
    "# \n",
    "cur.execute('''\n",
    "    SELECT A.NAME, B.NAME, COUNT(C.NAME)\n",
    "    FROM ARTIST AS A, ALBUM AS B, TRACK AS C\n",
    "    WHERE A.PK=B.FK AND B.PK=C.AFK\n",
    "    GROUP BY B.NAME\n",
    "''')\n",
    "cur.fetchall()"
   ]
  },
  {
   "cell_type": "code",
   "execution_count": 59,
   "metadata": {},
   "outputs": [
    {
     "data": {
      "text/plain": [
       "[('박효신', '박효신앨범', 'R&B', '박효신노래1'),\n",
       " ('박효신', '박효신앨범', '발라드', '박효신노래2'),\n",
       " ('박효신', '박효신앨범', '락', '박효신노래3'),\n",
       " ('아이유', '아이유앨범', '발라드', '아이유노래1'),\n",
       " ('아이유', '아이유앨범', '발라드', '아이유노래2'),\n",
       " ('아이유', '아이유앨범', '발라드', '아이유노래3')]"
      ]
     },
     "execution_count": 59,
     "metadata": {},
     "output_type": "execute_result"
    }
   ],
   "source": [
    "# 4개 섞기\n",
    "# ARTIST - ALBUM - GENRE - TRACK\n",
    "# where 절에 조건을 붙여 불러오는 것은 비효율적\n",
    "# row 데이터는 최대한 살려야 한다.\n",
    "cur.execute('''\n",
    "    SELECT A.NAME, B.NAME, C.NAME, D.NAME\n",
    "    FROM ARTIST AS A, ALBUM AS B, GENRE AS C, TRACK AS D\n",
    "    WHERE A.PK=B.FK AND B.PK=D.AFK AND C.PK=D.GFK\n",
    "''')\n",
    "cur.fetchall()"
   ]
  },
  {
   "cell_type": "code",
   "execution_count": 62,
   "metadata": {},
   "outputs": [
    {
     "data": {
      "text/plain": [
       "[('박효신', '박효신앨범', '발라드', 1, '박효신노래2', 1),\n",
       " ('박효신', '박효신앨범', 'R&B', 1, '박효신노래1', 1),\n",
       " ('박효신', '박효신앨범', '락', 1, '박효신노래3', 1),\n",
       " ('아이유', '아이유앨범', '발라드', 3, '아이유노래1', 3)]"
      ]
     },
     "execution_count": 62,
     "metadata": {},
     "output_type": "execute_result"
    }
   ],
   "source": [
    "cur.execute('''\n",
    "    SELECT A.NAME, B.NAME, C.NAME, COUNT(C.NAME), D.NAME,COUNT(D.NAME)\n",
    "    FROM ARTIST AS A, ALBUM AS B, GENRE AS C, TRACK AS D\n",
    "    WHERE A.PK=B.FK AND B.PK=D.AFK AND C.PK=D.GFK\n",
    "    GROUP BY A.PK, B.PK, C.PK\n",
    "''')\n",
    "# GROUP BY A.PK, B.PK, C.PK 하나 씩 추가하면서 연습해보기\n",
    "# 피봇 데이블을 만들수 있다. 새로운 기준으로 카운트를 셀수 있다. 이걸 pandas를 쓴다.\n",
    "# 그런데, 이것도 알아야한다. 파이선의 자원 뿐아니라 서버의 자원을 충분히 활용할 수 있어야 한다.\n",
    "cur.fetchall()"
   ]
  },
  {
   "cell_type": "code",
   "execution_count": 63,
   "metadata": {},
   "outputs": [
    {
     "data": {
      "text/plain": [
       "<sqlite3.Cursor at 0x104fe35c0>"
      ]
     },
     "execution_count": 63,
     "metadata": {},
     "output_type": "execute_result"
    }
   ],
   "source": [
    "cur.execute('''\n",
    "    CREATE VIEW ALBUM_TRACK AS \n",
    "    SELECT ALBUM.FK, ALBUM.NAME AS NAME, TRACK.NAME AS TNAME\n",
    "        FROM ALBUM\n",
    "        LEFT JOIN TRACK\n",
    "        ON TRACK.AFK = ALBUM.PK \n",
    "''')"
   ]
  },
  {
   "cell_type": "code",
   "execution_count": 64,
   "metadata": {},
   "outputs": [
    {
     "data": {
      "text/plain": [
       "[(1, '수지앨범', None),\n",
       " (2, '박효신앨범', '박효신노래1'),\n",
       " (2, '박효신앨범', '박효신노래2'),\n",
       " (2, '박효신앨범', '박효신노래3'),\n",
       " (3, '아이유앨범', '아이유노래1'),\n",
       " (3, '아이유앨범', '아이유노래2'),\n",
       " (3, '아이유앨범', '아이유노래3')]"
      ]
     },
     "execution_count": 64,
     "metadata": {},
     "output_type": "execute_result"
    }
   ],
   "source": [
    "cur.execute('SELECT * FROM ALBUM_TRACK')\n",
    "cur.fetchall()\n",
    "# 뷰 테이블을 사용하면 좋다.\n",
    "# 1) 원본 데이터를 숨길 수 있다."
   ]
  },
  {
   "cell_type": "code",
   "execution_count": 65,
   "metadata": {},
   "outputs": [],
   "source": [
    "# 중첩과 조인을 이어서 사용하는 것 중에서 무엇이 더 빠른가? 조인을 이어쓰는게 빠르다.\n",
    "# 조인은 수정이 어렵고 헷갈린다. 자신이 없다면 뷰테이블을 만드는 것이 좋다."
   ]
  },
  {
   "cell_type": "code",
   "execution_count": 66,
   "metadata": {},
   "outputs": [],
   "source": [
    "# 기준이 되는 칼럼이란 미싱 벨류가 사는 쪽\n",
    "# SELECT * FORM A LEFT JOIN B -> A의 모든 값이 산다, 원본이 된다.\n",
    "# SELECT * FORM A RIGHT JOIN B -> B의 모든 값이 산다, 원본이 된다."
   ]
  },
  {
   "cell_type": "code",
   "execution_count": 67,
   "metadata": {},
   "outputs": [],
   "source": [
    "conn.close()"
   ]
  },
  {
   "cell_type": "code",
   "execution_count": 74,
   "metadata": {},
   "outputs": [],
   "source": [
    "# SNS - 게시글(해시태그) 등록/수정/\n",
    "conn = sqlite3.connect('sns.db')\n",
    "cur = conn.cursor()"
   ]
  },
  {
   "cell_type": "code",
   "execution_count": 75,
   "metadata": {},
   "outputs": [],
   "source": [
    "cur.executescript('''\n",
    "    CREATE TABLE POST(\n",
    "        PK INTEGER PRIMARY KEY\n",
    "    );\n",
    "    CREATE TABLE HASHTAG(\n",
    "        PK  INTEGER PRIMARY KEY,\n",
    "        TAG TEXT NOT NULL,\n",
    "        COUNT INTEGER DEFAULT 0      \n",
    "    );\n",
    "    CREATE TABLE POSTTAG(\n",
    "        PFK INTEGER NOT NULL,\n",
    "        TFK INTEGER NOT NULL\n",
    "    )\n",
    "''')\n",
    "conn.commit()"
   ]
  },
  {
   "cell_type": "code",
   "execution_count": 76,
   "metadata": {},
   "outputs": [
    {
     "data": {
      "text/plain": [
       "<sqlite3.Cursor at 0x10a5d8c40>"
      ]
     },
     "execution_count": 76,
     "metadata": {},
     "output_type": "execute_result"
    }
   ],
   "source": [
    "cur.execute('''\n",
    "    ALTER TABLE POST\n",
    "    ADD COLUMN CONTENT TEXT\n",
    "''')"
   ]
  },
  {
   "cell_type": "code",
   "execution_count": 73,
   "metadata": {},
   "outputs": [],
   "source": [
    "conn.close()"
   ]
  },
  {
   "cell_type": "code",
   "execution_count": 77,
   "metadata": {},
   "outputs": [],
   "source": [
    "conn = sqlite3.connect('playlist.db')\n",
    "cur = conn.cursor()"
   ]
  },
  {
   "cell_type": "code",
   "execution_count": 78,
   "metadata": {},
   "outputs": [
    {
     "data": {
      "text/plain": [
       "<sqlite3.Cursor at 0x10a5db040>"
      ]
     },
     "execution_count": 78,
     "metadata": {},
     "output_type": "execute_result"
    }
   ],
   "source": [
    "cur.execute('''\n",
    "    ALTER TABLE ARTIST\n",
    "    ADD COLUMN temp TEXT NOT NULL DEFAULT '';\n",
    "''')"
   ]
  },
  {
   "cell_type": "code",
   "execution_count": 79,
   "metadata": {},
   "outputs": [],
   "source": [
    "conn.close()"
   ]
  },
  {
   "cell_type": "code",
   "execution_count": 80,
   "metadata": {},
   "outputs": [],
   "source": [
    "conn = sqlite3.connect('sns.db')\n",
    "cur = conn.cursor()"
   ]
  },
  {
   "cell_type": "code",
   "execution_count": 88,
   "metadata": {},
   "outputs": [
    {
     "ename": "ProgrammingError",
     "evalue": "Error binding parameter 1: type 'tuple' is not supported",
     "output_type": "error",
     "traceback": [
      "\u001b[0;31m---------------------------------------------------------------------------\u001b[0m",
      "\u001b[0;31mProgrammingError\u001b[0m                          Traceback (most recent call last)",
      "Cell \u001b[0;32mIn[88], line 36\u001b[0m\n\u001b[1;32m     32\u001b[0m     conn\u001b[38;5;241m.\u001b[39mcommit()\n\u001b[1;32m     34\u001b[0m     \u001b[38;5;28;01mreturn\u001b[39;00m PK, fkList\n\u001b[0;32m---> 36\u001b[0m \u001b[43mnewPosting\u001b[49m\u001b[43m(\u001b[49m\u001b[38;5;124;43m\"\u001b[39;49m\u001b[38;5;124;43m내용\u001b[39;49m\u001b[38;5;124;43m\"\u001b[39;49m\u001b[43m,\u001b[49m\u001b[43m \u001b[49m\u001b[38;5;124;43m'\u001b[39;49m\u001b[38;5;124;43m태크1\u001b[39;49m\u001b[38;5;124;43m'\u001b[39;49m\u001b[43m,\u001b[49m\u001b[43m \u001b[49m\u001b[38;5;124;43m'\u001b[39;49m\u001b[38;5;124;43m태그2\u001b[39;49m\u001b[38;5;124;43m'\u001b[39;49m\u001b[43m)\u001b[49m\n",
      "Cell \u001b[0;32mIn[88], line 25\u001b[0m, in \u001b[0;36mnewPosting\u001b[0;34m(content, *tags)\u001b[0m\n\u001b[1;32m     23\u001b[0m     PK2 \u001b[38;5;241m=\u001b[39m cur\u001b[38;5;241m.\u001b[39mfetchone()\n\u001b[1;32m     24\u001b[0m     fkList\u001b[38;5;241m.\u001b[39mappend(PK2)\n\u001b[0;32m---> 25\u001b[0m     \u001b[43mcur\u001b[49m\u001b[38;5;241;43m.\u001b[39;49m\u001b[43mexecute\u001b[49m\u001b[43m(\u001b[49m\u001b[38;5;124;43m'\u001b[39;49m\u001b[38;5;124;43mUPDATE HASHTAG SET COUNT = COUNT +1 WHERE PK=?\u001b[39;49m\u001b[38;5;124;43m'\u001b[39;49m\u001b[43m,\u001b[49m\u001b[43m(\u001b[49m\u001b[43mPK2\u001b[49m\u001b[43m,\u001b[49m\u001b[43m)\u001b[49m\u001b[43m)\u001b[49m\n\u001b[1;32m     26\u001b[0m     conn\u001b[38;5;241m.\u001b[39mcommit()\n\u001b[1;32m     28\u001b[0m \u001b[38;5;66;03m# 3\u001b[39;00m\n",
      "\u001b[0;31mProgrammingError\u001b[0m: Error binding parameter 1: type 'tuple' is not supported"
     ]
    }
   ],
   "source": [
    "# POST 등록하기\n",
    "def newPosting(content, *tags):\n",
    "\n",
    "    # 1\n",
    "    cur.execute('INSERT INTO POST VALUES (NULL,?)',(content,))\n",
    "    conn.commit()\n",
    "\n",
    "    cur.execute('SELECT PK FROM POST ORDER BY PK DESC LIMIT 0, 1')\n",
    "    fk = cur.fetchone()[0]\n",
    "\n",
    "    # 2\n",
    "    fkList = list()\n",
    "    for tag in tags:\n",
    "        # 기본 태그풀에 있는지 단순 검사\n",
    "        cur.execute('SELECT PK FROM HASHTAG WHERE TAG=?',(tag,))\n",
    "        PK = cur.fetchone()\n",
    "        if PK is None:\n",
    "            cur.execute('INSERT INTO HASHTAG VALUES (NULL, ?, NULL)',(tag,))\n",
    "            conn.commit()\n",
    "        \n",
    "        # 무조건 태그풀에 태그가 있음\n",
    "        cur.execute('SELECT PK FROM HASHTAG WHERE TAG=?',(tag,))\n",
    "        PK2 = cur.fetchone()\n",
    "        fkList.append(PK2)\n",
    "        cur.execute('UPDATE HASHTAG SET COUNT = COUNT +1 WHERE PK=?',(PK2,))\n",
    "        conn.commit()\n",
    "\n",
    "    # 3\n",
    "    for FK in fkList:\n",
    "        cur.executemany('INSERT INTO POSTTAG VALUES(?,?)',(fk,FK)) \n",
    "    \n",
    "    conn.commit()\n",
    "    \n",
    "    return PK, fkList\n",
    "\n",
    "newPosting(\"내용\", '태크1', '태그2')"
   ]
  },
  {
   "cell_type": "code",
   "execution_count": 82,
   "metadata": {},
   "outputs": [],
   "source": [
    "# 등롥 - 1 (내용 추가)\n",
    "#cur.execute('INSERT INTO POST VALUES (NULL,?)',(content,))\n",
    "#conn.commit()\n",
    "#print(cur.lastrowid) # pk 값 으로 사용금지\n",
    "\n",
    "#cur.execute('SELECT PK FROM POST WHERE CONTENT=?',(content,))\n",
    "cur.execute('SELECT PK FROM POST ORDER BY PK DESC LIMIT 0, 1')\n",
    "conn.commit()\n",
    "PK = cur.fetchall()"
   ]
  },
  {
   "cell_type": "code",
   "execution_count": 85,
   "metadata": {},
   "outputs": [
    {
     "ename": "NameError",
     "evalue": "name 'tags' is not defined",
     "output_type": "error",
     "traceback": [
      "\u001b[0;31m---------------------------------------------------------------------------\u001b[0m",
      "\u001b[0;31mNameError\u001b[0m                                 Traceback (most recent call last)",
      "Cell \u001b[0;32mIn[85], line 16\u001b[0m\n\u001b[1;32m      1\u001b[0m \u001b[38;5;66;03m# 등록 - 2 (해시태그 추가)\u001b[39;00m\n\u001b[1;32m      2\u001b[0m \u001b[38;5;66;03m# fkList = list()\u001b[39;00m\n\u001b[1;32m      3\u001b[0m \u001b[38;5;66;03m# for tag in tags:\u001b[39;00m\n\u001b[0;32m   (...)\u001b[0m\n\u001b[1;32m     12\u001b[0m \u001b[38;5;66;03m#         cur.execute('INSERT INTO HASHTAG VALUES (NULL, ?, 1)',(tag,))\u001b[39;00m\n\u001b[1;32m     13\u001b[0m \u001b[38;5;66;03m#         conn.commit()\u001b[39;00m\n\u001b[1;32m     15\u001b[0m fkList \u001b[38;5;241m=\u001b[39m \u001b[38;5;28mlist\u001b[39m()\n\u001b[0;32m---> 16\u001b[0m \u001b[38;5;28;01mfor\u001b[39;00m tag \u001b[38;5;129;01min\u001b[39;00m \u001b[43mtags\u001b[49m:\n\u001b[1;32m     17\u001b[0m     \u001b[38;5;66;03m# 기본 태그풀에 있는지 단순 검사\u001b[39;00m\n\u001b[1;32m     18\u001b[0m     cur\u001b[38;5;241m.\u001b[39mexecute(\u001b[38;5;124m'\u001b[39m\u001b[38;5;124mSELECT PK FROM HASHTAG TAG=?\u001b[39m\u001b[38;5;124m'\u001b[39m,(tag,))\n\u001b[1;32m     19\u001b[0m     PK \u001b[38;5;241m=\u001b[39m cur\u001b[38;5;241m.\u001b[39mfetchone()\n",
      "\u001b[0;31mNameError\u001b[0m: name 'tags' is not defined"
     ]
    }
   ],
   "source": [
    "# 등록 - 2 (해시태그 추가)\n",
    "# fkList = list()\n",
    "# for tag in tags:\n",
    "#     cur.execute('SELECT PK FROM HASHTAG TAG=?',(tag,))\n",
    "#     PK = cur.fetchone()\n",
    "#     if PK:\n",
    "#         PK = PK[0]\n",
    "#         fkList.appned(PK)\n",
    "#         cur.execute('UPDATE HASHTAG SET COUNT = COUNT + 1 WHERE PK=?',(PK,))\n",
    "#         conn.commit()\n",
    "#     else:\n",
    "#         cur.execute('INSERT INTO HASHTAG VALUES (NULL, ?, 1)',(tag,))\n",
    "#         conn.commit()\n",
    "\n",
    "fkList = list()\n",
    "for tag in tags:\n",
    "    # 기본 태그풀에 있는지 단순 검사\n",
    "    cur.execute('SELECT PK FROM HASHTAG TAG=?',(tag,))\n",
    "    PK = cur.fetchone()\n",
    "    if PK is None:\n",
    "        cur.execute('INSERT INTO HASHTAG VALUES (NULL, ?, NULL)',(tag,))\n",
    "        conn.commit()\n",
    "    \n",
    "    # 무조건 태그풀에 태그가 있음\n",
    "    cur.execute('SELECT PK FROM HASHTAG TAG=?',(tag,))\n",
    "    PK2 = cur.fetchone()\n",
    "    fkList.append(PK2)\n",
    "    cur.execute('UPDATE HASHTAG SET COUNT = COUNT +1 WHERE PK=?',(PK2,))\n",
    "    conn.commit()"
   ]
  },
  {
   "cell_type": "code",
   "execution_count": null,
   "metadata": {},
   "outputs": [],
   "source": [
    "# 등록 = 3 (1,2 합쳐서)\n",
    "PK, fkList\n",
    "for FK in fkList:\n",
    "    cur.executemany('INSERT INTO POSTTAG VALUES(?,?)',(PK,FK))\n",
    "\n",
    "# 위에 함수로 "
   ]
  },
  {
   "cell_type": "code",
   "execution_count": null,
   "metadata": {},
   "outputs": [],
   "source": [
    "# 수정\n",
    "def modifyPost(content, *tags):\n",
    "    # 1. 게시글 찾는 과정 - 내용이 항상 일치한다고 가정\n",
    "    cur.execute('SELECT PK FROM POST WHERE CONTENT=?', (content,))\n",
    "    PPK = cur.fetchone()[0]\n",
    "\n",
    "    # 2. 게시글에 달린 해시태그 목록\n",
    "    cur.execute('SELECT TFK FROM POSTTAG WHERE PFK=?',(PPK,))\n",
    "    tagList = list(cur.fetchall()) #[[1,],[]]\n",
    "    for row in cur.fetchall():\n",
    "        tagList.append(row[0])\n",
    "\n",
    "    # 2. 해시태그 찾는 과정\n",
    "    tpkList = list()\n",
    "    for tag in tags:\n",
    "        cur.execute('SELECT PK FROM HASHTAG WHERE TAG=?',(tag,))\n",
    "        if cur.fetchone() is None:\n",
    "            cur.execute('INSERT INTO HASHTAG VALUES (NULL, ?, NULL)',(tag,))\n",
    "            conn.commit()\n",
    "    \n",
    "    cur.execute('SELECT PK FROM HASHTAG TAG=?',(tag,))\n",
    "    TPK = cur.fetchone()[0]\n",
    "\n",
    "    # 기존 등록된 태그와 일치하지 않으면\n",
    "    if TPK not in tagList:\n",
    "        cur.execute('UPDATE HASHTAG SET COUNT = COUNT +1 WHERE PK=?',(TPK,))\n",
    "        cur.execute('INSERT INTO POSTTAG VALUES (?, ?)',(PPK,TPK))\n",
    "        conn.commit()\n",
    "\n",
    "    # 4. 삭제된 해시태그 찾는 과정\n",
    "    for tag in tagList:\n",
    "        if tag not in tpkList:\n",
    "            cur.execute('UPDATE HASHTAG SET COUNT = COUNT -1 WHERE PK=?',(tag,))\n",
    "            cur.execute('DELETE FROM HASHTAG WHERE PK=?',(tag,))\n",
    "            conn.commit()\n",
    "\n",
    "modifyPost('내용2','python','alchemy')"
   ]
  }
 ],
 "metadata": {
  "kernelspec": {
   "display_name": "myvenv2",
   "language": "python",
   "name": "python3"
  },
  "language_info": {
   "codemirror_mode": {
    "name": "ipython",
    "version": 3
   },
   "file_extension": ".py",
   "mimetype": "text/x-python",
   "name": "python",
   "nbconvert_exporter": "python",
   "pygments_lexer": "ipython3",
   "version": "3.11.8"
  }
 },
 "nbformat": 4,
 "nbformat_minor": 2
}
