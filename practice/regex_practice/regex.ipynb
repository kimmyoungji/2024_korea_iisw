{
 "cells": [
  {
   "cell_type": "code",
   "execution_count": null,
   "metadata": {},
   "outputs": [],
   "source": [
    "정규식 문법들\n",
    ". => 아무글자 1개\n",
    "캐릭터 => 그 글자 하나, 대소 문자 구분하기\n",
    "?n => n이 있거나 없거나, *n, +n\n",
    "{n,m} {0,} {1,}\n",
    "^n, $n\n",
    "[-] 범, [^] not\n",
    "[작은코드-큰코드] => a-, ㄱ-ㅎ, 가-힣(11172자)\n",
    "\\d => 숫자, \\w => 문자, \\b => 단어경계, \\s => 공백문자집합\n",
    "\\대문자 => 전부 반대 의미\n",
    "() => 그룹 + 캡쳐링\n",
    "(?:) => 그룹 + 논캡쳐링  # 캡쳐링? \n",
    "greedy vs lazy => +? \n",
    "나중에      처음에 일치  (주로 html 파싱할 때 쓴다.)"
   ]
  },
  {
   "cell_type": "code",
   "execution_count": 6,
   "metadata": {},
   "outputs": [
    {
     "name": "stdout",
     "output_type": "stream",
     "text": [
      "\n",
      "홍길동 980311-*******\n",
      "아무나 002131-*******\n",
      "누구  011112-*******\n",
      "\n",
      "\n",
      "980311 홍길동\n",
      "002131 아무나\n",
      "011112 누구\n",
      "\n",
      "\n",
      "980311-******* 홍길동\n",
      "002131-******* 아무나\n",
      "011112-******* 누구\n",
      "\n"
     ]
    }
   ],
   "source": [
    "import re\n",
    "data = '''\n",
    "홍길동 980311-1231123\n",
    "아무나 002131-2131454\n",
    "누구  011112-3445211\n",
    "'''\n",
    "pat = re.compile( r'(\\d{6})-\\d{7}') # r'' 이게 뭐더라? # re.comple, re.sub란? \n",
    "\n",
    "print(re.sub( r'(\\d{6})-\\d{7}', r'\\g<1>-*******',data))\n",
    "print(re.sub( r'(\\w+)\\s+(\\d{6})-\\d{7}', r'\\g<2> \\g<1>',data))\n",
    "print(re.sub( r'(\\w+)\\s+((\\d{6})-\\d{7})', r'\\g<3>-******* \\g<1>',data))\n"
   ]
  },
  {
   "cell_type": "code",
   "execution_count": 17,
   "metadata": {},
   "outputs": [
    {
     "data": {
      "text/plain": [
       "[('', 'naver', '.com', '', ''),\n",
       " ('', '.naver', '.com.kr.ac.edu', '', ''),\n",
       " ('', 'www', '.naver.com', '', ''),\n",
       " ('', 'www', '.naver.com', '/index', ''),\n",
       " ('http', 'www', '.naver.com', '', ''),\n",
       " ('https', 'www', '.naver.com', '', ''),\n",
       " ('https', 'mail', '.naver.com', '/latest/list', ''),\n",
       " ('https', 'mail', '.naver.com', '/latest', '#top'),\n",
       " ('ftp', 'ftp', '.daum.net', '', ''),\n",
       " ('', 'korea', '.ac.kr', '', '')]"
      ]
     },
     "execution_count": 17,
     "metadata": {},
     "output_type": "execute_result"
    }
   ],
   "source": [
    "import re\n",
    "data = '''\n",
    "naver.com => [.service]+.naver.com.kr.ac.edu.\n",
    "www.naver.com\n",
    "www.naver.com/index.html\n",
    "http://www.naver.com\n",
    "https://www.naver.com\n",
    "https://mail.naver.com/latest/list?a=b\n",
    "https://mail.naver.com/latest#top\n",
    "ftp://ftp.daum.net\n",
    "ftp://ftp:korea.ac.kr\n",
    "'''\n",
    "\n",
    "# scheme://service.(host)netloc/path/file?params... fragment\n",
    "# re.search(r'[.]?[a-z0-9\\-]{3,}[.][a-z0-9\\-]{2,}+', data)\n",
    "re.findall(r'(?:([a-z]+):\\/\\/)?([.]?[a-z0-9\\-]{3,})((?:[.][a-z0-9\\-]{2,})+)((?:\\/[a-z]{3,})*)?(#\\w+)?', data)"
   ]
  },
  {
   "cell_type": "code",
   "execution_count": 22,
   "metadata": {},
   "outputs": [
    {
     "data": {
      "text/plain": [
       "['제목', '제목2', '제목3<h4>제목4</h4>']"
      ]
     },
     "execution_count": 22,
     "metadata": {},
     "output_type": "execute_result"
    }
   ],
   "source": [
    "data = '''\n",
    "<article>\n",
    "    <h1>제목</h1>\n",
    "    <p>내용</p>\n",
    "    <h2>제목2</h2>\n",
    "    <h3>제목3<h4>제목4</h4></h3>  \n",
    "</article>\n",
    "'''\n",
    "# 거지 같이 짜도 오류가 안난다.\n",
    "# greedy면 </h3> 까지 인식\n",
    "# lazy면 <h4> 까지 인식\n",
    "# 위 두개의 다른 점을 알자.\n",
    "# 위와 같은 문제가 자주 발생한다. \n",
    "\n",
    "# greedy\n",
    "re.findall(r'<h[1-6]>(.+)</h[1-6]>', data)"
   ]
  },
  {
   "cell_type": "code",
   "execution_count": 23,
   "metadata": {},
   "outputs": [
    {
     "data": {
      "text/plain": [
       "['제목', '제목2', '제목3<h4>제목4']"
      ]
     },
     "execution_count": 23,
     "metadata": {},
     "output_type": "execute_result"
    }
   ],
   "source": [
    "# lazy\n",
    "re.findall(r'<h[1-6]>(.+?)</h[1-6]>', data)"
   ]
  },
  {
   "cell_type": "code",
   "execution_count": null,
   "metadata": {},
   "outputs": [],
   "source": [
    "다트게임 출시\n",
    "\n",
    "다트를 3번 던져, 점수의 합계로 실력을 겨룬다.\n",
    "\n",
    "점수 계산 로직 만들기\n",
    "- 총 3번의 기회\n",
    "- 각 기회 마다 얻을 수 있는 점수 0-10점\n",
    "- 점수와 함께 Single(1승), Double(2승), Triple(3승) 영역으로 나뉜다. \n",
    "- 옵션으로 스타상(*)과 아차상(#)이 있다.\n",
    "    - 스타상(*) 점수 2배 \n",
    "    - 아차상(#) 점수 차감\n",
    "- 첫번째 나온 스타상의 점수는 스타상점수 * 2\n",
    "- 스타상 중첩 가능 그럼 원점수*(스타상*스타상)\n",
    "- 스타상 아차상 중첩 가능 원점수*(스타상*-1)\n",
    "- SDT는 점수 마다 하나씩 존재\n",
    "- 스타상(*), 아차상(#)은 점수 마다 하나만 존재\n",
    "- 1-10"
   ]
  },
  {
   "cell_type": "code",
   "execution_count": 25,
   "metadata": {},
   "outputs": [
    {
     "data": {
      "text/plain": [
       "'오류'"
      ]
     },
     "execution_count": 25,
     "metadata": {},
     "output_type": "execute_result"
    }
   ],
   "source": [
    "bonus = {'S':1, 'D':2, 'T':3}\n",
    "option = {'*':2, '#':-1}\n",
    "\n",
    "def dart(s):\n",
    "    score = list()\n",
    "\n",
    "    if not re.search(r'(?:\\d{2}[SDT][*#]?){3}',s):\n",
    "        return '오류'\n",
    "    \n",
    "    re.search(r'(\\d{1,2}[SDT][*#]?)(\\d{1,2}[SDT][*#]?)(\\d{1,2}[SDT][*#]?)',s)\n",
    "\n",
    "    if not rst or len(rst.groups()) != 3: \n",
    "        return \"오류\"\n",
    "    \n",
    "    for g in rst.groups():\n",
    "        rst = re.search(r'(\\d{1,2})([SDT])([*#]?)'.groups())\n",
    "        \n",
    "        score.append(int(rst[0])**int(bonus[rst[1]])*(option[rst[2]] if rst[2] else 1))\n",
    "\n",
    "        # 내 전에 나왔던 값\n",
    "        if rst[2] == '*' and len(score) > 0:\n",
    "            score[len(score)-1] *= option[rst[2]]\n",
    "    \n",
    "    print(score)\n",
    "    return sum(score)\n",
    "\n",
    "dart('1S2D*3T')"
   ]
  },
  {
   "cell_type": "code",
   "execution_count": 7,
   "metadata": {},
   "outputs": [
    {
     "name": "stdout",
     "output_type": "stream",
     "text": [
      "<re.Match object; span=(0, 3), match='1D#'>\n",
      "[-1]\n",
      "<re.Match object; span=(0, 3), match='2S*'>\n",
      "[-1, 4]\n",
      "score[0] *= option(*)\n",
      "<re.Match object; span=(0, 2), match='3S'>\n",
      "[-2, 4, 3]\n",
      "[-2, 4, 3]\n"
     ]
    },
    {
     "data": {
      "text/plain": [
       "5"
      ]
     },
     "execution_count": 7,
     "metadata": {},
     "output_type": "execute_result"
    }
   ],
   "source": [
    "import re\n",
    "bonus = {'S':1, 'D':2, 'T':3}\n",
    "option = {'*':2, '#':-1}\n",
    "\n",
    "def dart(s):\n",
    "    score = list()\n",
    "    \n",
    "    # 있어도 그만 없어도 그만\n",
    "    if not re.search(r'(?:\\d{1,2}[SDT][*#]?){3}', s):\n",
    "        return '오류'\n",
    "    \n",
    "    rst = re.search(r'(\\d{1,2}[SDT][*#]?)(\\d{1,2}[SDT][*#]?)(\\d{1,2}[SDT][*#]?)', s)\n",
    "\n",
    "    if not rst or len(rst.groups()) != 3:\n",
    "        return '오류'\n",
    "    # 여기까지\n",
    "    \n",
    "    for g in rst.groups():\n",
    "        print(re.search(r'([0-9]{1,2})([SDT])([*#])?', g))\n",
    "        rst = re.search(r'(\\d{1,2})([SDT])([*#])?', g).groups()\n",
    "        \n",
    "        score.append(int(rst[0])**int(bonus[rst[1]])*(option[rst[2]] if rst[2] else 1))\n",
    "        \n",
    "        print(score)\n",
    "        if rst[2] == '*' and len(score) > 1:\n",
    "            print(f'score[{len(score)-2}] *= option({rst[2]})')\n",
    "            score[len(score)-2] *= option[rst[2]]\n",
    "    print(score)\n",
    "    return sum(score)\n",
    "    \n",
    "# dart('1S2D*3T')\n",
    "# dart('1D2S#10S')\n",
    "# dart('1D2S0T')\n",
    "# dart('1S*2T*3S')\n",
    "dart('1D#2S*3S')"
   ]
  },
  {
   "cell_type": "code",
   "execution_count": null,
   "metadata": {},
   "outputs": [],
   "source": []
  }
 ],
 "metadata": {
  "kernelspec": {
   "display_name": "myvenv2",
   "language": "python",
   "name": "python3"
  },
  "language_info": {
   "codemirror_mode": {
    "name": "ipython",
    "version": 3
   },
   "file_extension": ".py",
   "mimetype": "text/x-python",
   "name": "python",
   "nbconvert_exporter": "python",
   "pygments_lexer": "ipython3",
   "version": "3.11.8"
  }
 },
 "nbformat": 4,
 "nbformat_minor": 2
}
