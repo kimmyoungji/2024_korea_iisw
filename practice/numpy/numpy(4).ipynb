{
 "cells": [
  {
   "cell_type": "code",
   "execution_count": 1,
   "id": "1ccfc634-71fe-4fae-a8de-f27c9e96e7f6",
   "metadata": {},
   "outputs": [],
   "source": [
    "# 넘파이"
   ]
  },
  {
   "cell_type": "code",
   "execution_count": 1,
   "id": "c39a3341-d8e1-48b9-8c62-f424ff085342",
   "metadata": {},
   "outputs": [],
   "source": [
    "import tensorflow as tf"
   ]
  },
  {
   "cell_type": "code",
   "execution_count": 2,
   "id": "1fce6b93-0ea1-4d21-b4fa-4b26cd23194c",
   "metadata": {},
   "outputs": [],
   "source": [
    "a = tf.constant([1,2,3,])"
   ]
  },
  {
   "cell_type": "code",
   "execution_count": 3,
   "id": "5229f690-323e-468a-8dfa-328a469b42e4",
   "metadata": {},
   "outputs": [
    {
     "data": {
      "text/plain": [
       "['OVERLOADABLE_OPERATORS',\n",
       " '_USE_EQUALITY',\n",
       " '__abs__',\n",
       " '__add__',\n",
       " '__and__',\n",
       " '__array__',\n",
       " '__array_priority__',\n",
       " '__bool__',\n",
       " '__class__',\n",
       " '__complex__',\n",
       " '__copy__',\n",
       " '__deepcopy__',\n",
       " '__delattr__',\n",
       " '__dict__',\n",
       " '__dir__',\n",
       " '__div__',\n",
       " '__doc__',\n",
       " '__eq__',\n",
       " '__float__',\n",
       " '__floordiv__',\n",
       " '__format__',\n",
       " '__ge__',\n",
       " '__getattr__',\n",
       " '__getattribute__',\n",
       " '__getitem__',\n",
       " '__getstate__',\n",
       " '__gt__',\n",
       " '__hash__',\n",
       " '__index__',\n",
       " '__init__',\n",
       " '__init_subclass__',\n",
       " '__int__',\n",
       " '__invert__',\n",
       " '__iter__',\n",
       " '__le__',\n",
       " '__len__',\n",
       " '__lt__',\n",
       " '__matmul__',\n",
       " '__mod__',\n",
       " '__module__',\n",
       " '__mul__',\n",
       " '__ne__',\n",
       " '__neg__',\n",
       " '__new__',\n",
       " '__nonzero__',\n",
       " '__or__',\n",
       " '__pow__',\n",
       " '__radd__',\n",
       " '__rand__',\n",
       " '__rdiv__',\n",
       " '__reduce__',\n",
       " '__reduce_ex__',\n",
       " '__repr__',\n",
       " '__rfloordiv__',\n",
       " '__rmatmul__',\n",
       " '__rmod__',\n",
       " '__rmul__',\n",
       " '__ror__',\n",
       " '__round__',\n",
       " '__rpow__',\n",
       " '__rsub__',\n",
       " '__rtruediv__',\n",
       " '__rxor__',\n",
       " '__setattr__',\n",
       " '__sizeof__',\n",
       " '__str__',\n",
       " '__sub__',\n",
       " '__subclasshook__',\n",
       " '__tf_tensor__',\n",
       " '__tf_tracing_type__',\n",
       " '__truediv__',\n",
       " '__weakref__',\n",
       " '__xor__',\n",
       " '_add_consumer',\n",
       " '_as_node_def_input',\n",
       " '_as_tf_output',\n",
       " '_capture_as_const',\n",
       " '_copy',\n",
       " '_copy_nograd',\n",
       " '_copy_to_device',\n",
       " '_datatype_enum',\n",
       " '_disallow',\n",
       " '_disallow_bool_casting',\n",
       " '_disallow_iteration',\n",
       " '_get_first_dim',\n",
       " '_handle_data',\n",
       " '_id',\n",
       " '_matmul',\n",
       " '_num_elements',\n",
       " '_numpy',\n",
       " '_numpy_internal',\n",
       " '_numpy_style_getitem',\n",
       " '_override_operator',\n",
       " '_prefer_custom_summarizer',\n",
       " '_rank',\n",
       " '_record_tape',\n",
       " '_shape_as_list',\n",
       " '_shape_tuple',\n",
       " '_summarize_value',\n",
       " '_tensor_shape',\n",
       " '_tf_api_names',\n",
       " '_tf_api_names_v1',\n",
       " '_with_index_add',\n",
       " '_with_index_max',\n",
       " '_with_index_min',\n",
       " '_with_index_update',\n",
       " 'backing_device',\n",
       " 'consumers',\n",
       " 'cpu',\n",
       " 'device',\n",
       " 'dtype',\n",
       " 'eval',\n",
       " 'experimental_ref',\n",
       " 'get_shape',\n",
       " 'gpu',\n",
       " 'graph',\n",
       " 'is_packed',\n",
       " 'name',\n",
       " 'ndim',\n",
       " 'numpy',\n",
       " 'op',\n",
       " 'ref',\n",
       " 'set_shape',\n",
       " 'shape',\n",
       " 'value_index']"
      ]
     },
     "execution_count": 3,
     "metadata": {},
     "output_type": "execute_result"
    }
   ],
   "source": [
    "dir(a) # __array__가 있으면, 넘파이와 연동이 된다.\n",
    "       # __ufunc__가 있으면 ufunc에 적용가능"
   ]
  },
  {
   "cell_type": "code",
   "execution_count": 4,
   "id": "3b1bd9aa-8b16-4f4f-9425-a1939c2a962e",
   "metadata": {},
   "outputs": [],
   "source": [
    "from scipy import stats"
   ]
  },
  {
   "cell_type": "code",
   "execution_count": 5,
   "id": "32746dd1-fecf-47c5-b62f-adba23416d19",
   "metadata": {},
   "outputs": [
    {
     "data": {
      "text/plain": [
       "['BootstrapMethod',\n",
       " 'CensoredData',\n",
       " 'ConstantInputWarning',\n",
       " 'Covariance',\n",
       " 'DegenerateDataWarning',\n",
       " 'FitError',\n",
       " 'MonteCarloMethod',\n",
       " 'NearConstantInputWarning',\n",
       " 'PermutationMethod',\n",
       " '__all__',\n",
       " '__builtins__',\n",
       " '__cached__',\n",
       " '__doc__',\n",
       " '__file__',\n",
       " '__loader__',\n",
       " '__name__',\n",
       " '__package__',\n",
       " '__path__',\n",
       " '__spec__',\n",
       " '_ansari_swilk_statistics',\n",
       " '_axis_nan_policy',\n",
       " '_biasedurn',\n",
       " '_binned_statistic',\n",
       " '_binomtest',\n",
       " '_boost',\n",
       " '_bws_test',\n",
       " '_censored_data',\n",
       " '_common',\n",
       " '_constants',\n",
       " '_continuous_distns',\n",
       " '_covariance',\n",
       " '_crosstab',\n",
       " '_discrete_distns',\n",
       " '_distn_infrastructure',\n",
       " '_distr_params',\n",
       " '_entropy',\n",
       " '_fit',\n",
       " '_hypotests',\n",
       " '_kde',\n",
       " '_ksstats',\n",
       " '_levy_stable',\n",
       " '_mannwhitneyu',\n",
       " '_morestats',\n",
       " '_mstats_basic',\n",
       " '_mstats_extras',\n",
       " '_multicomp',\n",
       " '_multivariate',\n",
       " '_mvn',\n",
       " '_odds_ratio',\n",
       " '_page_trend_test',\n",
       " '_qmc',\n",
       " '_qmc_cy',\n",
       " '_qmvnt',\n",
       " '_rcont',\n",
       " '_relative_risk',\n",
       " '_resampling',\n",
       " '_rvs_sampling',\n",
       " '_sampling',\n",
       " '_sensitivity_analysis',\n",
       " '_sobol',\n",
       " '_stats',\n",
       " '_stats_mstats_common',\n",
       " '_stats_py',\n",
       " '_stats_pythran',\n",
       " '_survival',\n",
       " '_tukeylambda_stats',\n",
       " '_unuran',\n",
       " '_variation',\n",
       " '_warnings_errors',\n",
       " 'alexandergovern',\n",
       " 'alpha',\n",
       " 'anderson',\n",
       " 'anderson_ksamp',\n",
       " 'anglit',\n",
       " 'ansari',\n",
       " 'arcsine',\n",
       " 'argus',\n",
       " 'barnard_exact',\n",
       " 'bartlett',\n",
       " 'bayes_mvs',\n",
       " 'bernoulli',\n",
       " 'beta',\n",
       " 'betabinom',\n",
       " 'betanbinom',\n",
       " 'betaprime',\n",
       " 'biasedurn',\n",
       " 'binned_statistic',\n",
       " 'binned_statistic_2d',\n",
       " 'binned_statistic_dd',\n",
       " 'binom',\n",
       " 'binomtest',\n",
       " 'boltzmann',\n",
       " 'bootstrap',\n",
       " 'boschloo_exact',\n",
       " 'boxcox',\n",
       " 'boxcox_llf',\n",
       " 'boxcox_normmax',\n",
       " 'boxcox_normplot',\n",
       " 'bradford',\n",
       " 'brunnermunzel',\n",
       " 'burr',\n",
       " 'burr12',\n",
       " 'bws_test',\n",
       " 'cauchy',\n",
       " 'chi',\n",
       " 'chi2',\n",
       " 'chi2_contingency',\n",
       " 'chisquare',\n",
       " 'circmean',\n",
       " 'circstd',\n",
       " 'circvar',\n",
       " 'combine_pvalues',\n",
       " 'contingency',\n",
       " 'cosine',\n",
       " 'cramervonmises',\n",
       " 'cramervonmises_2samp',\n",
       " 'crystalball',\n",
       " 'cumfreq',\n",
       " 'describe',\n",
       " 'dgamma',\n",
       " 'differential_entropy',\n",
       " 'directional_stats',\n",
       " 'dirichlet',\n",
       " 'dirichlet_multinomial',\n",
       " 'distributions',\n",
       " 'dlaplace',\n",
       " 'dunnett',\n",
       " 'dweibull',\n",
       " 'ecdf',\n",
       " 'energy_distance',\n",
       " 'entropy',\n",
       " 'epps_singleton_2samp',\n",
       " 'erlang',\n",
       " 'expectile',\n",
       " 'expon',\n",
       " 'exponnorm',\n",
       " 'exponpow',\n",
       " 'exponweib',\n",
       " 'f',\n",
       " 'f_oneway',\n",
       " 'false_discovery_control',\n",
       " 'fatiguelife',\n",
       " 'find_repeats',\n",
       " 'fisher_exact',\n",
       " 'fisk',\n",
       " 'fit',\n",
       " 'fligner',\n",
       " 'foldcauchy',\n",
       " 'foldnorm',\n",
       " 'friedmanchisquare',\n",
       " 'gamma',\n",
       " 'gausshyper',\n",
       " 'gaussian_kde',\n",
       " 'genexpon',\n",
       " 'genextreme',\n",
       " 'gengamma',\n",
       " 'genhalflogistic',\n",
       " 'genhyperbolic',\n",
       " 'geninvgauss',\n",
       " 'genlogistic',\n",
       " 'gennorm',\n",
       " 'genpareto',\n",
       " 'geom',\n",
       " 'gibrat',\n",
       " 'gmean',\n",
       " 'gompertz',\n",
       " 'goodness_of_fit',\n",
       " 'gstd',\n",
       " 'gumbel_l',\n",
       " 'gumbel_r',\n",
       " 'gzscore',\n",
       " 'halfcauchy',\n",
       " 'halfgennorm',\n",
       " 'halflogistic',\n",
       " 'halfnorm',\n",
       " 'hmean',\n",
       " 'hypergeom',\n",
       " 'hypsecant',\n",
       " 'invgamma',\n",
       " 'invgauss',\n",
       " 'invweibull',\n",
       " 'invwishart',\n",
       " 'iqr',\n",
       " 'jarque_bera',\n",
       " 'jf_skew_t',\n",
       " 'johnsonsb',\n",
       " 'johnsonsu',\n",
       " 'kappa3',\n",
       " 'kappa4',\n",
       " 'kde',\n",
       " 'kendalltau',\n",
       " 'kruskal',\n",
       " 'ks_1samp',\n",
       " 'ks_2samp',\n",
       " 'ksone',\n",
       " 'kstat',\n",
       " 'kstatvar',\n",
       " 'kstest',\n",
       " 'kstwo',\n",
       " 'kstwobign',\n",
       " 'kurtosis',\n",
       " 'kurtosistest',\n",
       " 'laplace',\n",
       " 'laplace_asymmetric',\n",
       " 'levene',\n",
       " 'levy',\n",
       " 'levy_l',\n",
       " 'levy_stable',\n",
       " 'linregress',\n",
       " 'loggamma',\n",
       " 'logistic',\n",
       " 'loglaplace',\n",
       " 'lognorm',\n",
       " 'logrank',\n",
       " 'logser',\n",
       " 'loguniform',\n",
       " 'lomax',\n",
       " 'mannwhitneyu',\n",
       " 'matrix_normal',\n",
       " 'maxwell',\n",
       " 'median_abs_deviation',\n",
       " 'median_test',\n",
       " 'mielke',\n",
       " 'mode',\n",
       " 'moment',\n",
       " 'monte_carlo_test',\n",
       " 'mood',\n",
       " 'morestats',\n",
       " 'moyal',\n",
       " 'mstats',\n",
       " 'mstats_basic',\n",
       " 'mstats_extras',\n",
       " 'multinomial',\n",
       " 'multiscale_graphcorr',\n",
       " 'multivariate_hypergeom',\n",
       " 'multivariate_normal',\n",
       " 'multivariate_t',\n",
       " 'mvn',\n",
       " 'mvsdist',\n",
       " 'nakagami',\n",
       " 'nbinom',\n",
       " 'ncf',\n",
       " 'nchypergeom_fisher',\n",
       " 'nchypergeom_wallenius',\n",
       " 'nct',\n",
       " 'ncx2',\n",
       " 'nhypergeom',\n",
       " 'norm',\n",
       " 'normaltest',\n",
       " 'norminvgauss',\n",
       " 'obrientransform',\n",
       " 'ortho_group',\n",
       " 'page_trend_test',\n",
       " 'pareto',\n",
       " 'pearson3',\n",
       " 'pearsonr',\n",
       " 'percentileofscore',\n",
       " 'permutation_test',\n",
       " 'planck',\n",
       " 'pmean',\n",
       " 'pointbiserialr',\n",
       " 'poisson',\n",
       " 'poisson_means_test',\n",
       " 'power_divergence',\n",
       " 'powerlaw',\n",
       " 'powerlognorm',\n",
       " 'powernorm',\n",
       " 'ppcc_max',\n",
       " 'ppcc_plot',\n",
       " 'probplot',\n",
       " 'qmc',\n",
       " 'quantile_test',\n",
       " 'randint',\n",
       " 'random_correlation',\n",
       " 'random_table',\n",
       " 'rankdata',\n",
       " 'ranksums',\n",
       " 'rayleigh',\n",
       " 'rdist',\n",
       " 'recipinvgauss',\n",
       " 'reciprocal',\n",
       " 'rel_breitwigner',\n",
       " 'relfreq',\n",
       " 'rice',\n",
       " 'rv_continuous',\n",
       " 'rv_discrete',\n",
       " 'rv_histogram',\n",
       " 'rvs_ratio_uniforms',\n",
       " 'sampling',\n",
       " 'scoreatpercentile',\n",
       " 'sem',\n",
       " 'semicircular',\n",
       " 'shapiro',\n",
       " 'siegelslopes',\n",
       " 'sigmaclip',\n",
       " 'skellam',\n",
       " 'skew',\n",
       " 'skewcauchy',\n",
       " 'skewnorm',\n",
       " 'skewtest',\n",
       " 'sobol_indices',\n",
       " 'somersd',\n",
       " 'spearmanr',\n",
       " 'special_ortho_group',\n",
       " 'stats',\n",
       " 'studentized_range',\n",
       " 't',\n",
       " 'test',\n",
       " 'theilslopes',\n",
       " 'tiecorrect',\n",
       " 'tmax',\n",
       " 'tmean',\n",
       " 'tmin',\n",
       " 'trapezoid',\n",
       " 'trapz',\n",
       " 'triang',\n",
       " 'trim1',\n",
       " 'trim_mean',\n",
       " 'trimboth',\n",
       " 'truncexpon',\n",
       " 'truncnorm',\n",
       " 'truncpareto',\n",
       " 'truncweibull_min',\n",
       " 'tsem',\n",
       " 'tstd',\n",
       " 'ttest_1samp',\n",
       " 'ttest_ind',\n",
       " 'ttest_ind_from_stats',\n",
       " 'ttest_rel',\n",
       " 'tukey_hsd',\n",
       " 'tukeylambda',\n",
       " 'tvar',\n",
       " 'uniform',\n",
       " 'uniform_direction',\n",
       " 'unitary_group',\n",
       " 'variation',\n",
       " 'vonmises',\n",
       " 'vonmises_fisher',\n",
       " 'vonmises_line',\n",
       " 'wald',\n",
       " 'wasserstein_distance',\n",
       " 'weibull_max',\n",
       " 'weibull_min',\n",
       " 'weightedtau',\n",
       " 'wilcoxon',\n",
       " 'wishart',\n",
       " 'wrapcauchy',\n",
       " 'yeojohnson',\n",
       " 'yeojohnson_llf',\n",
       " 'yeojohnson_normmax',\n",
       " 'yeojohnson_normplot',\n",
       " 'yulesimon',\n",
       " 'zipf',\n",
       " 'zipfian',\n",
       " 'zmap',\n",
       " 'zscore']"
      ]
     },
     "execution_count": 5,
     "metadata": {},
     "output_type": "execute_result"
    }
   ],
   "source": [
    "dir(stats)"
   ]
  },
  {
   "cell_type": "code",
   "execution_count": 6,
   "id": "d21b128a-406a-489d-9f7a-0889637aa674",
   "metadata": {},
   "outputs": [
    {
     "ename": "AttributeError",
     "evalue": "module 'scipy.stats' has no attribute 'deta'",
     "output_type": "error",
     "traceback": [
      "\u001b[0;31m---------------------------------------------------------------------------\u001b[0m",
      "\u001b[0;31mAttributeError\u001b[0m                            Traceback (most recent call last)",
      "Cell \u001b[0;32mIn[6], line 1\u001b[0m\n\u001b[0;32m----> 1\u001b[0m \u001b[43mstats\u001b[49m\u001b[38;5;241;43m.\u001b[39;49m\u001b[43mdeta\u001b[49m\n",
      "\u001b[0;31mAttributeError\u001b[0m: module 'scipy.stats' has no attribute 'deta'"
     ]
    }
   ],
   "source": [
    "stats.beta"
   ]
  },
  {
   "cell_type": "code",
   "execution_count": 5,
   "id": "b4128d66-6b85-48ce-8ccc-27669d5580ac",
   "metadata": {},
   "outputs": [],
   "source": [
    "import numpy as np"
   ]
  },
  {
   "cell_type": "code",
   "execution_count": 12,
   "id": "538abce2-2f24-4920-a4e7-1ac6727222a3",
   "metadata": {
    "scrolled": true
   },
   "outputs": [],
   "source": [
    "a = np.arange(24)"
   ]
  },
  {
   "cell_type": "code",
   "execution_count": 13,
   "id": "a935d122-7d82-4037-b132-f872615455b4",
   "metadata": {},
   "outputs": [],
   "source": [
    "b = a.reshape(2,3,4)\n",
    "# b = a.reshape((2,3,4)) 원래는이렇게 넣는게 맞다.\n",
    "# np.reshape(a,(2,3,4)) 이건 안된다."
   ]
  },
  {
   "cell_type": "code",
   "execution_count": 14,
   "id": "289b7315-7e79-4054-8e44-736f214d64d7",
   "metadata": {},
   "outputs": [],
   "source": [
    "b[0,0,0] = 200  # 대입할 때 항상 조심해야한다.\n",
    "                # shallow.copy, deep.copy"
   ]
  },
  {
   "cell_type": "code",
   "execution_count": 15,
   "id": "03abb78d-8292-4dcf-9aba-dabab2a81f34",
   "metadata": {},
   "outputs": [
    {
     "data": {
      "text/plain": [
       "(array([200,   1,   2,   3,   4,   5,   6,   7,   8,   9,  10,  11,  12,\n",
       "         13,  14,  15,  16,  17,  18,  19,  20,  21,  22,  23]),\n",
       " array([[[200,   1,   2,   3],\n",
       "         [  4,   5,   6,   7],\n",
       "         [  8,   9,  10,  11]],\n",
       " \n",
       "        [[ 12,  13,  14,  15],\n",
       "         [ 16,  17,  18,  19],\n",
       "         [ 20,  21,  22,  23]]]))"
      ]
     },
     "execution_count": 15,
     "metadata": {},
     "output_type": "execute_result"
    }
   ],
   "source": [
    "a,b"
   ]
  },
  {
   "cell_type": "code",
   "execution_count": null,
   "id": "b7c37b6a-8d0a-455a-bbe1-f2eab8d12ce6",
   "metadata": {},
   "outputs": [],
   "source": [
    "b = a.reshape(2,3,4)"
   ]
  },
  {
   "cell_type": "code",
   "execution_count": null,
   "id": "75e9c70c-5d53-49c3-8175-a3dece1e0e9e",
   "metadata": {},
   "outputs": [],
   "source": [
    "# shape을 바꾸려면, element 의 수가 같아야 한다.\n",
    "# 그런데 음수를 넣으면 자동으로 맞춰준다. 단 음수는 하나만 넣을 수 있다."
   ]
  },
  {
   "cell_type": "code",
   "execution_count": 16,
   "id": "3d603d63-6fb1-43c6-9a63-4a5f752ce1ce",
   "metadata": {},
   "outputs": [],
   "source": [
    "b = a.reshape(2,3,-1)"
   ]
  },
  {
   "cell_type": "code",
   "execution_count": 17,
   "id": "06eed5b6-bc88-437e-bfce-dc8889f79d5f",
   "metadata": {},
   "outputs": [
    {
     "data": {
      "text/plain": [
       "array([[[200,   1,   2,   3],\n",
       "        [  4,   5,   6,   7],\n",
       "        [  8,   9,  10,  11]],\n",
       "\n",
       "       [[ 12,  13,  14,  15],\n",
       "        [ 16,  17,  18,  19],\n",
       "        [ 20,  21,  22,  23]]])"
      ]
     },
     "execution_count": 17,
     "metadata": {},
     "output_type": "execute_result"
    }
   ],
   "source": [
    "b"
   ]
  },
  {
   "cell_type": "code",
   "execution_count": 18,
   "id": "4401bfca-d71b-4e49-9137-d395504e9afc",
   "metadata": {},
   "outputs": [],
   "source": [
    "b = a.reshape(2,3,-2)"
   ]
  },
  {
   "cell_type": "code",
   "execution_count": 19,
   "id": "68464a72-d390-40e4-b222-1ae43b914bde",
   "metadata": {},
   "outputs": [
    {
     "data": {
      "text/plain": [
       "array([[[200,   1,   2,   3],\n",
       "        [  4,   5,   6,   7],\n",
       "        [  8,   9,  10,  11]],\n",
       "\n",
       "       [[ 12,  13,  14,  15],\n",
       "        [ 16,  17,  18,  19],\n",
       "        [ 20,  21,  22,  23]]])"
      ]
     },
     "execution_count": 19,
     "metadata": {},
     "output_type": "execute_result"
    }
   ],
   "source": [
    "b"
   ]
  },
  {
   "cell_type": "code",
   "execution_count": 20,
   "id": "1979239e-e53c-4317-931a-9edc7b0806e5",
   "metadata": {},
   "outputs": [
    {
     "ename": "ValueError",
     "evalue": "can only specify one unknown dimension",
     "output_type": "error",
     "traceback": [
      "\u001b[0;31m---------------------------------------------------------------------------\u001b[0m",
      "\u001b[0;31mValueError\u001b[0m                                Traceback (most recent call last)",
      "Cell \u001b[0;32mIn[20], line 1\u001b[0m\n\u001b[0;32m----> 1\u001b[0m \u001b[43ma\u001b[49m\u001b[38;5;241;43m.\u001b[39;49m\u001b[43mreshape\u001b[49m\u001b[43m(\u001b[49m\u001b[38;5;241;43m2\u001b[39;49m\u001b[43m,\u001b[49m\u001b[38;5;241;43m-\u001b[39;49m\u001b[38;5;241;43m1\u001b[39;49m\u001b[43m,\u001b[49m\u001b[38;5;241;43m-\u001b[39;49m\u001b[38;5;241;43m1\u001b[39;49m\u001b[43m)\u001b[49m\n",
      "\u001b[0;31mValueError\u001b[0m: can only specify one unknown dimension"
     ]
    }
   ],
   "source": [
    "a.reshape(2,-1,-1)"
   ]
  },
  {
   "cell_type": "code",
   "execution_count": null,
   "id": "7589482a-311b-4194-934a-475c450d6c04",
   "metadata": {},
   "outputs": [],
   "source": [
    "# 2차원 데이터를 1차원으로 바꾸는 방법 \n",
    "# 1. 모델 밖에서 바꾸기\n",
    "# 2. 모델 안에서 바꾸기 - Flatten"
   ]
  },
  {
   "cell_type": "code",
   "execution_count": 21,
   "id": "942f3ec6-a5a4-4a02-9f88-5197510218f6",
   "metadata": {},
   "outputs": [],
   "source": [
    "# resize"
   ]
  },
  {
   "cell_type": "code",
   "execution_count": 222,
   "id": "ea948bec-bd3d-4a66-b4d5-6d16154d5f4c",
   "metadata": {},
   "outputs": [],
   "source": [
    "a = np.arange(24)"
   ]
  },
  {
   "cell_type": "code",
   "execution_count": 223,
   "id": "31eb9b0c-f5c1-4337-bc73-d7f08167815c",
   "metadata": {},
   "outputs": [
    {
     "data": {
      "text/plain": [
       "array([ 0,  1,  2,  3,  4,  5,  6,  7,  8,  9, 10, 11, 12, 13, 14, 15, 16,\n",
       "       17, 18, 19, 20, 21, 22, 23])"
      ]
     },
     "execution_count": 223,
     "metadata": {},
     "output_type": "execute_result"
    }
   ],
   "source": [
    "a"
   ]
  },
  {
   "cell_type": "code",
   "execution_count": 235,
   "id": "28f19775-5569-482b-8ac1-637c9f8820c7",
   "metadata": {},
   "outputs": [],
   "source": [
    "a.resize((3,10), refcheck=False)  # 자기자신이 바뀐다."
   ]
  },
  {
   "cell_type": "code",
   "execution_count": 236,
   "id": "d83cd9e8-8a67-4b97-b814-17959cbc4308",
   "metadata": {},
   "outputs": [
    {
     "data": {
      "text/plain": [
       "array([[ 0,  1,  2,  3,  4,  5,  6,  7,  8,  9],\n",
       "       [10, 11, 12, 13, 14, 15, 16, 17, 18, 19],\n",
       "       [20, 21, 22, 23,  0,  0,  0,  0,  0,  0]])"
      ]
     },
     "execution_count": 236,
     "metadata": {},
     "output_type": "execute_result"
    }
   ],
   "source": [
    "a  # 자연어의 길이 문장 길이를 맞춰줄 때 많이 사용한다. -> \" 제로 패딩 \""
   ]
  },
  {
   "cell_type": "code",
   "execution_count": 226,
   "id": "09d83c17-0ae9-4ef7-9171-98692995d404",
   "metadata": {},
   "outputs": [],
   "source": [
    "# tf.기본텍스트 분류 -> 제로 패딩"
   ]
  },
  {
   "cell_type": "code",
   "execution_count": 227,
   "id": "a4a131ba-381b-423a-b87e-1e6dd702cc5d",
   "metadata": {},
   "outputs": [],
   "source": [
    "b = a.flatten()"
   ]
  },
  {
   "cell_type": "code",
   "execution_count": 232,
   "id": "80b11b8a-dad7-414f-9c8f-a5a0f566e401",
   "metadata": {},
   "outputs": [
    {
     "data": {
      "text/plain": [
       "(array([[ 0,  1,  2,  3,  4,  5,  6,  7,  8,  9],\n",
       "        [10, 11, 12, 13, 14, 15, 16, 17, 18, 19],\n",
       "        [20, 21, 22, 23,  0,  0,  0,  0,  0,  0]]),\n",
       " array([ 0,  1,  2,  3,  4,  5,  6,  7,  8,  9, 10, 11, 12, 13, 14, 15, 16,\n",
       "        17, 18, 19, 20, 21, 22, 23,  0,  0,  0,  0,  0,  0]))"
      ]
     },
     "execution_count": 232,
     "metadata": {},
     "output_type": "execute_result"
    }
   ],
   "source": [
    "a,b"
   ]
  },
  {
   "cell_type": "code",
   "execution_count": 36,
   "id": "49241e19-44a3-4ea6-bf8c-614bbc2e9763",
   "metadata": {},
   "outputs": [],
   "source": [
    "b[0] = 100  # copy technique 가 숨겨져 있다. -> 자연어에서 많이 쓴다. "
   ]
  },
  {
   "cell_type": "code",
   "execution_count": 37,
   "id": "1bc4215e-cf2d-47c2-be9d-cc08c1544441",
   "metadata": {},
   "outputs": [
    {
     "data": {
      "text/plain": [
       "array([[ 0,  1,  2,  3,  4,  5,  6,  7,  8,  9],\n",
       "       [10, 11, 12, 13, 14, 15, 16, 17, 18, 19],\n",
       "       [20, 21, 22, 23,  0,  0,  0,  0,  0,  0]])"
      ]
     },
     "execution_count": 37,
     "metadata": {},
     "output_type": "execute_result"
    }
   ],
   "source": [
    "a"
   ]
  },
  {
   "cell_type": "code",
   "execution_count": 237,
   "id": "c90e31ed-c09a-481f-9553-27b7eb564dd7",
   "metadata": {},
   "outputs": [],
   "source": [
    "b = a.ravel() # view technique\n",
    "          # Volero = View  -> 영상에서 많이쓴다."
   ]
  },
  {
   "cell_type": "code",
   "execution_count": 238,
   "id": "d07bc2b4-cf61-4106-9f4b-54bbf1c3a986",
   "metadata": {},
   "outputs": [
    {
     "data": {
      "text/plain": [
       "array([ 0,  1,  2,  3,  4,  5,  6,  7,  8,  9, 10, 11, 12, 13, 14, 15, 16,\n",
       "       17, 18, 19, 20, 21, 22, 23,  0,  0,  0,  0,  0,  0])"
      ]
     },
     "execution_count": 238,
     "metadata": {},
     "output_type": "execute_result"
    }
   ],
   "source": [
    "b"
   ]
  },
  {
   "cell_type": "code",
   "execution_count": 40,
   "id": "fd9c1103-6053-4e47-8532-4269ac45540f",
   "metadata": {},
   "outputs": [],
   "source": [
    "aa = np.arange(6).reshape(2,3)"
   ]
  },
  {
   "cell_type": "code",
   "execution_count": 41,
   "id": "075414b1-c125-468c-ae69-1925d023368c",
   "metadata": {},
   "outputs": [
    {
     "data": {
      "text/plain": [
       "array([[0, 1, 2],\n",
       "       [3, 4, 5]])"
      ]
     },
     "execution_count": 41,
     "metadata": {},
     "output_type": "execute_result"
    }
   ],
   "source": [
    "aa"
   ]
  },
  {
   "cell_type": "code",
   "execution_count": 43,
   "id": "c1bbd931-dc06-4592-b191-c2f708a677b9",
   "metadata": {},
   "outputs": [
    {
     "data": {
      "text/plain": [
       "array([[[0, 1, 2],\n",
       "        [3, 4, 5]]])"
      ]
     },
     "execution_count": 43,
     "metadata": {},
     "output_type": "execute_result"
    }
   ],
   "source": [
    "aa[None]  # 2,3 -> 1,2,3"
   ]
  },
  {
   "cell_type": "code",
   "execution_count": 44,
   "id": "93eafc64-ae9f-41f6-a9c0-8a7518ee1c28",
   "metadata": {},
   "outputs": [
    {
     "data": {
      "text/plain": [
       "array([[[0, 1, 2]],\n",
       "\n",
       "       [[3, 4, 5]]])"
      ]
     },
     "execution_count": 44,
     "metadata": {},
     "output_type": "execute_result"
    }
   ],
   "source": [
    "aa[:,None] "
   ]
  },
  {
   "cell_type": "code",
   "execution_count": 45,
   "id": "9a17b136-ed14-4608-af31-409013e0761d",
   "metadata": {},
   "outputs": [
    {
     "data": {
      "text/plain": [
       "array([[[0],\n",
       "        [1],\n",
       "        [2]],\n",
       "\n",
       "       [[3],\n",
       "        [4],\n",
       "        [5]]])"
      ]
     },
     "execution_count": 45,
     "metadata": {},
     "output_type": "execute_result"
    }
   ],
   "source": [
    "aa[:,:,None] # "
   ]
  },
  {
   "cell_type": "code",
   "execution_count": 46,
   "id": "c363cdcd-5ea9-49b2-85a2-6692d4cf6d39",
   "metadata": {},
   "outputs": [
    {
     "data": {
      "text/plain": [
       "array([[[0],\n",
       "        [1],\n",
       "        [2]],\n",
       "\n",
       "       [[3],\n",
       "        [4],\n",
       "        [5]]])"
      ]
     },
     "execution_count": 46,
     "metadata": {},
     "output_type": "execute_result"
    }
   ],
   "source": [
    "aa[...,None] "
   ]
  },
  {
   "cell_type": "code",
   "execution_count": 47,
   "id": "8380ef4c-42f3-4925-b844-a8b29fe3ce0a",
   "metadata": {},
   "outputs": [
    {
     "data": {
      "text/plain": [
       "True"
      ]
     },
     "execution_count": 47,
     "metadata": {},
     "output_type": "execute_result"
    }
   ],
   "source": [
    "np.newaxis is None => None을 대신 할 수이 있다."
   ]
  },
  {
   "cell_type": "code",
   "execution_count": null,
   "id": "590779b8-0c35-4b28-b1c5-b57a46e9ea2f",
   "metadata": {},
   "outputs": [],
   "source": [
    "# Einsum - 수학에 연관 되어있다. "
   ]
  },
  {
   "cell_type": "code",
   "execution_count": 48,
   "id": "470dfef0-1779-475d-86e2-e8ff09c9a6f5",
   "metadata": {},
   "outputs": [],
   "source": [
    "from collections import namedtuple"
   ]
  },
  {
   "cell_type": "code",
   "execution_count": 51,
   "id": "c843e134-2d27-4b49-a661-1d99189e412c",
   "metadata": {},
   "outputs": [],
   "source": [
    "Point = namedtuple('Point',['x','y'])  팩토리 메서드? "
   ]
  },
  {
   "cell_type": "code",
   "execution_count": 52,
   "id": "ac1ec703-5705-4f70-87b0-8f97a5c6bdfa",
   "metadata": {},
   "outputs": [],
   "source": [
    "p1 = Point(x=3, y=4)"
   ]
  },
  {
   "cell_type": "code",
   "execution_count": 53,
   "id": "292908c9-d2d6-4f75-b84f-ff2b41776a70",
   "metadata": {
    "scrolled": true
   },
   "outputs": [
    {
     "data": {
      "text/plain": [
       "['__add__',\n",
       " '__class__',\n",
       " '__class_getitem__',\n",
       " '__contains__',\n",
       " '__delattr__',\n",
       " '__dir__',\n",
       " '__doc__',\n",
       " '__eq__',\n",
       " '__format__',\n",
       " '__ge__',\n",
       " '__getattribute__',\n",
       " '__getitem__',\n",
       " '__getnewargs__',\n",
       " '__getstate__',\n",
       " '__gt__',\n",
       " '__hash__',\n",
       " '__init__',\n",
       " '__init_subclass__',\n",
       " '__iter__',\n",
       " '__le__',\n",
       " '__len__',\n",
       " '__lt__',\n",
       " '__match_args__',\n",
       " '__module__',\n",
       " '__mul__',\n",
       " '__ne__',\n",
       " '__new__',\n",
       " '__reduce__',\n",
       " '__reduce_ex__',\n",
       " '__repr__',\n",
       " '__rmul__',\n",
       " '__setattr__',\n",
       " '__sizeof__',\n",
       " '__slots__',\n",
       " '__str__',\n",
       " '__subclasshook__',\n",
       " '_asdict',\n",
       " '_field_defaults',\n",
       " '_fields',\n",
       " '_make',\n",
       " '_replace',\n",
       " 'count',\n",
       " 'index',\n",
       " 'x',\n",
       " 'y']"
      ]
     },
     "execution_count": 53,
     "metadata": {},
     "output_type": "execute_result"
    }
   ],
   "source": [
    "dir(Point)"
   ]
  },
  {
   "cell_type": "code",
   "execution_count": 58,
   "id": "000c23a8-3641-40fe-9b3c-0ede75f83366",
   "metadata": {},
   "outputs": [],
   "source": [
    "xxx = np.ma.array([1,2,3], mask=[True, False, True])"
   ]
  },
  {
   "cell_type": "code",
   "execution_count": 60,
   "id": "b5bbee49-0e34-4de8-bce7-7a6b6a1e1b18",
   "metadata": {},
   "outputs": [
    {
     "data": {
      "text/plain": [
       "1"
      ]
     },
     "execution_count": 60,
     "metadata": {},
     "output_type": "execute_result"
    }
   ],
   "source": [
    "xxx.count()  # 가려진 데이터 수"
   ]
  },
  {
   "cell_type": "code",
   "execution_count": 61,
   "id": "a4da90b3-b521-413e-b050-8480475870cc",
   "metadata": {},
   "outputs": [],
   "source": [
    "# 데이터 처리 딴 생각하면서도 할 수 있게 해야한다.\n",
    "# 시키면 바로 결과물이 튀어나와야한다.\n",
    "# 생각을 한다는 것은 바로 튀어나와야한다.\n",
    "# 생각없이 할 수 있어야한다"
   ]
  },
  {
   "cell_type": "code",
   "execution_count": 62,
   "id": "33a26165-b5b6-4055-8d89-cbae2d800794",
   "metadata": {},
   "outputs": [],
   "source": [
    "xxx = np.matrix([[1,2],[3,4]]) # 학교에서는 긴것을 알려준다."
   ]
  },
  {
   "cell_type": "code",
   "execution_count": 63,
   "id": "7b06b890-dba6-476b-ad35-d976f2f26e52",
   "metadata": {},
   "outputs": [
    {
     "data": {
      "text/plain": [
       "matrix([[1, 2],\n",
       "        [3, 4]])"
      ]
     },
     "execution_count": 63,
     "metadata": {},
     "output_type": "execute_result"
    }
   ],
   "source": [
    "xxx"
   ]
  },
  {
   "cell_type": "code",
   "execution_count": 64,
   "id": "745f70bd-71b3-4df9-94bc-a5ce2d660855",
   "metadata": {},
   "outputs": [],
   "source": [
    "xxx = np.mat([[1,2],[3,4]])"
   ]
  },
  {
   "cell_type": "code",
   "execution_count": 65,
   "id": "49028473-3c55-4169-baeb-45a8ef142b4c",
   "metadata": {},
   "outputs": [
    {
     "data": {
      "text/plain": [
       "matrix([[1, 2],\n",
       "        [3, 4]])"
      ]
     },
     "execution_count": 65,
     "metadata": {},
     "output_type": "execute_result"
    }
   ],
   "source": [
    "xxx"
   ]
  },
  {
   "cell_type": "code",
   "execution_count": 66,
   "id": "ef07cb35-7e84-41a2-a5da-1fd587a1f681",
   "metadata": {},
   "outputs": [
    {
     "data": {
      "text/plain": [
       "matrix([[ 7, 10],\n",
       "        [15, 22]])"
      ]
     },
     "execution_count": 66,
     "metadata": {},
     "output_type": "execute_result"
    }
   ],
   "source": [
    "xxx*xxx  # operator overloading # 매트릭스에서 곱은 행렬곱"
   ]
  },
  {
   "cell_type": "code",
   "execution_count": 68,
   "id": "34f0b680-4940-44d5-87ac-3f4d894a127a",
   "metadata": {},
   "outputs": [],
   "source": [
    "# 함수형 프로그래밍과 어레이 프로그래밍의 공통점은, 동시에 여러 데이터 처리에 최적화가 되어있다.\n",
    "# Neural Network는 FuncP + ArrayP의 융합"
   ]
  },
  {
   "cell_type": "code",
   "execution_count": 70,
   "id": "24d703a2-3c8b-4201-ade0-12ef007cd7d9",
   "metadata": {},
   "outputs": [],
   "source": [
    "# 데이터가 많을 때, 여러 데이터를 하나의 값으로 표현하는 것이 중요하다.\n",
    "# Reducer = 여러개의 값을 하나의 값으로 줄인것. 평균, 중간값, 시그마"
   ]
  },
  {
   "cell_type": "code",
   "execution_count": null,
   "id": "5ffca22e-21f9-4cb0-ab69-3a94ae380a64",
   "metadata": {},
   "outputs": [],
   "source": [
    "# Reducer 작동법\n",
    "1+2+3+4+5\n",
    " 3\n",
    "   6\n",
    "    10\n",
    "      15"
   ]
  },
  {
   "cell_type": "code",
   "execution_count": 72,
   "id": "609add26-1429-498f-8836-5bcba635cc6d",
   "metadata": {},
   "outputs": [],
   "source": [
    "from functools import reduce"
   ]
  },
  {
   "cell_type": "code",
   "execution_count": 73,
   "id": "483ed21e-94f4-4575-975c-8d3ad6b9e34f",
   "metadata": {},
   "outputs": [
    {
     "data": {
      "text/plain": [
       "15"
      ]
     },
     "execution_count": 73,
     "metadata": {},
     "output_type": "execute_result"
    }
   ],
   "source": [
    "reduce(lambda x,y:x+y, [1,2,3,4,5])  # 인자를 뽑을 때 속도가 느리다\n",
    "                                     # 팩토리얼 계산 할 때, reduce 쓸 수 있다.\n",
    "\n",
    "# map: 동시에 데이터를 다른 형태로 바꿀 때\n",
    "# fiilter: 데이터를 걸려낼 때\n",
    "# reduce: 데이터를 하나로 축약할 때\n",
    "# 빠르다는 장점이 있다. \n",
    "\n",
    "# 넘파이의 행렬은 메모리상에서 연속된 1차원이다."
   ]
  },
  {
   "cell_type": "code",
   "execution_count": 103,
   "id": "d1357ed6-9efa-4fa2-b26c-3ac66a3f2b2e",
   "metadata": {},
   "outputs": [],
   "source": [
    "a = np.arange(6).reshape(2,3)"
   ]
  },
  {
   "cell_type": "code",
   "execution_count": 104,
   "id": "51237b8e-3622-425b-8d2c-ba6655fe96cf",
   "metadata": {},
   "outputs": [
    {
     "data": {
      "text/plain": [
       "array([[0, 1, 2],\n",
       "       [3, 4, 5]])"
      ]
     },
     "execution_count": 104,
     "metadata": {},
     "output_type": "execute_result"
    }
   ],
   "source": [
    "a"
   ]
  },
  {
   "cell_type": "code",
   "execution_count": 105,
   "id": "db56c339-9e0f-41b9-8f0b-1e4fc68bc4ad",
   "metadata": {},
   "outputs": [
    {
     "data": {
      "text/plain": [
       "dtype('int64')"
      ]
     },
     "execution_count": 105,
     "metadata": {},
     "output_type": "execute_result"
    }
   ],
   "source": [
    "a.dtype"
   ]
  },
  {
   "cell_type": "code",
   "execution_count": 106,
   "id": "364d47f3-6067-4d50-bb58-7a55104b24a8",
   "metadata": {},
   "outputs": [
    {
     "ename": "TypeError",
     "evalue": "'tuple' object is not callable",
     "output_type": "error",
     "traceback": [
      "\u001b[0;31m---------------------------------------------------------------------------\u001b[0m",
      "\u001b[0;31mTypeError\u001b[0m                                 Traceback (most recent call last)",
      "Cell \u001b[0;32mIn[106], line 1\u001b[0m\n\u001b[0;32m----> 1\u001b[0m \u001b[43ma\u001b[49m\u001b[38;5;241;43m.\u001b[39;49m\u001b[43mstrides\u001b[49m\u001b[43m(\u001b[49m\u001b[38;5;241;43m12\u001b[39;49m\u001b[43m,\u001b[49m\u001b[38;5;241;43m4\u001b[39;49m\u001b[43m)\u001b[49m  \u001b[38;5;66;03m# 12: 메모리의 보폭, # \u001b[39;00m\n",
      "\u001b[0;31mTypeError\u001b[0m: 'tuple' object is not callable"
     ]
    }
   ],
   "source": [
    "a.strides(12,4)  # 12: 메모리의 보폭, # "
   ]
  },
  {
   "cell_type": "code",
   "execution_count": 81,
   "id": "1623618a-a955-4b24-b396-5ecf2480314f",
   "metadata": {},
   "outputs": [
    {
     "data": {
      "text/plain": [
       "array([3, 5, 7])"
      ]
     },
     "execution_count": 81,
     "metadata": {},
     "output_type": "execute_result"
    }
   ],
   "source": [
    "a.sum(axis=0) # 초강속으로 계산할 수 있다. \n",
    "              # 행마다 결과를 내라 \n",
    "              # reduce, demention reduction \n",
    "              # 선형대수"
   ]
  },
  {
   "cell_type": "code",
   "execution_count": null,
   "id": "015e0515-1bf3-4fb1-89c0-0ac10c966b6c",
   "metadata": {},
   "outputs": [],
   "source": [
    "a.sum(axis=1) # 초강속으로 계산할 수 있다. # 열마다 결과를 내라  == 차원 축소"
   ]
  },
  {
   "cell_type": "code",
   "execution_count": 82,
   "id": "ad6ebe98-241d-4e6c-8c0e-f723b79ec0d1",
   "metadata": {},
   "outputs": [],
   "source": [
    "# 3차원\n",
    "aa = np.arange(24).reshape(2,3,4)"
   ]
  },
  {
   "cell_type": "code",
   "execution_count": 83,
   "id": "46cc90e4-9fac-4280-a77e-19d31c743d30",
   "metadata": {},
   "outputs": [
    {
     "data": {
      "text/plain": [
       "array([[[ 0,  1,  2,  3],\n",
       "        [ 4,  5,  6,  7],\n",
       "        [ 8,  9, 10, 11]],\n",
       "\n",
       "       [[12, 13, 14, 15],\n",
       "        [16, 17, 18, 19],\n",
       "        [20, 21, 22, 23]]])"
      ]
     },
     "execution_count": 83,
     "metadata": {},
     "output_type": "execute_result"
    }
   ],
   "source": [
    "aa"
   ]
  },
  {
   "cell_type": "code",
   "execution_count": 84,
   "id": "db951e37-39bb-426b-bea9-9f9aad8af0a4",
   "metadata": {},
   "outputs": [
    {
     "data": {
      "text/plain": [
       "276"
      ]
     },
     "execution_count": 84,
     "metadata": {},
     "output_type": "execute_result"
    }
   ],
   "source": [
    "aa.sum(axis=None)"
   ]
  },
  {
   "cell_type": "code",
   "execution_count": 85,
   "id": "262a6bf1-c319-47a9-b6a6-612c0753b10f",
   "metadata": {},
   "outputs": [
    {
     "ename": "SyntaxError",
     "evalue": "invalid syntax (2945500782.py, line 1)",
     "output_type": "error",
     "traceback": [
      "\u001b[0;36m  Cell \u001b[0;32mIn[85], line 1\u001b[0;36m\u001b[0m\n\u001b[0;31m    차원 축소, 차원 축소 리덕션\u001b[0m\n\u001b[0m       ^\u001b[0m\n\u001b[0;31mSyntaxError\u001b[0m\u001b[0;31m:\u001b[0m invalid syntax\n"
     ]
    }
   ],
   "source": [
    "차원 축소, 차원 축소 리덕션"
   ]
  },
  {
   "cell_type": "code",
   "execution_count": 86,
   "id": "1d52f6fb-2eff-492f-ae6d-e12a1b39d415",
   "metadata": {},
   "outputs": [
    {
     "data": {
      "text/plain": [
       "array([[12, 14, 16, 18],\n",
       "       [20, 22, 24, 26],\n",
       "       [28, 30, 32, 34]])"
      ]
     },
     "execution_count": 86,
     "metadata": {},
     "output_type": "execute_result"
    }
   ],
   "source": [
    "aa.sum(axis=0) #(2,3,4) 0번 숫자('2')를 가리면 (3,4) => 3차원에서 2차원으로 축소됨\n",
    "               # 1초 안에 대답해야함"
   ]
  },
  {
   "cell_type": "code",
   "execution_count": 87,
   "id": "425c6498-afd4-4512-b3a2-6daa485e094e",
   "metadata": {},
   "outputs": [],
   "source": [
    "#Cobal and Fortran <- "
   ]
  },
  {
   "cell_type": "code",
   "execution_count": null,
   "id": "1e4ceba8-bacb-48f6-9454-43fe97dbf9a5",
   "metadata": {},
   "outputs": [],
   "source": []
  },
  {
   "cell_type": "code",
   "execution_count": 88,
   "id": "f835f721-afe3-45e7-aa55-f9b73610f0c2",
   "metadata": {},
   "outputs": [
    {
     "data": {
      "text/plain": [
       "array([[0, 1, 2],\n",
       "       [3, 4, 5]])"
      ]
     },
     "execution_count": 88,
     "metadata": {},
     "output_type": "execute_result"
    }
   ],
   "source": [
    "a.reshape(2,3,order='F')  스트라이드시 아래로 F V "
   ]
  },
  {
   "cell_type": "code",
   "execution_count": null,
   "id": "4836f28d-836e-423e-9c4e-d811c77806f4",
   "metadata": {},
   "outputs": [],
   "source": [
    "a.sum(axis)"
   ]
  },
  {
   "cell_type": "code",
   "execution_count": 89,
   "id": "8e2a46a6-6b00-4540-a232-e6e66c530d45",
   "metadata": {},
   "outputs": [
    {
     "data": {
      "text/plain": [
       "array([[0, 1, 2],\n",
       "       [3, 4, 5]])"
      ]
     },
     "execution_count": 89,
     "metadata": {},
     "output_type": "execute_result"
    }
   ],
   "source": [
    "a.reshape(2,3,order='C')  스트라이드 시 옆으로 C --> "
   ]
  },
  {
   "cell_type": "code",
   "execution_count": null,
   "id": "539cbc26-c1ad-4b99-8346-9b6f0c3b613c",
   "metadata": {},
   "outputs": [],
   "source": [
    "# 데이터 분석을 하건데, 대부분 pandas\n",
    "# 월요일 부터는 이론적으로도 할것이다. "
   ]
  },
  {
   "cell_type": "code",
   "execution_count": null,
   "id": "6c18fcac-605f-4cc9-b349-c09a0cc01cb9",
   "metadata": {},
   "outputs": [],
   "source": [
    "# 데이터 사이언스에서의 유니콘\n",
    "# 유니콘 데이터"
   ]
  },
  {
   "cell_type": "code",
   "execution_count": 108,
   "id": "dcce8024-a70a-40a4-9440-12750de43689",
   "metadata": {},
   "outputs": [],
   "source": [
    "# 파일 형식\n",
    "# 텍스트: human-readable / byte\n",
    "# 여기 부터 with... \n",
    "# 파이썬은 무조건 텍스트로 들고 온다. 텍스트는 별다른 기능이 없다. \n",
    "# --> 간혹 객체를 저장하고 싶을 때는? 타입까지 저장하고 싶다면? : pickle??? #pickle# 개중요"
   ]
  },
  {
   "cell_type": "code",
   "execution_count": 114,
   "id": "93ea9a5e-aca9-4aab-a6f9-389d4fb18f7b",
   "metadata": {},
   "outputs": [
    {
     "name": "stderr",
     "output_type": "stream",
     "text": [
      "UsageError: %%writefile is a cell magic, but the cell body is empty.\n"
     ]
    }
   ],
   "source": [
    "%%writefile a.txt"
   ]
  },
  {
   "cell_type": "code",
   "execution_count": 115,
   "id": "93f76ff3-74d2-49a4-be9f-297e555803d1",
   "metadata": {},
   "outputs": [],
   "source": [
    "a = open('test.txt')"
   ]
  },
  {
   "cell_type": "code",
   "execution_count": 128,
   "id": "f30bc0bb-09ae-44a3-a03d-ebd352c2872b",
   "metadata": {},
   "outputs": [
    {
     "data": {
      "text/plain": [
       "''"
      ]
     },
     "execution_count": 128,
     "metadata": {},
     "output_type": "execute_result"
    }
   ],
   "source": [
    "a.readline()  # next 부르는 것 과 같다.\n",
    "              # 장점: 아무리 큰 파일도 한줄 씩 불러올 수 있다.\n",
    "              # 단점: 메모리 공간 차지를 너무 많이 한다. 닫아주지 않으면. DB도 그렇다.\n",
    "              # open과 close 사이의 공간을 context라고한다. 컨텍스트가 있는 상황에 쓰는 것이 with 이다. "
   ]
  },
  {
   "cell_type": "code",
   "execution_count": 130,
   "id": "af00ea7c-0901-4fb2-89cd-7126daa51f56",
   "metadata": {},
   "outputs": [],
   "source": [
    "class D:\n",
    "    def __enter__"
   ]
  },
  {
   "cell_type": "code",
   "execution_count": 131,
   "id": "0fed07a6-3737-48b9-9969-18bf4f4ac01c",
   "metadata": {},
   "outputs": [],
   "source": [
    "d = D()"
   ]
  },
  {
   "cell_type": "code",
   "execution_count": 132,
   "id": "36b73f35-edcf-4951-83ce-83192db446d3",
   "metadata": {},
   "outputs": [
    {
     "ename": "TypeError",
     "evalue": "'D' object does not support the context manager protocol",
     "output_type": "error",
     "traceback": [
      "\u001b[0;31m---------------------------------------------------------------------------\u001b[0m",
      "\u001b[0;31mTypeError\u001b[0m                                 Traceback (most recent call last)",
      "Cell \u001b[0;32mIn[132], line 1\u001b[0m\n\u001b[0;32m----> 1\u001b[0m \u001b[38;5;28;43;01mwith\u001b[39;49;00m\u001b[43m \u001b[49m\u001b[43md\u001b[49m\u001b[43m:\u001b[49m\n\u001b[1;32m      2\u001b[0m \u001b[43m    \u001b[49m\u001b[38;5;28;43;01mpass\u001b[39;49;00m\n",
      "\u001b[0;31mTypeError\u001b[0m: 'D' object does not support the context manager protocol"
     ]
    }
   ],
   "source": [
    "with d:\n",
    "    pass"
   ]
  },
  {
   "cell_type": "code",
   "execution_count": 133,
   "id": "81b60f20-d630-48ea-a0b9-d80c6aecb843",
   "metadata": {},
   "outputs": [],
   "source": [
    "#peak - Serialize, picle#\n",
    "# peak????"
   ]
  },
  {
   "cell_type": "code",
   "execution_count": 146,
   "id": "ec3b46ad-2e76-4ca0-bb61-36faaadb6125",
   "metadata": {},
   "outputs": [],
   "source": [
    "a = [1,2,3]"
   ]
  },
  {
   "cell_type": "code",
   "execution_count": 147,
   "id": "c5480f20-d51b-41aa-a336-4f25ae131751",
   "metadata": {},
   "outputs": [],
   "source": [
    "import pickle\n",
    "with open('b.txt','wb') as f:\n",
    "    pickle.dump(a,f)"
   ]
  },
  {
   "cell_type": "code",
   "execution_count": 148,
   "id": "19f86138-1ca6-469f-af00-a8560313c020",
   "metadata": {},
   "outputs": [],
   "source": [
    "with open('b.txt','rb') as f:\n",
    "    xx = pickle.load(f)  ## xx 이거 왜 접근 가능? "
   ]
  },
  {
   "cell_type": "code",
   "execution_count": null,
   "id": "3f460e03-b8a7-489e-8a74-653b9c3b32bb",
   "metadata": {},
   "outputs": [],
   "source": [
    "# 유니코드는 인코딩 디코딩이 필요하기 때문에 , 모든 것을 바이트 코드로 저장해야한다. 그런데 b'문근영' 에러"
   ]
  },
  {
   "cell_type": "code",
   "execution_count": 149,
   "id": "dcbc0f72-e0ce-4567-9b56-55437bec7b9c",
   "metadata": {},
   "outputs": [
    {
     "data": {
      "text/plain": [
       "[1, 2, 3]"
      ]
     },
     "execution_count": 149,
     "metadata": {},
     "output_type": "execute_result"
    }
   ],
   "source": [
    "xx"
   ]
  },
  {
   "cell_type": "code",
   "execution_count": null,
   "id": "77186729-f429-46be-a709-4608fd019219",
   "metadata": {},
   "outputs": [],
   "source": [
    "# 저장 꼭 해야한다. # pickle을 꼭 해야한다. # 울고 싶을 때가 많을 것이다. # 컴퓨터는 끄면 안된다."
   ]
  },
  {
   "cell_type": "code",
   "execution_count": null,
   "id": "6efb51f1-daa5-4f74-90ef-fcc854696bbd",
   "metadata": {},
   "outputs": [],
   "source": [
    "# \n",
    "np.loadtxt()  # 문자열로 저장되어 있지만, 넘파이 형태로 변환 시켜불러온다."
   ]
  },
  {
   "cell_type": "code",
   "execution_count": null,
   "id": "8b23f92f-7487-417b-b50d-d58ec8b6b227",
   "metadata": {},
   "outputs": [],
   "source": [
    "np.save('c',c) # 어떤 파일에 배열을 저장하는데 allow_pickle=True가 기본이다. (객체를 저장해주는 것) \n",
    "# np.save('c.npy') "
   ]
  },
  {
   "cell_type": "code",
   "execution_count": null,
   "id": "415e33e1-c4d4-445e-87e6-52e62a5eb2b4",
   "metadata": {},
   "outputs": [],
   "source": [
    "np.savez('z',z) # zip: 묶기, 압축 \n",
    "               # mnist.npz "
   ]
  },
  {
   "cell_type": "code",
   "execution_count": null,
   "id": "8814a131-62c0-4281-8e16-8441cb424d3a",
   "metadata": {},
   "outputs": [],
   "source": [
    "# 오래 보관할 때는, pickle\n",
    "# 잠깐 보관할 때는, copy = 딥카피"
   ]
  },
  {
   "cell_type": "code",
   "execution_count": 151,
   "id": "9488b23a-41b7-4414-b275-313d38c8d6c9",
   "metadata": {},
   "outputs": [
    {
     "ename": "SyntaxError",
     "evalue": "invalid syntax (4199625348.py, line 1)",
     "output_type": "error",
     "traceback": [
      "\u001b[0;36m  Cell \u001b[0;32mIn[151], line 1\u001b[0;36m\u001b[0m\n\u001b[0;31m    with\u001b[0m\n\u001b[0m        ^\u001b[0m\n\u001b[0;31mSyntaxError\u001b[0m\u001b[0;31m:\u001b[0m invalid syntax\n"
     ]
    }
   ],
   "source": [
    "# 모델학습 시킬 때 중간 중간 저장해 놓아야 한다. 이 때 피클을 사용한다 .\n",
    "# 피클의 문제점: python 버전에 따라 달라진다"
   ]
  },
  {
   "cell_type": "code",
   "execution_count": 152,
   "id": "b88f9494-f29c-4bcb-876c-cdecbf321287",
   "metadata": {},
   "outputs": [
    {
     "ename": "NameError",
     "evalue": "name 'rec' is not defined",
     "output_type": "error",
     "traceback": [
      "\u001b[0;31m---------------------------------------------------------------------------\u001b[0m",
      "\u001b[0;31mNameError\u001b[0m                                 Traceback (most recent call last)",
      "Cell \u001b[0;32mIn[152], line 1\u001b[0m\n\u001b[0;32m----> 1\u001b[0m \u001b[43mrec\u001b[49m\u001b[38;5;241m.\u001b[39marray\n",
      "\u001b[0;31mNameError\u001b[0m: name 'rec' is not defined"
     ]
    }
   ],
   "source": []
  },
  {
   "cell_type": "code",
   "execution_count": 153,
   "id": "19e17f76-e97c-4bec-9b2d-db820bb48c80",
   "metadata": {},
   "outputs": [
    {
     "ename": "NameError",
     "evalue": "name 'recarray' is not defined",
     "output_type": "error",
     "traceback": [
      "\u001b[0;31m---------------------------------------------------------------------------\u001b[0m",
      "\u001b[0;31mNameError\u001b[0m                                 Traceback (most recent call last)",
      "Cell \u001b[0;32mIn[153], line 1\u001b[0m\n\u001b[0;32m----> 1\u001b[0m \u001b[43mrecarray\u001b[49m\n",
      "\u001b[0;31mNameError\u001b[0m: name 'recarray' is not defined"
     ]
    }
   ],
   "source": []
  },
  {
   "cell_type": "code",
   "execution_count": 154,
   "id": "777fa390-1ee5-4280-8b10-f6b49b084ce0",
   "metadata": {},
   "outputs": [
    {
     "data": {
      "text/plain": [
       "rec.array((1, 2, 3),\n",
       "          dtype=[('f0', '<i8'), ('f1', '<i8'), ('f2', '<i8')])"
      ]
     },
     "execution_count": 154,
     "metadata": {},
     "output_type": "execute_result"
    }
   ],
   "source": [
    "np.core.records.array(a)"
   ]
  },
  {
   "cell_type": "code",
   "execution_count": 155,
   "id": "67b32fcd-e7a1-4eb2-b988-4d1b3c9e0e17",
   "metadata": {},
   "outputs": [
    {
     "data": {
      "text/plain": [
       "[1, 2, 3]"
      ]
     },
     "execution_count": 155,
     "metadata": {},
     "output_type": "execute_result"
    }
   ],
   "source": [
    "a"
   ]
  },
  {
   "cell_type": "code",
   "execution_count": 156,
   "id": "6576a0ed-55fd-4e62-821c-fa7b4cb12b0a",
   "metadata": {},
   "outputs": [],
   "source": [
    "a = np.arange(24).reshape((2,3,4))"
   ]
  },
  {
   "cell_type": "code",
   "execution_count": 157,
   "id": "4d6bc59a-6432-43f5-b9d3-3af4048ca9f0",
   "metadata": {},
   "outputs": [
    {
     "data": {
      "text/plain": [
       "array([[[ 0,  1,  2,  3],\n",
       "        [ 4,  5,  6,  7],\n",
       "        [ 8,  9, 10, 11]],\n",
       "\n",
       "       [[12, 13, 14, 15],\n",
       "        [16, 17, 18, 19],\n",
       "        [20, 21, 22, 23]]])"
      ]
     },
     "execution_count": 157,
     "metadata": {},
     "output_type": "execute_result"
    }
   ],
   "source": [
    "a"
   ]
  },
  {
   "cell_type": "code",
   "execution_count": 158,
   "id": "db909487-2b3c-4a5d-a3a8-5450ec69fe7e",
   "metadata": {},
   "outputs": [
    {
     "data": {
      "text/plain": [
       "<function collections.namedtuple(typename, field_names, *, rename=False, defaults=None, module=None)>"
      ]
     },
     "execution_count": 158,
     "metadata": {},
     "output_type": "execute_result"
    }
   ],
   "source": [
    "namedtuple"
   ]
  },
  {
   "cell_type": "code",
   "execution_count": 159,
   "id": "d3d43d1b-6233-44e9-be83-309732f12940",
   "metadata": {},
   "outputs": [],
   "source": [
    "Point = namedtuple(\"Point\", ['x','y'])"
   ]
  },
  {
   "cell_type": "code",
   "execution_count": 160,
   "id": "dcf03ebe-f403-4b65-a655-8c0ce35c49e8",
   "metadata": {},
   "outputs": [
    {
     "data": {
      "text/plain": [
       "__main__.Point"
      ]
     },
     "execution_count": 160,
     "metadata": {},
     "output_type": "execute_result"
    }
   ],
   "source": [
    "Point"
   ]
  },
  {
   "cell_type": "code",
   "execution_count": 161,
   "id": "de482b11-4d33-404b-bc7d-0a9d136f3783",
   "metadata": {},
   "outputs": [],
   "source": [
    "p = Point(3,4)"
   ]
  },
  {
   "cell_type": "code",
   "execution_count": 162,
   "id": "bd44dad8-6848-4d57-886c-7f29e4b6c87a",
   "metadata": {},
   "outputs": [
    {
     "data": {
      "text/plain": [
       "Point(x=3, y=4)"
      ]
     },
     "execution_count": 162,
     "metadata": {},
     "output_type": "execute_result"
    }
   ],
   "source": [
    "p"
   ]
  },
  {
   "cell_type": "code",
   "execution_count": 177,
   "id": "3f01d607-ac9c-44a9-8b66-f1b079113366",
   "metadata": {},
   "outputs": [
    {
     "data": {
      "text/plain": [
       "_tuplegetter(0, 'Alias for field number 0')"
      ]
     },
     "execution_count": 177,
     "metadata": {},
     "output_type": "execute_result"
    }
   ],
   "source": [
    "Point.x"
   ]
  },
  {
   "cell_type": "code",
   "execution_count": 178,
   "id": "f5e0bed9-5608-489c-8f35-1ffb69c54903",
   "metadata": {},
   "outputs": [],
   "source": [
    "parray = np.array([(1,2),(3,4),(5,6),(7,8)], dtype=[('x', '<i2'), ('y', '<f2')])"
   ]
  },
  {
   "cell_type": "code",
   "execution_count": 179,
   "id": "7f4334b7-e5a8-4912-85d3-e39a9e8a5f87",
   "metadata": {},
   "outputs": [
    {
     "data": {
      "text/plain": [
       "array([(1, 2.), (3, 4.), (5, 6.), (7, 8.)],\n",
       "      dtype=[('x', '<i2'), ('y', '<f2')])"
      ]
     },
     "execution_count": 179,
     "metadata": {},
     "output_type": "execute_result"
    }
   ],
   "source": [
    "parray"
   ]
  },
  {
   "cell_type": "code",
   "execution_count": 185,
   "id": "66496f78-3ca5-48b0-bffd-95f2d0ae3253",
   "metadata": {},
   "outputs": [
    {
     "ename": "AttributeError",
     "evalue": "'numpy.ndarray' object has no attribute 'x'",
     "output_type": "error",
     "traceback": [
      "\u001b[0;31m---------------------------------------------------------------------------\u001b[0m",
      "\u001b[0;31mAttributeError\u001b[0m                            Traceback (most recent call last)",
      "Cell \u001b[0;32mIn[185], line 1\u001b[0m\n\u001b[0;32m----> 1\u001b[0m \u001b[43mparray\u001b[49m\u001b[38;5;241;43m.\u001b[39;49m\u001b[43mx\u001b[49m\n",
      "\u001b[0;31mAttributeError\u001b[0m: 'numpy.ndarray' object has no attribute 'x'"
     ]
    }
   ],
   "source": [
    "parray.x"
   ]
  },
  {
   "cell_type": "code",
   "execution_count": 180,
   "id": "e3b2cbd4-7e00-4610-96be-e0e3246df531",
   "metadata": {},
   "outputs": [
    {
     "data": {
      "text/plain": [
       "(7, 8.)"
      ]
     },
     "execution_count": 180,
     "metadata": {},
     "output_type": "execute_result"
    }
   ],
   "source": [
    "parray[-1]"
   ]
  },
  {
   "cell_type": "code",
   "execution_count": 181,
   "id": "f7101738-3f83-490b-ac4a-9a7d19fda788",
   "metadata": {},
   "outputs": [],
   "source": [
    "recparray = np.core.records.array(parray)"
   ]
  },
  {
   "cell_type": "code",
   "execution_count": 184,
   "id": "ba6c4796-d0fd-4730-be9e-bb7cec20c083",
   "metadata": {},
   "outputs": [
    {
     "data": {
      "text/plain": [
       "array([1, 3, 5, 7], dtype=int16)"
      ]
     },
     "execution_count": 184,
     "metadata": {},
     "output_type": "execute_result"
    }
   ],
   "source": [
    "recparray.x"
   ]
  },
  {
   "cell_type": "code",
   "execution_count": 191,
   "id": "b2e7ceae-fd1d-4957-9633-8aa488dd4887",
   "metadata": {},
   "outputs": [],
   "source": [
    "import numpy as np\n",
    "\n",
    "recarray2 = np.core.records.array([\n",
    "    (1, 'bolero', 'Maurice Ravel', \"17:23\", 200),\n",
    "    (2, 'debussy', 'clair de lune', \"5:03\", 800),\n",
    "    (3, 'chopin', 'nocturne op.9 no.2', \"4:30\", 200)\n",
    "],\n",
    "dtype=[('pk', 'i4'), ('composer', 'U100'), ('title', 'U100'), ('length', 'U50'), ('counts', 'i4')]\n",
    ")"
   ]
  },
  {
   "cell_type": "code",
   "execution_count": 193,
   "id": "f0cc1cb1-8f0a-43c9-af99-9ad7773b5968",
   "metadata": {},
   "outputs": [
    {
     "data": {
      "text/plain": [
       "array(['bolero', 'debussy', 'chopin'], dtype='<U100')"
      ]
     },
     "execution_count": 193,
     "metadata": {},
     "output_type": "execute_result"
    }
   ],
   "source": [
    "recarray2.composer"
   ]
  },
  {
   "cell_type": "code",
   "execution_count": 197,
   "id": "dcc9e179-a7c8-428e-a1be-ddc34cf35a1d",
   "metadata": {},
   "outputs": [],
   "source": [
    "i = np.identity(10)"
   ]
  },
  {
   "cell_type": "code",
   "execution_count": 198,
   "id": "d61c8a33-a7ba-459e-a10e-d0c34cd0afe2",
   "metadata": {},
   "outputs": [
    {
     "data": {
      "text/plain": [
       "array([[1., 0., 0., 0., 0., 0., 0., 0., 0., 0.],\n",
       "       [0., 1., 0., 0., 0., 0., 0., 0., 0., 0.],\n",
       "       [0., 0., 1., 0., 0., 0., 0., 0., 0., 0.],\n",
       "       [0., 0., 0., 1., 0., 0., 0., 0., 0., 0.],\n",
       "       [0., 0., 0., 0., 1., 0., 0., 0., 0., 0.],\n",
       "       [0., 0., 0., 0., 0., 1., 0., 0., 0., 0.],\n",
       "       [0., 0., 0., 0., 0., 0., 1., 0., 0., 0.],\n",
       "       [0., 0., 0., 0., 0., 0., 0., 1., 0., 0.],\n",
       "       [0., 0., 0., 0., 0., 0., 0., 0., 1., 0.],\n",
       "       [0., 0., 0., 0., 0., 0., 0., 0., 0., 1.]])"
      ]
     },
     "execution_count": 198,
     "metadata": {},
     "output_type": "execute_result"
    }
   ],
   "source": [
    "i "
   ]
  },
  {
   "cell_type": "code",
   "execution_count": 199,
   "id": "fd938bff-4eac-4517-8931-c3038e6d8e19",
   "metadata": {},
   "outputs": [],
   "source": [
    "a = np.arange(100).reshape((10,10))"
   ]
  },
  {
   "cell_type": "code",
   "execution_count": 200,
   "id": "785be5a0-4e77-41d8-b69b-658437734bb5",
   "metadata": {},
   "outputs": [
    {
     "data": {
      "text/plain": [
       "array([[ 0,  1,  2,  3,  4,  5,  6,  7,  8,  9],\n",
       "       [10, 11, 12, 13, 14, 15, 16, 17, 18, 19],\n",
       "       [20, 21, 22, 23, 24, 25, 26, 27, 28, 29],\n",
       "       [30, 31, 32, 33, 34, 35, 36, 37, 38, 39],\n",
       "       [40, 41, 42, 43, 44, 45, 46, 47, 48, 49],\n",
       "       [50, 51, 52, 53, 54, 55, 56, 57, 58, 59],\n",
       "       [60, 61, 62, 63, 64, 65, 66, 67, 68, 69],\n",
       "       [70, 71, 72, 73, 74, 75, 76, 77, 78, 79],\n",
       "       [80, 81, 82, 83, 84, 85, 86, 87, 88, 89],\n",
       "       [90, 91, 92, 93, 94, 95, 96, 97, 98, 99]])"
      ]
     },
     "execution_count": 200,
     "metadata": {},
     "output_type": "execute_result"
    }
   ],
   "source": [
    "a"
   ]
  },
  {
   "cell_type": "code",
   "execution_count": 202,
   "id": "f851640e-b538-42a0-8674-e230eb6f8e74",
   "metadata": {},
   "outputs": [],
   "source": [
    "b = np.ma.masked_array(a,i)"
   ]
  },
  {
   "cell_type": "code",
   "execution_count": 220,
   "id": "d6948e54-3e70-4c63-a240-58da7c3d0913",
   "metadata": {},
   "outputs": [
    {
     "data": {
      "text/plain": [
       "masked_array(\n",
       "  data=[[--, 1, 2, 3, 4, 5, 6, 7, 8, 9],\n",
       "        [10, --, 12, 13, 14, 15, 16, 17, 18, 19],\n",
       "        [20, 21, --, 23, 24, 25, 26, 27, 28, 29],\n",
       "        [30, 31, 32, --, 34, 35, 36, 37, 38, 39],\n",
       "        [40, 41, 42, 43, --, 45, 46, 47, 48, 49],\n",
       "        [50, 51, 52, 53, 54, --, 56, 57, 58, 59],\n",
       "        [60, 61, 62, 63, 64, 65, --, 67, 68, 69],\n",
       "        [70, 71, 72, 73, 74, 75, 76, --, 78, 79],\n",
       "        [80, 81, 82, 83, 84, 85, 86, 87, --, 89],\n",
       "        [90, 91, 92, 93, 94, 95, 96, 97, 98, --]],\n",
       "  mask=[[ True, False, False, False, False, False, False, False, False,\n",
       "         False],\n",
       "        [False,  True, False, False, False, False, False, False, False,\n",
       "         False],\n",
       "        [False, False,  True, False, False, False, False, False, False,\n",
       "         False],\n",
       "        [False, False, False,  True, False, False, False, False, False,\n",
       "         False],\n",
       "        [False, False, False, False,  True, False, False, False, False,\n",
       "         False],\n",
       "        [False, False, False, False, False,  True, False, False, False,\n",
       "         False],\n",
       "        [False, False, False, False, False, False,  True, False, False,\n",
       "         False],\n",
       "        [False, False, False, False, False, False, False,  True, False,\n",
       "         False],\n",
       "        [False, False, False, False, False, False, False, False,  True,\n",
       "         False],\n",
       "        [False, False, False, False, False, False, False, False, False,\n",
       "          True]],\n",
       "  fill_value=999999)"
      ]
     },
     "execution_count": 220,
     "metadata": {},
     "output_type": "execute_result"
    }
   ],
   "source": [
    "b"
   ]
  },
  {
   "cell_type": "code",
   "execution_count": 206,
   "id": "7f910ce3-a98c-4fc7-aecf-9f55098a8136",
   "metadata": {},
   "outputs": [
    {
     "data": {
      "text/plain": [
       "(10, 10)"
      ]
     },
     "execution_count": 206,
     "metadata": {},
     "output_type": "execute_result"
    }
   ],
   "source": [
    "b.shape"
   ]
  },
  {
   "cell_type": "code",
   "execution_count": 208,
   "id": "c795254d-61f5-42dd-a56c-54e5367b26b9",
   "metadata": {},
   "outputs": [],
   "source": [
    "import inspect"
   ]
  },
  {
   "cell_type": "code",
   "execution_count": 218,
   "id": "41bac6be-f049-4f30-9662-36204380e90a",
   "metadata": {},
   "outputs": [
    {
     "data": {
      "text/plain": [
       "array([[21, 22, 23, 24, 25, 26, 27],\n",
       "       [31, 32, 33, 34, 35, 36, 37],\n",
       "       [41, 42, 43, 44, 45, 46, 47],\n",
       "       [51, 52, 53, 54, 55, 56, 57],\n",
       "       [61, 62, 63, 64, 65, 66, 67],\n",
       "       [71, 72, 73, 74, 75, 76, 77],\n",
       "       [81, 82, 83, 84, 85, 86, 87]])"
      ]
     },
     "execution_count": 218,
     "metadata": {},
     "output_type": "execute_result"
    }
   ],
   "source": [
    "b.data[2:9,1:8]"
   ]
  },
  {
   "cell_type": "code",
   "execution_count": null,
   "id": "93fc412a-bcd7-478d-90bd-64d1633f4929",
   "metadata": {},
   "outputs": [],
   "source": []
  }
 ],
 "metadata": {
  "kernelspec": {
   "display_name": "Python 3 (ipykernel)",
   "language": "python",
   "name": "python3"
  },
  "language_info": {
   "codemirror_mode": {
    "name": "ipython",
    "version": 3
   },
   "file_extension": ".py",
   "mimetype": "text/x-python",
   "name": "python",
   "nbconvert_exporter": "python",
   "pygments_lexer": "ipython3",
   "version": "3.11.8"
  }
 },
 "nbformat": 4,
 "nbformat_minor": 5
}
