{
 "cells": [
  {
   "cell_type": "code",
   "execution_count": 1,
   "id": "dbb4a2c1-7962-4842-a530-bdf9bb53c3c1",
   "metadata": {},
   "outputs": [],
   "source": [
    "# Numpy"
   ]
  },
  {
   "cell_type": "code",
   "execution_count": 2,
   "id": "ae643c82-3889-455d-9cb5-2e0601941a73",
   "metadata": {},
   "outputs": [],
   "source": [
    "# comma indexing\n",
    "# boolean indexing\n"
   ]
  },
  {
   "cell_type": "code",
   "execution_count": null,
   "id": "21860bf6-8535-4255-a763-979bc0bd8b49",
   "metadata": {},
   "outputs": [],
   "source": [
    "# MatLab"
   ]
  },
  {
   "cell_type": "code",
   "execution_count": 3,
   "id": "53d743ab-f193-4c2a-9e5a-7acdb72a347b",
   "metadata": {},
   "outputs": [],
   "source": [
    "# COPY 종류"
   ]
  },
  {
   "cell_type": "code",
   "execution_count": null,
   "id": "6fc83bbc-de3b-4673-bef1-087176f4de40",
   "metadata": {},
   "outputs": [],
   "source": [
    "# Numpy 와 copy"
   ]
  },
  {
   "cell_type": "code",
   "execution_count": 4,
   "id": "0fb7cf01-b1d2-4089-984c-5de1330b85e3",
   "metadata": {},
   "outputs": [],
   "source": [
    "# 왜 복사?"
   ]
  },
  {
   "cell_type": "code",
   "execution_count": 5,
   "id": "42796a2c-1578-45b2-842f-366d448b8f23",
   "metadata": {},
   "outputs": [],
   "source": [
    "# 왜 인덱싱?"
   ]
  },
  {
   "cell_type": "code",
   "execution_count": 6,
   "id": "c6b3e1d7-14d8-402c-8004-6f73a9fcf223",
   "metadata": {},
   "outputs": [],
   "source": [
    "# 인덱싱 5가지 ?"
   ]
  },
  {
   "cell_type": "code",
   "execution_count": 7,
   "id": "a6357af6-0f7d-4513-ab97-3c433282557d",
   "metadata": {},
   "outputs": [
    {
     "ename": "NameError",
     "evalue": "name 'a' is not defined",
     "output_type": "error",
     "traceback": [
      "\u001b[0;31m---------------------------------------------------------------------------\u001b[0m",
      "\u001b[0;31mNameError\u001b[0m                                 Traceback (most recent call last)",
      "Cell \u001b[0;32mIn[7], line 1\u001b[0m\n\u001b[0;32m----> 1\u001b[0m \u001b[43ma\u001b[49m[(\u001b[38;5;241m0\u001b[39m,\u001b[38;5;241m1\u001b[39m,\u001b[38;5;241m-\u001b[39m\u001b[38;5;241m1\u001b[39m),(\u001b[38;5;241m2\u001b[39m,\u001b[38;5;241m1\u001b[39m,\u001b[38;5;241m-\u001b[39m\u001b[38;5;241m3\u001b[39m)] \n",
      "\u001b[0;31mNameError\u001b[0m: name 'a' is not defined"
     ]
    }
   ],
   "source": [
    "a[(0,1,-1),(2,1,-3)] "
   ]
  },
  {
   "cell_type": "code",
   "execution_count": null,
   "id": "d0341c82-efcd-48e1-9da6-554d3d8f7695",
   "metadata": {},
   "outputs": [],
   "source": [
    "# 덕타이핑 "
   ]
  },
  {
   "cell_type": "code",
   "execution_count": 8,
   "id": "dd298413-0c64-4f71-b40c-4dcef704dbdb",
   "metadata": {},
   "outputs": [],
   "source": [
    "# 팬시 인덱싱"
   ]
  },
  {
   "cell_type": "code",
   "execution_count": 9,
   "id": "51d1ab02-bfbe-417f-9d44-72c5e59c46a3",
   "metadata": {},
   "outputs": [],
   "source": [
    "# ... "
   ]
  },
  {
   "cell_type": "code",
   "execution_count": 10,
   "id": "11a7af14-2e6b-4aaa-b6bc-ef6a636fe793",
   "metadata": {},
   "outputs": [],
   "source": [
    "# 인덱싱 6가지 분류할 수 있고, 5가지 일수 있다"
   ]
  },
  {
   "cell_type": "code",
   "execution_count": null,
   "id": "b73057a8-0cf3-4896-8c56-a52593bb3af4",
   "metadata": {},
   "outputs": [],
   "source": [
    "a[None] => 차원 증가"
   ]
  },
  {
   "cell_type": "code",
   "execution_count": null,
   "id": "d31687ab-5939-47b6-8bee-3cc7f83129f5",
   "metadata": {},
   "outputs": [],
   "source": [
    "aa[:,:,0] # aa[3차, 2차, 1차]  => aa[...,0]\n",
    "aa[:,2,:] # aa[3차, 2차, 1차] "
   ]
  },
  {
   "cell_type": "code",
   "execution_count": null,
   "id": "9afb58b2-2a3f-4b40-a68b-d4b9189ee174",
   "metadata": {},
   "outputs": [],
   "source": [
    "# http:/rfriend.tistory.com , 연습 문제 풀어본다. "
   ]
  },
  {
   "cell_type": "code",
   "execution_count": null,
   "id": "a240d726-d001-48b0-9b1c-f60518fa7c6d",
   "metadata": {},
   "outputs": [],
   "source": [
    "# 데이터 뽑아내기 "
   ]
  },
  {
   "cell_type": "code",
   "execution_count": 11,
   "id": "5c8cccae-e684-4ce3-8f85-5c8e6dc18515",
   "metadata": {},
   "outputs": [],
   "source": [
    "# 파이썬 숫자 3가지?"
   ]
  },
  {
   "cell_type": "code",
   "execution_count": null,
   "id": "c9aa7c05-35bf-4192-b17a-430e9ed5b917",
   "metadata": {},
   "outputs": [],
   "source": [
    "# ***** univertial function **** - 누구나 쓸수 있다. tf,pyt,np \n",
    "# CPU 기능을 최대화 하여 사용한다."
   ]
  },
  {
   "cell_type": "code",
   "execution_count": null,
   "id": "32c6f99f-7202-4e03-86ef-ed087198bc0a",
   "metadata": {},
   "outputs": [],
   "source": [
    "scipy > ndimage > scipy-toolkit > ml > scikit-learn"
   ]
  },
  {
   "cell_type": "code",
   "execution_count": null,
   "id": "5311ccda-6dee-4b79-8661-242011f32004",
   "metadata": {},
   "outputs": [],
   "source": []
  }
 ],
 "metadata": {
  "kernelspec": {
   "display_name": "Python 3 (ipykernel)",
   "language": "python",
   "name": "python3"
  },
  "language_info": {
   "codemirror_mode": {
    "name": "ipython",
    "version": 3
   },
   "file_extension": ".py",
   "mimetype": "text/x-python",
   "name": "python",
   "nbconvert_exporter": "python",
   "pygments_lexer": "ipython3",
   "version": "3.11.8"
  }
 },
 "nbformat": 4,
 "nbformat_minor": 5
}
