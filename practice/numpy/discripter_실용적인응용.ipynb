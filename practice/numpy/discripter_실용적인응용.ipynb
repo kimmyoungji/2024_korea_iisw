{
 "cells": [
  {
   "cell_type": "code",
   "execution_count": 161,
   "id": "ced8f7e0-5b2d-4281-9c5f-908b9ed4d842",
   "metadata": {},
   "outputs": [
    {
     "data": {
      "text/plain": [
       "1"
      ]
     },
     "execution_count": 161,
     "metadata": {},
     "output_type": "execute_result"
    }
   ],
   "source": [
    "# mangling\n",
    "class A:\n",
    "    __x = 1\n",
    "\n",
    "a = A()\n",
    "a._A__x"
   ]
  },
  {
   "cell_type": "code",
   "execution_count": 72,
   "id": "a2b6046f-aefb-4545-a019-7b3c7201bfd0",
   "metadata": {},
   "outputs": [],
   "source": [
    "class Ten:\n",
    "    def __get__(self, obj, objtype=None):\n",
    "        return 10"
   ]
  },
  {
   "cell_type": "code",
   "execution_count": 197,
   "id": "d7872e9a-c6e6-4335-beb0-3575862a134c",
   "metadata": {},
   "outputs": [],
   "source": [
    "class A:\n",
    "    x = 5\n",
    "    y = Ten()\n",
    "    "
   ]
  },
  {
   "cell_type": "code",
   "execution_count": 198,
   "id": "e877fbf8-6303-4d4e-bf7c-94bc67618858",
   "metadata": {},
   "outputs": [
    {
     "data": {
      "text/plain": [
       "10"
      ]
     },
     "execution_count": 198,
     "metadata": {},
     "output_type": "execute_result"
    }
   ],
   "source": [
    "a = A()\n",
    "a.x\n",
    "a.y"
   ]
  },
  {
   "cell_type": "code",
   "execution_count": 144,
   "id": "f3b4bbd8-98df-4ba6-bf7d-ab3d1d2af537",
   "metadata": {},
   "outputs": [],
   "source": [
    "import os\n",
    "\n",
    "class DirectorySize:\n",
    "\n",
    "    def __get__(self, obj, objtype=None):\n",
    "        print(obj.dirname)\n",
    "        return len(os.listdir(obj.dirname))\n",
    "\n",
    "class Directory:\n",
    "\n",
    "    size = DirectorySize()              # Descriptor instance\n",
    "\n",
    "    def __init__(self, dirname):\n",
    "        self.dirname = dirname          # Regular instance attribute"
   ]
  },
  {
   "cell_type": "code",
   "execution_count": 150,
   "id": "7820f30b-da95-43cf-af11-d4c97f2c47c7",
   "metadata": {},
   "outputs": [],
   "source": [
    "directory = Directory('my_dir ')"
   ]
  },
  {
   "cell_type": "code",
   "execution_count": 151,
   "id": "3224844f-33f5-4d99-a333-fe99cd47eb9a",
   "metadata": {},
   "outputs": [
    {
     "name": "stdout",
     "output_type": "stream",
     "text": [
      "my_dir \n"
     ]
    },
    {
     "data": {
      "text/plain": [
       "0"
      ]
     },
     "execution_count": 151,
     "metadata": {},
     "output_type": "execute_result"
    }
   ],
   "source": [
    "directory.size"
   ]
  },
  {
   "cell_type": "code",
   "execution_count": 156,
   "id": "65440919-0421-4fde-b6bf-116d5ce31526",
   "metadata": {},
   "outputs": [],
   "source": [
    "import logging\n",
    "\n",
    "logging.basicConfig(level=logging.INFO)\n",
    "\n",
    "class LoggedAgeAccess:\n",
    "\n",
    "    def __get__(self, obj, objtype=None):\n",
    "        value = obj._age\n",
    "        logging.info('Accessing %r giving %r', 'age', value)\n",
    "        return value\n",
    "\n",
    "    def __set__(self, obj, value):\n",
    "        logging.info('Updating %r to %r', 'age', value)\n",
    "        obj._age = value\n",
    "\n",
    "class Person:\n",
    "\n",
    "    age = LoggedAgeAccess()             # Descriptor instance\n",
    "\n",
    "    def __init__(self, name, age):\n",
    "        self.name = name                # Regular instance attribute\n",
    "        self.age = age                  # Calls __set__()\n",
    "\n",
    "    def birthday(self):\n",
    "        self.age += 1                   # Calls both __get__() and __set__()"
   ]
  },
  {
   "cell_type": "code",
   "execution_count": 159,
   "id": "f06ed7b6-3874-4975-8be4-2c87d124dfa5",
   "metadata": {},
   "outputs": [
    {
     "name": "stderr",
     "output_type": "stream",
     "text": [
      "INFO:root:Updating 'age' to 25\n",
      "INFO:root:Updating 'age' to 10\n",
      "INFO:root:Accessing 'age' giving 10\n"
     ]
    },
    {
     "data": {
      "text/plain": [
       "10"
      ]
     },
     "execution_count": 159,
     "metadata": {},
     "output_type": "execute_result"
    }
   ],
   "source": [
    "person = Person('김명지',25)\n",
    "person.age = 10\n",
    "person.age"
   ]
  },
  {
   "cell_type": "code",
   "execution_count": null,
   "id": "31c5cfd9-e40a-4e01-bcc1-24521da33000",
   "metadata": {},
   "outputs": [],
   "source": [
    "# 디스크립터는 __get__(), __set__() 또는 __delete__()를 정의하는 모든 객체를 우리가 부르는 이름"
   ]
  },
  {
   "cell_type": "code",
   "execution_count": 192,
   "id": "9eba6e92-83f1-4d42-a25e-95cead91c752",
   "metadata": {},
   "outputs": [],
   "source": [
    "class MyDiscriptor:\n",
    "    def __get__(self,obj, objtype=None):\n",
    "        owner = obj.owner\n",
    "        return f\"this is {owner}'s discriptor\"\n",
    "        \n",
    "    def __set__(self, obj, value):\n",
    "        obj.owner = value\n",
    "\n",
    "    def __delete__(self, obj):\n",
    "        del obj.owner\n",
    "        obj.owner = 'new_owner'\n",
    "    def __set_name__(self,owner,name):\n",
    "        print('this is __set_name__')\n",
    "        pass\n",
    "\n",
    "class MyClass:\n",
    "    owner = 'default_owner'\n",
    "    my_discriptor = My_Discriptor()\n",
    "    "
   ]
  },
  {
   "cell_type": "code",
   "execution_count": 193,
   "id": "3873d7d2-ba98-47ca-b45e-c546b5e8a243",
   "metadata": {},
   "outputs": [],
   "source": [
    "myclass = MyClass()"
   ]
  },
  {
   "cell_type": "code",
   "execution_count": null,
   "id": "702e4596-94c4-4d15-b119-a380f4e54bb4",
   "metadata": {},
   "outputs": [],
   "source": [
    "# 디스크립터는 클래스 변수로 사용될 때만 작동합니다. 인스턴스에 넣으면, 효과가 없습니다."
   ]
  },
  {
   "cell_type": "code",
   "execution_count": null,
   "id": "eae2b36e-5ba5-4032-80d0-91a31ad6cfd7",
   "metadata": {},
   "outputs": [],
   "source": [
    "# 디스크립터의 주요 동기는 클래스 변수에 저장된 객체가 \n",
    "# 어트리뷰트 조회 중에 발생하는 일을 제어 할 수 있도록 하는 훅을 제공하는 것입니다."
   ]
  },
  {
   "cell_type": "code",
   "execution_count": 274,
   "id": "17010a60-2699-4138-b374-f9d824bfc58e",
   "metadata": {},
   "outputs": [],
   "source": [
    "from abc import ABC, abstractmethod\n",
    "\n",
    "class Validator(ABC):\n",
    "\n",
    "    def __set_name__(self, owner, name):\n",
    "        self.private_name = '_' + name\n",
    "\n",
    "    def __get__(self, obj, objtype=None):\n",
    "        # getattr(obj, name) : obj의 어트리뷰트중 이름이 name인 어트리뷰트를 반환\n",
    "        return getattr(obj, self.private_name) \n",
    "\n",
    "    def __set__(self, obj, value):\n",
    "        self.validate(value)\n",
    "        setattr(obj, self.private_name, value)\n",
    "\n",
    "    @abstractmethod\n",
    "    def validate(self, value):\n",
    "        pass"
   ]
  },
  {
   "cell_type": "code",
   "execution_count": 275,
   "id": "2409ab18-2fbd-4773-b454-4e1463f81c09",
   "metadata": {},
   "outputs": [],
   "source": [
    "import sys\n",
    "import re\n",
    "\n",
    "class OneOf(Validator):\n",
    "\n",
    "    def __init__(self, *options):\n",
    "        super(Validator).__init__()\n",
    "        self.options = set(options)\n",
    "\n",
    "    def validate(self, value):\n",
    "        if value not in self.options:\n",
    "            raise ValueError(f'Expected {value!r} to be one of {self.options!r}')\n",
    "\n",
    "class Number(Validator):\n",
    "\n",
    "    def __init__(self, minvalue=None, maxvalue=None):\n",
    "        self.minvalue = minvalue\n",
    "        self.maxvalue = maxvalue\n",
    "\n",
    "    def validate(self, value):\n",
    "        if not isinstance(value, (int, float)):\n",
    "            raise TypeError(f'Expected {value!r} to be an int or float')\n",
    "        if self.minvalue is not None and value < self.minvalue:\n",
    "            raise ValueError(\n",
    "                f'Expected {value!r} to be at least {self.minvalue!r}'\n",
    "            )\n",
    "        if self.maxvalue is not None and value > self.maxvalue:\n",
    "            raise ValueError(\n",
    "                f'Expected {value!r} to be no more than {self.maxvalue!r}'\n",
    "            )\n",
    "\n",
    "class String(Validator):\n",
    "\n",
    "    def __init__(self, minsize=None, maxsize=None, predicate=None):\n",
    "        self.minsize = minsize\n",
    "        self.maxsize = maxsize\n",
    "        self.predicate = predicate\n",
    "\n",
    "    def validate(self, value):\n",
    "        if not isinstance(value, str):\n",
    "            raise TypeError(f'Expected {value!r} to be an str')\n",
    "        if self.minsize is not None and len(value) < self.minsize:\n",
    "            raise ValueError(\n",
    "                f'Expected {value!r} to be no smaller than {self.minsize!r}'\n",
    "            )\n",
    "        if self.maxsize is not None and len(value) > self.maxsize:\n",
    "            raise ValueError(\n",
    "                f'Expected {value!r} to be no bigger than {self.maxsize!r}'\n",
    "            )\n",
    "        if self.predicate is not None and not self.predicate(value):\n",
    "            raise ValueError(\n",
    "                # r이 의미하는 것은 객체 value의 __reqr__ 호출을 의미한다.\n",
    "                f'Expected {self.predicate} to be true for {value!r}' \n",
    "            )\n",
    "\n",
    "class HexaCode(Validator):\n",
    "    def __init__(self, hexacode=b'0x0000', minbyte=4, maxbyte=40):\n",
    "        super(Validator).__init__()\n",
    "        self.minbyte = minbyte\n",
    "        self.maxbyte = maxbyte\n",
    "        self.hexacode = hexacode\n",
    "\n",
    "    def validate(self, value):\n",
    "        hexacode_size = sys.getsizeof(value)\n",
    "        print(f'{value!r}')\n",
    "        if not re.match(r'^0[xX][0-9a-fA-F]+$',value_str):\n",
    "            raise ValueError(\n",
    "                 f'Expected {value!r} to be Hexacode'\n",
    "            )\n",
    "        if hexacode_size > self.maxbyte:\n",
    "            raise ValueError(\n",
    "                 f'Expected {value!r} to be no bigger than {self.maxbyte!r}'\n",
    "            )\n",
    "        if hexacode_size < self.minbyte:\n",
    "            raise ValueError(\n",
    "                 f'Expected {value!r} to be no smaller than {self.minbyte!r}'\n",
    "            )\n",
    "        \n",
    "    "
   ]
  },
  {
   "cell_type": "code",
   "execution_count": 276,
   "id": "1ab12c73-0bfc-4f72-a2c0-cf697765a8a3",
   "metadata": {},
   "outputs": [],
   "source": [
    "class Component:\n",
    "\n",
    "    name = String(minsize=3, maxsize=10, predicate=str.isupper)\n",
    "    kind = OneOf('wood', 'metal', 'plastic')\n",
    "    quantity = Number(minvalue=0)\n",
    "    hexacode = HexaCode(hexacode=b'0x000')\n",
    "\n",
    "    def __init__(self, name, kind, quantity, hexacode):\n",
    "        self.name = name\n",
    "        self.kind = kind\n",
    "        self.quantity = quantity\n",
    "        self.hexacode = hexacode"
   ]
  },
  {
   "cell_type": "code",
   "execution_count": 277,
   "id": "c22eed96-e74f-4b34-966e-e4dcda7c18ff",
   "metadata": {},
   "outputs": [
    {
     "name": "stdout",
     "output_type": "stream",
     "text": [
      "b'0x124FD'\n"
     ]
    }
   ],
   "source": [
    "c = Component('MYCOMP','wood',4, b'0x124FD')"
   ]
  },
  {
   "cell_type": "code",
   "execution_count": 278,
   "id": "dc76edb6-b2cc-4d92-939d-d1ac3a9e8564",
   "metadata": {},
   "outputs": [
    {
     "data": {
      "text/plain": [
       "{'_name': 'MYCOMP', '_kind': 'wood', '_quantity': 4, '_hexacode': b'0x124FD'}"
      ]
     },
     "execution_count": 278,
     "metadata": {},
     "output_type": "execute_result"
    }
   ],
   "source": [
    "vars(c)"
   ]
  },
  {
   "cell_type": "code",
   "execution_count": 271,
   "id": "d72d486e-ab24-427f-adfb-c20903e2dba1",
   "metadata": {},
   "outputs": [
    {
     "name": "stdout",
     "output_type": "stream",
     "text": [
      "<re.Match object; span=(0, 7), match='0x124FD'>\n"
     ]
    }
   ],
   "source": []
  },
  {
   "cell_type": "code",
   "execution_count": null,
   "id": "ff75e2c9-f7ed-4527-a252-7bb0e1aec907",
   "metadata": {},
   "outputs": [],
   "source": []
  }
 ],
 "metadata": {
  "kernelspec": {
   "display_name": "Python 3 (ipykernel)",
   "language": "python",
   "name": "python3"
  },
  "language_info": {
   "codemirror_mode": {
    "name": "ipython",
    "version": 3
   },
   "file_extension": ".py",
   "mimetype": "text/x-python",
   "name": "python",
   "nbconvert_exporter": "python",
   "pygments_lexer": "ipython3",
   "version": "3.11.8"
  }
 },
 "nbformat": 4,
 "nbformat_minor": 5
}
