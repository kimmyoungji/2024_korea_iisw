{
 "cells": [
  {
   "cell_type": "code",
   "execution_count": null,
   "id": "e15234ab-75d0-4d71-b7b7-c600d5967267",
   "metadata": {},
   "outputs": [],
   "source": [
    "import numpy as np"
   ]
  },
  {
   "cell_type": "markdown",
   "id": "773da39d-1e1c-4613-ae48-9034ff9bf120",
   "metadata": {},
   "source": [
    "# numpy -> homo sequence vectorize"
   ]
  },
  {
   "cell_type": "markdown",
   "id": "0f7e81ab-8f40-4986-af77-7cf64a4b8bc1",
   "metadata": {},
   "source": [
    "## numpy 벡터 만들기"
   ]
  },
  {
   "cell_type": "code",
   "execution_count": null,
   "id": "f3f23a5e-6712-4c75-90b5-6859a4730a29",
   "metadata": {},
   "outputs": [],
   "source": [
    "a = np.array((1,2,3,4))"
   ]
  },
  {
   "cell_type": "code",
   "execution_count": null,
   "id": "600ab0f0-7d36-4202-b458-67458eefef14",
   "metadata": {},
   "outputs": [],
   "source": [
    "# 연습 공간\n",
    "class A:\n",
    "    def __array__(self):  # ufunc가 반환하는 객체, \n",
    "        return np.arange(6).reshape((2,3))\n",
    "\n",
    "class B:\n",
    "    def __array_function__(self,a,b,c,d):  # ufunc가 반환하는 객체, \n",
    "        return 'hello I am not array...'\n",
    "\n",
    "aa = A()\n",
    "bb = B()\n",
    "arr_c = np.array(aa,order='C',copy=True)\n",
    "# print('mro', getattr(arr_c, '__mro__'))\n",
    "print(aa is arr_c) \n",
    "arr_f = np.array([],order='F',like=bb, copy=False) # 확인한 속성들: order, copy, like, ndmin, dtype\n",
    "print(bb is arr_f) \n",
    "\n",
    "arr_c, arr_f\n",
    "\n",
    "# 1 2 3\n",
    "# 4 5 6\n",
    "# In 'C' order, the array is stored in memory as 1 2 3 4 5 6, prioritizing row-wise storage.\n",
    "# In 'F' order, the array is stored as 1 4 2 5 3 6, prioritizing column-wise storage."
   ]
  },
  {
   "cell_type": "code",
   "execution_count": null,
   "id": "03e17d4f-db92-459f-9f9b-e643cda2ed86",
   "metadata": {},
   "outputs": [],
   "source": [
    "b = np.ndarray((1,4,3))"
   ]
  },
  {
   "cell_type": "code",
   "execution_count": null,
   "id": "fab3abf2-940d-4734-addf-12518460dca2",
   "metadata": {},
   "outputs": [],
   "source": [
    "# 연습공간\n",
    "cc = np.ndarray((3,2,2,5), dtype='int32') # buffer, offset, strides 나중에..\n",
    "cc\n",
    "\n",
    "dd = np.ndarray((4,4), buffer=np.array([1,2,3,4,5,6,7,8,9,10,11]),\n",
    "               offset=np.int_().itemsize*4,\n",
    "               strides=(3,1),\n",
    "               dtype='int32')\n",
    "\n",
    "# dd,dd.cumprod(axis=0),dd.cumprod(axis=1),dd.cumsum(axis=0), dd.cumsum(axis=1)\n",
    "# dd, dd.conj(), dd.conjugate()\n",
    "import pickle\n",
    "\n",
    "with open('./new_file.pickle','wb') as f:\n",
    "    dd_tosave = dd.dump(f)\n",
    "    # pickle.dump(dd_tosave, f)\n",
    "\n",
    "with open('./new_file.pickle','rb') as f:\n",
    "    data = pickle.load(f)\n",
    "    print(data)\n",
    "\n",
    "dd.flatten(), dd.getfield(dtype='int32'), dd.ravel(), dd.repeat([1,2,3])"
   ]
  },
  {
   "cell_type": "markdown",
   "id": "169d0803-f8f4-4311-9a2b-b32359291434",
   "metadata": {},
   "source": [
    "## 벡터 모양 확인하기"
   ]
  },
  {
   "cell_type": "code",
   "execution_count": null,
   "id": "417af945-28dd-443c-9756-0eba1d50e189",
   "metadata": {},
   "outputs": [],
   "source": [
    "a.ndim, a.shape, a.dtype, a.size, a.data, a"
   ]
  },
  {
   "cell_type": "code",
   "execution_count": null,
   "id": "f6a0d713-e079-4178-8d80-ee5cedaed8ca",
   "metadata": {},
   "outputs": [],
   "source": [
    "b.ndim, b.shape, b.dtype, b.size, b.data, b"
   ]
  },
  {
   "cell_type": "markdown",
   "id": "5e67d9c9-9f73-44f0-bcf4-4a3c97b12f3a",
   "metadata": {},
   "source": [
    "## 넘파이의 복사 - 깊, 얕"
   ]
  },
  {
   "cell_type": "code",
   "execution_count": null,
   "id": "22d49435-b31f-4946-befb-1126a145da01",
   "metadata": {},
   "outputs": [],
   "source": [
    "c = a\n",
    "d = a.copy()\n",
    "c is a,\\\n",
    "d is a"
   ]
  },
  {
   "cell_type": "code",
   "execution_count": null,
   "id": "7b3f3de4-84ec-4b90-a891-cfbcabb3022f",
   "metadata": {},
   "outputs": [],
   "source": [
    "e = b\n",
    "f = b.copy()\n",
    "e is b,\\\n",
    "f is b"
   ]
  },
  {
   "cell_type": "markdown",
   "id": "8c05478f-fb6a-4d07-8ae7-34af2f4331b3",
   "metadata": {},
   "source": [
    "## 넘파이는 기본이 뮤터블"
   ]
  },
  {
   "cell_type": "code",
   "execution_count": null,
   "id": "ee7097a2-bf82-41d5-9458-f29078fd7faf",
   "metadata": {},
   "outputs": [],
   "source": [
    "g = np.array([1,2,3,4])\n",
    "g[3] = 5\n",
    "g"
   ]
  },
  {
   "cell_type": "code",
   "execution_count": null,
   "id": "5408ce33-f736-445a-bbd3-98d8f5709b88",
   "metadata": {},
   "outputs": [],
   "source": [
    "h = np.ndarray((2,3))\n",
    "h[1,1] = 100\n",
    "h"
   ]
  },
  {
   "cell_type": "markdown",
   "id": "296ffc92-5730-4533-8179-e2f7f0539829",
   "metadata": {},
   "source": [
    "## 넘파이의 다차원 벡터는 메모리상에 연속적으로 저장된다!"
   ]
  },
  {
   "cell_type": "markdown",
   "id": "4b63cd74-9f2a-41fe-a481-c4c62c139d41",
   "metadata": {},
   "source": [
    "## 넘파이의 다양한 다차원벡터들"
   ]
  },
  {
   "cell_type": "code",
   "execution_count": null,
   "id": "5ee5a026-ffc5-4905-a3bc-3fc87a0716f6",
   "metadata": {},
   "outputs": [],
   "source": [
    "i = np.ones((3,4))\n",
    "j = np.zeros((3,4))\n",
    "i,j"
   ]
  },
  {
   "cell_type": "code",
   "execution_count": null,
   "id": "2b7426fb-874a-4757-aec4-9bed17f0197d",
   "metadata": {},
   "outputs": [],
   "source": [
    "np.ones_like(i), np.zeros_like(j)"
   ]
  },
  {
   "cell_type": "code",
   "execution_count": null,
   "id": "09142192-63f1-4bf2-af50-3d215610d5b9",
   "metadata": {},
   "outputs": [],
   "source": [
    "np.identity(4), np.eye(4,3)"
   ]
  },
  {
   "cell_type": "code",
   "execution_count": null,
   "id": "5a0a3a5d-a731-45d8-ae12-ccd5fe77e125",
   "metadata": {},
   "outputs": [],
   "source": [
    "np.triu((3,4,5,6)), np.tril((3,4,5,6))"
   ]
  },
  {
   "cell_type": "markdown",
   "id": "f2b0008a-dfc1-4c0c-8a73-a19605a663b8",
   "metadata": {},
   "source": [
    "## Numpy 의 연산"
   ]
  },
  {
   "cell_type": "code",
   "execution_count": null,
   "id": "5d5429d9-70fc-42e2-8f70-7255a271648c",
   "metadata": {},
   "outputs": [],
   "source": [
    "qq = np.arange(24).reshape((4,6))\n",
    "ww = np.arange(18).reshape(6,3)\n",
    "vv = np.eye(6,3)"
   ]
  },
  {
   "cell_type": "code",
   "execution_count": null,
   "id": "7d2ec37a-4467-449f-87f5-ada9e978cd57",
   "metadata": {
    "scrolled": true
   },
   "outputs": [],
   "source": [
    "ww, vv, ww+vv, ww-vv, # qq-ww, qq+ww"
   ]
  },
  {
   "cell_type": "code",
   "execution_count": null,
   "id": "73ad5bb1-6533-4104-8d14-d574b4486b55",
   "metadata": {},
   "outputs": [],
   "source": [
    "qq * 4"
   ]
  },
  {
   "cell_type": "code",
   "execution_count": null,
   "id": "cc14702e-0902-491d-9089-cf3ef508c1fe",
   "metadata": {},
   "outputs": [],
   "source": [
    "np.dot(qq,ww)"
   ]
  },
  {
   "cell_type": "code",
   "execution_count": null,
   "id": "1b0c8f00-a56f-41a5-b41f-3bfe24a20084",
   "metadata": {},
   "outputs": [],
   "source": [
    "qq, ww, qq@ww"
   ]
  },
  {
   "cell_type": "markdown",
   "id": "a4046088-0ead-4089-86c0-06a09589b51e",
   "metadata": {},
   "source": [
    "## 넘파이의 브로드캐스팅"
   ]
  },
  {
   "cell_type": "code",
   "execution_count": 307,
   "id": "bd9ca91d-068b-4414-862d-90cbe3615a14",
   "metadata": {},
   "outputs": [
    {
     "ename": "ValueError",
     "evalue": "operands could not be broadcast together with shapes (4,6) (4,2) ",
     "output_type": "error",
     "traceback": [
      "\u001b[0;31m---------------------------------------------------------------------------\u001b[0m",
      "\u001b[0;31mValueError\u001b[0m                                Traceback (most recent call last)",
      "Cell \u001b[0;32mIn[307], line 8\u001b[0m\n\u001b[1;32m      1\u001b[0m \u001b[38;5;66;03m# 브로드캐스팅\u001b[39;00m\n\u001b[1;32m      2\u001b[0m \n\u001b[1;32m      3\u001b[0m \u001b[38;5;66;03m# 1. 차원의 크기가 같아야 합니다: 두 배열의 차원 수가 다를 경우, 더 작은 차원의 배열의 형태(shape) \u001b[39;00m\n\u001b[1;32m      4\u001b[0m \u001b[38;5;66;03m#    앞에 1을 추가하여 차원 수를 맞춥니다.\u001b[39;00m\n\u001b[1;32m      5\u001b[0m \u001b[38;5;66;03m# 2. 특정 차원에서 크기가 1인 경우, 브로드캐스팅이 가능합니다: 두 배열의 특정 차원의 크기가 같거나, \u001b[39;00m\n\u001b[1;32m      6\u001b[0m \u001b[38;5;66;03m#    한 배열에서 그 차원의 크기가 1일 때 브로드캐스팅이 가능합니다. 크기가 1인 차원은 다른 배열의 해당 차원 크기로 확장됩니다.\u001b[39;00m\n\u001b[0;32m----> 8\u001b[0m vv \u001b[38;5;241m+\u001b[39m \u001b[38;5;241m1\u001b[39m, vv \u001b[38;5;241m-\u001b[39m \u001b[38;5;241m1\u001b[39m, ww \u001b[38;5;241m+\u001b[39m [\u001b[38;5;241m1\u001b[39m,\u001b[38;5;241m2\u001b[39m,\u001b[38;5;241m3\u001b[39m], qq, \u001b[43mqq\u001b[49m\u001b[38;5;241;43m+\u001b[39;49m\u001b[43m[\u001b[49m\u001b[43m[\u001b[49m\u001b[38;5;241;43m1\u001b[39;49m\u001b[43m,\u001b[49m\u001b[38;5;241;43m2\u001b[39;49m\u001b[43m]\u001b[49m\u001b[43m,\u001b[49m\u001b[43m[\u001b[49m\u001b[38;5;241;43m3\u001b[39;49m\u001b[43m,\u001b[49m\u001b[38;5;241;43m3\u001b[39;49m\u001b[43m]\u001b[49m\u001b[43m,\u001b[49m\u001b[43m[\u001b[49m\u001b[38;5;241;43m4\u001b[39;49m\u001b[43m,\u001b[49m\u001b[38;5;241;43m5\u001b[39;49m\u001b[43m]\u001b[49m\u001b[43m,\u001b[49m\u001b[43m[\u001b[49m\u001b[38;5;241;43m1\u001b[39;49m\u001b[43m,\u001b[49m\u001b[38;5;241;43m2\u001b[39;49m\u001b[43m]\u001b[49m\u001b[43m]\u001b[49m\n\u001b[1;32m     10\u001b[0m \u001b[38;5;66;03m# (4,6) <-브로드캐스팅- (1,1)\u001b[39;00m\n\u001b[1;32m     11\u001b[0m \u001b[38;5;66;03m# (4,6) <-브로드캐스팅- (1,6)\u001b[39;00m\n\u001b[1;32m     12\u001b[0m \u001b[38;5;66;03m# (4,6) <-브로드캐스팅- (4,1)\u001b[39;00m\n\u001b[1;32m     13\u001b[0m \u001b[38;5;66;03m# (4,6) <-브로드캐스팅- (4.6) \u001b[39;00m\n\u001b[1;32m     14\u001b[0m \u001b[38;5;66;03m# (4,6) <-브로드캐스팅- (2,3) X\u001b[39;00m\n\u001b[1;32m     15\u001b[0m \u001b[38;5;66;03m# (4,6) <-브로드캐스팅- (2,6) X\u001b[39;00m\n",
      "\u001b[0;31mValueError\u001b[0m: operands could not be broadcast together with shapes (4,6) (4,2) "
     ]
    }
   ],
   "source": [
    "# 브로드캐스팅\n",
    "\n",
    "# 1. 차원의 크기가 같아야 합니다: 두 배열의 차원 수가 다를 경우, 더 작은 차원의 배열의 형태(shape) \n",
    "#    앞에 1을 추가하여 차원 수를 맞춥니다.\n",
    "# 2. 특정 차원에서 크기가 1인 경우, 브로드캐스팅이 가능합니다: 두 배열의 특정 차원의 크기가 같거나, \n",
    "#    한 배열에서 그 차원의 크기가 1일 때 브로드캐스팅이 가능합니다. 크기가 1인 차원은 다른 배열의 해당 차원 크기로 확장됩니다.\n",
    "\n",
    "vv + 1, vv - 1, ww + [1,2,3], qq, qq+[[1,2],[3,3],[4,5],[1,2]]\n",
    "\n",
    "# (4,6) <-브로드캐스팅- (1,1)\n",
    "# (4,6) <-브로드캐스팅- (1,6)\n",
    "# (4,6) <-브로드캐스팅- (4,1)\n",
    "# (4,6) <-브로드캐스팅- (4.6) \n",
    "# (4,6) <-브로드캐스팅- (2,3) X\n",
    "# (4,6) <-브로드캐스팅- (2,6) X\n",
    "\n",
    "qq+[[1,2],[3,3],[4,5],[1,2]]\n"
   ]
  },
  {
   "cell_type": "markdown",
   "id": "96db258a-bcd5-4a5e-bd85-59e06c1534e5",
   "metadata": {},
   "source": [
    "## 넘파이 인덱싱, 슬라이싱"
   ]
  },
  {
   "cell_type": "code",
   "execution_count": 312,
   "id": "0aba5b91-b77f-4cf8-9c53-e0e11200d118",
   "metadata": {},
   "outputs": [],
   "source": [
    "myndarr = np.arange(360).reshape(4,9,10)"
   ]
  },
  {
   "cell_type": "code",
   "execution_count": 313,
   "id": "6cfc79c7-65f0-4e40-9810-1eeff2d96709",
   "metadata": {},
   "outputs": [
    {
     "data": {
      "text/plain": [
       "array([[[  0,   1,   2,   3,   4,   5,   6,   7,   8,   9],\n",
       "        [ 10,  11,  12,  13,  14,  15,  16,  17,  18,  19],\n",
       "        [ 20,  21,  22,  23,  24,  25,  26,  27,  28,  29],\n",
       "        [ 30,  31,  32,  33,  34,  35,  36,  37,  38,  39],\n",
       "        [ 40,  41,  42,  43,  44,  45,  46,  47,  48,  49],\n",
       "        [ 50,  51,  52,  53,  54,  55,  56,  57,  58,  59],\n",
       "        [ 60,  61,  62,  63,  64,  65,  66,  67,  68,  69],\n",
       "        [ 70,  71,  72,  73,  74,  75,  76,  77,  78,  79],\n",
       "        [ 80,  81,  82,  83,  84,  85,  86,  87,  88,  89]],\n",
       "\n",
       "       [[ 90,  91,  92,  93,  94,  95,  96,  97,  98,  99],\n",
       "        [100, 101, 102, 103, 104, 105, 106, 107, 108, 109],\n",
       "        [110, 111, 112, 113, 114, 115, 116, 117, 118, 119],\n",
       "        [120, 121, 122, 123, 124, 125, 126, 127, 128, 129],\n",
       "        [130, 131, 132, 133, 134, 135, 136, 137, 138, 139],\n",
       "        [140, 141, 142, 143, 144, 145, 146, 147, 148, 149],\n",
       "        [150, 151, 152, 153, 154, 155, 156, 157, 158, 159],\n",
       "        [160, 161, 162, 163, 164, 165, 166, 167, 168, 169],\n",
       "        [170, 171, 172, 173, 174, 175, 176, 177, 178, 179]],\n",
       "\n",
       "       [[180, 181, 182, 183, 184, 185, 186, 187, 188, 189],\n",
       "        [190, 191, 192, 193, 194, 195, 196, 197, 198, 199],\n",
       "        [200, 201, 202, 203, 204, 205, 206, 207, 208, 209],\n",
       "        [210, 211, 212, 213, 214, 215, 216, 217, 218, 219],\n",
       "        [220, 221, 222, 223, 224, 225, 226, 227, 228, 229],\n",
       "        [230, 231, 232, 233, 234, 235, 236, 237, 238, 239],\n",
       "        [240, 241, 242, 243, 244, 245, 246, 247, 248, 249],\n",
       "        [250, 251, 252, 253, 254, 255, 256, 257, 258, 259],\n",
       "        [260, 261, 262, 263, 264, 265, 266, 267, 268, 269]],\n",
       "\n",
       "       [[270, 271, 272, 273, 274, 275, 276, 277, 278, 279],\n",
       "        [280, 281, 282, 283, 284, 285, 286, 287, 288, 289],\n",
       "        [290, 291, 292, 293, 294, 295, 296, 297, 298, 299],\n",
       "        [300, 301, 302, 303, 304, 305, 306, 307, 308, 309],\n",
       "        [310, 311, 312, 313, 314, 315, 316, 317, 318, 319],\n",
       "        [320, 321, 322, 323, 324, 325, 326, 327, 328, 329],\n",
       "        [330, 331, 332, 333, 334, 335, 336, 337, 338, 339],\n",
       "        [340, 341, 342, 343, 344, 345, 346, 347, 348, 349],\n",
       "        [350, 351, 352, 353, 354, 355, 356, 357, 358, 359]]])"
      ]
     },
     "execution_count": 313,
     "metadata": {},
     "output_type": "execute_result"
    }
   ],
   "source": [
    "myndarr"
   ]
  },
  {
   "cell_type": "code",
   "execution_count": 321,
   "id": "43480072-6cf2-40fd-b732-25e943a0a825",
   "metadata": {},
   "outputs": [
    {
     "data": {
      "text/plain": [
       "(array([ 48, 138, 228, 318]),\n",
       " array([[[131, 132],\n",
       "         [141, 142],\n",
       "         [151, 152]],\n",
       " \n",
       "        [[221, 222],\n",
       "         [231, 232],\n",
       "         [241, 242]]]),\n",
       " array([[ 70,  71,  72,  73,  74,  75,  76,  77,  78,  79],\n",
       "        [160, 161, 162, 163, 164, 165, 166, 167, 168, 169],\n",
       "        [250, 251, 252, 253, 254, 255, 256, 257, 258, 259],\n",
       "        [340, 341, 342, 343, 344, 345, 346, 347, 348, 349]]),\n",
       " array([[  8,  18,  28,  38,  48,  58,  68,  78,  88],\n",
       "        [ 98, 108, 118, 128, 138, 148, 158, 168, 178],\n",
       "        [188, 198, 208, 218, 228, 238, 248, 258, 268],\n",
       "        [278, 288, 298, 308, 318, 328, 338, 348, 358]]))"
      ]
     },
     "execution_count": 321,
     "metadata": {},
     "output_type": "execute_result"
    }
   ],
   "source": [
    "# 콤마 인덱싱\n",
    "myndarr[:,4,-2],\\\n",
    "myndarr[1:3,4:7,1:3],\\\n",
    "myndarr[:,-2,:],\\\n",
    "myndarr[:,:,-2]"
   ]
  },
  {
   "cell_type": "code",
   "execution_count": 335,
   "id": "c5532621-aeef-4446-b250-262ef48d6fc1",
   "metadata": {},
   "outputs": [],
   "source": [
    "# 불린인덱싱: 불린으로 이루어진 행렬을 마스크로 사용하여, 필요한 값을 추출해 내는 방법이다. \n",
    "arr2d = np.arange(64).reshape((8,8))"
   ]
  },
  {
   "cell_type": "code",
   "execution_count": 338,
   "id": "9f0de9dd-6163-432e-ab80-3312dbe3b04a",
   "metadata": {},
   "outputs": [
    {
     "data": {
      "text/plain": [
       "(array([[ 0,  1,  2,  3,  4,  5,  6,  7],\n",
       "        [ 8,  9, 10, 11, 12, 13, 14, 15],\n",
       "        [16, 17, 18, 19, 20, 21, 22, 23],\n",
       "        [24, 25, 26, 27, 28, 29, 30, 31],\n",
       "        [32, 33, 34, 35, 36, 37, 38, 39],\n",
       "        [40, 41, 42, 43, 44, 45, 46, 47],\n",
       "        [48, 49, 50, 51, 52, 53, 54, 55],\n",
       "        [56, 57, 58, 59, 60, 61, 62, 63]]),\n",
       " array([[16, 17, 18, 19, 20, 21, 22, 23],\n",
       "        [48, 49, 50, 51, 52, 53, 54, 55]]))"
      ]
     },
     "execution_count": 338,
     "metadata": {},
     "output_type": "execute_result"
    }
   ],
   "source": [
    "arr2d\n",
    "axis_ABC = np.array(['A','A','B','C','C','A','B','C'])\n",
    "axis_ABC\n",
    "arr2d, arr2d[axis_ABC == 'B']"
   ]
  },
  {
   "cell_type": "code",
   "execution_count": 356,
   "id": "acdcf493-61e3-49a4-8dc2-553a565cb25c",
   "metadata": {},
   "outputs": [
    {
     "data": {
      "text/plain": [
       "(8, 8, 28)"
      ]
     },
     "execution_count": 356,
     "metadata": {},
     "output_type": "execute_result"
    }
   ],
   "source": [
    "len(arr2d), len(arr2d[0]), arr2d[3,4]"
   ]
  },
  {
   "cell_type": "code",
   "execution_count": 339,
   "id": "083673bf-741a-4015-9a03-42d79d59386d",
   "metadata": {},
   "outputs": [
    {
     "data": {
      "text/plain": [
       "array([[ 0,  1,  2,  3,  4,  5,  6,  7],\n",
       "       [ 8,  9, 10, 11, 12, 13, 14, 15],\n",
       "       [16, 17, 18, 19, 20, 21, 22, 23],\n",
       "       [24, 25, 26, 27, 28, 29, 30, 31],\n",
       "       [32, 33, 34, 35, 36, 37, 38, 39],\n",
       "       [40, 41, 42, 43, 44, 45, 46, 47],\n",
       "       [48, 49, 50, 51, 52, 53, 54, 55],\n",
       "       [56, 57, 58, 59, 60, 61, 62, 63]])"
      ]
     },
     "execution_count": 339,
     "metadata": {},
     "output_type": "execute_result"
    }
   ],
   "source": [
    "for i in range(len(arr2d)):\n",
    "    for j in range(len(arr2d[i])):\n",
    "        if j%2 == 0:\n",
    "            arr2d[i, j]\n",
    "            \n",
    "            "
   ]
  },
  {
   "cell_type": "code",
   "execution_count": null,
   "id": "c8045404-f037-45d0-bc70-cbbbc9c5b9d9",
   "metadata": {},
   "outputs": [],
   "source": [
    "# 팬시인덱싱\n",
    "# "
   ]
  }
 ],
 "metadata": {
  "kernelspec": {
   "display_name": "Python 3 (ipykernel)",
   "language": "python",
   "name": "python3"
  },
  "language_info": {
   "codemirror_mode": {
    "name": "ipython",
    "version": 3
   },
   "file_extension": ".py",
   "mimetype": "text/x-python",
   "name": "python",
   "nbconvert_exporter": "python",
   "pygments_lexer": "ipython3",
   "version": "3.11.8"
  }
 },
 "nbformat": 4,
 "nbformat_minor": 5
}
