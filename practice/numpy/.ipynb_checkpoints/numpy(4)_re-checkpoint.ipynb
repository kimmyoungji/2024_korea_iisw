{
 "cells": [
  {
   "cell_type": "code",
   "execution_count": 28,
   "id": "1e424a0b-78b9-4ffc-9144-e851005f6068",
   "metadata": {},
   "outputs": [],
   "source": [
    "import numpy as np"
   ]
  },
  {
   "cell_type": "code",
   "execution_count": 52,
   "id": "47e37361-a641-48ee-ab1f-7f9572c72898",
   "metadata": {},
   "outputs": [],
   "source": [
    "# 벡터(배열)의 형태 바꾸기"
   ]
  },
  {
   "cell_type": "code",
   "execution_count": 53,
   "id": "5a253919-948a-4027-a4ae-0663c1048cf2",
   "metadata": {},
   "outputs": [],
   "source": [
    "a = np.arange(24)"
   ]
  },
  {
   "cell_type": "code",
   "execution_count": 54,
   "id": "1c3ba603-ff0e-42bf-8e14-0adeb25a2470",
   "metadata": {},
   "outputs": [
    {
     "data": {
      "text/plain": [
       "array([ 0,  1,  2,  3,  4,  5,  6,  7,  8,  9, 10, 11, 12, 13, 14, 15, 16,\n",
       "       17, 18, 19, 20, 21, 22, 23])"
      ]
     },
     "execution_count": 54,
     "metadata": {},
     "output_type": "execute_result"
    }
   ],
   "source": [
    "a"
   ]
  },
  {
   "cell_type": "code",
   "execution_count": 58,
   "id": "470f8b24-94a8-438c-a462-3e0409f103ee",
   "metadata": {},
   "outputs": [],
   "source": [
    "b = a.reshape((2,12))"
   ]
  },
  {
   "cell_type": "code",
   "execution_count": 59,
   "id": "5a9bd21f-34c0-44ad-9089-ea88d237ee48",
   "metadata": {},
   "outputs": [
    {
     "data": {
      "text/plain": [
       "array([[ 0,  1,  2,  3,  4,  5,  6,  7,  8,  9, 10, 11],\n",
       "       [12, 13, 14, 15, 16, 17, 18, 19, 20, 21, 22, 23]])"
      ]
     },
     "execution_count": 59,
     "metadata": {},
     "output_type": "execute_result"
    }
   ],
   "source": [
    "b"
   ]
  },
  {
   "cell_type": "code",
   "execution_count": 62,
   "id": "1fdfacb6-6a64-4f12-b4d0-1d4d722ce3f5",
   "metadata": {},
   "outputs": [],
   "source": [
    "c = b.copy()"
   ]
  },
  {
   "cell_type": "code",
   "execution_count": 63,
   "id": "4988318f-6732-43ae-9b94-e7271a567176",
   "metadata": {},
   "outputs": [
    {
     "data": {
      "text/plain": [
       "False"
      ]
     },
     "execution_count": 63,
     "metadata": {},
     "output_type": "execute_result"
    }
   ],
   "source": [
    "c is b"
   ]
  },
  {
   "cell_type": "code",
   "execution_count": 70,
   "id": "5b46e7cf-dc07-4012-b195-b17339e7d3d4",
   "metadata": {},
   "outputs": [],
   "source": [
    "c.resize((6,6), refcheck=False)"
   ]
  },
  {
   "cell_type": "code",
   "execution_count": 71,
   "id": "23f24090-d739-4c85-82ab-7ae091a7cb73",
   "metadata": {},
   "outputs": [
    {
     "data": {
      "text/plain": [
       "array([[ 0,  1,  2,  3,  4,  5],\n",
       "       [ 6,  7,  8,  9, 10, 11],\n",
       "       [12, 13, 14, 15, 16, 17],\n",
       "       [18, 19, 20, 21, 22, 23],\n",
       "       [ 0,  0,  0,  0,  0,  0],\n",
       "       [ 0,  0,  0,  0,  0,  0]])"
      ]
     },
     "execution_count": 71,
     "metadata": {},
     "output_type": "execute_result"
    }
   ],
   "source": [
    "c"
   ]
  },
  {
   "cell_type": "code",
   "execution_count": 72,
   "id": "2e21b6da-025b-4dd4-8fc6-cb096feba569",
   "metadata": {},
   "outputs": [],
   "source": [
    "d = c"
   ]
  },
  {
   "cell_type": "code",
   "execution_count": 73,
   "id": "31acd695-b740-4464-b2ad-5d1fedaf4a84",
   "metadata": {},
   "outputs": [
    {
     "data": {
      "text/plain": [
       "True"
      ]
     },
     "execution_count": 73,
     "metadata": {},
     "output_type": "execute_result"
    }
   ],
   "source": [
    "d is c"
   ]
  },
  {
   "cell_type": "code",
   "execution_count": 74,
   "id": "095df9fd-9b1f-4aac-9a18-8f6e73ebe07e",
   "metadata": {},
   "outputs": [],
   "source": [
    "d.resize((6,6), refcheck=False)"
   ]
  },
  {
   "cell_type": "code",
   "execution_count": 75,
   "id": "088168e6-1426-42c1-a945-fef1bbb530c1",
   "metadata": {},
   "outputs": [
    {
     "data": {
      "text/plain": [
       "array([[ 0,  1,  2,  3,  4,  5],\n",
       "       [ 6,  7,  8,  9, 10, 11],\n",
       "       [12, 13, 14, 15, 16, 17],\n",
       "       [18, 19, 20, 21, 22, 23],\n",
       "       [ 0,  0,  0,  0,  0,  0],\n",
       "       [ 0,  0,  0,  0,  0,  0]])"
      ]
     },
     "execution_count": 75,
     "metadata": {},
     "output_type": "execute_result"
    }
   ],
   "source": [
    "d"
   ]
  },
  {
   "cell_type": "code",
   "execution_count": 76,
   "id": "8bb22b14-442a-498c-a88e-d2f845a16855",
   "metadata": {},
   "outputs": [
    {
     "ename": "ValueError",
     "evalue": "cannot resize an array that references or is referenced\nby another array in this way.\nUse the np.resize function or refcheck=False",
     "output_type": "error",
     "traceback": [
      "\u001b[0;31m---------------------------------------------------------------------------\u001b[0m",
      "\u001b[0;31mValueError\u001b[0m                                Traceback (most recent call last)",
      "Cell \u001b[0;32mIn[76], line 1\u001b[0m\n\u001b[0;32m----> 1\u001b[0m \u001b[43md\u001b[49m\u001b[38;5;241;43m.\u001b[39;49m\u001b[43mresize\u001b[49m\u001b[43m(\u001b[49m\u001b[43m(\u001b[49m\u001b[38;5;241;43m10\u001b[39;49m\u001b[43m,\u001b[49m\u001b[38;5;241;43m10\u001b[39;49m\u001b[43m)\u001b[49m\u001b[43m,\u001b[49m\u001b[43m \u001b[49m\u001b[43mrefcheck\u001b[49m\u001b[38;5;241;43m=\u001b[39;49m\u001b[38;5;28;43;01mTrue\u001b[39;49;00m\u001b[43m)\u001b[49m\n",
      "\u001b[0;31mValueError\u001b[0m: cannot resize an array that references or is referenced\nby another array in this way.\nUse the np.resize function or refcheck=False"
     ]
    }
   ],
   "source": [
    "d.resize((10,10), refcheck=True)"
   ]
  },
  {
   "cell_type": "code",
   "execution_count": null,
   "id": "7b2f1f78-25b5-4391-ab24-d9285bfb67ad",
   "metadata": {},
   "outputs": [],
   "source": [
    "# 정리: resize는 독립된 배열의 shape을 변경해준다. 빈곳에는 기본으로 0을 채워준다. \n",
    "# 그리고 반환값 없이 자기자긴을 변경하기 때문에 refCheck를 통해 공유되고있는 배열인지 확인하는 기능을 제공한다."
   ]
  },
  {
   "cell_type": "code",
   "execution_count": 79,
   "id": "fdd9c966-4813-437e-aa71-5cb0b799e04e",
   "metadata": {},
   "outputs": [
    {
     "data": {
      "text/plain": [
       "array([[1, 2, 3, 4, 1, 2],\n",
       "       [3, 4, 1, 2, 3, 4],\n",
       "       [1, 2, 3, 4, 1, 2],\n",
       "       [3, 4, 1, 2, 3, 4],\n",
       "       [1, 2, 3, 4, 1, 2],\n",
       "       [3, 4, 1, 2, 3, 4]])"
      ]
     },
     "execution_count": 79,
     "metadata": {},
     "output_type": "execute_result"
    }
   ],
   "source": [
    "np.resize([1,2,3,4],(6,6))"
   ]
  },
  {
   "cell_type": "code",
   "execution_count": null,
   "id": "c5bbec5d-bb38-40b3-be87-be2534c9af63",
   "metadata": {},
   "outputs": [],
   "source": [
    "a.resize()"
   ]
  },
  {
   "cell_type": "code",
   "execution_count": 80,
   "id": "72ba3310-e746-4879-9a87-583352f8ac72",
   "metadata": {},
   "outputs": [],
   "source": [
    "a_2d = np.arange(36).reshape((6,6))"
   ]
  },
  {
   "cell_type": "code",
   "execution_count": 81,
   "id": "86e516d4-0bc0-4be9-83d1-c0c33b9ed51f",
   "metadata": {},
   "outputs": [
    {
     "data": {
      "text/plain": [
       "array([[ 0,  1,  2,  3,  4,  5],\n",
       "       [ 6,  7,  8,  9, 10, 11],\n",
       "       [12, 13, 14, 15, 16, 17],\n",
       "       [18, 19, 20, 21, 22, 23],\n",
       "       [24, 25, 26, 27, 28, 29],\n",
       "       [30, 31, 32, 33, 34, 35]])"
      ]
     },
     "execution_count": 81,
     "metadata": {},
     "output_type": "execute_result"
    }
   ],
   "source": [
    "a_2d"
   ]
  },
  {
   "cell_type": "code",
   "execution_count": 85,
   "id": "afe89e65-d43b-4527-9bf3-e239393030d3",
   "metadata": {},
   "outputs": [
    {
     "data": {
      "text/plain": [
       "array([[ 0,  1,  2,  3,  4,  5,  6,  7],\n",
       "       [ 8,  9, 10, 11, 12, 13, 14, 15],\n",
       "       [16, 17, 18, 19, 20, 21, 22, 23],\n",
       "       [24, 25, 26, 27, 28, 29, 30, 31],\n",
       "       [32, 33, 34, 35,  0,  1,  2,  3],\n",
       "       [ 4,  5,  6,  7,  8,  9, 10, 11],\n",
       "       [12, 13, 14, 15, 16, 17, 18, 19],\n",
       "       [20, 21, 22, 23, 24, 25, 26, 27]])"
      ]
     },
     "execution_count": 85,
     "metadata": {},
     "output_type": "execute_result"
    }
   ],
   "source": [
    "b_2d = np.resize(a_2d, (8,8))\n",
    "b_2d"
   ]
  },
  {
   "cell_type": "code",
   "execution_count": 84,
   "id": "a976edd9-394f-45a1-8290-481449ae0e62",
   "metadata": {},
   "outputs": [
    {
     "data": {
      "text/plain": [
       "array([[ 0,  1,  2,  3,  4,  5],\n",
       "       [ 6,  7,  8,  9, 10, 11],\n",
       "       [12, 13, 14, 15, 16, 17],\n",
       "       [18, 19, 20, 21, 22, 23],\n",
       "       [24, 25, 26, 27, 28, 29],\n",
       "       [30, 31, 32, 33, 34, 35]])"
      ]
     },
     "execution_count": 84,
     "metadata": {},
     "output_type": "execute_result"
    }
   ],
   "source": [
    "a_2d"
   ]
  },
  {
   "cell_type": "code",
   "execution_count": null,
   "id": "c2c726ac-1e10-4e4e-aa44-b0f7bc43b409",
   "metadata": {},
   "outputs": [],
   "source": [
    "a.resize( new_shape, refcheck=True )     # 자기자신을 변경 => 그래서 refcheck가 필요하다.\n",
    "np.resize( ndarray_deepcopy, new_shape ) # deep_copy"
   ]
  },
  {
   "cell_type": "code",
   "execution_count": null,
   "id": "4414e333-65a6-4899-bf78-aa686c100b7c",
   "metadata": {},
   "outputs": [],
   "source": [
    "a.reshape( new_shape )\n",
    "np.reshape( ndarray_deepcopy, new_shape )"
   ]
  },
  {
   "cell_type": "code",
   "execution_count": 86,
   "id": "3d69e6b9-2716-4d1b-b6b9-46cf011721ed",
   "metadata": {},
   "outputs": [],
   "source": [
    "a = np.arange(100).reshape((10,10))"
   ]
  },
  {
   "cell_type": "code",
   "execution_count": 87,
   "id": "cf264732-624a-4b4f-9fb5-1ec81feb476c",
   "metadata": {},
   "outputs": [
    {
     "data": {
      "text/plain": [
       "array([[ 0,  1,  2,  3,  4,  5,  6,  7,  8,  9],\n",
       "       [10, 11, 12, 13, 14, 15, 16, 17, 18, 19],\n",
       "       [20, 21, 22, 23, 24, 25, 26, 27, 28, 29],\n",
       "       [30, 31, 32, 33, 34, 35, 36, 37, 38, 39],\n",
       "       [40, 41, 42, 43, 44, 45, 46, 47, 48, 49],\n",
       "       [50, 51, 52, 53, 54, 55, 56, 57, 58, 59],\n",
       "       [60, 61, 62, 63, 64, 65, 66, 67, 68, 69],\n",
       "       [70, 71, 72, 73, 74, 75, 76, 77, 78, 79],\n",
       "       [80, 81, 82, 83, 84, 85, 86, 87, 88, 89],\n",
       "       [90, 91, 92, 93, 94, 95, 96, 97, 98, 99]])"
      ]
     },
     "execution_count": 87,
     "metadata": {},
     "output_type": "execute_result"
    }
   ],
   "source": [
    "a"
   ]
  },
  {
   "cell_type": "code",
   "execution_count": 93,
   "id": "942458d8-2a53-429e-8bf2-f116b2b6a862",
   "metadata": {},
   "outputs": [],
   "source": [
    "a = a.reshape((2,5,10))"
   ]
  },
  {
   "cell_type": "code",
   "execution_count": 94,
   "id": "bcdb2e7c-d916-45e0-bb0f-d56fb43aa3f7",
   "metadata": {},
   "outputs": [
    {
     "data": {
      "text/plain": [
       "(2, 5, 10)"
      ]
     },
     "execution_count": 94,
     "metadata": {},
     "output_type": "execute_result"
    }
   ],
   "source": [
    "a.shape"
   ]
  },
  {
   "cell_type": "code",
   "execution_count": 96,
   "id": "166ab350-d7dc-48ff-a029-d9623a143510",
   "metadata": {},
   "outputs": [
    {
     "data": {
      "text/plain": [
       "array([[20, 22, 24, 26, 28],\n",
       "       [70, 72, 74, 76, 78]])"
      ]
     },
     "execution_count": 96,
     "metadata": {},
     "output_type": "execute_result"
    }
   ],
   "source": [
    "a[:,2,::2]"
   ]
  },
  {
   "cell_type": "code",
   "execution_count": 97,
   "id": "c2dd0650-2d3d-4a14-b109-ae8ff155aac3",
   "metadata": {},
   "outputs": [
    {
     "data": {
      "text/plain": [
       "array([[[ 0,  1,  2,  3,  4,  5,  6,  7,  8,  9],\n",
       "        [10, 11, 12, 13, 14, 15, 16, 17, 18, 19],\n",
       "        [20, 21, 22, 23, 24, 25, 26, 27, 28, 29],\n",
       "        [30, 31, 32, 33, 34, 35, 36, 37, 38, 39],\n",
       "        [40, 41, 42, 43, 44, 45, 46, 47, 48, 49]],\n",
       "\n",
       "       [[50, 51, 52, 53, 54, 55, 56, 57, 58, 59],\n",
       "        [60, 61, 62, 63, 64, 65, 66, 67, 68, 69],\n",
       "        [70, 71, 72, 73, 74, 75, 76, 77, 78, 79],\n",
       "        [80, 81, 82, 83, 84, 85, 86, 87, 88, 89],\n",
       "        [90, 91, 92, 93, 94, 95, 96, 97, 98, 99]]])"
      ]
     },
     "execution_count": 97,
     "metadata": {},
     "output_type": "execute_result"
    }
   ],
   "source": [
    "a"
   ]
  },
  {
   "cell_type": "code",
   "execution_count": 98,
   "id": "7d085e9d-3f19-4be7-902d-432e0613a372",
   "metadata": {},
   "outputs": [
    {
     "data": {
      "text/plain": [
       "array([ 1, 11, 21, 31, 41])"
      ]
     },
     "execution_count": 98,
     "metadata": {},
     "output_type": "execute_result"
    }
   ],
   "source": [
    "a[0,:,1]"
   ]
  },
  {
   "cell_type": "code",
   "execution_count": 102,
   "id": "a674bfc2-a4d5-45d2-92bb-3c89389f3600",
   "metadata": {},
   "outputs": [
    {
     "data": {
      "text/plain": [
       "array([[26, 27, 28, 29],\n",
       "       [76, 77, 78, 79]])"
      ]
     },
     "execution_count": 102,
     "metadata": {},
     "output_type": "execute_result"
    }
   ],
   "source": [
    "a[:,2,-4:]"
   ]
  },
  {
   "cell_type": "code",
   "execution_count": 106,
   "id": "c2eae280-f1b9-4964-9798-60d875caaef7",
   "metadata": {},
   "outputs": [],
   "source": [
    "a = a.reshape(5,4,5)"
   ]
  },
  {
   "cell_type": "code",
   "execution_count": 107,
   "id": "2b2f9058-0152-4a02-a6a0-23f01d1870d1",
   "metadata": {},
   "outputs": [
    {
     "data": {
      "text/plain": [
       "array([[[ 0,  1,  2,  3,  4],\n",
       "        [ 5,  6,  7,  8,  9],\n",
       "        [10, 11, 12, 13, 14],\n",
       "        [15, 16, 17, 18, 19]],\n",
       "\n",
       "       [[20, 21, 22, 23, 24],\n",
       "        [25, 26, 27, 28, 29],\n",
       "        [30, 31, 32, 33, 34],\n",
       "        [35, 36, 37, 38, 39]],\n",
       "\n",
       "       [[40, 41, 42, 43, 44],\n",
       "        [45, 46, 47, 48, 49],\n",
       "        [50, 51, 52, 53, 54],\n",
       "        [55, 56, 57, 58, 59]],\n",
       "\n",
       "       [[60, 61, 62, 63, 64],\n",
       "        [65, 66, 67, 68, 69],\n",
       "        [70, 71, 72, 73, 74],\n",
       "        [75, 76, 77, 78, 79]],\n",
       "\n",
       "       [[80, 81, 82, 83, 84],\n",
       "        [85, 86, 87, 88, 89],\n",
       "        [90, 91, 92, 93, 94],\n",
       "        [95, 96, 97, 98, 99]]])"
      ]
     },
     "execution_count": 107,
     "metadata": {},
     "output_type": "execute_result"
    }
   ],
   "source": [
    "a"
   ]
  },
  {
   "cell_type": "code",
   "execution_count": 109,
   "id": "ed1bc92d-9d34-44bb-ad46-84d729d796d4",
   "metadata": {},
   "outputs": [
    {
     "data": {
      "text/plain": [
       "array([[[40, 41, 42, 43, 44],\n",
       "        [45, 46, 47, 48, 49],\n",
       "        [50, 51, 52, 53, 54],\n",
       "        [55, 56, 57, 58, 59]],\n",
       "\n",
       "       [[60, 61, 62, 63, 64],\n",
       "        [65, 66, 67, 68, 69],\n",
       "        [70, 71, 72, 73, 74],\n",
       "        [75, 76, 77, 78, 79]]])"
      ]
     },
     "execution_count": 109,
     "metadata": {},
     "output_type": "execute_result"
    }
   ],
   "source": [
    "a[2:4,...]"
   ]
  },
  {
   "cell_type": "code",
   "execution_count": 110,
   "id": "7dcb42fa-f819-4d86-bcd9-ccbbfc862f18",
   "metadata": {},
   "outputs": [
    {
     "data": {
      "text/plain": [
       "array([[[ 0,  1,  2,  3,  4],\n",
       "        [ 5,  6,  7,  8,  9],\n",
       "        [10, 11, 12, 13, 14],\n",
       "        [15, 16, 17, 18, 19]],\n",
       "\n",
       "       [[20, 21, 22, 23, 24],\n",
       "        [25, 26, 27, 28, 29],\n",
       "        [30, 31, 32, 33, 34],\n",
       "        [35, 36, 37, 38, 39]],\n",
       "\n",
       "       [[40, 41, 42, 43, 44],\n",
       "        [45, 46, 47, 48, 49],\n",
       "        [50, 51, 52, 53, 54],\n",
       "        [55, 56, 57, 58, 59]],\n",
       "\n",
       "       [[60, 61, 62, 63, 64],\n",
       "        [65, 66, 67, 68, 69],\n",
       "        [70, 71, 72, 73, 74],\n",
       "        [75, 76, 77, 78, 79]],\n",
       "\n",
       "       [[80, 81, 82, 83, 84],\n",
       "        [85, 86, 87, 88, 89],\n",
       "        [90, 91, 92, 93, 94],\n",
       "        [95, 96, 97, 98, 99]]])"
      ]
     },
     "execution_count": 110,
     "metadata": {},
     "output_type": "execute_result"
    }
   ],
   "source": [
    "a"
   ]
  },
  {
   "cell_type": "code",
   "execution_count": 111,
   "id": "d7a06936-cd1c-4435-bea1-b273435cd54a",
   "metadata": {},
   "outputs": [],
   "source": [
    "b = a[0]"
   ]
  },
  {
   "cell_type": "code",
   "execution_count": 112,
   "id": "ca59e928-5ca9-4cdb-9329-f8d0c2780573",
   "metadata": {},
   "outputs": [
    {
     "data": {
      "text/plain": [
       "array([[ 0,  1,  2,  3,  4],\n",
       "       [ 5,  6,  7,  8,  9],\n",
       "       [10, 11, 12, 13, 14],\n",
       "       [15, 16, 17, 18, 19]])"
      ]
     },
     "execution_count": 112,
     "metadata": {},
     "output_type": "execute_result"
    }
   ],
   "source": [
    "b"
   ]
  },
  {
   "cell_type": "code",
   "execution_count": 113,
   "id": "b053548f-6a95-49ae-a7a9-0994260641f3",
   "metadata": {},
   "outputs": [
    {
     "data": {
      "text/plain": [
       "array([[[ 0,  1,  2,  3,  4],\n",
       "        [ 5,  6,  7,  8,  9],\n",
       "        [10, 11, 12, 13, 14],\n",
       "        [15, 16, 17, 18, 19]]])"
      ]
     },
     "execution_count": 113,
     "metadata": {},
     "output_type": "execute_result"
    }
   ],
   "source": [
    "b[None]"
   ]
  },
  {
   "cell_type": "code",
   "execution_count": 117,
   "id": "67f0837a-46fd-4050-b564-5892a6c75b1a",
   "metadata": {},
   "outputs": [
    {
     "data": {
      "text/plain": [
       "array([[[ 0,  1,  2,  3,  4]],\n",
       "\n",
       "       [[ 5,  6,  7,  8,  9]],\n",
       "\n",
       "       [[10, 11, 12, 13, 14]],\n",
       "\n",
       "       [[15, 16, 17, 18, 19]]])"
      ]
     },
     "execution_count": 117,
     "metadata": {},
     "output_type": "execute_result"
    }
   ],
   "source": [
    "b[:,None]"
   ]
  },
  {
   "cell_type": "code",
   "execution_count": 119,
   "id": "6d96a4d1-494b-41e9-81a3-daa49141f0fb",
   "metadata": {},
   "outputs": [
    {
     "data": {
      "text/plain": [
       "array([[[ 0],\n",
       "        [ 1],\n",
       "        [ 2],\n",
       "        [ 3],\n",
       "        [ 4]],\n",
       "\n",
       "       [[ 5],\n",
       "        [ 6],\n",
       "        [ 7],\n",
       "        [ 8],\n",
       "        [ 9]],\n",
       "\n",
       "       [[10],\n",
       "        [11],\n",
       "        [12],\n",
       "        [13],\n",
       "        [14]],\n",
       "\n",
       "       [[15],\n",
       "        [16],\n",
       "        [17],\n",
       "        [18],\n",
       "        [19]]])"
      ]
     },
     "execution_count": 119,
     "metadata": {},
     "output_type": "execute_result"
    }
   ],
   "source": [
    "b[:,:,None]"
   ]
  },
  {
   "cell_type": "code",
   "execution_count": 123,
   "id": "cd301712-2464-4fbc-a8b3-84e810acec05",
   "metadata": {},
   "outputs": [],
   "source": [
    "animals = np.array( \\\n",
    "    [('Rabbit', 400),('hippo', 1), ('tiger',1),('cow', 100)],\\\n",
    "    dtype=[('animal_name', '<U10'),('count', '<i4')])"
   ]
  },
  {
   "cell_type": "code",
   "execution_count": 124,
   "id": "f7b33e06-77ef-4a42-a03b-5020516c3a30",
   "metadata": {},
   "outputs": [
    {
     "data": {
      "text/plain": [
       "('Rabbit', 400)"
      ]
     },
     "execution_count": 124,
     "metadata": {},
     "output_type": "execute_result"
    }
   ],
   "source": [
    "animals[0]"
   ]
  },
  {
   "cell_type": "code",
   "execution_count": 131,
   "id": "8dc649de-c75c-4ce1-908b-b50890de333a",
   "metadata": {},
   "outputs": [
    {
     "data": {
      "text/plain": [
       "(('Rabbit', 400),\n",
       " array(['Rabbit', 'hippo', 'tiger', 'cow'], dtype='<U10'),\n",
       " array([400,   1,   1, 100], dtype=int32))"
      ]
     },
     "execution_count": 131,
     "metadata": {},
     "output_type": "execute_result"
    }
   ],
   "source": [
    "animals[0],animals['animal_name'], animals['count']"
   ]
  },
  {
   "cell_type": "code",
   "execution_count": 132,
   "id": "0abe0f5a-1a95-4028-930b-31d14aed8f00",
   "metadata": {},
   "outputs": [],
   "source": [
    "a = np.arange(100).reshape((10,10))"
   ]
  },
  {
   "cell_type": "code",
   "execution_count": 133,
   "id": "e3593f3a-c5e3-4edd-99ce-57062bec7e47",
   "metadata": {},
   "outputs": [
    {
     "data": {
      "text/plain": [
       "array([[ 0,  1,  2,  3,  4,  5,  6,  7,  8,  9],\n",
       "       [10, 11, 12, 13, 14, 15, 16, 17, 18, 19],\n",
       "       [20, 21, 22, 23, 24, 25, 26, 27, 28, 29],\n",
       "       [30, 31, 32, 33, 34, 35, 36, 37, 38, 39],\n",
       "       [40, 41, 42, 43, 44, 45, 46, 47, 48, 49],\n",
       "       [50, 51, 52, 53, 54, 55, 56, 57, 58, 59],\n",
       "       [60, 61, 62, 63, 64, 65, 66, 67, 68, 69],\n",
       "       [70, 71, 72, 73, 74, 75, 76, 77, 78, 79],\n",
       "       [80, 81, 82, 83, 84, 85, 86, 87, 88, 89],\n",
       "       [90, 91, 92, 93, 94, 95, 96, 97, 98, 99]])"
      ]
     },
     "execution_count": 133,
     "metadata": {},
     "output_type": "execute_result"
    }
   ],
   "source": [
    "a"
   ]
  },
  {
   "cell_type": "code",
   "execution_count": 134,
   "id": "b656201f-b21b-4604-8e8e-4e578f76cf8e",
   "metadata": {},
   "outputs": [],
   "source": [
    "b = a.flatten()"
   ]
  },
  {
   "cell_type": "code",
   "execution_count": 135,
   "id": "22b621e1-6046-480c-90ce-5901817933e1",
   "metadata": {},
   "outputs": [
    {
     "data": {
      "text/plain": [
       "array([[ 0,  1,  2,  3,  4,  5,  6,  7,  8,  9],\n",
       "       [10, 11, 12, 13, 14, 15, 16, 17, 18, 19],\n",
       "       [20, 21, 22, 23, 24, 25, 26, 27, 28, 29],\n",
       "       [30, 31, 32, 33, 34, 35, 36, 37, 38, 39],\n",
       "       [40, 41, 42, 43, 44, 45, 46, 47, 48, 49],\n",
       "       [50, 51, 52, 53, 54, 55, 56, 57, 58, 59],\n",
       "       [60, 61, 62, 63, 64, 65, 66, 67, 68, 69],\n",
       "       [70, 71, 72, 73, 74, 75, 76, 77, 78, 79],\n",
       "       [80, 81, 82, 83, 84, 85, 86, 87, 88, 89],\n",
       "       [90, 91, 92, 93, 94, 95, 96, 97, 98, 99]])"
      ]
     },
     "execution_count": 135,
     "metadata": {},
     "output_type": "execute_result"
    }
   ],
   "source": [
    "a"
   ]
  },
  {
   "cell_type": "code",
   "execution_count": 136,
   "id": "4d833032-ddc1-415a-a81b-37faec64ca22",
   "metadata": {},
   "outputs": [
    {
     "data": {
      "text/plain": [
       "array([ 0,  1,  2,  3,  4,  5,  6,  7,  8,  9, 10, 11, 12, 13, 14, 15, 16,\n",
       "       17, 18, 19, 20, 21, 22, 23, 24, 25, 26, 27, 28, 29, 30, 31, 32, 33,\n",
       "       34, 35, 36, 37, 38, 39, 40, 41, 42, 43, 44, 45, 46, 47, 48, 49, 50,\n",
       "       51, 52, 53, 54, 55, 56, 57, 58, 59, 60, 61, 62, 63, 64, 65, 66, 67,\n",
       "       68, 69, 70, 71, 72, 73, 74, 75, 76, 77, 78, 79, 80, 81, 82, 83, 84,\n",
       "       85, 86, 87, 88, 89, 90, 91, 92, 93, 94, 95, 96, 97, 98, 99])"
      ]
     },
     "execution_count": 136,
     "metadata": {},
     "output_type": "execute_result"
    }
   ],
   "source": [
    "b"
   ]
  },
  {
   "cell_type": "code",
   "execution_count": 137,
   "id": "c0a45913-829c-4c8c-97d2-6f1bed90ff78",
   "metadata": {},
   "outputs": [],
   "source": [
    "a[0,0] = 100"
   ]
  },
  {
   "cell_type": "code",
   "execution_count": 138,
   "id": "893923df-614b-465e-93b9-48a8f3b44120",
   "metadata": {},
   "outputs": [
    {
     "data": {
      "text/plain": [
       "array([ 0,  1,  2,  3,  4,  5,  6,  7,  8,  9, 10, 11, 12, 13, 14, 15, 16,\n",
       "       17, 18, 19, 20, 21, 22, 23, 24, 25, 26, 27, 28, 29, 30, 31, 32, 33,\n",
       "       34, 35, 36, 37, 38, 39, 40, 41, 42, 43, 44, 45, 46, 47, 48, 49, 50,\n",
       "       51, 52, 53, 54, 55, 56, 57, 58, 59, 60, 61, 62, 63, 64, 65, 66, 67,\n",
       "       68, 69, 70, 71, 72, 73, 74, 75, 76, 77, 78, 79, 80, 81, 82, 83, 84,\n",
       "       85, 86, 87, 88, 89, 90, 91, 92, 93, 94, 95, 96, 97, 98, 99])"
      ]
     },
     "execution_count": 138,
     "metadata": {},
     "output_type": "execute_result"
    }
   ],
   "source": [
    "b"
   ]
  },
  {
   "cell_type": "code",
   "execution_count": 139,
   "id": "b29fb5d6-5cfd-4411-a40f-5edc3d1c2c3b",
   "metadata": {},
   "outputs": [
    {
     "data": {
      "text/plain": [
       "array([[100,   1,   2,   3,   4,   5,   6,   7,   8,   9],\n",
       "       [ 10,  11,  12,  13,  14,  15,  16,  17,  18,  19],\n",
       "       [ 20,  21,  22,  23,  24,  25,  26,  27,  28,  29],\n",
       "       [ 30,  31,  32,  33,  34,  35,  36,  37,  38,  39],\n",
       "       [ 40,  41,  42,  43,  44,  45,  46,  47,  48,  49],\n",
       "       [ 50,  51,  52,  53,  54,  55,  56,  57,  58,  59],\n",
       "       [ 60,  61,  62,  63,  64,  65,  66,  67,  68,  69],\n",
       "       [ 70,  71,  72,  73,  74,  75,  76,  77,  78,  79],\n",
       "       [ 80,  81,  82,  83,  84,  85,  86,  87,  88,  89],\n",
       "       [ 90,  91,  92,  93,  94,  95,  96,  97,  98,  99]])"
      ]
     },
     "execution_count": 139,
     "metadata": {},
     "output_type": "execute_result"
    }
   ],
   "source": [
    "a"
   ]
  },
  {
   "cell_type": "code",
   "execution_count": 140,
   "id": "316ed0a3-2b39-4f7c-989b-b7bda38cec49",
   "metadata": {},
   "outputs": [],
   "source": [
    "b[0] = 100"
   ]
  },
  {
   "cell_type": "code",
   "execution_count": 141,
   "id": "d45c461b-74b3-40b6-8f87-d2fbdce1bf42",
   "metadata": {},
   "outputs": [
    {
     "data": {
      "text/plain": [
       "array([100,   1,   2,   3,   4,   5,   6,   7,   8,   9,  10,  11,  12,\n",
       "        13,  14,  15,  16,  17,  18,  19,  20,  21,  22,  23,  24,  25,\n",
       "        26,  27,  28,  29,  30,  31,  32,  33,  34,  35,  36,  37,  38,\n",
       "        39,  40,  41,  42,  43,  44,  45,  46,  47,  48,  49,  50,  51,\n",
       "        52,  53,  54,  55,  56,  57,  58,  59,  60,  61,  62,  63,  64,\n",
       "        65,  66,  67,  68,  69,  70,  71,  72,  73,  74,  75,  76,  77,\n",
       "        78,  79,  80,  81,  82,  83,  84,  85,  86,  87,  88,  89,  90,\n",
       "        91,  92,  93,  94,  95,  96,  97,  98,  99])"
      ]
     },
     "execution_count": 141,
     "metadata": {},
     "output_type": "execute_result"
    }
   ],
   "source": [
    "b"
   ]
  },
  {
   "cell_type": "code",
   "execution_count": 142,
   "id": "ea0fed32-8784-46a3-9903-8718fe3d72a7",
   "metadata": {},
   "outputs": [
    {
     "data": {
      "text/plain": [
       "array([[ 0,  1,  2,  3,  4,  5,  6,  7,  8,  9],\n",
       "       [10, 11, 12, 13, 14, 15, 16, 17, 18, 19],\n",
       "       [20, 21, 22, 23, 24, 25, 26, 27, 28, 29],\n",
       "       [30, 31, 32, 33, 34, 35, 36, 37, 38, 39],\n",
       "       [40, 41, 42, 43, 44, 45, 46, 47, 48, 49],\n",
       "       [50, 51, 52, 53, 54, 55, 56, 57, 58, 59],\n",
       "       [60, 61, 62, 63, 64, 65, 66, 67, 68, 69],\n",
       "       [70, 71, 72, 73, 74, 75, 76, 77, 78, 79],\n",
       "       [80, 81, 82, 83, 84, 85, 86, 87, 88, 89],\n",
       "       [90, 91, 92, 93, 94, 95, 96, 97, 98, 99]])"
      ]
     },
     "execution_count": 142,
     "metadata": {},
     "output_type": "execute_result"
    }
   ],
   "source": [
    "c = np.arange(100).reshape((10,10))\n",
    "c"
   ]
  },
  {
   "cell_type": "code",
   "execution_count": 144,
   "id": "9d23a4b3-d4bf-48d3-9cb5-7b677d02167d",
   "metadata": {},
   "outputs": [],
   "source": [
    "d = c.ravel()"
   ]
  },
  {
   "cell_type": "code",
   "execution_count": 146,
   "id": "18a3f79b-d14d-4faf-b2c9-d7eda61aeda6",
   "metadata": {},
   "outputs": [],
   "source": [
    "c[0,0] = 100"
   ]
  },
  {
   "cell_type": "code",
   "execution_count": 147,
   "id": "77ec1d6c-e47d-4bdd-87a5-c75d76005b06",
   "metadata": {},
   "outputs": [
    {
     "data": {
      "text/plain": [
       "array([[100,   1,   2,   3,   4,   5,   6,   7,   8,   9],\n",
       "       [ 10,  11,  12,  13,  14,  15,  16,  17,  18,  19],\n",
       "       [ 20,  21,  22,  23,  24,  25,  26,  27,  28,  29],\n",
       "       [ 30,  31,  32,  33,  34,  35,  36,  37,  38,  39],\n",
       "       [ 40,  41,  42,  43,  44,  45,  46,  47,  48,  49],\n",
       "       [ 50,  51,  52,  53,  54,  55,  56,  57,  58,  59],\n",
       "       [ 60,  61,  62,  63,  64,  65,  66,  67,  68,  69],\n",
       "       [ 70,  71,  72,  73,  74,  75,  76,  77,  78,  79],\n",
       "       [ 80,  81,  82,  83,  84,  85,  86,  87,  88,  89],\n",
       "       [ 90,  91,  92,  93,  94,  95,  96,  97,  98,  99]])"
      ]
     },
     "execution_count": 147,
     "metadata": {},
     "output_type": "execute_result"
    }
   ],
   "source": [
    "c"
   ]
  },
  {
   "cell_type": "code",
   "execution_count": 148,
   "id": "8e1ddc8b-4f2d-4dcf-a4c6-a53aaaaf6d31",
   "metadata": {},
   "outputs": [
    {
     "data": {
      "text/plain": [
       "array([100,   1,   2,   3,   4,   5,   6,   7,   8,   9,  10,  11,  12,\n",
       "        13,  14,  15,  16,  17,  18,  19,  20,  21,  22,  23,  24,  25,\n",
       "        26,  27,  28,  29,  30,  31,  32,  33,  34,  35,  36,  37,  38,\n",
       "        39,  40,  41,  42,  43,  44,  45,  46,  47,  48,  49,  50,  51,\n",
       "        52,  53,  54,  55,  56,  57,  58,  59,  60,  61,  62,  63,  64,\n",
       "        65,  66,  67,  68,  69,  70,  71,  72,  73,  74,  75,  76,  77,\n",
       "        78,  79,  80,  81,  82,  83,  84,  85,  86,  87,  88,  89,  90,\n",
       "        91,  92,  93,  94,  95,  96,  97,  98,  99])"
      ]
     },
     "execution_count": 148,
     "metadata": {},
     "output_type": "execute_result"
    }
   ],
   "source": [
    "d"
   ]
  },
  {
   "cell_type": "code",
   "execution_count": 149,
   "id": "27d9ac38-186d-41bb-9642-d3406d4276b1",
   "metadata": {},
   "outputs": [],
   "source": [
    "d[0]= 200"
   ]
  },
  {
   "cell_type": "code",
   "execution_count": 150,
   "id": "24983f34-ab2e-4e48-8d60-2f116d14b95a",
   "metadata": {},
   "outputs": [
    {
     "data": {
      "text/plain": [
       "array([[200,   1,   2,   3,   4,   5,   6,   7,   8,   9],\n",
       "       [ 10,  11,  12,  13,  14,  15,  16,  17,  18,  19],\n",
       "       [ 20,  21,  22,  23,  24,  25,  26,  27,  28,  29],\n",
       "       [ 30,  31,  32,  33,  34,  35,  36,  37,  38,  39],\n",
       "       [ 40,  41,  42,  43,  44,  45,  46,  47,  48,  49],\n",
       "       [ 50,  51,  52,  53,  54,  55,  56,  57,  58,  59],\n",
       "       [ 60,  61,  62,  63,  64,  65,  66,  67,  68,  69],\n",
       "       [ 70,  71,  72,  73,  74,  75,  76,  77,  78,  79],\n",
       "       [ 80,  81,  82,  83,  84,  85,  86,  87,  88,  89],\n",
       "       [ 90,  91,  92,  93,  94,  95,  96,  97,  98,  99]])"
      ]
     },
     "execution_count": 150,
     "metadata": {},
     "output_type": "execute_result"
    }
   ],
   "source": [
    "c"
   ]
  },
  {
   "cell_type": "code",
   "execution_count": 151,
   "id": "f900825e-40ad-46e4-aff8-10865da0cfd4",
   "metadata": {},
   "outputs": [],
   "source": [
    "f = np.ravel(c)"
   ]
  },
  {
   "cell_type": "code",
   "execution_count": 153,
   "id": "a7524d7f-779d-4368-9eed-ec7ac1fdc846",
   "metadata": {},
   "outputs": [],
   "source": [
    "f[0] = 300"
   ]
  },
  {
   "cell_type": "code",
   "execution_count": 154,
   "id": "8c550d62-cad7-4a11-a3aa-b5501b7d25a4",
   "metadata": {},
   "outputs": [
    {
     "data": {
      "text/plain": [
       "array([[300,   1,   2,   3,   4,   5,   6,   7,   8,   9],\n",
       "       [ 10,  11,  12,  13,  14,  15,  16,  17,  18,  19],\n",
       "       [ 20,  21,  22,  23,  24,  25,  26,  27,  28,  29],\n",
       "       [ 30,  31,  32,  33,  34,  35,  36,  37,  38,  39],\n",
       "       [ 40,  41,  42,  43,  44,  45,  46,  47,  48,  49],\n",
       "       [ 50,  51,  52,  53,  54,  55,  56,  57,  58,  59],\n",
       "       [ 60,  61,  62,  63,  64,  65,  66,  67,  68,  69],\n",
       "       [ 70,  71,  72,  73,  74,  75,  76,  77,  78,  79],\n",
       "       [ 80,  81,  82,  83,  84,  85,  86,  87,  88,  89],\n",
       "       [ 90,  91,  92,  93,  94,  95,  96,  97,  98,  99]])"
      ]
     },
     "execution_count": 154,
     "metadata": {},
     "output_type": "execute_result"
    }
   ],
   "source": [
    "c"
   ]
  },
  {
   "cell_type": "code",
   "execution_count": null,
   "id": "78e082b8-efc0-4e8d-b04f-9f3ddc8aece5",
   "metadata": {},
   "outputs": [],
   "source": [
    "bigdata = np.arange(1000)"
   ]
  },
  {
   "cell_type": "code",
   "execution_count": 155,
   "id": "bef89266-a66e-4db5-94d5-7ab805d0e259",
   "metadata": {},
   "outputs": [],
   "source": [
    "a  = 10"
   ]
  },
  {
   "cell_type": "code",
   "execution_count": 156,
   "id": "c733451c-1499-4cad-8ed0-61768ce44ca0",
   "metadata": {},
   "outputs": [
    {
     "ename": "SyntaxError",
     "evalue": "expected ':' (1871266785.py, line 1)",
     "output_type": "error",
     "traceback": [
      "\u001b[0;36m  Cell \u001b[0;32mIn[156], line 1\u001b[0;36m\u001b[0m\n\u001b[0;31m    with a\u001b[0m\n\u001b[0m          ^\u001b[0m\n\u001b[0;31mSyntaxError\u001b[0m\u001b[0;31m:\u001b[0m expected ':'\n"
     ]
    }
   ],
   "source": [
    "with a"
   ]
  },
  {
   "cell_type": "code",
   "execution_count": 157,
   "id": "381bfb13-443f-4331-98bf-7dbfff283b52",
   "metadata": {},
   "outputs": [
    {
     "ename": "SyntaxError",
     "evalue": "incomplete input (2194699984.py, line 1)",
     "output_type": "error",
     "traceback": [
      "\u001b[0;36m  Cell \u001b[0;32mIn[157], line 1\u001b[0;36m\u001b[0m\n\u001b[0;31m    with a :\u001b[0m\n\u001b[0m            ^\u001b[0m\n\u001b[0;31mSyntaxError\u001b[0m\u001b[0;31m:\u001b[0m incomplete input\n"
     ]
    }
   ],
   "source": [
    "with a :"
   ]
  },
  {
   "cell_type": "code",
   "execution_count": 158,
   "id": "06cf967c-6e95-4f01-871a-c309b940f780",
   "metadata": {},
   "outputs": [
    {
     "ename": "TypeError",
     "evalue": "'int' object does not support the context manager protocol",
     "output_type": "error",
     "traceback": [
      "\u001b[0;31m---------------------------------------------------------------------------\u001b[0m",
      "\u001b[0;31mTypeError\u001b[0m                                 Traceback (most recent call last)",
      "Cell \u001b[0;32mIn[158], line 1\u001b[0m\n\u001b[0;32m----> 1\u001b[0m \u001b[38;5;28;43;01mwith\u001b[39;49;00m\u001b[43m \u001b[49m\u001b[43ma\u001b[49m\u001b[43m:\u001b[49m\n\u001b[1;32m      2\u001b[0m \u001b[43m    \u001b[49m\u001b[38;5;28;43;01mpass\u001b[39;49;00m\n",
      "\u001b[0;31mTypeError\u001b[0m: 'int' object does not support the context manager protocol"
     ]
    }
   ],
   "source": [
    "with a:\n",
    "    pass"
   ]
  },
  {
   "cell_type": "code",
   "execution_count": 162,
   "id": "e1e5995e-9a9d-499c-9395-6404309adf80",
   "metadata": {},
   "outputs": [],
   "source": [
    "class A:\n",
    "    def __enter__(self):\n",
    "        print('enter')\n",
    "    def __exit__(self,a,b,c):\n",
    "        print('exit')"
   ]
  },
  {
   "cell_type": "code",
   "execution_count": 163,
   "id": "80e661d4-f8ad-4511-a15b-03cf76623acd",
   "metadata": {},
   "outputs": [],
   "source": [
    "a = A()"
   ]
  },
  {
   "cell_type": "code",
   "execution_count": 165,
   "id": "810b42a7-307c-4569-9149-e34049967b16",
   "metadata": {},
   "outputs": [
    {
     "name": "stdout",
     "output_type": "stream",
     "text": [
      "enter\n",
      "--------------\n",
      "exit\n"
     ]
    }
   ],
   "source": [
    "with a:\n",
    "    print('--------------')\n",
    "    pass"
   ]
  },
  {
   "cell_type": "code",
   "execution_count": 201,
   "id": "17fbd582-378e-45bb-8a9c-6f3e38ba679f",
   "metadata": {},
   "outputs": [],
   "source": [
    "a = open('./test.txt')"
   ]
  },
  {
   "cell_type": "code",
   "execution_count": 202,
   "id": "93447874-ab05-440b-afcb-43d6de537715",
   "metadata": {},
   "outputs": [],
   "source": [
    "b = a.buffer.read()"
   ]
  },
  {
   "cell_type": "code",
   "execution_count": 203,
   "id": "656f5899-566b-4db5-9c6e-c8d6c79f2793",
   "metadata": {},
   "outputs": [
    {
     "data": {
      "text/plain": [
       "b'asdf\\nasdf\\nasd\\nfa\\nsdf\\nasd\\nfa\\nsd\\nfa\\nsd\\nfas\\ndf'"
      ]
     },
     "execution_count": 203,
     "metadata": {},
     "output_type": "execute_result"
    }
   ],
   "source": [
    "b"
   ]
  },
  {
   "cell_type": "code",
   "execution_count": 214,
   "id": "83c3aca5-9424-4447-9dcb-86e8a4785892",
   "metadata": {},
   "outputs": [],
   "source": [
    "with open('./test.txt','w',encoding='UTF-8') as f:\n",
    "    contents = '''\n",
    "The Zen of Python, by Tim Peters\n",
    "\n",
    "Beautiful is better than ugly.\n",
    "Explicit is better than implicit.\n",
    "Simple is better than complex.\n",
    "Complex is better than complicated.\n",
    "Flat is better than nested.\n",
    "Sparse is better than dense.\n",
    "Readability counts.\n",
    "Special cases aren't special enough to break the rules.\n",
    "Although practicality beats purity.\n",
    "Errors should never pass silently.\n",
    "Unless explicitly silenced.\n",
    "In the face of ambiguity, refuse the temptation to guess.\n",
    "There should be one-- and preferably only one --obvious way to do it.\n",
    "Although that way may not be obvious at first unless you're Dutch.\n",
    "Now is better than never.\n",
    "Although never is often better than *right* now.\n",
    "If the implementation is hard to explain, it's a bad idea.\n",
    "If the implementation is easy to explain, it may be a good idea.\n",
    "Namespaces are one honking great idea -- let's do more of those!\n",
    "    '''\n",
    "    f.write(contents)"
   ]
  },
  {
   "cell_type": "code",
   "execution_count": 215,
   "id": "a3b20d9f-d96c-4351-abd2-cde08b2b79d2",
   "metadata": {},
   "outputs": [
    {
     "name": "stdout",
     "output_type": "stream",
     "text": [
      "\n",
      "The Zen of Python, by Tim Peters\n",
      "\n",
      "Beautiful is better than ugly.\n",
      "Explicit is better than implicit.\n",
      "Simple is better than complex.\n",
      "Complex is better than complicated.\n",
      "Flat is better than nested.\n",
      "Sparse is better than dense.\n",
      "Readability counts.\n",
      "Special cases aren't special enough to break the rules.\n",
      "Although practicality beats purity.\n",
      "Errors should never pass silently.\n",
      "Unless explicitly silenced.\n",
      "In the face of ambiguity, refuse the temptation to guess.\n",
      "There should be one-- and preferably only one --obvious way to do it.\n",
      "Although that way may not be obvious at first unless you're Dutch.\n",
      "Now is better than never.\n",
      "Although never is often better than *right* now.\n",
      "If the implementation is hard to explain, it's a bad idea.\n",
      "If the implementation is easy to explain, it may be a good idea.\n",
      "Namespaces are one honking great idea -- let's do more of those!\n",
      "    \n"
     ]
    }
   ],
   "source": [
    "with open('./test.txt','r',encoding='UTF-8') as f:\n",
    "    contents = f.read(-1)\n",
    "    print(contents)"
   ]
  },
  {
   "cell_type": "code",
   "execution_count": 241,
   "id": "444fd016-a5cc-43b0-91b1-054eba627d58",
   "metadata": {},
   "outputs": [
    {
     "name": "stdout",
     "output_type": "stream",
     "text": [
      "['\\nThe', 'Zen', 'of', 'Python,', 'by', 'Tim', 'Peters\\n\\nBeautiful', 'is', 'better', 'than', 'ugly.\\nExplicit', 'is', 'better', 'than', 'implicit.\\nSimple', 'is', 'better', 'than', 'complex.\\nComplex', 'is', 'better', 'than', 'complicated.\\nFlat', 'is', 'better', 'than', 'nested.\\nSparse', 'is', 'better', 'than', 'dense.\\nReadability', 'counts.\\nSpecial', 'cases', \"aren't\", 'special', 'enough', 'to', 'break', 'the', 'rules.\\nAlthough', 'practicality', 'beats', 'purity.\\nErrors', 'should', 'never', 'pass', 'silently.\\nUnless', 'explicitly', 'silenced.\\nIn', 'the', 'face', 'of', 'ambiguity,', 'refuse', 'the', 'temptation', 'to', 'guess.\\nThere', 'should', 'be', 'one--', 'and', 'preferably', 'only', 'one', '--obvious', 'way', 'to', 'do', 'it.\\nAlthough', 'that', 'way', 'may', 'not', 'be', 'obvious', 'at', 'first', 'unless', \"you're\", 'Dutch.\\nNow', 'is', 'better', 'than', 'never.\\nAlthough', 'never', 'is', 'often', 'better', 'than', '*right*', 'now.\\nIf', 'the', 'implementation', 'is', 'hard', 'to', 'explain,', \"it's\", 'a', 'bad', 'idea.\\nIf', 'the', 'implementation', 'is', 'easy', 'to', 'explain,', 'it', 'may', 'be', 'a', 'good', 'idea.\\nNamespaces', 'are', 'one', 'honking', 'great', 'idea', '--', \"let's\", 'do', 'more', 'of', 'those!\\n', '', '', '', '']\n"
     ]
    }
   ],
   "source": [
    "import re\n",
    "\n",
    "# 파일을 열고 내용을 읽은 다음, 'better'를 'butter'로 대체합니다.\n",
    "with open('./test.txt', 'r+', encoding='UTF-8') as f:\n",
    "    contents = f.read(-1)\n",
    "    tokens = contents.split(' ')\n",
    "    for token in tokens:\n",
    "        if re.match(r'[.+?]?better[.+?]?', token):\n",
    "            print(token)\n",
    "            token = \"butter\"\n",
    "    print(tokens)\n",
    "    \n",
    "    # 파일 포인터를 시작 위치로 이동합니다.\n",
    "    f.seek(0)\n",
    "    # 수정된 내용을 파일에 씁니다.\n",
    "    f.write(updated_contents)\n",
    "    # 파일의 나머지 부분을 삭제합니다(수정된 내용이 원래 내용보다 짧을 경우를 대비).\n",
    "    f.truncate()\n"
   ]
  },
  {
   "cell_type": "code",
   "execution_count": null,
   "id": "76367bbc-e711-48f3-a007-7eab37ef4019",
   "metadata": {},
   "outputs": [],
   "source": [
    "import re\n",
    "\n",
    "re.search()"
   ]
  }
 ],
 "metadata": {
  "kernelspec": {
   "display_name": "Python 3 (ipykernel)",
   "language": "python",
   "name": "python3"
  },
  "language_info": {
   "codemirror_mode": {
    "name": "ipython",
    "version": 3
   },
   "file_extension": ".py",
   "mimetype": "text/x-python",
   "name": "python",
   "nbconvert_exporter": "python",
   "pygments_lexer": "ipython3",
   "version": "3.11.8"
  }
 },
 "nbformat": 4,
 "nbformat_minor": 5
}
