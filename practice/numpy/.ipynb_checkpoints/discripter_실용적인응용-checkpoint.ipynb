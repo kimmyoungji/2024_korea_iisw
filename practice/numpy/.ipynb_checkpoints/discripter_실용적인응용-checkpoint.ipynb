{
 "cells": [
  {
   "cell_type": "code",
   "execution_count": 5,
   "id": "ced8f7e0-5b2d-4281-9c5f-908b9ed4d842",
   "metadata": {},
   "outputs": [
    {
     "data": {
      "text/plain": [
       "1"
      ]
     },
     "execution_count": 5,
     "metadata": {},
     "output_type": "execute_result"
    }
   ],
   "source": [
    "# mangling\n",
    "class A:\n",
    "    __x = 1\n",
    "\n",
    "a = A()\n",
    "a._A__x"
   ]
  },
  {
   "cell_type": "code",
   "execution_count": 72,
   "id": "a2b6046f-aefb-4545-a019-7b3c7201bfd0",
   "metadata": {},
   "outputs": [],
   "source": [
    "class Ten:\n",
    "    def __get__(self, obj, objtype=None):\n",
    "        return 10"
   ]
  },
  {
   "cell_type": "code",
   "execution_count": 74,
   "id": "d7872e9a-c6e6-4335-beb0-3575862a134c",
   "metadata": {},
   "outputs": [],
   "source": [
    "class A:\n",
    "    x = 5\n",
    "    y = Ten()\n",
    "    "
   ]
  },
  {
   "cell_type": "code",
   "execution_count": 76,
   "id": "e877fbf8-6303-4d4e-bf7c-94bc67618858",
   "metadata": {},
   "outputs": [
    {
     "data": {
      "text/plain": [
       "10"
      ]
     },
     "execution_count": 76,
     "metadata": {},
     "output_type": "execute_result"
    }
   ],
   "source": [
    "a = A()\n",
    "a.x\n",
    "a.y"
   ]
  },
  {
   "cell_type": "code",
   "execution_count": 104,
   "id": "f3b4bbd8-98df-4ba6-bf7d-ab3d1d2af537",
   "metadata": {},
   "outputs": [],
   "source": [
    "import os\n",
    "\n",
    "class DirectorySize:\n",
    "\n",
    "    def __get__(self, obj, objtype=None):\n",
    "        print(os.listdir())\n",
    "        return len(os.listdir(obj.dirname))\n",
    "\n",
    "class Directory:\n",
    "\n",
    "    size = DirectorySize()              # Descriptor instance\n",
    "\n",
    "    def __init__(self, dirname):\n",
    "        self.dirname = dirname          # Regular instance attribute"
   ]
  },
  {
   "cell_type": "code",
   "execution_count": 105,
   "id": "7820f30b-da95-43cf-af11-d4c97f2c47c7",
   "metadata": {},
   "outputs": [],
   "source": [
    "directory = Directory('my_dir')"
   ]
  },
  {
   "cell_type": "code",
   "execution_count": 106,
   "id": "3224844f-33f5-4d99-a333-fe99cd47eb9a",
   "metadata": {},
   "outputs": [
    {
     "name": "stdout",
     "output_type": "stream",
     "text": [
      "['test.npy', 'berry.jpeg', 'numpy(2).ipynb', 'berry2.jpeg', '.DS_Store', 'test', 'auto.txt', 'numpy(4)_re.ipynb', 'numpy(4).ipynb', 'numpy(2)_re.ipynb', 'b.txt', 'numpy(3).ipynb', 'test.txt', '.ipynb_checkpoints', 'my_dir ', '\\n Hey there are typos in these sentences!']\n"
     ]
    },
    {
     "ename": "FileNotFoundError",
     "evalue": "[Errno 2] No such file or directory: 'my_dir'",
     "output_type": "error",
     "traceback": [
      "\u001b[0;31m---------------------------------------------------------------------------\u001b[0m",
      "\u001b[0;31mFileNotFoundError\u001b[0m                         Traceback (most recent call last)",
      "Cell \u001b[0;32mIn[106], line 1\u001b[0m\n\u001b[0;32m----> 1\u001b[0m \u001b[43mdirectory\u001b[49m\u001b[38;5;241;43m.\u001b[39;49m\u001b[43msize\u001b[49m()\n",
      "Cell \u001b[0;32mIn[104], line 7\u001b[0m, in \u001b[0;36mDirectorySize.__get__\u001b[0;34m(self, obj, objtype)\u001b[0m\n\u001b[1;32m      5\u001b[0m \u001b[38;5;28;01mdef\u001b[39;00m \u001b[38;5;21m__get__\u001b[39m(\u001b[38;5;28mself\u001b[39m, obj, objtype\u001b[38;5;241m=\u001b[39m\u001b[38;5;28;01mNone\u001b[39;00m):\n\u001b[1;32m      6\u001b[0m     \u001b[38;5;28mprint\u001b[39m(os\u001b[38;5;241m.\u001b[39mlistdir())\n\u001b[0;32m----> 7\u001b[0m     \u001b[38;5;28;01mreturn\u001b[39;00m \u001b[38;5;28mlen\u001b[39m(\u001b[43mos\u001b[49m\u001b[38;5;241;43m.\u001b[39;49m\u001b[43mlistdir\u001b[49m\u001b[43m(\u001b[49m\u001b[43mobj\u001b[49m\u001b[38;5;241;43m.\u001b[39;49m\u001b[43mdirname\u001b[49m\u001b[43m)\u001b[49m)\n",
      "\u001b[0;31mFileNotFoundError\u001b[0m: [Errno 2] No such file or directory: 'my_dir'"
     ]
    }
   ],
   "source": [
    "directory.size()"
   ]
  },
  {
   "cell_type": "code",
   "execution_count": 97,
   "id": "7100f81b-3997-45a5-a444-b67648d557de",
   "metadata": {},
   "outputs": [
    {
     "name": "stdout",
     "output_type": "stream",
     "text": [
      "? Hey there are typos in these sentences!\n",
      "auto.txt\n",
      "b.txt\n",
      "berry.jpeg\n",
      "berry2.jpeg\n",
      "\u001b[1m\u001b[36mmy_dir \u001b[m\u001b[m/\n",
      "numpy(2).ipynb\n",
      "numpy(2)_re.ipynb\n",
      "numpy(3).ipynb\n",
      "numpy(4).ipynb\n",
      "numpy(4)_re.ipynb\n",
      "test\n",
      "test.npy\n",
      "test.txt\n"
     ]
    }
   ],
   "source": []
  },
  {
   "cell_type": "code",
   "execution_count": null,
   "id": "97414226-0b34-47f7-ace7-5facd63a1b1a",
   "metadata": {},
   "outputs": [],
   "source": []
  }
 ],
 "metadata": {
  "kernelspec": {
   "display_name": "Python 3 (ipykernel)",
   "language": "python",
   "name": "python3"
  },
  "language_info": {
   "codemirror_mode": {
    "name": "ipython",
    "version": 3
   },
   "file_extension": ".py",
   "mimetype": "text/x-python",
   "name": "python",
   "nbconvert_exporter": "python",
   "pygments_lexer": "ipython3",
   "version": "3.11.8"
  }
 },
 "nbformat": 4,
 "nbformat_minor": 5
}
