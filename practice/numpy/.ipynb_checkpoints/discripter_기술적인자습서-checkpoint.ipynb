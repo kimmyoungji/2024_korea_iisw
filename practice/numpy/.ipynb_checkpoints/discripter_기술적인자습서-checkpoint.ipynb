{
 "cells": [
  {
   "cell_type": "markdown",
   "id": "420ed0d1-fa73-441f-ad18-43d28329bb04",
   "metadata": {},
   "source": [
    "# discriptor 기술적인 자습서\n",
    "\n",
    "## discriptor의 정의\n",
    "디스크립터 프로토콜의 메서드 중 하나를 갖는 어트리뷰트 값(어트리뷰트로 할당되는 인스턴스). \n",
    "디스크립터 프로토콜 메서드 중 하나라도 정의되어 있다면 => 디스크립터라고 한다.\n",
    "\n",
    "## discriptor protocol method -> 덕타이핑 현상의 원인\n",
    "파이썬에서 프로토콜이란, 특정한 역할을 수행하기 위해 객체가 구현해야하는 메서드 집합을 의미한다.\n",
    "디스크립터 프로토콜 메서드는 \n",
    "1. \\_\\_get\\_\\_(self, obj, objtype=None) -> 이 메서드 구현시, 비데이터 디스크립터\n",
    "2. \\_\\_set\\_\\_(self, obj, value) -> 이 메서드 구현시, 데이터 디스크립터\n",
    "3. \\_\\_delete\\_\\_(self, obj) -> 이 메서드 구현시, 데이터 디스크립터\n",
    "\n",
    "## 디스크립터의 종류\n",
    "1. 비데이터 디스크립터: \\_\\_get\\_\\_ 만 구현한 디스크립터\n",
    "2. 데이터 디스크립터: \\_\\_get\\_\\_, \\_\\_set\\_\\_ 모두 구현한 디스크립터\n"
   ]
  },
  {
   "cell_type": "code",
   "execution_count": 84,
   "id": "d612bf77-a791-4983-b615-413d0e0c169a",
   "metadata": {},
   "outputs": [
    {
     "name": "stdout",
     "output_type": "stream",
     "text": [
      "this is __set_name__\n"
     ]
    }
   ],
   "source": [
    "class MyDiscriptor:\n",
    "    def __get__(self,obj, objtype=None):\n",
    "        owner = obj.owner\n",
    "        return f\"this is {owner}'s discriptor\"\n",
    "        \n",
    "    def __set__(self, obj, value): # 여기서 obj는 디스크립터를 어트리뷰트로 가지는 클래스\n",
    "        raise AttributeError('read only instance')\n",
    "\n",
    "    def __delete__(self, obj):\n",
    "        del obj.owner\n",
    "        obj.owner = 'new_owner'\n",
    "    def __set_name__(self,owner,name):\n",
    "        print('this is __set_name__')\n",
    "        pass\n",
    "    def temp(self):\n",
    "        print('hello!')\n",
    "\n",
    "class MyClass:\n",
    "    owner = 'default_owner'\n",
    "    classname = 'default_classname'\n",
    "    my_discriptor = MyDiscriptor()\n",
    "    def __get__(self, obj, objtype=None):\n",
    "        return f\"{owner}'s {classname}class\"\n",
    "\n",
    "myclass = MyClass() \n",
    "# type(myclass.my_discriptor.getattr('__get__'))"
   ]
  },
  {
   "cell_type": "markdown",
   "id": "39d82d96-5720-475a-85d7-31551b6f8219",
   "metadata": {},
   "source": [
    "# 디스크립터 호출의 개요\n",
    "1. 직접 호출\n",
    "2. 인스턴스 호출\n",
    "3. 클래스 호출"
   ]
  },
  {
   "cell_type": "code",
   "execution_count": 61,
   "id": "57c32a61-7c8b-49c7-9ddc-cb900ae0aeac",
   "metadata": {},
   "outputs": [],
   "source": [
    "# 1. 직접 호출 실패"
   ]
  },
  {
   "cell_type": "code",
   "execution_count": 62,
   "id": "2c61ff5d-784c-40be-8638-7bf3f16ee2a5",
   "metadata": {},
   "outputs": [],
   "source": [
    "# 2. 인스턴스 호출\n"
   ]
  },
  {
   "cell_type": "code",
   "execution_count": 85,
   "id": "a9897649-f843-41a8-9352-624489332be3",
   "metadata": {},
   "outputs": [],
   "source": [
    "import logging\n",
    "logging.basicConfig(level=logging.INFO)\n",
    "\n",
    "def find_name_in_mro(cls, name, default):\n",
    "    \"Emulate _PyType_Lookup() in Objects/typeobject.c\"\n",
    "    for base in cls.__mro__:\n",
    "        if name in vars(base):\n",
    "            return vars(base)[name]\n",
    "    return default\n",
    "\n",
    "# __getattribute__(self, name) : 클래스 인스턴스의 어트리뷰트의 값을 반환한다.\n",
    "def object_getattribute(obj, name):\n",
    "    \"Emulate PyObject_GenericGetAttr() in Objects/object.c\"\n",
    "    null = object()\n",
    "    objtype = type(obj)\n",
    "    # mro에 들어있는 모든 클래스에서 name 이름으로된 어트리뷰트가 있는지 조회한다. -> 클래스 어트리뷰트의 값이 반환된다.\n",
    "    cls_var = find_name_in_mro(objtype, name, null)\n",
    "    logging.info(f'cls_var: {cls_var}, type: {type(cls_var)}')\n",
    "    # cls_var에 __get__ 이 있다면 해당 어트리뷰트를 받아온다.\n",
    "    descr_get = getattr(type(cls_var), '__get__', null)\n",
    "    # 만약 __get__이 받아와진다면\n",
    "    if descr_get is not null:\n",
    "        # __set__, __delete__ 가 있는지 확인한다.\n",
    "        if (hasattr(type(cls_var), '__set__')\n",
    "            or hasattr(type(cls_var), '__delete__')):\n",
    "            return descr_get(cls_var, obj, objtype)     # data descriptor\n",
    "    if hasattr(obj, '__dict__') and name in vars(obj):\n",
    "        return vars(obj)[name]                          # instance variable\n",
    "    if descr_get is not null:\n",
    "        return descr_get(cls_var, obj, objtype)         # non-data descriptor\n",
    "    if cls_var is not null:\n",
    "        return cls_var                                  # class variable\n",
    "    raise AttributeError(name)"
   ]
  },
  {
   "cell_type": "code",
   "execution_count": 86,
   "id": "eb7e5a4f-4897-43fb-a522-0194373df7db",
   "metadata": {},
   "outputs": [
    {
     "name": "stderr",
     "output_type": "stream",
     "text": [
      "INFO:root:cls_var: default_classname, type: <class 'str'>\n"
     ]
    },
    {
     "data": {
      "text/plain": [
       "'default_classname'"
      ]
     },
     "execution_count": 86,
     "metadata": {},
     "output_type": "execute_result"
    }
   ],
   "source": [
    "object_getattribute(myclass,'classname')"
   ]
  },
  {
   "cell_type": "markdown",
   "id": "ccbe058c-13f1-4ea8-b138-fb30d6063bb8",
   "metadata": {},
   "source": [
    "## 다시 이해할 부분\n",
    "디스크립터 메커니즘은 object, type 및 super()의 __getattribute__() 메서드에 포함되어 있습니다.\n",
    "\n",
    "기억해야 할 중요한 사항은 다음과 같습니다:\n",
    "\n",
    "디스크립터는 __getattribute__() 메서드에 의해 호출됩니다.\n",
    "\n",
    "클래스는 object, type 또는 super()로부터 이 절차를 상속합니다.\n",
    "\n",
    "모든 디스크립터 로직이 들어있기 때문에 __getattribute__()를 재정의하면 자동 디스크립터 호출이 방지됩니다\n",
    "\n",
    "object.__getattribute__()와 type.__getattribute__()는 __get__()을 다르게 호출합니다. 첫 번째는 인스턴스를 포함하고 클래스를 포함할 수 있습니다. 두 번째는 인스턴스에 대해 None을 넣고 항상 클래스를 포함합니다.\n",
    "\n",
    "데이터 디스크립터는 항상 인스턴스 딕셔너리를 대체합니다.\n",
    "\n",
    "비 데이터 디스크립터는 인스턴스 딕셔너리로 대체될 수 있습니다."
   ]
  },
  {
   "cell_type": "markdown",
   "id": "1b2ced0c-fb8f-4cbd-960e-eb0d771a3177",
   "metadata": {},
   "source": [
    "# ORM예제"
   ]
  },
  {
   "cell_type": "code",
   "execution_count": 88,
   "id": "41aa07e5-b7f9-41b1-b0b0-96239b17b22b",
   "metadata": {},
   "outputs": [],
   "source": [
    "class Field:\n",
    "\n",
    "    def __set_name__(self, owner, name):\n",
    "        self.fetch = f'SELECT {name} FROM {owner.table} WHERE {owner.key}=?;'\n",
    "        self.store = f'UPDATE {owner.table} SET {name}=? WHERE {owner.key}=?;'\n",
    "\n",
    "    def __get__(self, obj, objtype=None):\n",
    "        return conn.execute(self.fetch, [obj.key]).fetchone()[0]\n",
    "\n",
    "    def __set__(self, obj, value):\n",
    "        conn.execute(self.store, [value, obj.key])\n",
    "        conn.commit()"
   ]
  },
  {
   "cell_type": "code",
   "execution_count": 89,
   "id": "2549447a-bba5-44c2-a669-04c2602805ed",
   "metadata": {},
   "outputs": [],
   "source": [
    "class Movie:\n",
    "    table = 'Movies'                    # Table name\n",
    "    key = 'title'                       # Primary key\n",
    "    director = Field()\n",
    "    year = Field()\n",
    "\n",
    "    def __init__(self, key):\n",
    "        self.key = key\n",
    "\n",
    "class Song:\n",
    "    table = 'Music'\n",
    "    key = 'title'\n",
    "    artist = Field()\n",
    "    year = Field()\n",
    "    genre = Field()\n",
    "\n",
    "    def __init__(self, key):\n",
    "        self.key = key"
   ]
  },
  {
   "cell_type": "code",
   "execution_count": 90,
   "id": "5a8556f0-0bf4-4a0b-af3d-6a13c553f983",
   "metadata": {},
   "outputs": [],
   "source": [
    "import sqlite3\n",
    "conn = sqlite3.connect('entertainment.db')"
   ]
  },
  {
   "cell_type": "code",
   "execution_count": 91,
   "id": "e7fcad53-9565-42ce-878a-589cdd4389c0",
   "metadata": {},
   "outputs": [],
   "source": [
    "conn.close()"
   ]
  },
  {
   "cell_type": "markdown",
   "id": "5eff3f6d-c094-44ae-b48d-a82b64e4ec6e",
   "metadata": {},
   "source": [
    "# 디스크립터의 순수한 파이썬 등가물"
   ]
  },
  {
   "cell_type": "code",
   "execution_count": null,
   "id": "bf305736-147f-4b3e-bbf2-0ee57224e989",
   "metadata": {},
   "outputs": [],
   "source": [
    "class C:\n",
    "    def getx(self): return self.__x\n",
    "    def setx(self, value): self.__x = value\n",
    "    def delx(self): del self.__x\n",
    "    x = property(getx, setx, delx, \"I'm the 'x' property.\")"
   ]
  },
  {
   "cell_type": "code",
   "execution_count": null,
   "id": "73ee1325-b091-4de6-9bb5-3640cc4ff176",
   "metadata": {},
   "outputs": [],
   "source": [
    "class Property:\n",
    "    \"Emulate PyProperty_Type() in Objects/descrobject.c\"\n",
    "\n",
    "    def __init__(self, fget=None, fset=None, fdel=None, doc=None):\n",
    "        self.fget = fget\n",
    "        self.fset = fset\n",
    "        self.fdel = fdel\n",
    "        if doc is None and fget is not None:\n",
    "            doc = fget.__doc__\n",
    "        self.__doc__ = doc\n",
    "        self._name = ''\n",
    "\n",
    "    def __set_name__(self, owner, name):\n",
    "        self._name = name\n",
    "\n",
    "    def __get__(self, obj, objtype=None):\n",
    "        if obj is None:\n",
    "            return self\n",
    "        if self.fget is None:\n",
    "            raise AttributeError(\n",
    "                f'property {self._name!r} of {type(obj).__name__!r} object has no getter'\n",
    "             )\n",
    "        return self.fget(obj)\n",
    "\n",
    "    def __set__(self, obj, value):\n",
    "        if self.fset is None:\n",
    "            raise AttributeError(\n",
    "                f'property {self._name!r} of {type(obj).__name__!r} object has no setter'\n",
    "             )\n",
    "        self.fset(obj, value)\n",
    "\n",
    "    def __delete__(self, obj):\n",
    "        if self.fdel is None:\n",
    "            raise AttributeError(\n",
    "                f'property {self._name!r} of {type(obj).__name__!r} object has no deleter'\n",
    "             )\n",
    "        self.fdel(obj)\n",
    "\n",
    "    def getter(self, fget):\n",
    "        prop = type(self)(fget, self.fset, self.fdel, self.__doc__)\n",
    "        prop._name = self._name\n",
    "        return prop\n",
    "\n",
    "    def setter(self, fset):\n",
    "        prop = type(self)(self.fget, fset, self.fdel, self.__doc__)\n",
    "        prop._name = self._name\n",
    "        return prop\n",
    "\n",
    "    def deleter(self, fdel):\n",
    "        prop = type(self)(self.fget, self.fset, fdel, self.__doc__)\n",
    "        prop._name = self._name\n",
    "        return prop"
   ]
  },
  {
   "cell_type": "code",
   "execution_count": null,
   "id": "d4949fd8-462d-458d-b720-c4907c439094",
   "metadata": {},
   "outputs": [],
   "source": [
    "# 디스크립터의 역할\n",
    "1. 캡슐화\n",
    "2. 객체지향 프로그래밍\n",
    "3. 함수와 메서드의 호출에도 사용된다."
   ]
  }
 ],
 "metadata": {
  "kernelspec": {
   "display_name": "Python 3 (ipykernel)",
   "language": "python",
   "name": "python3"
  },
  "language_info": {
   "codemirror_mode": {
    "name": "ipython",
    "version": 3
   },
   "file_extension": ".py",
   "mimetype": "text/x-python",
   "name": "python",
   "nbconvert_exporter": "python",
   "pygments_lexer": "ipython3",
   "version": "3.11.8"
  }
 },
 "nbformat": 4,
 "nbformat_minor": 5
}
