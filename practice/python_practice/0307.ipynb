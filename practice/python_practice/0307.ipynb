{
 "cells": [
  {
   "cell_type": "code",
   "execution_count": null,
   "metadata": {},
   "outputs": [],
   "source": [
    "# 요즘 프로그래밍은 멀티 패러다임이다.\n",
    "# 함수형 프로그래밍은 그 페러다임 중에 하나이다.\n",
    "\n",
    "# 패러다임이란? 문제 해결 방법\n",
    "\n",
    "# 함수를 활용한 프로그래밍, 그런데 제약 조건이 있는 함수다.\n",
    "# 수학적 관점에서의 함수를 활용한다.\n",
    "# 이건 함수가 아니다. 입력이 없기 때문이다.\n",
    "# 파이썬은 return을 안쓰면 자동으로 return None을 붙여준다.\n",
    "def x():\n",
    "    return 1\n",
    "\n",
    "# 함수형 프로그래밍은 수학 함수만을 갖고 프로그래밍을 해야한다.\n",
    "# 수학적 함수를 활용하여 프로그래밍을 하면 증명이 가능하다.\n",
    "# 이론에 관련된 프로그래밍을 할 때 정말 유용.\n",
    "\n",
    "# 함수형 프로그래밍의 특징\n",
    "# 형식적 증명"
   ]
  },
  {
   "cell_type": "markdown",
   "metadata": {},
   "source": [
    "- 파이썬에서 어려운 것 : 데코레이터, 디스크립터, 메타 프로그래밍\n",
    "- 시간이 난다면 Python HOWTOs를 공부하는 것을 추천한다.  잘 배우는데 2년 걸린다.\n",
    "---\n",
    "- 요즘 프로그래밍은 멀티 패러다임이다.\n",
    "- 함수형 프로그래밍은 그 페러다임 중에 하나이다.\n",
    "---\n",
    "- 패러다임이란? 문제 해결 방법\n",
    "---\n",
    "- 함수를 활용한 프로그래밍, 그런데 제약 조건이 있는 함수다.\n",
    "- 수학적 관점에서의 함수를 활용한다.\n",
    "---\n",
    "- 이건 함수가 아니다. 입력이 없기 때문이다.\n",
    "- 파이썬은 return을 안쓰면 자동으로 return None을 붙여준다.\n",
    "def x():\n",
    "    return 1\n",
    "---\n",
    "- 함수형 프로그래밍은 수학 함수만을 갖고 프로그래밍을 해야한다.\n",
    "- 수학적 함수를 활용하여 프로그래밍을 하면 증명이 가능하다. \n",
    "- 이론에 관련된 프로그래밍을 할 때 정말 유용\n",
    "---\n",
    "- 함수형 프로그래밍의 특징\n",
    "- 데이터 처리할 때 매우 유용하다. \n",
    "- 딥러닝 기원의 일부 \n",
    "---\n",
    "과제로 줄것 \n",
    "Python HOWTOs"
   ]
  },
  {
   "cell_type": "code",
   "execution_count": 1,
   "metadata": {},
   "outputs": [
    {
     "name": "stdout",
     "output_type": "stream",
     "text": [
      "The Zen of Python, by Tim Peters\n",
      "\n",
      "Beautiful is better than ugly.\n",
      "Explicit is better than implicit.\n",
      "Simple is better than complex.\n",
      "Complex is better than complicated.\n",
      "Flat is better than nested.\n",
      "Sparse is better than dense.\n",
      "Readability counts.\n",
      "Special cases aren't special enough to break the rules.\n",
      "Although practicality beats purity.\n",
      "Errors should never pass silently.\n",
      "Unless explicitly silenced.\n",
      "In the face of ambiguity, refuse the temptation to guess.\n",
      "There should be one-- and preferably only one --obvious way to do it.\n",
      "Although that way may not be obvious at first unless you're Dutch.\n",
      "Now is better than never.\n",
      "Although never is often better than *right* now.\n",
      "If the implementation is hard to explain, it's a bad idea.\n",
      "If the implementation is easy to explain, it may be a good idea.\n",
      "Namespaces are one honking great idea -- let's do more of those!\n"
     ]
    }
   ],
   "source": [
    "import this"
   ]
  },
  {
   "cell_type": "markdown",
   "metadata": {},
   "source": [
    "**There should be one-- and preferably only one --obvious way to do it.**\n",
    "- 많은 함수형 페러다임은 haskel에서 빌려왔다. \n",
    "----\n",
    "<<Functional Programming python>>>이 파이썬을 가장 깊하게 다룬다. \n",
    "----"
   ]
  },
  {
   "cell_type": "markdown",
   "metadata": {},
   "source": [
    "- Scala가 자바 기반의 함수형 패러다임이다.\n",
    "\n",
    "# 함수형 프로그래밍이 무엇인가? (p7)\n",
    "- for 문이 함수형 프로그래밍으로 구혆되었다.\n",
    "- 이해하려기 보다는 문제에 적용하면서 배워라\n",
    "- \"Functions are first class\", 함수는 \"갑\"이다."
   ]
  },
  {
   "cell_type": "code",
   "execution_count": 3,
   "metadata": {},
   "outputs": [],
   "source": [
    "def x():\n",
    "    print()"
   ]
  },
  {
   "cell_type": "code",
   "execution_count": 4,
   "metadata": {},
   "outputs": [],
   "source": [
    "a = x"
   ]
  },
  {
   "cell_type": "code",
   "execution_count": 6,
   "metadata": {},
   "outputs": [
    {
     "data": {
      "text/plain": [
       "function"
      ]
     },
     "execution_count": 6,
     "metadata": {},
     "output_type": "execute_result"
    }
   ],
   "source": [
    "type(x) #타입과 값을 보두 가진다"
   ]
  },
  {
   "cell_type": "code",
   "execution_count": 7,
   "metadata": {},
   "outputs": [],
   "source": [
    "b = [x]"
   ]
  },
  {
   "cell_type": "code",
   "execution_count": 10,
   "metadata": {},
   "outputs": [
    {
     "name": "stdout",
     "output_type": "stream",
     "text": [
      "\n"
     ]
    }
   ],
   "source": [
    "b[0]() #()는 연산자"
   ]
  },
  {
   "cell_type": "markdown",
   "metadata": {},
   "source": [
    "**함수를 값으로 집어넣을 수 있다.**"
   ]
  },
  {
   "cell_type": "markdown",
   "metadata": {},
   "source": [
    "https://docs.python.org/ko/3/library/functools.html#module-functools\n",
    "\n",
    "#### 용어\n",
    "- first class : 값으로 사용될수 있다.\n",
    "- higher order : 함수를 인자로 사용하고 리턴할 수 있는 함수 , 값으로 사용될수 없다. first class의 일부 기능을 사용\n",
    "  - 자바는 higher order만 지원해준다.\n",
    "  - js는?\n",
    "- recursion : ? "
   ]
  },
  {
   "cell_type": "code",
   "execution_count": 11,
   "metadata": {},
   "outputs": [],
   "source": [
    "# 1 3 5 7 9\n",
    "def t(x):\n",
    "    if x==1:\n",
    "        return 1\n",
    "    return t(x-1)+2"
   ]
  },
  {
   "cell_type": "code",
   "execution_count": 3,
   "metadata": {},
   "outputs": [],
   "source": [
    "def tt(x):\n",
    "    print(x)\n",
    "    def ttt():\n",
    "        print(x)\n",
    "    return ttt\n"
   ]
  },
  {
   "cell_type": "code",
   "execution_count": 4,
   "metadata": {},
   "outputs": [
    {
     "name": "stdout",
     "output_type": "stream",
     "text": [
      "2\n",
      "2\n"
     ]
    }
   ],
   "source": [
    "tt(2)()"
   ]
  },
  {
   "cell_type": "code",
   "execution_count": 12,
   "metadata": {},
   "outputs": [
    {
     "data": {
      "text/plain": [
       "5"
      ]
     },
     "execution_count": 12,
     "metadata": {},
     "output_type": "execute_result"
    }
   ],
   "source": [
    "t(3)"
   ]
  },
  {
   "cell_type": "code",
   "execution_count": 13,
   "metadata": {},
   "outputs": [],
   "source": [
    "# tail recursion elimination 을 구현하는 방법을 자료구조에서 배운다\n",
    "# 수학에서 recurtion을 사용하여 문제를 많이 사용한다\n",
    "# 우리는 필요한 테크닉을 배우는게핵심이다. \n",
    "# 이걸 사용하지 않는 편이 좋다. \n",
    "# 코딩 테스트에서 이걸 해결하려면 다이내픽 프로그래밍을 공부하면 된다."
   ]
  },
  {
   "cell_type": "code",
   "execution_count": 14,
   "metadata": {},
   "outputs": [],
   "source": [
    "# LISP : List programming 언어 : 최초의 인공지능언어 함수의 프로그래밍언어\n",
    "# 여러개의 값을 처리하는데 관심이 있는 언어이다\n",
    "# 우리가 집중할 곳은 이것이다.\n",
    "# 어떻게 데이터 분석에 함수형 페러다임을 활용하는가? "
   ]
  },
  {
   "cell_type": "code",
   "execution_count": 15,
   "metadata": {},
   "outputs": [],
   "source": [
    "# 학습 시킬 때 시간이 오래 결려서 6개월씩 걸렸었다. 16년전 우리고 이런 부분을 주의해야한다.\n",
    "# 구현에 따라 속도가 달라진다.\n",
    "# 에폭하나 도는데 오래 걸린다."
   ]
  },
  {
   "cell_type": "code",
   "execution_count": null,
   "metadata": {},
   "outputs": [],
   "source": [
    "# Pure 프로그래밍 언어\n",
    "# 문장 보다 식을 많이 쓴다.\n",
    "# 조건식이 조건문보다 속도가 빠르다\n",
    "# what 무엇을 만드는 가가 중요하다. "
   ]
  },
  {
   "cell_type": "code",
   "execution_count": 16,
   "metadata": {},
   "outputs": [],
   "source": [
    "# 파이썬은 순수한 함수형 페러다임이 아니다. 필요할 때 가져다쓰면 된다."
   ]
  },
  {
   "cell_type": "code",
   "execution_count": 17,
   "metadata": {},
   "outputs": [],
   "source": [
    "# 파이썬의 함수형 패러다임 관련 모듈 + 외부 모듈"
   ]
  },
  {
   "cell_type": "code",
   "execution_count": 18,
   "metadata": {},
   "outputs": [],
   "source": [
    "# 함수형 프로그래밍을 Flow control에 좋다.\n",
    "# for 가 함수형 페러다임에서 온것이다.  내부 작동 방식이 그렇다."
   ]
  },
  {
   "cell_type": "code",
   "execution_count": 19,
   "metadata": {},
   "outputs": [],
   "source": [
    "# for 를 어떻게 효율적으로 활용하느냐가 핵심이다!!"
   ]
  },
  {
   "cell_type": "code",
   "execution_count": 20,
   "metadata": {},
   "outputs": [],
   "source": [
    "# encapsulation\n",
    "# 이름으로 묶는 것. WHAT"
   ]
  },
  {
   "cell_type": "code",
   "execution_count": 21,
   "metadata": {},
   "outputs": [],
   "source": [
    "# encapsulation의 특징을 알아야한다. ***\n",
    "# 1) 함수과 클래스의 차이점. "
   ]
  },
  {
   "cell_type": "code",
   "execution_count": 22,
   "metadata": {},
   "outputs": [],
   "source": [
    "# 구멍이있다. \n",
    "b = 1\n",
    "def a():\n",
    "    return b  "
   ]
  },
  {
   "cell_type": "code",
   "execution_count": 24,
   "metadata": {},
   "outputs": [
    {
     "data": {
      "text/plain": [
       "1"
      ]
     },
     "execution_count": 24,
     "metadata": {},
     "output_type": "execute_result"
    }
   ],
   "source": [
    "a()"
   ]
  },
  {
   "cell_type": "code",
   "execution_count": 28,
   "metadata": {},
   "outputs": [],
   "source": [
    "b = 1\n",
    "def a():\n",
    "    ttt = 3\n",
    "    return b  \n",
    "# 접근제한, scope"
   ]
  },
  {
   "cell_type": "code",
   "execution_count": 26,
   "metadata": {},
   "outputs": [
    {
     "data": {
      "text/plain": [
       "1"
      ]
     },
     "execution_count": 26,
     "metadata": {},
     "output_type": "execute_result"
    }
   ],
   "source": [
    "a()"
   ]
  },
  {
   "cell_type": "code",
   "execution_count": 27,
   "metadata": {},
   "outputs": [],
   "source": [
    "# 객체지향에서 위와 같은 현상을\n",
    "# 스코프, 접근제한이라고 한다"
   ]
  },
  {
   "cell_type": "code",
   "execution_count": 29,
   "metadata": {},
   "outputs": [],
   "source": [
    "# encapsultation + 스코프(접근제한) 무조건 같이 기억하기"
   ]
  },
  {
   "cell_type": "markdown",
   "metadata": {},
   "source": [
    "# LEGB : local (암기!!)\n",
    "- global 영역: 우리가 사용하는 영역\n",
    "- local  영역: global 안 함수의 안쪽\n",
    "  - 로컬 먼저 찾고 글로벌을 찾는다."
   ]
  },
  {
   "cell_type": "code",
   "execution_count": null,
   "metadata": {},
   "outputs": [],
   "source": [
    "globals()"
   ]
  },
  {
   "cell_type": "code",
   "execution_count": 120,
   "metadata": {},
   "outputs": [],
   "source": [
    "sum = 0 # builtin의 sum\n",
    "# global을 지역이라고 생각하고 builtin이 외부에 있는 영역이라고 생각한다.\n",
    "# global 여역에 sum 이름으로 변수를 선언하면 이 지역에서 참조를 하고 외부 sum을 참조할수 없다\n",
    "# 그래서 builtin을 사용할 수 없게 되므로, del sum으로 지역의 sum 변수를 제거하고 sum_을 \n",
    "# 사용한다."
   ]
  },
  {
   "cell_type": "code",
   "execution_count": 33,
   "metadata": {},
   "outputs": [
    {
     "data": {
      "text/plain": [
       "0"
      ]
     },
     "execution_count": 33,
     "metadata": {},
     "output_type": "execute_result"
    }
   ],
   "source": [
    "sum"
   ]
  },
  {
   "cell_type": "code",
   "execution_count": 35,
   "metadata": {},
   "outputs": [],
   "source": [
    "del sum # 글로버의 sum을 지워주세요"
   ]
  },
  {
   "cell_type": "code",
   "execution_count": 36,
   "metadata": {},
   "outputs": [],
   "source": [
    "# Comprehention"
   ]
  },
  {
   "cell_type": "code",
   "execution_count": 37,
   "metadata": {},
   "outputs": [],
   "source": [
    "# 함수형 패러다임은 식을 좋아한다.\n",
    "# 식 형태의 코드가 속도도 더 빠르다, 13 p 예제"
   ]
  },
  {
   "cell_type": "code",
   "execution_count": 39,
   "metadata": {},
   "outputs": [
    {
     "name": "stdout",
     "output_type": "stream",
     "text": [
      "219 ms ± 2.13 ms per loop (mean ± std. dev. of 7 runs, 10 loops each)\n"
     ]
    }
   ],
   "source": [
    "%%timeit\n",
    "temp = []\n",
    "for i in range(10000000):\n",
    "    temp.append(i)"
   ]
  },
  {
   "cell_type": "code",
   "execution_count": 41,
   "metadata": {},
   "outputs": [
    {
     "name": "stdout",
     "output_type": "stream",
     "text": [
      "194 ms ± 7.94 ms per loop (mean ± std. dev. of 7 runs, 1 loop each)\n"
     ]
    }
   ],
   "source": [
    "%timeit [i for i in range(10000000)]  \n",
    "# 이거를 쓰자. 이런 문법을 comprehention 이라고 한다\n",
    "# 메모리효율 속도 모두 좋다"
   ]
  },
  {
   "cell_type": "code",
   "execution_count": 42,
   "metadata": {},
   "outputs": [],
   "source": [
    "# haskal에서 comprehention의 역할\n",
    "# 여러개의 값을 쉽게 만들거나, 변화 시킬 때 사용한다. (반복과 결합)\n",
    "# 반복을 틍해서 값의 변화를 결정해야한다\n"
   ]
  },
  {
   "cell_type": "code",
   "execution_count": 46,
   "metadata": {},
   "outputs": [
    {
     "data": {
      "text/plain": [
       "[0, 1, 2, 3, 4, 5, 6, 7, 8, 9]"
      ]
     },
     "execution_count": 46,
     "metadata": {},
     "output_type": "execute_result"
    }
   ],
   "source": [
    "[v for v in range(10)]"
   ]
  },
  {
   "cell_type": "code",
   "execution_count": 48,
   "metadata": {},
   "outputs": [
    {
     "ename": "NameError",
     "evalue": "name 'v' is not defined",
     "output_type": "error",
     "traceback": [
      "\u001b[0;31m---------------------------------------------------------------------------\u001b[0m",
      "\u001b[0;31mNameError\u001b[0m                                 Traceback (most recent call last)",
      "Cell \u001b[0;32mIn[48], line 1\u001b[0m\n\u001b[0;32m----> 1\u001b[0m \u001b[43mv\u001b[49m \u001b[38;5;66;03m# 값이 안나온다. 스코프가 다르기 때문이다. comprehension이라 는 로컬 영역에 있다\u001b[39;00m\n",
      "\u001b[0;31mNameError\u001b[0m: name 'v' is not defined"
     ]
    }
   ],
   "source": [
    "v # 값이 안나온다. 스코프가 다르기 때문이다. comprehension이라 는 로컬 영역에 있다"
   ]
  },
  {
   "cell_type": "code",
   "execution_count": 52,
   "metadata": {},
   "outputs": [
    {
     "name": "stdout",
     "output_type": "stream",
     "text": [
      "[0, 1, 2, 3, 4, 5, 6, 7, 8, 9]\n"
     ]
    }
   ],
   "source": [
    "a = [v for v in range(10)]\n",
    "print(a)"
   ]
  },
  {
   "cell_type": "code",
   "execution_count": 53,
   "metadata": {},
   "outputs": [
    {
     "data": {
      "text/plain": [
       "[1, 2, 3, 4, 5, 6, 7, 8, 9, 10]"
      ]
     },
     "execution_count": 53,
     "metadata": {},
     "output_type": "execute_result"
    }
   ],
   "source": [
    "[b+1 for b in a]"
   ]
  },
  {
   "cell_type": "code",
   "execution_count": 54,
   "metadata": {},
   "outputs": [
    {
     "data": {
      "text/plain": [
       "[1, 2, 3, 4, 5, 6, 7, 8, 9, 10]"
      ]
     },
     "execution_count": 54,
     "metadata": {},
     "output_type": "execute_result"
    }
   ],
   "source": [
    "[b+1 for b in range(10)]"
   ]
  },
  {
   "cell_type": "code",
   "execution_count": 55,
   "metadata": {},
   "outputs": [
    {
     "data": {
      "text/plain": [
       "[0, 2, 4, 6, 8]"
      ]
     },
     "execution_count": 55,
     "metadata": {},
     "output_type": "execute_result"
    }
   ],
   "source": [
    "[ b for b in range(10) if b%2==0 ]"
   ]
  },
  {
   "cell_type": "code",
   "execution_count": 57,
   "metadata": {},
   "outputs": [
    {
     "data": {
      "text/plain": [
       "[0, '', 2, '', 4, '', 6, '', 8, '']"
      ]
     },
     "execution_count": 57,
     "metadata": {},
     "output_type": "execute_result"
    }
   ],
   "source": [
    "[ b if b%2==0 else '' for b in range(10) ] "
   ]
  },
  {
   "cell_type": "code",
   "execution_count": 58,
   "metadata": {},
   "outputs": [],
   "source": [
    "# 수학 가장 간결한 것만 남긴다"
   ]
  },
  {
   "cell_type": "code",
   "execution_count": null,
   "metadata": {},
   "outputs": [],
   "source": [
    "[(a,b) for b in range(10) for a in range(11,20)]"
   ]
  },
  {
   "cell_type": "code",
   "execution_count": 60,
   "metadata": {},
   "outputs": [],
   "source": [
    "# 깔끔 빠르고 메모리 효율적"
   ]
  },
  {
   "cell_type": "code",
   "execution_count": 61,
   "metadata": {},
   "outputs": [],
   "source": [
    "# comprehension은 한꺼번에 실행 영역에 올려버린다.\n",
    "# 그런데 메모리가 부족하면 가상 메모리 사용 -> 단점.. \n",
    "# 영상에서는 절대 comprehension 사용 금지"
   ]
  },
  {
   "cell_type": "code",
   "execution_count": 62,
   "metadata": {},
   "outputs": [],
   "source": [
    "# comprehension 종류가 3개있다.\n",
    "# list\n",
    "# set\n",
    "# dict "
   ]
  },
  {
   "cell_type": "code",
   "execution_count": null,
   "metadata": {},
   "outputs": [],
   "source": [
    "# 위 3개의 공통점: mutalble\n",
    "# mutalble이어야만 comprehentilon을 사용할 수 있다.\n",
    "# 그런데 함수형 패러다임에서는 mutable을 금지한다. "
   ]
  },
  {
   "cell_type": "code",
   "execution_count": null,
   "metadata": {},
   "outputs": [],
   "source": [
    "# 프로젝트 조사를 잘 해야한다.\n",
    "# 발표에는 데이터 분석이 들어간다 \n",
    "# 인공지능으로 해결할 수 있는 문제\n",
    "# react 를 배우는 이유가 -> 모바일 카메라 이용하기 위해"
   ]
  },
  {
   "cell_type": "code",
   "execution_count": 63,
   "metadata": {},
   "outputs": [],
   "source": [
    "# mutalble 의 시작"
   ]
  },
  {
   "cell_type": "code",
   "execution_count": 64,
   "metadata": {},
   "outputs": [],
   "source": [
    "# mutable 하기 전에 메모리 보조"
   ]
  },
  {
   "cell_type": "code",
   "execution_count": null,
   "metadata": {},
   "outputs": [],
   "source": [
    "a = 1\n",
    "\n",
    "# 위의 작동을 이해해야한다\n",
    "# 1. 먼저 값의 타입을 파악한다 - 다이내믹 타이핑\n",
    "# 일반적으로는 \n",
    "a = int 1 # 메모리 공간을 먼저 확보하고 할당한다.\n",
    "# 그런데 파이썬은 값에 따라서 동적으로 메모리 공간을 확보한다. a를 재사용할 수 있다.\n",
    "# 파이썬은 a에 재할당이 가능하다. 타입을 변환시킬 때도 쉽다.\n",
    "# 파이썬에서 알아서 메모리 공간을 확보내준다.\n",
    "# 그런데 다이내픽 타이핑은 문제가 있다. 그래서 c 개념을 알아야 한다 -> numpy, tensorflow"
   ]
  },
  {
   "cell_type": "code",
   "execution_count": 66,
   "metadata": {},
   "outputs": [],
   "source": [
    "import antigravity # 소파에서 벗어나기, 어떻게 날라다니니\n",
    "# 다이내믹 타이핑** 중요"
   ]
  },
  {
   "cell_type": "code",
   "execution_count": 70,
   "metadata": {},
   "outputs": [
    {
     "data": {
      "text/plain": [
       "4346717832"
      ]
     },
     "execution_count": 70,
     "metadata": {},
     "output_type": "execute_result"
    }
   ],
   "source": [
    "id(a)  # 여기서 출력되는 것이 메모리 번지이다."
   ]
  },
  {
   "cell_type": "code",
   "execution_count": 71,
   "metadata": {},
   "outputs": [],
   "source": [
    "a = 1000\n",
    "b = 1000"
   ]
  },
  {
   "cell_type": "code",
   "execution_count": 72,
   "metadata": {},
   "outputs": [
    {
     "data": {
      "text/plain": [
       "10812914320"
      ]
     },
     "execution_count": 72,
     "metadata": {},
     "output_type": "execute_result"
    }
   ],
   "source": [
    "id(a)"
   ]
  },
  {
   "cell_type": "code",
   "execution_count": 73,
   "metadata": {},
   "outputs": [
    {
     "data": {
      "text/plain": [
       "10812912848"
      ]
     },
     "execution_count": 73,
     "metadata": {},
     "output_type": "execute_result"
    }
   ],
   "source": [
    "id(b)"
   ]
  },
  {
   "cell_type": "code",
   "execution_count": 79,
   "metadata": {},
   "outputs": [],
   "source": [
    "a = 256\n",
    "b = 256"
   ]
  },
  {
   "cell_type": "code",
   "execution_count": 76,
   "metadata": {},
   "outputs": [],
   "source": [
    "import sys"
   ]
  },
  {
   "cell_type": "code",
   "execution_count": 77,
   "metadata": {},
   "outputs": [
    {
     "data": {
      "text/plain": [
       "'a'"
      ]
     },
     "execution_count": 77,
     "metadata": {},
     "output_type": "execute_result"
    }
   ],
   "source": [
    "sys.intern('a')"
   ]
  },
  {
   "cell_type": "code",
   "execution_count": null,
   "metadata": {},
   "outputs": [],
   "source": [
    "id(a)"
   ]
  },
  {
   "cell_type": "code",
   "execution_count": null,
   "metadata": {},
   "outputs": [],
   "source": [
    "id(b)\n",
    "# 파이썬은 -5 부터 256 까지는 동일한 메모리를 공유한다.\n",
    "# 이 경우를 조심해야 한다."
   ]
  },
  {
   "cell_type": "code",
   "execution_count": 80,
   "metadata": {},
   "outputs": [
    {
     "data": {
      "text/plain": [
       "True"
      ]
     },
     "execution_count": 80,
     "metadata": {},
     "output_type": "execute_result"
    }
   ],
   "source": [
    "a == b # 값이 같은지 확인한다."
   ]
  },
  {
   "cell_type": "code",
   "execution_count": 81,
   "metadata": {},
   "outputs": [
    {
     "data": {
      "text/plain": [
       "True"
      ]
     },
     "execution_count": 81,
     "metadata": {},
     "output_type": "execute_result"
    }
   ],
   "source": [
    "a is b # 메모리가 같은지 확인한다."
   ]
  },
  {
   "cell_type": "code",
   "execution_count": 82,
   "metadata": {},
   "outputs": [],
   "source": [
    "# 메모리와 값을 모두 확인해햐한다.\n",
    "# 이런 현상을 인터닝이라고 한다. "
   ]
  },
  {
   "cell_type": "code",
   "execution_count": null,
   "metadata": {},
   "outputs": [],
   "source": [
    "# 분석은 내적 분석과 외적 분석을 모두 해야한다. "
   ]
  },
  {
   "cell_type": "code",
   "execution_count": 83,
   "metadata": {},
   "outputs": [],
   "source": [
    "# 여기 부터 뮤터블"
   ]
  },
  {
   "cell_type": "code",
   "execution_count": 84,
   "metadata": {},
   "outputs": [],
   "source": [
    "a = 2"
   ]
  },
  {
   "cell_type": "code",
   "execution_count": 85,
   "metadata": {},
   "outputs": [
    {
     "data": {
      "text/plain": [
       "4346717864"
      ]
     },
     "execution_count": 85,
     "metadata": {},
     "output_type": "execute_result"
    }
   ],
   "source": [
    "id(a)"
   ]
  },
  {
   "cell_type": "code",
   "execution_count": 91,
   "metadata": {},
   "outputs": [],
   "source": [
    "x = [1,2,3]"
   ]
  },
  {
   "cell_type": "code",
   "execution_count": 92,
   "metadata": {},
   "outputs": [
    {
     "data": {
      "text/plain": [
       "11228441472"
      ]
     },
     "execution_count": 92,
     "metadata": {},
     "output_type": "execute_result"
    }
   ],
   "source": [
    "id(x)"
   ]
  },
  {
   "cell_type": "code",
   "execution_count": 87,
   "metadata": {},
   "outputs": [],
   "source": [
    "# 재할당은 일반적으로 값이 바뀌어 버린다.\n",
    "# 값을 많이 만들면 메모리가 많이 필요하다.\n",
    "# 그런데 메모리를 그대로 유지하고 추가 삭제한 부분만 수정하면 좋다 이게 뮤터블의 햇심"
   ]
  },
  {
   "cell_type": "code",
   "execution_count": 94,
   "metadata": {},
   "outputs": [],
   "source": [
    "x.append(4)"
   ]
  },
  {
   "cell_type": "code",
   "execution_count": 96,
   "metadata": {},
   "outputs": [
    {
     "data": {
      "text/plain": [
       "11228441472"
      ]
     },
     "execution_count": 96,
     "metadata": {},
     "output_type": "execute_result"
    }
   ],
   "source": [
    "id(x) # 뮤터블이란 새로 메모리를 할당하지 않고, 값을 변화시킬 수있는 데이터 타입을 말한다."
   ]
  },
  {
   "cell_type": "code",
   "execution_count": 97,
   "metadata": {},
   "outputs": [],
   "source": [
    "# 뮤터블 mutable 메모리 재할당하지 않고 변형가능한 타입"
   ]
  },
  {
   "cell_type": "code",
   "execution_count": 99,
   "metadata": {},
   "outputs": [],
   "source": [
    "x = [1,2,3]\n",
    "y = x"
   ]
  },
  {
   "cell_type": "code",
   "execution_count": 100,
   "metadata": {},
   "outputs": [
    {
     "data": {
      "text/plain": [
       "11228441472"
      ]
     },
     "execution_count": 100,
     "metadata": {},
     "output_type": "execute_result"
    }
   ],
   "source": [
    "id(x)"
   ]
  },
  {
   "cell_type": "code",
   "execution_count": 102,
   "metadata": {},
   "outputs": [
    {
     "data": {
      "text/plain": [
       "11228441472"
      ]
     },
     "execution_count": 102,
     "metadata": {},
     "output_type": "execute_result"
    }
   ],
   "source": [
    "id(y) # y가 바뀌면 x도 바뀐다."
   ]
  },
  {
   "cell_type": "code",
   "execution_count": 103,
   "metadata": {},
   "outputs": [],
   "source": [
    "# 뮤터블 타입은 메모리를 공유하기 때문에, 바뀌면 이를 고융하는 것 까지 영향을 받는다 "
   ]
  },
  {
   "cell_type": "code",
   "execution_count": null,
   "metadata": {},
   "outputs": [],
   "source": [
    "# 함수형 페러다임에서는 mutable 비추천\n",
    "# comprehension 빼고 다른 부분에서는 mutalble 금지"
   ]
  },
  {
   "cell_type": "code",
   "execution_count": 104,
   "metadata": {},
   "outputs": [],
   "source": [
    "# immutable 타입\n",
    "# list <--> tuple\n",
    "# set <---> frozen set\n",
    "# dict <----> 없다. (예외적으로 별도로 다른 경우도 있다. namedtuple, orderedDict )"
   ]
  },
  {
   "cell_type": "code",
   "execution_count": 105,
   "metadata": {},
   "outputs": [
    {
     "ename": "IndexError",
     "evalue": "list assignment index out of range",
     "output_type": "error",
     "traceback": [
      "\u001b[0;31m---------------------------------------------------------------------------\u001b[0m",
      "\u001b[0;31mIndexError\u001b[0m                                Traceback (most recent call last)",
      "Cell \u001b[0;32mIn[105], line 2\u001b[0m\n\u001b[1;32m      1\u001b[0m a \u001b[38;5;241m=\u001b[39m [\u001b[38;5;241m1\u001b[39m,\u001b[38;5;241m2\u001b[39m,\u001b[38;5;241m3\u001b[39m]\n\u001b[0;32m----> 2\u001b[0m \u001b[43ma\u001b[49m\u001b[43m[\u001b[49m\u001b[38;5;241;43m3\u001b[39;49m\u001b[43m]\u001b[49m \u001b[38;5;241m=\u001b[39m \u001b[38;5;241m4\u001b[39m\n",
      "\u001b[0;31mIndexError\u001b[0m: list assignment index out of range"
     ]
    }
   ],
   "source": [
    "a = [1,2,3]\n",
    "a[3] = 4"
   ]
  },
  {
   "cell_type": "code",
   "execution_count": 106,
   "metadata": {},
   "outputs": [
    {
     "ename": "KeyError",
     "evalue": "'b'",
     "output_type": "error",
     "traceback": [
      "\u001b[0;31m---------------------------------------------------------------------------\u001b[0m",
      "\u001b[0;31mKeyError\u001b[0m                                  Traceback (most recent call last)",
      "Cell \u001b[0;32mIn[106], line 2\u001b[0m\n\u001b[1;32m      1\u001b[0m aa \u001b[38;5;241m=\u001b[39m {\u001b[38;5;124m'\u001b[39m\u001b[38;5;124ma\u001b[39m\u001b[38;5;124m'\u001b[39m:\u001b[38;5;241m1\u001b[39m}\n\u001b[0;32m----> 2\u001b[0m \u001b[43maa\u001b[49m\u001b[43m[\u001b[49m\u001b[38;5;124;43m'\u001b[39;49m\u001b[38;5;124;43mb\u001b[39;49m\u001b[38;5;124;43m'\u001b[39;49m\u001b[43m]\u001b[49m\n",
      "\u001b[0;31mKeyError\u001b[0m: 'b'"
     ]
    }
   ],
   "source": [
    "aa = {'a':1}\n",
    "aa['b']"
   ]
  },
  {
   "cell_type": "code",
   "execution_count": 107,
   "metadata": {},
   "outputs": [],
   "source": [
    "aa['b'] = 2"
   ]
  },
  {
   "cell_type": "code",
   "execution_count": 108,
   "metadata": {},
   "outputs": [],
   "source": [
    "aa['b'] = 2"
   ]
  },
  {
   "cell_type": "code",
   "execution_count": 148,
   "metadata": {},
   "outputs": [
    {
     "name": "stdout",
     "output_type": "stream",
     "text": [
      "<generator object <genexpr> at 0x106cf64d0>\n"
     ]
    },
    {
     "data": {
      "text/plain": [
       "0"
      ]
     },
     "execution_count": 148,
     "metadata": {},
     "output_type": "execute_result"
    }
   ],
   "source": [
    "c = (i for i in range(10))\n",
    "print(c)\n",
    "next(c)\n"
   ]
  },
  {
   "cell_type": "code",
   "execution_count": 143,
   "metadata": {},
   "outputs": [],
   "source": [
    "# 함수는 기본적으로 여러개 값이 들어있는 타입을 기본으로 다룬다. ㅣist\n",
    "# 여러개가 있으면 반드시 있어야 하는게 있다. -> 여러개 중에서 뽑아내는 기능\n",
    "# 어떻게 하면 효율적으로 뽑아낼까? 순서를 가지고 뽑아내야 한다.\n",
    "# 기본적으로 앞에서 부터 뽑는다. \n",
    "# forward 방식과 reverse 방식\n",
    "\n",
    "# 뽑기\n",
    "# iterable 중간단계: 순회가능한 것, \n",
    "# iterator 실제로 뽑는 것: iterable을 제공해주면 뽑아주는 녀석"
   ]
  },
  {
   "cell_type": "code",
   "execution_count": 110,
   "metadata": {},
   "outputs": [],
   "source": [
    "def y():\n",
    "    for i in range(10):\n",
    "        print(i)"
   ]
  },
  {
   "cell_type": "code",
   "execution_count": 112,
   "metadata": {},
   "outputs": [],
   "source": [
    "import dis"
   ]
  },
  {
   "cell_type": "code",
   "execution_count": 113,
   "metadata": {},
   "outputs": [
    {
     "name": "stdout",
     "output_type": "stream",
     "text": [
      "  1           0 RESUME                   0\n",
      "\n",
      "  2           2 LOAD_GLOBAL              1 (NULL + range)\n",
      "             14 LOAD_CONST               1 (10)\n",
      "             16 PRECALL                  1\n",
      "             20 CALL                     1\n",
      "             30 GET_ITER\n",
      "        >>   32 FOR_ITER                17 (to 68)\n",
      "             34 STORE_FAST               0 (i)\n",
      "\n",
      "  3          36 LOAD_GLOBAL              3 (NULL + print)\n",
      "             48 LOAD_FAST                0 (i)\n",
      "             50 PRECALL                  1\n",
      "             54 CALL                     1\n",
      "             64 POP_TOP\n",
      "             66 JUMP_BACKWARD           18 (to 32)\n",
      "\n",
      "  2     >>   68 LOAD_CONST               0 (None)\n",
      "             70 RETURN_VALUE\n"
     ]
    }
   ],
   "source": [
    "dis.dis(y)"
   ]
  },
  {
   "cell_type": "code",
   "execution_count": 114,
   "metadata": {},
   "outputs": [],
   "source": [
    "a = [1,2,3]\n",
    "b = iter(a) # 함수에 숨겨진기능. iterable을 iterator에 전달"
   ]
  },
  {
   "cell_type": "code",
   "execution_count": 118,
   "metadata": {},
   "outputs": [
    {
     "ename": "StopIteration",
     "evalue": "",
     "output_type": "error",
     "traceback": [
      "\u001b[0;31m---------------------------------------------------------------------------\u001b[0m",
      "\u001b[0;31mStopIteration\u001b[0m                             Traceback (most recent call last)",
      "Cell \u001b[0;32mIn[118], line 1\u001b[0m\n\u001b[0;32m----> 1\u001b[0m \u001b[38;5;28;43mnext\u001b[39;49m\u001b[43m(\u001b[49m\u001b[43mb\u001b[49m\u001b[43m)\u001b[49m\n",
      "\u001b[0;31mStopIteration\u001b[0m: "
     ]
    }
   ],
   "source": [
    "next(b)"
   ]
  },
  {
   "cell_type": "code",
   "execution_count": 149,
   "metadata": {},
   "outputs": [
    {
     "data": {
      "text/plain": [
       "0"
      ]
     },
     "execution_count": 149,
     "metadata": {},
     "output_type": "execute_result"
    }
   ],
   "source": [
    "# iterable 과 generator는 친척관계, 만드는 방식만 다르다\n",
    "# 한개씩 뽑을 수 있다.\n",
    "\n",
    "# generator는 만드는 방법이 두가지\n",
    "# 1)\n",
    "c = (i for i in range(10))\n",
    "next(c)\n",
    "\n",
    "# 상황에 따라 다르다. \n",
    "# 2) \n"
   ]
  },
  {
   "cell_type": "code",
   "execution_count": 150,
   "metadata": {},
   "outputs": [
    {
     "ename": "TypeError",
     "evalue": "'list' object is not an iterator",
     "output_type": "error",
     "traceback": [
      "\u001b[0;31m---------------------------------------------------------------------------\u001b[0m",
      "\u001b[0;31mTypeError\u001b[0m                                 Traceback (most recent call last)",
      "Cell \u001b[0;32mIn[150], line 2\u001b[0m\n\u001b[1;32m      1\u001b[0m a \u001b[38;5;241m=\u001b[39m [\u001b[38;5;241m1\u001b[39m,\u001b[38;5;241m2\u001b[39m,\u001b[38;5;241m3\u001b[39m]\n\u001b[0;32m----> 2\u001b[0m \u001b[38;5;28;43mnext\u001b[39;49m\u001b[43m(\u001b[49m\u001b[43ma\u001b[49m\u001b[43m)\u001b[49m\n",
      "\u001b[0;31mTypeError\u001b[0m: 'list' object is not an iterator"
     ]
    }
   ],
   "source": [
    "a = [1,2,3]\n",
    "next(a)"
   ]
  },
  {
   "cell_type": "code",
   "execution_count": 121,
   "metadata": {},
   "outputs": [],
   "source": [
    "# 함수형 패러다임 리스트 반복 함수 \n",
    "# 반복을 통해 데이터를 변화 시킬때 - 컴프리헨션 3종, 튜플은?\n",
    "# iterable iterator \n",
    "# generator - 튜플 컴프리헨션\n",
    "# generator\n",
    "# 컴프리헨션 문법 + ()\n",
    "# yield 사용하기"
   ]
  },
  {
   "cell_type": "code",
   "execution_count": 151,
   "metadata": {},
   "outputs": [],
   "source": [
    "def z():\n",
    "    yield 1\n",
    "    yield 2"
   ]
  },
  {
   "cell_type": "code",
   "execution_count": 152,
   "metadata": {},
   "outputs": [],
   "source": [
    "zz = z()"
   ]
  },
  {
   "cell_type": "code",
   "execution_count": 153,
   "metadata": {},
   "outputs": [
    {
     "data": {
      "text/plain": [
       "<generator object z at 0x10692fcc0>"
      ]
     },
     "execution_count": 153,
     "metadata": {},
     "output_type": "execute_result"
    }
   ],
   "source": [
    "zz"
   ]
  },
  {
   "cell_type": "code",
   "execution_count": 155,
   "metadata": {},
   "outputs": [
    {
     "data": {
      "text/plain": [
       "2"
      ]
     },
     "execution_count": 155,
     "metadata": {},
     "output_type": "execute_result"
    }
   ],
   "source": [
    "next(zz)"
   ]
  },
  {
   "cell_type": "code",
   "execution_count": 126,
   "metadata": {},
   "outputs": [
    {
     "data": {
      "text/plain": [
       "2"
      ]
     },
     "execution_count": 126,
     "metadata": {},
     "output_type": "execute_result"
    }
   ],
   "source": [
    "next(zz)"
   ]
  },
  {
   "cell_type": "code",
   "execution_count": 127,
   "metadata": {},
   "outputs": [
    {
     "ename": "StopIteration",
     "evalue": "",
     "output_type": "error",
     "traceback": [
      "\u001b[0;31m---------------------------------------------------------------------------\u001b[0m",
      "\u001b[0;31mStopIteration\u001b[0m                             Traceback (most recent call last)",
      "Cell \u001b[0;32mIn[127], line 1\u001b[0m\n\u001b[0;32m----> 1\u001b[0m \u001b[38;5;28;43mnext\u001b[39;49m\u001b[43m(\u001b[49m\u001b[43mzz\u001b[49m\u001b[43m)\u001b[49m\n",
      "\u001b[0;31mStopIteration\u001b[0m: "
     ]
    }
   ],
   "source": [
    "next(zz) # 이터레이터에 서 값을 1개씩 ㅂ뽀아주는 것 "
   ]
  },
  {
   "cell_type": "code",
   "execution_count": null,
   "metadata": {},
   "outputs": [],
   "source": [
    "iter = [1,2,3]"
   ]
  },
  {
   "cell_type": "code",
   "execution_count": null,
   "metadata": {},
   "outputs": [],
   "source": [
    "# 컴프리헨션\n",
    "# 데이터 -> 1개식 추출 (이터레이터) , 또는 이미 iterable이 있을때\n",
    "# 데이터 -> 자유롭게 1개씩 추출 (제너레이터)\n",
    "\n",
    "# 왜 이터레이터를 쓰냐? -> 메모리 효율 짱좋음 lazy 메모리 , 큰 데이터에서 하나씩 뽑아쓸때 "
   ]
  },
  {
   "cell_type": "code",
   "execution_count": 128,
   "metadata": {},
   "outputs": [],
   "source": [
    "# 덕 타이핑 형태로 이터레이터, 제너레이터를 만들 수 있따. "
   ]
  },
  {
   "cell_type": "code",
   "execution_count": 129,
   "metadata": {},
   "outputs": [],
   "source": [
    "# Map style\n",
    "# high-order function : 함수를 인자로 넣고 함수를 리턴할 수 있다."
   ]
  },
  {
   "cell_type": "code",
   "execution_count": 134,
   "metadata": {},
   "outputs": [],
   "source": [
    "def y():\n",
    "    print('y')\n",
    "    return print"
   ]
  },
  {
   "cell_type": "code",
   "execution_count": 136,
   "metadata": {},
   "outputs": [
    {
     "name": "stdout",
     "output_type": "stream",
     "text": [
      "y\n"
     ]
    },
    {
     "data": {
      "text/plain": [
       "<function print(*args, sep=' ', end='\\n', file=None, flush=False)>"
      ]
     },
     "execution_count": 136,
     "metadata": {},
     "output_type": "execute_result"
    }
   ],
   "source": [
    "y()"
   ]
  },
  {
   "cell_type": "code",
   "execution_count": 137,
   "metadata": {},
   "outputs": [],
   "source": [
    "def y():\n",
    "    print('y')\n",
    "    return y"
   ]
  },
  {
   "cell_type": "code",
   "execution_count": 138,
   "metadata": {},
   "outputs": [
    {
     "name": "stdout",
     "output_type": "stream",
     "text": [
      "y\n",
      "y\n"
     ]
    },
    {
     "data": {
      "text/plain": [
       "<function __main__.y()>"
      ]
     },
     "execution_count": 138,
     "metadata": {},
     "output_type": "execute_result"
    }
   ],
   "source": [
    "y()()"
   ]
  },
  {
   "cell_type": "code",
   "execution_count": 139,
   "metadata": {},
   "outputs": [
    {
     "name": "stdout",
     "output_type": "stream",
     "text": [
      "y\n",
      "y\n",
      "y\n",
      "y\n"
     ]
    },
    {
     "data": {
      "text/plain": [
       "<function __main__.y()>"
      ]
     },
     "execution_count": 139,
     "metadata": {},
     "output_type": "execute_result"
    }
   ],
   "source": [
    "y()()()()\n",
    "# 텐서 플로우에서 괄호두개가 뭐에요? 가 포기하는 지점이다."
   ]
  },
  {
   "cell_type": "code",
   "execution_count": null,
   "metadata": {},
   "outputs": [],
   "source": [
    "# 마지막 질문: 함수형 방식 \n",
    "def call(self,x):\n",
    "    x = self.conv(x)\n",
    "    x = self.flatten(x)\n",
    "    x = self.d1(x)\n",
    "    return self.d2(x)\n",
    "\n",
    "# 위의 형태는 합성함수\n"
   ]
  },
  {
   "cell_type": "code",
   "execution_count": 172,
   "metadata": {},
   "outputs": [
    {
     "name": "stdout",
     "output_type": "stream",
     "text": [
      "b: 0\n",
      "b: 1\n"
     ]
    },
    {
     "ename": "TypeError",
     "evalue": "'list' object is not an iterator",
     "output_type": "error",
     "traceback": [
      "\u001b[0;31m---------------------------------------------------------------------------\u001b[0m",
      "\u001b[0;31mTypeError\u001b[0m                                 Traceback (most recent call last)",
      "Cell \u001b[0;32mIn[172], line 7\u001b[0m\n\u001b[1;32m      5\u001b[0m \u001b[38;5;28mprint\u001b[39m(\u001b[38;5;124m'\u001b[39m\u001b[38;5;124mb:\u001b[39m\u001b[38;5;124m'\u001b[39m,\u001b[38;5;28mnext\u001b[39m(b))\n\u001b[1;32m      6\u001b[0m \u001b[38;5;28mprint\u001b[39m(\u001b[38;5;124m'\u001b[39m\u001b[38;5;124mb:\u001b[39m\u001b[38;5;124m'\u001b[39m,\u001b[38;5;28mnext\u001b[39m(b))\n\u001b[0;32m----> 7\u001b[0m \u001b[38;5;28mprint\u001b[39m(\u001b[38;5;124m'\u001b[39m\u001b[38;5;124mb:\u001b[39m\u001b[38;5;124m'\u001b[39m,\u001b[38;5;28;43mnext\u001b[39;49m\u001b[43m(\u001b[49m\u001b[43ma\u001b[49m\u001b[43m)\u001b[49m)\n\u001b[1;32m      8\u001b[0m \u001b[38;5;28mprint\u001b[39m(\u001b[38;5;124m'\u001b[39m\u001b[38;5;124mb:\u001b[39m\u001b[38;5;124m'\u001b[39m,\u001b[38;5;28mnext\u001b[39m(a))\n",
      "\u001b[0;31mTypeError\u001b[0m: 'list' object is not an iterator"
     ]
    }
   ],
   "source": [
    "a = [ i for i in range(10) ]\n",
    "b = ( j for j in range(10) )\n",
    "\n",
    "#print('a:',next(a))\n",
    "print('b:',next(b))\n",
    "print('b:',next(b))\n",
    "print('b:',next(a))\n",
    "print('b:',next(a))"
   ]
  },
  {
   "cell_type": "code",
   "execution_count": 173,
   "metadata": {},
   "outputs": [
    {
     "data": {
      "text/plain": [
       "list"
      ]
     },
     "execution_count": 173,
     "metadata": {},
     "output_type": "execute_result"
    }
   ],
   "source": [
    "type(a)"
   ]
  },
  {
   "cell_type": "code",
   "execution_count": 171,
   "metadata": {},
   "outputs": [
    {
     "data": {
      "text/plain": [
       "generator"
      ]
     },
     "execution_count": 171,
     "metadata": {},
     "output_type": "execute_result"
    }
   ],
   "source": [
    "type(b)"
   ]
  },
  {
   "cell_type": "code",
   "execution_count": null,
   "metadata": {},
   "outputs": [],
   "source": []
  }
 ],
 "metadata": {
  "kernelspec": {
   "display_name": "Python 3 (ipykernel)",
   "language": "python",
   "name": "python3"
  },
  "language_info": {
   "codemirror_mode": {
    "name": "ipython",
    "version": 3
   },
   "file_extension": ".py",
   "mimetype": "text/x-python",
   "name": "python",
   "nbconvert_exporter": "python",
   "pygments_lexer": "ipython3",
   "version": "3.11.8"
  }
 },
 "nbformat": 4,
 "nbformat_minor": 4
}
