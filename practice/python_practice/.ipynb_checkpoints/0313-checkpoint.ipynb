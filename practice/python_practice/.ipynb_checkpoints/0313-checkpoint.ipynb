{
 "cells": [
  {
   "cell_type": "code",
   "execution_count": 1,
   "id": "55f0a03f-e90e-4eb6-b368-c55f9d4fafb0",
   "metadata": {},
   "outputs": [],
   "source": [
    "# 걸리면 용서 받아야한다. "
   ]
  },
  {
   "cell_type": "code",
   "execution_count": 3,
   "id": "a499f55b-fa59-448d-b87a-41bdfc2205b9",
   "metadata": {},
   "outputs": [],
   "source": [
    "# OOP 3장 The Delegation Run"
   ]
  },
  {
   "cell_type": "code",
   "execution_count": 4,
   "id": "85a9f809-f355-422b-b0e7-7ffc9058dc3a",
   "metadata": {},
   "outputs": [],
   "source": [
    "# assert로 값을 확인하자"
   ]
  },
  {
   "cell_type": "code",
   "execution_count": 7,
   "id": "3b513501-41c4-46ab-b1c8-81074df475bf",
   "metadata": {},
   "outputs": [],
   "source": [
    "# 재활용 - 추가 및 수정"
   ]
  },
  {
   "cell_type": "code",
   "execution_count": 8,
   "id": "eda0d99e-fb2a-4529-89af-00c3eb827740",
   "metadata": {},
   "outputs": [],
   "source": [
    "# 추가\n",
    "    # 슈퍼\n",
    "    # 직접호출 ? "
   ]
  },
  {
   "cell_type": "code",
   "execution_count": 9,
   "id": "3fe38ea1-7bee-4108-9025-354484bce978",
   "metadata": {},
   "outputs": [],
   "source": [
    "# 수정\n",
    "    # ?? "
   ]
  },
  {
   "cell_type": "code",
   "execution_count": 10,
   "id": "356897bf-87a7-4e95-a846-9356ab2e1ad9",
   "metadata": {},
   "outputs": [],
   "source": [
    "# 바꾸는 능력이 중요하다. 남의 것 그대로 가져와쓰는 시대는 끝났다."
   ]
  },
  {
   "cell_type": "code",
   "execution_count": 12,
   "id": "e8af8198-8518-426d-a3c5-f863f0300805",
   "metadata": {},
   "outputs": [],
   "source": [
    "# 현실이 복잡해 질수록 정형화된 방법으로는 문제를 해결하기 어렵다."
   ]
  },
  {
   "cell_type": "code",
   "execution_count": 14,
   "id": "32007ca0-b0ea-464f-8e97-d2f07de9cbe9",
   "metadata": {},
   "outputs": [],
   "source": [
    "# 파레토 법칙 8:2, 롱테일 법칙 (틈새시장) "
   ]
  },
  {
   "cell_type": "code",
   "execution_count": 15,
   "id": "1124a9be-b6b7-413e-805e-8c13c2e83143",
   "metadata": {},
   "outputs": [],
   "source": [
    "# 프로그래밍에서는 상속 테크닉이 아주 유용하다.\n",
    "# 아이디어 경진대회 \n",
    "# 정말 정교하게 차별성을 만들어냈다."
   ]
  },
  {
   "cell_type": "code",
   "execution_count": 16,
   "id": "ed52ba1f-bf4c-4f37-93b7-048d3fd15718",
   "metadata": {},
   "outputs": [],
   "source": [
    "# 상속 시작."
   ]
  },
  {
   "cell_type": "code",
   "execution_count": 17,
   "id": "f35a4278-6f66-4ee2-be99-45b78f521595",
   "metadata": {},
   "outputs": [],
   "source": [
    "class A:\n",
    "    x = 1\n",
    "    y = 1"
   ]
  },
  {
   "cell_type": "code",
   "execution_count": 18,
   "id": "7c85579d-1e27-4b70-8d05-78ffc245f3ce",
   "metadata": {},
   "outputs": [],
   "source": [
    "class B:\n",
    "    x = 2"
   ]
  },
  {
   "cell_type": "code",
   "execution_count": 25,
   "id": "dd5680c3-2bd1-4e8f-9456-8e272f947086",
   "metadata": {},
   "outputs": [],
   "source": [
    "a = A()\n",
    "sa = set(dir(a)) \n",
    "saa = set(dir(A))"
   ]
  },
  {
   "cell_type": "code",
   "execution_count": 20,
   "id": "5965f2b4-d76e-475c-8a07-af09105ea281",
   "metadata": {},
   "outputs": [],
   "source": [
    "# 차집합 \n",
    "# 집합을 이용하면 비교할 수 있다"
   ]
  },
  {
   "cell_type": "code",
   "execution_count": 26,
   "id": "e114b85c-578a-4ab9-95e6-d6ffbc712c33",
   "metadata": {},
   "outputs": [
    {
     "data": {
      "text/plain": [
       "set()"
      ]
     },
     "execution_count": 26,
     "metadata": {},
     "output_type": "execute_result"
    }
   ],
   "source": [
    "sa - saa"
   ]
  },
  {
   "cell_type": "code",
   "execution_count": 27,
   "id": "cbb3b23f-c147-4f20-944b-58e0d2f770b6",
   "metadata": {},
   "outputs": [
    {
     "data": {
      "text/plain": [
       "set()"
      ]
     },
     "execution_count": 27,
     "metadata": {},
     "output_type": "execute_result"
    }
   ],
   "source": [
    "saa - sa"
   ]
  },
  {
   "cell_type": "code",
   "execution_count": 29,
   "id": "09d1e4d2-ddb1-4de7-99d6-a88677695ff9",
   "metadata": {},
   "outputs": [
    {
     "data": {
      "text/plain": [
       "set()"
      ]
     },
     "execution_count": 29,
     "metadata": {},
     "output_type": "execute_result"
    }
   ],
   "source": [
    "sa ^ saa #대칭차집합"
   ]
  },
  {
   "cell_type": "code",
   "execution_count": 30,
   "id": "22246328-4658-4130-930a-756c0d9571ed",
   "metadata": {},
   "outputs": [],
   "source": [
    "# 인스턴스에 없으면 클래스 것을 가져다 사용한다."
   ]
  },
  {
   "cell_type": "code",
   "execution_count": 32,
   "id": "3dbab4d9-bbaa-44f0-86f0-86f8041781ff",
   "metadata": {},
   "outputs": [],
   "source": [
    "class AA:\n",
    "    def __init__(self, x):\n",
    "        self.x = x"
   ]
  },
  {
   "cell_type": "code",
   "execution_count": 34,
   "id": "0d17d52f-efc8-4876-bce7-b7e25c46b4ed",
   "metadata": {},
   "outputs": [],
   "source": [
    "aa = AA(3)"
   ]
  },
  {
   "cell_type": "code",
   "execution_count": 35,
   "id": "3d56efb0-8a6e-46e9-b80b-179f2c76d0b6",
   "metadata": {},
   "outputs": [
    {
     "data": {
      "text/plain": [
       "{'x'}"
      ]
     },
     "execution_count": 35,
     "metadata": {},
     "output_type": "execute_result"
    }
   ],
   "source": [
    "set(dir(aa)) ^ set(dir(AA))  #클래스 입장에서는 여러 인스턴스 중에 어느 것을 접근하는 지 알수 없다. LEGB"
   ]
  },
  {
   "cell_type": "code",
   "execution_count": 36,
   "id": "4934aa80-9fa7-4b52-80de-193e19a8aec2",
   "metadata": {},
   "outputs": [],
   "source": [
    "# 인스턴스 변수가 생기는 즉시 인스턴스와 클래스가 달라진다."
   ]
  },
  {
   "cell_type": "code",
   "execution_count": 38,
   "id": "9c4d6441-0d78-413b-98c9-6626600707c1",
   "metadata": {},
   "outputs": [
    {
     "ename": "AttributeError",
     "evalue": "'AA' object has no attribute 'mro'",
     "output_type": "error",
     "traceback": [
      "\u001b[0;31m---------------------------------------------------------------------------\u001b[0m",
      "\u001b[0;31mAttributeError\u001b[0m                            Traceback (most recent call last)",
      "Cell \u001b[0;32mIn[38], line 1\u001b[0m\n\u001b[0;32m----> 1\u001b[0m \u001b[43maa\u001b[49m\u001b[38;5;241;43m.\u001b[39;49m\u001b[43mmro\u001b[49m()  \u001b[38;5;66;03m# 인스턴스는 mro를 사용할 수 없다.\u001b[39;00m\n\u001b[1;32m      2\u001b[0m           \u001b[38;5;66;03m# 인스턴스는 클래스 것만 가져다 쓸수 있고, 메타클래스의 것은 가져다 쓸수 없다.\u001b[39;00m\n",
      "\u001b[0;31mAttributeError\u001b[0m: 'AA' object has no attribute 'mro'"
     ]
    }
   ],
   "source": [
    "aa.mro()  # 인스턴스는 mro를 사용할 수 없다.\n",
    "          # 인스턴스는 클래스 것만 가져다 쓸수 있고, 메타클래스의 것은 가져다 쓸수 없다."
   ]
  },
  {
   "cell_type": "code",
   "execution_count": 39,
   "id": "161d3ac7-bfa0-4d13-9a53-f3b1992e6ae3",
   "metadata": {},
   "outputs": [
    {
     "data": {
      "text/plain": [
       "__main__.A"
      ]
     },
     "execution_count": 39,
     "metadata": {},
     "output_type": "execute_result"
    }
   ],
   "source": [
    "a.__class__"
   ]
  },
  {
   "cell_type": "code",
   "execution_count": 40,
   "id": "ba3945cf-c4b9-4542-9fcb-1d262709fd2d",
   "metadata": {},
   "outputs": [
    {
     "data": {
      "text/plain": [
       "__main__.A"
      ]
     },
     "execution_count": 40,
     "metadata": {},
     "output_type": "execute_result"
    }
   ],
   "source": [
    "type(a)"
   ]
  },
  {
   "cell_type": "code",
   "execution_count": 41,
   "id": "13641a2a-5e9c-47d0-be47-63cac2f3def0",
   "metadata": {},
   "outputs": [],
   "source": [
    "# 이름은 다르지만 같은 기능을 하는 것"
   ]
  },
  {
   "cell_type": "code",
   "execution_count": 42,
   "id": "730b38be-7257-4d7b-8891-0ddac3345fb0",
   "metadata": {},
   "outputs": [],
   "source": [
    "# 이름이 같고 같은 기능을 하는 것"
   ]
  },
  {
   "cell_type": "code",
   "execution_count": 43,
   "id": "221d8908-11e2-4424-90d4-463ec15eceea",
   "metadata": {},
   "outputs": [],
   "source": [
    "b = [1,2,3]"
   ]
  },
  {
   "cell_type": "code",
   "execution_count": 44,
   "id": "f4a0b897-4c3e-485b-bdb9-02259b61e265",
   "metadata": {},
   "outputs": [
    {
     "data": {
      "text/plain": [
       "3"
      ]
     },
     "execution_count": 44,
     "metadata": {},
     "output_type": "execute_result"
    }
   ],
   "source": [
    "len(b)"
   ]
  },
  {
   "cell_type": "code",
   "execution_count": 46,
   "id": "8330e935-1c4a-4eea-b7d7-02a6f788fd65",
   "metadata": {},
   "outputs": [
    {
     "data": {
      "text/plain": [
       "3"
      ]
     },
     "execution_count": 46,
     "metadata": {},
     "output_type": "execute_result"
    }
   ],
   "source": [
    "b.__len__()"
   ]
  },
  {
   "cell_type": "code",
   "execution_count": 47,
   "id": "8ef906b2-e01e-4bd3-bfe1-e1e48b1c4d43",
   "metadata": {},
   "outputs": [],
   "source": [
    "# 이름은 같지만 다른 기능을 하는 것"
   ]
  },
  {
   "cell_type": "code",
   "execution_count": 50,
   "id": "7dafe8ed-d960-4da3-ab68-636635d527b4",
   "metadata": {
    "scrolled": true
   },
   "outputs": [
    {
     "data": {
      "text/plain": [
       "['__add__',\n",
       " '__class__',\n",
       " '__class_getitem__',\n",
       " '__contains__',\n",
       " '__delattr__',\n",
       " '__delitem__',\n",
       " '__dir__',\n",
       " '__doc__',\n",
       " '__eq__',\n",
       " '__format__',\n",
       " '__ge__',\n",
       " '__getattribute__',\n",
       " '__getitem__',\n",
       " '__getstate__',\n",
       " '__gt__',\n",
       " '__hash__',\n",
       " '__iadd__',\n",
       " '__imul__',\n",
       " '__init__',\n",
       " '__init_subclass__',\n",
       " '__iter__',\n",
       " '__le__',\n",
       " '__len__',\n",
       " '__lt__',\n",
       " '__mul__',\n",
       " '__ne__',\n",
       " '__new__',\n",
       " '__reduce__',\n",
       " '__reduce_ex__',\n",
       " '__repr__',\n",
       " '__reversed__',\n",
       " '__rmul__',\n",
       " '__setattr__',\n",
       " '__setitem__',\n",
       " '__sizeof__',\n",
       " '__str__',\n",
       " '__subclasshook__',\n",
       " 'append',\n",
       " 'clear',\n",
       " 'copy',\n",
       " 'count',\n",
       " 'extend',\n",
       " 'index',\n",
       " 'insert',\n",
       " 'pop',\n",
       " 'remove',\n",
       " 'reverse',\n",
       " 'sort']"
      ]
     },
     "execution_count": 50,
     "metadata": {},
     "output_type": "execute_result"
    }
   ],
   "source": [
    "dir(b)  #정렬 되어 나온다."
   ]
  },
  {
   "cell_type": "code",
   "execution_count": 49,
   "id": "b6640088-db24-44a5-b7f9-a3d60e9a1884",
   "metadata": {
    "scrolled": true
   },
   "outputs": [
    {
     "data": {
      "text/plain": [
       "['__new__',\n",
       " '__repr__',\n",
       " '__hash__',\n",
       " '__getattribute__',\n",
       " '__lt__',\n",
       " '__le__',\n",
       " '__eq__',\n",
       " '__ne__',\n",
       " '__gt__',\n",
       " '__ge__',\n",
       " '__iter__',\n",
       " '__init__',\n",
       " '__len__',\n",
       " '__getitem__',\n",
       " '__setitem__',\n",
       " '__delitem__',\n",
       " '__add__',\n",
       " '__mul__',\n",
       " '__rmul__',\n",
       " '__contains__',\n",
       " '__iadd__',\n",
       " '__imul__',\n",
       " '__reversed__',\n",
       " '__sizeof__',\n",
       " 'clear',\n",
       " 'copy',\n",
       " 'append',\n",
       " 'insert',\n",
       " 'extend',\n",
       " 'pop',\n",
       " 'remove',\n",
       " 'index',\n",
       " 'count',\n",
       " 'reverse',\n",
       " 'sort',\n",
       " '__class_getitem__',\n",
       " '__doc__',\n",
       " '__str__',\n",
       " '__setattr__',\n",
       " '__delattr__',\n",
       " '__reduce_ex__',\n",
       " '__reduce__',\n",
       " '__getstate__',\n",
       " '__subclasshook__',\n",
       " '__init_subclass__',\n",
       " '__format__',\n",
       " '__dir__',\n",
       " '__class__']"
      ]
     },
     "execution_count": 49,
     "metadata": {},
     "output_type": "execute_result"
    }
   ],
   "source": [
    "b.__dir__()  # 정의된 순서대로 나온다."
   ]
  },
  {
   "cell_type": "code",
   "execution_count": null,
   "id": "0989deca-a435-4bc8-83b9-2bb29a11fdce",
   "metadata": {},
   "outputs": [],
   "source": [
    "# 뮤터블\n",
    "# 값이 안  변하고 리턴이 없다   append\n",
    "# 값이    변하고 리턴이 있다   pop\n",
    "# 깂이    변하고 리턴이 없다   "
   ]
  },
  {
   "cell_type": "code",
   "execution_count": 51,
   "id": "0f80bc30-edba-47d8-b102-dbd0bc750a2f",
   "metadata": {},
   "outputs": [],
   "source": [
    "# 인스턴스의 타입은 클래스이름\n",
    "# 클래스의  타입은 타입"
   ]
  },
  {
   "cell_type": "code",
   "execution_count": 54,
   "id": "3eba7560-20d4-402a-95aa-dad1954723a9",
   "metadata": {},
   "outputs": [
    {
     "ename": "AttributeError",
     "evalue": "'A' object has no attribute '__bases__'",
     "output_type": "error",
     "traceback": [
      "\u001b[0;31m---------------------------------------------------------------------------\u001b[0m",
      "\u001b[0;31mAttributeError\u001b[0m                            Traceback (most recent call last)",
      "Cell \u001b[0;32mIn[54], line 2\u001b[0m\n\u001b[1;32m      1\u001b[0m \u001b[38;5;66;03m# 부모클래스를 구하는법\u001b[39;00m\n\u001b[0;32m----> 2\u001b[0m \u001b[43ma\u001b[49m\u001b[38;5;241;43m.\u001b[39;49m\u001b[38;5;18;43m__bases__\u001b[39;49m\n\u001b[1;32m      3\u001b[0m a\u001b[38;5;241m.\u001b[39m\u001b[38;5;18m__mro__\u001b[39m\n",
      "\u001b[0;31mAttributeError\u001b[0m: 'A' object has no attribute '__bases__'"
     ]
    }
   ],
   "source": [
    "# 부모클래스를 구하는법\n",
    "a.__bases__\n",
    "a.__mro__"
   ]
  },
  {
   "cell_type": "code",
   "execution_count": 55,
   "id": "e89af276-810e-474e-abcc-406a9f1c8748",
   "metadata": {},
   "outputs": [
    {
     "data": {
      "text/plain": [
       "(object,)"
      ]
     },
     "execution_count": 55,
     "metadata": {},
     "output_type": "execute_result"
    }
   ],
   "source": [
    "list.__bases__  # 다중 상속 받을 수 있어서"
   ]
  },
  {
   "cell_type": "code",
   "execution_count": 57,
   "id": "75d4c263-951f-4db7-bb94-4f79b584a65d",
   "metadata": {
    "scrolled": true
   },
   "outputs": [
    {
     "data": {
      "text/plain": [
       "['__add__',\n",
       " '__class__',\n",
       " '__class_getitem__',\n",
       " '__contains__',\n",
       " '__delattr__',\n",
       " '__delitem__',\n",
       " '__dir__',\n",
       " '__doc__',\n",
       " '__eq__',\n",
       " '__format__',\n",
       " '__ge__',\n",
       " '__getattribute__',\n",
       " '__getitem__',\n",
       " '__getstate__',\n",
       " '__gt__',\n",
       " '__hash__',\n",
       " '__iadd__',\n",
       " '__imul__',\n",
       " '__init__',\n",
       " '__init_subclass__',\n",
       " '__iter__',\n",
       " '__le__',\n",
       " '__len__',\n",
       " '__lt__',\n",
       " '__mul__',\n",
       " '__ne__',\n",
       " '__new__',\n",
       " '__reduce__',\n",
       " '__reduce_ex__',\n",
       " '__repr__',\n",
       " '__reversed__',\n",
       " '__rmul__',\n",
       " '__setattr__',\n",
       " '__setitem__',\n",
       " '__sizeof__',\n",
       " '__str__',\n",
       " '__subclasshook__',\n",
       " 'append',\n",
       " 'clear',\n",
       " 'copy',\n",
       " 'count',\n",
       " 'extend',\n",
       " 'index',\n",
       " 'insert',\n",
       " 'pop',\n",
       " 'remove',\n",
       " 'reverse',\n",
       " 'sort']"
      ]
     },
     "execution_count": 57,
     "metadata": {},
     "output_type": "execute_result"
    }
   ],
   "source": [
    "dir(list) # 메타클래스의 인스턴스  # 인스턴스는 클래스가 아니기 때문에 __base__가 없다. "
   ]
  },
  {
   "cell_type": "code",
   "execution_count": 59,
   "id": "81402194-f683-4fb3-abe9-13e444e0e35b",
   "metadata": {},
   "outputs": [
    {
     "data": {
      "text/plain": [
       "object"
      ]
     },
     "execution_count": 59,
     "metadata": {},
     "output_type": "execute_result"
    }
   ],
   "source": [
    "list.__base__  # s를 떼면 첫번재 부모에게 간다"
   ]
  },
  {
   "cell_type": "code",
   "execution_count": 60,
   "id": "f08a4fba-b35c-432d-82f4-8656ced0b120",
   "metadata": {},
   "outputs": [
    {
     "data": {
      "text/plain": [
       "(list, object)"
      ]
     },
     "execution_count": 60,
     "metadata": {},
     "output_type": "execute_result"
    }
   ],
   "source": [
    "list.__mro__  # __bases__와 동일"
   ]
  },
  {
   "cell_type": "code",
   "execution_count": 61,
   "id": "02a991ac-e295-489b-80a7-188622853d68",
   "metadata": {},
   "outputs": [
    {
     "data": {
      "text/plain": [
       "[list, object]"
      ]
     },
     "execution_count": 61,
     "metadata": {},
     "output_type": "execute_result"
    }
   ],
   "source": [
    "list.mro()   # 이정도 주의해야한다. 매직메서드와 메서드 "
   ]
  },
  {
   "cell_type": "code",
   "execution_count": 67,
   "id": "483e75e1-48b4-4103-a7e3-55ae2ba38a64",
   "metadata": {},
   "outputs": [],
   "source": [
    "# personal knowledge management -> 지식을 재조합하는 것\n",
    "# 노트 테이킹 하는 이유\n",
    "# 제텔 카스텐, 노션, 옵시디언\n",
    "# 세상에 정보가 너무 많다. \n",
    "# 어떻게 정보를 잘 조직해야 효율적일까? \n",
    "# 꼭 정리해라. 모르는 것 체크해라\n",
    "# 굿 노트 - anki 사용법 - 디지털 세대의 공부 방식"
   ]
  },
  {
   "cell_type": "code",
   "execution_count": 68,
   "id": "454c32f6-92cf-4d31-9e1b-512e05465738",
   "metadata": {},
   "outputs": [],
   "source": [
    "# consenting adault, 오펜하이머, 쓰는 사람의 책임\n",
    "# 다중 상속 지원하지만, 안쓸수 있다 "
   ]
  },
  {
   "cell_type": "code",
   "execution_count": null,
   "id": "b2ec4ee6-f823-4d78-8752-a6b633869b2b",
   "metadata": {},
   "outputs": [],
   "source": [
    "# 파이써닉\n",
    "# __dict__ == var()\n",
    "print(sdoor.__class__.__bases__[0].__dict__['knock'].__get__(sdoor))"
   ]
  },
  {
   "cell_type": "code",
   "execution_count": 71,
   "id": "97f5a459-ba98-492e-bac1-7c28434dc06b",
   "metadata": {},
   "outputs": [],
   "source": [
    "# 오늘의 주제 일부: Composition(합성)"
   ]
  },
  {
   "cell_type": "code",
   "execution_count": 72,
   "id": "f3e02c81-5e31-401f-ac67-af899cd73d42",
   "metadata": {},
   "outputs": [],
   "source": [
    "# 객체 지향에서 합성이란: 다른 클래스의 인스턴스를 내 안에 포함시키는 것"
   ]
  },
  {
   "cell_type": "code",
   "execution_count": 73,
   "id": "3999b745-e115-4d3e-aefa-4bc9646a38a3",
   "metadata": {},
   "outputs": [],
   "source": [
    "# 저질예시\n",
    "class A:\n",
    "    def x(self):\n",
    "        print('x')\n",
    "\n",
    "class B:\n",
    "    def y(self):\n",
    "        print('y')"
   ]
  },
  {
   "cell_type": "code",
   "execution_count": 75,
   "id": "1724a21c-c3fd-45a5-9012-eac2479fd5be",
   "metadata": {},
   "outputs": [],
   "source": [
    "class C:\n",
    "    def __init__(self):\n",
    "        self.a = A()\n",
    "        self.b = B()\n",
    "    def cc(self):\n",
    "        self.a.x()\n",
    "        self.b.y()"
   ]
  },
  {
   "cell_type": "code",
   "execution_count": 76,
   "id": "ac7f44df-003e-4359-a07b-bdb874f359dd",
   "metadata": {},
   "outputs": [],
   "source": [
    "c = C()"
   ]
  },
  {
   "cell_type": "code",
   "execution_count": 77,
   "id": "acd6f985-34f2-4102-a8c6-daf6d0e8fa68",
   "metadata": {},
   "outputs": [
    {
     "name": "stdout",
     "output_type": "stream",
     "text": [
      "x\n",
      "y\n"
     ]
    }
   ],
   "source": [
    "c.cc()"
   ]
  },
  {
   "cell_type": "code",
   "execution_count": 78,
   "id": "1dcda5f2-6af0-48ba-8c9c-bfd73648183c",
   "metadata": {},
   "outputs": [],
   "source": [
    "# 다른 클래스의 인스턴스를 포함하여, 다른 클래스의 기능을 하나의 클래스로 관리하고 실행하는 것"
   ]
  },
  {
   "cell_type": "code",
   "execution_count": null,
   "id": "d76b38a9-e983-4ead-8627-8b2917a3264a",
   "metadata": {},
   "outputs": [],
   "source": [
    "# 좀더 우아한 예시1"
   ]
  },
  {
   "cell_type": "code",
   "execution_count": null,
   "id": "d56027c5-c31b-4889-995e-d6eaed151678",
   "metadata": {},
   "outputs": [],
   "source": [
    "class MyModel(Model):\n",
    "  # 객체 지향에서의 컴포지션\n",
    "  def __init__(self):\n",
    "    super(MyModel, self).__init__()\n",
    "    self.conv1 = Conv2D(32, 3, activation='relu')\n",
    "    self.flatten = Flatten()\n",
    "    self.d1 = Dense(128, activation='relu')\n",
    "    self.d2 = Dense(10)\n",
    "\n",
    "  # 함수형 프로그래밍에서의 컴포지션\n",
    "  def call(self, x):\n",
    "    x = self.conv1(x)\n",
    "    x = self.flatten(x)\n",
    "    x = self.d1(x)\n",
    "    return self.d2(x)\n",
    "\n",
    "# Create an instance of the model\n",
    "model = MyModel()"
   ]
  },
  {
   "cell_type": "code",
   "execution_count": 79,
   "id": "ab5127e4-9a50-4a06-b895-5a3732a159eb",
   "metadata": {},
   "outputs": [],
   "source": [
    "# 좀더 우아한 예시2"
   ]
  },
  {
   "cell_type": "code",
   "execution_count": null,
   "id": "e21c3060-c989-425b-b758-e4a13cfb5850",
   "metadata": {},
   "outputs": [],
   "source": [
    "# Get cpu, gpu or mps device for training.\n",
    "device = (\n",
    "    \"cuda\"\n",
    "    if torch.cuda.is_available()\n",
    "    else \"mps\"\n",
    "    if torch.backends.mps.is_available()\n",
    "    else \"cpu\"\n",
    ")\n",
    "print(f\"Using {device} device\")\n",
    "\n",
    "# Define model\n",
    "\n",
    "# 객체 지향에서의 컴포지션\n",
    "class NeuralNetwork(nn.Module):\n",
    "    def __init__(self):\n",
    "        super().__init__()\n",
    "        self.flatten = nn.Flatten()\n",
    "        self.linear_relu_stack = nn.Sequential(\n",
    "            nn.Linear(28*28, 512),\n",
    "            nn.ReLU(),\n",
    "            nn.Linear(512, 512),\n",
    "            nn.ReLU(),\n",
    "            nn.Linear(512, 10)\n",
    "        )\n",
    "\n",
    "    # 함수형 프로그래밍에서의 컴포지션\n",
    "    def forward(self, x):\n",
    "        x = self.flatten(x)\n",
    "        logits = self.linear_relu_stack(x)\n",
    "        return logits\n",
    "\n",
    "model = NeuralNetwork().to(device)\n",
    "print(model)\n",
    "\n",
    "\n",
    "# 상속, super, 컴포지션, "
   ]
  },
  {
   "cell_type": "code",
   "execution_count": 80,
   "id": "0b87b1b5-73fc-4d0c-b68b-c1861e7bf228",
   "metadata": {},
   "outputs": [],
   "source": [
    "# 상속과 컴포지션\n",
    "# 상속은 복잡해지기 쉽다.\n",
    "# 다중상속이 너무 복잡해지니가 컴포지션을 사용하는 것이다.\n",
    "# 파이토치와 텐서플로우는 상속과 컴포지션을 같이 쓴다.\n",
    "# 컴포지션으로 아예 상속을 대체 할 수 있다.\n",
    "# 가장 중요한 것은 상황에 맞게 섞어쓰는게 좋다. -> 이건 직접 경험해야한다."
   ]
  },
  {
   "cell_type": "code",
   "execution_count": 81,
   "id": "ab561e17-c926-436e-b4f6-f02aff40765c",
   "metadata": {},
   "outputs": [],
   "source": [
    "# 컴포지션으로 상속 대체하기"
   ]
  },
  {
   "cell_type": "code",
   "execution_count": 82,
   "id": "9b134797-9892-4b82-bc2a-9261a94d2539",
   "metadata": {},
   "outputs": [],
   "source": [
    "# 파이썬의 가장 좋은 해결책이 있다. 방법이 여러개 이다. 이 방법을 다 알자.\n",
    "# 이 자료의 마지막 주제는 컴포지션으로 상속 효과 내기\n",
    "# 저세상 난이도"
   ]
  },
  {
   "cell_type": "code",
   "execution_count": 83,
   "id": "b34eb823-62f2-4ce5-83d8-e4068513854d",
   "metadata": {},
   "outputs": [],
   "source": [
    "class A:\n",
    "    x = 1\n",
    "    def y(self):\n",
    "        print('y')"
   ]
  },
  {
   "cell_type": "code",
   "execution_count": 84,
   "id": "3e6b8df1-57b2-4ecf-907a-c4790a7b30ca",
   "metadata": {},
   "outputs": [
    {
     "name": "stdout",
     "output_type": "stream",
     "text": [
      "x\n",
      "y\n"
     ]
    }
   ],
   "source": [
    "c.cc()"
   ]
  },
  {
   "cell_type": "code",
   "execution_count": 86,
   "id": "f9718e27-b101-463e-b835-ea7d4eb92885",
   "metadata": {},
   "outputs": [],
   "source": [
    "class B(A):\n",
    "    pass"
   ]
  },
  {
   "cell_type": "code",
   "execution_count": 87,
   "id": "f0db05a4-31a6-4ee5-855c-2657fb1f0e21",
   "metadata": {},
   "outputs": [],
   "source": [
    "# 컴포지션의 문제는 코드가 길어지고 어려워진다는 것이다."
   ]
  },
  {
   "cell_type": "code",
   "execution_count": 99,
   "id": "76e7c69f-710b-4936-b157-62f0930e6bc1",
   "metadata": {},
   "outputs": [],
   "source": [
    "class C:\n",
    "    def __init__(self):\n",
    "        self.a = A()\n",
    "    def __getattr__(self,x):  #용서를 해줄 기능이 많다. 파이썬은 예외처리가 잘 되어있다. # __getattr__은 try_except 구문과 같다.\n",
    "        print(x)                                                           # builtin 함수에 __getattr__과 유사한 것이 있다.\n",
    "                                                                           # __getattr__는 __init__에 일을 시킨다.\n",
    "                                                                           "
   ]
  },
  {
   "cell_type": "code",
   "execution_count": 89,
   "id": "c009724d-45c7-4b8b-8305-303be237cc35",
   "metadata": {},
   "outputs": [],
   "source": [
    "# Fluent Python - 2016년판 - 많이 바뀜."
   ]
  },
  {
   "cell_type": "code",
   "execution_count": 90,
   "id": "eac92ac0-5539-40a7-ac75-661826ef4111",
   "metadata": {},
   "outputs": [],
   "source": [
    "b = B()"
   ]
  },
  {
   "cell_type": "code",
   "execution_count": 91,
   "id": "d6728c6c-d692-4be3-b9c8-32aba08df320",
   "metadata": {},
   "outputs": [
    {
     "data": {
      "text/plain": [
       "1"
      ]
     },
     "execution_count": 91,
     "metadata": {},
     "output_type": "execute_result"
    }
   ],
   "source": [
    "b.x"
   ]
  },
  {
   "cell_type": "code",
   "execution_count": 100,
   "id": "a3793ef2-17a0-42b5-9033-51bc5212f63a",
   "metadata": {},
   "outputs": [],
   "source": [
    "c = C()"
   ]
  },
  {
   "cell_type": "code",
   "execution_count": 101,
   "id": "662e0ed1-4c81-4b64-93f2-71a3436dc825",
   "metadata": {},
   "outputs": [
    {
     "name": "stdout",
     "output_type": "stream",
     "text": [
      "x\n"
     ]
    }
   ],
   "source": [
    "c.x"
   ]
  },
  {
   "cell_type": "code",
   "execution_count": 104,
   "id": "98f7bc0b-1615-4269-8bc8-2c2544f47b5e",
   "metadata": {},
   "outputs": [
    {
     "data": {
      "text/plain": [
       "1"
      ]
     },
     "execution_count": 104,
     "metadata": {},
     "output_type": "execute_result"
    }
   ],
   "source": [
    "getattr(-1, '__abs__')()"
   ]
  },
  {
   "cell_type": "code",
   "execution_count": 105,
   "id": "78064fe4-b429-4006-aee5-0fd81d69f8fd",
   "metadata": {},
   "outputs": [
    {
     "name": "stdin",
     "output_type": "stream",
     "text": [
      " __abs__\n"
     ]
    }
   ],
   "source": [
    "a = input()"
   ]
  },
  {
   "cell_type": "code",
   "execution_count": 107,
   "id": "153dd715-09b3-4064-88fe-019fb7294770",
   "metadata": {
    "scrolled": true
   },
   "outputs": [
    {
     "ename": "NameError",
     "evalue": "name '__getarrt__' is not defined",
     "output_type": "error",
     "traceback": [
      "\u001b[0;31m---------------------------------------------------------------------------\u001b[0m",
      "\u001b[0;31mNameError\u001b[0m                                 Traceback (most recent call last)",
      "Cell \u001b[0;32mIn[107], line 3\u001b[0m\n\u001b[1;32m      1\u001b[0m \u001b[38;5;28mgetattr\u001b[39m(\u001b[38;5;241m-\u001b[39m\u001b[38;5;241m1\u001b[39m, a)()  \u001b[38;5;66;03m# 사용자로부터 실행시키고자 하는 함수이름을 인풋으로 받아 함수를 실행시킬 수 있다.\u001b[39;00m\n\u001b[1;32m      2\u001b[0m                   \u001b[38;5;66;03m# 함수의 이름을 받아서, 해당 함수를 실행해주는 함수\u001b[39;00m\n\u001b[0;32m----> 3\u001b[0m \u001b[43m__getarrt__\u001b[49m       \u001b[38;5;66;03m# 이건 클래스 내부에서의 예외처리\u001b[39;00m\n",
      "\u001b[0;31mNameError\u001b[0m: name '__getarrt__' is not defined"
     ]
    }
   ],
   "source": [
    "getattr(-1, a)()  # 사용자로부터 실행시키고자 하는 함수이름을 인풋으로 받아 함수를 실행시킬 수 있다.\n",
    "                  # 함수의 이름을 받아서, 해당 함수를 실행해주는 함수\n",
    "__getarrt__       # 이건 클래스 내부에서의 예외처리"
   ]
  },
  {
   "cell_type": "code",
   "execution_count": 108,
   "id": "799fc55f-a762-4bca-9378-6f45eb480632",
   "metadata": {},
   "outputs": [
    {
     "ename": "SyntaxError",
     "evalue": "invalid decimal literal (2402031256.py, line 1)",
     "output_type": "error",
     "traceback": [
      "\u001b[0;36m  Cell \u001b[0;32mIn[108], line 1\u001b[0;36m\u001b[0m\n\u001b[0;31m    1.__getattribute__('__abs__')() # getattr\u001b[0m\n\u001b[0m     ^\u001b[0m\n\u001b[0;31mSyntaxError\u001b[0m\u001b[0;31m:\u001b[0m invalid decimal literal\n"
     ]
    }
   ],
   "source": [
    "1.__getattribute__('__abs__')() # getattr  # 1.는 실수이다.  # 장고나 플라스크에서 나온다."
   ]
  },
  {
   "cell_type": "code",
   "execution_count": 110,
   "id": "31bf6691-4aac-41ea-be97-4d9e5100dd45",
   "metadata": {},
   "outputs": [
    {
     "data": {
      "text/plain": [
       "1"
      ]
     },
     "execution_count": 110,
     "metadata": {},
     "output_type": "execute_result"
    }
   ],
   "source": [
    "1 .__getattribute__('__abs__')() # getattr # 공백이 유의미한 유일한 경우.  # discriptor와 연관되어있다."
   ]
  },
  {
   "cell_type": "code",
   "execution_count": 111,
   "id": "30c0b894-de85-4c19-8a77-29bac3a95301",
   "metadata": {},
   "outputs": [
    {
     "data": {
      "text/plain": [
       "1"
      ]
     },
     "execution_count": 111,
     "metadata": {},
     "output_type": "execute_result"
    }
   ],
   "source": [
    "(1).__getattribute__('__abs__')()"
   ]
  },
  {
   "cell_type": "code",
   "execution_count": 112,
   "id": "11c60f1e-571a-4b0c-80ac-fa1ca66df479",
   "metadata": {},
   "outputs": [],
   "source": [
    "# 웹 프로그래밍에서의 파이썬은 또 배울게 많다."
   ]
  },
  {
   "cell_type": "code",
   "execution_count": 115,
   "id": "427d6da6-8031-4e28-9d89-c846e2336687",
   "metadata": {},
   "outputs": [],
   "source": [
    "class C:\n",
    "    def __init__(self):\n",
    "        self.a = A()\n",
    "    def __getattr__(self,x):  #용서를 해줄 기능이 많다. 파이썬은 예외처리가 잘 되어있다. # __getattr__은 try_except 구문과 같다.\n",
    "        return getattr(self.a, x)                                                           # builtin 함수에 __getattr__과 유사한 것이 있다.\n",
    "                                                                           # __getattr__는 __init__에 일을 시킨다."
   ]
  },
  {
   "cell_type": "code",
   "execution_count": 116,
   "id": "55dbdf15-2b79-4afd-90b7-b4b39c986286",
   "metadata": {},
   "outputs": [],
   "source": [
    "c = C()"
   ]
  },
  {
   "cell_type": "code",
   "execution_count": 117,
   "id": "63956e69-4284-483e-8f5b-a9acf5b54ce6",
   "metadata": {},
   "outputs": [
    {
     "data": {
      "text/plain": [
       "1"
      ]
     },
     "execution_count": 117,
     "metadata": {},
     "output_type": "execute_result"
    }
   ],
   "source": [
    "c.x"
   ]
  },
  {
   "cell_type": "code",
   "execution_count": 118,
   "id": "a5bc14de-67e8-455c-af16-9617dc8ed97c",
   "metadata": {},
   "outputs": [
    {
     "name": "stdout",
     "output_type": "stream",
     "text": [
      "y\n"
     ]
    }
   ],
   "source": [
    "c.y()"
   ]
  },
  {
   "cell_type": "code",
   "execution_count": 119,
   "id": "7570c893-26f0-4db9-9880-f619d67fd12d",
   "metadata": {},
   "outputs": [],
   "source": [
    "# 상속, 컴포지션, 덕타이핑을 다 섞어서 써봐야 한다.\n",
    "# 하나 더 있다. "
   ]
  },
  {
   "cell_type": "code",
   "execution_count": 121,
   "id": "fe7e694c-a56a-4de8-84dd-621a61715a1c",
   "metadata": {},
   "outputs": [],
   "source": [
    "# 추상화 == 규약\n",
    "# abstract base class\n",
    "# 핵폭탄을 만드는 사람들이 더 많이 사용한다. \n",
    "\n",
    "# 분석 테크닉이 있다 고유한, sklearn을 그대로 가져다씀녀서 나의 알고리즘을 사용하는 것이 분석가가 하는 일이다.\n",
    "# sklearn에서 상속 받아서 나에게 맞게 정교화 하는 것이다. \n",
    "\n",
    "# 같은 데이터로도 서로 다른 분석을 한다."
   ]
  },
  {
   "cell_type": "code",
   "execution_count": 123,
   "id": "738854f7-a202-460c-adc9-14eccb860dbc",
   "metadata": {
    "scrolled": true
   },
   "outputs": [
    {
     "ename": "ModuleNotFoundError",
     "evalue": "No module named 'sklearn'",
     "output_type": "error",
     "traceback": [
      "\u001b[0;31m---------------------------------------------------------------------------\u001b[0m",
      "\u001b[0;31mModuleNotFoundError\u001b[0m                       Traceback (most recent call last)",
      "Cell \u001b[0;32mIn[123], line 1\u001b[0m\n\u001b[0;32m----> 1\u001b[0m \u001b[38;5;28;01mfrom\u001b[39;00m \u001b[38;5;21;01msklearn\u001b[39;00m\u001b[38;5;21;01m.\u001b[39;00m\u001b[38;5;21;01mnaive_bayes\u001b[39;00m \u001b[38;5;28;01mimport\u001b[39;00m GaussianNB, BernoulliNB, CategoricalNB   \u001b[38;5;66;03m# 스팸메일 분류시 사용한다.\u001b[39;00m\n\u001b[1;32m      2\u001b[0m                                                                          \u001b[38;5;66;03m# 3가지 모델을 만들때 공통점을 뽑아서 규약으로 만든다 == 추상화\u001b[39;00m\n\u001b[1;32m      3\u001b[0m                                                                          \u001b[38;5;66;03m# 만약 석사 연구 주제로 나이브 베이스를 개선해보고 싶다면 공통된 규약을 따라야한다.\u001b[39;00m\n",
      "\u001b[0;31mModuleNotFoundError\u001b[0m: No module named 'sklearn'"
     ]
    }
   ],
   "source": [
    "from sklearn.naive_bayes import GaussianNB, BernoulliNB, CategoricalNB   # 스팸메일 분류시 사용한다.\n",
    "                                                                         # 3가지 모델을 만들때 공통점을 뽑아서 규약으로 만든다 == 추상화\n",
    "                                                                         # 만약 석사 연구 주제로 나이브 베이스를 개선해보고 싶다면 공통된 규약을 따라야한다."
   ]
  },
  {
   "cell_type": "code",
   "execution_count": 124,
   "id": "28eee47e-a9f3-492f-abe2-487258089ce4",
   "metadata": {},
   "outputs": [
    {
     "ename": "SyntaxError",
     "evalue": "invalid syntax (1556598443.py, line 1)",
     "output_type": "error",
     "traceback": [
      "\u001b[0;36m  Cell \u001b[0;32mIn[124], line 1\u001b[0;36m\u001b[0m\n\u001b[0;31m    from sklearn.naive_bayes import\u001b[0m\n\u001b[0m                                    ^\u001b[0m\n\u001b[0;31mSyntaxError\u001b[0m\u001b[0;31m:\u001b[0m invalid syntax\n"
     ]
    }
   ],
   "source": [
    "from sklearn.naive_bayes import \n",
    "\n",
    "# 덕 타이핑은 강제성이 없지만, abstract는 강제성이 있다. \"우리가족은 이걸 지켜야한다.\"\n",
    "# 파이썬은 추상화기법을 상속으로 구현하였다.\n",
    "\n",
    "# 추상화: 공통적인 규칙을 뽑는다\n",
    "# 추상화 기법: 그 뽑은 것을 강제시킨다. "
   ]
  },
  {
   "cell_type": "code",
   "execution_count": 130,
   "id": "df0d2120-560a-4e62-9680-301bf5d778a0",
   "metadata": {},
   "outputs": [],
   "source": [
    "#\n",
    "def get_primes():\n",
    "     \"Simple lazy Sieve of Eratosthenes\"\n",
    "     candidate = 2\n",
    "     found = []\n",
    "     while True:\n",
    "         if all(candidate % prime != 0 for prime in found):\n",
    "             yield candidate\n",
    "             found.append(candidate)\n",
    "         candidate += 1"
   ]
  },
  {
   "cell_type": "code",
   "execution_count": 129,
   "id": "b48452eb-91c0-424d-a293-d578d7f08430",
   "metadata": {},
   "outputs": [],
   "source": [
    "from collections.abc import Sequence\n",
    "class ExpandingSequence(Sequence):\n",
    "    def __init__(self, it):\n",
    "        self.it = it\n",
    "        self._cache = []\n",
    "    # def __getitem__(self, index):\n",
    "    #     while len(self._cache) <= index:\n",
    "    #         self._cache.append(next(self.it))\n",
    "    #     return self._cache[index]\n",
    "    def __len__(self):\n",
    "        return len(self._cache)"
   ]
  },
  {
   "cell_type": "code",
   "execution_count": 131,
   "id": "ace8cb00-53bd-47ac-b301-48129bef215c",
   "metadata": {},
   "outputs": [
    {
     "ename": "TypeError",
     "evalue": "Can't instantiate abstract class ExpandingSequence with abstract method __getitem__",
     "output_type": "error",
     "traceback": [
      "\u001b[0;31m---------------------------------------------------------------------------\u001b[0m",
      "\u001b[0;31mTypeError\u001b[0m                                 Traceback (most recent call last)",
      "Cell \u001b[0;32mIn[131], line 1\u001b[0m\n\u001b[0;32m----> 1\u001b[0m primes \u001b[38;5;241m=\u001b[39m \u001b[43mExpandingSequence\u001b[49m\u001b[43m(\u001b[49m\u001b[43mget_primes\u001b[49m\u001b[43m(\u001b[49m\u001b[43m)\u001b[49m\u001b[43m)\u001b[49m\n",
      "\u001b[0;31mTypeError\u001b[0m: Can't instantiate abstract class ExpandingSequence with abstract method __getitem__"
     ]
    }
   ],
   "source": [
    "primes = ExpandingSequence(get_primes())"
   ]
  },
  {
   "cell_type": "code",
   "execution_count": 128,
   "id": "e1990c6a-fd47-43f4-bfac-6e64c0900e05",
   "metadata": {},
   "outputs": [],
   "source": [
    "# abstract 없어도 덕타이핑으로도 만들수 있다.\n",
    "class ExpandingSequence_duck(Sequence):\n",
    "    def __init__(self, it):\n",
    "        self.it = it\n",
    "        self._cache = []\n",
    "    def __getitem__(self, index):\n",
    "        while len(self._cache) <= index:\n",
    "            self._cache.append(next(self.it))\n",
    "        return self._cache[index]\n",
    "    def __len__(self):\n",
    "        return len(self._cache)"
   ]
  },
  {
   "cell_type": "code",
   "execution_count": null,
   "id": "c1d0b690-2ced-4cc3-9fc8-d49128333dc5",
   "metadata": {},
   "outputs": [],
   "source": []
  },
  {
   "cell_type": "code",
   "execution_count": null,
   "id": "1ff25d2f-3dbd-466a-8d88-92949b7918de",
   "metadata": {},
   "outputs": [],
   "source": [
    "for _, prime in zip(range(10), primes):\n",
    "    print(prime, end=\" \")"
   ]
  },
  {
   "cell_type": "code",
   "execution_count": 132,
   "id": "71704062-434a-45d8-ae28-73ed157a7d77",
   "metadata": {},
   "outputs": [
    {
     "ename": "SyntaxError",
     "evalue": "unmatched ')' (2334661071.py, line 2)",
     "output_type": "error",
     "traceback": [
      "\u001b[0;36m  Cell \u001b[0;32mIn[132], line 2\u001b[0;36m\u001b[0m\n\u001b[0;31m    1) 추상클래스를 상속받기\u001b[0m\n\u001b[0m     ^\u001b[0m\n\u001b[0;31mSyntaxError\u001b[0m\u001b[0;31m:\u001b[0m unmatched ')'\n"
     ]
    }
   ],
   "source": [
    "# abstractmethod 적용하는 방법은 3가지다\n",
    "1) 추상클래스를 상속받기"
   ]
  },
  {
   "cell_type": "code",
   "execution_count": 135,
   "id": "7610fa29-6ee3-4722-b460-a223f4540720",
   "metadata": {},
   "outputs": [],
   "source": [
    "import tensorflow as tf\n",
    "import inspect"
   ]
  },
  {
   "cell_type": "code",
   "execution_count": 137,
   "id": "99041c10-f769-4f8b-a3a2-8d6794c967f1",
   "metadata": {},
   "outputs": [
    {
     "name": "stdout",
     "output_type": "stream",
     "text": [
      "@keras_export([\"keras.utils.PyDataset\", \"keras.utils.Sequence\"])\n",
      "class PyDataset:\n",
      "    \"\"\"Base class for defining a parallel dataset using Python code.\n",
      "\n",
      "    Every `PyDataset` must implement the `__getitem__()` and the `__len__()`\n",
      "    methods. If you want to modify your dataset between epochs,\n",
      "    you may additionally implement `on_epoch_end()`.\n",
      "    The `__getitem__()` method should return a complete batch\n",
      "    (not a single sample), and the `__len__` method should return\n",
      "    the number of batches in the dataset (rather than the number of samples).\n",
      "\n",
      "    Args:\n",
      "        workers: Number of workers to use in multithreading or\n",
      "            multiprocessing.\n",
      "        use_multiprocessing: Whether to use Python multiprocessing for\n",
      "            parallelism. Setting this to `True` means that your\n",
      "            dataset will be replicated in multiple forked processes.\n",
      "            This is necessary to gain compute-level (rather than I/O level)\n",
      "            benefits from parallelism. However it can only be set to\n",
      "            `True` if your dataset can be safely pickled.\n",
      "        max_queue_size: Maximum number of batches to keep in the queue\n",
      "            when iterating over the dataset in a multithreaded or\n",
      "            multipricessed setting.\n",
      "            Reduce this value to reduce the CPU memory consumption of\n",
      "            your dataset. Defaults to 10.\n",
      "\n",
      "    Notes:\n",
      "\n",
      "    - `PyDataset` is a safer way to do multiprocessing.\n",
      "        This structure guarantees that the model will only train\n",
      "        once on each sample per epoch, which is not the case\n",
      "        with Python generators.\n",
      "    - The arguments `workers`, `use_multiprocessing`, and `max_queue_size`\n",
      "        exist to configure how `fit()` uses parallelism to iterate\n",
      "        over the dataset. They are not being used by the `PyDataset` class\n",
      "        directly. When you are manually iterating over a `PyDataset`,\n",
      "        no parallelism is applied.\n",
      "\n",
      "    Example:\n",
      "\n",
      "    ```python\n",
      "    from skimage.io import imread\n",
      "    from skimage.transform import resize\n",
      "    import numpy as np\n",
      "    import math\n",
      "\n",
      "    # Here, `x_set` is list of path to the images\n",
      "    # and `y_set` are the associated classes.\n",
      "\n",
      "    class CIFAR10PyDataset(keras.utils.PyDataset):\n",
      "\n",
      "        def __init__(self, x_set, y_set, batch_size, **kwargs):\n",
      "            super().__init__(**kwargs)\n",
      "            self.x, self.y = x_set, y_set\n",
      "            self.batch_size = batch_size\n",
      "\n",
      "        def __len__(self):\n",
      "            # Return number of batches.\n",
      "            return math.ceil(len(self.x) / self.batch_size)\n",
      "\n",
      "        def __getitem__(self, idx):\n",
      "            # Return x, y for batch idx.\n",
      "            low = idx * self.batch_size\n",
      "            # Cap upper bound at array length; the last batch may be smaller\n",
      "            # if the total number of items is not a multiple of batch size.\n",
      "            high = min(low + self.batch_size, len(self.x))\n",
      "            batch_x = self.x[low:high]\n",
      "            batch_y = self.y[low:high]\n",
      "\n",
      "            return np.array([\n",
      "                resize(imread(file_name), (200, 200))\n",
      "                   for file_name in batch_x]), np.array(batch_y)\n",
      "    ```\n",
      "    \"\"\"\n",
      "\n",
      "    def __init__(self, workers=1, use_multiprocessing=False, max_queue_size=10):\n",
      "        self._workers = workers\n",
      "        self._use_multiprocessing = use_multiprocessing\n",
      "        self._max_queue_size = max_queue_size\n",
      "\n",
      "    def _warn_if_super_not_called(self):\n",
      "        warn = False\n",
      "        if not hasattr(self, \"_workers\"):\n",
      "            self._workers = 1\n",
      "            warn = True\n",
      "        if not hasattr(self, \"_use_multiprocessing\"):\n",
      "            self._use_multiprocessing = False\n",
      "            warn = True\n",
      "        if not hasattr(self, \"_max_queue_size\"):\n",
      "            self._max_queue_size = 10\n",
      "            warn = True\n",
      "        if warn:\n",
      "            warnings.warn(\n",
      "                \"Your `PyDataset` class should call \"\n",
      "                \"`super().__init__(**kwargs)` in its constructor. \"\n",
      "                \"`**kwargs` can include `workers`, \"\n",
      "                \"`use_multiprocessing`, `max_queue_size`. Do not pass \"\n",
      "                \"these arguments to `fit()`, as they will be ignored.\",\n",
      "                stacklevel=2,\n",
      "            )\n",
      "\n",
      "    @property\n",
      "    def workers(self):\n",
      "        self._warn_if_super_not_called()\n",
      "        return self._workers\n",
      "\n",
      "    @workers.setter\n",
      "    def workers(self, value):\n",
      "        self._workers = value\n",
      "\n",
      "    @property\n",
      "    def use_multiprocessing(self):\n",
      "        self._warn_if_super_not_called()\n",
      "        return self._use_multiprocessing\n",
      "\n",
      "    @use_multiprocessing.setter\n",
      "    def use_multiprocessing(self, value):\n",
      "        self._use_multiprocessing = value\n",
      "\n",
      "    @property\n",
      "    def max_queue_size(self):\n",
      "        self._warn_if_super_not_called()\n",
      "        return self._max_queue_size\n",
      "\n",
      "    @max_queue_size.setter\n",
      "    def max_queue_size(self, value):\n",
      "        self._max_queue_size = value\n",
      "\n",
      "    def __getitem__(self, index):\n",
      "        \"\"\"Gets batch at position `index`.\n",
      "\n",
      "        Args:\n",
      "            index: position of the batch in the PyDataset.\n",
      "\n",
      "        Returns:\n",
      "            A batch\n",
      "        \"\"\"\n",
      "        raise NotImplementedError\n",
      "\n",
      "    def __len__(self):\n",
      "        \"\"\"Number of batch in the PyDataset.\n",
      "\n",
      "        Returns:\n",
      "            The number of batches in the PyDataset.\n",
      "        \"\"\"\n",
      "        raise NotImplementedError\n",
      "\n",
      "    def on_epoch_end(self):\n",
      "        \"\"\"Method called at the end of every epoch.\"\"\"\n",
      "        pass\n",
      "\n",
      "    def __iter__(self):\n",
      "        \"\"\"Create a generator that iterate over the PyDataset.\"\"\"\n",
      "        for i in range(len(self)):\n",
      "            yield self[i]\n",
      "\n"
     ]
    }
   ],
   "source": [
    "print(inspect.getsource(tf.keras.utils.Sequence))"
   ]
  },
  {
   "cell_type": "code",
   "execution_count": 138,
   "id": "26a43193-5d32-4768-9972-4527ee165367",
   "metadata": {},
   "outputs": [
    {
     "ename": "ImportError",
     "evalue": "cannot import name 'abstractmethod' from 'collections.abc' (/opt/homebrew/Cellar/python@3.11/3.11.8/Frameworks/Python.framework/Versions/3.11/lib/python3.11/collections/abc.py)",
     "output_type": "error",
     "traceback": [
      "\u001b[0;31m---------------------------------------------------------------------------\u001b[0m",
      "\u001b[0;31mImportError\u001b[0m                               Traceback (most recent call last)",
      "Cell \u001b[0;32mIn[138], line 2\u001b[0m\n\u001b[1;32m      1\u001b[0m \u001b[38;5;66;03m# 참조 import 라는 것이 있다.\u001b[39;00m\n\u001b[0;32m----> 2\u001b[0m \u001b[38;5;28;01mfrom\u001b[39;00m \u001b[38;5;21;01mcollections\u001b[39;00m\u001b[38;5;21;01m.\u001b[39;00m\u001b[38;5;21;01mabc\u001b[39;00m \u001b[38;5;28;01mimport\u001b[39;00m abstractmethod\n",
      "\u001b[0;31mImportError\u001b[0m: cannot import name 'abstractmethod' from 'collections.abc' (/opt/homebrew/Cellar/python@3.11/3.11.8/Frameworks/Python.framework/Versions/3.11/lib/python3.11/collections/abc.py)"
     ]
    }
   ],
   "source": [
    "# 참조 import 라는 것이 있다.\n",
    "from collections.abc import abstractmethod"
   ]
  },
  {
   "cell_type": "code",
   "execution_count": 139,
   "id": "1bb35826-56e5-4d23-b3d2-e54c63b9d9b1",
   "metadata": {},
   "outputs": [],
   "source": [
    "from abc import abstractmethod"
   ]
  },
  {
   "cell_type": "code",
   "execution_count": 154,
   "id": "2ed9b04d-767c-42b6-bb7e-0fb87ec6745d",
   "metadata": {},
   "outputs": [],
   "source": [
    "# from collections.abc import Sequence\n",
    "class ExpandingSequence:\n",
    "    def __init__(self, it):\n",
    "        self.it = it\n",
    "        self._cache = []\n",
    "        \n",
    "    @abstractmethod\n",
    "    def __getitem__(self, index):\n",
    "        raise NotImplementedError     # 상속 받아 사용할 때, 직접 구현해라 라는 에러이다.  #이러한 구현법이 파이토치에서 사용된다.\n",
    "        \n",
    "    def __len__(self):\n",
    "        return len(self._cache)"
   ]
  },
  {
   "cell_type": "code",
   "execution_count": 151,
   "id": "fec4a4d5-062f-48b4-a42f-789d0ae44bdf",
   "metadata": {},
   "outputs": [],
   "source": [
    "# 3번 abstarctmethod 구현법: 메타클래스 사용하기 \n",
    "# itertools\n",
    "\n",
    "# 텐서플로우에서는 single dispatch + generic을 abstarctmethod와 결합하였다. "
   ]
  },
  {
   "cell_type": "code",
   "execution_count": 158,
   "id": "5056eea5-696e-4e16-8f7c-0678be3ff2f3",
   "metadata": {},
   "outputs": [],
   "source": [
    "# 다시 정리하기\n",
    "\n",
    "# 덕타이핑\n",
    "# 컴포지션\n",
    "# 상속\n",
    "\n",
    "# 추상화\n",
    "    # 덕타이핑 - 강제성이 없음 -> 강제시키면 추사화\n",
    "    # 강제 시키는 방법\n",
    "        # 덕타이핑에 의한 강제\n",
    "        # 상속에 의한 강제\n",
    "\n",
    "# 상속과 덕타이핑을 결합할 수 있다."
   ]
  },
  {
   "cell_type": "code",
   "execution_count": 159,
   "id": "aab6d53b-8dc5-4137-9ced-8a9949ffd679",
   "metadata": {},
   "outputs": [],
   "source": [
    "# 상속에 의한 강제\n",
    "from collections.abc import Sequence\n",
    "class ExpandingSequence(Sequence):\n",
    "    def __init__(self, it):\n",
    "        self.it = it\n",
    "        self._cache = []\n",
    "        \n",
    "    def __getitem__(self, index):\n",
    "        raise NotImplementedError     # 상속 받아 사용할 때, 직접 구현해라 라는 에러이다.  #이러한 구현법이 파이토치에서 사용된다.\n",
    "        \n",
    "    def __len__(self):\n",
    "        return len(self._cache)"
   ]
  },
  {
   "cell_type": "code",
   "execution_count": 160,
   "id": "b5550893-2097-48e0-ab65-777256d378e1",
   "metadata": {},
   "outputs": [
    {
     "name": "stdout",
     "output_type": "stream",
     "text": [
      "@keras_export([\"keras.utils.PyDataset\", \"keras.utils.Sequence\"])\n",
      "class PyDataset:\n",
      "    \"\"\"Base class for defining a parallel dataset using Python code.\n",
      "\n",
      "    Every `PyDataset` must implement the `__getitem__()` and the `__len__()`\n",
      "    methods. If you want to modify your dataset between epochs,\n",
      "    you may additionally implement `on_epoch_end()`.\n",
      "    The `__getitem__()` method should return a complete batch\n",
      "    (not a single sample), and the `__len__` method should return\n",
      "    the number of batches in the dataset (rather than the number of samples).\n",
      "\n",
      "    Args:\n",
      "        workers: Number of workers to use in multithreading or\n",
      "            multiprocessing.\n",
      "        use_multiprocessing: Whether to use Python multiprocessing for\n",
      "            parallelism. Setting this to `True` means that your\n",
      "            dataset will be replicated in multiple forked processes.\n",
      "            This is necessary to gain compute-level (rather than I/O level)\n",
      "            benefits from parallelism. However it can only be set to\n",
      "            `True` if your dataset can be safely pickled.\n",
      "        max_queue_size: Maximum number of batches to keep in the queue\n",
      "            when iterating over the dataset in a multithreaded or\n",
      "            multipricessed setting.\n",
      "            Reduce this value to reduce the CPU memory consumption of\n",
      "            your dataset. Defaults to 10.\n",
      "\n",
      "    Notes:\n",
      "\n",
      "    - `PyDataset` is a safer way to do multiprocessing.\n",
      "        This structure guarantees that the model will only train\n",
      "        once on each sample per epoch, which is not the case\n",
      "        with Python generators.\n",
      "    - The arguments `workers`, `use_multiprocessing`, and `max_queue_size`\n",
      "        exist to configure how `fit()` uses parallelism to iterate\n",
      "        over the dataset. They are not being used by the `PyDataset` class\n",
      "        directly. When you are manually iterating over a `PyDataset`,\n",
      "        no parallelism is applied.\n",
      "\n",
      "    Example:\n",
      "\n",
      "    ```python\n",
      "    from skimage.io import imread\n",
      "    from skimage.transform import resize\n",
      "    import numpy as np\n",
      "    import math\n",
      "\n",
      "    # Here, `x_set` is list of path to the images\n",
      "    # and `y_set` are the associated classes.\n",
      "\n",
      "    class CIFAR10PyDataset(keras.utils.PyDataset):\n",
      "\n",
      "        def __init__(self, x_set, y_set, batch_size, **kwargs):\n",
      "            super().__init__(**kwargs)\n",
      "            self.x, self.y = x_set, y_set\n",
      "            self.batch_size = batch_size\n",
      "\n",
      "        def __len__(self):\n",
      "            # Return number of batches.\n",
      "            return math.ceil(len(self.x) / self.batch_size)\n",
      "\n",
      "        def __getitem__(self, idx):\n",
      "            # Return x, y for batch idx.\n",
      "            low = idx * self.batch_size\n",
      "            # Cap upper bound at array length; the last batch may be smaller\n",
      "            # if the total number of items is not a multiple of batch size.\n",
      "            high = min(low + self.batch_size, len(self.x))\n",
      "            batch_x = self.x[low:high]\n",
      "            batch_y = self.y[low:high]\n",
      "\n",
      "            return np.array([\n",
      "                resize(imread(file_name), (200, 200))\n",
      "                   for file_name in batch_x]), np.array(batch_y)\n",
      "    ```\n",
      "    \"\"\"\n",
      "\n",
      "    def __init__(self, workers=1, use_multiprocessing=False, max_queue_size=10):\n",
      "        self._workers = workers\n",
      "        self._use_multiprocessing = use_multiprocessing\n",
      "        self._max_queue_size = max_queue_size\n",
      "\n",
      "    def _warn_if_super_not_called(self):\n",
      "        warn = False\n",
      "        if not hasattr(self, \"_workers\"):\n",
      "            self._workers = 1\n",
      "            warn = True\n",
      "        if not hasattr(self, \"_use_multiprocessing\"):\n",
      "            self._use_multiprocessing = False\n",
      "            warn = True\n",
      "        if not hasattr(self, \"_max_queue_size\"):\n",
      "            self._max_queue_size = 10\n",
      "            warn = True\n",
      "        if warn:\n",
      "            warnings.warn(\n",
      "                \"Your `PyDataset` class should call \"\n",
      "                \"`super().__init__(**kwargs)` in its constructor. \"\n",
      "                \"`**kwargs` can include `workers`, \"\n",
      "                \"`use_multiprocessing`, `max_queue_size`. Do not pass \"\n",
      "                \"these arguments to `fit()`, as they will be ignored.\",\n",
      "                stacklevel=2,\n",
      "            )\n",
      "\n",
      "    @property\n",
      "    def workers(self):\n",
      "        self._warn_if_super_not_called()\n",
      "        return self._workers\n",
      "\n",
      "    @workers.setter\n",
      "    def workers(self, value):\n",
      "        self._workers = value\n",
      "\n",
      "    @property\n",
      "    def use_multiprocessing(self):\n",
      "        self._warn_if_super_not_called()\n",
      "        return self._use_multiprocessing\n",
      "\n",
      "    @use_multiprocessing.setter\n",
      "    def use_multiprocessing(self, value):\n",
      "        self._use_multiprocessing = value\n",
      "\n",
      "    @property\n",
      "    def max_queue_size(self):\n",
      "        self._warn_if_super_not_called()\n",
      "        return self._max_queue_size\n",
      "\n",
      "    @max_queue_size.setter\n",
      "    def max_queue_size(self, value):\n",
      "        self._max_queue_size = value\n",
      "\n",
      "    def __getitem__(self, index):\n",
      "        \"\"\"Gets batch at position `index`.\n",
      "\n",
      "        Args:\n",
      "            index: position of the batch in the PyDataset.\n",
      "\n",
      "        Returns:\n",
      "            A batch\n",
      "        \"\"\"\n",
      "        raise NotImplementedError\n",
      "\n",
      "    def __len__(self):\n",
      "        \"\"\"Number of batch in the PyDataset.\n",
      "\n",
      "        Returns:\n",
      "            The number of batches in the PyDataset.\n",
      "        \"\"\"\n",
      "        raise NotImplementedError\n",
      "\n",
      "    def on_epoch_end(self):\n",
      "        \"\"\"Method called at the end of every epoch.\"\"\"\n",
      "        pass\n",
      "\n",
      "    def __iter__(self):\n",
      "        \"\"\"Create a generator that iterate over the PyDataset.\"\"\"\n",
      "        for i in range(len(self)):\n",
      "            yield self[i]\n",
      "\n"
     ]
    }
   ],
   "source": [
    "# 덕타이핑에 의한 강제 - 텐서플로우 코드\n",
    "print(inspect.getsource(tf.keras.utils.Sequence))"
   ]
  },
  {
   "cell_type": "code",
   "execution_count": 162,
   "id": "16582ca8-43e1-4b9f-935f-667155d48382",
   "metadata": {},
   "outputs": [],
   "source": [
    "from abc import abstractmethod"
   ]
  },
  {
   "cell_type": "code",
   "execution_count": 163,
   "id": "94ec69c6-78d8-4c08-8277-fa1332f4e409",
   "metadata": {},
   "outputs": [],
   "source": [
    "class B():\n",
    "    @abstractmethod\n",
    "    def __getitem__(self, x):\n",
    "        raise NotImplementedError"
   ]
  },
  {
   "cell_type": "code",
   "execution_count": 164,
   "id": "27ac8f5e-e150-4a38-9026-b62c5b719aab",
   "metadata": {},
   "outputs": [],
   "source": [
    "class C(B):\n",
    "    pass"
   ]
  },
  {
   "cell_type": "code",
   "execution_count": 171,
   "id": "2456815e-786e-4109-afac-3ce2add0c6d1",
   "metadata": {},
   "outputs": [],
   "source": [
    "class D(B):\n",
    "    def __getitem__(self, x):\n",
    "        return [1,2,3]"
   ]
  },
  {
   "cell_type": "code",
   "execution_count": 172,
   "id": "f3c638f4-e54a-404b-95d5-a339ad18ddb5",
   "metadata": {},
   "outputs": [],
   "source": [
    "d = D()"
   ]
  },
  {
   "cell_type": "code",
   "execution_count": 173,
   "id": "d8cb1739-6711-4cb7-bbad-969fa792539d",
   "metadata": {},
   "outputs": [
    {
     "data": {
      "text/plain": [
       "[1, 2, 3]"
      ]
     },
     "execution_count": 173,
     "metadata": {},
     "output_type": "execute_result"
    }
   ],
   "source": [
    "d[0]"
   ]
  },
  {
   "cell_type": "code",
   "execution_count": 165,
   "id": "0a122106-d546-4c30-808d-ab502243eb19",
   "metadata": {},
   "outputs": [],
   "source": [
    "c = C()"
   ]
  },
  {
   "cell_type": "code",
   "execution_count": 170,
   "id": "311fdaf4-caef-4399-8244-cb9edbe0aa19",
   "metadata": {},
   "outputs": [
    {
     "ename": "NotImplementedError",
     "evalue": "",
     "output_type": "error",
     "traceback": [
      "\u001b[0;31m---------------------------------------------------------------------------\u001b[0m",
      "\u001b[0;31mNotImplementedError\u001b[0m                       Traceback (most recent call last)",
      "Cell \u001b[0;32mIn[170], line 1\u001b[0m\n\u001b[0;32m----> 1\u001b[0m \u001b[43mc\u001b[49m\u001b[38;5;241;43m.\u001b[39;49m\u001b[38;5;21;43m__getitem__\u001b[39;49m\u001b[43m(\u001b[49m\u001b[38;5;241;43m1\u001b[39;49m\u001b[43m)\u001b[49m\n",
      "Cell \u001b[0;32mIn[163], line 4\u001b[0m, in \u001b[0;36mB.__getitem__\u001b[0;34m(self, x)\u001b[0m\n\u001b[1;32m      2\u001b[0m \u001b[38;5;129m@abstractmethod\u001b[39m\n\u001b[1;32m      3\u001b[0m \u001b[38;5;28;01mdef\u001b[39;00m \u001b[38;5;21m__getitem__\u001b[39m(\u001b[38;5;28mself\u001b[39m, x):\n\u001b[0;32m----> 4\u001b[0m     \u001b[38;5;28;01mraise\u001b[39;00m \u001b[38;5;167;01mNotImplementedError\u001b[39;00m\n",
      "\u001b[0;31mNotImplementedError\u001b[0m: "
     ]
    }
   ],
   "source": [
    "c.__getitem__(1)"
   ]
  },
  {
   "cell_type": "code",
   "execution_count": 177,
   "id": "2dd6d937-0a93-4afd-bb0f-e195cef459d4",
   "metadata": {},
   "outputs": [],
   "source": [
    "# 파이토치에서의 추상화 != 텐서플로우에서의 추사화가 다르다.\n",
    "# abstarctmethod NotImplementedError 나온다 -> 구현해야한다\n",
    "# 텐서플로우에서 요구하는 Dataset의 추상클래스를 사용해서 데이터셋을 만들어야한다. 상속 같지만 추상화이다. - abc\n",
    "# 파이토치와 텐서플로우의 추상화 클래스 사용방법과 사용법 안내 방법이 다르다."
   ]
  },
  {
   "cell_type": "code",
   "execution_count": 178,
   "id": "8753e6d3-4a45-43de-b420-eb81c103fd04",
   "metadata": {},
   "outputs": [],
   "source": [
    "# 자기만의 데이터셋을 사용하려면 이걸 해야한다. "
   ]
  },
  {
   "cell_type": "code",
   "execution_count": 179,
   "id": "f7c00902-3526-4c22-8d4f-0c3a848b2bfd",
   "metadata": {},
   "outputs": [],
   "source": [
    "# 넘파이 짱짱짱 중요하다. 모든 데이터 처리의 기초이기 때문이다."
   ]
  },
  {
   "cell_type": "code",
   "execution_count": 181,
   "id": "e669f76c-1fdd-42ff-8483-29c550c93c7f",
   "metadata": {},
   "outputs": [],
   "source": [
    "def x():\n",
    "    ...   # elipes ??? 이게 뭐지? "
   ]
  },
  {
   "cell_type": "code",
   "execution_count": 182,
   "id": "2be929de-0957-4e7a-a173-ccc4916386fe",
   "metadata": {},
   "outputs": [
    {
     "name": "stdout",
     "output_type": "stream",
     "text": [
      "\u001b[33mWARNING: Package(s) not found: pytorch\u001b[0m\u001b[33m\n",
      "\u001b[0mNote: you may need to restart the kernel to use updated packages.\n"
     ]
    }
   ],
   "source": [
    "pip show pytorch"
   ]
  },
  {
   "cell_type": "code",
   "execution_count": 184,
   "id": "7477a839-f56f-4d4d-9852-3fc2d3935d89",
   "metadata": {},
   "outputs": [
    {
     "name": "stdout",
     "output_type": "stream",
     "text": [
      "Collecting torch\n",
      "  Downloading torch-2.2.1-cp311-none-macosx_11_0_arm64.whl.metadata (25 kB)\n",
      "Collecting torchvision\n",
      "  Downloading torchvision-0.17.1-cp311-cp311-macosx_11_0_arm64.whl.metadata (6.6 kB)\n",
      "Collecting torchaudio\n",
      "  Downloading torchaudio-2.2.1-cp311-cp311-macosx_11_0_arm64.whl.metadata (6.4 kB)\n",
      "Collecting filelock (from torch)\n",
      "  Using cached filelock-3.13.1-py3-none-any.whl.metadata (2.8 kB)\n",
      "Requirement already satisfied: typing-extensions>=4.8.0 in /Users/myoungjikim/2024_Korea_iisw/myvenv2/lib/python3.11/site-packages (from torch) (4.10.0)\n",
      "Collecting sympy (from torch)\n",
      "  Downloading sympy-1.12-py3-none-any.whl.metadata (12 kB)\n",
      "Collecting networkx (from torch)\n",
      "  Downloading networkx-3.2.1-py3-none-any.whl.metadata (5.2 kB)\n",
      "Requirement already satisfied: jinja2 in /Users/myoungjikim/2024_Korea_iisw/myvenv2/lib/python3.11/site-packages (from torch) (3.1.3)\n",
      "Collecting fsspec (from torch)\n",
      "  Downloading fsspec-2024.2.0-py3-none-any.whl.metadata (6.8 kB)\n",
      "Requirement already satisfied: numpy in /Users/myoungjikim/2024_Korea_iisw/myvenv2/lib/python3.11/site-packages (from torchvision) (1.26.4)\n",
      "Collecting pillow!=8.3.*,>=5.3.0 (from torchvision)\n",
      "  Downloading pillow-10.2.0-cp311-cp311-macosx_11_0_arm64.whl.metadata (9.7 kB)\n",
      "Requirement already satisfied: MarkupSafe>=2.0 in /Users/myoungjikim/2024_Korea_iisw/myvenv2/lib/python3.11/site-packages (from jinja2->torch) (2.1.5)\n",
      "Collecting mpmath>=0.19 (from sympy->torch)\n",
      "  Downloading mpmath-1.3.0-py3-none-any.whl.metadata (8.6 kB)\n",
      "Downloading torch-2.2.1-cp311-none-macosx_11_0_arm64.whl (59.7 MB)\n",
      "\u001b[2K   \u001b[38;2;114;156;31m━━━━━━━━━━━━━━━━━━━━━━━━━━━━━━━━━━━━━━━━\u001b[0m \u001b[32m59.7/59.7 MB\u001b[0m \u001b[31m1.6 MB/s\u001b[0m eta \u001b[36m0:00:00\u001b[0mm eta \u001b[36m0:00:01\u001b[0m[36m0:00:01\u001b[0m0m\n",
      "\u001b[?25hDownloading torchvision-0.17.1-cp311-cp311-macosx_11_0_arm64.whl (1.6 MB)\n",
      "\u001b[2K   \u001b[38;2;114;156;31m━━━━━━━━━━━━━━━━━━━━━━━━━━━━━━━━━━━━━━━━\u001b[0m \u001b[32m1.6/1.6 MB\u001b[0m \u001b[31m1.7 MB/s\u001b[0m eta \u001b[36m0:00:00\u001b[0mm eta \u001b[36m0:00:01\u001b[0m[36m0:00:01\u001b[0m\n",
      "\u001b[?25hDownloading torchaudio-2.2.1-cp311-cp311-macosx_11_0_arm64.whl (1.8 MB)\n",
      "\u001b[2K   \u001b[38;2;114;156;31m━━━━━━━━━━━━━━━━━━━━━━━━━━━━━━━━━━━━━━━━\u001b[0m \u001b[32m1.8/1.8 MB\u001b[0m \u001b[31m1.9 MB/s\u001b[0m eta \u001b[36m0:00:00\u001b[0mm eta \u001b[36m0:00:01\u001b[0m[36m0:00:01\u001b[0m\n",
      "\u001b[?25hDownloading pillow-10.2.0-cp311-cp311-macosx_11_0_arm64.whl (3.3 MB)\n",
      "\u001b[2K   \u001b[38;2;114;156;31m━━━━━━━━━━━━━━━━━━━━━━━━━━━━━━━━━━━━━━━━\u001b[0m \u001b[32m3.3/3.3 MB\u001b[0m \u001b[31m1.6 MB/s\u001b[0m eta \u001b[36m0:00:00\u001b[0m[36m0:00:01\u001b[0m[36m0:00:01\u001b[0m:01\u001b[0m\n",
      "\u001b[?25hUsing cached filelock-3.13.1-py3-none-any.whl (11 kB)\n",
      "Downloading fsspec-2024.2.0-py3-none-any.whl (170 kB)\n",
      "\u001b[2K   \u001b[38;2;114;156;31m━━━━━━━━━━━━━━━━━━━━━━━━━━━━━━━━━━━━━━━━\u001b[0m \u001b[32m170.9/170.9 kB\u001b[0m \u001b[31m2.3 MB/s\u001b[0m eta \u001b[36m0:00:00\u001b[0m[31m3.4 MB/s\u001b[0m eta \u001b[36m0:00:01\u001b[0m\n",
      "\u001b[?25hDownloading networkx-3.2.1-py3-none-any.whl (1.6 MB)\n",
      "\u001b[2K   \u001b[38;2;114;156;31m━━━━━━━━━━━━━━━━━━━━━━━━━━━━━━━━━━━━━━━━\u001b[0m \u001b[32m1.6/1.6 MB\u001b[0m \u001b[31m1.7 MB/s\u001b[0m eta \u001b[36m0:00:00\u001b[0mm eta \u001b[36m0:00:01\u001b[0m[36m0:00:01\u001b[0m\n",
      "\u001b[?25hDownloading sympy-1.12-py3-none-any.whl (5.7 MB)\n",
      "\u001b[2K   \u001b[38;2;114;156;31m━━━━━━━━━━━━━━━━━━━━━━━━━━━━━━━━━━━━━━━━\u001b[0m \u001b[32m5.7/5.7 MB\u001b[0m \u001b[31m1.7 MB/s\u001b[0m eta \u001b[36m0:00:00\u001b[0mm eta \u001b[36m0:00:01\u001b[0m[36m0:00:01\u001b[0m\n",
      "\u001b[?25hDownloading mpmath-1.3.0-py3-none-any.whl (536 kB)\n",
      "\u001b[2K   \u001b[38;2;114;156;31m━━━━━━━━━━━━━━━━━━━━━━━━━━━━━━━━━━━━━━━━\u001b[0m \u001b[32m536.2/536.2 kB\u001b[0m \u001b[31m2.9 MB/s\u001b[0m eta \u001b[36m0:00:00\u001b[0m[31m3.4 MB/s\u001b[0m eta \u001b[36m0:00:01\u001b[0m\n",
      "\u001b[?25hInstalling collected packages: mpmath, sympy, pillow, networkx, fsspec, filelock, torch, torchvision, torchaudio\n",
      "Successfully installed filelock-3.13.1 fsspec-2024.2.0 mpmath-1.3.0 networkx-3.2.1 pillow-10.2.0 sympy-1.12 torch-2.2.1 torchaudio-2.2.1 torchvision-0.17.1\n",
      "\n",
      "\u001b[1m[\u001b[0m\u001b[34;49mnotice\u001b[0m\u001b[1;39;49m]\u001b[0m\u001b[39;49m A new release of pip is available: \u001b[0m\u001b[31;49m23.3.1\u001b[0m\u001b[39;49m -> \u001b[0m\u001b[32;49m24.0\u001b[0m\n",
      "\u001b[1m[\u001b[0m\u001b[34;49mnotice\u001b[0m\u001b[1;39;49m]\u001b[0m\u001b[39;49m To update, run: \u001b[0m\u001b[32;49mpip install --upgrade pip\u001b[0m\n"
     ]
    }
   ],
   "source": [
    "!pip3 install torch torchvision torchaudio"
   ]
  },
  {
   "cell_type": "code",
   "execution_count": 185,
   "id": "b5ba72c3-ab8f-4451-9a07-012724f202a2",
   "metadata": {},
   "outputs": [],
   "source": [
    "# 남들이 만들것 버전을 안맞추면 힘들다. 인생은 힘들다. "
   ]
  },
  {
   "cell_type": "code",
   "execution_count": 186,
   "id": "ef8ce3e0-92ed-4138-8a75-c00afe261f1a",
   "metadata": {},
   "outputs": [],
   "source": [
    "# 일단 덕타이핑으로 하고, 나중에 NotImplementedError 나오면 안내 읽고 구현하기"
   ]
  },
  {
   "cell_type": "code",
   "execution_count": 190,
   "id": "4e095f9c-a099-4254-a872-817084caa6cb",
   "metadata": {},
   "outputs": [
    {
     "name": "stdout",
     "output_type": "stream",
     "text": [
      "Name: torch\n",
      "Version: 2.2.1\n",
      "Summary: Tensors and Dynamic neural networks in Python with strong GPU acceleration\n",
      "Home-page: https://pytorch.org/\n",
      "Author: PyTorch Team\n",
      "Author-email: packages@pytorch.org\n",
      "License: BSD-3\n",
      "Location: /Users/myoungjikim/2024_Korea_iisw/myvenv2/lib/python3.11/site-packages\n",
      "Requires: filelock, fsspec, jinja2, networkx, sympy, typing-extensions\n",
      "Required-by: torchaudio, torchvision\n"
     ]
    }
   ],
   "source": [
    "!pip3 show torch"
   ]
  },
  {
   "cell_type": "code",
   "execution_count": 191,
   "id": "33f52e5b-a08e-4512-b781-a087de1fe2b2",
   "metadata": {},
   "outputs": [],
   "source": [
    "# CPU 버전과 GPU 버전의 차이가 50배"
   ]
  },
  {
   "cell_type": "code",
   "execution_count": 193,
   "id": "d048ca61-cd6a-401d-9390-ee3ba892da05",
   "metadata": {},
   "outputs": [],
   "source": [
    "# chainer 라는 것에서 keras에서 영향을 받았다.\n",
    "# chainer 만들던 사람들이 pytorch를 만든 사람들에게로 넘어갔다. 그래서 어느정도 통일 되었다.\n",
    "# keras 3.0 부터는 keras 자체로 pytorch에서 실행 가능하다. 경계가 희미해짐"
   ]
  },
  {
   "cell_type": "code",
   "execution_count": null,
   "id": "1a56f75c-e5c8-44e7-97f4-fe8d411f1776",
   "metadata": {},
   "outputs": [],
   "source": [
    "# 프로토콜(규약) - 추상화에서 강제하는 형태\n",
    "# 가장 중요한 프로토콜을 이터레이터 프로토콜, 제너레이터 프로토콜\n",
    "    # 이터러블: __iter__\n",
    "    # 이터레이터: __iter__ , __next__ 두개 다 있어야한다.\n",
    "    "
   ]
  },
  {
   "cell_type": "code",
   "execution_count": null,
   "id": "45ca9526-6f0c-4bd3-85a7-d20b48db272a",
   "metadata": {},
   "outputs": [],
   "source": [
    "from collections.abc import Iterable\n",
    "class Fibonacci(Iterable):\n",
    "    def __init__(self):\n",
    "        self.a, self.b = 0, 1\n",
    "        self.total = 0\n",
    "    def __iter__(self):  # 추상화\n",
    "        return self\n",
    "    def __next__(self):  # 덕타이핑 # 자유도를 주었다. # 왜? 덕타이핑을 썼을까? \n",
    "        self.a, self.b = self.b, self.a + self.b\n",
    "        self.total += self.a\n",
    "        return self.a\n",
    "    def running_sum(self):\n",
    "        return self.total"
   ]
  },
  {
   "cell_type": "code",
   "execution_count": 199,
   "id": "1528b492-96ab-40b9-9c16-055511defd10",
   "metadata": {},
   "outputs": [],
   "source": [
    "it = iter([1,2,3])"
   ]
  },
  {
   "cell_type": "code",
   "execution_count": 201,
   "id": "bde6f6e6-7ff4-45d3-a7a5-559de0147210",
   "metadata": {},
   "outputs": [
    {
     "data": {
      "text/plain": [
       "2"
      ]
     },
     "execution_count": 201,
     "metadata": {},
     "output_type": "execute_result"
    }
   ],
   "source": [
    "next(it)"
   ]
  },
  {
   "cell_type": "code",
   "execution_count": 202,
   "id": "260fe3a0-0009-48b2-95c1-6bf278218602",
   "metadata": {},
   "outputs": [],
   "source": [
    "import torch"
   ]
  },
  {
   "cell_type": "code",
   "execution_count": 203,
   "id": "f210d954-58fc-431d-aafb-559c1e3b5813",
   "metadata": {},
   "outputs": [],
   "source": [
    "from torch.utils.data import Dataset"
   ]
  },
  {
   "cell_type": "code",
   "execution_count": 204,
   "id": "96399b4a-a3fb-464c-9b45-24c4bec7bb07",
   "metadata": {},
   "outputs": [],
   "source": [
    "import inspect"
   ]
  },
  {
   "cell_type": "code",
   "execution_count": 207,
   "id": "8030edf6-ef50-424b-99eb-845e1dd52133",
   "metadata": {},
   "outputs": [
    {
     "name": "stdout",
     "output_type": "stream",
     "text": [
      "class Dataset(Generic[T_co]):\n",
      "    r\"\"\"An abstract class representing a :class:`Dataset`.\n",
      "\n",
      "    All datasets that represent a map from keys to data samples should subclass\n",
      "    it. All subclasses should overwrite :meth:`__getitem__`, supporting fetching a\n",
      "    data sample for a given key. Subclasses could also optionally overwrite\n",
      "    :meth:`__len__`, which is expected to return the size of the dataset by many\n",
      "    :class:`~torch.utils.data.Sampler` implementations and the default options\n",
      "    of :class:`~torch.utils.data.DataLoader`. Subclasses could also\n",
      "    optionally implement :meth:`__getitems__`, for speedup batched samples\n",
      "    loading. This method accepts list of indices of samples of batch and returns\n",
      "    list of samples.\n",
      "\n",
      "    .. note::\n",
      "      :class:`~torch.utils.data.DataLoader` by default constructs an index\n",
      "      sampler that yields integral indices.  To make it work with a map-style\n",
      "      dataset with non-integral indices/keys, a custom sampler must be provided.\n",
      "    \"\"\"\n",
      "\n",
      "    def __getitem__(self, index) -> T_co:\n",
      "        raise NotImplementedError(\"Subclasses of Dataset should implement __getitem__.\")\n",
      "\n",
      "    # def __getitems__(self, indices: List) -> List[T_co]:\n",
      "    # Not implemented to prevent false-positives in fetcher check in\n",
      "    # torch.utils.data._utils.fetch._MapDatasetFetcher\n",
      "\n",
      "    def __add__(self, other: 'Dataset[T_co]') -> 'ConcatDataset[T_co]':\n",
      "        return ConcatDataset([self, other])\n",
      "\n",
      "    # No `def __len__(self)` default?\n",
      "    # See NOTE [ Lack of Default `__len__` in Python Abstract Base Classes ]\n",
      "    # in pytorch/torch/utils/data/sampler.py\n",
      "\n"
     ]
    }
   ],
   "source": [
    "print(inspect.getsource(Dataset))  # __len__은 강제 안하고, __getitem__은 강제했다. "
   ]
  },
  {
   "cell_type": "code",
   "execution_count": 208,
   "id": "36a21e43-3f41-45fc-90a6-26f278b60da7",
   "metadata": {},
   "outputs": [],
   "source": [
    "# sklearn은 다른 추상화 클래스 적용법을 사용한다. ABCmeta\n",
    "# R에서 구현한 알고리즘을 sklearn으로 불러와 시스템화 시킬때도 추상 클래스에 대한 이해가 필수적이다. "
   ]
  },
  {
   "cell_type": "code",
   "execution_count": null,
   "id": "dcc0b217-cd79-475b-9cde-4ef1d5937b22",
   "metadata": {},
   "outputs": [],
   "source": [
    "# 선택과 집중을 안하는가? -> ???"
   ]
  },
  {
   "cell_type": "code",
   "execution_count": 209,
   "id": "1c82b9c2-31c2-44e3-bb2c-919e6dfa8a52",
   "metadata": {},
   "outputs": [],
   "source": [
    "# Quick start -> Tensor(넘파이와 유사) -> Datasets(강제한다.) \n",
    "# functional 패러다임은 강제 할 수 없다.\n",
    "# 다형성 - 내일 들어가기는 쉽지만, 또 중요한 것이 나온다. map filter reduce - 데이터 분석의 기본이다."
   ]
  },
  {
   "cell_type": "code",
   "execution_count": null,
   "id": "ed7d2398-a4e1-453f-abf5-c12ddf724df4",
   "metadata": {},
   "outputs": [],
   "source": [
    "# 한달 뒤에도 이것들을 꼭 기억해야한다.\n",
    "# 과제 계속 나온다. \n",
    "# 모르는 것 공부해라. 시간 투자 안하면 원하는 것을 얻을 수 없다."
   ]
  }
 ],
 "metadata": {
  "kernelspec": {
   "display_name": "Python 3 (ipykernel)",
   "language": "python",
   "name": "python3"
  },
  "language_info": {
   "codemirror_mode": {
    "name": "ipython",
    "version": 3
   },
   "file_extension": ".py",
   "mimetype": "text/x-python",
   "name": "python",
   "nbconvert_exporter": "python",
   "pygments_lexer": "ipython3",
   "version": "3.11.8"
  }
 },
 "nbformat": 4,
 "nbformat_minor": 5
}
