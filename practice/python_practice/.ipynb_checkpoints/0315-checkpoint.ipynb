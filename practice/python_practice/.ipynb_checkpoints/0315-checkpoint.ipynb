{
 "cells": [
  {
   "cell_type": "code",
   "execution_count": 2,
   "id": "554fb088-efc7-4185-af8d-64c8e3ac981e",
   "metadata": {},
   "outputs": [],
   "source": [
    "# tf.function => 데코레이터 사용한다.\n",
    "# tf 에서 데이터를 그래프 형태로 바꾸는게 어려운데, tf.function을 사용하면 바꿀수 있다.\n",
    "# 메타 클래스와 추상화는 사용하는 경우의 수가 적다. 데코레이터는 활용이 끝이 없다."
   ]
  },
  {
   "cell_type": "code",
   "execution_count": 5,
   "id": "a0db5084-c8eb-430f-8fbf-081c09202d65",
   "metadata": {},
   "outputs": [],
   "source": [
    "# 복습 + 확장\n",
    "a = 1 \n",
    "def x():\n",
    "    a = a+1  # local = global + 1 \n",
    "    return a"
   ]
  },
  {
   "cell_type": "code",
   "execution_count": 6,
   "id": "76476dfb-8d1f-43d6-b915-a14f876ead87",
   "metadata": {},
   "outputs": [
    {
     "ename": "UnboundLocalError",
     "evalue": "cannot access local variable 'a' where it is not associated with a value",
     "output_type": "error",
     "traceback": [
      "\u001b[0;31m---------------------------------------------------------------------------\u001b[0m",
      "\u001b[0;31mUnboundLocalError\u001b[0m                         Traceback (most recent call last)",
      "Cell \u001b[0;32mIn[6], line 1\u001b[0m\n\u001b[0;32m----> 1\u001b[0m \u001b[43mx\u001b[49m\u001b[43m(\u001b[49m\u001b[43m)\u001b[49m\n",
      "Cell \u001b[0;32mIn[5], line 4\u001b[0m, in \u001b[0;36mx\u001b[0;34m()\u001b[0m\n\u001b[1;32m      3\u001b[0m \u001b[38;5;28;01mdef\u001b[39;00m \u001b[38;5;21mx\u001b[39m():\n\u001b[0;32m----> 4\u001b[0m     a \u001b[38;5;241m=\u001b[39m \u001b[43ma\u001b[49m\u001b[38;5;241m+\u001b[39m\u001b[38;5;241m1\u001b[39m  \u001b[38;5;66;03m# local = global + 1 \u001b[39;00m\n\u001b[1;32m      5\u001b[0m     \u001b[38;5;28;01mreturn\u001b[39;00m a\n",
      "\u001b[0;31mUnboundLocalError\u001b[0m: cannot access local variable 'a' where it is not associated with a value"
     ]
    }
   ],
   "source": [
    "x()"
   ]
  },
  {
   "cell_type": "code",
   "execution_count": 14,
   "id": "71a0b0b9-c84a-4494-b922-2de2b3d8733f",
   "metadata": {},
   "outputs": [],
   "source": [
    "# 위의 문제를 일시적으로 해결하는 방법\n",
    "a = 1\n",
    "def x():\n",
    "    global a\n",
    "    a = a+1\n",
    "    return\n",
    "# 문제는 로컬에서 글로벌을 바꾼다는 것 -> 유지 보수하기 어렵다. 함수 내부 코드까지 확인해야해서"
   ]
  },
  {
   "cell_type": "code",
   "execution_count": 16,
   "id": "300d8a99-751f-4de9-aeef-7cf6e4af24d1",
   "metadata": {},
   "outputs": [
    {
     "data": {
      "text/plain": [
       "1"
      ]
     },
     "execution_count": 16,
     "metadata": {},
     "output_type": "execute_result"
    }
   ],
   "source": [
    "a = 2\n",
    "def xx():\n",
    "    a = 1 # enclosing \n",
    "    def xxx():\n",
    "        return a\n",
    "    return xxx()\n",
    "\n",
    "xx()"
   ]
  },
  {
   "cell_type": "code",
   "execution_count": 17,
   "id": "0bb2f509-2567-472c-955e-6d27fae69092",
   "metadata": {},
   "outputs": [
    {
     "ename": "UnboundLocalError",
     "evalue": "cannot access local variable 'a' where it is not associated with a value",
     "output_type": "error",
     "traceback": [
      "\u001b[0;31m---------------------------------------------------------------------------\u001b[0m",
      "\u001b[0;31mUnboundLocalError\u001b[0m                         Traceback (most recent call last)",
      "Cell \u001b[0;32mIn[17], line 10\u001b[0m\n\u001b[1;32m      7\u001b[0m         \u001b[38;5;28;01mreturn\u001b[39;00m a\n\u001b[1;32m      8\u001b[0m     \u001b[38;5;28;01mreturn\u001b[39;00m xxx()\n\u001b[0;32m---> 10\u001b[0m \u001b[43mxx\u001b[49m\u001b[43m(\u001b[49m\u001b[43m)\u001b[49m\n",
      "Cell \u001b[0;32mIn[17], line 8\u001b[0m, in \u001b[0;36mxx\u001b[0;34m()\u001b[0m\n\u001b[1;32m      6\u001b[0m     a \u001b[38;5;241m=\u001b[39m a\u001b[38;5;241m+\u001b[39m\u001b[38;5;241m1\u001b[39m\n\u001b[1;32m      7\u001b[0m     \u001b[38;5;28;01mreturn\u001b[39;00m a\n\u001b[0;32m----> 8\u001b[0m \u001b[38;5;28;01mreturn\u001b[39;00m \u001b[43mxxx\u001b[49m\u001b[43m(\u001b[49m\u001b[43m)\u001b[49m\n",
      "Cell \u001b[0;32mIn[17], line 6\u001b[0m, in \u001b[0;36mxx.<locals>.xxx\u001b[0;34m()\u001b[0m\n\u001b[1;32m      5\u001b[0m \u001b[38;5;28;01mdef\u001b[39;00m \u001b[38;5;21mxxx\u001b[39m():\n\u001b[0;32m----> 6\u001b[0m     a \u001b[38;5;241m=\u001b[39m \u001b[43ma\u001b[49m\u001b[38;5;241m+\u001b[39m\u001b[38;5;241m1\u001b[39m\n\u001b[1;32m      7\u001b[0m     \u001b[38;5;28;01mreturn\u001b[39;00m a\n",
      "\u001b[0;31mUnboundLocalError\u001b[0m: cannot access local variable 'a' where it is not associated with a value"
     ]
    }
   ],
   "source": [
    "# 이렇게 하면 에러남\n",
    "a = 2\n",
    "def xx():\n",
    "    a = 1 # enclosing \n",
    "    def xxx():\n",
    "        a = a+1\n",
    "        return a\n",
    "    return xxx()\n",
    "\n",
    "xx()"
   ]
  },
  {
   "cell_type": "code",
   "execution_count": 18,
   "id": "840e0d2b-4461-4e89-8ffd-fda0b0b06421",
   "metadata": {},
   "outputs": [
    {
     "data": {
      "text/plain": [
       "2"
      ]
     },
     "execution_count": 18,
     "metadata": {},
     "output_type": "execute_result"
    }
   ],
   "source": [
    "# 이렇게 하면 에러남 => nonlocal 사용하기\n",
    "a = 2\n",
    "def xx():\n",
    "    a = 1 # enclosing \n",
    "    def xxx():\n",
    "        nonlocal a\n",
    "        a = a+1\n",
    "        return a\n",
    "    return xxx()\n",
    "\n",
    "xx()"
   ]
  },
  {
   "cell_type": "code",
   "execution_count": 21,
   "id": "f3108ac6-37fe-4bb3-9774-803488e699f1",
   "metadata": {},
   "outputs": [],
   "source": [
    "# 클로저 때문에 중첩을 사용한다.\n",
    "# global 과 nonlocal을 자주 사용할까? "
   ]
  },
  {
   "cell_type": "code",
   "execution_count": 22,
   "id": "240bc2ec-9565-4fa7-ba69-1a4765903df0",
   "metadata": {},
   "outputs": [],
   "source": [
    "# 클로저의 장점\n",
    "# 첫번째 인자를 조합할 수 있다.\n",
    "def y(m):\n",
    "    def z(n):\n",
    "        return m+n\n",
    "    return z"
   ]
  },
  {
   "cell_type": "code",
   "execution_count": 27,
   "id": "0fbf285e-c82e-476f-baaa-37c7d04f049c",
   "metadata": {},
   "outputs": [],
   "source": [
    "# 객체로 클로저구현하기\n",
    "class A:\n",
    "    def __init__(self, m):\n",
    "        self.m = m\n",
    "    def __call__(self, n):\n",
    "        return self.m+ n"
   ]
  },
  {
   "cell_type": "code",
   "execution_count": 28,
   "id": "787edece-2d54-4473-8957-a40d4226c376",
   "metadata": {},
   "outputs": [
    {
     "data": {
      "text/plain": [
       "7"
      ]
     },
     "execution_count": 28,
     "metadata": {},
     "output_type": "execute_result"
    }
   ],
   "source": [
    "A(2)(5)"
   ]
  },
  {
   "cell_type": "code",
   "execution_count": null,
   "id": "8605fca7-f6e2-46a3-8088-1bd1d3821c56",
   "metadata": {},
   "outputs": [],
   "source": [
    "# 텐서플로우와 파이토치의 클로저 \n",
    "class MyModel(Model):\n",
    "  # 클래스에서의 컴포지션\n",
    "  def __init__(self):\n",
    "    super(MyModel, self).__init__()\n",
    "    self.conv1 = Conv2D(32, 3, activation='relu')\n",
    "    self.flatten = Flatten()\n",
    "    self.d1 = Dense(128, activation='relu')\n",
    "    self.d2 = Dense(10)\n",
    "\n",
    "  # 함수형 프로그래밍에서의 컴포지션\n",
    "  def call(self, x):   # 오ㅐ __call__을 안쓴는가? => call은 클로져다\n",
    "    x = self.conv1(x)\n",
    "    x = self.flatten(x)\n",
    "    x = self.d1(x)\n",
    "    return self.d2(x)\n",
    " \n",
    "  def __call__(self):  # __call__이 call함수를 내부에서 사용하고 있기 때문이다. - 텐서플로우에서는 call\n",
    "      self.build()     #                                              - 파이토치에서는 forward\n",
    "      self.call()\n",
    "\n",
    "# Create an instance of the model\n",
    "model = MyModel()"
   ]
  },
  {
   "cell_type": "code",
   "execution_count": 29,
   "id": "e96bef9e-7a67-4f33-bc6a-a30a7acd926d",
   "metadata": {},
   "outputs": [],
   "source": [
    "# Decorator는 function closure이다. \n",
    "# 함수의 첫번째 인자로 함수를 집어 넣는 것을 데코레이터라고 한다."
   ]
  },
  {
   "cell_type": "code",
   "execution_count": 31,
   "id": "a85b8829-a991-4684-8b30-d8812fe76e66",
   "metadata": {},
   "outputs": [],
   "source": [
    "def t(fun):\n",
    "    def s():\n",
    "        print('-----')\n",
    "        fun()\n",
    "        print('-----')\n",
    "    return s"
   ]
  },
  {
   "cell_type": "code",
   "execution_count": 33,
   "id": "065a9e82-20d0-4baf-85f6-3d6a31037c5d",
   "metadata": {},
   "outputs": [
    {
     "name": "stdout",
     "output_type": "stream",
     "text": [
      "-----\n",
      "\n",
      "-----\n"
     ]
    }
   ],
   "source": [
    "t(print)()"
   ]
  },
  {
   "cell_type": "code",
   "execution_count": 35,
   "id": "fefc0a58-1e87-4b90-b9bf-21740e70f366",
   "metadata": {},
   "outputs": [
    {
     "name": "stdout",
     "output_type": "stream",
     "text": [
      "-----\n",
      "-----\n"
     ]
    }
   ],
   "source": [
    "t(lambda : 1)()"
   ]
  },
  {
   "cell_type": "code",
   "execution_count": 36,
   "id": "11e92fae-edc8-439c-a5fb-10f59ac04f27",
   "metadata": {},
   "outputs": [],
   "source": [
    "def ss():\n",
    "    print('ss')"
   ]
  },
  {
   "cell_type": "code",
   "execution_count": 38,
   "id": "66005c90-d689-455c-a4e1-8985b78fe3dc",
   "metadata": {},
   "outputs": [
    {
     "name": "stdout",
     "output_type": "stream",
     "text": [
      "-----\n",
      "ss\n",
      "-----\n"
     ]
    }
   ],
   "source": [
    "t(ss)()"
   ]
  },
  {
   "cell_type": "code",
   "execution_count": 41,
   "id": "dc7e7cf5-4960-465a-af57-6b580a4b1348",
   "metadata": {},
   "outputs": [
    {
     "name": "stdout",
     "output_type": "stream",
     "text": [
      "-----\n",
      "ss\n",
      "-----\n"
     ]
    }
   ],
   "source": [
    "@t    # 기존의 함수를 사용하여 새로운 함수를 만들어주는 것 => AOP 프로그래밍 관점\n",
    "def ss():\n",
    "    print('ss')\n",
    "\n",
    "ss()  # t(ss)()의 단축 표현이다. -> syntatic sugar == 아름답다\n",
    "      # @classmethod, @abstractmethod, @singledispatch\n",
    "      # 진짜 실력있는 사람들은 데코레이터를 만든다.\n",
    "      # 데코레이터 활용하는 것이 어렵다. \n",
    "      # 함수형 프로그래밍에서 데코레이터를 사용하여 기능을 확장한다.\n",
    "      # 데코레이터는 다형성이 아니라, 새로운 함수를 만들어주는 것이다.\n",
    "      # 함수형 프로그래밍에서는 "
   ]
  },
  {
   "cell_type": "code",
   "execution_count": null,
   "id": "d58a4369-b2be-48f8-b431-e184f018d6d6",
   "metadata": {},
   "outputs": [],
   "source": [
    "# 텐서플로우에서 언제 데코레이터를 쓸까?\n"
   ]
  },
  {
   "cell_type": "code",
   "execution_count": 42,
   "id": "0ffd887d-136d-4354-80fb-51340d1b1d14",
   "metadata": {},
   "outputs": [],
   "source": [
    "from functools import partial"
   ]
  },
  {
   "cell_type": "code",
   "execution_count": 43,
   "id": "524aa1c7-555d-4e56-b1c4-15ba91ca0f87",
   "metadata": {},
   "outputs": [],
   "source": [
    "from operator import add"
   ]
  },
  {
   "cell_type": "code",
   "execution_count": 44,
   "id": "a75307d4-9164-438b-88a1-22602c109a54",
   "metadata": {},
   "outputs": [
    {
     "data": {
      "text/plain": [
       "7"
      ]
     },
     "execution_count": 44,
     "metadata": {},
     "output_type": "execute_result"
    }
   ],
   "source": [
    "add(3,4)"
   ]
  },
  {
   "cell_type": "code",
   "execution_count": 45,
   "id": "ea4d5258-a19b-4875-81ac-2fee63019347",
   "metadata": {},
   "outputs": [],
   "source": [
    "add3 = partial(add, 3)  # 기존의 함수를 내 전용으로 만들 수 있다.\n",
    "                        # 기능들을 쪼개서 데코레이터로만들어 놓으면 편하다."
   ]
  },
  {
   "cell_type": "code",
   "execution_count": 49,
   "id": "7bfd9c0c-dcb5-4fa8-b94c-b8d2071f9ba4",
   "metadata": {},
   "outputs": [
    {
     "data": {
      "text/plain": [
       "6"
      ]
     },
     "execution_count": 49,
     "metadata": {},
     "output_type": "execute_result"
    }
   ],
   "source": [
    "add3(3)   "
   ]
  },
  {
   "cell_type": "code",
   "execution_count": 50,
   "id": "44e6c9b0-c412-4fba-b62a-3effc7ae1265",
   "metadata": {},
   "outputs": [],
   "source": [
    "## 진짜 어려운 것 들어간다"
   ]
  },
  {
   "cell_type": "code",
   "execution_count": 51,
   "id": "18ec9e48-6ade-4bae-a078-8ba800043493",
   "metadata": {},
   "outputs": [
    {
     "data": {
      "text/plain": [
       "<function __main__.t.<locals>.s()>"
      ]
     },
     "execution_count": 51,
     "metadata": {},
     "output_type": "execute_result"
    }
   ],
   "source": [
    "ss  # <locals>면 데코레이터가 적용된 함수이다.\n",
    "    # 데코레이터가 아닌척 할 수 있다. - 데코레이터를 만드는데 데코레이터를 사용"
   ]
  },
  {
   "cell_type": "code",
   "execution_count": 55,
   "id": "bdd425ae-c28f-4aab-918c-6ad52ce95cfc",
   "metadata": {},
   "outputs": [],
   "source": [
    "# 데코레이터가 아닌척 할 수 있다. - 데코레이터를 만드는데 데코레이터를 사용\n",
    "from functools import wraps\n",
    "\n",
    "def t(fun):\n",
    "    @wraps(fun)\n",
    "    def s():\n",
    "        print('------')\n",
    "        fun()\n",
    "        print('------')\n",
    "    return s"
   ]
  },
  {
   "cell_type": "code",
   "execution_count": 57,
   "id": "124af212-19f6-4996-a56e-4a5263cbe2f4",
   "metadata": {},
   "outputs": [],
   "source": [
    "@t\n",
    "def ss():\n",
    "    print('ss')"
   ]
  },
  {
   "cell_type": "code",
   "execution_count": 58,
   "id": "4cc94760-1c79-4c92-9513-c1e6d1b1d3c7",
   "metadata": {},
   "outputs": [
    {
     "data": {
      "text/plain": [
       "<function __main__.ss()>"
      ]
     },
     "execution_count": 58,
     "metadata": {},
     "output_type": "execute_result"
    }
   ],
   "source": [
    "ss    # <locals>안나옴"
   ]
  },
  {
   "cell_type": "code",
   "execution_count": 59,
   "id": "f0cbb1dd-5d4a-4707-b67f-b9cc33870eb0",
   "metadata": {},
   "outputs": [],
   "source": [
    "# 클로저의 문제점\n",
    "from functools import wraps"
   ]
  },
  {
   "cell_type": "code",
   "execution_count": 60,
   "id": "dc5610c1-08cd-4472-8593-eb2a82af655d",
   "metadata": {},
   "outputs": [],
   "source": [
    "def x(m):\n",
    "    def y():\n",
    "        print('y')\n",
    "    return y"
   ]
  },
  {
   "cell_type": "code",
   "execution_count": 63,
   "id": "debdddb0-bd40-4ae9-9784-f2f1be87730a",
   "metadata": {},
   "outputs": [
    {
     "name": "stdout",
     "output_type": "stream",
     "text": [
      "y\n"
     ]
    }
   ],
   "source": [
    "x(1)()  # 인자 맞추는 것이 굉장히 귀찮다"
   ]
  },
  {
   "cell_type": "code",
   "execution_count": 64,
   "id": "75093496-e760-450c-8081-8511bf0927a7",
   "metadata": {},
   "outputs": [],
   "source": [
    "def x(a):\n",
    "    print(a)\n",
    "\n",
    "def xx():\n",
    "    print('a')"
   ]
  },
  {
   "cell_type": "code",
   "execution_count": 67,
   "id": "5505590a-54c5-4df3-84d9-89af49c12171",
   "metadata": {},
   "outputs": [],
   "source": [
    "def tt(fun):\n",
    "    def ss(a):\n",
    "        print('xxx')\n",
    "        fun(a)\n",
    "    return ss"
   ]
  },
  {
   "cell_type": "code",
   "execution_count": 68,
   "id": "afdfe8f5-8d87-421c-8687-8d51174af33b",
   "metadata": {
    "scrolled": true
   },
   "outputs": [
    {
     "name": "stdout",
     "output_type": "stream",
     "text": [
      "xxx\n",
      "1\n"
     ]
    }
   ],
   "source": [
    "@tt\n",
    "def x(a):\n",
    "    print(a)\n",
    "x(1)"
   ]
  },
  {
   "cell_type": "code",
   "execution_count": 76,
   "id": "6f601551-44d5-47ca-927f-bf49ed7bc5b6",
   "metadata": {},
   "outputs": [],
   "source": [
    "def tt(fun):\n",
    "    def ss():\n",
    "        print('xxx')\n",
    "        fun()\n",
    "    return ss"
   ]
  },
  {
   "cell_type": "code",
   "execution_count": 77,
   "id": "56d0756d-e569-4168-b7d4-d50f1c539748",
   "metadata": {},
   "outputs": [],
   "source": [
    "@tt\n",
    "def xx():\n",
    "    print('a')"
   ]
  },
  {
   "cell_type": "code",
   "execution_count": 78,
   "id": "090322a5-babf-47ba-b426-09091ca79664",
   "metadata": {
    "scrolled": true
   },
   "outputs": [
    {
     "name": "stdout",
     "output_type": "stream",
     "text": [
      "xxx\n",
      "a\n"
     ]
    }
   ],
   "source": [
    "xx()"
   ]
  },
  {
   "cell_type": "code",
   "execution_count": 79,
   "id": "026d47ec-e457-4550-8c9a-bdcee1a01160",
   "metadata": {},
   "outputs": [],
   "source": [
    "# 데코레이터는 인자 맞추기 게임이다.\n",
    "# 클로져도 인자 맞추기 게임이다. => 이것의 해결책은 무엇일까? => "
   ]
  },
  {
   "cell_type": "code",
   "execution_count": 97,
   "id": "d543a180-4311-4286-9335-0bdf6351d5e6",
   "metadata": {},
   "outputs": [],
   "source": [
    "def tt(fun):\n",
    "    def ss(*arg, **kwarg):\n",
    "        print('xxx')\n",
    "        fun(*arg, **kwarg)    # 세상의 모든 인자를 표현할 수 있게 된다.\n",
    "    return ss"
   ]
  },
  {
   "cell_type": "code",
   "execution_count": 98,
   "id": "8c741958-3bf0-494e-9730-8290a00593ab",
   "metadata": {},
   "outputs": [],
   "source": [
    "@tt\n",
    "def x(a):\n",
    "    print(a)\n",
    "\n",
    "@tt\n",
    "def xx():\n",
    "    print('a')"
   ]
  },
  {
   "cell_type": "code",
   "execution_count": 99,
   "id": "69cb8b7a-3bf1-4ccf-b91b-04ce5987b445",
   "metadata": {},
   "outputs": [
    {
     "name": "stdout",
     "output_type": "stream",
     "text": [
      "xxx\n",
      "1\n"
     ]
    }
   ],
   "source": [
    "x(1)"
   ]
  },
  {
   "cell_type": "code",
   "execution_count": 95,
   "id": "65535d7a-b7e4-4a0f-a6ca-6ae154e9627c",
   "metadata": {},
   "outputs": [
    {
     "name": "stdout",
     "output_type": "stream",
     "text": [
      "xxx\n",
      "a\n"
     ]
    }
   ],
   "source": [
    "xx()"
   ]
  },
  {
   "cell_type": "code",
   "execution_count": 100,
   "id": "547769ef-d0f4-425c-a253-660d910da21d",
   "metadata": {},
   "outputs": [],
   "source": [
    "# 미리미리 공부하자"
   ]
  },
  {
   "cell_type": "code",
   "execution_count": null,
   "id": "11e9945e-7ed7-46b4-af50-0865e2722428",
   "metadata": {},
   "outputs": [],
   "source": [
    "int"
   ]
  },
  {
   "cell_type": "code",
   "execution_count": 102,
   "id": "67718f9c-0765-4b2b-90ff-e4715e246d53",
   "metadata": {},
   "outputs": [],
   "source": [
    "# 데코레이터애 괄호가 들어가는 경우가 있다. \n",
    "# 이게 진짜 어렵다.\n",
    "# 3중 구조 데코레이터 => 3중 이상 쓰지 말것. 이론상 4중 5중 까지 사용할 수 있다."
   ]
  },
  {
   "cell_type": "code",
   "execution_count": 130,
   "id": "f28cc6ac-08e2-4b78-ace9-2966b778cb0e",
   "metadata": {},
   "outputs": [],
   "source": [
    "def s(n=1):\n",
    "    def x(fun):\n",
    "        def y(*a, **b):\n",
    "            print('------')\n",
    "            fun(*a, **b)\n",
    "            print(n)\n",
    "            print('------')\n",
    "        return y\n",
    "    return x"
   ]
  },
  {
   "cell_type": "code",
   "execution_count": 134,
   "id": "ea9e2103-b4ea-41ed-8402-749885f9194a",
   "metadata": {},
   "outputs": [],
   "source": [
    "@s()\n",
    "def yyy():\n",
    "    print('ttt')"
   ]
  },
  {
   "cell_type": "code",
   "execution_count": 135,
   "id": "75eec50c-af09-4ca6-afdc-739e578fb68f",
   "metadata": {},
   "outputs": [
    {
     "data": {
      "text/plain": [
       "function"
      ]
     },
     "execution_count": 135,
     "metadata": {},
     "output_type": "execute_result"
    }
   ],
   "source": [
    "type(yyy)"
   ]
  },
  {
   "cell_type": "code",
   "execution_count": 136,
   "id": "3c3120eb-ebd5-4ff2-b2d4-4ddc28e3b4a5",
   "metadata": {},
   "outputs": [
    {
     "name": "stdout",
     "output_type": "stream",
     "text": [
      "------\n",
      "ttt\n",
      "1\n",
      "------\n"
     ]
    }
   ],
   "source": [
    "yyy()"
   ]
  },
  {
   "cell_type": "code",
   "execution_count": 137,
   "id": "c35ce20f-608e-4325-8392-f335bb52f73b",
   "metadata": {},
   "outputs": [],
   "source": [
    "# 위의 3중 데코레이터 \n",
    "# 이걸 구현할 수 있는 방법이 또 2개 더 있다."
   ]
  },
  {
   "cell_type": "code",
   "execution_count": 138,
   "id": "7eaba72a-64c0-465a-be6d-6a23563c1196",
   "metadata": {},
   "outputs": [],
   "source": [
    "import tensorflow as tf"
   ]
  },
  {
   "cell_type": "code",
   "execution_count": 139,
   "id": "f061f4f7-3942-4dd7-9749-e805462e1952",
   "metadata": {},
   "outputs": [],
   "source": [
    "import inspect"
   ]
  },
  {
   "cell_type": "code",
   "execution_count": null,
   "id": "ce3f4023-eb42-4caf-a72c-54c75cbfe0f0",
   "metadata": {},
   "outputs": [],
   "source": [
    "print(inspect.getsource())"
   ]
  },
  {
   "cell_type": "code",
   "execution_count": 140,
   "id": "9025a7f1-9229-4b39-a07d-6e069b4a8431",
   "metadata": {},
   "outputs": [],
   "source": [
    "# 파이단틱 + 스타댄틱 = FAST API"
   ]
  },
  {
   "cell_type": "code",
   "execution_count": 141,
   "id": "f97c7266-c5bd-41ce-bcd7-9c5124679d41",
   "metadata": {},
   "outputs": [],
   "source": [
    "# 궁금하면 온라인 강의듣기, 파이썬 웹 개발.. 클래스데코레이터 알아야한다."
   ]
  },
  {
   "cell_type": "code",
   "execution_count": 142,
   "id": "0ad15ceb-692a-4b9c-af38-cd078c86e343",
   "metadata": {},
   "outputs": [],
   "source": [
    "# 데코레이터 수십개 붙일 수도 있다. "
   ]
  },
  {
   "cell_type": "code",
   "execution_count": 143,
   "id": "3297dbe5-0774-43b8-bbdd-45da92959d8c",
   "metadata": {},
   "outputs": [],
   "source": [
    "# Putty? 이게 뭐지? INISW lms \n",
    "    # 네트워크 프로토콜인 SSH, Telnet, rlogin, SCP 등을 지원하는 무료 오픈소스 터미널 에뮬레이터이다.\n",
    "# 웹 개발에서 데코레이터 진짜 유용하다\n",
    "# "
   ]
  },
  {
   "cell_type": "code",
   "execution_count": null,
   "id": "14f90ffb-a19d-45b0-8d24-df209e12b697",
   "metadata": {},
   "outputs": [],
   "source": [
    "# 데코레이터는 추상화와 연관이 되어있다. 상속이 아닌 데코레이터로 추상화 기능을 구현할 수 있다.\n",
    "# 명확하게 구별지을 수 없을 때가 많다."
   ]
  },
  {
   "cell_type": "code",
   "execution_count": null,
   "id": "b01bfc00-e642-4442-8d10-5685b8c865ee",
   "metadata": {},
   "outputs": [],
   "source": [
    "# 다음 주 부터는 데이터분석에 필요한 타입을 배울 것이다. - 어레이 - 반성을 많이 했다. - 기초부터"
   ]
  },
  {
   "cell_type": "code",
   "execution_count": null,
   "id": "597f3915-0343-404a-bab6-52d861eb160f",
   "metadata": {},
   "outputs": [],
   "source": [
    "# NERF - 액션캠으로 모델 학습"
   ]
  },
  {
   "cell_type": "code",
   "execution_count": 144,
   "id": "fe3fdefd-682c-4e80-8b8a-b9f5a1a6de6e",
   "metadata": {},
   "outputs": [],
   "source": [
    "## 클래스 데코레이터 테스트"
   ]
  },
  {
   "cell_type": "code",
   "execution_count": 290,
   "id": "1fc283fe-3c69-4517-84e0-eca0490c72ef",
   "metadata": {},
   "outputs": [],
   "source": [
    "class countcalls(object, metaclass=type):\n",
    "    __instances = {}\n",
    "\n",
    "    def __init__(self, f):\n",
    "       self.__f = f\n",
    "       print(self.__f.__name__)\n",
    "       self.__num_calls = 0\n",
    "       countcalls.__instances[f] = self\n",
    "    def __call__(self, *args, **kwargs):\n",
    "       self.__num_calls += 1\n",
    "       print(self.__f.__name__)\n",
    "       return self.__f(*args, **kwargs)\n",
    "    def count(self):\n",
    "       return self.__num_calls\n",
    "    @staticmethod\n",
    "    def counts():\n",
    "       print(f.__name__)\n",
    "       return dict([(f.__name__,\n",
    "    countcalls.__instances[f].__numcalls) for f in\n",
    "    countcalls.__instances])"
   ]
  },
  {
   "cell_type": "code",
   "execution_count": 285,
   "id": "6568fdaa-50b9-4efe-946e-39b3445bbdb6",
   "metadata": {},
   "outputs": [
    {
     "name": "stdout",
     "output_type": "stream",
     "text": [
      "foo\n"
     ]
    }
   ],
   "source": [
    "@countcalls\n",
    "def foo():\n",
    "    print('hello')"
   ]
  },
  {
   "cell_type": "code",
   "execution_count": 286,
   "id": "f6b174c9-d7c3-42b2-b4e7-0c6ca832f3ef",
   "metadata": {},
   "outputs": [
    {
     "name": "stdout",
     "output_type": "stream",
     "text": [
      "foo\n",
      "hello\n"
     ]
    }
   ],
   "source": [
    "foo()"
   ]
  },
  {
   "cell_type": "code",
   "execution_count": 287,
   "id": "fb1ae298-1ed2-44f7-b1a4-02b13b3a1b43",
   "metadata": {},
   "outputs": [
    {
     "data": {
      "text/plain": [
       "1"
      ]
     },
     "execution_count": 287,
     "metadata": {},
     "output_type": "execute_result"
    }
   ],
   "source": [
    "foo.count()"
   ]
  },
  {
   "cell_type": "code",
   "execution_count": 294,
   "id": "e72dacf5-3d6b-4b85-be24-d4b399b7b15a",
   "metadata": {},
   "outputs": [
    {
     "ename": "AttributeError",
     "evalue": "type object 'countcalls' has no attribute '__instances'",
     "output_type": "error",
     "traceback": [
      "\u001b[0;31m---------------------------------------------------------------------------\u001b[0m",
      "\u001b[0;31mAttributeError\u001b[0m                            Traceback (most recent call last)",
      "Cell \u001b[0;32mIn[294], line 1\u001b[0m\n\u001b[0;32m----> 1\u001b[0m \u001b[43mcountcalls\u001b[49m\u001b[38;5;241;43m.\u001b[39;49m\u001b[43m__instances\u001b[49m\n",
      "\u001b[0;31mAttributeError\u001b[0m: type object 'countcalls' has no attribute '__instances'"
     ]
    }
   ],
   "source": [
    "countcalls.__instances"
   ]
  },
  {
   "cell_type": "code",
   "execution_count": 292,
   "id": "8568a286-76f0-45a6-9582-4a29e270490d",
   "metadata": {},
   "outputs": [
    {
     "ename": "NameError",
     "evalue": "name 'f' is not defined",
     "output_type": "error",
     "traceback": [
      "\u001b[0;31m---------------------------------------------------------------------------\u001b[0m",
      "\u001b[0;31mNameError\u001b[0m                                 Traceback (most recent call last)",
      "Cell \u001b[0;32mIn[292], line 1\u001b[0m\n\u001b[0;32m----> 1\u001b[0m \u001b[38;5;28mprint\u001b[39m(\u001b[43mcountcalls\u001b[49m\u001b[38;5;241;43m.\u001b[39;49m\u001b[43mcounts\u001b[49m\u001b[43m(\u001b[49m\u001b[43m)\u001b[49m)\n",
      "Cell \u001b[0;32mIn[290], line 17\u001b[0m, in \u001b[0;36mcountcalls.counts\u001b[0;34m()\u001b[0m\n\u001b[1;32m     15\u001b[0m \u001b[38;5;129m@staticmethod\u001b[39m\n\u001b[1;32m     16\u001b[0m \u001b[38;5;28;01mdef\u001b[39;00m \u001b[38;5;21mcounts\u001b[39m():\n\u001b[0;32m---> 17\u001b[0m    \u001b[38;5;28mprint\u001b[39m(\u001b[43mf\u001b[49m\u001b[38;5;241m.\u001b[39m\u001b[38;5;18m__name__\u001b[39m)\n\u001b[1;32m     18\u001b[0m    \u001b[38;5;28;01mreturn\u001b[39;00m \u001b[38;5;28mdict\u001b[39m([(f\u001b[38;5;241m.\u001b[39m\u001b[38;5;18m__name__\u001b[39m,\n\u001b[1;32m     19\u001b[0m countcalls\u001b[38;5;241m.\u001b[39m__instances[f]\u001b[38;5;241m.\u001b[39m__numcalls) \u001b[38;5;28;01mfor\u001b[39;00m f \u001b[38;5;129;01min\u001b[39;00m\n\u001b[1;32m     20\u001b[0m countcalls\u001b[38;5;241m.\u001b[39m__instances])\n",
      "\u001b[0;31mNameError\u001b[0m: name 'f' is not defined"
     ]
    }
   ],
   "source": [
    "print(countcalls.counts())"
   ]
  },
  {
   "cell_type": "code",
   "execution_count": 375,
   "id": "186bb465-fde5-4e9f-8ac2-192076f0508b",
   "metadata": {},
   "outputs": [],
   "source": [
    "import functools\n",
    "def accepts(*types,**kwtypes):\n",
    "    def decorator(fn):\n",
    "        @functools.wraps(fn)\n",
    "        def inner(*args, **kwargs):\n",
    "            \n",
    "            for (t, a) in zip(types, args):\n",
    "                print(t,a)\n",
    "                assert isinstance(a, t)\n",
    "                \n",
    "            keys=kwargs.keys()\n",
    "            for key in keys:\n",
    "                t = kwtypes[key]\n",
    "                a = kwargs[key]\n",
    "                print(t,a)\n",
    "                assert isinstance(a,t)\n",
    "            return fn(*args, **kwargs)\n",
    "        return inner\n",
    "    return decorator"
   ]
  },
  {
   "cell_type": "code",
   "execution_count": 376,
   "id": "34208ca9-408b-4d7e-b861-3863f819fcff",
   "metadata": {},
   "outputs": [],
   "source": [
    "def a():\n",
    "    print(\"asdf\")"
   ]
  },
  {
   "cell_type": "code",
   "execution_count": 380,
   "id": "3c606a47-6863-415d-bed6-8ddd3622d7f0",
   "metadata": {},
   "outputs": [],
   "source": [
    "@accepts(int,float,str,a=int,b=float,c=str)\n",
    "def foo(*arg, **kwarg):\n",
    "    print('type checked')"
   ]
  },
  {
   "cell_type": "code",
   "execution_count": 382,
   "id": "ee784f28-725e-4949-aba9-15cc9bc14e7d",
   "metadata": {},
   "outputs": [
    {
     "name": "stdout",
     "output_type": "stream",
     "text": [
      "<class 'int'> 1\n",
      "<class 'float'> 1.0\n",
      "<class 'str'> 1\n",
      "<class 'int'> 1\n",
      "<class 'float'> 1\n"
     ]
    },
    {
     "ename": "AssertionError",
     "evalue": "",
     "output_type": "error",
     "traceback": [
      "\u001b[0;31m---------------------------------------------------------------------------\u001b[0m",
      "\u001b[0;31mAssertionError\u001b[0m                            Traceback (most recent call last)",
      "Cell \u001b[0;32mIn[382], line 1\u001b[0m\n\u001b[0;32m----> 1\u001b[0m \u001b[43mfoo\u001b[49m\u001b[43m(\u001b[49m\u001b[38;5;241;43m1\u001b[39;49m\u001b[43m,\u001b[49m\u001b[38;5;241;43m1.\u001b[39;49m\u001b[43m,\u001b[49m\u001b[38;5;124;43m'\u001b[39;49m\u001b[38;5;124;43m1\u001b[39;49m\u001b[38;5;124;43m'\u001b[39;49m\u001b[43m,\u001b[49m\u001b[43ma\u001b[49m\u001b[38;5;241;43m=\u001b[39;49m\u001b[38;5;241;43m1\u001b[39;49m\u001b[43m,\u001b[49m\u001b[43m \u001b[49m\u001b[43mb\u001b[49m\u001b[38;5;241;43m=\u001b[39;49m\u001b[38;5;241;43m1\u001b[39;49m\u001b[43m,\u001b[49m\u001b[43m \u001b[49m\u001b[43mc\u001b[49m\u001b[38;5;241;43m=\u001b[39;49m\u001b[38;5;124;43m'\u001b[39;49m\u001b[38;5;124;43m1\u001b[39;49m\u001b[38;5;124;43m'\u001b[39;49m\u001b[43m)\u001b[49m\n",
      "Cell \u001b[0;32mIn[375], line 14\u001b[0m, in \u001b[0;36maccepts.<locals>.decorator.<locals>.inner\u001b[0;34m(*args, **kwargs)\u001b[0m\n\u001b[1;32m     12\u001b[0m     a \u001b[38;5;241m=\u001b[39m kwargs[key]\n\u001b[1;32m     13\u001b[0m     \u001b[38;5;28mprint\u001b[39m(t,a)\n\u001b[0;32m---> 14\u001b[0m     \u001b[38;5;28;01massert\u001b[39;00m \u001b[38;5;28misinstance\u001b[39m(a,t)\n\u001b[1;32m     15\u001b[0m \u001b[38;5;28;01mreturn\u001b[39;00m fn(\u001b[38;5;241m*\u001b[39margs, \u001b[38;5;241m*\u001b[39m\u001b[38;5;241m*\u001b[39mkwargs)\n",
      "\u001b[0;31mAssertionError\u001b[0m: "
     ]
    }
   ],
   "source": [
    "foo(1,1.,'1',a=1, b=1, c='1')"
   ]
  },
  {
   "cell_type": "code",
   "execution_count": 341,
   "id": "9a1f5353-de1e-446d-ac47-a204f0f11e6a",
   "metadata": {},
   "outputs": [
    {
     "name": "stdout",
     "output_type": "stream",
     "text": [
      "<class 'int'> 1\n",
      "<class 'float'> 1.0\n",
      "<class 'str'> 1\n",
      "type checked\n"
     ]
    }
   ],
   "source": []
  },
  {
   "cell_type": "code",
   "execution_count": 369,
   "id": "4f686af6-6580-45b8-9621-7dc0657ae93b",
   "metadata": {},
   "outputs": [
    {
     "name": "stderr",
     "output_type": "stream",
     "text": [
      "<>:1: SyntaxWarning: 'set' object is not subscriptable; perhaps you missed a comma?\n",
      "<>:1: SyntaxWarning: 'set' object is not subscriptable; perhaps you missed a comma?\n",
      "/var/folders/1n/x_wfn1w17ng2dw0lf7_z5klw0000gn/T/ipykernel_59571/3345480567.py:1: SyntaxWarning: 'set' object is not subscriptable; perhaps you missed a comma?\n",
      "  {1,2,3}[0]\n"
     ]
    },
    {
     "ename": "TypeError",
     "evalue": "'set' object is not subscriptable",
     "output_type": "error",
     "traceback": [
      "\u001b[0;31m---------------------------------------------------------------------------\u001b[0m",
      "\u001b[0;31mTypeError\u001b[0m                                 Traceback (most recent call last)",
      "Cell \u001b[0;32mIn[369], line 1\u001b[0m\n\u001b[0;32m----> 1\u001b[0m \u001b[43m{\u001b[49m\u001b[38;5;241;43m1\u001b[39;49m\u001b[43m,\u001b[49m\u001b[38;5;241;43m2\u001b[39;49m\u001b[43m,\u001b[49m\u001b[38;5;241;43m3\u001b[39;49m\u001b[43m}\u001b[49m\u001b[43m[\u001b[49m\u001b[38;5;241;43m0\u001b[39;49m\u001b[43m]\u001b[49m\n",
      "\u001b[0;31mTypeError\u001b[0m: 'set' object is not subscriptable"
     ]
    }
   ],
   "source": []
  },
  {
   "cell_type": "code",
   "execution_count": null,
   "id": "7e355c02-016d-4482-a75f-5b28eea6916b",
   "metadata": {},
   "outputs": [],
   "source": [
    "import functools\n",
    "\n",
    "def accepts(*types, **kwtypes):\n",
    "    def decorator(fn):\n",
    "        @functools.wraps(fn)\n",
    "        def inner(*args, **kwargs):\n",
    "            if not all(isinstance(a, t) for a, t in zip(args, types)):\n",
    "                raise AssertionError(\"argument type mismatch\")\n",
    "            if not all(isinstance(kwargs[k], kwtypes[k]) for k in kwtypes):\n",
    "                raise AssertionError(\"keyword argument type mismatch\")\n",
    "            return fn(*args, **kwargs)\n",
    "        return inner\n",
    "    return decorator"
   ]
  },
  {
   "cell_type": "code",
   "execution_count": 384,
   "id": "479937d8-4b83-45f0-a3c2-f16a95b66871",
   "metadata": {},
   "outputs": [
    {
     "ename": "SyntaxError",
     "evalue": "invalid syntax (4019899730.py, line 1)",
     "output_type": "error",
     "traceback": [
      "\u001b[0;36m  Cell \u001b[0;32mIn[384], line 1\u001b[0;36m\u001b[0m\n\u001b[0;31m    내가 개발자가 되고 싶은 이유는 인정을 갈구하기 때문이다. 유능하고 싶기 때문이다. 쓸모가 있고 싶기 때문이다.\u001b[0m\n\u001b[0m       ^\u001b[0m\n\u001b[0;31mSyntaxError\u001b[0m\u001b[0;31m:\u001b[0m invalid syntax\n"
     ]
    }
   ],
   "source": [
    "내가 개발자가 되고 싶은 이유는 인정을 갈구하기 때문이다. 유능하고 싶기 때문이다. 쓸모가 있고 싶기 때문이다."
   ]
  },
  {
   "cell_type": "code",
   "execution_count": 4,
   "id": "4954e8be-a5bc-4fd3-87b1-0ee785846d12",
   "metadata": {},
   "outputs": [],
   "source": [
    "import time\n",
    "import functools\n",
    "def timeit(fn):\n",
    "    @functools.wraps(fn)\n",
    "    def inner(*args, **kwargs):\n",
    "        start_time = time.time()\n",
    "        retval = fn(*args, **kwargs)\n",
    "        duration = time.time() - start_time\n",
    "        print(\"%s : %2.2f sec\" % (fn.__name__,duration))\n",
    "        return retval\n",
    "    return inner"
   ]
  },
  {
   "cell_type": "code",
   "execution_count": 640,
   "id": "4835da73-adcd-4e30-a281-039b3536b86d",
   "metadata": {},
   "outputs": [
    {
     "name": "stdout",
     "output_type": "stream",
     "text": [
      "check\n",
      "x : 0.00 sec\n"
     ]
    }
   ],
   "source": [
    "@timeit\n",
    "def x(*args, **kwargs): \n",
    "    print('check')\n",
    "\n",
    "x()"
   ]
  },
  {
   "cell_type": "code",
   "execution_count": 388,
   "id": "2fa8cb31-d4dc-4004-80c2-7516fb061003",
   "metadata": {},
   "outputs": [
    {
     "name": "stdout",
     "output_type": "stream",
     "text": [
      "3.11.8 (main, Feb  6 2024, 21:21:21) [Clang 15.0.0 (clang-1500.1.0.2.5)]\n",
      "3.11.8\n"
     ]
    }
   ],
   "source": [
    "import sys\n",
    "print(sys.version)\n",
    "print(sys.version.split(\" \")[0])"
   ]
  },
  {
   "cell_type": "code",
   "execution_count": null,
   "id": "28634922-d087-4a7e-9971-1a958b3447b5",
   "metadata": {},
   "outputs": [],
   "source": [
    "class SemanticVersion:\n",
    "    def __init__(self, version_str):\n",
    "        self.major, self.minor, self.patch = map(int, version_str.split('.'))\n",
    "\n",
    "    def __lt__(self, other):\n",
    "        return (self.major, self.minor, self.patch) < (other.major, other.minor, other.patch)\n",
    "\n",
    "    def __eq__(self, other):\n",
    "        return (self.major, self.minor, self.patch) == (other.major, other.minor, other.patch)\n",
    "\n",
    "# 사용 예시\n",
    "version1 = SemanticVersion(\"1.2.3\")\n",
    "version2 = SemanticVersion(\"1.3.0\")\n",
    "\n",
    "print(version1 < version2)  # True 출력\n",
    "print(version1 == version2)  # False 출력"
   ]
  },
  {
   "cell_type": "code",
   "execution_count": 486,
   "id": "366fbc45-2d70-4b69-a7f2-60a26ad3254b",
   "metadata": {},
   "outputs": [
    {
     "name": "stdout",
     "output_type": "stream",
     "text": [
      "True\n",
      "False\n"
     ]
    }
   ],
   "source": [
    "class SemanticVersion:\n",
    "    def __init__(self, version_str):\n",
    "        # 버전 문자열을 '.'을 기준으로 나누어 각 부분을 정수로 변환합니다.\n",
    "        self.version_str = version_str\n",
    "        self.major, self.minor, self.patch = map(int, version_str.split('.'))\n",
    "\n",
    "    def __lt__(self, other):\n",
    "        # 먼저 메이저 버전을 비교합니다.\n",
    "        if self.major < other.major:\n",
    "            return True\n",
    "        if self.major > other.major:\n",
    "            return False\n",
    "        \n",
    "        # 메이저 버전이 같다면, 마이너 버전을 비교합니다.\n",
    "        if self.minor < other.minor:\n",
    "            return True\n",
    "        if self.minor > other.minor:\n",
    "            return False\n",
    "        \n",
    "        # 마이너 버전까지 같다면, 패치 버전을 비교합니다.\n",
    "        return self.patch < other.patch\n",
    "\n",
    "    def __eq__(self, other):\n",
    "        return self.major == other.major and self.minor == other.minor and self.patch == other.patch\n",
    "\n",
    "# 사용 예시\n",
    "version1 = SemanticVersion(\"1.2.3\")\n",
    "version2 = SemanticVersion(\"1.3.0\")\n",
    "\n",
    "print(version1 < version2)  # True 출력\n",
    "print(version1 == version2)  # False 출력"
   ]
  },
  {
   "cell_type": "code",
   "execution_count": 487,
   "id": "3efa48a2-3cfe-4f11-841c-19771a46889b",
   "metadata": {},
   "outputs": [],
   "source": [
    "import warnings\n",
    "import sys \n",
    "\n",
    "def deprecated(since=\"0.0.0\"):\n",
    "    def decorator(fn):\n",
    "        @functools.wraps(fn)\n",
    "        def inner(*args, **kwargs):\n",
    "            version = sys.version.split(' ')[0]\n",
    "            cur_ver = SemanticVersion(version)\n",
    "            since_ver = SemanticVersion(since)\n",
    "            print(cur_ver.version_str,'|',since_ver.version_str)\n",
    "            if cur_ver < since_ver:\n",
    "                return fn(*args, **kwargs)\n",
    "            print(f'you are using python version {version},','foo has been deprecated since version 2.4.1')\n",
    "            warnings.warn(\"Deprecated:{}\".format(fn.__name__),category=DeprecationWarning)\n",
    "            return fn(*args, **kwargs)\n",
    "        return inner\n",
    "    return decorator\n"
   ]
  },
  {
   "cell_type": "code",
   "execution_count": 488,
   "id": "a9192d92-c9fa-40a8-a586-e48936f2486a",
   "metadata": {},
   "outputs": [],
   "source": [
    "@deprecated(since=\"4.3.3\")\n",
    "def foo(*args, **kwargs):\n",
    "    print('hello this is foo')\n",
    "    "
   ]
  },
  {
   "cell_type": "code",
   "execution_count": 489,
   "id": "7394ad99-91fb-4822-9211-6eae61b7efd1",
   "metadata": {},
   "outputs": [
    {
     "name": "stdout",
     "output_type": "stream",
     "text": [
      "3.11.8 | 4.3.3\n",
      "hello this is foo\n"
     ]
    }
   ],
   "source": [
    "foo()"
   ]
  },
  {
   "cell_type": "code",
   "execution_count": 459,
   "id": "95ccae7d-a506-40b3-96d0-7a8f186020ae",
   "metadata": {},
   "outputs": [
    {
     "name": "stdout",
     "output_type": "stream",
     "text": [
      "True\n",
      "False\n"
     ]
    }
   ],
   "source": []
  },
  {
   "cell_type": "code",
   "execution_count": 490,
   "id": "82c81e4e-6114-4acf-9810-dda4cf81a6dc",
   "metadata": {},
   "outputs": [],
   "source": [
    "# exercise 1. 함수의 매개변수를 출력하는 기능을 추가하는 데코레이터 정의하기"
   ]
  },
  {
   "cell_type": "code",
   "execution_count": 524,
   "id": "c9bc8af4-8a7f-4d38-9177-a79ef387583b",
   "metadata": {},
   "outputs": [],
   "source": [
    "def print_args(fun):\n",
    "    def inner(*args, **kwargs):\n",
    "        print('arguments:' ,args ,kwargs)\n",
    "        return fun(*args, **kwargs)\n",
    "    return inner"
   ]
  },
  {
   "cell_type": "code",
   "execution_count": 525,
   "id": "91b50574-54ab-4f75-848f-fd8cc0a61588",
   "metadata": {},
   "outputs": [],
   "source": [
    "@print_args\n",
    "def x(*args, **kwargs):\n",
    "    print('hello')"
   ]
  },
  {
   "cell_type": "code",
   "execution_count": 526,
   "id": "00817205-5d0c-475a-b7be-12d359829ab1",
   "metadata": {},
   "outputs": [
    {
     "name": "stdout",
     "output_type": "stream",
     "text": [
      "arguments: (1, '1234', 123, 'ㅗ딤ㅇ', 4, 5, 6) {'a': '123', 'b': '김얼', 'c': <function <lambda> at 0x2ad07ed40>}\n",
      "hello\n"
     ]
    }
   ],
   "source": [
    "x(1,'1234',123,'ㅗ딤ㅇ',4,5,6,a='123',b='김얼',c=(lambda x:x+1))"
   ]
  },
  {
   "cell_type": "code",
   "execution_count": 527,
   "id": "cc76c979-e337-4e2a-a8c2-8192090776c0",
   "metadata": {},
   "outputs": [],
   "source": [
    "# exercise 2. 함수가 None을 반환하면 에러를 날리는 기능을 추가해주는 데코레이터"
   ]
  },
  {
   "cell_type": "code",
   "execution_count": 539,
   "id": "8148a325-8b31-42a1-88da-133440481d55",
   "metadata": {},
   "outputs": [],
   "source": [
    "def isNone(fun):\n",
    "    def inner(*args, **kwargs):\n",
    "        result = fun(*args, **kwargs)\n",
    "        assert result\n",
    "        return result\n",
    "    return inner"
   ]
  },
  {
   "cell_type": "code",
   "execution_count": 540,
   "id": "5f520b11-b769-4e20-ad31-b11e36fca6f9",
   "metadata": {},
   "outputs": [],
   "source": [
    "@isNone\n",
    "def x(*args, **kwargs):\n",
    "    return 'not None'"
   ]
  },
  {
   "cell_type": "code",
   "execution_count": 541,
   "id": "c0645531-749d-432d-b55f-ab11dab692b2",
   "metadata": {},
   "outputs": [
    {
     "data": {
      "text/plain": [
       "'not None'"
      ]
     },
     "execution_count": 541,
     "metadata": {},
     "output_type": "execute_result"
    }
   ],
   "source": [
    "x()"
   ]
  },
  {
   "cell_type": "code",
   "execution_count": 542,
   "id": "99a236b2-1b59-4b1e-94b7-359a10ccba82",
   "metadata": {},
   "outputs": [],
   "source": [
    "# exercise 3. 가장 최근 발생한 n번의 호출결과를 저장하는 기능을 추가해주는 데코레이터"
   ]
  },
  {
   "cell_type": "code",
   "execution_count": 609,
   "id": "6dfc87a1-8059-4c5e-818c-c3d7243aff01",
   "metadata": {},
   "outputs": [],
   "source": [
    "def args_to_str(*args, **kwargs):\n",
    "    kwargs_str = ','.join([ str(key)+'='+str(kwargs[key]) for key in kwargs.keys()])\n",
    "    args_str = ','.join([str(arg) for arg in args])\n",
    "    rst = args_str+','+kwargs_str\n",
    "    return rst"
   ]
  },
  {
   "cell_type": "code",
   "execution_count": 134,
   "id": "b547a695-026c-4095-b571-f27958e377cd",
   "metadata": {},
   "outputs": [],
   "source": [
    "import time\n",
    "import functools\n",
    "def timeit(fn):\n",
    "    @functools.wraps(fn)\n",
    "    def inner(*args, **kwargs):\n",
    "        start_time = time.time()\n",
    "        retval = fn(*args, **kwargs)\n",
    "        duration = time.time() - start_time\n",
    "        print(f\"{fn.__name__} : {duration:2.5f} sec\")\n",
    "        return retval\n",
    "    return inner"
   ]
  },
  {
   "cell_type": "code",
   "execution_count": 135,
   "id": "32053806-1f22-4000-a5a9-9be776769ef3",
   "metadata": {},
   "outputs": [],
   "source": [
    "def cache(n):\n",
    "    def decorator(fn):\n",
    "        cache_list = []  # 함수 결과를 저장할 리스트\n",
    "        \n",
    "        def inner(*args, **kwargs):\n",
    "            # key 구하기\n",
    "            kwargs_str = ','.join([f\"{key}={value}\" for key, value in sorted(kwargs.items())])\n",
    "            args_str = ','.join(map(str, args))\n",
    "            key = (args_str + ';' + kwargs_str) if args_str and kwargs_str else args_str + kwargs_str\n",
    "            \n",
    "            # cache에서 key에 해당하는 값을 찾기\n",
    "            for item in cache_list:\n",
    "                if item[0] == key:\n",
    "                    print(cache_list)\n",
    "                    return item[1]  # Cache hit\n",
    "            \n",
    "            # Cache miss, 함수 실행 및 결과 저장\n",
    "            result = fn(*args, **kwargs)\n",
    "            cache_list.append((key, result))\n",
    "            # 캐시 용량이 초과되면 가장 오래된 항목 삭제\n",
    "            if len(cache_list) > n:\n",
    "                cache_list.pop(0)\n",
    "            print(cache_list)\n",
    "            return result\n",
    "\n",
    "        return inner\n",
    "    return decorator\n",
    "\n",
    "# 예시 사용법\n",
    "@timeit\n",
    "@cache(5)\n",
    "def add(x):\n",
    "    return sum(range(0, x))\n"
   ]
  },
  {
   "cell_type": "code",
   "execution_count": 154,
   "id": "173a06b3-c470-4c06-ad0c-5d8bf488755f",
   "metadata": {},
   "outputs": [
    {
     "name": "stdout",
     "output_type": "stream",
     "text": [
      "[('1230000', 756449385000), ('123000000', 7564499938500000), ('9090000', 41314045455000), ('99090000', 4909414000455000), ('9100', 41400450)]\n",
      "inner : 0.00011 sec\n"
     ]
    },
    {
     "data": {
      "text/plain": [
       "41400450"
      ]
     },
     "execution_count": 154,
     "metadata": {},
     "output_type": "execute_result"
    }
   ],
   "source": [
    "add(9100)"
   ]
  },
  {
   "cell_type": "code",
   "execution_count": 155,
   "id": "451685c5-f140-4aac-bf61-b846c649754d",
   "metadata": {},
   "outputs": [
    {
     "ename": "SyntaxError",
     "evalue": "invalid syntax (2259925832.py, line 1)",
     "output_type": "error",
     "traceback": [
      "\u001b[0;36m  Cell \u001b[0;32mIn[155], line 1\u001b[0;36m\u001b[0m\n\u001b[0;31m    exercise 4.\u001b[0m\n\u001b[0m             ^\u001b[0m\n\u001b[0;31mSyntaxError\u001b[0m\u001b[0;31m:\u001b[0m invalid syntax\n"
     ]
    }
   ],
   "source": [
    "# exercise 4."
   ]
  },
  {
   "cell_type": "code",
   "execution_count": 156,
   "id": "7900f800-0967-4550-895a-873fbf04d03a",
   "metadata": {},
   "outputs": [],
   "source": [
    "# exercise 5."
   ]
  },
  {
   "cell_type": "code",
   "execution_count": null,
   "id": "f8da5af3-0df4-4315-a883-8bdf241e1e7a",
   "metadata": {},
   "outputs": [],
   "source": []
  }
 ],
 "metadata": {
  "kernelspec": {
   "display_name": "Python 3 (ipykernel)",
   "language": "python",
   "name": "python3"
  },
  "language_info": {
   "codemirror_mode": {
    "name": "ipython",
    "version": 3
   },
   "file_extension": ".py",
   "mimetype": "text/x-python",
   "name": "python",
   "nbconvert_exporter": "python",
   "pygments_lexer": "ipython3",
   "version": "3.11.8"
  }
 },
 "nbformat": 4,
 "nbformat_minor": 5
}
