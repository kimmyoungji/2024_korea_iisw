{
 "cells": [
  {
   "cell_type": "code",
   "execution_count": 13,
   "id": "5f32a920-3beb-493c-9464-c002ab144e46",
   "metadata": {},
   "outputs": [],
   "source": [
    "class countcalls(object, metaclass=type):\n",
    "    __instances = {}\n",
    "\n",
    "    def __init__(self, f):\n",
    "       self.__f = f\n",
    "       self.__num_calls = 0\n",
    "       countcalls.__instances[f] = self\n",
    "    def __call__(self, *args, **kwargs):\n",
    "       self.__num_calls += 1\n",
    "       return self.__f(*args, **kwargs)\n",
    "    def count(self):\n",
    "       return self.__num_calls\n",
    "    @staticmethod\n",
    "    def counts():\n",
    "       return dict([(f.__name__,\n",
    "    countcalls.__instances[f].__numcalls) for f in\n",
    "    countcalls.__instances])"
   ]
  },
  {
   "cell_type": "code",
   "execution_count": 14,
   "id": "d7a6809e-c2ae-4b69-b1f0-fef214e6c327",
   "metadata": {},
   "outputs": [],
   "source": [
    "@countcalls\n",
    "def foo():\n",
    "    print('hello')"
   ]
  },
  {
   "cell_type": "code",
   "execution_count": 15,
   "id": "b5b480e6-f142-4b93-9f19-8d229467743d",
   "metadata": {},
   "outputs": [
    {
     "name": "stdout",
     "output_type": "stream",
     "text": [
      "hello\n",
      "hello\n",
      "hello\n"
     ]
    }
   ],
   "source": [
    "foo()\n",
    "foo()\n",
    "foo()"
   ]
  },
  {
   "cell_type": "code",
   "execution_count": 17,
   "id": "3c4eceaf-5aa0-4749-beea-b50a4a36d80d",
   "metadata": {},
   "outputs": [
    {
     "data": {
      "text/plain": [
       "3"
      ]
     },
     "execution_count": 17,
     "metadata": {},
     "output_type": "execute_result"
    }
   ],
   "source": [
    "foo.count()"
   ]
  },
  {
   "cell_type": "code",
   "execution_count": 19,
   "id": "cafe55c5-eb87-4ca3-80e7-af18b3f79503",
   "metadata": {},
   "outputs": [
    {
     "ename": "AttributeError",
     "evalue": "type object 'countcalls' has no attribute '__instances'",
     "output_type": "error",
     "traceback": [
      "\u001b[0;31m---------------------------------------------------------------------------\u001b[0m",
      "\u001b[0;31mAttributeError\u001b[0m                            Traceback (most recent call last)",
      "Cell \u001b[0;32mIn[19], line 1\u001b[0m\n\u001b[0;32m----> 1\u001b[0m \u001b[43mcountcalls\u001b[49m\u001b[38;5;241;43m.\u001b[39;49m\u001b[43m__instances\u001b[49m\n",
      "\u001b[0;31mAttributeError\u001b[0m: type object 'countcalls' has no attribute '__instances'"
     ]
    }
   ],
   "source": [
    "countcalls.__instances"
   ]
  },
  {
   "cell_type": "code",
   "execution_count": 8,
   "id": "aa5811fd-0463-4e5f-bd3f-12576941c80a",
   "metadata": {},
   "outputs": [
    {
     "ename": "SyntaxError",
     "evalue": "invalid syntax (531705770.py, line 1)",
     "output_type": "error",
     "traceback": [
      "\u001b[0;36m  Cell \u001b[0;32mIn[8], line 1\u001b[0;36m\u001b[0m\n\u001b[0;31m    나는 기초도 없고 태도도 썩어있는 병신이구나...\u001b[0m\n\u001b[0m       ^\u001b[0m\n\u001b[0;31mSyntaxError\u001b[0m\u001b[0;31m:\u001b[0m invalid syntax\n"
     ]
    }
   ],
   "source": [
    "나는 기초도 없고 태도도 썩어있는 병신이구나..."
   ]
  },
  {
   "cell_type": "code",
   "execution_count": 10,
   "id": "fe3b6724-dfe7-43a8-90d0-5529dfe4c9ae",
   "metadata": {},
   "outputs": [
    {
     "ename": "SyntaxError",
     "evalue": "invalid syntax (3603619668.py, line 1)",
     "output_type": "error",
     "traceback": [
      "\u001b[0;36m  Cell \u001b[0;32mIn[10], line 1\u001b[0;36m\u001b[0m\n\u001b[0;31m    일부러 문제를 만들어내서 실력있는 척 하는 사람이었구나...\u001b[0m\n\u001b[0m        ^\u001b[0m\n\u001b[0;31mSyntaxError\u001b[0m\u001b[0;31m:\u001b[0m invalid syntax\n"
     ]
    }
   ],
   "source": [
    "일부러 문제를 만들어내서 실력있는 척 하는 사람이었구나..."
   ]
  },
  {
   "cell_type": "code",
   "execution_count": 11,
   "id": "0ce86097-4773-4b6f-ac9c-9eb4c58b15ad",
   "metadata": {},
   "outputs": [
    {
     "ename": "NameError",
     "evalue": "name 'C발' is not defined",
     "output_type": "error",
     "traceback": [
      "\u001b[0;31m---------------------------------------------------------------------------\u001b[0m",
      "\u001b[0;31mNameError\u001b[0m                                 Traceback (most recent call last)",
      "Cell \u001b[0;32mIn[11], line 1\u001b[0m\n\u001b[0;32m----> 1\u001b[0m \u001b[43mC발\u001b[49m\n",
      "\u001b[0;31mNameError\u001b[0m: name 'C발' is not defined"
     ]
    }
   ],
   "source": [
    "C발"
   ]
  },
  {
   "cell_type": "code",
   "execution_count": null,
   "id": "11edf366-583c-44b0-a276-ab76b20ea729",
   "metadata": {},
   "outputs": [],
   "source": []
  }
 ],
 "metadata": {
  "kernelspec": {
   "display_name": "Python 3 (ipykernel)",
   "language": "python",
   "name": "python3"
  },
  "language_info": {
   "codemirror_mode": {
    "name": "ipython",
    "version": 3
   },
   "file_extension": ".py",
   "mimetype": "text/x-python",
   "name": "python",
   "nbconvert_exporter": "python",
   "pygments_lexer": "ipython3",
   "version": "3.11.8"
  }
 },
 "nbformat": 4,
 "nbformat_minor": 5
}
