{
 "cells": [
  {
   "cell_type": "code",
   "execution_count": null,
   "metadata": {},
   "outputs": [],
   "source": [
    "- 텐서플로우 가져다 쓸때 함수형 프로그래밍을 꼭 알아야한다.\n",
    "- 이터레이터 제너레이터 3장\n",
    "- 2장 : 짱중요"
   ]
  },
  {
   "cell_type": "code",
   "execution_count": null,
   "metadata": {},
   "outputs": [],
   "source": [
    "- __call__ 때문에 함수형 프로그래밍과 객체지향 프로그래밍의 경계가 허물어진다.\n",
    "- 함수: 정의. encapsulation -> LEGB\n",
    "    - 변수값을 함께 저장하지 않는다.\n",
    "- 클래스: 정의. encapsulation -> 기본 접근 제한 없음 -> discriptor\n",
    "    - 행동과 값을 동시 저장 가능하다.\n",
    "\n",
    "- 함수형 프로그래밍에서의 함수는 수학적 함수로 증명이 가능하다. 그래서 이론과 관려된 작업에 유리하다"
   ]
  },
  {
   "cell_type": "code",
   "execution_count": 2,
   "metadata": {},
   "outputs": [],
   "source": [
    "class A:\n",
    "    pass"
   ]
  },
  {
   "cell_type": "code",
   "execution_count": 3,
   "metadata": {},
   "outputs": [],
   "source": [
    "a = A()"
   ]
  },
  {
   "cell_type": "code",
   "execution_count": 4,
   "metadata": {},
   "outputs": [],
   "source": [
    "a.x = 1"
   ]
  },
  {
   "cell_type": "code",
   "execution_count": 5,
   "metadata": {},
   "outputs": [
    {
     "data": {
      "text/plain": [
       "1"
      ]
     },
     "execution_count": 5,
     "metadata": {},
     "output_type": "execute_result"
    }
   ],
   "source": [
    "a.x"
   ]
  },
  {
   "cell_type": "code",
   "execution_count": null,
   "metadata": {},
   "outputs": [],
   "source": [
    "클래스 안에서의 추가 삭제가 용이해진다."
   ]
  },
  {
   "cell_type": "code",
   "execution_count": null,
   "metadata": {},
   "outputs": [],
   "source": [
    "파이썬의 클래스는 깊게 들어가면 어렵다. 그러니 용어부터 알자\n",
    "\n",
    "[용어]\n",
    "\n",
    "# 클래스 정의\n",
    "class A:\n",
    "    x = 1  \n",
    "    def xx(self): \n",
    "        print('a') \n",
    "\n",
    "# 아래의 3개를 묶어서 attribute라고 부른다.\n",
    "# method\n",
    "# class variable\n",
    "# method (self). : instance variable \n",
    "\n",
    "# 인스턴스란 (오브젝트): 클래스로부터 나온 구체적인 값\n",
    "a = A() # 구체적인 인스턴스 구하는 법\n",
    "        # 이와 같은 인스턴스를 활용하여 프로그래밍하는 것이 객체지향 프로그래밍\n"
   ]
  },
  {
   "cell_type": "code",
   "execution_count": null,
   "metadata": {},
   "outputs": [],
   "source": [
    "a = 1 <- literal # 단축 표현 리터럴\n",
    "a = int(1) # 이줄에서 위 줄이 나오게 되는 것이다.\n",
    "           # int 형의 데이터를 만든다."
   ]
  },
  {
   "cell_type": "code",
   "execution_count": null,
   "metadata": {},
   "outputs": [],
   "source": [
    "# 클래스는 데이터 타입이다. 행동가지 정의된.\n",
    "class int:\n",
    "    pass"
   ]
  },
  {
   "cell_type": "code",
   "execution_count": null,
   "metadata": {},
   "outputs": [],
   "source": [
    "# 객체지향이 1960년대에 나와서 지금까지 살아있는 이유는\n",
    "# 유지 보수에 가장 좋기 때문이다.\n",
    "# 파이썬 객체 지향은 예외가 너무 많아서 어렵다."
   ]
  },
  {
   "cell_type": "code",
   "execution_count": 9,
   "metadata": {},
   "outputs": [],
   "source": [
    "a = list()"
   ]
  },
  {
   "cell_type": "code",
   "execution_count": 10,
   "metadata": {},
   "outputs": [
    {
     "data": {
      "text/plain": [
       "['__add__',\n",
       " '__class__',\n",
       " '__class_getitem__',\n",
       " '__contains__',\n",
       " '__delattr__',\n",
       " '__delitem__',\n",
       " '__dir__',\n",
       " '__doc__',\n",
       " '__eq__',\n",
       " '__format__',\n",
       " '__ge__',\n",
       " '__getattribute__',\n",
       " '__getitem__',\n",
       " '__getstate__',\n",
       " '__gt__',\n",
       " '__hash__',\n",
       " '__iadd__',\n",
       " '__imul__',\n",
       " '__init__',\n",
       " '__init_subclass__',\n",
       " '__iter__',\n",
       " '__le__',\n",
       " '__len__',\n",
       " '__lt__',\n",
       " '__mul__',\n",
       " '__ne__',\n",
       " '__new__',\n",
       " '__reduce__',\n",
       " '__reduce_ex__',\n",
       " '__repr__',\n",
       " '__reversed__',\n",
       " '__rmul__',\n",
       " '__setattr__',\n",
       " '__setitem__',\n",
       " '__sizeof__',\n",
       " '__str__',\n",
       " '__subclasshook__',\n",
       " 'append',\n",
       " 'clear',\n",
       " 'copy',\n",
       " 'count',\n",
       " 'extend',\n",
       " 'index',\n",
       " 'insert',\n",
       " 'pop',\n",
       " 'remove',\n",
       " 'reverse',\n",
       " 'sort']"
      ]
     },
     "execution_count": 10,
     "metadata": {},
     "output_type": "execute_result"
    }
   ],
   "source": [
    "dir(a) # 클래스의 모든 어트리뷰트를 알려주는 함수이다 ."
   ]
  },
  {
   "cell_type": "code",
   "execution_count": null,
   "metadata": {},
   "outputs": [],
   "source": [
    "a.append()"
   ]
  },
  {
   "cell_type": "code",
   "execution_count": 11,
   "metadata": {},
   "outputs": [
    {
     "ename": "AttributeError",
     "evalue": "'list' object has no attribute 'app'",
     "output_type": "error",
     "traceback": [
      "\u001b[0;31m---------------------------------------------------------------------------\u001b[0m",
      "\u001b[0;31mAttributeError\u001b[0m                            Traceback (most recent call last)",
      "Cell \u001b[0;32mIn[11], line 1\u001b[0m\n\u001b[0;32m----> 1\u001b[0m \u001b[43ma\u001b[49m\u001b[38;5;241;43m.\u001b[39;49m\u001b[43mapp\u001b[49m\n",
      "\u001b[0;31mAttributeError\u001b[0m: 'list' object has no attribute 'app'"
     ]
    }
   ],
   "source": [
    "a.app"
   ]
  },
  {
   "cell_type": "code",
   "execution_count": null,
   "metadata": {},
   "outputs": [],
   "source": [
    "함수형 프로그래밍에서의 함수는 수학적 함수이기 때문에, 객체지향에서 예외가 있다.\n",
    "\n",
    "클래스는 인스턴스의 갯수가 무한개이다.\n",
    "인스턴스끼리 공유하는 값을 인스턴스 변수라고 한다.\n",
    "a = int(1)\n",
    "b = int(2)\n",
    "c = int(3)"
   ]
  },
  {
   "cell_type": "code",
   "execution_count": 13,
   "metadata": {},
   "outputs": [],
   "source": [
    "# 클래스 정의\n",
    "class A:\n",
    "    x = 1  # 클래스 변수를 인스턴스끼리 공유된다. # 자바에서의 static 변수\n",
    "    def xx(self): \n",
    "        print('a') \n",
    "\n",
    "a1 = A()\n",
    "a2 = A()\n",
    "a3 = A()\n",
    "\n",
    "a1.t = 3  # 인스턴스 변수는 인스턴스만 같고 있는다. 이게 정말 어렵다.\n",
    "a2.t = 4\n",
    "a3.t = 'a'"
   ]
  },
  {
   "cell_type": "markdown",
   "metadata": {},
   "source": [
    "# 인스턴스 변수는 method가 실행 후 생성됨"
   ]
  },
  {
   "cell_type": "code",
   "execution_count": 14,
   "metadata": {},
   "outputs": [],
   "source": [
    "class B:\n",
    "    def bb(self):\n",
    "        self.t = 1 # 인스턴스 변수"
   ]
  },
  {
   "cell_type": "code",
   "execution_count": 15,
   "metadata": {},
   "outputs": [
    {
     "data": {
      "text/plain": [
       "['__class__',\n",
       " '__delattr__',\n",
       " '__dict__',\n",
       " '__dir__',\n",
       " '__doc__',\n",
       " '__eq__',\n",
       " '__format__',\n",
       " '__ge__',\n",
       " '__getattribute__',\n",
       " '__getstate__',\n",
       " '__gt__',\n",
       " '__hash__',\n",
       " '__init__',\n",
       " '__init_subclass__',\n",
       " '__le__',\n",
       " '__lt__',\n",
       " '__module__',\n",
       " '__ne__',\n",
       " '__new__',\n",
       " '__reduce__',\n",
       " '__reduce_ex__',\n",
       " '__repr__',\n",
       " '__setattr__',\n",
       " '__sizeof__',\n",
       " '__str__',\n",
       " '__subclasshook__',\n",
       " '__weakref__',\n",
       " 'bb']"
      ]
     },
     "execution_count": 15,
     "metadata": {},
     "output_type": "execute_result"
    }
   ],
   "source": [
    "dir(B)"
   ]
  },
  {
   "cell_type": "code",
   "execution_count": 18,
   "metadata": {},
   "outputs": [],
   "source": [
    "b = B()"
   ]
  },
  {
   "cell_type": "code",
   "execution_count": 20,
   "metadata": {},
   "outputs": [],
   "source": [
    "b.bb()"
   ]
  },
  {
   "cell_type": "code",
   "execution_count": 21,
   "metadata": {},
   "outputs": [
    {
     "data": {
      "text/plain": [
       "['__class__',\n",
       " '__delattr__',\n",
       " '__dict__',\n",
       " '__dir__',\n",
       " '__doc__',\n",
       " '__eq__',\n",
       " '__format__',\n",
       " '__ge__',\n",
       " '__getattribute__',\n",
       " '__getstate__',\n",
       " '__gt__',\n",
       " '__hash__',\n",
       " '__init__',\n",
       " '__init_subclass__',\n",
       " '__le__',\n",
       " '__lt__',\n",
       " '__module__',\n",
       " '__ne__',\n",
       " '__new__',\n",
       " '__reduce__',\n",
       " '__reduce_ex__',\n",
       " '__repr__',\n",
       " '__setattr__',\n",
       " '__sizeof__',\n",
       " '__str__',\n",
       " '__subclasshook__',\n",
       " '__weakref__',\n",
       " 'bb',\n",
       " 't']"
      ]
     },
     "execution_count": 21,
     "metadata": {},
     "output_type": "execute_result"
    }
   ],
   "source": [
    "# 인스턴스 변수가 무엇이 있는지 확인하는것이 필요하다,\n",
    "dir(b)"
   ]
  },
  {
   "cell_type": "code",
   "execution_count": 22,
   "metadata": {},
   "outputs": [
    {
     "data": {
      "text/plain": [
       "{'t': 1}"
      ]
     },
     "execution_count": 22,
     "metadata": {},
     "output_type": "execute_result"
    }
   ],
   "source": [
    "vars(b)"
   ]
  },
  {
   "cell_type": "code",
   "execution_count": 23,
   "metadata": {},
   "outputs": [],
   "source": [
    "b = B()"
   ]
  },
  {
   "cell_type": "code",
   "execution_count": 24,
   "metadata": {},
   "outputs": [
    {
     "data": {
      "text/plain": [
       "{}"
      ]
     },
     "execution_count": 24,
     "metadata": {},
     "output_type": "execute_result"
    }
   ],
   "source": [
    "vars(b)"
   ]
  },
  {
   "cell_type": "code",
   "execution_count": 25,
   "metadata": {},
   "outputs": [],
   "source": [
    "b.bb()"
   ]
  },
  {
   "cell_type": "code",
   "execution_count": 26,
   "metadata": {},
   "outputs": [
    {
     "data": {
      "text/plain": [
       "{'t': 1}"
      ]
     },
     "execution_count": 26,
     "metadata": {},
     "output_type": "execute_result"
    }
   ],
   "source": [
    "vars(b)"
   ]
  },
  {
   "cell_type": "code",
   "execution_count": 27,
   "metadata": {},
   "outputs": [],
   "source": [
    "# type, dir, vars 는 값이 어떻게 변했는지 알기 위해 꼭 알아야 하는 삼총사이다."
   ]
  },
  {
   "cell_type": "code",
   "execution_count": 28,
   "metadata": {},
   "outputs": [],
   "source": [
    "# 인스턴스를 생성할 때, 미리미리 생성해 놓으면 편하다.\n",
    "# 여기서 나오는 개념이 __init__ 생성자 (40% 정답) + 오퍼레이터 오버러딩(60%) + __new__(100% 아는 것이다)"
   ]
  },
  {
   "cell_type": "code",
   "execution_count": null,
   "metadata": {},
   "outputs": [],
   "source": [
    "c = C() # 이 괄호를 실행하면 __init__가 실행된다.\n",
    "        # operator overloading, constructor, magic method, dundu\n",
    "        # 생성자 및 초기화 기능\n",
    "        # 이게 필요한 이유는 메서드는 인스턴스 변수 생성과 삭제가 자유롭고, 접근제한이 없기 때문이다.\n",
    "        # 만약 __init__가 없으면, 어딘가에서는 초기화하는 코드가 숨어있다는 것을 기억하자"
   ]
  },
  {
   "cell_type": "code",
   "execution_count": 31,
   "metadata": {},
   "outputs": [],
   "source": [
    "class D:\n",
    "    # def __init__(self):\n",
    "    #     print('A')\n",
    "    def xx(self, x):  # self는 꼭 적어야 한다. self 대신, this를 사용해도 ㅇㅋ\n",
    "        self.x = 1 \n",
    "    def xxx(self):\n",
    "        print(self.x)"
   ]
  },
  {
   "cell_type": "markdown",
   "metadata": {},
   "source": [
    "# 인스턴스는 첫번째 인자 생략하고 메서드 사용"
   ]
  },
  {
   "cell_type": "code",
   "execution_count": 35,
   "metadata": {},
   "outputs": [],
   "source": [
    "dd = D()"
   ]
  },
  {
   "cell_type": "code",
   "execution_count": 36,
   "metadata": {},
   "outputs": [
    {
     "data": {
      "text/plain": [
       "{}"
      ]
     },
     "execution_count": 36,
     "metadata": {},
     "output_type": "execute_result"
    }
   ],
   "source": [
    "vars(dd)"
   ]
  },
  {
   "cell_type": "code",
   "execution_count": 37,
   "metadata": {},
   "outputs": [],
   "source": [
    "dd.xx(1)"
   ]
  },
  {
   "cell_type": "code",
   "execution_count": 38,
   "metadata": {},
   "outputs": [
    {
     "data": {
      "text/plain": [
       "{'x': 1}"
      ]
     },
     "execution_count": 38,
     "metadata": {},
     "output_type": "execute_result"
    }
   ],
   "source": [
    "vars(dd)"
   ]
  },
  {
   "cell_type": "code",
   "execution_count": 39,
   "metadata": {},
   "outputs": [
    {
     "name": "stdout",
     "output_type": "stream",
     "text": [
      "1\n"
     ]
    }
   ],
   "source": [
    "dd.xxx() "
   ]
  },
  {
   "cell_type": "markdown",
   "metadata": {},
   "source": [
    "# instance 변수는 instance 내에서 공유됨.\n",
    "# class 변수는 instance 간에 공유됨."
   ]
  },
  {
   "cell_type": "code",
   "execution_count": 80,
   "metadata": {},
   "outputs": [],
   "source": [
    "class My():\n",
    "    t = 10\n",
    "    def my_xx(self, arg1=20):\n",
    "        self.tt = arg1\n",
    "        ttt = arg1"
   ]
  },
  {
   "cell_type": "code",
   "execution_count": null,
   "metadata": {},
   "outputs": [],
   "source": [
    "# 메타 클래스 : 파이토치, sklearn에서 많이 나온다. 진짜 어렵다.\n",
    "# 클래스 변수도 값을 가질 수 있다."
   ]
  },
  {
   "cell_type": "code",
   "execution_count": null,
   "metadata": {},
   "outputs": [],
   "source": [
    "# 왜 self 를 사용해야하는가?\n",
    "# 인스턴스에서 값을 공유하려면 self를 사용한다\n",
    "# 함수에서 값을 공유하려면? \n",
    "\n",
    "# class X: 이렇게 변수와 함수를 묶으면 공유하는 영역을 만들 수 있다.\n",
    "a = 1\n",
    "\n",
    "def x():\n",
    "    print(a)\n",
    "\n",
    "def xx():\n",
    "    print(a+)\n",
    "\n",
    "\n",
    "# 원래 클래스는 인스턴스화 하지 않아도 사용할 수 있다.\n",
    "# 메타 클래스를 사용하면 된다, (static class와 유사한 것인가?)"
   ]
  },
  {
   "cell_type": "code",
   "execution_count": 95,
   "metadata": {},
   "outputs": [],
   "source": [
    "class X:\n",
    "    def t(self,x): # 메타클래스 때문에 클래스가 이 메소드를 사용할 수 있다. #??  다시 물어보기\n",
    "        self.x = x\n",
    "    \n",
    "    def tt(self):\n",
    "        print(self.x)"
   ]
  },
  {
   "cell_type": "code",
   "execution_count": 96,
   "metadata": {},
   "outputs": [],
   "source": [
    "a = X()\n",
    "X.t(a,3)"
   ]
  },
  {
   "cell_type": "code",
   "execution_count": 97,
   "metadata": {},
   "outputs": [
    {
     "data": {
      "text/plain": [
       "<function __main__.X.t(self, x)>"
      ]
     },
     "execution_count": 97,
     "metadata": {},
     "output_type": "execute_result"
    }
   ],
   "source": [
    "# self는 인스턴스화한 것이다\n",
    "X.t # 클래스가 쓰면 함수"
   ]
  },
  {
   "cell_type": "code",
   "execution_count": 98,
   "metadata": {},
   "outputs": [
    {
     "data": {
      "text/plain": [
       "<bound method X.t of <__main__.X object at 0x120c5f410>>"
      ]
     },
     "execution_count": 98,
     "metadata": {},
     "output_type": "execute_result"
    }
   ],
   "source": [
    "a.t  # 인스턴스가 쓰면 메소드"
   ]
  },
  {
   "cell_type": "code",
   "execution_count": null,
   "metadata": {},
   "outputs": [],
   "source": [
    "len\n",
    "# buildin_function_or_method\n",
    "# 클래스가 함수를 호출하면 함수\n",
    "# 인스턴스가 함수를 호출하면 메소드"
   ]
  },
  {
   "cell_type": "code",
   "execution_count": 100,
   "metadata": {},
   "outputs": [
    {
     "ename": "TypeError",
     "evalue": "X.t() takes 2 positional arguments but 3 were given",
     "output_type": "error",
     "traceback": [
      "\u001b[0;31m---------------------------------------------------------------------------\u001b[0m",
      "\u001b[0;31mTypeError\u001b[0m                                 Traceback (most recent call last)",
      "Cell \u001b[0;32mIn[100], line 1\u001b[0m\n\u001b[0;32m----> 1\u001b[0m \u001b[43ma\u001b[49m\u001b[38;5;241;43m.\u001b[39;49m\u001b[43mt\u001b[49m\u001b[43m(\u001b[49m\u001b[43ma\u001b[49m\u001b[43m,\u001b[49m\u001b[38;5;241;43m3\u001b[39;49m\u001b[43m)\u001b[49m\n",
      "\u001b[0;31mTypeError\u001b[0m: X.t() takes 2 positional arguments but 3 were given"
     ]
    }
   ],
   "source": [
    "X.t(a,3) # 함수일 때는 매개변수를 맞추어야한다.\n",
    "a.t(a,3) # 이렇게 쓰면 에러이다. a가 중복 되므로 매개변수의 a(인스턴스)는 생략해준다."
   ]
  },
  {
   "cell_type": "code",
   "execution_count": null,
   "metadata": {},
   "outputs": [],
   "source": [
    "int() # self, __init__ 시그니쳐가 있으면 클래스\n",
    "len() # self, __init__ 시그니쳐가 없으면 함수"
   ]
  },
  {
   "cell_type": "code",
   "execution_count": 101,
   "metadata": {},
   "outputs": [],
   "source": [
    "# 2장 callable"
   ]
  },
  {
   "cell_type": "code",
   "execution_count": 102,
   "metadata": {},
   "outputs": [],
   "source": [
    "# 여기 부터 심화 __call__"
   ]
  },
  {
   "cell_type": "code",
   "execution_count": 103,
   "metadata": {},
   "outputs": [],
   "source": [
    "# 인스턴스에 괄호를 붙이는 경우\n",
    "class T:\n",
    "    def __init__(self):\n",
    "        self.a = 1\n",
    "        print('init')"
   ]
  },
  {
   "cell_type": "code",
   "execution_count": 104,
   "metadata": {},
   "outputs": [
    {
     "name": "stdout",
     "output_type": "stream",
     "text": [
      "init\n"
     ]
    }
   ],
   "source": [
    "t = T()"
   ]
  },
  {
   "cell_type": "code",
   "execution_count": 109,
   "metadata": {},
   "outputs": [
    {
     "ename": "TypeError",
     "evalue": "'T' object is not callable",
     "output_type": "error",
     "traceback": [
      "\u001b[0;31m---------------------------------------------------------------------------\u001b[0m",
      "\u001b[0;31mTypeError\u001b[0m                                 Traceback (most recent call last)",
      "Cell \u001b[0;32mIn[109], line 1\u001b[0m\n\u001b[0;32m----> 1\u001b[0m \u001b[43mt\u001b[49m\u001b[43m(\u001b[49m\u001b[43m)\u001b[49m\n",
      "\u001b[0;31mTypeError\u001b[0m: 'T' object is not callable"
     ]
    }
   ],
   "source": [
    "t()"
   ]
  },
  {
   "cell_type": "code",
   "execution_count": 111,
   "metadata": {},
   "outputs": [],
   "source": [
    "# 인스턴스에 괄호를 붙이는 경우\n",
    "class TT:\n",
    "    def __init__(self):\n",
    "        self.a = 1\n",
    "        print('init')\n",
    "    def __call__(self):  # 이게 있으면 인스턴스에도 괄호를 붙일 수 있다.\n",
    "        print('call')"
   ]
  },
  {
   "cell_type": "code",
   "execution_count": 112,
   "metadata": {},
   "outputs": [
    {
     "name": "stdout",
     "output_type": "stream",
     "text": [
      "init\n"
     ]
    }
   ],
   "source": [
    "tt = TT()"
   ]
  },
  {
   "cell_type": "code",
   "execution_count": 114,
   "metadata": {},
   "outputs": [
    {
     "name": "stdout",
     "output_type": "stream",
     "text": [
      "call\n"
     ]
    }
   ],
   "source": [
    "tt() #인스턴스도 괄호를 붙일 수 있게 된다."
   ]
  },
  {
   "cell_type": "code",
   "execution_count": 115,
   "metadata": {},
   "outputs": [
    {
     "name": "stdout",
     "output_type": "stream",
     "text": [
      "init\n",
      "call\n"
     ]
    }
   ],
   "source": [
    "TT()()"
   ]
  },
  {
   "cell_type": "code",
   "execution_count": 120,
   "metadata": {},
   "outputs": [],
   "source": [
    "# __call__ 이 있기 때문에 객체지향으로 클로져를 만들 수 있다.\n",
    "class S:\n",
    "    def __init__(self,a):\n",
    "        self.a = a\n",
    "        print('init')\n",
    "    def __call__(self,b):\n",
    "        return self.a + b\n",
    "        print('call')"
   ]
  },
  {
   "cell_type": "code",
   "execution_count": 121,
   "metadata": {},
   "outputs": [
    {
     "name": "stdout",
     "output_type": "stream",
     "text": [
      "init\n"
     ]
    },
    {
     "data": {
      "text/plain": [
       "5"
      ]
     },
     "execution_count": 121,
     "metadata": {},
     "output_type": "execute_result"
    }
   ],
   "source": [
    "S(1)(4)"
   ]
  },
  {
   "cell_type": "code",
   "execution_count": null,
   "metadata": {},
   "outputs": [],
   "source": [
    "# 뼈대\n",
    "함수()\n",
    "클래스()\n",
    "인스턴스() __call__() "
   ]
  },
  {
   "cell_type": "code",
   "execution_count": null,
   "metadata": {},
   "outputs": [],
   "source": [
    "# 클래스() 의 세분화, 메소드의 세분화\n",
    "# Methods of classes\n",
    "\n",
    "# 메소드의 종류 3개 더\n",
    "# Accessors and Operators\n",
    "# discriptor는 만드는 방법 3개 --> 수요일에 할 것이다,\n"
   ]
  },
  {
   "cell_type": "code",
   "execution_count": 3,
   "metadata": {},
   "outputs": [
    {
     "name": "stdout",
     "output_type": "stream",
     "text": [
      "sin\n"
     ]
    }
   ],
   "source": [
    "# static method\n",
    "# namespace -> 공식문서에 가면 있다.\n",
    "\n",
    "# 클래스를 네임 스페이스로 사용할 수 있다.\n",
    "class Math:\n",
    "    def sin(self):\n",
    "        print('sin')\n",
    "    def cos(self):\n",
    "        print('cos')  \n",
    "\n",
    "Math().sin()\n",
    "\n",
    "# 문제가 생길 수있다,\n",
    "# 그냥 함수로 쓰면 글로벌 함수수에 덮혀질 수 있따 ,\n",
    "# 메서드로 사용할 수 있다.\n",
    "\n",
    "# static method: 클래스 안에서 클래스의 네임스페이스만 차용.\n",
    "# 인스턴스화 기능 없이 사용 -> self 없이 사용한다."
   ]
  },
  {
   "cell_type": "markdown",
   "metadata": {},
   "source": [
    "# static method: 클래스 안에서 클래스의 네임스페이스만 차용.\n",
    "# 인스턴스화 기능 없이 사용 -> self 없이 사용한다."
   ]
  },
  {
   "cell_type": "code",
   "execution_count": 124,
   "metadata": {},
   "outputs": [],
   "source": [
    "class T:\n",
    "    @staticmethod #함수인데, 네임스페이스를 차용하여 활용되는 함수이다.\n",
    "    def ss():\n",
    "        print('static')"
   ]
  },
  {
   "cell_type": "code",
   "execution_count": 125,
   "metadata": {},
   "outputs": [
    {
     "name": "stdout",
     "output_type": "stream",
     "text": [
      "static\n"
     ]
    }
   ],
   "source": [
    "T.ss()  # self가 없어도 가능\n",
    "        # 인스턴스 기능을 사용하지 않고, 네임스페이스로만 클래스를 사용하기 때문"
   ]
  },
  {
   "cell_type": "code",
   "execution_count": 2,
   "metadata": {},
   "outputs": [],
   "source": [
    "# 클래스 메소드, static 메소드와 함께 인생을 힘들게 하는 메소드\n",
    "# 이 것을 모르면 또 pytorchm tensorflow 해석 못한다.\n",
    "\n",
    "class T:\n",
    "    x = 1\n",
    "\n",
    "    @staticmethod\n",
    "    def xx(a):\n",
    "        t = a\n",
    "        print('xx'+ str(t))"
   ]
  },
  {
   "cell_type": "code",
   "execution_count": 3,
   "metadata": {},
   "outputs": [],
   "source": [
    "t = T()"
   ]
  },
  {
   "cell_type": "code",
   "execution_count": 4,
   "metadata": {},
   "outputs": [
    {
     "data": {
      "text/plain": [
       "1"
      ]
     },
     "execution_count": 4,
     "metadata": {},
     "output_type": "execute_result"
    }
   ],
   "source": [
    "t.x # LEGB 때문에 가능하다. 로컬변수가 없으면 그 상위 영역(ex: glbal)의 변수를 참조한다.\n",
    "    # 인스턴스 변수에 없으면 클래스 변수를 참고한다."
   ]
  },
  {
   "cell_type": "code",
   "execution_count": 5,
   "metadata": {},
   "outputs": [
    {
     "name": "stdout",
     "output_type": "stream",
     "text": [
      "xx1\n"
     ]
    }
   ],
   "source": [
    "t.xx(1)"
   ]
  },
  {
   "cell_type": "code",
   "execution_count": 6,
   "metadata": {},
   "outputs": [
    {
     "name": "stdout",
     "output_type": "stream",
     "text": [
      "xx1\n"
     ]
    }
   ],
   "source": [
    "T.xx(1)"
   ]
  },
  {
   "cell_type": "code",
   "execution_count": 23,
   "metadata": {},
   "outputs": [
    {
     "data": {
      "text/plain": [
       "{}"
      ]
     },
     "execution_count": 23,
     "metadata": {},
     "output_type": "execute_result"
    }
   ],
   "source": [
    "vars(t) # 인스턴스 변수만 나온다."
   ]
  },
  {
   "cell_type": "code",
   "execution_count": 133,
   "metadata": {},
   "outputs": [],
   "source": [
    "t.x = 2"
   ]
  },
  {
   "cell_type": "code",
   "execution_count": 134,
   "metadata": {},
   "outputs": [
    {
     "data": {
      "text/plain": [
       "{'x': 2}"
      ]
     },
     "execution_count": 134,
     "metadata": {},
     "output_type": "execute_result"
    }
   ],
   "source": [
    "vars(t)"
   ]
  },
  {
   "cell_type": "code",
   "execution_count": 136,
   "metadata": {},
   "outputs": [
    {
     "name": "stdout",
     "output_type": "stream",
     "text": [
      "1\n"
     ]
    }
   ],
   "source": [
    "s = T()\n",
    "print(s.x) # 인스턴스변수가 없으면 클래스 변수가 나온다. "
   ]
  },
  {
   "cell_type": "code",
   "execution_count": 137,
   "metadata": {},
   "outputs": [],
   "source": [
    "# LEGB, 인스턴수 클래스, 부모자식 관계 이 3가지 경우에 많이 헷갈린다."
   ]
  },
  {
   "cell_type": "code",
   "execution_count": null,
   "metadata": {},
   "outputs": [],
   "source": [
    "class Y:\n",
    "    @classmethod #class가 사용하는 메서드\n",
    "    def x(cls): # 관용상 cls를 사용한다. 판다스에서 많이 나온다.\n",
    "        cls.x = 1  \n",
    "\n",
    "# 클래스 도 메타 클래스 관점에서는 인스턴스이기 때문에 클래스 메소드가 존재한다\n",
    "yy = Y() #cls 생략 가능\n",
    "yy.z() # 메소드도 마찬가지로, 인스턴스 메소드가 없으면 클래스 메소드에서 찾는다.\n",
    "yy.x # 인스턴스에없으면 cls.x 클래스 변수를 사용한다.\n",
    "vars(yy)"
   ]
  },
  {
   "cell_type": "code",
   "execution_count": 138,
   "metadata": {},
   "outputs": [],
   "source": [
    "class T:\n",
    "    @staticmethod # 이 녀석이 파이썬에서 가장 어려운 데코레이터이다.\n",
    "    def ss(self): # 스태틱 메서드의 첮번째 인자는 생략 불가.\n",
    "        print('static')"
   ]
  },
  {
   "cell_type": "code",
   "execution_count": 139,
   "metadata": {},
   "outputs": [],
   "source": [
    "# 위와 같이 차례 차례 없으면 찾아가기 때문에 느리다.\n",
    "# 하지만 이렇게 단계 별로 쪼개 놓았기 때문에, 쉽고 풍부하게 다양하게 할 수 있다.\n",
    "# 파이썬이 인기 있게 된 가장 큰 이유이다. \n",
    "# 함수형 프로그래밍 + 중간 계입 O + C언어 기반 => 파이토치가 선정한 이유"
   ]
  },
  {
   "cell_type": "code",
   "execution_count": null,
   "metadata": {},
   "outputs": [],
   "source": [
    "# 데토레이터가 붙으면 기존 기능에서 다른 기능으로 바꿔준다.\n",
    "# tensorflow에서 많이 좌절한다. "
   ]
  },
  {
   "cell_type": "code",
   "execution_count": null,
   "metadata": {},
   "outputs": [],
   "source": [
    "# forward 함수 입력를 넣어 결과를 받는 것\n",
    "# static 메소드를 사용할 수 있는데, 인스턴스로 사용하면 문제가 생긴다.\n",
    "# 텐서플로우를 사용하는 가장 좋은 방법은 다양하다. 가장 좋은 방법은 staticmothod이다."
   ]
  },
  {
   "cell_type": "code",
   "execution_count": 154,
   "metadata": {},
   "outputs": [],
   "source": [
    "class Test:\n",
    "    # 인스턴스 메서드\n",
    "    def m(self):\n",
    "        print('instance m')\n",
    "\n",
    "    @staticmethod\n",
    "    def m(): # 스태틱 메서드의 첮번째 인자는 생략 불가.\n",
    "        print('static m')\n",
    "\n",
    "    @classmethod\n",
    "    def m(cls):\n",
    "        print('class m')\n",
    "\n",
    "    \n"
   ]
  },
  {
   "cell_type": "code",
   "execution_count": 155,
   "metadata": {},
   "outputs": [],
   "source": [
    "t = Test()"
   ]
  },
  {
   "cell_type": "code",
   "execution_count": 156,
   "metadata": {},
   "outputs": [
    {
     "name": "stdout",
     "output_type": "stream",
     "text": [
      "class m\n"
     ]
    }
   ],
   "source": [
    "t.m()"
   ]
  },
  {
   "cell_type": "code",
   "execution_count": null,
   "metadata": {},
   "outputs": [],
   "source": [
    "[Generator Functions]\n",
    "- 함수안에 yield가 있으면 generator\n",
    "- comprehension 보다 generator가 더 나은 경우가 있다. 이걸 알아야한다.\n",
    "\n",
    "[ multiple dispatch ]\n",
    "- 2009년 학교를 나와서 강의를 하기 시작. 자바 스프링 강의. \n",
    "- 자바 스프링에서 가장 어려운것이 multiple dispatch\n",
    "- 원리 알필요 없다. 잘 쓰는 것이 더 중요했다. 그 직업 교육은... 우리는 원리도 알것\n",
    "- 결론: 파이썬에서는 multiple dispatch 지원하지 않는다. single dispatch를 지원한다.\n",
    "- 이제 부터 len 의 비밀을 알 것이다.\n",
    "- len({'a':1}) 왜 1이 출력되는가? \n",
    "    => 같은 함수 또는 메소드 type에 따라 다르게 행동하는 것 => generic"
   ]
  },
  {
   "cell_type": "markdown",
   "metadata": {},
   "source": [
    "# Generic"
   ]
  },
  {
   "cell_type": "code",
   "execution_count": 161,
   "metadata": {},
   "outputs": [],
   "source": [
    "from functools import singledispatch\n",
    "                # single dispatch란 하나의 타입을 받아서... \n",
    "@singledispatch # multiple dispatch란 두개 이상의 타입을 받아서 실행되는 함수를 결정하는 것\n",
    "def x(a):\n",
    "    print(a)\n",
    "\n",
    "@x.register(int) # 값으로 int 타입이 들어오면 이메서드를 실행한다. 타입에 따라 여기로 전파.\n",
    "def _(a):        # dispatch로 만드는 것이 generic 함수이다.\n",
    "    print('int') # 오버로딩과 비슷..?\n",
    "                 # 내부적인 dynamic typing의 원리이며, 함수형 페러다임에서 온것이다.\n",
    "\n",
    "@x.register(str)\n",
    "def _(a):\n",
    "    print('str')"
   ]
  },
  {
   "cell_type": "code",
   "execution_count": 162,
   "metadata": {},
   "outputs": [
    {
     "name": "stdout",
     "output_type": "stream",
     "text": [
      "3.0\n"
     ]
    }
   ],
   "source": [
    "x(3.)"
   ]
  },
  {
   "cell_type": "code",
   "execution_count": 163,
   "metadata": {},
   "outputs": [
    {
     "name": "stdout",
     "output_type": "stream",
     "text": [
      "int\n"
     ]
    }
   ],
   "source": [
    "x(3)"
   ]
  },
  {
   "cell_type": "code",
   "execution_count": 164,
   "metadata": {},
   "outputs": [
    {
     "name": "stdout",
     "output_type": "stream",
     "text": [
      "str\n"
     ]
    }
   ],
   "source": [
    "x('str')"
   ]
  },
  {
   "cell_type": "code",
   "execution_count": 165,
   "metadata": {},
   "outputs": [],
   "source": [
    "# 전문가가 되고 싶으면, 남을 위해 만들 때 이 dispatch를 꼭 알아야 한다."
   ]
  },
  {
   "cell_type": "code",
   "execution_count": 166,
   "metadata": {},
   "outputs": [],
   "source": [
    "# 책에는 dispatch 와 generic에 대한 내용이 없다.\n",
    "# 이건 기본적인 프로그래밍 개념이기 때문이다."
   ]
  },
  {
   "cell_type": "code",
   "execution_count": null,
   "metadata": {},
   "outputs": [],
   "source": [
    "[ Delegating to the Object ]\n"
   ]
  },
  {
   "cell_type": "code",
   "execution_count": null,
   "metadata": {},
   "outputs": [],
   "source": [
    "is 가 붙거나\n",
    "callable 로 끝나는 메서드의 결과값은\n",
    "보통 True, False 중 하나이다."
   ]
  },
  {
   "cell_type": "code",
   "execution_count": null,
   "metadata": {},
   "outputs": [],
   "source": [
    "is\n",
    "callable > True, False : predicate : 참 또는 거짓을 반환하는 함수\n",
    "\n",
    "# 대니얼 카너먼: 경제학자. => 행동 경제학\n",
    "# 경제학의 기본 명제: 사람들은 합리적이다. \n",
    "# 실제: 사람은 비이성적이다. => 새로운 관점 제시\n",
    "# 로직의 술어 동사: predicate\n",
    "# 파이썬 공식 사이트에서 나온다."
   ]
  },
  {
   "cell_type": "code",
   "execution_count": null,
   "metadata": {},
   "outputs": [],
   "source": [
    "대표적인 predicate 메서드"
   ]
  },
  {
   "cell_type": "code",
   "execution_count": 169,
   "metadata": {},
   "outputs": [
    {
     "data": {
      "text/plain": [
       "True"
      ]
     },
     "execution_count": 169,
     "metadata": {},
     "output_type": "execute_result"
    }
   ],
   "source": [
    "isinstance(3, int) # 중요!"
   ]
  },
  {
   "cell_type": "code",
   "execution_count": 170,
   "metadata": {},
   "outputs": [
    {
     "data": {
      "text/plain": [
       "True"
      ]
     },
     "execution_count": 170,
     "metadata": {},
     "output_type": "execute_result"
    }
   ],
   "source": [
    "issubclass(bool, int) # bool은 int를 상속하여 만들었다.\n",
    "                      # 이게 왜 중요하냐면 데이터 분석에서 필터링할 때 사용\n",
    "                      # 데이터 분석할 때 predicate가 나온다.\n",
    "                      # "
   ]
  },
  {
   "cell_type": "code",
   "execution_count": 171,
   "metadata": {},
   "outputs": [],
   "source": [
    "# 책에는 multipeldispatch 2015년도 까지는 있었지만, \n",
    "# 2017년에 singledispatch가 들어오고 multipledispatch가 없어짐\n",
    "# 추가 모듈을 사용하면 multipledispatch가 사용할 수 있긴 하다. "
   ]
  },
  {
   "cell_type": "code",
   "execution_count": null,
   "metadata": {},
   "outputs": [],
   "source": []
  }
 ],
 "metadata": {
  "kernelspec": {
   "display_name": "Python 3 (ipykernel)",
   "language": "python",
   "name": "python3"
  },
  "language_info": {
   "codemirror_mode": {
    "name": "ipython",
    "version": 3
   },
   "file_extension": ".py",
   "mimetype": "text/x-python",
   "name": "python",
   "nbconvert_exporter": "python",
   "pygments_lexer": "ipython3",
   "version": "3.11.8"
  }
 },
 "nbformat": 4,
 "nbformat_minor": 4
}
