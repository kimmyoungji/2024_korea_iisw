{
 "cells": [
  {
   "cell_type": "code",
   "execution_count": 66,
   "id": "523baad6-5eca-47b9-bfac-9ee12dcbe8f2",
   "metadata": {},
   "outputs": [],
   "source": [
    "import array"
   ]
  },
  {
   "cell_type": "code",
   "execution_count": 96,
   "id": "a06b7d8d-914c-45ae-b91f-f77c54221e90",
   "metadata": {},
   "outputs": [],
   "source": [
    "a = array.array('B',[1,2,3]) "
   ]
  },
  {
   "cell_type": "code",
   "execution_count": 69,
   "id": "e3d6af70-b863-4e87-be28-fe9e93606f5f",
   "metadata": {},
   "outputs": [
    {
     "data": {
      "text/plain": [
       "array('B', [1, 2, 3])"
      ]
     },
     "execution_count": 69,
     "metadata": {},
     "output_type": "execute_result"
    }
   ],
   "source": [
    "a"
   ]
  },
  {
   "cell_type": "code",
   "execution_count": 73,
   "id": "7875306c-b39b-415e-bf5e-92624e93ed14",
   "metadata": {},
   "outputs": [
    {
     "data": {
      "text/plain": [
       "int"
      ]
     },
     "execution_count": 73,
     "metadata": {},
     "output_type": "execute_result"
    }
   ],
   "source": [
    "type(a[0])"
   ]
  },
  {
   "cell_type": "code",
   "execution_count": 8,
   "id": "cefa242a-3756-4c8b-9dbe-4b20d75f35f7",
   "metadata": {},
   "outputs": [],
   "source": [
    "b = array.array('B', [1,2,3])"
   ]
  },
  {
   "cell_type": "code",
   "execution_count": 9,
   "id": "178ab187-748f-4cca-b5f7-9666a37e6fae",
   "metadata": {},
   "outputs": [
    {
     "data": {
      "text/plain": [
       "array('B', [1, 2, 3, 1, 2, 3])"
      ]
     },
     "execution_count": 9,
     "metadata": {},
     "output_type": "execute_result"
    }
   ],
   "source": [
    "a + b  # 오퍼레이터 오버로딩"
   ]
  },
  {
   "cell_type": "code",
   "execution_count": 10,
   "id": "67a60861-26f9-4049-b3c1-b60ec5427096",
   "metadata": {},
   "outputs": [],
   "source": [
    "class A:\n",
    "    def __add__(self, x):\n",
    "        print('add')\n",
    "        return 0"
   ]
  },
  {
   "cell_type": "code",
   "execution_count": 11,
   "id": "f654c970-8a06-4584-affd-3a0b48ceb652",
   "metadata": {},
   "outputs": [],
   "source": [
    "a = A()"
   ]
  },
  {
   "cell_type": "code",
   "execution_count": 12,
   "id": "b81a1882-668a-413c-ae5e-502392ca0f29",
   "metadata": {},
   "outputs": [
    {
     "name": "stdout",
     "output_type": "stream",
     "text": [
      "add\n"
     ]
    },
    {
     "data": {
      "text/plain": [
       "0"
      ]
     },
     "execution_count": 12,
     "metadata": {},
     "output_type": "execute_result"
    }
   ],
   "source": [
    "a + 1"
   ]
  },
  {
   "cell_type": "code",
   "execution_count": 113,
   "id": "367e7c64-5c83-478a-bedc-b0fd7bc3180d",
   "metadata": {},
   "outputs": [
    {
     "data": {
      "text/plain": [
       "(['__add__',\n",
       "  '__class__',\n",
       "  '__contains__',\n",
       "  '__copy__',\n",
       "  '__deepcopy__',\n",
       "  '__delattr__',\n",
       "  '__delitem__',\n",
       "  '__dir__',\n",
       "  '__doc__',\n",
       "  '__eq__',\n",
       "  '__format__',\n",
       "  '__ge__',\n",
       "  '__getattribute__',\n",
       "  '__getitem__',\n",
       "  '__getstate__',\n",
       "  '__gt__',\n",
       "  '__hash__',\n",
       "  '__iadd__',\n",
       "  '__imul__',\n",
       "  '__init__',\n",
       "  '__init_subclass__',\n",
       "  '__iter__',\n",
       "  '__le__',\n",
       "  '__len__',\n",
       "  '__lt__',\n",
       "  '__module__',\n",
       "  '__mul__',\n",
       "  '__ne__',\n",
       "  '__new__',\n",
       "  '__reduce__',\n",
       "  '__reduce_ex__',\n",
       "  '__repr__',\n",
       "  '__rmul__',\n",
       "  '__setattr__',\n",
       "  '__setitem__',\n",
       "  '__sizeof__',\n",
       "  '__str__',\n",
       "  '__subclasshook__',\n",
       "  'append',\n",
       "  'buffer_info',\n",
       "  'byteswap',\n",
       "  'count',\n",
       "  'extend',\n",
       "  'frombytes',\n",
       "  'fromfile',\n",
       "  'fromlist',\n",
       "  'fromunicode',\n",
       "  'index',\n",
       "  'insert',\n",
       "  'itemsize',\n",
       "  'pop',\n",
       "  'remove',\n",
       "  'reverse',\n",
       "  'tobytes',\n",
       "  'tofile',\n",
       "  'tolist',\n",
       "  'tounicode',\n",
       "  'typecode'],\n",
       " ['T',\n",
       "  '__abs__',\n",
       "  '__add__',\n",
       "  '__and__',\n",
       "  '__array__',\n",
       "  '__array_finalize__',\n",
       "  '__array_function__',\n",
       "  '__array_interface__',\n",
       "  '__array_prepare__',\n",
       "  '__array_priority__',\n",
       "  '__array_struct__',\n",
       "  '__array_ufunc__',\n",
       "  '__array_wrap__',\n",
       "  '__bool__',\n",
       "  '__class__',\n",
       "  '__class_getitem__',\n",
       "  '__complex__',\n",
       "  '__contains__',\n",
       "  '__copy__',\n",
       "  '__deepcopy__',\n",
       "  '__delattr__',\n",
       "  '__delitem__',\n",
       "  '__dir__',\n",
       "  '__divmod__',\n",
       "  '__dlpack__',\n",
       "  '__dlpack_device__',\n",
       "  '__doc__',\n",
       "  '__eq__',\n",
       "  '__float__',\n",
       "  '__floordiv__',\n",
       "  '__format__',\n",
       "  '__ge__',\n",
       "  '__getattribute__',\n",
       "  '__getitem__',\n",
       "  '__getstate__',\n",
       "  '__gt__',\n",
       "  '__hash__',\n",
       "  '__iadd__',\n",
       "  '__iand__',\n",
       "  '__ifloordiv__',\n",
       "  '__ilshift__',\n",
       "  '__imatmul__',\n",
       "  '__imod__',\n",
       "  '__imul__',\n",
       "  '__index__',\n",
       "  '__init__',\n",
       "  '__init_subclass__',\n",
       "  '__int__',\n",
       "  '__invert__',\n",
       "  '__ior__',\n",
       "  '__ipow__',\n",
       "  '__irshift__',\n",
       "  '__isub__',\n",
       "  '__iter__',\n",
       "  '__itruediv__',\n",
       "  '__ixor__',\n",
       "  '__le__',\n",
       "  '__len__',\n",
       "  '__lshift__',\n",
       "  '__lt__',\n",
       "  '__matmul__',\n",
       "  '__mod__',\n",
       "  '__mul__',\n",
       "  '__ne__',\n",
       "  '__neg__',\n",
       "  '__new__',\n",
       "  '__or__',\n",
       "  '__pos__',\n",
       "  '__pow__',\n",
       "  '__radd__',\n",
       "  '__rand__',\n",
       "  '__rdivmod__',\n",
       "  '__reduce__',\n",
       "  '__reduce_ex__',\n",
       "  '__repr__',\n",
       "  '__rfloordiv__',\n",
       "  '__rlshift__',\n",
       "  '__rmatmul__',\n",
       "  '__rmod__',\n",
       "  '__rmul__',\n",
       "  '__ror__',\n",
       "  '__rpow__',\n",
       "  '__rrshift__',\n",
       "  '__rshift__',\n",
       "  '__rsub__',\n",
       "  '__rtruediv__',\n",
       "  '__rxor__',\n",
       "  '__setattr__',\n",
       "  '__setitem__',\n",
       "  '__setstate__',\n",
       "  '__sizeof__',\n",
       "  '__str__',\n",
       "  '__sub__',\n",
       "  '__subclasshook__',\n",
       "  '__truediv__',\n",
       "  '__xor__',\n",
       "  'all',\n",
       "  'any',\n",
       "  'argmax',\n",
       "  'argmin',\n",
       "  'argpartition',\n",
       "  'argsort',\n",
       "  'astype',\n",
       "  'base',\n",
       "  'byteswap',\n",
       "  'choose',\n",
       "  'clip',\n",
       "  'compress',\n",
       "  'conj',\n",
       "  'conjugate',\n",
       "  'copy',\n",
       "  'ctypes',\n",
       "  'cumprod',\n",
       "  'cumsum',\n",
       "  'data',\n",
       "  'diagonal',\n",
       "  'dot',\n",
       "  'dtype',\n",
       "  'dump',\n",
       "  'dumps',\n",
       "  'fill',\n",
       "  'flags',\n",
       "  'flat',\n",
       "  'flatten',\n",
       "  'getfield',\n",
       "  'imag',\n",
       "  'item',\n",
       "  'itemset',\n",
       "  'itemsize',\n",
       "  'max',\n",
       "  'mean',\n",
       "  'min',\n",
       "  'nbytes',\n",
       "  'ndim',\n",
       "  'newbyteorder',\n",
       "  'nonzero',\n",
       "  'partition',\n",
       "  'prod',\n",
       "  'ptp',\n",
       "  'put',\n",
       "  'ravel',\n",
       "  'real',\n",
       "  'repeat',\n",
       "  'reshape',\n",
       "  'resize',\n",
       "  'round',\n",
       "  'searchsorted',\n",
       "  'setfield',\n",
       "  'setflags',\n",
       "  'shape',\n",
       "  'size',\n",
       "  'sort',\n",
       "  'squeeze',\n",
       "  'std',\n",
       "  'strides',\n",
       "  'sum',\n",
       "  'swapaxes',\n",
       "  'take',\n",
       "  'tobytes',\n",
       "  'tofile',\n",
       "  'tolist',\n",
       "  'tostring',\n",
       "  'trace',\n",
       "  'transpose',\n",
       "  'var',\n",
       "  'view'])"
      ]
     },
     "execution_count": 113,
     "metadata": {},
     "output_type": "execute_result"
    }
   ],
   "source": [
    "dir(array.array('b',[1,2,3])), dir(np.array([1,2,3]))"
   ]
  },
  {
   "cell_type": "code",
   "execution_count": 22,
   "id": "87617217-417e-41c8-85e7-b92193916f22",
   "metadata": {},
   "outputs": [],
   "source": [
    "import numpy as np"
   ]
  },
  {
   "cell_type": "code",
   "execution_count": 119,
   "id": "a2503dfb-2928-4325-8889-84b99b7d21da",
   "metadata": {},
   "outputs": [
    {
     "data": {
      "text/plain": [
       "(array([[[0., 0., 0.],\n",
       "         [0., 0., 0.]]]),\n",
       " array([1, 2, 3]),\n",
       " array('b', [1, 2, 3]),\n",
       " numpy.ndarray,\n",
       " numpy.ndarray,\n",
       " array.array)"
      ]
     },
     "execution_count": 119,
     "metadata": {},
     "output_type": "execute_result"
    }
   ],
   "source": [
    "a = np.ndarray([1,2,3])\n",
    "b = np.array([1,2,3])\n",
    "c = array.array('b',[1,2,3])\n",
    "a,b,c,type(a), type(b), type(c)\n",
    "\n"
   ]
  },
  {
   "cell_type": "code",
   "execution_count": 146,
   "id": "ae23aa6f-0853-4c92-8fd8-db72f20a8c95",
   "metadata": {},
   "outputs": [
    {
     "data": {
      "text/plain": [
       "(array([1. , 2. , 2.1]), numpy.ndarray, dtype('float64'), numpy.float64)"
      ]
     },
     "execution_count": 146,
     "metadata": {},
     "output_type": "execute_result"
    }
   ],
   "source": [
    "import numpy as np\n",
    "\n",
    "a = np.array([1,2,2.1])\n",
    "\n",
    "a,type(a),a.dtype, type(a[0]) # array는 클래스가 아니라, 팩토리 메소드로 인스턴스를 반환하는 함수이다.\n",
    "# 출력:\n",
    "# (array([1. , 2. , 2.1]), numpy.ndarray, dtype('float64'), numpy.float64)"
   ]
  },
  {
   "cell_type": "code",
   "execution_count": 125,
   "id": "c1229a2c-5ebc-49e6-b335-bdf3614172e8",
   "metadata": {},
   "outputs": [
    {
     "ename": "TypeError",
     "evalue": "data type '' not understood",
     "output_type": "error",
     "traceback": [
      "\u001b[0;31m---------------------------------------------------------------------------\u001b[0m",
      "\u001b[0;31mTypeError\u001b[0m                                 Traceback (most recent call last)",
      "Cell \u001b[0;32mIn[125], line 1\u001b[0m\n\u001b[0;32m----> 1\u001b[0m a \u001b[38;5;241m=\u001b[39m \u001b[43mnp\u001b[49m\u001b[38;5;241;43m.\u001b[39;49m\u001b[43marray\u001b[49m\u001b[43m(\u001b[49m\u001b[38;5;241;43m1\u001b[39;49m\u001b[43m,\u001b[49m\u001b[38;5;124;43m'\u001b[39;49m\u001b[38;5;124;43m1\u001b[39;49m\u001b[38;5;124;43m'\u001b[39;49m\u001b[43m)\u001b[49m\n",
      "\u001b[0;31mTypeError\u001b[0m: data type '' not understood"
     ]
    }
   ],
   "source": []
  },
  {
   "cell_type": "code",
   "execution_count": 15,
   "id": "373a2077-a6ab-4f19-829c-92be821acf82",
   "metadata": {},
   "outputs": [
    {
     "data": {
      "text/plain": [
       "numpy.ndarray"
      ]
     },
     "execution_count": 15,
     "metadata": {},
     "output_type": "execute_result"
    }
   ],
   "source": [
    "type(a) # array는 클래스가 아니라, 팩토리 메소드로 인스턴스를 반환하는 함수이다."
   ]
  },
  {
   "cell_type": "code",
   "execution_count": 82,
   "id": "82a1d022-cb45-4e16-82cb-2ded889c55b0",
   "metadata": {},
   "outputs": [
    {
     "data": {
      "text/plain": [
       "array([[[3.7104e-321, 1.7673e-320],\n",
       "        [6.5365e-321, 1.4768e-320]],\n",
       "\n",
       "       [[1.4768e-320, 6.5365e-321],\n",
       "        [1.7673e-320, 3.7104e-321]]])"
      ]
     },
     "execution_count": 82,
     "metadata": {},
     "output_type": "execute_result"
    }
   ],
   "source": [
    "b = np.ndarray([2,2,2])\n",
    "c = np.array([2,2,2])\n",
    "b\n",
    "\n",
    "# array([[[3.7104e-321, 1.7673e-320],\n",
    "#         [6.5365e-321, 1.4768e-320]],\n",
    "\n",
    "#        [[1.4768e-320, 6.5365e-321],\n",
    "#         [1.7673e-320, 3.7104e-321]]])"
   ]
  },
  {
   "cell_type": "code",
   "execution_count": 87,
   "id": "94df51cc-d900-463c-b52a-22b0e99b3e15",
   "metadata": {},
   "outputs": [
    {
     "data": {
      "text/plain": [
       "((2, 2, 2), 3, dtype('float64'), 8, <memory at 0x2acc7c310>)"
      ]
     },
     "execution_count": 87,
     "metadata": {},
     "output_type": "execute_result"
    }
   ],
   "source": [
    "b.shape, b.ndim, b.dtype, b.size, b.data, b."
   ]
  },
  {
   "cell_type": "code",
   "execution_count": 16,
   "id": "98ad37ec-0666-4158-9238-451a99c81424",
   "metadata": {},
   "outputs": [],
   "source": [
    "import seaborn as sns"
   ]
  },
  {
   "cell_type": "code",
   "execution_count": 17,
   "id": "c90c8863-37dc-4e89-a3c7-86c4a963190f",
   "metadata": {},
   "outputs": [],
   "source": [
    "t = sns.load_dataset('tips')"
   ]
  },
  {
   "cell_type": "code",
   "execution_count": 18,
   "id": "f605c037-d493-4d8a-95fb-5a773f1fe134",
   "metadata": {},
   "outputs": [],
   "source": [
    "# __array__가 있으면 NumPy와 연동가능\n",
    "# __array_warp__"
   ]
  },
  {
   "cell_type": "code",
   "execution_count": 94,
   "id": "9e32129e-0649-46a6-9108-6d363d63fae0",
   "metadata": {},
   "outputs": [
    {
     "ename": "TypeError",
     "evalue": "array() takes at most 2 arguments (3 given)",
     "output_type": "error",
     "traceback": [
      "\u001b[0;31m---------------------------------------------------------------------------\u001b[0m",
      "\u001b[0;31mTypeError\u001b[0m                                 Traceback (most recent call last)",
      "Cell \u001b[0;32mIn[94], line 1\u001b[0m\n\u001b[0;32m----> 1\u001b[0m v \u001b[38;5;241m=\u001b[39m \u001b[43marray\u001b[49m\u001b[38;5;241;43m.\u001b[39;49m\u001b[43marray\u001b[49m\u001b[43m(\u001b[49m\u001b[38;5;241;43m1\u001b[39;49m\u001b[43m,\u001b[49m\u001b[38;5;241;43m2\u001b[39;49m\u001b[43m,\u001b[49m\u001b[38;5;241;43m3\u001b[39;49m\u001b[43m)\u001b[49m\n\u001b[1;32m      2\u001b[0m a \u001b[38;5;241m=\u001b[39m np\u001b[38;5;241m.\u001b[39marray([\u001b[38;5;241m1\u001b[39m,\u001b[38;5;241m2\u001b[39m])\n\u001b[1;32m      3\u001b[0m \u001b[38;5;28mtype\u001b[39m(a), \u001b[38;5;28mtype\u001b[39m(v)\n",
      "\u001b[0;31mTypeError\u001b[0m: array() takes at most 2 arguments (3 given)"
     ]
    }
   ],
   "source": [
    "v = array.array(1,2,3)\n",
    "a = np.array([1,2])\n",
    "type(a), type(v)"
   ]
  },
  {
   "cell_type": "code",
   "execution_count": 30,
   "id": "3d2b12df-7d63-47fa-8426-87a9fa8d8151",
   "metadata": {},
   "outputs": [
    {
     "data": {
      "text/plain": [
       "(3,)"
      ]
     },
     "execution_count": 30,
     "metadata": {},
     "output_type": "execute_result"
    }
   ],
   "source": [
    "a.shape # shape을 꼭 기억 = 인트로 스펙션"
   ]
  },
  {
   "cell_type": "code",
   "execution_count": 31,
   "id": "0b440be4-4645-4008-bda2-fd046daee942",
   "metadata": {},
   "outputs": [
    {
     "data": {
      "text/plain": [
       "1"
      ]
     },
     "execution_count": 31,
     "metadata": {},
     "output_type": "execute_result"
    }
   ],
   "source": [
    "a.ndim"
   ]
  },
  {
   "cell_type": "code",
   "execution_count": 32,
   "id": "d4ca8ea8-12b3-4e1a-a352-f81ac0d0c926",
   "metadata": {},
   "outputs": [
    {
     "data": {
      "text/plain": [
       "dtype('int64')"
      ]
     },
     "execution_count": 32,
     "metadata": {},
     "output_type": "execute_result"
    }
   ],
   "source": [
    "a.dtype # 데이터타입"
   ]
  },
  {
   "cell_type": "code",
   "execution_count": 34,
   "id": "c8309927-d166-456e-8d4c-cc48ce642c84",
   "metadata": {},
   "outputs": [
    {
     "data": {
      "text/plain": [
       "array([1, 2, 3])"
      ]
     },
     "execution_count": 34,
     "metadata": {},
     "output_type": "execute_result"
    }
   ],
   "source": [
    "a"
   ]
  },
  {
   "cell_type": "code",
   "execution_count": 35,
   "id": "98f71437-4220-44d1-afb6-012c9b2f9dd7",
   "metadata": {},
   "outputs": [
    {
     "ename": "NameError",
     "evalue": "name 'tf' is not defined",
     "output_type": "error",
     "traceback": [
      "\u001b[0;31m---------------------------------------------------------------------------\u001b[0m",
      "\u001b[0;31mNameError\u001b[0m                                 Traceback (most recent call last)",
      "Cell \u001b[0;32mIn[35], line 1\u001b[0m\n\u001b[0;32m----> 1\u001b[0m b \u001b[38;5;241m=\u001b[39m \u001b[43mtf\u001b[49m\u001b[38;5;241m.\u001b[39mconstant([\u001b[38;5;241m1\u001b[39m,\u001b[38;5;241m1\u001b[39m])\n",
      "\u001b[0;31mNameError\u001b[0m: name 'tf' is not defined"
     ]
    }
   ],
   "source": [
    "b = tf.constant([1,1])"
   ]
  },
  {
   "cell_type": "code",
   "execution_count": 37,
   "id": "20d4f173-088d-4684-96c5-ce65b6c132e7",
   "metadata": {},
   "outputs": [],
   "source": [
    "import tensorflow as tf"
   ]
  },
  {
   "cell_type": "code",
   "execution_count": 38,
   "id": "5298d05c-580d-4f5b-9a49-09d4d2a6e934",
   "metadata": {},
   "outputs": [
    {
     "name": "stdout",
     "output_type": "stream",
     "text": [
      "Downloading data from https://storage.googleapis.com/tensorflow/tf-keras-datasets/mnist.npz\n",
      "\u001b[1m11490434/11490434\u001b[0m \u001b[32m━━━━━━━━━━━━━━━━━━━━\u001b[0m\u001b[37m\u001b[0m \u001b[1m1s\u001b[0m 0us/step\n"
     ]
    }
   ],
   "source": [
    "x = tf.keras.datasets.mnist.load_data()"
   ]
  },
  {
   "cell_type": "code",
   "execution_count": 39,
   "id": "a8ea02fc-b0fa-4743-a837-33459efa6a5b",
   "metadata": {},
   "outputs": [
    {
     "data": {
      "text/plain": [
       "((array([[[0, 0, 0, ..., 0, 0, 0],\n",
       "          [0, 0, 0, ..., 0, 0, 0],\n",
       "          [0, 0, 0, ..., 0, 0, 0],\n",
       "          ...,\n",
       "          [0, 0, 0, ..., 0, 0, 0],\n",
       "          [0, 0, 0, ..., 0, 0, 0],\n",
       "          [0, 0, 0, ..., 0, 0, 0]],\n",
       "  \n",
       "         [[0, 0, 0, ..., 0, 0, 0],\n",
       "          [0, 0, 0, ..., 0, 0, 0],\n",
       "          [0, 0, 0, ..., 0, 0, 0],\n",
       "          ...,\n",
       "          [0, 0, 0, ..., 0, 0, 0],\n",
       "          [0, 0, 0, ..., 0, 0, 0],\n",
       "          [0, 0, 0, ..., 0, 0, 0]],\n",
       "  \n",
       "         [[0, 0, 0, ..., 0, 0, 0],\n",
       "          [0, 0, 0, ..., 0, 0, 0],\n",
       "          [0, 0, 0, ..., 0, 0, 0],\n",
       "          ...,\n",
       "          [0, 0, 0, ..., 0, 0, 0],\n",
       "          [0, 0, 0, ..., 0, 0, 0],\n",
       "          [0, 0, 0, ..., 0, 0, 0]],\n",
       "  \n",
       "         ...,\n",
       "  \n",
       "         [[0, 0, 0, ..., 0, 0, 0],\n",
       "          [0, 0, 0, ..., 0, 0, 0],\n",
       "          [0, 0, 0, ..., 0, 0, 0],\n",
       "          ...,\n",
       "          [0, 0, 0, ..., 0, 0, 0],\n",
       "          [0, 0, 0, ..., 0, 0, 0],\n",
       "          [0, 0, 0, ..., 0, 0, 0]],\n",
       "  \n",
       "         [[0, 0, 0, ..., 0, 0, 0],\n",
       "          [0, 0, 0, ..., 0, 0, 0],\n",
       "          [0, 0, 0, ..., 0, 0, 0],\n",
       "          ...,\n",
       "          [0, 0, 0, ..., 0, 0, 0],\n",
       "          [0, 0, 0, ..., 0, 0, 0],\n",
       "          [0, 0, 0, ..., 0, 0, 0]],\n",
       "  \n",
       "         [[0, 0, 0, ..., 0, 0, 0],\n",
       "          [0, 0, 0, ..., 0, 0, 0],\n",
       "          [0, 0, 0, ..., 0, 0, 0],\n",
       "          ...,\n",
       "          [0, 0, 0, ..., 0, 0, 0],\n",
       "          [0, 0, 0, ..., 0, 0, 0],\n",
       "          [0, 0, 0, ..., 0, 0, 0]]], dtype=uint8),\n",
       "  array([5, 0, 4, ..., 5, 6, 8], dtype=uint8)),\n",
       " (array([[[0, 0, 0, ..., 0, 0, 0],\n",
       "          [0, 0, 0, ..., 0, 0, 0],\n",
       "          [0, 0, 0, ..., 0, 0, 0],\n",
       "          ...,\n",
       "          [0, 0, 0, ..., 0, 0, 0],\n",
       "          [0, 0, 0, ..., 0, 0, 0],\n",
       "          [0, 0, 0, ..., 0, 0, 0]],\n",
       "  \n",
       "         [[0, 0, 0, ..., 0, 0, 0],\n",
       "          [0, 0, 0, ..., 0, 0, 0],\n",
       "          [0, 0, 0, ..., 0, 0, 0],\n",
       "          ...,\n",
       "          [0, 0, 0, ..., 0, 0, 0],\n",
       "          [0, 0, 0, ..., 0, 0, 0],\n",
       "          [0, 0, 0, ..., 0, 0, 0]],\n",
       "  \n",
       "         [[0, 0, 0, ..., 0, 0, 0],\n",
       "          [0, 0, 0, ..., 0, 0, 0],\n",
       "          [0, 0, 0, ..., 0, 0, 0],\n",
       "          ...,\n",
       "          [0, 0, 0, ..., 0, 0, 0],\n",
       "          [0, 0, 0, ..., 0, 0, 0],\n",
       "          [0, 0, 0, ..., 0, 0, 0]],\n",
       "  \n",
       "         ...,\n",
       "  \n",
       "         [[0, 0, 0, ..., 0, 0, 0],\n",
       "          [0, 0, 0, ..., 0, 0, 0],\n",
       "          [0, 0, 0, ..., 0, 0, 0],\n",
       "          ...,\n",
       "          [0, 0, 0, ..., 0, 0, 0],\n",
       "          [0, 0, 0, ..., 0, 0, 0],\n",
       "          [0, 0, 0, ..., 0, 0, 0]],\n",
       "  \n",
       "         [[0, 0, 0, ..., 0, 0, 0],\n",
       "          [0, 0, 0, ..., 0, 0, 0],\n",
       "          [0, 0, 0, ..., 0, 0, 0],\n",
       "          ...,\n",
       "          [0, 0, 0, ..., 0, 0, 0],\n",
       "          [0, 0, 0, ..., 0, 0, 0],\n",
       "          [0, 0, 0, ..., 0, 0, 0]],\n",
       "  \n",
       "         [[0, 0, 0, ..., 0, 0, 0],\n",
       "          [0, 0, 0, ..., 0, 0, 0],\n",
       "          [0, 0, 0, ..., 0, 0, 0],\n",
       "          ...,\n",
       "          [0, 0, 0, ..., 0, 0, 0],\n",
       "          [0, 0, 0, ..., 0, 0, 0],\n",
       "          [0, 0, 0, ..., 0, 0, 0]]], dtype=uint8),\n",
       "  array([7, 2, 1, ..., 4, 5, 6], dtype=uint8)))"
      ]
     },
     "execution_count": 39,
     "metadata": {},
     "output_type": "execute_result"
    }
   ],
   "source": [
    "x"
   ]
  },
  {
   "cell_type": "code",
   "execution_count": 100,
   "id": "34159244-a994-40cb-8817-e10409ea70a0",
   "metadata": {},
   "outputs": [
    {
     "data": {
      "text/plain": [
       "((60000, 28, 28), 3, 47040000, <memory at 0x2accb9300>, 1, dtype('uint8'))"
      ]
     },
     "execution_count": 100,
     "metadata": {},
     "output_type": "execute_result"
    }
   ],
   "source": [
    "x.shape, \\   # 배열의 모양\n",
    "x.ndim, \\    # 배열의 차원\n",
    "x.data, \\    # 배열이 저장된 메모리주소. 이 주소부터 데이터가 연속적으로 저장되어 있음\n",
    "x.size, \\    # 배열 요소의 갯수 (배열안의 배열 갯수 아님, 그냥 배열안의 요소 하나하나를 의미!)\n",
    "x.dtype      # 배열 요소 하나의 데이터 타입\n",
    "x.itemsize, \\# 배열 요소 하나의 사이즈\n"
   ]
  },
  {
   "cell_type": "code",
   "execution_count": 40,
   "id": "ff83213f-9b7c-4169-94d6-f2fe46c57b5a",
   "metadata": {},
   "outputs": [
    {
     "data": {
      "text/plain": [
       "2"
      ]
     },
     "execution_count": 40,
     "metadata": {},
     "output_type": "execute_result"
    }
   ],
   "source": [
    "len(x)"
   ]
  },
  {
   "cell_type": "code",
   "execution_count": 43,
   "id": "c9ab5af0-159c-42a4-bb36-3c0c7b0d51a0",
   "metadata": {},
   "outputs": [],
   "source": [
    "x, y = tf.keras.datasets.mnist.load_data()"
   ]
  },
  {
   "cell_type": "code",
   "execution_count": 45,
   "id": "b072d5af-383f-4ee7-98c8-45a09c9f5802",
   "metadata": {},
   "outputs": [
    {
     "data": {
      "text/plain": [
       "(2, 2)"
      ]
     },
     "execution_count": 45,
     "metadata": {},
     "output_type": "execute_result"
    }
   ],
   "source": [
    "len(x), len(y)"
   ]
  },
  {
   "cell_type": "code",
   "execution_count": 47,
   "id": "f259eb51-eb6a-49b1-b011-752939082047",
   "metadata": {},
   "outputs": [],
   "source": [
    "(x,z), (y,u) = tf.keras.datasets.mnist.load_data()"
   ]
  },
  {
   "cell_type": "code",
   "execution_count": 48,
   "id": "d2e39137-8d94-4fcf-9e82-405619831acd",
   "metadata": {},
   "outputs": [
    {
     "data": {
      "text/plain": [
       "(60000, 28, 28)"
      ]
     },
     "execution_count": 48,
     "metadata": {},
     "output_type": "execute_result"
    }
   ],
   "source": [
    "x.shape  #[ 갯수 == 차원 # shape,ndim => 차원 # dtype => 타입"
   ]
  },
  {
   "cell_type": "code",
   "execution_count": 49,
   "id": "dd34c812-a06c-4fea-bb10-78681e144440",
   "metadata": {},
   "outputs": [
    {
     "data": {
      "text/plain": [
       "dtype('uint8')"
      ]
     },
     "execution_count": 49,
     "metadata": {},
     "output_type": "execute_result"
    }
   ],
   "source": [
    "x.dtype "
   ]
  },
  {
   "cell_type": "code",
   "execution_count": 52,
   "id": "81ffbf7e-1690-4d8c-80e2-72740f30c294",
   "metadata": {},
   "outputs": [
    {
     "data": {
      "text/plain": [
       "(60000, 28, 28)"
      ]
     },
     "execution_count": 52,
     "metadata": {},
     "output_type": "execute_result"
    }
   ],
   "source": [
    "# 여기서 부터 디스크립터 등장\n",
    "x.shape"
   ]
  },
  {
   "cell_type": "code",
   "execution_count": 53,
   "id": "4d8e04f6-8b29-4516-a8db-dee02a10b70a",
   "metadata": {},
   "outputs": [
    {
     "data": {
      "text/plain": [
       "0      16.99\n",
       "1      10.34\n",
       "2      21.01\n",
       "3      23.68\n",
       "4      24.59\n",
       "       ...  \n",
       "239    29.03\n",
       "240    27.18\n",
       "241    22.67\n",
       "242    17.82\n",
       "243    18.78\n",
       "Name: total_bill, Length: 244, dtype: float64"
      ]
     },
     "execution_count": 53,
     "metadata": {},
     "output_type": "execute_result"
    }
   ],
   "source": [
    "tips = sns.load_dataset('tips')\n",
    "tips.total_bill"
   ]
  },
  {
   "cell_type": "code",
   "execution_count": 54,
   "id": "74611b7e-bffd-4dec-89e9-48890097ea17",
   "metadata": {},
   "outputs": [
    {
     "data": {
      "text/plain": [
       "1708"
      ]
     },
     "execution_count": 54,
     "metadata": {},
     "output_type": "execute_result"
    }
   ],
   "source": [
    "tips.size # 원소의 갯수다. \n",
    "          # 분석은 책 많이 읽어야 한다."
   ]
  },
  {
   "cell_type": "code",
   "execution_count": 55,
   "id": "cbd12808-35ff-499c-9ff6-d6c668cec756",
   "metadata": {},
   "outputs": [],
   "source": [
    "# introspection"
   ]
  },
  {
   "cell_type": "code",
   "execution_count": 56,
   "id": "ca24e138-def7-4388-9e96-ba688f358076",
   "metadata": {},
   "outputs": [
    {
     "data": {
      "text/plain": [
       "8"
      ]
     },
     "execution_count": 56,
     "metadata": {},
     "output_type": "execute_result"
    }
   ],
   "source": [
    "a.itemsize  # 알면좋다."
   ]
  },
  {
   "cell_type": "code",
   "execution_count": 57,
   "id": "ebea647c-58a6-4de1-955d-d844bce35e5c",
   "metadata": {},
   "outputs": [
    {
     "data": {
      "text/plain": [
       "<memory at 0x2ac9c2a40>"
      ]
     },
     "execution_count": 57,
     "metadata": {},
     "output_type": "execute_result"
    }
   ],
   "source": [
    "a.data  # 넘파이에서는 일렬도 저장한다. 차원 상관없이. 외우자. \n",
    "        # 스트라이드(아주아주 멋진 개념), 스트라이드 트리 - 배열에서 어떤 값을 빨리 뽑는지..영상처리에서 배운다"
   ]
  },
  {
   "cell_type": "code",
   "execution_count": 58,
   "id": "49197421-a2f4-42f6-b2f5-959316ce9512",
   "metadata": {},
   "outputs": [],
   "source": [
    "# .에 관련된것은 디스크립터를 배우면 이해가 높아진다."
   ]
  },
  {
   "cell_type": "code",
   "execution_count": null,
   "id": "8006d8ae-0780-4b60-b671-b3030cf9dab4",
   "metadata": {},
   "outputs": [],
   "source": [
    "# 꼼수\n",
    "# 매틀랩을 배운 사람: \n",
    "# 데이터 분석은 대부분 2차원이다. (시계열 데이터 예외)\n",
    "# 인공지능은 3차원 데이터 이상 (공간개념) \n",
    "    # 지도를 움직이는 사람과 => 공간지능이 부족 => matlab 세상의 모든 것을 2차원으로 생각할 수 있다.\n",
    "        # (60000, 28 ,28) => (60000, 28) (28)\n",
    "        # 2차원 관점에서 32차원 이해하기\n",
    "    # 내가 움직이는 사람 => 축복받은 사람"
   ]
  },
  {
   "cell_type": "code",
   "execution_count": 61,
   "id": "7b30f835-b510-441b-836d-4b22a5a7cc37",
   "metadata": {},
   "outputs": [],
   "source": [
    "a = np.arange(24).reshape(2,3,4)"
   ]
  },
  {
   "cell_type": "code",
   "execution_count": 62,
   "id": "b51e7fb6-451e-4a04-9620-bbf411dde28c",
   "metadata": {},
   "outputs": [
    {
     "data": {
      "text/plain": [
       "array([[[ 0,  1,  2,  3],\n",
       "        [ 4,  5,  6,  7],\n",
       "        [ 8,  9, 10, 11]],\n",
       "\n",
       "       [[12, 13, 14, 15],\n",
       "        [16, 17, 18, 19],\n",
       "        [20, 21, 22, 23]]])"
      ]
     },
     "execution_count": 62,
     "metadata": {},
     "output_type": "execute_result"
    }
   ],
   "source": [
    "a  # 3*4가 2개있다. 공백! 기준 구별하기\n",
    "\n",
    "# array([[[ 0,  1,  2,  3],\n",
    "#         [ 4,  5,  6,  7],\n",
    "#         [ 8,  9, 10, 11]],\n",
    "\n",
    "#        [[12, 13, 14, 15],\n",
    "#         [16, 17, 18, 19],\n",
    "#         [20, 21, 22, 23]]])"
   ]
  },
  {
   "cell_type": "code",
   "execution_count": 63,
   "id": "d3d258d6-63f4-47b3-8c7c-4c93a6ed7942",
   "metadata": {},
   "outputs": [],
   "source": [
    "a = np.arange(24).reshape(3,2,4)"
   ]
  },
  {
   "cell_type": "code",
   "execution_count": 65,
   "id": "93213f39-280b-4a1b-9b04-b6b055530fc3",
   "metadata": {},
   "outputs": [
    {
     "data": {
      "text/plain": [
       "array([[[ 0,  1,  2,  3],\n",
       "        [ 4,  5,  6,  7]],\n",
       "\n",
       "       [[ 8,  9, 10, 11],\n",
       "        [12, 13, 14, 15]],\n",
       "\n",
       "       [[16, 17, 18, 19],\n",
       "        [20, 21, 22, 23]]])"
      ]
     },
     "execution_count": 65,
     "metadata": {},
     "output_type": "execute_result"
    }
   ],
   "source": [
    "a  # 밖에서 부터 [를 제거한다. # 이거 연습하기  # 시계열 데이터는 3차원을 잘 해야한다. \n",
    "\n",
    "# array([[[ 0,  1,  2,  3],\n",
    "#         [ 4,  5,  6,  7]],\n",
    "\n",
    "#        [[ 8,  9, 10, 11],\n",
    "#         [12, 13, 14, 15]],\n",
    "\n",
    "#        [[16, 17, 18, 19],\n",
    "#         [20, 21, 22, 23]]])"
   ]
  },
  {
   "cell_type": "code",
   "execution_count": null,
   "id": "ae9e3b50-cb36-40cb-a418-3f8220d3e53b",
   "metadata": {},
   "outputs": [],
   "source": [
    "# 4차원을 -> 1차원, 3차원\n",
    "# 3차원 -> 1차원, 2차원으로 나눠서 생각한다. \n",
    "# 공간감각을 익히지 않으면 진짜 힘들다. \n",
    "# 자연어 처리는 차원이 좀 낮다. 영사처리는 인생에 대해 다시 생각해라. "
   ]
  },
  {
   "cell_type": "code",
   "execution_count": null,
   "id": "2744d972-5400-46ca-aac6-4260be2ef511",
   "metadata": {},
   "outputs": [],
   "source": [
    "ㅋㅋㅋㅋㅋㅋㅋㅋㅋㅋㅋㅋㅋㅋㅋㅋㅋㅋㅋㅋㅋㅋㅋㅋㅋㅋㅋㅋㅋㅋㅋㅋㅋㅋㅋㅋㅋㅋㅋㅋㅋㅋㅋㅋㅋㅋㅋㅋㅋㅋㅋㅋㅋㅋㅋㅋㅋㅋㅋㅋ"
   ]
  },
  {
   "cell_type": "code",
   "execution_count": 147,
   "id": "ff595bbd-3fe6-4205-9d6a-a124de1371bc",
   "metadata": {},
   "outputs": [
    {
     "data": {
      "text/plain": [
       "range"
      ]
     },
     "execution_count": 147,
     "metadata": {},
     "output_type": "execute_result"
    }
   ],
   "source": [
    "type(range(10))"
   ]
  },
  {
   "cell_type": "code",
   "execution_count": 148,
   "id": "f4d7a34b-e772-4ae6-b70a-7ed6f56e56f1",
   "metadata": {},
   "outputs": [
    {
     "data": {
      "text/plain": [
       "['__bool__',\n",
       " '__class__',\n",
       " '__contains__',\n",
       " '__delattr__',\n",
       " '__dir__',\n",
       " '__doc__',\n",
       " '__eq__',\n",
       " '__format__',\n",
       " '__ge__',\n",
       " '__getattribute__',\n",
       " '__getitem__',\n",
       " '__getstate__',\n",
       " '__gt__',\n",
       " '__hash__',\n",
       " '__init__',\n",
       " '__init_subclass__',\n",
       " '__iter__',\n",
       " '__le__',\n",
       " '__len__',\n",
       " '__lt__',\n",
       " '__ne__',\n",
       " '__new__',\n",
       " '__reduce__',\n",
       " '__reduce_ex__',\n",
       " '__repr__',\n",
       " '__reversed__',\n",
       " '__setattr__',\n",
       " '__sizeof__',\n",
       " '__str__',\n",
       " '__subclasshook__',\n",
       " 'count',\n",
       " 'index',\n",
       " 'start',\n",
       " 'step',\n",
       " 'stop']"
      ]
     },
     "execution_count": 148,
     "metadata": {},
     "output_type": "execute_result"
    }
   ],
   "source": [
    "dir(range)"
   ]
  },
  {
   "cell_type": "code",
   "execution_count": 151,
   "id": "155544e8-5e52-48cd-8a62-1f69335223e8",
   "metadata": {},
   "outputs": [
    {
     "name": "stdout",
     "output_type": "stream",
     "text": [
      "[1.  2.  2.1]\n",
      "0 1.0\n",
      "[1.  2.  2.1]\n",
      "1 2.0\n",
      "[1.  2.  2.1]\n",
      "2 2.1\n"
     ]
    }
   ],
   "source": [
    "for i in range(len(a)):\n",
    "    print(i,a[i])"
   ]
  },
  {
   "cell_type": "code",
   "execution_count": null,
   "id": "73005fbb-0881-48d6-9d88-81247aa41f6d",
   "metadata": {},
   "outputs": [],
   "source": []
  }
 ],
 "metadata": {
  "kernelspec": {
   "display_name": "Python 3 (ipykernel)",
   "language": "python",
   "name": "python3"
  },
  "language_info": {
   "codemirror_mode": {
    "name": "ipython",
    "version": 3
   },
   "file_extension": ".py",
   "mimetype": "text/x-python",
   "name": "python",
   "nbconvert_exporter": "python",
   "pygments_lexer": "ipython3",
   "version": "3.11.8"
  }
 },
 "nbformat": 4,
 "nbformat_minor": 5
}
