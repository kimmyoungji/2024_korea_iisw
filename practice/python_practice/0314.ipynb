{
 "cells": [
  {
   "cell_type": "code",
   "execution_count": 1,
   "id": "cf45cb03-d847-4912-a132-16aa9c545784",
   "metadata": {},
   "outputs": [],
   "source": [
    "# 오늘은 알면 맛탱이가 간다."
   ]
  },
  {
   "cell_type": "code",
   "execution_count": 7,
   "id": "b7870953-0563-4adb-83f5-dd65fb791a26",
   "metadata": {},
   "outputs": [],
   "source": [
    "# polymorphism : 다형성\n",
    "# 같은 말이어도 문맥에 따라, 다른 의미를 지니는 것. 문맥이란 데이터 타입\n",
    "# 전라도의 \"거시기\"\n",
    "# single-dispatch\n",
    "\n",
    "# 다형성은 코드에 사용되는 단어의 수를 줄여 복잡도를 낮추어준다. "
   ]
  },
  {
   "cell_type": "code",
   "execution_count": 8,
   "id": "33dcdb29-e748-4bde-bcd7-3814d9ca4fe6",
   "metadata": {},
   "outputs": [],
   "source": [
    "import torch"
   ]
  },
  {
   "cell_type": "code",
   "execution_count": 9,
   "id": "e3711b82-8ca7-438c-9892-daaa0866f18e",
   "metadata": {},
   "outputs": [],
   "source": [
    "from torch.utils.data import Dataset"
   ]
  },
  {
   "cell_type": "code",
   "execution_count": 10,
   "id": "3591ebce-7f32-4cdb-ba7d-3d38540812a2",
   "metadata": {},
   "outputs": [],
   "source": [
    "import inspect"
   ]
  },
  {
   "cell_type": "code",
   "execution_count": 11,
   "id": "8951e70a-6714-4ae4-805b-9065e280aaeb",
   "metadata": {},
   "outputs": [
    {
     "name": "stdout",
     "output_type": "stream",
     "text": [
      "class Dataset(Generic[T_co]):\n",
      "    r\"\"\"An abstract class representing a :class:`Dataset`.\n",
      "\n",
      "    All datasets that represent a map from keys to data samples should subclass\n",
      "    it. All subclasses should overwrite :meth:`__getitem__`, supporting fetching a\n",
      "    data sample for a given key. Subclasses could also optionally overwrite\n",
      "    :meth:`__len__`, which is expected to return the size of the dataset by many\n",
      "    :class:`~torch.utils.data.Sampler` implementations and the default options\n",
      "    of :class:`~torch.utils.data.DataLoader`. Subclasses could also\n",
      "    optionally implement :meth:`__getitems__`, for speedup batched samples\n",
      "    loading. This method accepts list of indices of samples of batch and returns\n",
      "    list of samples.\n",
      "\n",
      "    .. note::\n",
      "      :class:`~torch.utils.data.DataLoader` by default constructs an index\n",
      "      sampler that yields integral indices.  To make it work with a map-style\n",
      "      dataset with non-integral indices/keys, a custom sampler must be provided.\n",
      "    \"\"\"\n",
      "\n",
      "    def __getitem__(self, index) -> T_co:\n",
      "        raise NotImplementedError(\"Subclasses of Dataset should implement __getitem__.\")\n",
      "\n",
      "    # def __getitems__(self, indices: List) -> List[T_co]:\n",
      "    # Not implemented to prevent false-positives in fetcher check in\n",
      "    # torch.utils.data._utils.fetch._MapDatasetFetcher\n",
      "\n",
      "    def __add__(self, other: 'Dataset[T_co]') -> 'ConcatDataset[T_co]':\n",
      "        return ConcatDataset([self, other])\n",
      "\n",
      "    # No `def __len__(self)` default?\n",
      "    # See NOTE [ Lack of Default `__len__` in Python Abstract Base Classes ]\n",
      "    # in pytorch/torch/utils/data/sampler.py\n",
      "\n"
     ]
    }
   ],
   "source": [
    "print(inspect.getsource(Dataset))"
   ]
  },
  {
   "cell_type": "code",
   "execution_count": 12,
   "id": "7108fd6e-10e6-4f88-9320-a2c669392893",
   "metadata": {},
   "outputs": [],
   "source": [
    "def sum_(a,b):\n",
    "    return a+b"
   ]
  },
  {
   "cell_type": "code",
   "execution_count": 13,
   "id": "5b6b5850-1891-43aa-b9f0-41c5c0aab28a",
   "metadata": {},
   "outputs": [
    {
     "data": {
      "text/plain": [
       "'aabbb'"
      ]
     },
     "execution_count": 13,
     "metadata": {},
     "output_type": "execute_result"
    }
   ],
   "source": [
    "sum_('a','abbb')  # + 연산자에도 다형성이 있음을 알수 있다."
   ]
  },
  {
   "cell_type": "code",
   "execution_count": 15,
   "id": "e087e718-9001-4377-8193-de2398be19c5",
   "metadata": {},
   "outputs": [],
   "source": [
    "# override -> 다형성\n",
    "# 부모의 메서드를 자식 클래스에서 재정의하는 것\n",
    "# 시그니처가 같은 것을 재정의하는 것\n",
    "# 같은 이름이지만, 다르게 행동한다.\n",
    "# 상속에 관한 다형성 => override"
   ]
  },
  {
   "cell_type": "code",
   "execution_count": 16,
   "id": "1955eb8a-4d51-4381-ab84-96068da7f64b",
   "metadata": {},
   "outputs": [],
   "source": [
    "# overloading\n",
    "# 텐서플로우에서 overloading이라는 단어를 사용한다.\n",
    "# 상속과 무관한 다형성 => overloading\n",
    "# 두가지 종류\n",
    "    # operator overloading\n",
    "    # function overloading -> 파이썬은 기본적으로 지원하지 않는다.\n",
    "        # 같은 이름이지만, 매개변수가 다르면 다른 기능을 지원하는 기능\n",
    "        # 이게 있으면 편하지만 파이썬에서는 다르게 지원한다.\n",
    "# default 값\n",
    "def x(a,b=None):\n",
    "    print('')\n",
    "# single dispatch"
   ]
  },
  {
   "cell_type": "code",
   "execution_count": 24,
   "id": "612f61f0-3193-429e-a8bd-7b591f930623",
   "metadata": {},
   "outputs": [],
   "source": [
    "temp = []\n",
    "for n in range(5):\n",
    "    temp.append(lambda x: x+n)"
   ]
  },
  {
   "cell_type": "code",
   "execution_count": 25,
   "id": "c0dca12c-6edf-4e0b-afa3-b4ad4f57d6ad",
   "metadata": {},
   "outputs": [
    {
     "data": {
      "text/plain": [
       "[<function __main__.<lambda>(x)>,\n",
       " <function __main__.<lambda>(x)>,\n",
       " <function __main__.<lambda>(x)>,\n",
       " <function __main__.<lambda>(x)>,\n",
       " <function __main__.<lambda>(x)>]"
      ]
     },
     "execution_count": 25,
     "metadata": {},
     "output_type": "execute_result"
    }
   ],
   "source": [
    "temp"
   ]
  },
  {
   "cell_type": "code",
   "execution_count": 26,
   "id": "597c2fe1-b27e-40fc-b53d-a9c8219eb850",
   "metadata": {},
   "outputs": [],
   "source": [
    "temp = []\n",
    "for n in range(5):\n",
    "    temp.append(lambda x,n=n:x+n)  #람다함수는 인자가 다르면 다른 함수로 본다."
   ]
  },
  {
   "cell_type": "code",
   "execution_count": 27,
   "id": "e1f73371-0571-4d66-bd31-40e6c810665e",
   "metadata": {},
   "outputs": [
    {
     "data": {
      "text/plain": [
       "[<function __main__.<lambda>(x, n=0)>,\n",
       " <function __main__.<lambda>(x, n=1)>,\n",
       " <function __main__.<lambda>(x, n=2)>,\n",
       " <function __main__.<lambda>(x, n=3)>,\n",
       " <function __main__.<lambda>(x, n=4)>]"
      ]
     },
     "execution_count": 27,
     "metadata": {},
     "output_type": "execute_result"
    }
   ],
   "source": [
    "temp"
   ]
  },
  {
   "cell_type": "code",
   "execution_count": 28,
   "id": "d689e115-9de1-4add-a5b4-87abea53a9ae",
   "metadata": {},
   "outputs": [],
   "source": [
    "# 오버로딩이 적용되는 파이썬에서의 예외적인 상황\n",
    "    # 람다 함수 - 매개변수가 다르면 다른 함수로 취급\n",
    "    # 데코레이터 - ?? "
   ]
  },
  {
   "cell_type": "code",
   "execution_count": 31,
   "id": "c07720bd-f5df-4020-bae0-20a41c39cec1",
   "metadata": {},
   "outputs": [],
   "source": [
    "import seaborn as sns"
   ]
  },
  {
   "cell_type": "code",
   "execution_count": 30,
   "id": "3ff22b1a-88da-4857-8c95-a0438754dff1",
   "metadata": {
    "scrolled": true
   },
   "outputs": [
    {
     "name": "stdout",
     "output_type": "stream",
     "text": [
      "Collecting seaborn\n",
      "  Downloading seaborn-0.13.2-py3-none-any.whl.metadata (5.4 kB)\n",
      "Requirement already satisfied: numpy!=1.24.0,>=1.20 in /Users/myoungjikim/2024_Korea_iisw/myvenv2/lib/python3.11/site-packages (from seaborn) (1.26.4)\n",
      "Collecting pandas>=1.2 (from seaborn)\n",
      "  Downloading pandas-2.2.1-cp311-cp311-macosx_11_0_arm64.whl.metadata (19 kB)\n",
      "Collecting matplotlib!=3.6.1,>=3.4 (from seaborn)\n",
      "  Downloading matplotlib-3.8.3-cp311-cp311-macosx_11_0_arm64.whl.metadata (5.8 kB)\n",
      "Collecting contourpy>=1.0.1 (from matplotlib!=3.6.1,>=3.4->seaborn)\n",
      "  Downloading contourpy-1.2.0-cp311-cp311-macosx_11_0_arm64.whl.metadata (5.8 kB)\n",
      "Collecting cycler>=0.10 (from matplotlib!=3.6.1,>=3.4->seaborn)\n",
      "  Downloading cycler-0.12.1-py3-none-any.whl.metadata (3.8 kB)\n",
      "Collecting fonttools>=4.22.0 (from matplotlib!=3.6.1,>=3.4->seaborn)\n",
      "  Downloading fonttools-4.49.0-cp311-cp311-macosx_10_9_universal2.whl.metadata (159 kB)\n",
      "\u001b[2K     \u001b[38;2;114;156;31m━━━━━━━━━━━━━━━━━━━━━━━━━━━━━━━━━━━━━\u001b[0m \u001b[32m159.1/159.1 kB\u001b[0m \u001b[31m263.7 kB/s\u001b[0m eta \u001b[36m0:00:00\u001b[0m1m262.5 kB/s\u001b[0m eta \u001b[36m0:00:01\u001b[0m\n",
      "\u001b[?25hCollecting kiwisolver>=1.3.1 (from matplotlib!=3.6.1,>=3.4->seaborn)\n",
      "  Downloading kiwisolver-1.4.5-cp311-cp311-macosx_11_0_arm64.whl.metadata (6.4 kB)\n",
      "Requirement already satisfied: packaging>=20.0 in /Users/myoungjikim/2024_Korea_iisw/myvenv2/lib/python3.11/site-packages (from matplotlib!=3.6.1,>=3.4->seaborn) (23.2)\n",
      "Requirement already satisfied: pillow>=8 in /Users/myoungjikim/2024_Korea_iisw/myvenv2/lib/python3.11/site-packages (from matplotlib!=3.6.1,>=3.4->seaborn) (10.2.0)\n",
      "Collecting pyparsing>=2.3.1 (from matplotlib!=3.6.1,>=3.4->seaborn)\n",
      "  Downloading pyparsing-3.1.2-py3-none-any.whl.metadata (5.1 kB)\n",
      "Requirement already satisfied: python-dateutil>=2.7 in /Users/myoungjikim/2024_Korea_iisw/myvenv2/lib/python3.11/site-packages (from matplotlib!=3.6.1,>=3.4->seaborn) (2.9.0.post0)\n",
      "Collecting pytz>=2020.1 (from pandas>=1.2->seaborn)\n",
      "  Downloading pytz-2024.1-py2.py3-none-any.whl.metadata (22 kB)\n",
      "Collecting tzdata>=2022.7 (from pandas>=1.2->seaborn)\n",
      "  Downloading tzdata-2024.1-py2.py3-none-any.whl.metadata (1.4 kB)\n",
      "Requirement already satisfied: six>=1.5 in /Users/myoungjikim/2024_Korea_iisw/myvenv2/lib/python3.11/site-packages (from python-dateutil>=2.7->matplotlib!=3.6.1,>=3.4->seaborn) (1.16.0)\n",
      "Downloading seaborn-0.13.2-py3-none-any.whl (294 kB)\n",
      "\u001b[2K   \u001b[38;2;114;156;31m━━━━━━━━━━━━━━━━━━━━━━━━━━━━━━━━━━━━━━━\u001b[0m \u001b[32m294.9/294.9 kB\u001b[0m \u001b[31m196.4 kB/s\u001b[0m eta \u001b[36m0:00:00\u001b[0m1m193.4 kB/s\u001b[0m eta \u001b[36m0:00:01\u001b[0m\n",
      "\u001b[?25hDownloading matplotlib-3.8.3-cp311-cp311-macosx_11_0_arm64.whl (7.5 MB)\n",
      "\u001b[2K   \u001b[38;2;114;156;31m━━━━━━━━━━━━━━━━━━━━━━━━━━━━━━━━━━━━━━━━\u001b[0m \u001b[32m7.5/7.5 MB\u001b[0m \u001b[31m371.0 kB/s\u001b[0m eta \u001b[36m0:00:00\u001b[0mm eta \u001b[36m0:00:01\u001b[0m[36m0:00:01\u001b[0m\n",
      "\u001b[?25hDownloading pandas-2.2.1-cp311-cp311-macosx_11_0_arm64.whl (11.3 MB)\n",
      "\u001b[2K   \u001b[38;2;114;156;31m━━━━━━━━━━━━━━━━━━━━━━━━━━━━━━━━━━━━━━━━\u001b[0m \u001b[32m11.3/11.3 MB\u001b[0m \u001b[31m556.0 kB/s\u001b[0m eta \u001b[36m0:00:00\u001b[0mm eta \u001b[36m0:00:01\u001b[0m[36m0:00:01\u001b[0m\n",
      "\u001b[?25hDownloading contourpy-1.2.0-cp311-cp311-macosx_11_0_arm64.whl (243 kB)\n",
      "\u001b[2K   \u001b[38;2;114;156;31m━━━━━━━━━━━━━━━━━━━━━━━━━━━━━━━━━━━━━━━\u001b[0m \u001b[32m243.4/243.4 kB\u001b[0m \u001b[31m492.8 kB/s\u001b[0m eta \u001b[36m0:00:00\u001b[0m1m491.0 kB/s\u001b[0m eta \u001b[36m0:00:01\u001b[0m\n",
      "\u001b[?25hDownloading cycler-0.12.1-py3-none-any.whl (8.3 kB)\n",
      "Downloading fonttools-4.49.0-cp311-cp311-macosx_10_9_universal2.whl (2.8 MB)\n",
      "\u001b[2K   \u001b[38;2;114;156;31m━━━━━━━━━━━━━━━━━━━━━━━━━━━━━━━━━━━━━━━━\u001b[0m \u001b[32m2.8/2.8 MB\u001b[0m \u001b[31m429.9 kB/s\u001b[0m eta \u001b[36m0:00:00\u001b[0mm eta \u001b[36m0:00:01\u001b[0m[36m0:00:01\u001b[0m\n",
      "\u001b[?25hDownloading kiwisolver-1.4.5-cp311-cp311-macosx_11_0_arm64.whl (66 kB)\n",
      "\u001b[2K   \u001b[38;2;114;156;31m━━━━━━━━━━━━━━━━━━━━━━━━━━━━━━━━━━━━━━━━\u001b[0m \u001b[32m66.2/66.2 kB\u001b[0m \u001b[31m233.7 kB/s\u001b[0m eta \u001b[36m0:00:00\u001b[0m kB/s\u001b[0m eta \u001b[36m0:00:01\u001b[0m:01\u001b[0m\n",
      "\u001b[?25hDownloading pyparsing-3.1.2-py3-none-any.whl (103 kB)\n",
      "\u001b[2K   \u001b[38;2;114;156;31m━━━━━━━━━━━━━━━━━━━━━━━━━━━━━━━━━━━━━━━\u001b[0m \u001b[32m103.2/103.2 kB\u001b[0m \u001b[31m279.3 kB/s\u001b[0m eta \u001b[36m0:00:00\u001b[0mm eta \u001b[36m0:00:01\u001b[0m[36m0:00:01\u001b[0m\n",
      "\u001b[?25hDownloading pytz-2024.1-py2.py3-none-any.whl (505 kB)\n",
      "\u001b[2K   \u001b[38;2;114;156;31m━━━━━━━━━━━━━━━━━━━━━━━━━━━━━━━━━━━━━━━\u001b[0m \u001b[32m505.5/505.5 kB\u001b[0m \u001b[31m336.4 kB/s\u001b[0m eta \u001b[36m0:00:00\u001b[0mm eta \u001b[36m0:00:01\u001b[0m0:01\u001b[0m:01\u001b[0m\n",
      "\u001b[?25hDownloading tzdata-2024.1-py2.py3-none-any.whl (345 kB)\n",
      "\u001b[2K   \u001b[38;2;114;156;31m━━━━━━━━━━━━━━━━━━━━━━━━━━━━━━━━━━━━━━━\u001b[0m \u001b[32m345.4/345.4 kB\u001b[0m \u001b[31m269.1 kB/s\u001b[0m eta \u001b[36m0:00:00\u001b[0m1m273.1 kB/s\u001b[0m eta \u001b[36m0:00:01\u001b[0m\n",
      "\u001b[?25hInstalling collected packages: pytz, tzdata, pyparsing, kiwisolver, fonttools, cycler, contourpy, pandas, matplotlib, seaborn\n",
      "Successfully installed contourpy-1.2.0 cycler-0.12.1 fonttools-4.49.0 kiwisolver-1.4.5 matplotlib-3.8.3 pandas-2.2.1 pyparsing-3.1.2 pytz-2024.1 seaborn-0.13.2 tzdata-2024.1\n",
      "\n",
      "\u001b[1m[\u001b[0m\u001b[34;49mnotice\u001b[0m\u001b[1;39;49m]\u001b[0m\u001b[39;49m A new release of pip is available: \u001b[0m\u001b[31;49m23.3.1\u001b[0m\u001b[39;49m -> \u001b[0m\u001b[32;49m24.0\u001b[0m\n",
      "\u001b[1m[\u001b[0m\u001b[34;49mnotice\u001b[0m\u001b[1;39;49m]\u001b[0m\u001b[39;49m To update, run: \u001b[0m\u001b[32;49mpip install --upgrade pip\u001b[0m\n",
      "Note: you may need to restart the kernel to use updated packages.\n"
     ]
    }
   ],
   "source": [
    "pip install seaborn"
   ]
  },
  {
   "cell_type": "code",
   "execution_count": 32,
   "id": "8d0e5379-9b57-4223-ba38-1d14007530ea",
   "metadata": {},
   "outputs": [],
   "source": [
    "# 판다스의 discribe()는 다형성이 있는 메서드이다.\n",
    "# 데이터 타입, 사용하는 주체에 따라, 다양한 의미를 지니는 속성\n",
    "# 예: fly: swan fly, airplane fly, duck fly\n",
    "\n",
    "# 넘파이는 다형성이 없어서, 어려움이 있을 것이다. 외웨야 할 것이 정말 많다. C언어로 만들어졌기 때문이다."
   ]
  },
  {
   "cell_type": "code",
   "execution_count": null,
   "id": "60c907d7-559b-4d24-92e4-6bfc2faaad75",
   "metadata": {},
   "outputs": [],
   "source": [
    "#객체지향 4가지\n",
    "\n",
    "# 캡슐화\n",
    "# 상속\n",
    "# 추상화\n",
    "# 다형성"
   ]
  },
  {
   "cell_type": "code",
   "execution_count": 34,
   "id": "8c2aedf1-34fb-4774-b973-5b670a97e17e",
   "metadata": {},
   "outputs": [],
   "source": [
    "# 데이터 분석은 R을 꼭알아야 한다. 새로운 기법들이 R로 나오기 때문이다."
   ]
  },
  {
   "cell_type": "code",
   "execution_count": 36,
   "id": "28b5e64c-2f05-4df8-8d75-c1025924f3a8",
   "metadata": {},
   "outputs": [],
   "source": [
    "# 전문가의 지식은 공유가 잘 안된다. 학습데이터가 없는 것\n",
    "# 제일 타격 받는 것이 하층 계층이다. - 콜센터 직원\n",
    "# 산업혁명 \n",
    "# 1차 증기 -> 거리의 자유\n",
    "# 2차 전기 -> 시간의 자유\n",
    "# 3차 ICT -> 육체의 자유\n",
    "# 4차 인공지능 -> 정신의 자유\n",
    "# 5차 - 인공지능 | 양자컴퓨팅 | 생명공학및 유전자편집 | 나노기술 | 사이버보안 | 지속가능한 에너지와 환경기술 \n",
    "\n",
    "# 만들어서 취업 못하면 또 다시 만들어야한다. -> 특허 출원\n",
    "# 돈된다는 것은 100억대 사업한다는 생각으로 해야한다."
   ]
  },
  {
   "cell_type": "code",
   "execution_count": 51,
   "id": "b26e8b59-c288-4acb-a71e-a5ad4ae9412b",
   "metadata": {},
   "outputs": [],
   "source": [
    "# 메타클래스\n",
    "# 파이썬에서의 상속은 부모에게 위임시킨다. !!! LEGB\n",
    "class A(object, metaclass=type):\n",
    "    pass\n",
    "\n",
    "# divide and councur - 구성요소를 잘게 쪼개서 전문성에 맞춰서 일처리 \n",
    "# 귀도반 로섬이 클래스의 기능을 나누어 놓았다. 클래스 = 상속 + 메타클래스(클래스 행동결정) == 관심분리(concern of interest)\n",
    "# 메타 클래스의 역할 \n",
    "    # mro\n",
    "    # 상속 제한\n",
    "    # 추상화\n",
    "\n",
    "# C++에는 메타 클래스가 있다. 인생을 힘들게 하는 주범\n",
    "# 딥러닝과 입사문제에서 메타 클래스가 나오기 시작했다. -> 싱글톤 구현해라 "
   ]
  },
  {
   "cell_type": "code",
   "execution_count": 39,
   "id": "2402e198-a271-49b9-9917-54707bed40a0",
   "metadata": {},
   "outputs": [],
   "source": [
    "# type의 역할이 세분화된다. "
   ]
  },
  {
   "cell_type": "code",
   "execution_count": 40,
   "id": "65c73806-3274-46b2-9642-a1b1faac29f1",
   "metadata": {},
   "outputs": [],
   "source": [
    "a = 1"
   ]
  },
  {
   "cell_type": "code",
   "execution_count": 43,
   "id": "c60674d2-50de-4360-beea-dd63018c299d",
   "metadata": {},
   "outputs": [
    {
     "data": {
      "text/plain": [
       "int"
      ]
     },
     "execution_count": 43,
     "metadata": {},
     "output_type": "execute_result"
    }
   ],
   "source": [
    "type(a) # 클래스를 반환하는 클래스"
   ]
  },
  {
   "cell_type": "code",
   "execution_count": 46,
   "id": "fe95e0e5-b7d0-466f-a43a-eb32a75422ad",
   "metadata": {},
   "outputs": [],
   "source": [
    "b = type(a)(3)  # 와.. # 동적으로 값을 받아서 타입을 만들 수 있다."
   ]
  },
  {
   "cell_type": "code",
   "execution_count": 47,
   "id": "cffc73fb-fe6e-4254-a9d9-a9b32c3c438a",
   "metadata": {},
   "outputs": [
    {
     "data": {
      "text/plain": [
       "3"
      ]
     },
     "execution_count": 47,
     "metadata": {},
     "output_type": "execute_result"
    }
   ],
   "source": [
    "b"
   ]
  },
  {
   "cell_type": "code",
   "execution_count": 136,
   "id": "f8a66c9f-60ca-4e06-a6aa-dbb9708ec4d1",
   "metadata": {},
   "outputs": [],
   "source": [
    "c = type('int2',(int,), {})  #???? "
   ]
  },
  {
   "cell_type": "code",
   "execution_count": 137,
   "id": "8b9b96ae-a45d-41a3-b285-e4cf3b3991a8",
   "metadata": {},
   "outputs": [
    {
     "data": {
      "text/plain": [
       "__main__.int2"
      ]
     },
     "execution_count": 137,
     "metadata": {},
     "output_type": "execute_result"
    }
   ],
   "source": [
    "type(c())"
   ]
  },
  {
   "cell_type": "code",
   "execution_count": 130,
   "id": "2535ef3d-f8fd-4678-9b36-1eaa114db3c5",
   "metadata": {},
   "outputs": [
    {
     "data": {
      "text/plain": [
       "'3'"
      ]
     },
     "execution_count": 130,
     "metadata": {},
     "output_type": "execute_result"
    }
   ],
   "source": [
    "c(3)"
   ]
  },
  {
   "cell_type": "code",
   "execution_count": 50,
   "id": "4fbf2192-fef6-4073-abcd-e49ec0805c90",
   "metadata": {},
   "outputs": [],
   "source": [
    "# 클래스에 관련된 일은 메타클래스가 해준다."
   ]
  },
  {
   "cell_type": "code",
   "execution_count": 52,
   "id": "54bf6d8a-c999-4b83-a5a7-ea8fb8cf8548",
   "metadata": {},
   "outputs": [],
   "source": [
    "# django 사용시, 메타클래스를 알아야한다."
   ]
  },
  {
   "cell_type": "code",
   "execution_count": 53,
   "id": "d3fbc32f-392c-4e71-b815-aa6add8132df",
   "metadata": {},
   "outputs": [],
   "source": [
    "# type이 메타클래스 중에서도 최상위이다."
   ]
  },
  {
   "cell_type": "code",
   "execution_count": 58,
   "id": "a1ae32f6-53db-4abb-866e-a8cdc98b32bb",
   "metadata": {},
   "outputs": [],
   "source": [
    "# 메타 클래스 만드는 방법 3단계(2단계만 있어도 된다.)\n",
    "# 1) 메타 클래스를 상속 받아서 새로운 메타 클래스를 만든다\n",
    "# 2) 새로만든 메타클래스를 새로운 클래스의 metaclass 속성에 할당한다\n",
    "# 3) 새로만든 클래스를 상속 받는 서브 클래스를 정의"
   ]
  },
  {
   "cell_type": "code",
   "execution_count": 57,
   "id": "5ca6c378-5578-4804-82f0-377433d8b150",
   "metadata": {},
   "outputs": [],
   "source": [
    "# 싱글톤 ****** => 단 하나의 인스턴스만 만들 수 있는 클래스를 싱글톤이라고 한다."
   ]
  },
  {
   "cell_type": "code",
   "execution_count": 60,
   "id": "b2826f23-e377-4a2c-bd5b-bbd8550556e0",
   "metadata": {},
   "outputs": [],
   "source": [
    "# 1단계\n",
    "class Singleton(type):\n",
    "    instance = None\n",
    "    def __call__(cls, *args, **kw):\n",
    "        if not cls.instance:\n",
    "             cls.instance = super(Singleton, cls).__call__(*args, **kw)\n",
    "        return cls.instance"
   ]
  },
  {
   "cell_type": "code",
   "execution_count": 61,
   "id": "b5caf811-675c-4ff5-9e38-0261fd48b669",
   "metadata": {},
   "outputs": [],
   "source": [
    "# 2단계\n",
    "class ASingleton(metaclass=Singleton):\n",
    "    pass"
   ]
  },
  {
   "cell_type": "code",
   "execution_count": 69,
   "id": "2c984d37-fd86-44e0-9e10-26f9340c0bf2",
   "metadata": {},
   "outputs": [],
   "source": [
    "a = ASingleton()\n",
    "b = ASingleton()\n",
    "# 3단계에서는 2단계에서 생성한 클래스를 상속받는 클래스를 정의하여 쓴다 - 뼈대가 되는 클래스를 보호하기 위함"
   ]
  },
  {
   "cell_type": "code",
   "execution_count": 64,
   "id": "4552e334-af33-4a7e-ae8d-20afe7e7a704",
   "metadata": {},
   "outputs": [
    {
     "data": {
      "text/plain": [
       "(5667705232, 5667705232)"
      ]
     },
     "execution_count": 64,
     "metadata": {},
     "output_type": "execute_result"
    }
   ],
   "source": [
    "id(a), id(b)  # 인스턴스 수를 조절할 수 있다."
   ]
  },
  {
   "cell_type": "code",
   "execution_count": 65,
   "id": "d057751a-63f2-4942-bd29-9d461b7559db",
   "metadata": {},
   "outputs": [],
   "source": [
    "# 싱글 톤이 중요한 이유: 처음 부터 끝까지 관리하기 위함이다.\n",
    "# 싱글톤을 상속으로 만들수 있다. "
   ]
  },
  {
   "cell_type": "code",
   "execution_count": 66,
   "id": "851cb65a-1fd4-4ee5-b454-9e214c510a7c",
   "metadata": {},
   "outputs": [],
   "source": [
    "# 메타 프로그래밍 패턴 - OOP 자료에 있다."
   ]
  },
  {
   "cell_type": "code",
   "execution_count": 67,
   "id": "79f93223-da12-4df4-b8a2-41ca6d3ce1a1",
   "metadata": {},
   "outputs": [],
   "source": [
    "# 웹이나 자동화하는 디자인하는 사람이 보면좋다. - 디자인 패턴"
   ]
  },
  {
   "cell_type": "code",
   "execution_count": 68,
   "id": "7ad85a9e-cfc0-4ac2-a4ca-40f2720ba918",
   "metadata": {},
   "outputs": [],
   "source": [
    "# 클린코드, 디자인패턴 좋은 책 많다. \n",
    "# 일본책들은 요약이 잘 되어있다. - 세미나 할때 좋다. 피티수업하기 좋다.\n",
    "# 영어책들은 설명이 자세히 잘 되어있다."
   ]
  },
  {
   "cell_type": "code",
   "execution_count": 70,
   "id": "a831f3c5-3848-4b39-8774-539ec7273a2b",
   "metadata": {},
   "outputs": [],
   "source": [
    "# __new__\n",
    "# 메타클래스를 클래스에서 사용하기 위함"
   ]
  },
  {
   "cell_type": "code",
   "execution_count": 73,
   "id": "aa111685-e773-4889-a201-3b66d4836d00",
   "metadata": {},
   "outputs": [],
   "source": [
    "class A:\n",
    "    def __init__(self, x):\n",
    "        self.x = x\n",
    "        return 1"
   ]
  },
  {
   "cell_type": "code",
   "execution_count": 75,
   "id": "a0159bdd-b2c7-4ff3-b8b1-6c31aabedb10",
   "metadata": {},
   "outputs": [
    {
     "ename": "TypeError",
     "evalue": "__init__() should return None, not 'int'",
     "output_type": "error",
     "traceback": [
      "\u001b[0;31m---------------------------------------------------------------------------\u001b[0m",
      "\u001b[0;31mTypeError\u001b[0m                                 Traceback (most recent call last)",
      "Cell \u001b[0;32mIn[75], line 1\u001b[0m\n\u001b[0;32m----> 1\u001b[0m a \u001b[38;5;241m=\u001b[39m \u001b[43mA\u001b[49m\u001b[43m(\u001b[49m\u001b[38;5;241;43m2\u001b[39;49m\u001b[43m)\u001b[49m  \u001b[38;5;66;03m#리턴이 있으면 에러가 난다.\u001b[39;00m\n",
      "\u001b[0;31mTypeError\u001b[0m: __init__() should return None, not 'int'"
     ]
    }
   ],
   "source": [
    "a = A(2)  #리턴이 있으면 에러가 난다."
   ]
  },
  {
   "cell_type": "code",
   "execution_count": 77,
   "id": "193bd73d-3c6a-41f2-87d9-739bfc1f25be",
   "metadata": {},
   "outputs": [],
   "source": [
    "class A:\n",
    "    def __init__(self, x):\n",
    "        self.x = x"
   ]
  },
  {
   "cell_type": "code",
   "execution_count": 79,
   "id": "284e8c15-cbe9-41e5-a253-86fab1a3c5d3",
   "metadata": {},
   "outputs": [
    {
     "data": {
      "text/plain": [
       "<__main__.A at 0x15dff27d0>"
      ]
     },
     "execution_count": 79,
     "metadata": {},
     "output_type": "execute_result"
    }
   ],
   "source": [
    "A(2)  # 왜 뭐가 반환되지? "
   ]
  },
  {
   "cell_type": "code",
   "execution_count": 153,
   "id": "4c6184a8-8344-4734-a0bf-495ccb9f760e",
   "metadata": {},
   "outputs": [],
   "source": [
    "class A(object, metaclass=type): # object와 type 둘다 필요하다.\n",
    "    def __new__(cls): # 메타클래스를 오버라이딩한것이다. \n",
    "        print(\"new\")  # 여기서 클래스의 행동을 결정할 수 있다. \n",
    "        return super().__new__(cls)  # 여기서도 디바이드앤컨커가 적용된것이다. new + init\n",
    "    def __init__(self):\n",
    "        print(\"init\")\n",
    "        self.x = x\n",
    "    def __call__\n",
    "\n",
    "# pyhton은 다양한 경우를 이해해야한다. c언어는 상황을 조절할 수 있다."
   ]
  },
  {
   "cell_type": "code",
   "execution_count": 154,
   "id": "ca79e953-9b27-458c-8574-4ca2fa67d327",
   "metadata": {},
   "outputs": [
    {
     "ename": "TypeError",
     "evalue": "A.__new__() takes 1 positional argument but 2 were given",
     "output_type": "error",
     "traceback": [
      "\u001b[0;31m---------------------------------------------------------------------------\u001b[0m",
      "\u001b[0;31mTypeError\u001b[0m                                 Traceback (most recent call last)",
      "Cell \u001b[0;32mIn[154], line 1\u001b[0m\n\u001b[0;32m----> 1\u001b[0m a \u001b[38;5;241m=\u001b[39m \u001b[43mA\u001b[49m\u001b[43m(\u001b[49m\u001b[38;5;241;43m1\u001b[39;49m\u001b[43m)\u001b[49m\n",
      "\u001b[0;31mTypeError\u001b[0m: A.__new__() takes 1 positional argument but 2 were given"
     ]
    }
   ],
   "source": [
    "a = A(1)"
   ]
  },
  {
   "cell_type": "code",
   "execution_count": 157,
   "id": "36d3472b-e08a-4121-b142-2d9c7fc2cff3",
   "metadata": {},
   "outputs": [
    {
     "name": "stdout",
     "output_type": "stream",
     "text": [
      "new\n",
      "init\n"
     ]
    },
    {
     "ename": "TypeError",
     "evalue": "'A' object is not callable",
     "output_type": "error",
     "traceback": [
      "\u001b[0;31m---------------------------------------------------------------------------\u001b[0m",
      "\u001b[0;31mTypeError\u001b[0m                                 Traceback (most recent call last)",
      "Cell \u001b[0;32mIn[157], line 1\u001b[0m\n\u001b[0;32m----> 1\u001b[0m \u001b[43mA\u001b[49m\u001b[43m(\u001b[49m\u001b[43m)\u001b[49m\u001b[43m(\u001b[49m\u001b[43m)\u001b[49m\n",
      "\u001b[0;31mTypeError\u001b[0m: 'A' object is not callable"
     ]
    }
   ],
   "source": [
    "A()()"
   ]
  },
  {
   "cell_type": "code",
   "execution_count": null,
   "id": "4999671b-5e20-4564-afbb-c7acc0117076",
   "metadata": {},
   "outputs": [],
   "source": []
  },
  {
   "cell_type": "code",
   "execution_count": 128,
   "id": "087b2dcf-3d5b-4423-a1d1-f1ce56935d8c",
   "metadata": {},
   "outputs": [
    {
     "ename": "TypeError",
     "evalue": "A.__new__() takes 1 positional argument but 2 were given",
     "output_type": "error",
     "traceback": [
      "\u001b[0;31m---------------------------------------------------------------------------\u001b[0m",
      "\u001b[0;31mTypeError\u001b[0m                                 Traceback (most recent call last)",
      "Cell \u001b[0;32mIn[128], line 1\u001b[0m\n\u001b[0;32m----> 1\u001b[0m \u001b[43mA\u001b[49m\u001b[43m(\u001b[49m\u001b[38;5;241;43m1\u001b[39;49m\u001b[43m)\u001b[49m  \n",
      "\u001b[0;31mTypeError\u001b[0m: A.__new__() takes 1 positional argument but 2 were given"
     ]
    }
   ],
   "source": [
    "A(1)  "
   ]
  },
  {
   "cell_type": "code",
   "execution_count": 85,
   "id": "cfeb3206-d963-4a80-be28-b9a6f7608561",
   "metadata": {},
   "outputs": [
    {
     "data": {
      "text/plain": [
       "['__abstractmethods__',\n",
       " '__annotations__',\n",
       " '__base__',\n",
       " '__bases__',\n",
       " '__basicsize__',\n",
       " '__call__',\n",
       " '__class__',\n",
       " '__delattr__',\n",
       " '__dict__',\n",
       " '__dictoffset__',\n",
       " '__dir__',\n",
       " '__doc__',\n",
       " '__eq__',\n",
       " '__flags__',\n",
       " '__format__',\n",
       " '__ge__',\n",
       " '__getattribute__',\n",
       " '__getstate__',\n",
       " '__gt__',\n",
       " '__hash__',\n",
       " '__init__',\n",
       " '__init_subclass__',\n",
       " '__instancecheck__',\n",
       " '__itemsize__',\n",
       " '__le__',\n",
       " '__lt__',\n",
       " '__module__',\n",
       " '__mro__',\n",
       " '__name__',\n",
       " '__ne__',\n",
       " '__new__',\n",
       " '__or__',\n",
       " '__prepare__',\n",
       " '__qualname__',\n",
       " '__reduce__',\n",
       " '__reduce_ex__',\n",
       " '__repr__',\n",
       " '__ror__',\n",
       " '__setattr__',\n",
       " '__sizeof__',\n",
       " '__str__',\n",
       " '__subclasscheck__',\n",
       " '__subclasses__',\n",
       " '__subclasshook__',\n",
       " '__text_signature__',\n",
       " '__weakrefoffset__',\n",
       " 'mro']"
      ]
     },
     "execution_count": 85,
     "metadata": {},
     "output_type": "execute_result"
    }
   ],
   "source": [
    "dir(type)"
   ]
  },
  {
   "cell_type": "code",
   "execution_count": 165,
   "id": "36325c55-8970-4e43-bf25-39aa0fea65fd",
   "metadata": {},
   "outputs": [],
   "source": [
    "# 추상화를 메타클래스로 만들수 있다.\n",
    "from abc import ABCMeta, ABC, abstractmethod"
   ]
  },
  {
   "cell_type": "code",
   "execution_count": 173,
   "id": "a6053c76-5f6c-47a0-ae0c-6f77e7fffeab",
   "metadata": {},
   "outputs": [],
   "source": [
    "class A(ABC):\n",
    "    # @abstractmethod\n",
    "    def x(self):\n",
    "        pass"
   ]
  },
  {
   "cell_type": "code",
   "execution_count": 174,
   "id": "111840b2-7391-4968-b5d7-abd5d7c7c9fe",
   "metadata": {},
   "outputs": [],
   "source": [
    "class B(A):\n",
    "    pass"
   ]
  },
  {
   "cell_type": "code",
   "execution_count": 175,
   "id": "889f9023-e98c-421d-876d-0a7749cb2fee",
   "metadata": {},
   "outputs": [],
   "source": [
    "b = B()"
   ]
  },
  {
   "cell_type": "code",
   "execution_count": 177,
   "id": "cfb508b0-b2a7-4e6e-96d5-e0e58711ad2d",
   "metadata": {},
   "outputs": [
    {
     "data": {
      "text/plain": [
       "<__main__.B at 0x2b1606910>"
      ]
     },
     "execution_count": 177,
     "metadata": {},
     "output_type": "execute_result"
    }
   ],
   "source": [
    "b"
   ]
  },
  {
   "cell_type": "code",
   "execution_count": 171,
   "id": "ff3a63a5-08f0-4b24-88e5-caf780d5abfa",
   "metadata": {},
   "outputs": [],
   "source": [
    "class AA(ABC):\n",
    "    @abstractmethod\n",
    "    def x(self):\n",
    "        pass"
   ]
  },
  {
   "cell_type": "code",
   "execution_count": 172,
   "id": "7b5f85fa-1f29-4eef-a526-fbbb0dd87639",
   "metadata": {},
   "outputs": [
    {
     "ename": "TypeError",
     "evalue": "Can't instantiate abstract class AA with abstract method x",
     "output_type": "error",
     "traceback": [
      "\u001b[0;31m---------------------------------------------------------------------------\u001b[0m",
      "\u001b[0;31mTypeError\u001b[0m                                 Traceback (most recent call last)",
      "Cell \u001b[0;32mIn[172], line 1\u001b[0m\n\u001b[0;32m----> 1\u001b[0m aa \u001b[38;5;241m=\u001b[39m \u001b[43mAA\u001b[49m\u001b[43m(\u001b[49m\u001b[43m)\u001b[49m\n\u001b[1;32m      2\u001b[0m aa\u001b[38;5;241m.\u001b[39mx()\n",
      "\u001b[0;31mTypeError\u001b[0m: Can't instantiate abstract class AA with abstract method x"
     ]
    }
   ],
   "source": [
    "aa = AA()\n",
    "aa.x()"
   ]
  },
  {
   "cell_type": "code",
   "execution_count": 100,
   "id": "51ae673d-2fb3-4c4e-b3b6-4fea0848535b",
   "metadata": {},
   "outputs": [],
   "source": [
    "# 상황에 따라서 어느것이 더 좋울지 결정할 수 있다.\n",
    "# 만약 클래스 단에서 제한을 주고 싶을 때 메타클래스를 사용하고.\n",
    "# 인스턴스를 관리하고 싶다면 클래스에서 제한한다.\n",
    "\n",
    "# 같은 추상화기법을 사용하지만, 상황에 따라 방법이 달라진다"
   ]
  },
  {
   "cell_type": "code",
   "execution_count": 103,
   "id": "b5bd39cf-8489-4117-b6a3-a1edd5a14b27",
   "metadata": {},
   "outputs": [
    {
     "name": "stdout",
     "output_type": "stream",
     "text": [
      "Collecting scikit-learn\n",
      "  Downloading scikit_learn-1.4.1.post1-cp311-cp311-macosx_12_0_arm64.whl.metadata (11 kB)\n",
      "Requirement already satisfied: numpy<2.0,>=1.19.5 in /Users/myoungjikim/2024_Korea_iisw/myvenv2/lib/python3.11/site-packages (from scikit-learn) (1.26.4)\n",
      "Collecting scipy>=1.6.0 (from scikit-learn)\n",
      "  Downloading scipy-1.12.0-cp311-cp311-macosx_12_0_arm64.whl.metadata (165 kB)\n",
      "\u001b[2K     \u001b[38;2;114;156;31m━━━━━━━━━━━━━━━━━━━━━━━━━━━━━━━━━━━━━\u001b[0m \u001b[32m165.4/165.4 kB\u001b[0m \u001b[31m430.2 kB/s\u001b[0m eta \u001b[36m0:00:00\u001b[0mm eta \u001b[36m0:00:01\u001b[0m0:01\u001b[0m\n",
      "\u001b[?25hCollecting joblib>=1.2.0 (from scikit-learn)\n",
      "  Downloading joblib-1.3.2-py3-none-any.whl.metadata (5.4 kB)\n",
      "Collecting threadpoolctl>=2.0.0 (from scikit-learn)\n",
      "  Downloading threadpoolctl-3.3.0-py3-none-any.whl.metadata (13 kB)\n",
      "Downloading scikit_learn-1.4.1.post1-cp311-cp311-macosx_12_0_arm64.whl (10.4 MB)\n",
      "\u001b[2K   \u001b[38;2;114;156;31m━━━━━━━━━━━━━━━━━━━━━━━━━━━━━━━━━━━━━━━━\u001b[0m \u001b[32m10.4/10.4 MB\u001b[0m \u001b[31m1.8 MB/s\u001b[0m eta \u001b[36m0:00:00\u001b[0mm eta \u001b[36m0:00:01\u001b[0m[36m0:00:01\u001b[0mm\n",
      "\u001b[?25hDownloading joblib-1.3.2-py3-none-any.whl (302 kB)\n",
      "\u001b[2K   \u001b[38;2;114;156;31m━━━━━━━━━━━━━━━━━━━━━━━━━━━━━━━━━━━━━━━━\u001b[0m \u001b[32m302.2/302.2 kB\u001b[0m \u001b[31m3.3 MB/s\u001b[0m eta \u001b[36m0:00:00\u001b[0m[31m3.8 MB/s\u001b[0m eta \u001b[36m0:00:01\u001b[0m\n",
      "\u001b[?25hDownloading scipy-1.12.0-cp311-cp311-macosx_12_0_arm64.whl (31.4 MB)\n",
      "\u001b[2K   \u001b[38;2;114;156;31m━━━━━━━━━━━━━━━━━━━━━━━━━━━━━━━━━━━━━━━━\u001b[0m \u001b[32m31.4/31.4 MB\u001b[0m \u001b[31m2.5 MB/s\u001b[0m eta \u001b[36m0:00:00\u001b[0mm eta \u001b[36m0:00:01\u001b[0m[36m0:00:01\u001b[0m\n",
      "\u001b[?25hDownloading threadpoolctl-3.3.0-py3-none-any.whl (17 kB)\n",
      "Installing collected packages: threadpoolctl, scipy, joblib, scikit-learn\n",
      "Successfully installed joblib-1.3.2 scikit-learn-1.4.1.post1 scipy-1.12.0 threadpoolctl-3.3.0\n",
      "\n",
      "\u001b[1m[\u001b[0m\u001b[34;49mnotice\u001b[0m\u001b[1;39;49m]\u001b[0m\u001b[39;49m A new release of pip is available: \u001b[0m\u001b[31;49m23.3.1\u001b[0m\u001b[39;49m -> \u001b[0m\u001b[32;49m24.0\u001b[0m\n",
      "\u001b[1m[\u001b[0m\u001b[34;49mnotice\u001b[0m\u001b[1;39;49m]\u001b[0m\u001b[39;49m To update, run: \u001b[0m\u001b[32;49mpip install --upgrade pip\u001b[0m\n",
      "Note: you may need to restart the kernel to use updated packages.\n"
     ]
    }
   ],
   "source": [
    "pip install -U scikit-learn"
   ]
  },
  {
   "cell_type": "code",
   "execution_count": 105,
   "id": "260375b1-ec24-4954-83a6-10044127dbb6",
   "metadata": {},
   "outputs": [],
   "source": [
    "from sklearn.naive_bayes import ABCMeta, GaussianNB"
   ]
  },
  {
   "cell_type": "code",
   "execution_count": 106,
   "id": "8f74812a-1d8a-4771-948e-412465cee658",
   "metadata": {},
   "outputs": [],
   "source": [
    "import inspect"
   ]
  },
  {
   "cell_type": "code",
   "execution_count": 107,
   "id": "9f117f4a-1615-4a03-8400-f6edd5856393",
   "metadata": {},
   "outputs": [],
   "source": [
    "# 두시간의 고통이 남아있다."
   ]
  },
  {
   "cell_type": "code",
   "execution_count": 108,
   "id": "5a56c8ad-58b4-4dac-9962-25930e4bfa03",
   "metadata": {},
   "outputs": [
    {
     "data": {
      "text/plain": [
       "[1,\n",
       " 2,\n",
       " 3,\n",
       " 4,\n",
       " 5,\n",
       " 6,\n",
       " 7,\n",
       " 8,\n",
       " 9,\n",
       " 10,\n",
       " 11,\n",
       " 12,\n",
       " 13,\n",
       " 14,\n",
       " 15,\n",
       " 16,\n",
       " 17,\n",
       " 18,\n",
       " 19,\n",
       " 20,\n",
       " 21,\n",
       " 22,\n",
       " 23,\n",
       " 24,\n",
       " 25,\n",
       " 26,\n",
       " 27,\n",
       " 28,\n",
       " 29,\n",
       " 30,\n",
       " 31,\n",
       " 32,\n",
       " 33,\n",
       " 34,\n",
       " 35,\n",
       " 36,\n",
       " 37,\n",
       " 38,\n",
       " 39,\n",
       " 40,\n",
       " 41,\n",
       " 42,\n",
       " 43,\n",
       " 44,\n",
       " 45,\n",
       " 46,\n",
       " 47,\n",
       " 48,\n",
       " 49,\n",
       " 50,\n",
       " 51,\n",
       " 52,\n",
       " 53,\n",
       " 54,\n",
       " 55,\n",
       " 56,\n",
       " 57,\n",
       " 58,\n",
       " 59,\n",
       " 60,\n",
       " 61,\n",
       " 62,\n",
       " 63,\n",
       " 64,\n",
       " 65,\n",
       " 66,\n",
       " 67,\n",
       " 68,\n",
       " 69,\n",
       " 70,\n",
       " 71,\n",
       " 72,\n",
       " 73,\n",
       " 74,\n",
       " 75,\n",
       " 76,\n",
       " 77,\n",
       " 78,\n",
       " 79,\n",
       " 80,\n",
       " 81,\n",
       " 82,\n",
       " 83,\n",
       " 84,\n",
       " 85,\n",
       " 86,\n",
       " 87,\n",
       " 88,\n",
       " 89,\n",
       " 90,\n",
       " 91,\n",
       " 92,\n",
       " 93,\n",
       " 94,\n",
       " 95,\n",
       " 96,\n",
       " 97,\n",
       " 98,\n",
       " 99,\n",
       " 100,\n",
       " 101,\n",
       " 102,\n",
       " 103,\n",
       " 104,\n",
       " 105,\n",
       " 106,\n",
       " 107,\n",
       " 108,\n",
       " 109,\n",
       " 110,\n",
       " 111,\n",
       " 112,\n",
       " 113,\n",
       " 114,\n",
       " 115,\n",
       " 116,\n",
       " 117,\n",
       " 118,\n",
       " 119,\n",
       " 120,\n",
       " 121,\n",
       " 122,\n",
       " 123,\n",
       " 124,\n",
       " 125,\n",
       " 126,\n",
       " 127,\n",
       " 128,\n",
       " 129,\n",
       " 130,\n",
       " 131,\n",
       " 132,\n",
       " 133,\n",
       " 134,\n",
       " 135,\n",
       " 136,\n",
       " 137,\n",
       " 138,\n",
       " 139,\n",
       " 140,\n",
       " 141,\n",
       " 142,\n",
       " 143,\n",
       " 144,\n",
       " 145,\n",
       " 146,\n",
       " 147,\n",
       " 148,\n",
       " 149,\n",
       " 150,\n",
       " 151,\n",
       " 152,\n",
       " 153,\n",
       " 154,\n",
       " 155,\n",
       " 156,\n",
       " 157,\n",
       " 158,\n",
       " 159,\n",
       " 160,\n",
       " 161,\n",
       " 162,\n",
       " 163,\n",
       " 164,\n",
       " 165,\n",
       " 166,\n",
       " 167,\n",
       " 168,\n",
       " 169,\n",
       " 170,\n",
       " 171,\n",
       " 172,\n",
       " 173,\n",
       " 174,\n",
       " 175,\n",
       " 176,\n",
       " 177,\n",
       " 178,\n",
       " 179,\n",
       " 180,\n",
       " 181,\n",
       " 182,\n",
       " 183,\n",
       " 184,\n",
       " 185,\n",
       " 186,\n",
       " 187,\n",
       " 188,\n",
       " 189,\n",
       " 190,\n",
       " 191,\n",
       " 192,\n",
       " 193,\n",
       " 194,\n",
       " 195,\n",
       " 196,\n",
       " 197,\n",
       " 198,\n",
       " 199,\n",
       " 200,\n",
       " 201,\n",
       " 202,\n",
       " 203,\n",
       " 204,\n",
       " 205,\n",
       " 206,\n",
       " 207,\n",
       " 208,\n",
       " 209,\n",
       " 210,\n",
       " 211,\n",
       " 212,\n",
       " 213,\n",
       " 214,\n",
       " 215,\n",
       " 216,\n",
       " 217,\n",
       " 218,\n",
       " 219,\n",
       " 220,\n",
       " 221,\n",
       " 222,\n",
       " 223,\n",
       " 224,\n",
       " 225,\n",
       " 226,\n",
       " 227,\n",
       " 228,\n",
       " 229,\n",
       " 230,\n",
       " 231,\n",
       " 232,\n",
       " 233,\n",
       " 234,\n",
       " 235,\n",
       " 236,\n",
       " 237,\n",
       " 238,\n",
       " 239,\n",
       " 240,\n",
       " 241,\n",
       " 242,\n",
       " 243,\n",
       " 244,\n",
       " 245,\n",
       " 246,\n",
       " 247,\n",
       " 248,\n",
       " 249,\n",
       " 250,\n",
       " 251,\n",
       " 252,\n",
       " 253,\n",
       " 254,\n",
       " 255,\n",
       " 256,\n",
       " 257,\n",
       " 258,\n",
       " 259,\n",
       " 260,\n",
       " 261,\n",
       " 262,\n",
       " 263,\n",
       " 264,\n",
       " 265,\n",
       " 266,\n",
       " 267,\n",
       " 268,\n",
       " 269,\n",
       " 270,\n",
       " 271,\n",
       " 272,\n",
       " 273,\n",
       " 274,\n",
       " 275,\n",
       " 276,\n",
       " 277,\n",
       " 278,\n",
       " 279,\n",
       " 280,\n",
       " 281,\n",
       " 282,\n",
       " 283,\n",
       " 284,\n",
       " 285,\n",
       " 286,\n",
       " 287,\n",
       " 288,\n",
       " 289,\n",
       " 290,\n",
       " 291,\n",
       " 292,\n",
       " 293,\n",
       " 294,\n",
       " 295,\n",
       " 296,\n",
       " 297,\n",
       " 298,\n",
       " 299,\n",
       " 300,\n",
       " 301,\n",
       " 302,\n",
       " 303,\n",
       " 304,\n",
       " 305,\n",
       " 306,\n",
       " 307,\n",
       " 308,\n",
       " 309,\n",
       " 310,\n",
       " 311,\n",
       " 312,\n",
       " 313,\n",
       " 314,\n",
       " 315,\n",
       " 316,\n",
       " 317,\n",
       " 318,\n",
       " 319,\n",
       " 320,\n",
       " 321,\n",
       " 322,\n",
       " 323,\n",
       " 324,\n",
       " 325,\n",
       " 326,\n",
       " 327,\n",
       " 328,\n",
       " 329,\n",
       " 330,\n",
       " 331,\n",
       " 332,\n",
       " 333,\n",
       " 334,\n",
       " 335,\n",
       " 336,\n",
       " 337,\n",
       " 338,\n",
       " 339,\n",
       " 340,\n",
       " 341,\n",
       " 342,\n",
       " 343,\n",
       " 344,\n",
       " 345,\n",
       " 346,\n",
       " 347,\n",
       " 348,\n",
       " 349,\n",
       " 350,\n",
       " 351,\n",
       " 352,\n",
       " 353,\n",
       " 354,\n",
       " 355,\n",
       " 356,\n",
       " 357,\n",
       " 358,\n",
       " 359,\n",
       " 360,\n",
       " 361,\n",
       " 362,\n",
       " 363,\n",
       " 364,\n",
       " 365,\n",
       " 366,\n",
       " 367,\n",
       " 368,\n",
       " 369,\n",
       " 370,\n",
       " 371,\n",
       " 372,\n",
       " 373,\n",
       " 374,\n",
       " 375,\n",
       " 376,\n",
       " 377,\n",
       " 378,\n",
       " 379,\n",
       " 380,\n",
       " 381,\n",
       " 382,\n",
       " 383,\n",
       " 384,\n",
       " 385,\n",
       " 386,\n",
       " 387,\n",
       " 388,\n",
       " 389,\n",
       " 390,\n",
       " 391,\n",
       " 392,\n",
       " 393,\n",
       " 394,\n",
       " 395,\n",
       " 396,\n",
       " 397,\n",
       " 398,\n",
       " 399,\n",
       " 400,\n",
       " 401,\n",
       " 402,\n",
       " 403,\n",
       " 404,\n",
       " 405,\n",
       " 406,\n",
       " 407,\n",
       " 408,\n",
       " 409,\n",
       " 410,\n",
       " 411,\n",
       " 412,\n",
       " 413,\n",
       " 414,\n",
       " 415,\n",
       " 416,\n",
       " 417,\n",
       " 418,\n",
       " 419,\n",
       " 420,\n",
       " 421,\n",
       " 422,\n",
       " 423,\n",
       " 424,\n",
       " 425,\n",
       " 426,\n",
       " 427,\n",
       " 428,\n",
       " 429,\n",
       " 430,\n",
       " 431,\n",
       " 432,\n",
       " 433,\n",
       " 434,\n",
       " 435,\n",
       " 436,\n",
       " 437,\n",
       " 438,\n",
       " 439,\n",
       " 440,\n",
       " 441,\n",
       " 442,\n",
       " 443,\n",
       " 444,\n",
       " 445,\n",
       " 446,\n",
       " 447,\n",
       " 448,\n",
       " 449,\n",
       " 450,\n",
       " 451,\n",
       " 452,\n",
       " 453,\n",
       " 454,\n",
       " 455,\n",
       " 456,\n",
       " 457,\n",
       " 458,\n",
       " 459,\n",
       " 460,\n",
       " 461,\n",
       " 462,\n",
       " 463,\n",
       " 464,\n",
       " 465,\n",
       " 466,\n",
       " 467,\n",
       " 468,\n",
       " 469,\n",
       " 470,\n",
       " 471,\n",
       " 472,\n",
       " 473,\n",
       " 474,\n",
       " 475,\n",
       " 476,\n",
       " 477,\n",
       " 478,\n",
       " 479,\n",
       " 480,\n",
       " 481,\n",
       " 482,\n",
       " 483,\n",
       " 484,\n",
       " 485,\n",
       " 486,\n",
       " 487,\n",
       " 488,\n",
       " 489,\n",
       " 490,\n",
       " 491,\n",
       " 492,\n",
       " 493,\n",
       " 494,\n",
       " 495,\n",
       " 496,\n",
       " 497,\n",
       " 498,\n",
       " 499,\n",
       " 500,\n",
       " 501,\n",
       " 502,\n",
       " 503,\n",
       " 504,\n",
       " 505,\n",
       " 506,\n",
       " 507,\n",
       " 508,\n",
       " 509,\n",
       " 510,\n",
       " 511,\n",
       " 512,\n",
       " 513,\n",
       " 514,\n",
       " 515,\n",
       " 516,\n",
       " 517,\n",
       " 518,\n",
       " 519,\n",
       " 520,\n",
       " 521,\n",
       " 522,\n",
       " 523,\n",
       " 524,\n",
       " 525,\n",
       " 526,\n",
       " 527,\n",
       " 528,\n",
       " 529,\n",
       " 530,\n",
       " 531,\n",
       " 532,\n",
       " 533,\n",
       " 534,\n",
       " 535,\n",
       " 536,\n",
       " 537,\n",
       " 538,\n",
       " 539,\n",
       " 540,\n",
       " 541,\n",
       " 542,\n",
       " 543,\n",
       " 544,\n",
       " 545,\n",
       " 546,\n",
       " 547,\n",
       " 548,\n",
       " 549,\n",
       " 550,\n",
       " 551,\n",
       " 552,\n",
       " 553,\n",
       " 554,\n",
       " 555,\n",
       " 556,\n",
       " 557,\n",
       " 558,\n",
       " 559,\n",
       " 560,\n",
       " 561,\n",
       " 562,\n",
       " 563,\n",
       " 564,\n",
       " 565,\n",
       " 566,\n",
       " 567,\n",
       " 568,\n",
       " 569,\n",
       " 570,\n",
       " 571,\n",
       " 572,\n",
       " 573,\n",
       " 574,\n",
       " 575,\n",
       " 576,\n",
       " 577,\n",
       " 578,\n",
       " 579,\n",
       " 580,\n",
       " 581,\n",
       " 582,\n",
       " 583,\n",
       " 584,\n",
       " 585,\n",
       " 586,\n",
       " 587,\n",
       " 588,\n",
       " 589,\n",
       " 590,\n",
       " 591,\n",
       " 592,\n",
       " 593,\n",
       " 594,\n",
       " 595,\n",
       " 596,\n",
       " 597,\n",
       " 598,\n",
       " 599,\n",
       " 600,\n",
       " 601,\n",
       " 602,\n",
       " 603,\n",
       " 604,\n",
       " 605,\n",
       " 606,\n",
       " 607,\n",
       " 608,\n",
       " 609,\n",
       " 610,\n",
       " 611,\n",
       " 612,\n",
       " 613,\n",
       " 614,\n",
       " 615,\n",
       " 616,\n",
       " 617,\n",
       " 618,\n",
       " 619,\n",
       " 620,\n",
       " 621,\n",
       " 622,\n",
       " 623,\n",
       " 624,\n",
       " 625,\n",
       " 626,\n",
       " 627,\n",
       " 628,\n",
       " 629,\n",
       " 630,\n",
       " 631,\n",
       " 632,\n",
       " 633,\n",
       " 634,\n",
       " 635,\n",
       " 636,\n",
       " 637,\n",
       " 638,\n",
       " 639,\n",
       " 640,\n",
       " 641,\n",
       " 642,\n",
       " 643,\n",
       " 644,\n",
       " 645,\n",
       " 646,\n",
       " 647,\n",
       " 648,\n",
       " 649,\n",
       " 650,\n",
       " 651,\n",
       " 652,\n",
       " 653,\n",
       " 654,\n",
       " 655,\n",
       " 656,\n",
       " 657,\n",
       " 658,\n",
       " 659,\n",
       " 660,\n",
       " 661,\n",
       " 662,\n",
       " 663,\n",
       " 664,\n",
       " 665,\n",
       " 666,\n",
       " 667,\n",
       " 668,\n",
       " 669,\n",
       " 670,\n",
       " 671,\n",
       " 672,\n",
       " 673,\n",
       " 674,\n",
       " 675,\n",
       " 676,\n",
       " 677,\n",
       " 678,\n",
       " 679,\n",
       " 680,\n",
       " 681,\n",
       " 682,\n",
       " 683,\n",
       " 684,\n",
       " 685,\n",
       " 686,\n",
       " 687,\n",
       " 688,\n",
       " 689,\n",
       " 690,\n",
       " 691,\n",
       " 692,\n",
       " 693,\n",
       " 694,\n",
       " 695,\n",
       " 696,\n",
       " 697,\n",
       " 698,\n",
       " 699,\n",
       " 700,\n",
       " 701,\n",
       " 702,\n",
       " 703,\n",
       " 704,\n",
       " 705,\n",
       " 706,\n",
       " 707,\n",
       " 708,\n",
       " 709,\n",
       " 710,\n",
       " 711,\n",
       " 712,\n",
       " 713,\n",
       " 714,\n",
       " 715,\n",
       " 716,\n",
       " 717,\n",
       " 718,\n",
       " 719,\n",
       " 720,\n",
       " 721,\n",
       " 722,\n",
       " 723,\n",
       " 724,\n",
       " 725,\n",
       " 726,\n",
       " 727,\n",
       " 728,\n",
       " 729,\n",
       " 730,\n",
       " 731,\n",
       " 732,\n",
       " 733,\n",
       " 734,\n",
       " 735,\n",
       " 736,\n",
       " 737,\n",
       " 738,\n",
       " 739,\n",
       " 740,\n",
       " 741,\n",
       " 742,\n",
       " 743,\n",
       " 744,\n",
       " 745,\n",
       " 746,\n",
       " 747,\n",
       " 748,\n",
       " 749,\n",
       " 750,\n",
       " 751,\n",
       " 752,\n",
       " 753,\n",
       " 754,\n",
       " 755,\n",
       " 756,\n",
       " 757,\n",
       " 758,\n",
       " 759,\n",
       " 760,\n",
       " 761,\n",
       " 762,\n",
       " 763,\n",
       " 764,\n",
       " 765,\n",
       " 766,\n",
       " 767,\n",
       " 768,\n",
       " 769,\n",
       " 770,\n",
       " 771,\n",
       " 772,\n",
       " 773,\n",
       " 774,\n",
       " 775,\n",
       " 776,\n",
       " 777,\n",
       " 778,\n",
       " 779,\n",
       " 780,\n",
       " 781,\n",
       " 782,\n",
       " 783,\n",
       " 784,\n",
       " 785,\n",
       " 786,\n",
       " 787,\n",
       " 788,\n",
       " 789,\n",
       " 790,\n",
       " 791,\n",
       " 792,\n",
       " 793,\n",
       " 794,\n",
       " 795,\n",
       " 796,\n",
       " 797,\n",
       " 798,\n",
       " 799,\n",
       " 800,\n",
       " 801,\n",
       " 802,\n",
       " 803,\n",
       " 804,\n",
       " 805,\n",
       " 806,\n",
       " 807,\n",
       " 808,\n",
       " 809,\n",
       " 810,\n",
       " 811,\n",
       " 812,\n",
       " 813,\n",
       " 814,\n",
       " 815,\n",
       " 816,\n",
       " 817,\n",
       " 818,\n",
       " 819,\n",
       " 820,\n",
       " 821,\n",
       " 822,\n",
       " 823,\n",
       " 824,\n",
       " 825,\n",
       " 826,\n",
       " 827,\n",
       " 828,\n",
       " 829,\n",
       " 830,\n",
       " 831,\n",
       " 832,\n",
       " 833,\n",
       " 834,\n",
       " 835,\n",
       " 836,\n",
       " 837,\n",
       " 838,\n",
       " 839,\n",
       " 840,\n",
       " 841,\n",
       " 842,\n",
       " 843,\n",
       " 844,\n",
       " 845,\n",
       " 846,\n",
       " 847,\n",
       " 848,\n",
       " 849,\n",
       " 850,\n",
       " 851,\n",
       " 852,\n",
       " 853,\n",
       " 854,\n",
       " 855,\n",
       " 856,\n",
       " 857,\n",
       " 858,\n",
       " 859,\n",
       " 860,\n",
       " 861,\n",
       " 862,\n",
       " 863,\n",
       " 864,\n",
       " 865,\n",
       " 866,\n",
       " 867,\n",
       " 868,\n",
       " 869,\n",
       " 870,\n",
       " 871,\n",
       " 872,\n",
       " 873,\n",
       " 874,\n",
       " 875,\n",
       " 876,\n",
       " 877,\n",
       " 878,\n",
       " 879,\n",
       " 880,\n",
       " 881,\n",
       " 882,\n",
       " 883,\n",
       " 884,\n",
       " 885,\n",
       " 886,\n",
       " 887,\n",
       " 888,\n",
       " 889,\n",
       " 890,\n",
       " 891,\n",
       " 892,\n",
       " 893,\n",
       " 894,\n",
       " 895,\n",
       " 896,\n",
       " 897,\n",
       " 898,\n",
       " 899,\n",
       " 900,\n",
       " 901,\n",
       " 902,\n",
       " 903,\n",
       " 904,\n",
       " 905,\n",
       " 906,\n",
       " 907,\n",
       " 908,\n",
       " 909,\n",
       " 910,\n",
       " 911,\n",
       " 912,\n",
       " 913,\n",
       " 914,\n",
       " 915,\n",
       " 916,\n",
       " 917,\n",
       " 918,\n",
       " 919,\n",
       " 920,\n",
       " 921,\n",
       " 922,\n",
       " 923,\n",
       " 924,\n",
       " 925,\n",
       " 926,\n",
       " 927,\n",
       " 928,\n",
       " 929,\n",
       " 930,\n",
       " 931,\n",
       " 932,\n",
       " 933,\n",
       " 934,\n",
       " 935,\n",
       " 936,\n",
       " 937,\n",
       " 938,\n",
       " 939,\n",
       " 940,\n",
       " 941,\n",
       " 942,\n",
       " 943,\n",
       " 944,\n",
       " 945,\n",
       " 946,\n",
       " 947,\n",
       " 948,\n",
       " 949,\n",
       " 950,\n",
       " 951,\n",
       " 952,\n",
       " 953,\n",
       " 954,\n",
       " 955,\n",
       " 956,\n",
       " 957,\n",
       " 958,\n",
       " 959,\n",
       " 960,\n",
       " 961,\n",
       " 962,\n",
       " 963,\n",
       " 964,\n",
       " 965,\n",
       " 966,\n",
       " 967,\n",
       " 968,\n",
       " 969,\n",
       " 970,\n",
       " 971,\n",
       " 972,\n",
       " 973,\n",
       " 974,\n",
       " 975,\n",
       " 976,\n",
       " 977,\n",
       " 978,\n",
       " 979,\n",
       " 980,\n",
       " 981,\n",
       " 982,\n",
       " 983,\n",
       " 984,\n",
       " 985,\n",
       " 986,\n",
       " 987,\n",
       " 988,\n",
       " 989,\n",
       " 990,\n",
       " 991,\n",
       " 992,\n",
       " 993,\n",
       " 994,\n",
       " 995,\n",
       " 996,\n",
       " 997,\n",
       " 998,\n",
       " 999,\n",
       " 1000,\n",
       " ...]"
      ]
     },
     "execution_count": 108,
     "metadata": {},
     "output_type": "execute_result"
    }
   ],
   "source": [
    "## 하이어오더함수\n",
    "## map, filter, reduce\n",
    "\n",
    "## 1 ~ 1000000 더하기\n",
    "[i+1 for i in range(1000001)]"
   ]
  },
  {
   "cell_type": "code",
   "execution_count": 113,
   "id": "6f4b9cbc-beae-42a0-b311-af80a1bcf534",
   "metadata": {},
   "outputs": [
    {
     "data": {
      "text/plain": [
       "[2, 3, 4, 5, 6]"
      ]
     },
     "execution_count": 113,
     "metadata": {},
     "output_type": "execute_result"
    }
   ],
   "source": [
    "a = [1,2,3,4,5]\n",
    "[i+1 for i in a]"
   ]
  },
  {
   "cell_type": "code",
   "execution_count": 117,
   "id": "e715bb05-df3b-4a09-aca1-4a458d0fe2a1",
   "metadata": {},
   "outputs": [],
   "source": [
    "a = [1,2,3,4,5]\n",
    "b = map(lambda x:x+1, a)    # 무엇을 해야할지만 생각할 수 있기 때문에 논리가 명확해진다.\n",
    "                            # 내부인자도 이터레이터로 변환, 반환도 이터레이터\n",
    "                            # 메모리적으로 더 유리하다. 이터레이터***\n",
    "                            # 맵의 핵심은 인자로 들어가는 함수다. 수학적 능력이 떨어지면 멥의 활용성이 떨어진다.\n",
    "                            # 수학없는 어쩌구 == 유혹하는 것이다. \n",
    "                            # 수학의 컨셉을 아는 것이 중요하다. 계산의 시대는 끝 \n",
    "c = filter(lambda x:x>1, a)\n",
    "# d = reduce() ???  줄이다."
   ]
  },
  {
   "cell_type": "code",
   "execution_count": 120,
   "id": "71e74dca-b8cf-490d-8730-a8ec343b2532",
   "metadata": {},
   "outputs": [
    {
     "data": {
      "text/plain": [
       "4"
      ]
     },
     "execution_count": 120,
     "metadata": {},
     "output_type": "execute_result"
    }
   ],
   "source": [
    "next(b)"
   ]
  },
  {
   "cell_type": "code",
   "execution_count": 122,
   "id": "18695b22-9700-426b-837f-dc5bb0f4a0a5",
   "metadata": {},
   "outputs": [],
   "source": [
    "# 부족한 부분 공부한다. -- 이분야의 꽃길은 없다\n",
    "# 시대가 계속 바뀌기 때문에 시간이 오래 걸린다. \n",
    "# 한번 눈이 높아지면 낮출 수가 없다. 계속 공부할 수 밖에 없다."
   ]
  },
  {
   "cell_type": "code",
   "execution_count": 178,
   "id": "fd8439b0-a612-4c50-8e64-bd01326360e7",
   "metadata": {},
   "outputs": [
    {
     "name": "stdout",
     "output_type": "stream",
     "text": [
      "The history saving thread hit an unexpected error (OperationalError('attempt to write a readonly database')).History will not be written to the database.\n"
     ]
    },
    {
     "ename": "TypeError",
     "evalue": "A.__new__() takes 1 positional argument but 4 were given",
     "output_type": "error",
     "traceback": [
      "\u001b[0;31m---------------------------------------------------------------------------\u001b[0m",
      "\u001b[0;31mTypeError\u001b[0m                                 Traceback (most recent call last)",
      "Cell \u001b[0;32mIn[178], line 13\u001b[0m\n\u001b[1;32m     10\u001b[0m \t\u001b[38;5;28;01mdef\u001b[39;00m \u001b[38;5;21maa\u001b[39m():\n\u001b[1;32m     11\u001b[0m \t\t\u001b[38;5;28mprint\u001b[39m(\u001b[38;5;124m'\u001b[39m\u001b[38;5;124maa\u001b[39m\u001b[38;5;124m'\u001b[39m)\n\u001b[0;32m---> 13\u001b[0m \u001b[38;5;28;43;01mclass\u001b[39;49;00m\u001b[43m \u001b[49m\u001b[38;5;21;43;01mB\u001b[39;49;00m\u001b[43m(\u001b[49m\u001b[38;5;28;43mobject\u001b[39;49m\u001b[43m,\u001b[49m\u001b[43m \u001b[49m\u001b[43mmetaclass\u001b[49m\u001b[38;5;241;43m=\u001b[39;49m\u001b[43mA\u001b[49m\u001b[43m)\u001b[49m\u001b[43m:\u001b[49m\n\u001b[1;32m     14\u001b[0m \u001b[43m\t\u001b[49m\u001b[43mb\u001b[49m\u001b[43m \u001b[49m\u001b[38;5;241;43m=\u001b[39;49m\u001b[43m \u001b[49m\u001b[38;5;241;43m2\u001b[39;49m\n\u001b[1;32m     15\u001b[0m \u001b[43m\t\u001b[49m\u001b[38;5;28;43;01mdef\u001b[39;49;00m\u001b[43m \u001b[49m\u001b[38;5;21;43m__new__\u001b[39;49m\u001b[43m(\u001b[49m\u001b[38;5;28;43mcls\u001b[39;49m\u001b[43m)\u001b[49m\u001b[43m:\u001b[49m\n",
      "\u001b[0;31mTypeError\u001b[0m: A.__new__() takes 1 positional argument but 4 were given"
     ]
    }
   ],
   "source": [
    "class A(type):\n",
    "\ta = 1\n",
    "\tdef __new__(cls):\n",
    "\t\tprint('cls:', cls)\n",
    "\t\tprint('create new instance of metaclass A')\n",
    "\t\treturn super().__new__(cls)\n",
    "\tdef __init__(self):\n",
    "\t\tprint('self:', self)\n",
    "\t\tprint('initiate instance of metaclass A')\n",
    "\tdef aa():\n",
    "\t\tprint('aa')\n",
    "\n",
    "class B(object, metaclass=A):\n",
    "\tb = 2\n",
    "\tdef __new__(cls):\n",
    "\t\tprint('cls:', cls)\n",
    "\t\tprint(\"create new instance of class B\")\n",
    "\t\treturn super().__new__(cls)\n",
    "\tdef __init__(self):\n",
    "\t\tprint('self:', self)\n",
    "\t\tprint('initiate instance of class B')\n",
    "\n",
    "class C(B):\n",
    "\tc = 3\n",
    "\tdef __new__(cls):\n",
    "\t\tprint('create new instance of subclass C')\n",
    "\t\treturn super().__new__(cls)\n",
    "\tdef __init__(self):\n",
    "\t\tprint('self:', self)\n",
    "\t\tprint('initiate instance of subclass C')"
   ]
  },
  {
   "cell_type": "code",
   "execution_count": null,
   "id": "efe7c6b9-9c57-45ed-8236-98638686c768",
   "metadata": {},
   "outputs": [],
   "source": []
  }
 ],
 "metadata": {
  "kernelspec": {
   "display_name": "Python 3 (ipykernel)",
   "language": "python",
   "name": "python3"
  },
  "language_info": {
   "codemirror_mode": {
    "name": "ipython",
    "version": 3
   },
   "file_extension": ".py",
   "mimetype": "text/x-python",
   "name": "python",
   "nbconvert_exporter": "python",
   "pygments_lexer": "ipython3",
   "version": "3.11.8"
  }
 },
 "nbformat": 4,
 "nbformat_minor": 5
}
