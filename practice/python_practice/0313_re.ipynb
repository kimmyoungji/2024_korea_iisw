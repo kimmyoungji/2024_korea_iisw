{
 "cells": [
  {
   "cell_type": "code",
   "execution_count": 1,
   "id": "3c1b4fff-4962-4e73-8a60-228aa0feb970",
   "metadata": {},
   "outputs": [],
   "source": [
    "# 두 클래스를 정의하고 dir(), set(), 대칭차집합을 사용하여 네임스페이스를 비교하였다."
   ]
  },
  {
   "cell_type": "code",
   "execution_count": 14,
   "id": "5d38ad3c-1d71-4bf5-93cd-9e0cf85fd2ad",
   "metadata": {},
   "outputs": [],
   "source": [
    "class A:\n",
    "    x = 1\n",
    "\n",
    "a = A()\n",
    "sa = set(dir(a)) \n",
    "saa = set(dir(A))"
   ]
  },
  {
   "cell_type": "code",
   "execution_count": 15,
   "id": "3ebdb1ad-e056-4822-b63c-a63e462de51d",
   "metadata": {},
   "outputs": [
    {
     "data": {
      "text/plain": [
       "set()"
      ]
     },
     "execution_count": 15,
     "metadata": {},
     "output_type": "execute_result"
    }
   ],
   "source": [
    "sa - saa"
   ]
  },
  {
   "cell_type": "code",
   "execution_count": 16,
   "id": "f2d07cef-de94-4e79-9b75-7bd45e1c8c92",
   "metadata": {},
   "outputs": [
    {
     "data": {
      "text/plain": [
       "set()"
      ]
     },
     "execution_count": 16,
     "metadata": {},
     "output_type": "execute_result"
    }
   ],
   "source": [
    "sa - saa"
   ]
  },
  {
   "cell_type": "code",
   "execution_count": 17,
   "id": "3ded5ade-188d-445c-ab29-717c41af972d",
   "metadata": {},
   "outputs": [],
   "source": [
    "# 두 클래스의 dir() 결과가 동일하다. 왜 동일할까? "
   ]
  },
  {
   "cell_type": "code",
   "execution_count": 20,
   "id": "60f2e9df-3943-4aad-9be5-06cded808997",
   "metadata": {
    "scrolled": true
   },
   "outputs": [
    {
     "data": {
      "text/plain": [
       "(__main__.A,\n",
       " type,\n",
       " ['__class__',\n",
       "  '__delattr__',\n",
       "  '__dict__',\n",
       "  '__dir__',\n",
       "  '__doc__',\n",
       "  '__eq__',\n",
       "  '__format__',\n",
       "  '__ge__',\n",
       "  '__getattribute__',\n",
       "  '__getstate__',\n",
       "  '__gt__',\n",
       "  '__hash__',\n",
       "  '__init__',\n",
       "  '__init_subclass__',\n",
       "  '__le__',\n",
       "  '__lt__',\n",
       "  '__module__',\n",
       "  '__ne__',\n",
       "  '__new__',\n",
       "  '__reduce__',\n",
       "  '__reduce_ex__',\n",
       "  '__repr__',\n",
       "  '__setattr__',\n",
       "  '__sizeof__',\n",
       "  '__str__',\n",
       "  '__subclasshook__',\n",
       "  '__weakref__',\n",
       "  'x'],\n",
       " ['__class__',\n",
       "  '__delattr__',\n",
       "  '__dict__',\n",
       "  '__dir__',\n",
       "  '__doc__',\n",
       "  '__eq__',\n",
       "  '__format__',\n",
       "  '__ge__',\n",
       "  '__getattribute__',\n",
       "  '__getstate__',\n",
       "  '__gt__',\n",
       "  '__hash__',\n",
       "  '__init__',\n",
       "  '__init_subclass__',\n",
       "  '__le__',\n",
       "  '__lt__',\n",
       "  '__module__',\n",
       "  '__ne__',\n",
       "  '__new__',\n",
       "  '__reduce__',\n",
       "  '__reduce_ex__',\n",
       "  '__repr__',\n",
       "  '__setattr__',\n",
       "  '__sizeof__',\n",
       "  '__str__',\n",
       "  '__subclasshook__',\n",
       "  '__weakref__',\n",
       "  'x'])"
      ]
     },
     "execution_count": 20,
     "metadata": {},
     "output_type": "execute_result"
    }
   ],
   "source": [
    "type(a), type(A), dir(a), dir(A)"
   ]
  },
  {
   "cell_type": "code",
   "execution_count": 19,
   "id": "ca0e95bd-7090-4659-92fa-a4b5bbcfdb61",
   "metadata": {
    "scrolled": true
   },
   "outputs": [
    {
     "data": {
      "text/plain": [
       "(['__class__',\n",
       "  '__delattr__',\n",
       "  '__dict__',\n",
       "  '__dir__',\n",
       "  '__doc__',\n",
       "  '__eq__',\n",
       "  '__format__',\n",
       "  '__ge__',\n",
       "  '__getattribute__',\n",
       "  '__getstate__',\n",
       "  '__gt__',\n",
       "  '__hash__',\n",
       "  '__init__',\n",
       "  '__init_subclass__',\n",
       "  '__le__',\n",
       "  '__lt__',\n",
       "  '__module__',\n",
       "  '__ne__',\n",
       "  '__new__',\n",
       "  '__reduce__',\n",
       "  '__reduce_ex__',\n",
       "  '__repr__',\n",
       "  '__setattr__',\n",
       "  '__sizeof__',\n",
       "  '__str__',\n",
       "  '__subclasshook__',\n",
       "  '__weakref__',\n",
       "  'x'],\n",
       " ['__class__',\n",
       "  '__delattr__',\n",
       "  '__dict__',\n",
       "  '__dir__',\n",
       "  '__doc__',\n",
       "  '__eq__',\n",
       "  '__format__',\n",
       "  '__ge__',\n",
       "  '__getattribute__',\n",
       "  '__getstate__',\n",
       "  '__gt__',\n",
       "  '__hash__',\n",
       "  '__init__',\n",
       "  '__init_subclass__',\n",
       "  '__le__',\n",
       "  '__lt__',\n",
       "  '__module__',\n",
       "  '__ne__',\n",
       "  '__new__',\n",
       "  '__reduce__',\n",
       "  '__reduce_ex__',\n",
       "  '__repr__',\n",
       "  '__setattr__',\n",
       "  '__sizeof__',\n",
       "  '__str__',\n",
       "  '__subclasshook__',\n",
       "  '__weakref__',\n",
       "  'x'])"
      ]
     },
     "execution_count": 19,
     "metadata": {},
     "output_type": "execute_result"
    }
   ],
   "source": []
  },
  {
   "cell_type": "code",
   "execution_count": 28,
   "id": "9a05df73-a625-4622-ba54-f925982a28d7",
   "metadata": {},
   "outputs": [],
   "source": [
    "##################"
   ]
  },
  {
   "cell_type": "code",
   "execution_count": null,
   "id": "bd43f7b2-2e64-4d88-bc3a-d55f1cf16c79",
   "metadata": {},
   "outputs": [],
   "source": [
    "# 클래스의 인스턴스 변수는 메소드가 실행될 때"
   ]
  },
  {
   "cell_type": "code",
   "execution_count": 69,
   "id": "0d7a5a34-fb50-4422-978f-de93cf80ccba",
   "metadata": {},
   "outputs": [],
   "source": [
    "class AA:\n",
    "    programming = 'nice to meet you'\n",
    "    def __init__(self, x):\n",
    "        self.hello = x\n",
    "        self.python = 'python'"
   ]
  },
  {
   "cell_type": "code",
   "execution_count": 70,
   "id": "e03c9c65-f2fc-43ae-91ae-6dea3351a9ea",
   "metadata": {},
   "outputs": [
    {
     "data": {
      "text/plain": [
       "mappingproxy({'__module__': '__main__',\n",
       "              'programming': 'nice to meet you',\n",
       "              '__init__': <function __main__.AA.__init__(self, x)>,\n",
       "              '__dict__': <attribute '__dict__' of 'AA' objects>,\n",
       "              '__weakref__': <attribute '__weakref__' of 'AA' objects>,\n",
       "              '__doc__': None})"
      ]
     },
     "execution_count": 70,
     "metadata": {},
     "output_type": "execute_result"
    }
   ],
   "source": [
    "vars(AA)"
   ]
  },
  {
   "cell_type": "code",
   "execution_count": 71,
   "id": "957bd89f-f37c-44aa-b753-4ef4e5da4d6d",
   "metadata": {},
   "outputs": [],
   "source": [
    "aa = AA(\"hello\")"
   ]
  },
  {
   "cell_type": "code",
   "execution_count": 72,
   "id": "3ec72add-d43c-4baf-9dfc-dc32ec1609ab",
   "metadata": {},
   "outputs": [
    {
     "data": {
      "text/plain": [
       "(mappingproxy({'__module__': '__main__',\n",
       "               'programming': 'nice to meet you',\n",
       "               '__init__': <function __main__.AA.__init__(self, x)>,\n",
       "               '__dict__': <attribute '__dict__' of 'AA' objects>,\n",
       "               '__weakref__': <attribute '__weakref__' of 'AA' objects>,\n",
       "               '__doc__': None}),\n",
       " {'hello': 'hello', 'python': 'python'})"
      ]
     },
     "execution_count": 72,
     "metadata": {},
     "output_type": "execute_result"
    }
   ],
   "source": [
    "vars(AA), vars(aa)"
   ]
  },
  {
   "cell_type": "code",
   "execution_count": 73,
   "id": "786afdf6-68e7-465f-ae56-8156d3ba0742",
   "metadata": {},
   "outputs": [
    {
     "data": {
      "text/plain": [
       "{'hello', 'python'}"
      ]
     },
     "execution_count": 73,
     "metadata": {},
     "output_type": "execute_result"
    }
   ],
   "source": [
    "set(dir(aa)) - set(dir(AA))"
   ]
  },
  {
   "cell_type": "code",
   "execution_count": 74,
   "id": "b55b3ca4-05c5-4c95-91b2-9e689f4842d6",
   "metadata": {},
   "outputs": [
    {
     "data": {
      "text/plain": [
       "set()"
      ]
     },
     "execution_count": 74,
     "metadata": {},
     "output_type": "execute_result"
    }
   ],
   "source": [
    " set(dir(AA)) - set(dir(aa))"
   ]
  },
  {
   "cell_type": "code",
   "execution_count": 75,
   "id": "10b9d9d2-a3e4-4d85-89e2-f610b0570bf5",
   "metadata": {},
   "outputs": [
    {
     "data": {
      "text/plain": [
       "{'hello', 'python'}"
      ]
     },
     "execution_count": 75,
     "metadata": {},
     "output_type": "execute_result"
    }
   ],
   "source": [
    " set(dir(AA)) ^ set(dir(aa))  #대칭차집합"
   ]
  },
  {
   "cell_type": "code",
   "execution_count": 76,
   "id": "a966da8b-f34a-491c-b474-ff5adcf48de5",
   "metadata": {},
   "outputs": [],
   "source": [
    "# dir() 과 vars()의 차이가 뭐지?"
   ]
  },
  {
   "cell_type": "code",
   "execution_count": 77,
   "id": "28a6f703-d062-4d47-927f-a25189bf1c27",
   "metadata": {},
   "outputs": [],
   "source": [
    "# dir() : 모듈을 정의하는 이름들을 출력, 변수, 모듈, 함수등 모든 형의 이름을 나열한다.\n",
    "# vars() : __dict__ 속성값 출력\n",
    "# __dict__ : 객체의 어트리뷰트를 저장하는데 사용되는 딕셔너리나 매핑 객체"
   ]
  },
  {
   "cell_type": "code",
   "execution_count": 78,
   "id": "53a4de57-3748-42e2-a4f1-a3033a335fc2",
   "metadata": {},
   "outputs": [],
   "source": [
    "aa_dir = set(dir(aa))\n",
    "aa_dict = set(aa.__dict__)"
   ]
  },
  {
   "cell_type": "code",
   "execution_count": 79,
   "id": "6ecd259d-74dd-441f-89c8-f3859616f67e",
   "metadata": {},
   "outputs": [
    {
     "data": {
      "text/plain": [
       "{'__class__',\n",
       " '__delattr__',\n",
       " '__dict__',\n",
       " '__dir__',\n",
       " '__doc__',\n",
       " '__eq__',\n",
       " '__format__',\n",
       " '__ge__',\n",
       " '__getattribute__',\n",
       " '__getstate__',\n",
       " '__gt__',\n",
       " '__hash__',\n",
       " '__init__',\n",
       " '__init_subclass__',\n",
       " '__le__',\n",
       " '__lt__',\n",
       " '__module__',\n",
       " '__ne__',\n",
       " '__new__',\n",
       " '__reduce__',\n",
       " '__reduce_ex__',\n",
       " '__repr__',\n",
       " '__setattr__',\n",
       " '__sizeof__',\n",
       " '__str__',\n",
       " '__subclasshook__',\n",
       " '__weakref__',\n",
       " 'programming'}"
      ]
     },
     "execution_count": 79,
     "metadata": {},
     "output_type": "execute_result"
    }
   ],
   "source": [
    "aa_dir - aa_dict"
   ]
  },
  {
   "cell_type": "code",
   "execution_count": 80,
   "id": "8b567592-fc38-40be-9ce5-045c9628689c",
   "metadata": {},
   "outputs": [
    {
     "data": {
      "text/plain": [
       "set()"
      ]
     },
     "execution_count": 80,
     "metadata": {},
     "output_type": "execute_result"
    }
   ],
   "source": [
    "aa_dict - aa_dir "
   ]
  },
  {
   "cell_type": "code",
   "execution_count": 81,
   "id": "e1b0fed4-2956-4991-81a5-9ec2ffeced7e",
   "metadata": {},
   "outputs": [
    {
     "data": {
      "text/plain": [
       "['__class__',\n",
       " '__delattr__',\n",
       " '__dict__',\n",
       " '__dir__',\n",
       " '__doc__',\n",
       " '__eq__',\n",
       " '__format__',\n",
       " '__ge__',\n",
       " '__getattribute__',\n",
       " '__getstate__',\n",
       " '__gt__',\n",
       " '__hash__',\n",
       " '__init__',\n",
       " '__init_subclass__',\n",
       " '__le__',\n",
       " '__lt__',\n",
       " '__module__',\n",
       " '__ne__',\n",
       " '__new__',\n",
       " '__reduce__',\n",
       " '__reduce_ex__',\n",
       " '__repr__',\n",
       " '__setattr__',\n",
       " '__sizeof__',\n",
       " '__str__',\n",
       " '__subclasshook__',\n",
       " '__weakref__',\n",
       " 'hello',\n",
       " 'programming',\n",
       " 'python']"
      ]
     },
     "execution_count": 81,
     "metadata": {},
     "output_type": "execute_result"
    }
   ],
   "source": [
    "dir(aa)"
   ]
  },
  {
   "cell_type": "code",
   "execution_count": 82,
   "id": "3f00ae43-fb47-4014-ab6f-128784de86e8",
   "metadata": {},
   "outputs": [],
   "source": [
    "### ??? dict()와 vars()의 차이는 무엇이지? "
   ]
  },
  {
   "cell_type": "code",
   "execution_count": null,
   "id": "48d20048-266b-420f-8e78-eee710548942",
   "metadata": {},
   "outputs": [],
   "source": []
  },
  {
   "cell_type": "code",
   "execution_count": null,
   "id": "b7a28dbc-9fc2-49f4-b397-53fad10aa315",
   "metadata": {},
   "outputs": [],
   "source": []
  }
 ],
 "metadata": {
  "kernelspec": {
   "display_name": "Python 3 (ipykernel)",
   "language": "python",
   "name": "python3"
  },
  "language_info": {
   "codemirror_mode": {
    "name": "ipython",
    "version": 3
   },
   "file_extension": ".py",
   "mimetype": "text/x-python",
   "name": "python",
   "nbconvert_exporter": "python",
   "pygments_lexer": "ipython3",
   "version": "3.11.8"
  }
 },
 "nbformat": 4,
 "nbformat_minor": 5
}
