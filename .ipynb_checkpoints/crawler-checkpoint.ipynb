{
 "cells": [
  {
   "cell_type": "code",
   "execution_count": null,
   "id": "34ec7e61-2daf-4686-955b-9fd9265f16d2",
   "metadata": {},
   "outputs": [],
   "source": [
    "from requests.compat import urlparse\n",
    "\n",
    "def canFetch(url, path):\n",
    "    # disallowList = list()\n",
    "    resp = get(urljoin(url, '/robots.txt'))\n",
    "    \n",
    "    if resp.status_code != 200:\n",
    "        return True\n",
    "\n",
    "    disallowList = [link for link in re.findall(r'Disallow\\s*:\\s*(.+)',resp.text, re.IGNORECASE | re.MULTILINE)]\n",
    "\n",
    "    if urlparse(path).path in disallowList:\n",
    "        return False\n",
    "\n",
    "    return True\n",
    "\n",
    "# canFetch('https://lms.sunde41.net','/')"
   ]
  },
  {
   "cell_type": "code",
   "execution_count": null,
   "id": "d4d202e9-b343-4c6f-bd18-2fa34153f42a",
   "metadata": {},
   "outputs": [],
   "source": [
    "from requests import request\n",
    "from requests.exceptions import HTTPError\n",
    "from time import sleep\n",
    "\n",
    "def download(url, params={}, data={}, headers={}, method=\"GET\", retries=3):\n",
    "    if not canFetch(url, url):\n",
    "        print('수집하면 안됨')\n",
    "    resp = request(method, url, params=params, data=data, headers=headers)\n",
    "    try:\n",
    "        resp.raise_for_status()\n",
    "    except HTTPError as e:\n",
    "        if 499 < resp.status_code and retries > 0:\n",
    "            print('재시도 중')\n",
    "            sleep(5)\n",
    "            return download(url, params, data, headers, method, retries=1 )\n",
    "        else: \n",
    "            print(e.response.status_code)\n",
    "            print(e.request.headers)\n",
    "            print(e.response.headers)\n",
    "            return None\n",
    "    return resp"
   ]
  },
  {
   "cell_type": "code",
   "execution_count": null,
   "id": "3c149d3b-ebb8-4c2a-b4ec-cb21b38b8821",
   "metadata": {},
   "outputs": [],
   "source": [
    "URLs = ['http://inisw.kr']"
   ]
  },
  {
   "cell_type": "code",
   "execution_count": null,
   "id": "5c46616c-46c6-404b-b540-62c5a975e408",
   "metadata": {},
   "outputs": [],
   "source": [
    "Visited = []"
   ]
  },
  {
   "cell_type": "code",
   "execution_count": null,
   "id": "980005dc-bc7c-4045-ae36-8e2a7d9e7de4",
   "metadata": {},
   "outputs": [],
   "source": [
    "while URLs:\n",
    "    url = URLs.pop(-1) # 0:FIFO:Queue, -1:LIFO:STACK\n",
    "\n",
    "    Visited.append(url)\n",
    "    \n",
    "    resp = download(url)\n",
    "    \n",
    "    if resp is None:\n",
    "        continue\n",
    "\n",
    "    if re.search(r'text\\/html', resp.headers['content-type']):\n",
    "        dom = BeautifulSoup(resp.text, \"html.parser\")\n",
    "\n",
    "        \n",
    "        for link in dom.select('''a[href], frame[src], iframe[src], img[src],\n",
    "        audio[src], video[src], style[src], link[src]'''): # form['action']은?\n",
    "            newURL = link.attrs['href'] if link.has_attr('href') else link.attrs['src']\n",
    "\n",
    "            if not re.match(r'#|javascript|mailto', newURL):\n",
    "                urljoin(url, newURL)\n",
    "                normalizedURL = urljoin(url, newURL)\n",
    "                if normalizedURL not in Visited and \\\n",
    "                   normalizedURL not in URLs:\n",
    "                    URLs.append(normalizedURL)\n",
    "                    \n",
    "    print(len(URLs), len(Visited))"
   ]
  },
  {
   "cell_type": "code",
   "execution_count": null,
   "id": "c8d998bc-b880-4e9a-95cc-a4b5ad7422b7",
   "metadata": {},
   "outputs": [],
   "source": []
  }
 ],
 "metadata": {
  "kernelspec": {
   "display_name": "Python 3 (ipykernel)",
   "language": "python",
   "name": "python3"
  },
  "language_info": {
   "codemirror_mode": {
    "name": "ipython",
    "version": 3
   },
   "file_extension": ".py",
   "mimetype": "text/x-python",
   "name": "python",
   "nbconvert_exporter": "python",
   "pygments_lexer": "ipython3",
   "version": "3.11.8"
  }
 },
 "nbformat": 4,
 "nbformat_minor": 5
}
