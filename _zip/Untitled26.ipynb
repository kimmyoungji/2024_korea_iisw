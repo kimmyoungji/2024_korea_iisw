{
 "cells": [
  {
   "cell_type": "code",
   "execution_count": 1,
   "id": "3fe18e87",
   "metadata": {},
   "outputs": [],
   "source": [
    "def x():\n",
    "    print('a')\n",
    "    return None"
   ]
  },
  {
   "cell_type": "code",
   "execution_count": 2,
   "id": "d980b22b",
   "metadata": {},
   "outputs": [
    {
     "name": "stdout",
     "output_type": "stream",
     "text": [
      "The Zen of Python, by Tim Peters\n",
      "\n",
      "Beautiful is better than ugly.\n",
      "Explicit is better than implicit.\n",
      "Simple is better than complex.\n",
      "Complex is better than complicated.\n",
      "Flat is better than nested.\n",
      "Sparse is better than dense.\n",
      "Readability counts.\n",
      "Special cases aren't special enough to break the rules.\n",
      "Although practicality beats purity.\n",
      "Errors should never pass silently.\n",
      "Unless explicitly silenced.\n",
      "In the face of ambiguity, refuse the temptation to guess.\n",
      "There should be one-- and preferably only one --obvious way to do it.\n",
      "Although that way may not be obvious at first unless you're Dutch.\n",
      "Now is better than never.\n",
      "Although never is often better than *right* now.\n",
      "If the implementation is hard to explain, it's a bad idea.\n",
      "If the implementation is easy to explain, it may be a good idea.\n",
      "Namespaces are one honking great idea -- let's do more of those!\n"
     ]
    }
   ],
   "source": [
    "import this"
   ]
  },
  {
   "cell_type": "code",
   "execution_count": 5,
   "id": "6b56efe7",
   "metadata": {},
   "outputs": [],
   "source": [
    "def x(a):\n",
    "    print(a)"
   ]
  },
  {
   "cell_type": "code",
   "execution_count": 6,
   "id": "2b907741",
   "metadata": {},
   "outputs": [
    {
     "data": {
      "text/plain": [
       "function"
      ]
     },
     "execution_count": 6,
     "metadata": {},
     "output_type": "execute_result"
    }
   ],
   "source": [
    "type(x)"
   ]
  },
  {
   "cell_type": "code",
   "execution_count": 7,
   "id": "fa8a2b1d",
   "metadata": {},
   "outputs": [],
   "source": [
    "b = [x]"
   ]
  },
  {
   "cell_type": "code",
   "execution_count": 9,
   "id": "97b91d08",
   "metadata": {},
   "outputs": [
    {
     "name": "stdout",
     "output_type": "stream",
     "text": [
      "4\n"
     ]
    }
   ],
   "source": [
    "b[0](4)"
   ]
  },
  {
   "cell_type": "code",
   "execution_count": null,
   "id": "cf13a4a1",
   "metadata": {},
   "outputs": [],
   "source": [
    "a = x"
   ]
  },
  {
   "cell_type": "code",
   "execution_count": null,
   "id": "3fbdd182",
   "metadata": {},
   "outputs": [],
   "source": [
    "first class\n",
    "higher order : 함수를 인자로 사용하고 리턴할 수 있는 함수"
   ]
  },
  {
   "cell_type": "code",
   "execution_count": null,
   "id": "0f674fc9",
   "metadata": {},
   "outputs": [],
   "source": [
    "1 3 5 7 9 an_1 = an + 2   a1=1"
   ]
  },
  {
   "cell_type": "code",
   "execution_count": 10,
   "id": "8a966295",
   "metadata": {},
   "outputs": [],
   "source": [
    "def t(x):\n",
    "    if x==1:\n",
    "        return 1\n",
    "    return t(x-1)+2"
   ]
  },
  {
   "cell_type": "code",
   "execution_count": 11,
   "id": "1ccea04f",
   "metadata": {},
   "outputs": [
    {
     "data": {
      "text/plain": [
       "5"
      ]
     },
     "execution_count": 11,
     "metadata": {},
     "output_type": "execute_result"
    }
   ],
   "source": [
    "t(3)"
   ]
  },
  {
   "cell_type": "code",
   "execution_count": 19,
   "id": "5b90d6e6",
   "metadata": {},
   "outputs": [],
   "source": [
    "b = 1\n",
    "def a():\n",
    "    ttt = 3\n",
    "    b = 2\n",
    "    return b\n",
    "\n",
    "# 접근 제한, scope\n",
    "\n",
    "def aa():\n",
    "    b = 3"
   ]
  },
  {
   "cell_type": "code",
   "execution_count": 20,
   "id": "5451ff1f",
   "metadata": {},
   "outputs": [],
   "source": [
    "sum = 0 # buitins : sum"
   ]
  },
  {
   "cell_type": "code",
   "execution_count": null,
   "id": "5a99dce2",
   "metadata": {},
   "outputs": [],
   "source": [
    "sum"
   ]
  },
  {
   "cell_type": "code",
   "execution_count": null,
   "id": "caf7bd55",
   "metadata": {},
   "outputs": [],
   "source": [
    "del sum"
   ]
  },
  {
   "cell_type": "code",
   "execution_count": 18,
   "id": "53aa21c4",
   "metadata": {},
   "outputs": [
    {
     "data": {
      "text/plain": [
       "2"
      ]
     },
     "execution_count": 18,
     "metadata": {},
     "output_type": "execute_result"
    }
   ],
   "source": [
    "a()"
   ]
  },
  {
   "cell_type": "code",
   "execution_count": 16,
   "id": "9cf32809",
   "metadata": {
    "collapsed": true
   },
   "outputs": [
    {
     "data": {
      "text/plain": [
       "{'__name__': '__main__',\n",
       " '__doc__': 'Automatically created module for IPython interactive environment',\n",
       " '__package__': None,\n",
       " '__loader__': None,\n",
       " '__spec__': None,\n",
       " '__builtin__': <module 'builtins' (built-in)>,\n",
       " '__builtins__': <module 'builtins' (built-in)>,\n",
       " '_ih': ['',\n",
       "  'def x():\\n    return 1',\n",
       "  'import this',\n",
       "  'def x():\\n    print()',\n",
       "  'type(x)',\n",
       "  'def x(a):\\n    print(a)',\n",
       "  'type(x)',\n",
       "  'b = [x]',\n",
       "  'b[0]()',\n",
       "  'b[0](4)',\n",
       "  'def t(x):\\n    if x==1:\\n        return 1\\n    return t(x-1)+2',\n",
       "  't(3)',\n",
       "  'b = 1\\ndef a():\\n    return b',\n",
       "  'a()',\n",
       "  'b = 1\\ndef a():\\n    ttt = 3\\n    return b',\n",
       "  'ttt',\n",
       "  'globals()'],\n",
       " '_oh': {4: function, 6: function, 11: 5, 13: 1},\n",
       " '_dh': [WindowsPath('C:/Users/user')],\n",
       " 'In': ['',\n",
       "  'def x():\\n    return 1',\n",
       "  'import this',\n",
       "  'def x():\\n    print()',\n",
       "  'type(x)',\n",
       "  'def x(a):\\n    print(a)',\n",
       "  'type(x)',\n",
       "  'b = [x]',\n",
       "  'b[0]()',\n",
       "  'b[0](4)',\n",
       "  'def t(x):\\n    if x==1:\\n        return 1\\n    return t(x-1)+2',\n",
       "  't(3)',\n",
       "  'b = 1\\ndef a():\\n    return b',\n",
       "  'a()',\n",
       "  'b = 1\\ndef a():\\n    ttt = 3\\n    return b',\n",
       "  'ttt',\n",
       "  'globals()'],\n",
       " 'Out': {4: function, 6: function, 11: 5, 13: 1},\n",
       " 'get_ipython': <bound method InteractiveShell.get_ipython of <ipykernel.zmqshell.ZMQInteractiveShell object at 0x000002A1AB5D1550>>,\n",
       " 'exit': <IPython.core.autocall.ZMQExitAutocall at 0x2a1ab57c160>,\n",
       " 'quit': <IPython.core.autocall.ZMQExitAutocall at 0x2a1ab57c160>,\n",
       " '_': 1,\n",
       " '__': 5,\n",
       " '___': function,\n",
       " '_i': 'ttt',\n",
       " '_ii': 'b = 1\\ndef a():\\n    ttt = 3\\n    return b',\n",
       " '_iii': 'a()',\n",
       " '_i1': 'def x():\\n    return 1',\n",
       " 'x': <function __main__.x(a)>,\n",
       " '_i2': 'import this',\n",
       " 'this': <module 'this' from 'C:\\\\Users\\\\user\\\\anaconda3\\\\lib\\\\this.py'>,\n",
       " '_i3': 'def x():\\n    print()',\n",
       " '_i4': 'type(x)',\n",
       " '_4': function,\n",
       " '_i5': 'def x(a):\\n    print(a)',\n",
       " '_i6': 'type(x)',\n",
       " '_6': function,\n",
       " '_i7': 'b = [x]',\n",
       " 'b': 1,\n",
       " '_i8': 'b[0]()',\n",
       " '_i9': 'b[0](4)',\n",
       " '_i10': 'def t(x):\\n    if x==1:\\n        return 1\\n    return t(x-1)+2',\n",
       " 't': <function __main__.t(x)>,\n",
       " '_i11': 't(3)',\n",
       " '_11': 5,\n",
       " '_i12': 'b = 1\\ndef a():\\n    return b',\n",
       " 'a': <function __main__.a()>,\n",
       " '_i13': 'a()',\n",
       " '_13': 1,\n",
       " '_i14': 'b = 1\\ndef a():\\n    ttt = 3\\n    return b',\n",
       " '_i15': 'ttt',\n",
       " '_i16': 'globals()'}"
      ]
     },
     "execution_count": 16,
     "metadata": {},
     "output_type": "execute_result"
    }
   ],
   "source": [
    "globals()"
   ]
  },
  {
   "cell_type": "code",
   "execution_count": null,
   "id": "3f35f2fe",
   "metadata": {},
   "outputs": [],
   "source": [
    "LEGB"
   ]
  },
  {
   "cell_type": "code",
   "execution_count": 13,
   "id": "bafe7cc4",
   "metadata": {},
   "outputs": [
    {
     "data": {
      "text/plain": [
       "1"
      ]
     },
     "execution_count": 13,
     "metadata": {},
     "output_type": "execute_result"
    }
   ],
   "source": [
    "a()"
   ]
  },
  {
   "cell_type": "code",
   "execution_count": 15,
   "id": "2de7164c",
   "metadata": {},
   "outputs": [
    {
     "ename": "NameError",
     "evalue": "name 'ttt' is not defined",
     "output_type": "error",
     "traceback": [
      "\u001b[1;31m---------------------------------------------------------------------------\u001b[0m",
      "\u001b[1;31mNameError\u001b[0m                                 Traceback (most recent call last)",
      "Input \u001b[1;32mIn [15]\u001b[0m, in \u001b[0;36m<cell line: 1>\u001b[1;34m()\u001b[0m\n\u001b[1;32m----> 1\u001b[0m \u001b[43mttt\u001b[49m\n",
      "\u001b[1;31mNameError\u001b[0m: name 'ttt' is not defined"
     ]
    }
   ],
   "source": [
    "ttt"
   ]
  },
  {
   "cell_type": "code",
   "execution_count": 22,
   "id": "7ef1c5be",
   "metadata": {},
   "outputs": [
    {
     "name": "stdout",
     "output_type": "stream",
     "text": [
      "762 ms ± 5.63 ms per loop (mean ± std. dev. of 7 runs, 1 loop each)\n"
     ]
    }
   ],
   "source": [
    "%%timeit\n",
    "temp = []\n",
    "for i in range(10000000):\n",
    "    temp.append(i)\n",
    "temp"
   ]
  },
  {
   "cell_type": "code",
   "execution_count": 24,
   "id": "46dd0e92",
   "metadata": {},
   "outputs": [
    {
     "name": "stdout",
     "output_type": "stream",
     "text": [
      "613 ms ± 6.44 ms per loop (mean ± std. dev. of 7 runs, 1 loop each)\n"
     ]
    }
   ],
   "source": [
    "%timeit [i for i in range(10000000)]"
   ]
  },
  {
   "cell_type": "code",
   "execution_count": null,
   "id": "170c9107",
   "metadata": {},
   "outputs": [],
   "source": [
    "여러 개의 값을 쉽게 만들거나, 변화 시킬때 사용 (반복과 결합)"
   ]
  },
  {
   "cell_type": "code",
   "execution_count": 29,
   "id": "6e8973e8",
   "metadata": {},
   "outputs": [],
   "source": [
    "a = [i for i in range(10)]"
   ]
  },
  {
   "cell_type": "code",
   "execution_count": 36,
   "id": "5a376539",
   "metadata": {},
   "outputs": [
    {
     "data": {
      "text/plain": [
       "{1, 2, 3, 4, 5, 6, 7, 8, 9, 10}"
      ]
     },
     "execution_count": 36,
     "metadata": {},
     "output_type": "execute_result"
    }
   ],
   "source": [
    "{b+1 for b in a}"
   ]
  },
  {
   "cell_type": "code",
   "execution_count": 31,
   "id": "d45977a0",
   "metadata": {},
   "outputs": [
    {
     "data": {
      "text/plain": [
       "[1, 2, 3, 4, 5, 6, 7, 8, 9, 10]"
      ]
     },
     "execution_count": 31,
     "metadata": {},
     "output_type": "execute_result"
    }
   ],
   "source": [
    "[b+1 for b in range(10)]"
   ]
  },
  {
   "cell_type": "code",
   "execution_count": 32,
   "id": "5ce8d885",
   "metadata": {},
   "outputs": [
    {
     "data": {
      "text/plain": [
       "[0, 2, 4, 6, 8]"
      ]
     },
     "execution_count": 32,
     "metadata": {},
     "output_type": "execute_result"
    }
   ],
   "source": [
    "[b for b in range(10) if b%2==0]"
   ]
  },
  {
   "cell_type": "code",
   "execution_count": 33,
   "id": "688804bb",
   "metadata": {},
   "outputs": [
    {
     "data": {
      "text/plain": [
       "[0, '', 2, '', 4, '', 6, '', 8, '']"
      ]
     },
     "execution_count": 33,
     "metadata": {},
     "output_type": "execute_result"
    }
   ],
   "source": [
    "[b if b%2==0 else '' for b in range(10)]"
   ]
  },
  {
   "cell_type": "code",
   "execution_count": 35,
   "id": "3986c5a2",
   "metadata": {},
   "outputs": [
    {
     "data": {
      "text/plain": [
       "[(11, 0),\n",
       " (12, 0),\n",
       " (13, 0),\n",
       " (14, 0),\n",
       " (15, 0),\n",
       " (16, 0),\n",
       " (17, 0),\n",
       " (18, 0),\n",
       " (19, 0),\n",
       " (11, 1),\n",
       " (12, 1),\n",
       " (13, 1),\n",
       " (14, 1),\n",
       " (15, 1),\n",
       " (16, 1),\n",
       " (17, 1),\n",
       " (18, 1),\n",
       " (19, 1),\n",
       " (11, 2),\n",
       " (12, 2),\n",
       " (13, 2),\n",
       " (14, 2),\n",
       " (15, 2),\n",
       " (16, 2),\n",
       " (17, 2),\n",
       " (18, 2),\n",
       " (19, 2),\n",
       " (11, 3),\n",
       " (12, 3),\n",
       " (13, 3),\n",
       " (14, 3),\n",
       " (15, 3),\n",
       " (16, 3),\n",
       " (17, 3),\n",
       " (18, 3),\n",
       " (19, 3),\n",
       " (11, 4),\n",
       " (12, 4),\n",
       " (13, 4),\n",
       " (14, 4),\n",
       " (15, 4),\n",
       " (16, 4),\n",
       " (17, 4),\n",
       " (18, 4),\n",
       " (19, 4),\n",
       " (11, 5),\n",
       " (12, 5),\n",
       " (13, 5),\n",
       " (14, 5),\n",
       " (15, 5),\n",
       " (16, 5),\n",
       " (17, 5),\n",
       " (18, 5),\n",
       " (19, 5),\n",
       " (11, 6),\n",
       " (12, 6),\n",
       " (13, 6),\n",
       " (14, 6),\n",
       " (15, 6),\n",
       " (16, 6),\n",
       " (17, 6),\n",
       " (18, 6),\n",
       " (19, 6),\n",
       " (11, 7),\n",
       " (12, 7),\n",
       " (13, 7),\n",
       " (14, 7),\n",
       " (15, 7),\n",
       " (16, 7),\n",
       " (17, 7),\n",
       " (18, 7),\n",
       " (19, 7),\n",
       " (11, 8),\n",
       " (12, 8),\n",
       " (13, 8),\n",
       " (14, 8),\n",
       " (15, 8),\n",
       " (16, 8),\n",
       " (17, 8),\n",
       " (18, 8),\n",
       " (19, 8),\n",
       " (11, 9),\n",
       " (12, 9),\n",
       " (13, 9),\n",
       " (14, 9),\n",
       " (15, 9),\n",
       " (16, 9),\n",
       " (17, 9),\n",
       " (18, 9),\n",
       " (19, 9)]"
      ]
     },
     "execution_count": 35,
     "metadata": {},
     "output_type": "execute_result"
    }
   ],
   "source": [
    "[(a,b) for b in range(10) for a in range(11,20)]"
   ]
  },
  {
   "cell_type": "code",
   "execution_count": 37,
   "id": "3261102e",
   "metadata": {},
   "outputs": [],
   "source": [
    "a = 1\n",
    "a = '' : 재활당"
   ]
  },
  {
   "cell_type": "code",
   "execution_count": 39,
   "id": "4d253870",
   "metadata": {},
   "outputs": [
    {
     "data": {
      "text/plain": [
       "2893302622512"
      ]
     },
     "execution_count": 39,
     "metadata": {},
     "output_type": "execute_result"
    }
   ],
   "source": [
    "id(a)"
   ]
  },
  {
   "cell_type": "code",
   "execution_count": 40,
   "id": "40c7f937",
   "metadata": {},
   "outputs": [],
   "source": [
    "a = 1000\n",
    "b = 1000"
   ]
  },
  {
   "cell_type": "code",
   "execution_count": 41,
   "id": "d6401069",
   "metadata": {},
   "outputs": [
    {
     "data": {
      "text/plain": [
       "2893745035408"
      ]
     },
     "execution_count": 41,
     "metadata": {},
     "output_type": "execute_result"
    }
   ],
   "source": [
    "id(a)"
   ]
  },
  {
   "cell_type": "code",
   "execution_count": 42,
   "id": "fd1ddf0a",
   "metadata": {},
   "outputs": [
    {
     "data": {
      "text/plain": [
       "2893745036528"
      ]
     },
     "execution_count": 42,
     "metadata": {},
     "output_type": "execute_result"
    }
   ],
   "source": [
    "id(b)"
   ]
  },
  {
   "cell_type": "code",
   "execution_count": 43,
   "id": "9c8987f5",
   "metadata": {},
   "outputs": [],
   "source": [
    "a = 256\n",
    "b = 256\n",
    "# interning"
   ]
  },
  {
   "cell_type": "code",
   "execution_count": 48,
   "id": "e8724439",
   "metadata": {},
   "outputs": [],
   "source": [
    "import sys"
   ]
  },
  {
   "cell_type": "code",
   "execution_count": 50,
   "id": "63be0186",
   "metadata": {},
   "outputs": [
    {
     "data": {
      "text/plain": [
       "'a'"
      ]
     },
     "execution_count": 50,
     "metadata": {},
     "output_type": "execute_result"
    }
   ],
   "source": [
    "sys.intern('a')"
   ]
  },
  {
   "cell_type": "code",
   "execution_count": 44,
   "id": "daff20e0",
   "metadata": {},
   "outputs": [
    {
     "data": {
      "text/plain": [
       "2893302819216"
      ]
     },
     "execution_count": 44,
     "metadata": {},
     "output_type": "execute_result"
    }
   ],
   "source": [
    "id(a)"
   ]
  },
  {
   "cell_type": "code",
   "execution_count": 45,
   "id": "9f72d4cb",
   "metadata": {},
   "outputs": [
    {
     "data": {
      "text/plain": [
       "2893302819216"
      ]
     },
     "execution_count": 45,
     "metadata": {},
     "output_type": "execute_result"
    }
   ],
   "source": [
    "id(b)"
   ]
  },
  {
   "cell_type": "code",
   "execution_count": 46,
   "id": "e7b7a398",
   "metadata": {},
   "outputs": [
    {
     "data": {
      "text/plain": [
       "True"
      ]
     },
     "execution_count": 46,
     "metadata": {},
     "output_type": "execute_result"
    }
   ],
   "source": [
    "a == b"
   ]
  },
  {
   "cell_type": "code",
   "execution_count": 47,
   "id": "713bbb7b",
   "metadata": {},
   "outputs": [
    {
     "data": {
      "text/plain": [
       "True"
      ]
     },
     "execution_count": 47,
     "metadata": {},
     "output_type": "execute_result"
    }
   ],
   "source": [
    "a is b"
   ]
  },
  {
   "cell_type": "code",
   "execution_count": 38,
   "id": "7363f18e",
   "metadata": {},
   "outputs": [],
   "source": [
    "import antigravity"
   ]
  },
  {
   "cell_type": "code",
   "execution_count": null,
   "id": "ecfd829a",
   "metadata": {},
   "outputs": [],
   "source": [
    "a = int 1"
   ]
  },
  {
   "cell_type": "code",
   "execution_count": 53,
   "id": "522c175e",
   "metadata": {},
   "outputs": [],
   "source": [
    "a = 1"
   ]
  },
  {
   "cell_type": "code",
   "execution_count": 54,
   "id": "1a4ca893",
   "metadata": {},
   "outputs": [
    {
     "data": {
      "text/plain": [
       "2893302622512"
      ]
     },
     "execution_count": 54,
     "metadata": {},
     "output_type": "execute_result"
    }
   ],
   "source": [
    "id(a)"
   ]
  },
  {
   "cell_type": "code",
   "execution_count": 55,
   "id": "1c5ec59d",
   "metadata": {},
   "outputs": [],
   "source": [
    "a = 2"
   ]
  },
  {
   "cell_type": "code",
   "execution_count": 56,
   "id": "bcb5ca9c",
   "metadata": {},
   "outputs": [
    {
     "data": {
      "text/plain": [
       "2893302622544"
      ]
     },
     "execution_count": 56,
     "metadata": {},
     "output_type": "execute_result"
    }
   ],
   "source": [
    "id(a)"
   ]
  },
  {
   "cell_type": "code",
   "execution_count": 63,
   "id": "636952d4",
   "metadata": {},
   "outputs": [],
   "source": [
    "x = [1,2,3]\n",
    "y = x"
   ]
  },
  {
   "cell_type": "code",
   "execution_count": 64,
   "id": "8967a415",
   "metadata": {},
   "outputs": [
    {
     "data": {
      "text/plain": [
       "2893745044096"
      ]
     },
     "execution_count": 64,
     "metadata": {},
     "output_type": "execute_result"
    }
   ],
   "source": [
    "id(y)"
   ]
  },
  {
   "cell_type": "code",
   "execution_count": 65,
   "id": "d255d656",
   "metadata": {},
   "outputs": [
    {
     "data": {
      "text/plain": [
       "2893745044096"
      ]
     },
     "execution_count": 65,
     "metadata": {},
     "output_type": "execute_result"
    }
   ],
   "source": [
    "id(x)"
   ]
  },
  {
   "cell_type": "code",
   "execution_count": 58,
   "id": "8df6cbf8",
   "metadata": {},
   "outputs": [],
   "source": [
    "x.append(4)"
   ]
  },
  {
   "cell_type": "code",
   "execution_count": 59,
   "id": "0ad3bfe0",
   "metadata": {},
   "outputs": [
    {
     "data": {
      "text/plain": [
       "[1, 2, 3, 4]"
      ]
     },
     "execution_count": 59,
     "metadata": {},
     "output_type": "execute_result"
    }
   ],
   "source": [
    "x"
   ]
  },
  {
   "cell_type": "code",
   "execution_count": 60,
   "id": "e5a39d0b",
   "metadata": {},
   "outputs": [
    {
     "data": {
      "text/plain": [
       "2893745657728"
      ]
     },
     "execution_count": 60,
     "metadata": {},
     "output_type": "execute_result"
    }
   ],
   "source": [
    "id(x)"
   ]
  },
  {
   "cell_type": "code",
   "execution_count": null,
   "id": "e67bb50e",
   "metadata": {},
   "outputs": [],
   "source": [
    "list tuple\n",
    "set frozenset"
   ]
  },
  {
   "cell_type": "code",
   "execution_count": 66,
   "id": "15235e24",
   "metadata": {},
   "outputs": [],
   "source": [
    "a = [1,2,3]"
   ]
  },
  {
   "cell_type": "code",
   "execution_count": 69,
   "id": "c9ee4d60",
   "metadata": {},
   "outputs": [
    {
     "ename": "IndexError",
     "evalue": "list assignment index out of range",
     "output_type": "error",
     "traceback": [
      "\u001b[1;31m---------------------------------------------------------------------------\u001b[0m",
      "\u001b[1;31mIndexError\u001b[0m                                Traceback (most recent call last)",
      "Input \u001b[1;32mIn [69]\u001b[0m, in \u001b[0;36m<cell line: 1>\u001b[1;34m()\u001b[0m\n\u001b[1;32m----> 1\u001b[0m a[\u001b[38;5;241m3\u001b[39m] \u001b[38;5;241m=\u001b[39m \u001b[38;5;241m4\u001b[39m\n",
      "\u001b[1;31mIndexError\u001b[0m: list assignment index out of range"
     ]
    }
   ],
   "source": [
    "a[3] = 4"
   ]
  },
  {
   "cell_type": "code",
   "execution_count": 70,
   "id": "09e6184a",
   "metadata": {},
   "outputs": [],
   "source": [
    "aa = {'a':1}"
   ]
  },
  {
   "cell_type": "code",
   "execution_count": 71,
   "id": "e85a20f0",
   "metadata": {},
   "outputs": [
    {
     "ename": "KeyError",
     "evalue": "'b'",
     "output_type": "error",
     "traceback": [
      "\u001b[1;31m---------------------------------------------------------------------------\u001b[0m",
      "\u001b[1;31mKeyError\u001b[0m                                  Traceback (most recent call last)",
      "Input \u001b[1;32mIn [71]\u001b[0m, in \u001b[0;36m<cell line: 1>\u001b[1;34m()\u001b[0m\n\u001b[1;32m----> 1\u001b[0m \u001b[43maa\u001b[49m\u001b[43m[\u001b[49m\u001b[38;5;124;43m'\u001b[39;49m\u001b[38;5;124;43mb\u001b[39;49m\u001b[38;5;124;43m'\u001b[39;49m\u001b[43m]\u001b[49m\n",
      "\u001b[1;31mKeyError\u001b[0m: 'b'"
     ]
    }
   ],
   "source": [
    "aa['b']"
   ]
  },
  {
   "cell_type": "code",
   "execution_count": 72,
   "id": "913be731",
   "metadata": {},
   "outputs": [],
   "source": [
    "aa['b'] = 2"
   ]
  },
  {
   "cell_type": "code",
   "execution_count": 85,
   "id": "245240ee",
   "metadata": {},
   "outputs": [],
   "source": [
    "c = (i for i in range(10))"
   ]
  },
  {
   "cell_type": "code",
   "execution_count": 86,
   "id": "ec043f87",
   "metadata": {},
   "outputs": [
    {
     "data": {
      "text/plain": [
       "0"
      ]
     },
     "execution_count": 86,
     "metadata": {},
     "output_type": "execute_result"
    }
   ],
   "source": [
    "next(c)"
   ]
  },
  {
   "cell_type": "code",
   "execution_count": null,
   "id": "e5820e10",
   "metadata": {},
   "outputs": [],
   "source": [
    "앞에서부터 "
   ]
  },
  {
   "cell_type": "code",
   "execution_count": null,
   "id": "ec60ce06",
   "metadata": {},
   "outputs": [],
   "source": [
    "(iterable 중간단계) iterator : 사용자 편의성\n",
    "iterable == generator 친척 관계 (만드는 방식만 다르고 같은 역활)\n",
    "            generator는 만드는 방식 2개"
   ]
  },
  {
   "cell_type": "code",
   "execution_count": 79,
   "id": "421157e5",
   "metadata": {},
   "outputs": [],
   "source": [
    "a = [1,2,3]"
   ]
  },
  {
   "cell_type": "code",
   "execution_count": 80,
   "id": "477922d2",
   "metadata": {},
   "outputs": [],
   "source": [
    "b = iter(a) : 숨겨진 기능"
   ]
  },
  {
   "cell_type": "code",
   "execution_count": 84,
   "id": "76ab6d5b",
   "metadata": {},
   "outputs": [
    {
     "ename": "StopIteration",
     "evalue": "",
     "output_type": "error",
     "traceback": [
      "\u001b[1;31m---------------------------------------------------------------------------\u001b[0m",
      "\u001b[1;31mStopIteration\u001b[0m                             Traceback (most recent call last)",
      "Input \u001b[1;32mIn [84]\u001b[0m, in \u001b[0;36m<cell line: 1>\u001b[1;34m()\u001b[0m\n\u001b[1;32m----> 1\u001b[0m \u001b[38;5;28;43mnext\u001b[39;49m\u001b[43m(\u001b[49m\u001b[43mb\u001b[49m\u001b[43m)\u001b[49m\n",
      "\u001b[1;31mStopIteration\u001b[0m: "
     ]
    }
   ],
   "source": [
    "next(b)"
   ]
  },
  {
   "cell_type": "code",
   "execution_count": null,
   "id": "f9a3129f",
   "metadata": {},
   "outputs": [],
   "source": []
  },
  {
   "cell_type": "code",
   "execution_count": 76,
   "id": "4ae07e60",
   "metadata": {},
   "outputs": [],
   "source": [
    "def y():\n",
    "    for i in range(10):\n",
    "        print(i)"
   ]
  },
  {
   "cell_type": "code",
   "execution_count": 77,
   "id": "b3f5553a",
   "metadata": {},
   "outputs": [],
   "source": [
    "import dis"
   ]
  },
  {
   "cell_type": "code",
   "execution_count": 78,
   "id": "c5940e0b",
   "metadata": {},
   "outputs": [
    {
     "name": "stdout",
     "output_type": "stream",
     "text": [
      "  2           0 LOAD_GLOBAL              0 (range)\n",
      "              2 LOAD_CONST               1 (10)\n",
      "              4 CALL_FUNCTION            1\n",
      "              6 GET_ITER\n",
      "        >>    8 FOR_ITER                12 (to 22)\n",
      "             10 STORE_FAST               0 (i)\n",
      "\n",
      "  3          12 LOAD_GLOBAL              1 (print)\n",
      "             14 LOAD_FAST                0 (i)\n",
      "             16 CALL_FUNCTION            1\n",
      "             18 POP_TOP\n",
      "             20 JUMP_ABSOLUTE            8\n",
      "        >>   22 LOAD_CONST               0 (None)\n",
      "             24 RETURN_VALUE\n"
     ]
    }
   ],
   "source": [
    "dis.dis(y)"
   ]
  },
  {
   "cell_type": "code",
   "execution_count": 87,
   "id": "720a5cae",
   "metadata": {},
   "outputs": [],
   "source": [
    "def z():\n",
    "    yield 1\n",
    "    yield 2"
   ]
  },
  {
   "cell_type": "code",
   "execution_count": 88,
   "id": "28b48298",
   "metadata": {},
   "outputs": [],
   "source": [
    "zz = z()"
   ]
  },
  {
   "cell_type": "code",
   "execution_count": 89,
   "id": "947fdef8",
   "metadata": {},
   "outputs": [
    {
     "data": {
      "text/plain": [
       "<generator object z at 0x000002A1C16C5EB0>"
      ]
     },
     "execution_count": 89,
     "metadata": {},
     "output_type": "execute_result"
    }
   ],
   "source": [
    "zz"
   ]
  },
  {
   "cell_type": "code",
   "execution_count": 92,
   "id": "5f7b898f",
   "metadata": {},
   "outputs": [
    {
     "ename": "StopIteration",
     "evalue": "",
     "output_type": "error",
     "traceback": [
      "\u001b[1;31m---------------------------------------------------------------------------\u001b[0m",
      "\u001b[1;31mStopIteration\u001b[0m                             Traceback (most recent call last)",
      "Input \u001b[1;32mIn [92]\u001b[0m, in \u001b[0;36m<cell line: 1>\u001b[1;34m()\u001b[0m\n\u001b[1;32m----> 1\u001b[0m \u001b[38;5;28;43mnext\u001b[39;49m\u001b[43m(\u001b[49m\u001b[43mzz\u001b[49m\u001b[43m)\u001b[49m\n",
      "\u001b[1;31mStopIteration\u001b[0m: "
     ]
    }
   ],
   "source": [
    "next(zz)"
   ]
  },
  {
   "cell_type": "code",
   "execution_count": null,
   "id": "6e46f099",
   "metadata": {},
   "outputs": [],
   "source": [
    "데이터 -> 1개씩 추출 (iter)"
   ]
  },
  {
   "cell_type": "code",
   "execution_count": null,
   "id": "a54b85f5",
   "metadata": {},
   "outputs": [],
   "source": [
    "higher order function"
   ]
  },
  {
   "cell_type": "code",
   "execution_count": null,
   "id": "64d21893",
   "metadata": {},
   "outputs": [],
   "source": []
  },
  {
   "cell_type": "code",
   "execution_count": 93,
   "id": "fe4c7f60",
   "metadata": {},
   "outputs": [],
   "source": [
    "def y():\n",
    "    print('y')\n",
    "    return print"
   ]
  },
  {
   "cell_type": "code",
   "execution_count": 94,
   "id": "b315a956",
   "metadata": {},
   "outputs": [
    {
     "name": "stdout",
     "output_type": "stream",
     "text": [
      "y\n"
     ]
    },
    {
     "data": {
      "text/plain": [
       "<function print>"
      ]
     },
     "execution_count": 94,
     "metadata": {},
     "output_type": "execute_result"
    }
   ],
   "source": [
    "y()"
   ]
  },
  {
   "cell_type": "code",
   "execution_count": 96,
   "id": "ab2f9b93",
   "metadata": {},
   "outputs": [
    {
     "name": "stdout",
     "output_type": "stream",
     "text": [
      "y\n",
      "\n"
     ]
    },
    {
     "ename": "TypeError",
     "evalue": "'NoneType' object is not callable",
     "output_type": "error",
     "traceback": [
      "\u001b[1;31m---------------------------------------------------------------------------\u001b[0m",
      "\u001b[1;31mTypeError\u001b[0m                                 Traceback (most recent call last)",
      "Input \u001b[1;32mIn [96]\u001b[0m, in \u001b[0;36m<cell line: 1>\u001b[1;34m()\u001b[0m\n\u001b[1;32m----> 1\u001b[0m \u001b[43my\u001b[49m\u001b[43m(\u001b[49m\u001b[43m)\u001b[49m\u001b[43m(\u001b[49m\u001b[43m)\u001b[49m\u001b[43m(\u001b[49m\u001b[43m)\u001b[49m\n",
      "\u001b[1;31mTypeError\u001b[0m: 'NoneType' object is not callable"
     ]
    }
   ],
   "source": [
    "y()()()"
   ]
  },
  {
   "cell_type": "code",
   "execution_count": 97,
   "id": "adbbe5ab",
   "metadata": {},
   "outputs": [],
   "source": [
    "def y():\n",
    "    print('y')\n",
    "    return y"
   ]
  },
  {
   "cell_type": "code",
   "execution_count": 101,
   "id": "db08c05c",
   "metadata": {},
   "outputs": [
    {
     "name": "stdout",
     "output_type": "stream",
     "text": [
      "y\n",
      "y\n",
      "y\n",
      "y\n"
     ]
    },
    {
     "data": {
      "text/plain": [
       "<function __main__.y()>"
      ]
     },
     "execution_count": 101,
     "metadata": {},
     "output_type": "execute_result"
    }
   ],
   "source": [
    "y()()()()"
   ]
  },
  {
   "cell_type": "code",
   "execution_count": null,
   "id": "494933fd",
   "metadata": {},
   "outputs": [],
   "source": []
  }
 ],
 "metadata": {
  "kernelspec": {
   "display_name": "Python 3 (ipykernel)",
   "language": "python",
   "name": "python3"
  },
  "language_info": {
   "codemirror_mode": {
    "name": "ipython",
    "version": 3
   },
   "file_extension": ".py",
   "mimetype": "text/x-python",
   "name": "python",
   "nbconvert_exporter": "python",
   "pygments_lexer": "ipython3",
   "version": "3.9.12"
  }
 },
 "nbformat": 4,
 "nbformat_minor": 5
}
