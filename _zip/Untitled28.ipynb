{
 "cells": [
  {
   "cell_type": "code",
   "execution_count": null,
   "id": "c89bbd09",
   "metadata": {},
   "outputs": [],
   "source": [
    "함수 : 정의. encaplulation -> LEGB\n",
    "클래스 : 정의. encaplulation -> 기본 접근 제한 없음 -> descriptor"
   ]
  },
  {
   "cell_type": "code",
   "execution_count": 1,
   "id": "16ad4d9f",
   "metadata": {},
   "outputs": [],
   "source": [
    "\n",
    "class A:\n",
    "    x = 1\n",
    "    def xx(self, t):\n",
    "        self.t = t\n",
    "        print(self.t)\n",
    "# attribute        \n",
    "# method    \n",
    "# class variable\n",
    "# methodo (self.) : instance variable"
   ]
  },
  {
   "cell_type": "code",
   "execution_count": 2,
   "id": "a570141b",
   "metadata": {},
   "outputs": [],
   "source": [
    "a = A()"
   ]
  },
  {
   "cell_type": "code",
   "execution_count": 3,
   "id": "f8dba3c1",
   "metadata": {},
   "outputs": [],
   "source": [
    "a.x = 1"
   ]
  },
  {
   "cell_type": "code",
   "execution_count": 5,
   "id": "1a7454de",
   "metadata": {},
   "outputs": [
    {
     "data": {
      "text/plain": [
       "1"
      ]
     },
     "execution_count": 5,
     "metadata": {},
     "output_type": "execute_result"
    }
   ],
   "source": [
    "a.x"
   ]
  },
  {
   "cell_type": "code",
   "execution_count": null,
   "id": "43d773c9",
   "metadata": {},
   "outputs": [],
   "source": [
    "a = 1 <- literal\n",
    "a = int(1)"
   ]
  },
  {
   "cell_type": "code",
   "execution_count": null,
   "id": "ebb29c24",
   "metadata": {},
   "outputs": [],
   "source": [
    "class int:\n",
    "    pass"
   ]
  },
  {
   "cell_type": "code",
   "execution_count": 6,
   "id": "5cb372e7",
   "metadata": {},
   "outputs": [],
   "source": [
    "a = list()"
   ]
  },
  {
   "cell_type": "code",
   "execution_count": 7,
   "id": "2179985d",
   "metadata": {},
   "outputs": [
    {
     "data": {
      "text/plain": [
       "['__add__',\n",
       " '__class__',\n",
       " '__class_getitem__',\n",
       " '__contains__',\n",
       " '__delattr__',\n",
       " '__delitem__',\n",
       " '__dir__',\n",
       " '__doc__',\n",
       " '__eq__',\n",
       " '__format__',\n",
       " '__ge__',\n",
       " '__getattribute__',\n",
       " '__getitem__',\n",
       " '__gt__',\n",
       " '__hash__',\n",
       " '__iadd__',\n",
       " '__imul__',\n",
       " '__init__',\n",
       " '__init_subclass__',\n",
       " '__iter__',\n",
       " '__le__',\n",
       " '__len__',\n",
       " '__lt__',\n",
       " '__mul__',\n",
       " '__ne__',\n",
       " '__new__',\n",
       " '__reduce__',\n",
       " '__reduce_ex__',\n",
       " '__repr__',\n",
       " '__reversed__',\n",
       " '__rmul__',\n",
       " '__setattr__',\n",
       " '__setitem__',\n",
       " '__sizeof__',\n",
       " '__str__',\n",
       " '__subclasshook__',\n",
       " 'append',\n",
       " 'clear',\n",
       " 'copy',\n",
       " 'count',\n",
       " 'extend',\n",
       " 'index',\n",
       " 'insert',\n",
       " 'pop',\n",
       " 'remove',\n",
       " 'reverse',\n",
       " 'sort']"
      ]
     },
     "execution_count": 7,
     "metadata": {},
     "output_type": "execute_result"
    }
   ],
   "source": [
    "dir(a)"
   ]
  },
  {
   "cell_type": "code",
   "execution_count": 8,
   "id": "c1712b5b",
   "metadata": {},
   "outputs": [
    {
     "ename": "AttributeError",
     "evalue": "'list' object has no attribute 'app'",
     "output_type": "error",
     "traceback": [
      "\u001b[1;31m---------------------------------------------------------------------------\u001b[0m",
      "\u001b[1;31mAttributeError\u001b[0m                            Traceback (most recent call last)",
      "Input \u001b[1;32mIn [8]\u001b[0m, in \u001b[0;36m<cell line: 1>\u001b[1;34m()\u001b[0m\n\u001b[1;32m----> 1\u001b[0m \u001b[43ma\u001b[49m\u001b[38;5;241;43m.\u001b[39;49m\u001b[43mapp\u001b[49m\n",
      "\u001b[1;31mAttributeError\u001b[0m: 'list' object has no attribute 'app'"
     ]
    }
   ],
   "source": [
    "a.app"
   ]
  },
  {
   "cell_type": "code",
   "execution_count": 9,
   "id": "461b5355",
   "metadata": {},
   "outputs": [],
   "source": [
    "a = int(1)"
   ]
  },
  {
   "cell_type": "code",
   "execution_count": 10,
   "id": "2121f355",
   "metadata": {},
   "outputs": [],
   "source": [
    "b = int(2)"
   ]
  },
  {
   "cell_type": "code",
   "execution_count": 11,
   "id": "9e4c4697",
   "metadata": {},
   "outputs": [],
   "source": [
    "c = int(3)"
   ]
  },
  {
   "cell_type": "code",
   "execution_count": 12,
   "id": "15da9a02",
   "metadata": {},
   "outputs": [],
   "source": [
    "class A:\n",
    "    x = 1"
   ]
  },
  {
   "cell_type": "code",
   "execution_count": 13,
   "id": "2bdc09fc",
   "metadata": {},
   "outputs": [],
   "source": [
    "a1 = A()\n",
    "a2 = A()\n",
    "a3 = A()"
   ]
  },
  {
   "cell_type": "code",
   "execution_count": 14,
   "id": "3669a0e0",
   "metadata": {},
   "outputs": [],
   "source": [
    "a1.t = 3\n",
    "a2.t = 4\n",
    "a3.t = 'a'"
   ]
  },
  {
   "cell_type": "code",
   "execution_count": 15,
   "id": "022f0a3b",
   "metadata": {},
   "outputs": [
    {
     "data": {
      "text/plain": [
       "1"
      ]
     },
     "execution_count": 15,
     "metadata": {},
     "output_type": "execute_result"
    }
   ],
   "source": [
    "a1.x"
   ]
  },
  {
   "cell_type": "code",
   "execution_count": 16,
   "id": "81af106d",
   "metadata": {},
   "outputs": [
    {
     "data": {
      "text/plain": [
       "1"
      ]
     },
     "execution_count": 16,
     "metadata": {},
     "output_type": "execute_result"
    }
   ],
   "source": [
    "a2.x"
   ]
  },
  {
   "cell_type": "markdown",
   "id": "182c3808",
   "metadata": {},
   "source": [
    "# instance 변수는 method가 실행 후 생성됨"
   ]
  },
  {
   "cell_type": "code",
   "execution_count": 22,
   "id": "3c5e28a1",
   "metadata": {},
   "outputs": [],
   "source": [
    "class B:\n",
    "    def bb(self):\n",
    "        self.t = 1"
   ]
  },
  {
   "cell_type": "code",
   "execution_count": 23,
   "id": "37cc7909",
   "metadata": {},
   "outputs": [],
   "source": [
    "b = B()"
   ]
  },
  {
   "cell_type": "code",
   "execution_count": 24,
   "id": "588c2e7b",
   "metadata": {},
   "outputs": [
    {
     "data": {
      "text/plain": [
       "{}"
      ]
     },
     "execution_count": 24,
     "metadata": {},
     "output_type": "execute_result"
    }
   ],
   "source": [
    "vars(b)"
   ]
  },
  {
   "cell_type": "code",
   "execution_count": 19,
   "id": "b334de22",
   "metadata": {},
   "outputs": [
    {
     "data": {
      "text/plain": [
       "['__class__',\n",
       " '__delattr__',\n",
       " '__dict__',\n",
       " '__dir__',\n",
       " '__doc__',\n",
       " '__eq__',\n",
       " '__format__',\n",
       " '__ge__',\n",
       " '__getattribute__',\n",
       " '__gt__',\n",
       " '__hash__',\n",
       " '__init__',\n",
       " '__init_subclass__',\n",
       " '__le__',\n",
       " '__lt__',\n",
       " '__module__',\n",
       " '__ne__',\n",
       " '__new__',\n",
       " '__reduce__',\n",
       " '__reduce_ex__',\n",
       " '__repr__',\n",
       " '__setattr__',\n",
       " '__sizeof__',\n",
       " '__str__',\n",
       " '__subclasshook__',\n",
       " '__weakref__',\n",
       " 'bb']"
      ]
     },
     "execution_count": 19,
     "metadata": {},
     "output_type": "execute_result"
    }
   ],
   "source": [
    "dir(b)"
   ]
  },
  {
   "cell_type": "code",
   "execution_count": 25,
   "id": "9ec9fa52",
   "metadata": {},
   "outputs": [],
   "source": [
    "b.bb()"
   ]
  },
  {
   "cell_type": "code",
   "execution_count": 27,
   "id": "4de0fa1d",
   "metadata": {},
   "outputs": [
    {
     "data": {
      "text/plain": [
       "{'t': 1}"
      ]
     },
     "execution_count": 27,
     "metadata": {},
     "output_type": "execute_result"
    }
   ],
   "source": [
    "vars(b)"
   ]
  },
  {
   "cell_type": "code",
   "execution_count": 21,
   "id": "a016dbb0",
   "metadata": {},
   "outputs": [
    {
     "data": {
      "text/plain": [
       "['__class__',\n",
       " '__delattr__',\n",
       " '__dict__',\n",
       " '__dir__',\n",
       " '__doc__',\n",
       " '__eq__',\n",
       " '__format__',\n",
       " '__ge__',\n",
       " '__getattribute__',\n",
       " '__gt__',\n",
       " '__hash__',\n",
       " '__init__',\n",
       " '__init_subclass__',\n",
       " '__le__',\n",
       " '__lt__',\n",
       " '__module__',\n",
       " '__ne__',\n",
       " '__new__',\n",
       " '__reduce__',\n",
       " '__reduce_ex__',\n",
       " '__repr__',\n",
       " '__setattr__',\n",
       " '__sizeof__',\n",
       " '__str__',\n",
       " '__subclasshook__',\n",
       " '__weakref__',\n",
       " 'bb',\n",
       " 't']"
      ]
     },
     "execution_count": 21,
     "metadata": {},
     "output_type": "execute_result"
    }
   ],
   "source": [
    "dir(b)"
   ]
  },
  {
   "cell_type": "code",
   "execution_count": 28,
   "id": "f4c88916",
   "metadata": {},
   "outputs": [],
   "source": [
    "class C:\n",
    "    def __init__(self):\n",
    "        print('A')"
   ]
  },
  {
   "cell_type": "code",
   "execution_count": 29,
   "id": "63d81a5c",
   "metadata": {},
   "outputs": [
    {
     "name": "stdout",
     "output_type": "stream",
     "text": [
      "A\n"
     ]
    }
   ],
   "source": [
    "c = C() # operator oveloading, constructor, magic, dundu"
   ]
  },
  {
   "cell_type": "code",
   "execution_count": 30,
   "id": "383a90d0",
   "metadata": {},
   "outputs": [],
   "source": [
    "class D:\n",
    "#    def __init__(self):\n",
    "#        print('A')\n",
    "    def xx(this, x):\n",
    "        this.x = 1\n",
    "    def xxx(self):\n",
    "        print(self.x)"
   ]
  },
  {
   "cell_type": "code",
   "execution_count": 31,
   "id": "7bebda56",
   "metadata": {},
   "outputs": [],
   "source": [
    "dd = D()"
   ]
  },
  {
   "cell_type": "code",
   "execution_count": 32,
   "id": "33280d45",
   "metadata": {},
   "outputs": [
    {
     "data": {
      "text/plain": [
       "{}"
      ]
     },
     "execution_count": 32,
     "metadata": {},
     "output_type": "execute_result"
    }
   ],
   "source": [
    "vars(dd)"
   ]
  },
  {
   "cell_type": "markdown",
   "id": "54b9e119",
   "metadata": {},
   "source": [
    "# instance는 첫번째 인자 생략하고 메소드 사용"
   ]
  },
  {
   "cell_type": "code",
   "execution_count": 35,
   "id": "6193ab30",
   "metadata": {},
   "outputs": [],
   "source": [
    "dd.xx(1)"
   ]
  },
  {
   "cell_type": "code",
   "execution_count": 36,
   "id": "634436de",
   "metadata": {},
   "outputs": [
    {
     "data": {
      "text/plain": [
       "{'x': 1}"
      ]
     },
     "execution_count": 36,
     "metadata": {},
     "output_type": "execute_result"
    }
   ],
   "source": [
    "vars(dd)"
   ]
  },
  {
   "cell_type": "code",
   "execution_count": 37,
   "id": "ba8dcbca",
   "metadata": {},
   "outputs": [
    {
     "name": "stdout",
     "output_type": "stream",
     "text": [
      "1\n"
     ]
    }
   ],
   "source": [
    "dd.xxx()"
   ]
  },
  {
   "cell_type": "markdown",
   "id": "e44e4b9b",
   "metadata": {},
   "source": [
    "# instance 변수는 instance 내에서 공유됨\n",
    "# class 변수는 instance 간에 공유됨"
   ]
  },
  {
   "cell_type": "code",
   "execution_count": null,
   "id": "f04b6136",
   "metadata": {},
   "outputs": [],
   "source": []
  },
  {
   "cell_type": "code",
   "execution_count": null,
   "id": "31703309",
   "metadata": {},
   "outputs": [],
   "source": [
    "a = 1\n",
    "\n",
    "def x():\n",
    "    print(a)\n",
    "    \n",
    "def xx():\n",
    "    print(a+)"
   ]
  },
  {
   "cell_type": "code",
   "execution_count": 47,
   "id": "fe080c6d",
   "metadata": {},
   "outputs": [],
   "source": [
    "class X:\n",
    "\n",
    "    def t(self, x):\n",
    "        self.x = x\n",
    "\n",
    "    def tt(self):\n",
    "        print(self.x)"
   ]
  },
  {
   "cell_type": "code",
   "execution_count": null,
   "id": "ca293138",
   "metadata": {},
   "outputs": [],
   "source": [
    "공유 (instance, class)"
   ]
  },
  {
   "cell_type": "code",
   "execution_count": 48,
   "id": "b442ba04",
   "metadata": {},
   "outputs": [],
   "source": [
    "a = X()\n",
    "X.t(a, 3)"
   ]
  },
  {
   "cell_type": "code",
   "execution_count": 49,
   "id": "1999157e",
   "metadata": {},
   "outputs": [
    {
     "data": {
      "text/plain": [
       "<function __main__.X.t(self, x)>"
      ]
     },
     "execution_count": 49,
     "metadata": {},
     "output_type": "execute_result"
    }
   ],
   "source": [
    "X.t"
   ]
  },
  {
   "cell_type": "code",
   "execution_count": 53,
   "id": "87c7058d",
   "metadata": {},
   "outputs": [],
   "source": [
    "a.t(3)"
   ]
  },
  {
   "cell_type": "code",
   "execution_count": null,
   "id": "78ba9f52",
   "metadata": {},
   "outputs": [],
   "source": [
    "len"
   ]
  },
  {
   "cell_type": "markdown",
   "id": "e0c73062",
   "metadata": {},
   "source": [
    "# instance화 하지 않고 class 자체 사용 가능. (metaclass 존재)"
   ]
  },
  {
   "cell_type": "code",
   "execution_count": 54,
   "id": "4f16b799",
   "metadata": {},
   "outputs": [],
   "source": [
    "class T:\n",
    "    def __init__(self):\n",
    "        self.a = 1\n",
    "        print('init')"
   ]
  },
  {
   "cell_type": "code",
   "execution_count": 55,
   "id": "9f71c342",
   "metadata": {},
   "outputs": [
    {
     "name": "stdout",
     "output_type": "stream",
     "text": [
      "init\n"
     ]
    }
   ],
   "source": [
    "t = T()"
   ]
  },
  {
   "cell_type": "code",
   "execution_count": 56,
   "id": "05c2899f",
   "metadata": {},
   "outputs": [
    {
     "ename": "TypeError",
     "evalue": "'T' object is not callable",
     "output_type": "error",
     "traceback": [
      "\u001b[1;31m---------------------------------------------------------------------------\u001b[0m",
      "\u001b[1;31mTypeError\u001b[0m                                 Traceback (most recent call last)",
      "Input \u001b[1;32mIn [56]\u001b[0m, in \u001b[0;36m<cell line: 1>\u001b[1;34m()\u001b[0m\n\u001b[1;32m----> 1\u001b[0m \u001b[43mt\u001b[49m\u001b[43m(\u001b[49m\u001b[43m)\u001b[49m\n",
      "\u001b[1;31mTypeError\u001b[0m: 'T' object is not callable"
     ]
    }
   ],
   "source": [
    "t()"
   ]
  },
  {
   "cell_type": "code",
   "execution_count": 57,
   "id": "cbba1327",
   "metadata": {},
   "outputs": [],
   "source": [
    "class TT:\n",
    "    def __init__(self):\n",
    "        self.a = 1\n",
    "        print('init')\n",
    "    def __call__(self):\n",
    "        print('call')"
   ]
  },
  {
   "cell_type": "code",
   "execution_count": 58,
   "id": "be98c9f1",
   "metadata": {},
   "outputs": [
    {
     "name": "stdout",
     "output_type": "stream",
     "text": [
      "init\n"
     ]
    }
   ],
   "source": [
    "tt = TT()"
   ]
  },
  {
   "cell_type": "code",
   "execution_count": 59,
   "id": "a7536048",
   "metadata": {},
   "outputs": [
    {
     "name": "stdout",
     "output_type": "stream",
     "text": [
      "call\n"
     ]
    }
   ],
   "source": [
    "tt()"
   ]
  },
  {
   "cell_type": "code",
   "execution_count": 60,
   "id": "6648ff9b",
   "metadata": {},
   "outputs": [
    {
     "name": "stdout",
     "output_type": "stream",
     "text": [
      "init\n",
      "call\n"
     ]
    }
   ],
   "source": [
    "TT()()"
   ]
  },
  {
   "cell_type": "code",
   "execution_count": 61,
   "id": "d704b7ac",
   "metadata": {},
   "outputs": [],
   "source": [
    "class S:\n",
    "    def __init__(self, a):\n",
    "        self.a = a\n",
    "        print('init')\n",
    "    def __call__(self,b):\n",
    "        return self.a + b\n",
    "        print('call')"
   ]
  },
  {
   "cell_type": "code",
   "execution_count": 63,
   "id": "3947f875",
   "metadata": {},
   "outputs": [
    {
     "name": "stdout",
     "output_type": "stream",
     "text": [
      "init\n"
     ]
    },
    {
     "data": {
      "text/plain": [
       "5"
      ]
     },
     "execution_count": 63,
     "metadata": {},
     "output_type": "execute_result"
    }
   ],
   "source": [
    "S(1)(4)"
   ]
  },
  {
   "cell_type": "code",
   "execution_count": 64,
   "id": "6acb5ada",
   "metadata": {},
   "outputs": [],
   "source": [
    "import tensorflow as tf"
   ]
  },
  {
   "cell_type": "code",
   "execution_count": 65,
   "id": "755eef26",
   "metadata": {},
   "outputs": [],
   "source": [
    "ss = tf.keras.models.Sequential"
   ]
  },
  {
   "cell_type": "code",
   "execution_count": 66,
   "id": "82653075",
   "metadata": {},
   "outputs": [
    {
     "data": {
      "text/plain": [
       "['_SCALAR_UPRANKING_ON',\n",
       " '_TF_MODULE_IGNORED_PROPERTIES',\n",
       " '__call__',\n",
       " '__class__',\n",
       " '__copy__',\n",
       " '__deepcopy__',\n",
       " '__delattr__',\n",
       " '__dict__',\n",
       " '__dir__',\n",
       " '__doc__',\n",
       " '__eq__',\n",
       " '__format__',\n",
       " '__ge__',\n",
       " '__getattribute__',\n",
       " '__getstate__',\n",
       " '__gt__',\n",
       " '__hash__',\n",
       " '__init__',\n",
       " '__init_subclass__',\n",
       " '__le__',\n",
       " '__lt__',\n",
       " '__module__',\n",
       " '__ne__',\n",
       " '__new__',\n",
       " '__reduce__',\n",
       " '__reduce_ex__',\n",
       " '__repr__',\n",
       " '__setattr__',\n",
       " '__setstate__',\n",
       " '__sizeof__',\n",
       " '__str__',\n",
       " '__subclasshook__',\n",
       " '__weakref__',\n",
       " '_add_trackable',\n",
       " '_add_trackable_child',\n",
       " '_add_variable_with_custom_getter',\n",
       " '_assert_compile_was_called',\n",
       " '_assert_weights_created',\n",
       " '_autographed_call',\n",
       " '_build_graph_network_for_inferred_shape',\n",
       " '_cast_single_input',\n",
       " '_check_call_args',\n",
       " '_check_sample_weight_warning',\n",
       " '_checkpoint_dependencies',\n",
       " '_clear_losses',\n",
       " '_compile_was_called',\n",
       " '_compute_dtype',\n",
       " '_compute_tensor_usage_count',\n",
       " '_configure_steps_per_execution',\n",
       " '_conform_to_reference_input',\n",
       " '_dedup_weights',\n",
       " '_deferred_dependencies',\n",
       " '_delete_tracking',\n",
       " '_deserialization_dependencies',\n",
       " '_deserialize_from_proto',\n",
       " '_dtype',\n",
       " '_eager_losses',\n",
       " '_expects_mask_arg',\n",
       " '_expects_training_arg',\n",
       " '_export_to_saved_model_graph',\n",
       " '_flatten',\n",
       " '_flatten_layers',\n",
       " '_flatten_modules',\n",
       " '_flatten_to_reference_inputs',\n",
       " '_functional_construction_call',\n",
       " '_gather_children_attribute',\n",
       " '_gather_saveables_for_checkpoint',\n",
       " '_get_callback_model',\n",
       " '_get_cell_name',\n",
       " '_get_compile_args',\n",
       " '_get_existing_metric',\n",
       " '_get_input_masks',\n",
       " '_get_node_attribute_at_index',\n",
       " '_get_optimizer',\n",
       " '_get_save_spec',\n",
       " '_get_trainable_state',\n",
       " '_get_unnested_name_scope',\n",
       " '_graph_network_add_loss',\n",
       " '_graph_network_add_metric',\n",
       " '_handle_activity_regularization',\n",
       " '_handle_deferred_dependencies',\n",
       " '_handle_deferred_layer_dependencies',\n",
       " '_handle_weight_regularization',\n",
       " '_in_multi_worker_mode',\n",
       " '_inbound_nodes',\n",
       " '_infer_output_signature',\n",
       " '_init_batch_counters',\n",
       " '_init_call_fn_args',\n",
       " '_init_graph_network',\n",
       " '_init_set_name',\n",
       " '_insert_layers',\n",
       " '_instrument_layer_creation',\n",
       " '_is_layer',\n",
       " '_is_layer_name_unique',\n",
       " '_keras_api_names',\n",
       " '_keras_api_names_v1',\n",
       " '_keras_tensor_symbolic_call',\n",
       " '_layer_checkpoint_dependencies',\n",
       " '_lookup_dependency',\n",
       " '_map_resources',\n",
       " '_maybe_build',\n",
       " '_maybe_cast_inputs',\n",
       " '_maybe_create_attribute',\n",
       " '_maybe_initialize_trackable',\n",
       " '_maybe_load_initial_counters_from_ckpt',\n",
       " '_maybe_load_initial_step_from_ckpt',\n",
       " '_must_restore_from_config',\n",
       " '_name_based_attribute_restore',\n",
       " '_name_based_restores',\n",
       " '_name_scope',\n",
       " '_no_dependency',\n",
       " '_obj_reference_counts',\n",
       " '_object_identifier',\n",
       " '_outbound_nodes',\n",
       " '_preload_simple_restoration',\n",
       " '_reset_compile_cache',\n",
       " '_restore_from_tensors',\n",
       " '_run_internal_graph',\n",
       " '_save_new',\n",
       " '_serialize_to_proto',\n",
       " '_serialize_to_tensors',\n",
       " '_set_connectivity_metadata',\n",
       " '_set_dtype_policy',\n",
       " '_set_inputs',\n",
       " '_set_mask_keras_history_checked',\n",
       " '_set_mask_metadata',\n",
       " '_set_output_names',\n",
       " '_set_save_spec',\n",
       " '_set_trainable_state',\n",
       " '_set_training_mode',\n",
       " '_setattr_tracking',\n",
       " '_should_cast_single_input',\n",
       " '_should_compute_mask',\n",
       " '_should_eval',\n",
       " '_tf_api_names',\n",
       " '_tf_api_names_v1',\n",
       " '_track_trackable',\n",
       " '_trackable_children',\n",
       " '_trackable_saved_model_saver',\n",
       " '_tracking_metadata',\n",
       " '_unconditional_checkpoint_dependencies',\n",
       " '_unconditional_dependency_names',\n",
       " '_undeduplicated_weights',\n",
       " '_update_uid',\n",
       " '_updated_config',\n",
       " '_use_input_spec_as_call_signature',\n",
       " '_validate_compile',\n",
       " '_validate_graph_inputs_and_outputs',\n",
       " '_validate_target_and_loss',\n",
       " 'activity_regularizer',\n",
       " 'add',\n",
       " 'add_loss',\n",
       " 'add_metric',\n",
       " 'add_update',\n",
       " 'add_variable',\n",
       " 'add_weight',\n",
       " 'build',\n",
       " 'call',\n",
       " 'compile',\n",
       " 'compute_dtype',\n",
       " 'compute_loss',\n",
       " 'compute_mask',\n",
       " 'compute_metrics',\n",
       " 'compute_output_shape',\n",
       " 'compute_output_signature',\n",
       " 'count_params',\n",
       " 'distribute_strategy',\n",
       " 'dtype',\n",
       " 'dtype_policy',\n",
       " 'dynamic',\n",
       " 'evaluate',\n",
       " 'evaluate_generator',\n",
       " 'finalize_state',\n",
       " 'fit',\n",
       " 'fit_generator',\n",
       " 'from_config',\n",
       " 'get_config',\n",
       " 'get_input_at',\n",
       " 'get_input_mask_at',\n",
       " 'get_input_shape_at',\n",
       " 'get_layer',\n",
       " 'get_output_at',\n",
       " 'get_output_mask_at',\n",
       " 'get_output_shape_at',\n",
       " 'get_weight_paths',\n",
       " 'get_weights',\n",
       " 'inbound_nodes',\n",
       " 'input',\n",
       " 'input_mask',\n",
       " 'input_shape',\n",
       " 'input_spec',\n",
       " 'layers',\n",
       " 'load_weights',\n",
       " 'losses',\n",
       " 'make_predict_function',\n",
       " 'make_test_function',\n",
       " 'make_train_function',\n",
       " 'metrics',\n",
       " 'metrics_names',\n",
       " 'name',\n",
       " 'name_scope',\n",
       " 'non_trainable_variables',\n",
       " 'non_trainable_weights',\n",
       " 'outbound_nodes',\n",
       " 'output',\n",
       " 'output_mask',\n",
       " 'output_shape',\n",
       " 'pop',\n",
       " 'predict',\n",
       " 'predict_generator',\n",
       " 'predict_on_batch',\n",
       " 'predict_step',\n",
       " 'reset_metrics',\n",
       " 'reset_states',\n",
       " 'run_eagerly',\n",
       " 'save',\n",
       " 'save_spec',\n",
       " 'save_weights',\n",
       " 'set_weights',\n",
       " 'state_updates',\n",
       " 'stateful',\n",
       " 'submodules',\n",
       " 'summary',\n",
       " 'supports_masking',\n",
       " 'test_on_batch',\n",
       " 'test_step',\n",
       " 'to_json',\n",
       " 'to_yaml',\n",
       " 'train_on_batch',\n",
       " 'train_step',\n",
       " 'trainable',\n",
       " 'trainable_variables',\n",
       " 'trainable_weights',\n",
       " 'updates',\n",
       " 'variable_dtype',\n",
       " 'variables',\n",
       " 'weights',\n",
       " 'with_name_scope']"
      ]
     },
     "execution_count": 66,
     "metadata": {},
     "output_type": "execute_result"
    }
   ],
   "source": [
    "dir(ss)"
   ]
  },
  {
   "cell_type": "markdown",
   "id": "e39a9ee1",
   "metadata": {},
   "source": [
    "# static method : 함수인데, 클래스의 네임스페이스만 차용 (인스턴스 화 기능 없이 사용 -> self = instance 없이)"
   ]
  },
  {
   "cell_type": "code",
   "execution_count": 110,
   "id": "c67eac60",
   "metadata": {},
   "outputs": [],
   "source": [
    "class T:\n",
    "    @staticmethod\n",
    "    def ss(self):\n",
    "        print('static')"
   ]
  },
  {
   "cell_type": "code",
   "execution_count": 111,
   "id": "3beaf5c2",
   "metadata": {},
   "outputs": [
    {
     "name": "stdout",
     "output_type": "stream",
     "text": [
      "static\n"
     ]
    }
   ],
   "source": [
    "T.ss(1)"
   ]
  },
  {
   "cell_type": "code",
   "execution_count": 112,
   "id": "6660bdef",
   "metadata": {},
   "outputs": [],
   "source": [
    "t = T()"
   ]
  },
  {
   "cell_type": "code",
   "execution_count": 114,
   "id": "d62b83f3",
   "metadata": {},
   "outputs": [
    {
     "name": "stdout",
     "output_type": "stream",
     "text": [
      "static\n"
     ]
    }
   ],
   "source": [
    "t.ss(4)"
   ]
  },
  {
   "cell_type": "code",
   "execution_count": null,
   "id": "10e821c3",
   "metadata": {},
   "outputs": [],
   "source": []
  },
  {
   "cell_type": "code",
   "execution_count": 76,
   "id": "75f02982",
   "metadata": {},
   "outputs": [
    {
     "ename": "TypeError",
     "evalue": "ss() takes 0 positional arguments but 1 was given",
     "output_type": "error",
     "traceback": [
      "\u001b[1;31m---------------------------------------------------------------------------\u001b[0m",
      "\u001b[1;31mTypeError\u001b[0m                                 Traceback (most recent call last)",
      "Input \u001b[1;32mIn [76]\u001b[0m, in \u001b[0;36m<cell line: 2>\u001b[1;34m()\u001b[0m\n\u001b[0;32m      1\u001b[0m t \u001b[38;5;241m=\u001b[39m T()\n\u001b[1;32m----> 2\u001b[0m \u001b[43mt\u001b[49m\u001b[38;5;241;43m.\u001b[39;49m\u001b[43mss\u001b[49m\u001b[43m(\u001b[49m\u001b[43m)\u001b[49m\n",
      "\u001b[1;31mTypeError\u001b[0m: ss() takes 0 positional arguments but 1 was given"
     ]
    }
   ],
   "source": [
    "t = T()\n",
    "t.ss()"
   ]
  },
  {
   "cell_type": "code",
   "execution_count": null,
   "id": "ae737b78",
   "metadata": {},
   "outputs": [],
   "source": [
    "t"
   ]
  },
  {
   "cell_type": "code",
   "execution_count": 67,
   "id": "7e444024",
   "metadata": {},
   "outputs": [],
   "source": [
    "def sin(self):\n",
    "        print('x')\n",
    "\n",
    "class Math:\n",
    "    def sin(self):\n",
    "        print('x')\n",
    "    def cos(self):\n",
    "        []"
   ]
  },
  {
   "cell_type": "code",
   "execution_count": 68,
   "id": "5e0b0f8e",
   "metadata": {},
   "outputs": [
    {
     "data": {
      "text/plain": [
       "<function __main__.A.x(self)>"
      ]
     },
     "execution_count": 68,
     "metadata": {},
     "output_type": "execute_result"
    }
   ],
   "source": [
    "A.x"
   ]
  },
  {
   "cell_type": "code",
   "execution_count": 77,
   "id": "773bd087",
   "metadata": {},
   "outputs": [],
   "source": [
    "class T:\n",
    "    x = 1"
   ]
  },
  {
   "cell_type": "code",
   "execution_count": 78,
   "id": "3d68dc67",
   "metadata": {},
   "outputs": [],
   "source": [
    "t = T()"
   ]
  },
  {
   "cell_type": "code",
   "execution_count": 79,
   "id": "3998d720",
   "metadata": {},
   "outputs": [
    {
     "data": {
      "text/plain": [
       "1"
      ]
     },
     "execution_count": 79,
     "metadata": {},
     "output_type": "execute_result"
    }
   ],
   "source": [
    "t.x # instance 변수에 없으면 class 변수를 참조"
   ]
  },
  {
   "cell_type": "code",
   "execution_count": 80,
   "id": "79669f3e",
   "metadata": {},
   "outputs": [
    {
     "data": {
      "text/plain": [
       "{}"
      ]
     },
     "execution_count": 80,
     "metadata": {},
     "output_type": "execute_result"
    }
   ],
   "source": [
    "vars(t)"
   ]
  },
  {
   "cell_type": "code",
   "execution_count": 81,
   "id": "c9a39350",
   "metadata": {},
   "outputs": [],
   "source": [
    "t.x = 2"
   ]
  },
  {
   "cell_type": "code",
   "execution_count": 82,
   "id": "6afa34b6",
   "metadata": {},
   "outputs": [
    {
     "data": {
      "text/plain": [
       "{'x': 2}"
      ]
     },
     "execution_count": 82,
     "metadata": {},
     "output_type": "execute_result"
    }
   ],
   "source": [
    "vars(t)"
   ]
  },
  {
   "cell_type": "code",
   "execution_count": 83,
   "id": "c7004335",
   "metadata": {},
   "outputs": [
    {
     "data": {
      "text/plain": [
       "2"
      ]
     },
     "execution_count": 83,
     "metadata": {},
     "output_type": "execute_result"
    }
   ],
   "source": [
    "t.x"
   ]
  },
  {
   "cell_type": "code",
   "execution_count": 84,
   "id": "b2d4d344",
   "metadata": {},
   "outputs": [],
   "source": [
    "s = T()"
   ]
  },
  {
   "cell_type": "code",
   "execution_count": 85,
   "id": "928d782a",
   "metadata": {},
   "outputs": [
    {
     "data": {
      "text/plain": [
       "1"
      ]
     },
     "execution_count": 85,
     "metadata": {},
     "output_type": "execute_result"
    }
   ],
   "source": [
    "s.x"
   ]
  },
  {
   "cell_type": "code",
   "execution_count": 90,
   "id": "966775c3",
   "metadata": {},
   "outputs": [],
   "source": [
    "class Y:\n",
    "    @classmethod\n",
    "    def z(cls):\n",
    "        cls.x = 1\n",
    "        print('cls')"
   ]
  },
  {
   "cell_type": "code",
   "execution_count": 91,
   "id": "a01187ad",
   "metadata": {},
   "outputs": [
    {
     "name": "stdout",
     "output_type": "stream",
     "text": [
      "cls\n"
     ]
    }
   ],
   "source": [
    "Y.z()"
   ]
  },
  {
   "cell_type": "code",
   "execution_count": 92,
   "id": "9763749d",
   "metadata": {},
   "outputs": [],
   "source": [
    "yy = Y()"
   ]
  },
  {
   "cell_type": "code",
   "execution_count": 93,
   "id": "abea17aa",
   "metadata": {},
   "outputs": [
    {
     "name": "stdout",
     "output_type": "stream",
     "text": [
      "cls\n"
     ]
    }
   ],
   "source": [
    "yy.z()"
   ]
  },
  {
   "cell_type": "code",
   "execution_count": 94,
   "id": "136b5b4d",
   "metadata": {},
   "outputs": [
    {
     "data": {
      "text/plain": [
       "1"
      ]
     },
     "execution_count": 94,
     "metadata": {},
     "output_type": "execute_result"
    }
   ],
   "source": [
    "yy.x"
   ]
  },
  {
   "cell_type": "code",
   "execution_count": 95,
   "id": "c080c345",
   "metadata": {},
   "outputs": [
    {
     "data": {
      "text/plain": [
       "{}"
      ]
     },
     "execution_count": 95,
     "metadata": {},
     "output_type": "execute_result"
    }
   ],
   "source": [
    "vars(yy)"
   ]
  },
  {
   "cell_type": "code",
   "execution_count": null,
   "id": "28aa65d8",
   "metadata": {},
   "outputs": [],
   "source": []
  },
  {
   "cell_type": "code",
   "execution_count": 88,
   "id": "ba7e72ec",
   "metadata": {},
   "outputs": [],
   "source": [
    "import pandas as pd"
   ]
  },
  {
   "cell_type": "code",
   "execution_count": null,
   "id": "266150de",
   "metadata": {},
   "outputs": [],
   "source": [
    "pd.DataFrame.from_dict"
   ]
  },
  {
   "cell_type": "code",
   "execution_count": 115,
   "id": "475d036e",
   "metadata": {},
   "outputs": [
    {
     "data": {
      "text/plain": [
       "1"
      ]
     },
     "execution_count": 115,
     "metadata": {},
     "output_type": "execute_result"
    }
   ],
   "source": [
    "len({'a':1})"
   ]
  },
  {
   "cell_type": "code",
   "execution_count": null,
   "id": "f10718e0",
   "metadata": {},
   "outputs": [],
   "source": [
    "같은 함수 또는 메소드 type에 따라 다르게 행동하지만 "
   ]
  },
  {
   "cell_type": "markdown",
   "id": "006096e0",
   "metadata": {},
   "source": [
    "# Generic"
   ]
  },
  {
   "cell_type": "code",
   "execution_count": 116,
   "id": "6d73f22d",
   "metadata": {},
   "outputs": [],
   "source": [
    "from functools import singledispatch"
   ]
  },
  {
   "cell_type": "code",
   "execution_count": 119,
   "id": "adaa5dcf",
   "metadata": {},
   "outputs": [],
   "source": [
    "@singledispatch\n",
    "def x(a):\n",
    "    print(a)\n",
    "\n",
    "@x.register(int)    \n",
    "def _(a):\n",
    "    print('int')\n",
    "   \n",
    "@x.register(str)    \n",
    "def _(a):\n",
    "    print('str')\n",
    "    "
   ]
  },
  {
   "cell_type": "code",
   "execution_count": 123,
   "id": "a3bb3db4",
   "metadata": {},
   "outputs": [
    {
     "data": {
      "text/plain": [
       "True"
      ]
     },
     "execution_count": 123,
     "metadata": {},
     "output_type": "execute_result"
    }
   ],
   "source": [
    "isinstance(3, int)"
   ]
  },
  {
   "cell_type": "code",
   "execution_count": 124,
   "id": "edc1474c",
   "metadata": {},
   "outputs": [
    {
     "data": {
      "text/plain": [
       "True"
      ]
     },
     "execution_count": 124,
     "metadata": {},
     "output_type": "execute_result"
    }
   ],
   "source": [
    "issubclass(bool, int)"
   ]
  },
  {
   "cell_type": "code",
   "execution_count": 120,
   "id": "b0f9d2fc",
   "metadata": {},
   "outputs": [
    {
     "name": "stdout",
     "output_type": "stream",
     "text": [
      "3.0\n"
     ]
    }
   ],
   "source": [
    "is\n",
    "-able > True, False : predicate"
   ]
  },
  {
   "cell_type": "code",
   "execution_count": 121,
   "id": "ef80772f",
   "metadata": {},
   "outputs": [
    {
     "name": "stdout",
     "output_type": "stream",
     "text": [
      "int\n"
     ]
    }
   ],
   "source": [
    "x(3)"
   ]
  },
  {
   "cell_type": "code",
   "execution_count": 122,
   "id": "2d4d5d69",
   "metadata": {},
   "outputs": [
    {
     "name": "stdout",
     "output_type": "stream",
     "text": [
      "str\n"
     ]
    }
   ],
   "source": [
    "x('a')"
   ]
  },
  {
   "cell_type": "code",
   "execution_count": null,
   "id": "3ffa5d1f",
   "metadata": {},
   "outputs": [],
   "source": []
  }
 ],
 "metadata": {
  "kernelspec": {
   "display_name": "Python 3 (ipykernel)",
   "language": "python",
   "name": "python3"
  },
  "language_info": {
   "codemirror_mode": {
    "name": "ipython",
    "version": 3
   },
   "file_extension": ".py",
   "mimetype": "text/x-python",
   "name": "python",
   "nbconvert_exporter": "python",
   "pygments_lexer": "ipython3",
   "version": "3.9.12"
  }
 },
 "nbformat": 4,
 "nbformat_minor": 5
}
