{
 "cells": [
  {
   "cell_type": "code",
   "execution_count": null,
   "id": "2024ef2d",
   "metadata": {},
   "outputs": [],
   "source": [
    "재사용 > declaration / definition\n",
    "- 함수\n",
    "- 클래스"
   ]
  },
  {
   "cell_type": "code",
   "execution_count": null,
   "id": "4cf388ce",
   "metadata": {},
   "outputs": [],
   "source": [
    "arguement (인자) : 사용\n",
    "parameter (매개변수) : 정의"
   ]
  },
  {
   "cell_type": "code",
   "execution_count": 1,
   "id": "b91dfc45",
   "metadata": {},
   "outputs": [],
   "source": [
    "def x(a):\n",
    "    print(a)"
   ]
  },
  {
   "cell_type": "code",
   "execution_count": null,
   "id": "c185dffb",
   "metadata": {},
   "outputs": [],
   "source": [
    "()는 callable "
   ]
  },
  {
   "cell_type": "code",
   "execution_count": null,
   "id": "b85ded60",
   "metadata": {},
   "outputs": [],
   "source": [
    "x\n",
    "x()\n",
    "x(a)\n",
    "x(3)"
   ]
  },
  {
   "cell_type": "code",
   "execution_count": 69,
   "id": "1aa3ee15",
   "metadata": {},
   "outputs": [
    {
     "data": {
      "text/plain": [
       "<function __main__.x(a, b)>"
      ]
     },
     "execution_count": 69,
     "metadata": {},
     "output_type": "execute_result"
    }
   ],
   "source": [
    "x"
   ]
  },
  {
   "cell_type": "code",
   "execution_count": null,
   "id": "a394954a",
   "metadata": {},
   "outputs": [],
   "source": [
    "x() <- return "
   ]
  },
  {
   "cell_type": "code",
   "execution_count": 2,
   "id": "e280e1df",
   "metadata": {},
   "outputs": [
    {
     "name": "stdout",
     "output_type": "stream",
     "text": [
      "3\n"
     ]
    }
   ],
   "source": [
    "x(3)"
   ]
  },
  {
   "cell_type": "code",
   "execution_count": null,
   "id": "2dd03146",
   "metadata": {},
   "outputs": [],
   "source": [
    "기본적으로 파라미터 수와 아규먼트 수가 일치"
   ]
  },
  {
   "cell_type": "code",
   "execution_count": 3,
   "id": "a2cd2ce3",
   "metadata": {},
   "outputs": [
    {
     "ename": "TypeError",
     "evalue": "x() missing 1 required positional argument: 'a'",
     "output_type": "error",
     "traceback": [
      "\u001b[1;31m---------------------------------------------------------------------------\u001b[0m",
      "\u001b[1;31mTypeError\u001b[0m                                 Traceback (most recent call last)",
      "Input \u001b[1;32mIn [3]\u001b[0m, in \u001b[0;36m<cell line: 1>\u001b[1;34m()\u001b[0m\n\u001b[1;32m----> 1\u001b[0m \u001b[43mx\u001b[49m\u001b[43m(\u001b[49m\u001b[43m)\u001b[49m\n",
      "\u001b[1;31mTypeError\u001b[0m: x() missing 1 required positional argument: 'a'"
     ]
    }
   ],
   "source": [
    "x()"
   ]
  },
  {
   "cell_type": "code",
   "execution_count": 5,
   "id": "30d6ae33",
   "metadata": {},
   "outputs": [],
   "source": [
    "def xx(a,b):\n",
    "    print(a+2*b)"
   ]
  },
  {
   "cell_type": "code",
   "execution_count": 7,
   "id": "7208651a",
   "metadata": {},
   "outputs": [
    {
     "name": "stdout",
     "output_type": "stream",
     "text": [
      "8\n"
     ]
    }
   ],
   "source": [
    "xx(2,3)"
   ]
  },
  {
   "cell_type": "code",
   "execution_count": 8,
   "id": "a1dddc10",
   "metadata": {},
   "outputs": [
    {
     "name": "stdout",
     "output_type": "stream",
     "text": [
      "8\n"
     ]
    }
   ],
   "source": [
    "xx(a=2, b=3)"
   ]
  },
  {
   "cell_type": "code",
   "execution_count": 9,
   "id": "99847af6",
   "metadata": {},
   "outputs": [
    {
     "name": "stdout",
     "output_type": "stream",
     "text": [
      "7\n"
     ]
    }
   ],
   "source": [
    "xx(b=2, a=3)"
   ]
  },
  {
   "cell_type": "markdown",
   "id": "4de0e361",
   "metadata": {},
   "source": [
    "# defalut"
   ]
  },
  {
   "cell_type": "code",
   "execution_count": null,
   "id": "1094bab2",
   "metadata": {},
   "outputs": [],
   "source": [
    "python에는 기본적으로 function overloading을 지원하지 않는 대신에, keyword 방식 지원"
   ]
  },
  {
   "cell_type": "code",
   "execution_count": 14,
   "id": "ac1cac40",
   "metadata": {},
   "outputs": [],
   "source": [
    "def xxx(a,b=3):\n",
    "    print(a,b*3)"
   ]
  },
  {
   "cell_type": "code",
   "execution_count": 15,
   "id": "b577dcef",
   "metadata": {},
   "outputs": [
    {
     "name": "stdout",
     "output_type": "stream",
     "text": [
      "3 9\n"
     ]
    }
   ],
   "source": [
    "xxx(3)"
   ]
  },
  {
   "cell_type": "code",
   "execution_count": 16,
   "id": "546d700c",
   "metadata": {},
   "outputs": [
    {
     "name": "stdout",
     "output_type": "stream",
     "text": [
      "3 12\n"
     ]
    }
   ],
   "source": [
    "xxx(3,4)"
   ]
  },
  {
   "cell_type": "code",
   "execution_count": 17,
   "id": "f40e07aa",
   "metadata": {},
   "outputs": [
    {
     "ename": "SyntaxError",
     "evalue": "non-default argument follows default argument (300200983.py, line 1)",
     "output_type": "error",
     "traceback": [
      "\u001b[1;36m  Input \u001b[1;32mIn [17]\u001b[1;36m\u001b[0m\n\u001b[1;33m    def xxx(a=3,b):\u001b[0m\n\u001b[1;37m                 ^\u001b[0m\n\u001b[1;31mSyntaxError\u001b[0m\u001b[1;31m:\u001b[0m non-default argument follows default argument\n"
     ]
    }
   ],
   "source": [
    "def xxx(a=3,b):\n",
    "    print(a,b*3)"
   ]
  },
  {
   "cell_type": "code",
   "execution_count": 21,
   "id": "deb5f274",
   "metadata": {},
   "outputs": [],
   "source": [
    "def xxxx(a,b=1,c=2,d=3):\n",
    "    print(a,b*3)"
   ]
  },
  {
   "cell_type": "code",
   "execution_count": 22,
   "id": "8a511863",
   "metadata": {},
   "outputs": [
    {
     "name": "stdout",
     "output_type": "stream",
     "text": [
      "1 3\n"
     ]
    }
   ],
   "source": [
    "xxxx(1,1,2,4) # postional 방식은 무조건 다 사용"
   ]
  },
  {
   "cell_type": "code",
   "execution_count": 45,
   "id": "fef74c8d",
   "metadata": {},
   "outputs": [
    {
     "ename": "SyntaxError",
     "evalue": "positional argument follows keyword argument (2884867621.py, line 1)",
     "output_type": "error",
     "traceback": [
      "\u001b[1;36m  Input \u001b[1;32mIn [45]\u001b[1;36m\u001b[0m\n\u001b[1;33m    xxxx(1,b=2,3,4)\u001b[0m\n\u001b[1;37m                  ^\u001b[0m\n\u001b[1;31mSyntaxError\u001b[0m\u001b[1;31m:\u001b[0m positional argument follows keyword argument\n"
     ]
    }
   ],
   "source": [
    " xxxx(1,b=2,3,4)"
   ]
  },
  {
   "cell_type": "code",
   "execution_count": 23,
   "id": "07c223fe",
   "metadata": {},
   "outputs": [
    {
     "name": "stdout",
     "output_type": "stream",
     "text": [
      "1 3\n"
     ]
    }
   ],
   "source": [
    "xxxx(a=1, d=4)"
   ]
  },
  {
   "cell_type": "code",
   "execution_count": 24,
   "id": "868d2cf1",
   "metadata": {},
   "outputs": [
    {
     "name": "stdout",
     "output_type": "stream",
     "text": [
      "1 3\n"
     ]
    }
   ],
   "source": [
    "xxxx(1, d=4)"
   ]
  },
  {
   "cell_type": "code",
   "execution_count": 25,
   "id": "139fa6ad",
   "metadata": {},
   "outputs": [],
   "source": [
    "def y(a,/,b):\n",
    "    print(a,b)"
   ]
  },
  {
   "cell_type": "code",
   "execution_count": 30,
   "id": "a1c854a5",
   "metadata": {},
   "outputs": [],
   "source": [
    "def z(a,*,b):\n",
    "    print(a,b)"
   ]
  },
  {
   "cell_type": "code",
   "execution_count": 31,
   "id": "3ba87067",
   "metadata": {},
   "outputs": [
    {
     "ename": "TypeError",
     "evalue": "z() takes 1 positional argument but 2 were given",
     "output_type": "error",
     "traceback": [
      "\u001b[1;31m---------------------------------------------------------------------------\u001b[0m",
      "\u001b[1;31mTypeError\u001b[0m                                 Traceback (most recent call last)",
      "Input \u001b[1;32mIn [31]\u001b[0m, in \u001b[0;36m<cell line: 1>\u001b[1;34m()\u001b[0m\n\u001b[1;32m----> 1\u001b[0m \u001b[43mz\u001b[49m\u001b[43m(\u001b[49m\u001b[38;5;241;43m1\u001b[39;49m\u001b[43m,\u001b[49m\u001b[38;5;241;43m2\u001b[39;49m\u001b[43m)\u001b[49m\n",
      "\u001b[1;31mTypeError\u001b[0m: z() takes 1 positional argument but 2 were given"
     ]
    }
   ],
   "source": [
    "z(1,2)"
   ]
  },
  {
   "cell_type": "code",
   "execution_count": 32,
   "id": "a4160932",
   "metadata": {},
   "outputs": [
    {
     "name": "stdout",
     "output_type": "stream",
     "text": [
      "1 2\n"
     ]
    }
   ],
   "source": [
    "z(1, b=2)"
   ]
  },
  {
   "cell_type": "code",
   "execution_count": 26,
   "id": "5cacc42a",
   "metadata": {},
   "outputs": [
    {
     "name": "stdout",
     "output_type": "stream",
     "text": [
      "1 3\n"
     ]
    }
   ],
   "source": [
    "y(1,3)"
   ]
  },
  {
   "cell_type": "code",
   "execution_count": 27,
   "id": "5b4e5073",
   "metadata": {},
   "outputs": [
    {
     "ename": "TypeError",
     "evalue": "y() got some positional-only arguments passed as keyword arguments: 'a'",
     "output_type": "error",
     "traceback": [
      "\u001b[1;31m---------------------------------------------------------------------------\u001b[0m",
      "\u001b[1;31mTypeError\u001b[0m                                 Traceback (most recent call last)",
      "Input \u001b[1;32mIn [27]\u001b[0m, in \u001b[0;36m<cell line: 1>\u001b[1;34m()\u001b[0m\n\u001b[1;32m----> 1\u001b[0m \u001b[43my\u001b[49m\u001b[43m(\u001b[49m\u001b[43ma\u001b[49m\u001b[38;5;241;43m=\u001b[39;49m\u001b[38;5;241;43m1\u001b[39;49m\u001b[43m,\u001b[49m\u001b[43m \u001b[49m\u001b[43mb\u001b[49m\u001b[38;5;241;43m=\u001b[39;49m\u001b[38;5;241;43m3\u001b[39;49m\u001b[43m)\u001b[49m\n",
      "\u001b[1;31mTypeError\u001b[0m: y() got some positional-only arguments passed as keyword arguments: 'a'"
     ]
    }
   ],
   "source": [
    "y(a=1, b=3)"
   ]
  },
  {
   "cell_type": "code",
   "execution_count": 28,
   "id": "6060f993",
   "metadata": {},
   "outputs": [
    {
     "name": "stdout",
     "output_type": "stream",
     "text": [
      "1 3\n"
     ]
    }
   ],
   "source": [
    "y(1,b=3)"
   ]
  },
  {
   "cell_type": "code",
   "execution_count": 29,
   "id": "f675b961",
   "metadata": {},
   "outputs": [
    {
     "ename": "TypeError",
     "evalue": "len() takes no keyword arguments",
     "output_type": "error",
     "traceback": [
      "\u001b[1;31m---------------------------------------------------------------------------\u001b[0m",
      "\u001b[1;31mTypeError\u001b[0m                                 Traceback (most recent call last)",
      "Input \u001b[1;32mIn [29]\u001b[0m, in \u001b[0;36m<cell line: 1>\u001b[1;34m()\u001b[0m\n\u001b[1;32m----> 1\u001b[0m \u001b[38;5;28;43mlen\u001b[39;49m\u001b[43m(\u001b[49m\u001b[43mobj\u001b[49m\u001b[38;5;241;43m=\u001b[39;49m\u001b[43m[\u001b[49m\u001b[38;5;241;43m1\u001b[39;49m\u001b[43m,\u001b[49m\u001b[38;5;241;43m2\u001b[39;49m\u001b[43m,\u001b[49m\u001b[38;5;241;43m3\u001b[39;49m\u001b[43m]\u001b[49m\u001b[43m)\u001b[49m\n",
      "\u001b[1;31mTypeError\u001b[0m: len() takes no keyword arguments"
     ]
    }
   ],
   "source": [
    "len(obj=[1,2,3])"
   ]
  },
  {
   "cell_type": "code",
   "execution_count": 18,
   "id": "c4ccfb05",
   "metadata": {},
   "outputs": [],
   "source": [
    "import pandas as pd"
   ]
  },
  {
   "cell_type": "code",
   "execution_count": null,
   "id": "05e2e35e",
   "metadata": {},
   "outputs": [],
   "source": [
    "pd.read_csv"
   ]
  },
  {
   "cell_type": "code",
   "execution_count": 33,
   "id": "91102fe5",
   "metadata": {},
   "outputs": [],
   "source": [
    "import matplotlib.pyplot as plt"
   ]
  },
  {
   "cell_type": "code",
   "execution_count": 35,
   "id": "6ca05f44",
   "metadata": {},
   "outputs": [
    {
     "data": {
      "text/plain": [
       "(array([2., 0., 0., 0., 0., 2., 0., 0., 0., 1.]),\n",
       " array([1. , 1.2, 1.4, 1.6, 1.8, 2. , 2.2, 2.4, 2.6, 2.8, 3. ]),\n",
       " <BarContainer object of 10 artists>)"
      ]
     },
     "execution_count": 35,
     "metadata": {},
     "output_type": "execute_result"
    },
    {
     "data": {
      "image/png": "[encoded data removed]",
      "text/plain": [
       "<Figure size 432x288 with 1 Axes>"
      ]
     },
     "metadata": {
      "needs_background": "light"
     },
     "output_type": "display_data"
    }
   ],
   "source": [
    "plt.hist([1,1,2,2,3,], color='pink')"
   ]
  },
  {
   "cell_type": "code",
   "execution_count": 36,
   "id": "71398315",
   "metadata": {},
   "outputs": [],
   "source": [
    "def zz(*a): 가변 포지셔널 방식\n",
    "    print(a)"
   ]
  },
  {
   "cell_type": "code",
   "execution_count": 42,
   "id": "ba5e1666",
   "metadata": {},
   "outputs": [],
   "source": [
    "def zzz(**a): 가변 키워드 방식\n",
    "    print(a)"
   ]
  },
  {
   "cell_type": "code",
   "execution_count": 43,
   "id": "adbf24cb",
   "metadata": {},
   "outputs": [
    {
     "name": "stdout",
     "output_type": "stream",
     "text": [
      "{}\n"
     ]
    }
   ],
   "source": [
    "zzz()"
   ]
  },
  {
   "cell_type": "code",
   "execution_count": 44,
   "id": "9dad4a01",
   "metadata": {},
   "outputs": [
    {
     "name": "stdout",
     "output_type": "stream",
     "text": [
      "{'a': 1}\n"
     ]
    }
   ],
   "source": [
    "zzz(a=1)"
   ]
  },
  {
   "cell_type": "code",
   "execution_count": 37,
   "id": "168222fa",
   "metadata": {},
   "outputs": [
    {
     "name": "stdout",
     "output_type": "stream",
     "text": [
      "()\n"
     ]
    }
   ],
   "source": [
    "zz()"
   ]
  },
  {
   "cell_type": "code",
   "execution_count": 38,
   "id": "fecd18d6",
   "metadata": {},
   "outputs": [
    {
     "name": "stdout",
     "output_type": "stream",
     "text": [
      "(1,)\n"
     ]
    }
   ],
   "source": [
    "zz(1)"
   ]
  },
  {
   "cell_type": "code",
   "execution_count": 41,
   "id": "f933e645",
   "metadata": {},
   "outputs": [
    {
     "name": "stdout",
     "output_type": "stream",
     "text": [
      "(1, 2, 3)\n"
     ]
    }
   ],
   "source": [
    "zz(1,2,3)"
   ]
  },
  {
   "cell_type": "code",
   "execution_count": 39,
   "id": "89ad68a7",
   "metadata": {},
   "outputs": [
    {
     "ename": "TypeError",
     "evalue": "zz() got an unexpected keyword argument 'a'",
     "output_type": "error",
     "traceback": [
      "\u001b[1;31m---------------------------------------------------------------------------\u001b[0m",
      "\u001b[1;31mTypeError\u001b[0m                                 Traceback (most recent call last)",
      "Input \u001b[1;32mIn [39]\u001b[0m, in \u001b[0;36m<cell line: 1>\u001b[1;34m()\u001b[0m\n\u001b[1;32m----> 1\u001b[0m \u001b[43mzz\u001b[49m\u001b[43m(\u001b[49m\u001b[43ma\u001b[49m\u001b[38;5;241;43m=\u001b[39;49m\u001b[38;5;241;43m1\u001b[39;49m\u001b[43m)\u001b[49m\n",
      "\u001b[1;31mTypeError\u001b[0m: zz() got an unexpected keyword argument 'a'"
     ]
    }
   ],
   "source": [
    "zz(a=1)"
   ]
  },
  {
   "cell_type": "code",
   "execution_count": 46,
   "id": "facf8fad",
   "metadata": {},
   "outputs": [],
   "source": [
    "def t(*a):\n",
    "    print(a)"
   ]
  },
  {
   "cell_type": "code",
   "execution_count": 47,
   "id": "443cd703",
   "metadata": {},
   "outputs": [],
   "source": [
    "xx = [1,2,3,4]"
   ]
  },
  {
   "cell_type": "code",
   "execution_count": 48,
   "id": "4c84ff44",
   "metadata": {},
   "outputs": [
    {
     "name": "stdout",
     "output_type": "stream",
     "text": [
      "([1, 2, 3, 4],)\n"
     ]
    }
   ],
   "source": [
    "t(xx)"
   ]
  },
  {
   "cell_type": "code",
   "execution_count": 49,
   "id": "e8653fdc",
   "metadata": {},
   "outputs": [
    {
     "name": "stdout",
     "output_type": "stream",
     "text": [
      "(1, 2, 3, 4)\n"
     ]
    }
   ],
   "source": [
    "t(*xx)"
   ]
  },
  {
   "cell_type": "code",
   "execution_count": 52,
   "id": "03e29d9b",
   "metadata": {},
   "outputs": [],
   "source": [
    "def tt(**a):\n",
    "    print(a)"
   ]
  },
  {
   "cell_type": "code",
   "execution_count": 53,
   "id": "d75d21d1",
   "metadata": {},
   "outputs": [],
   "source": [
    "xxx = {'a':1, 'b':2}"
   ]
  },
  {
   "cell_type": "code",
   "execution_count": 54,
   "id": "85ac580c",
   "metadata": {},
   "outputs": [
    {
     "name": "stdout",
     "output_type": "stream",
     "text": [
      "{'a': 1, 'b': 2}\n"
     ]
    }
   ],
   "source": [
    "tt(**xxx)"
   ]
  },
  {
   "cell_type": "code",
   "execution_count": 55,
   "id": "622c72ca",
   "metadata": {},
   "outputs": [],
   "source": [
    "def t(*a):\n",
    "    print(a)"
   ]
  },
  {
   "cell_type": "code",
   "execution_count": 56,
   "id": "0abfffff",
   "metadata": {},
   "outputs": [
    {
     "name": "stdout",
     "output_type": "stream",
     "text": [
      "('a', 'b')\n"
     ]
    }
   ],
   "source": [
    "t(*xxx)"
   ]
  },
  {
   "cell_type": "code",
   "execution_count": 57,
   "id": "c758b7ca",
   "metadata": {},
   "outputs": [],
   "source": [
    "a = {'a':1, 'b':2}\n",
    "c = {'a':3, 'c':4}"
   ]
  },
  {
   "cell_type": "code",
   "execution_count": 58,
   "id": "31fff54f",
   "metadata": {},
   "outputs": [
    {
     "data": {
      "text/plain": [
       "{'a': 3, 'b': 2, 'c': 4}"
      ]
     },
     "execution_count": 58,
     "metadata": {},
     "output_type": "execute_result"
    }
   ],
   "source": [
    "{**a, **c}"
   ]
  },
  {
   "cell_type": "code",
   "execution_count": 59,
   "id": "68669813",
   "metadata": {},
   "outputs": [],
   "source": [
    "a = 1"
   ]
  },
  {
   "cell_type": "code",
   "execution_count": 60,
   "id": "c940e342",
   "metadata": {},
   "outputs": [
    {
     "data": {
      "text/plain": [
       "<function __main__.t(*a)>"
      ]
     },
     "execution_count": 60,
     "metadata": {},
     "output_type": "execute_result"
    }
   ],
   "source": [
    "t"
   ]
  },
  {
   "cell_type": "code",
   "execution_count": 61,
   "id": "f9576f93",
   "metadata": {},
   "outputs": [],
   "source": [
    "a = t"
   ]
  },
  {
   "cell_type": "code",
   "execution_count": 62,
   "id": "a0a162fa",
   "metadata": {},
   "outputs": [],
   "source": [
    "aa = print"
   ]
  },
  {
   "cell_type": "code",
   "execution_count": 66,
   "id": "7c85cf16",
   "metadata": {},
   "outputs": [
    {
     "data": {
      "text/plain": [
       "'print'"
      ]
     },
     "execution_count": 66,
     "metadata": {},
     "output_type": "execute_result"
    }
   ],
   "source": [
    "aa.__name__"
   ]
  },
  {
   "cell_type": "code",
   "execution_count": 67,
   "id": "73087475",
   "metadata": {},
   "outputs": [
    {
     "data": {
      "text/plain": [
       "'print'"
      ]
     },
     "execution_count": 67,
     "metadata": {},
     "output_type": "execute_result"
    }
   ],
   "source": [
    "aa.__qualname__"
   ]
  },
  {
   "cell_type": "code",
   "execution_count": 63,
   "id": "afc28214",
   "metadata": {},
   "outputs": [
    {
     "name": "stdout",
     "output_type": "stream",
     "text": [
      "문근영\n"
     ]
    }
   ],
   "source": [
    "aa('문근영')"
   ]
  },
  {
   "cell_type": "code",
   "execution_count": 64,
   "id": "653178f8",
   "metadata": {},
   "outputs": [],
   "source": [
    "출력하다 = print"
   ]
  },
  {
   "cell_type": "code",
   "execution_count": 65,
   "id": "0be4812c",
   "metadata": {},
   "outputs": [
    {
     "name": "stdout",
     "output_type": "stream",
     "text": [
      "ㅁ\n"
     ]
    }
   ],
   "source": [
    "출력하다('ㅁ')"
   ]
  },
  {
   "cell_type": "code",
   "execution_count": 68,
   "id": "410e8ae3",
   "metadata": {},
   "outputs": [],
   "source": [
    "print = 1"
   ]
  },
  {
   "cell_type": "code",
   "execution_count": null,
   "id": "1b68908a",
   "metadata": {},
   "outputs": [],
   "source": []
  }
 ],
 "metadata": {
  "kernelspec": {
   "display_name": "Python 3 (ipykernel)",
   "language": "python",
   "name": "python3"
  },
  "language_info": {
   "codemirror_mode": {
    "name": "ipython",
    "version": 3
   },
   "file_extension": ".py",
   "mimetype": "text/x-python",
   "name": "python",
   "nbconvert_exporter": "python",
   "pygments_lexer": "ipython3",
   "version": "3.9.12"
  }
 },
 "nbformat": 4,
 "nbformat_minor": 5
}
