{
 "cells": [
  {
   "cell_type": "code",
   "execution_count": 1,
   "id": "9161ba06",
   "metadata": {},
   "outputs": [
    {
     "name": "stdout",
     "output_type": "stream",
     "text": [
      "8.44 s ± 102 ms per loop (mean ± std. dev. of 7 runs, 1 loop each)\n"
     ]
    }
   ],
   "source": [
    "%timeit sum([i for i in range(100000000)])"
   ]
  },
  {
   "cell_type": "code",
   "execution_count": 2,
   "id": "58bd2410",
   "metadata": {},
   "outputs": [
    {
     "name": "stdout",
     "output_type": "stream",
     "text": [
      "5.49 s ± 9.27 ms per loop (mean ± std. dev. of 7 runs, 1 loop each)\n"
     ]
    }
   ],
   "source": [
    "%timeit sum((i for i in range(100000000)))"
   ]
  },
  {
   "cell_type": "code",
   "execution_count": 3,
   "id": "1107fa62",
   "metadata": {},
   "outputs": [
    {
     "name": "stdout",
     "output_type": "stream",
     "text": [
      "5.48 s ± 22.6 ms per loop (mean ± std. dev. of 7 runs, 1 loop each)\n"
     ]
    }
   ],
   "source": [
    "%timeit sum(i for i in range(100000000))"
   ]
  },
  {
   "cell_type": "code",
   "execution_count": 4,
   "id": "431449f3",
   "metadata": {},
   "outputs": [],
   "source": [
    "def x():\n",
    "    return 1"
   ]
  },
  {
   "cell_type": "code",
   "execution_count": 5,
   "id": "fd452821",
   "metadata": {},
   "outputs": [
    {
     "data": {
      "text/plain": [
       "{<function __main__.x()>: 1}"
      ]
     },
     "execution_count": 5,
     "metadata": {},
     "output_type": "execute_result"
    }
   ],
   "source": [
    "{x : 1}"
   ]
  },
  {
   "cell_type": "code",
   "execution_count": null,
   "id": "89365c67",
   "metadata": {},
   "outputs": [],
   "source": []
  },
  {
   "cell_type": "code",
   "execution_count": null,
   "id": "45cff4f5",
   "metadata": {},
   "outputs": [],
   "source": [
    "first class : value \n",
    "1. a = x\n",
    "2. a[x], {'a':x}\n",
    "3. \n",
    "...\n",
    "10. fun(x) \n",
    "11 def a():\n",
    "    retun x"
   ]
  },
  {
   "cell_type": "markdown",
   "id": "358e54f8",
   "metadata": {},
   "source": [
    "# closoure"
   ]
  },
  {
   "cell_type": "code",
   "execution_count": 7,
   "id": "c97907c5",
   "metadata": {},
   "outputs": [],
   "source": [
    "def t():\n",
    "    def y():\n",
    "        return 1\n",
    "    return y()"
   ]
  },
  {
   "cell_type": "code",
   "execution_count": 8,
   "id": "f71cb2e9",
   "metadata": {},
   "outputs": [
    {
     "data": {
      "text/plain": [
       "1"
      ]
     },
     "execution_count": 8,
     "metadata": {},
     "output_type": "execute_result"
    }
   ],
   "source": [
    "t()"
   ]
  },
  {
   "cell_type": "code",
   "execution_count": 9,
   "id": "083227b7",
   "metadata": {},
   "outputs": [],
   "source": [
    "def t():\n",
    "    def y():\n",
    "        return 1\n",
    "    return y"
   ]
  },
  {
   "cell_type": "code",
   "execution_count": 11,
   "id": "f0431ade",
   "metadata": {},
   "outputs": [
    {
     "data": {
      "text/plain": [
       "1"
      ]
     },
     "execution_count": 11,
     "metadata": {},
     "output_type": "execute_result"
    }
   ],
   "source": [
    "t()()"
   ]
  },
  {
   "cell_type": "code",
   "execution_count": 12,
   "id": "08b75b62",
   "metadata": {},
   "outputs": [],
   "source": [
    "def t():\n",
    "    def y(m):\n",
    "        return m\n",
    "    return y"
   ]
  },
  {
   "cell_type": "code",
   "execution_count": 15,
   "id": "632e05a1",
   "metadata": {},
   "outputs": [
    {
     "data": {
      "text/plain": [
       "3"
      ]
     },
     "execution_count": 15,
     "metadata": {},
     "output_type": "execute_result"
    }
   ],
   "source": [
    "t()(3)"
   ]
  },
  {
   "cell_type": "code",
   "execution_count": 16,
   "id": "b00ad761",
   "metadata": {},
   "outputs": [],
   "source": [
    "def t(n):\n",
    "    return lambda m:m+n"
   ]
  },
  {
   "cell_type": "code",
   "execution_count": 20,
   "id": "72870b16",
   "metadata": {},
   "outputs": [],
   "source": [
    "a = lambda x:1"
   ]
  },
  {
   "cell_type": "code",
   "execution_count": 21,
   "id": "e5c8d38a",
   "metadata": {},
   "outputs": [
    {
     "data": {
      "text/plain": [
       "'<lambda>'"
      ]
     },
     "execution_count": 21,
     "metadata": {},
     "output_type": "execute_result"
    }
   ],
   "source": [
    "a.__name__"
   ]
  },
  {
   "cell_type": "code",
   "execution_count": null,
   "id": "4671fe84",
   "metadata": {},
   "outputs": [],
   "source": []
  },
  {
   "cell_type": "code",
   "execution_count": 18,
   "id": "e14d8a88",
   "metadata": {},
   "outputs": [],
   "source": [
    "xx = t(1)"
   ]
  },
  {
   "cell_type": "code",
   "execution_count": 19,
   "id": "cfb6b473",
   "metadata": {},
   "outputs": [
    {
     "data": {
      "text/plain": [
       "4"
      ]
     },
     "execution_count": 19,
     "metadata": {},
     "output_type": "execute_result"
    }
   ],
   "source": [
    "xx(3)"
   ]
  },
  {
   "cell_type": "markdown",
   "id": "c1a48ced",
   "metadata": {},
   "source": [
    "# function closoure = decorator"
   ]
  },
  {
   "cell_type": "code",
   "execution_count": null,
   "id": "4aca8df0",
   "metadata": {},
   "outputs": [],
   "source": []
  },
  {
   "cell_type": "code",
   "execution_count": null,
   "id": "6ebc7703",
   "metadata": {},
   "outputs": [],
   "source": [
    "3*4\n",
    "3**4\n",
    "a,*b = 1,2,3\n",
    "def fun(*)\n",
    "def fun(*arg)\n",
    "def fun(**arg)\n",
    "fun(*arg)\n",
    "{*,}\n",
    "from import *"
   ]
  },
  {
   "cell_type": "code",
   "execution_count": null,
   "id": "3fdf05db",
   "metadata": {},
   "outputs": [],
   "source": [
    "- function\n",
    "- class\n",
    "- class __call__의 object"
   ]
  },
  {
   "cell_type": "code",
   "execution_count": 22,
   "id": "57184c3b",
   "metadata": {},
   "outputs": [],
   "source": [
    "def x():\n",
    "    print(1)"
   ]
  },
  {
   "cell_type": "code",
   "execution_count": 23,
   "id": "b5997690",
   "metadata": {},
   "outputs": [
    {
     "data": {
      "text/plain": [
       "True"
      ]
     },
     "execution_count": 23,
     "metadata": {},
     "output_type": "execute_result"
    }
   ],
   "source": [
    "callable(x)"
   ]
  },
  {
   "cell_type": "code",
   "execution_count": 24,
   "id": "7e48a8d6",
   "metadata": {},
   "outputs": [
    {
     "data": {
      "text/plain": [
       "True"
      ]
     },
     "execution_count": 24,
     "metadata": {},
     "output_type": "execute_result"
    }
   ],
   "source": [
    "callable(int)"
   ]
  },
  {
   "cell_type": "code",
   "execution_count": 25,
   "id": "63b4f154",
   "metadata": {},
   "outputs": [
    {
     "name": "stderr",
     "output_type": "stream",
     "text": [
      "<>:1: SyntaxWarning: 'int' object is not callable; perhaps you missed a comma?\n",
      "<>:1: SyntaxWarning: 'int' object is not callable; perhaps you missed a comma?\n",
      "C:\\Users\\user\\AppData\\Local\\Temp\\ipykernel_13204\\4217450921.py:1: SyntaxWarning: 'int' object is not callable; perhaps you missed a comma?\n",
      "  1()\n",
      "C:\\Users\\user\\AppData\\Local\\Temp\\ipykernel_13204\\4217450921.py:1: SyntaxWarning: 'int' object is not callable; perhaps you missed a comma?\n",
      "  1()\n",
      "C:\\Users\\user\\AppData\\Local\\Temp\\ipykernel_13204\\4217450921.py:1: SyntaxWarning: 'int' object is not callable; perhaps you missed a comma?\n",
      "  1()\n"
     ]
    },
    {
     "ename": "TypeError",
     "evalue": "'int' object is not callable",
     "output_type": "error",
     "traceback": [
      "\u001b[1;31m---------------------------------------------------------------------------\u001b[0m",
      "\u001b[1;31mTypeError\u001b[0m                                 Traceback (most recent call last)",
      "Input \u001b[1;32mIn [25]\u001b[0m, in \u001b[0;36m<cell line: 1>\u001b[1;34m()\u001b[0m\n\u001b[1;32m----> 1\u001b[0m \u001b[38;5;241;43m1\u001b[39;49m\u001b[43m(\u001b[49m\u001b[43m)\u001b[49m\n",
      "\u001b[1;31mTypeError\u001b[0m: 'int' object is not callable"
     ]
    }
   ],
   "source": [
    "1()"
   ]
  },
  {
   "cell_type": "code",
   "execution_count": 26,
   "id": "32fa1752",
   "metadata": {},
   "outputs": [
    {
     "data": {
      "text/plain": [
       "['__call__',\n",
       " '__class__',\n",
       " '__delattr__',\n",
       " '__dir__',\n",
       " '__doc__',\n",
       " '__eq__',\n",
       " '__format__',\n",
       " '__ge__',\n",
       " '__getattribute__',\n",
       " '__gt__',\n",
       " '__hash__',\n",
       " '__init__',\n",
       " '__init_subclass__',\n",
       " '__le__',\n",
       " '__lt__',\n",
       " '__module__',\n",
       " '__name__',\n",
       " '__ne__',\n",
       " '__new__',\n",
       " '__qualname__',\n",
       " '__reduce__',\n",
       " '__reduce_ex__',\n",
       " '__repr__',\n",
       " '__self__',\n",
       " '__setattr__',\n",
       " '__sizeof__',\n",
       " '__str__',\n",
       " '__subclasshook__',\n",
       " '__text_signature__']"
      ]
     },
     "execution_count": 26,
     "metadata": {},
     "output_type": "execute_result"
    }
   ],
   "source": [
    "dir(print)"
   ]
  },
  {
   "cell_type": "code",
   "execution_count": 27,
   "id": "2bc7b659",
   "metadata": {},
   "outputs": [],
   "source": [
    "def x():\n",
    "    print(1)"
   ]
  },
  {
   "cell_type": "code",
   "execution_count": 28,
   "id": "7e653c5f",
   "metadata": {},
   "outputs": [],
   "source": [
    "a = x"
   ]
  },
  {
   "cell_type": "code",
   "execution_count": null,
   "id": "00065468",
   "metadata": {},
   "outputs": [],
   "source": [
    "int"
   ]
  },
  {
   "cell_type": "code",
   "execution_count": 29,
   "id": "a287f8b6",
   "metadata": {},
   "outputs": [
    {
     "data": {
      "text/plain": [
       "'x'"
      ]
     },
     "execution_count": 29,
     "metadata": {},
     "output_type": "execute_result"
    }
   ],
   "source": [
    "a.__name__"
   ]
  },
  {
   "cell_type": "code",
   "execution_count": 30,
   "id": "7d6e18be",
   "metadata": {},
   "outputs": [],
   "source": [
    "adders = []\n",
    "for n in range(5):\n",
    "    adders.append(lambda m: m+n)\n"
   ]
  },
  {
   "cell_type": "code",
   "execution_count": 31,
   "id": "3578d3fb",
   "metadata": {},
   "outputs": [
    {
     "data": {
      "text/plain": [
       "[<function __main__.<lambda>(m)>,\n",
       " <function __main__.<lambda>(m)>,\n",
       " <function __main__.<lambda>(m)>,\n",
       " <function __main__.<lambda>(m)>,\n",
       " <function __main__.<lambda>(m)>]"
      ]
     },
     "execution_count": 31,
     "metadata": {},
     "output_type": "execute_result"
    }
   ],
   "source": [
    "adders"
   ]
  },
  {
   "cell_type": "code",
   "execution_count": 35,
   "id": "a43240b2",
   "metadata": {},
   "outputs": [
    {
     "data": {
      "text/plain": [
       "5"
      ]
     },
     "execution_count": 35,
     "metadata": {},
     "output_type": "execute_result"
    }
   ],
   "source": [
    "adders[2](1)"
   ]
  },
  {
   "cell_type": "code",
   "execution_count": null,
   "id": "7323a5a4",
   "metadata": {},
   "outputs": [],
   "source": [
    "a = 1\n",
    "a = 2\n",
    "a = 3"
   ]
  },
  {
   "cell_type": "code",
   "execution_count": 36,
   "id": "39abf227",
   "metadata": {},
   "outputs": [],
   "source": [
    "def x(b, a=[]):\n",
    "    return a.append(b)\n",
    "    "
   ]
  },
  {
   "cell_type": "code",
   "execution_count": 37,
   "id": "0d70fbaf",
   "metadata": {},
   "outputs": [],
   "source": [
    "x(3)"
   ]
  },
  {
   "cell_type": "code",
   "execution_count": 38,
   "id": "1f7760bc",
   "metadata": {},
   "outputs": [],
   "source": [
    "def xx():\n",
    "    return 1"
   ]
  },
  {
   "cell_type": "code",
   "execution_count": 39,
   "id": "b76c4e2d",
   "metadata": {},
   "outputs": [
    {
     "data": {
      "text/plain": [
       "1"
      ]
     },
     "execution_count": 39,
     "metadata": {},
     "output_type": "execute_result"
    }
   ],
   "source": [
    "xx()"
   ]
  },
  {
   "cell_type": "code",
   "execution_count": 40,
   "id": "6289f010",
   "metadata": {},
   "outputs": [
    {
     "ename": "SyntaxError",
     "evalue": "invalid syntax (2201149631.py, line 1)",
     "output_type": "error",
     "traceback": [
      "\u001b[1;36m  Input \u001b[1;32mIn [40]\u001b[1;36m\u001b[0m\n\u001b[1;33m    mutable return 값은 3종류\u001b[0m\n\u001b[1;37m            ^\u001b[0m\n\u001b[1;31mSyntaxError\u001b[0m\u001b[1;31m:\u001b[0m invalid syntax\n"
     ]
    }
   ],
   "source": [
    "# mutable return 값은 3종류"
   ]
  },
  {
   "cell_type": "code",
   "execution_count": 41,
   "id": "d2c2acc6",
   "metadata": {},
   "outputs": [],
   "source": [
    "a = [1,2,3,4]"
   ]
  },
  {
   "cell_type": "code",
   "execution_count": 42,
   "id": "f9aa1460",
   "metadata": {},
   "outputs": [],
   "source": [
    "a.append(5)"
   ]
  },
  {
   "cell_type": "code",
   "execution_count": 43,
   "id": "739f0621",
   "metadata": {},
   "outputs": [
    {
     "data": {
      "text/plain": [
       "[1, 2, 3, 4, 5]"
      ]
     },
     "execution_count": 43,
     "metadata": {},
     "output_type": "execute_result"
    }
   ],
   "source": [
    "a"
   ]
  },
  {
   "cell_type": "code",
   "execution_count": 44,
   "id": "a6cea6f1",
   "metadata": {},
   "outputs": [
    {
     "data": {
      "text/plain": [
       "2"
      ]
     },
     "execution_count": 44,
     "metadata": {},
     "output_type": "execute_result"
    }
   ],
   "source": [
    "a.index(3)"
   ]
  },
  {
   "cell_type": "code",
   "execution_count": 45,
   "id": "1b5f31a6",
   "metadata": {},
   "outputs": [
    {
     "data": {
      "text/plain": [
       "[1, 2, 3, 4, 5]"
      ]
     },
     "execution_count": 45,
     "metadata": {},
     "output_type": "execute_result"
    }
   ],
   "source": [
    "a"
   ]
  },
  {
   "cell_type": "code",
   "execution_count": 46,
   "id": "9a053547",
   "metadata": {},
   "outputs": [
    {
     "data": {
      "text/plain": [
       "5"
      ]
     },
     "execution_count": 46,
     "metadata": {},
     "output_type": "execute_result"
    }
   ],
   "source": [
    "a.pop()"
   ]
  },
  {
   "cell_type": "code",
   "execution_count": 47,
   "id": "0caae1c0",
   "metadata": {},
   "outputs": [
    {
     "data": {
      "text/plain": [
       "[1, 2, 3, 4]"
      ]
     },
     "execution_count": 47,
     "metadata": {},
     "output_type": "execute_result"
    }
   ],
   "source": [
    "a"
   ]
  },
  {
   "cell_type": "code",
   "execution_count": 50,
   "id": "218ac0ea",
   "metadata": {},
   "outputs": [],
   "source": [
    "def x(b, aa=[]):\n",
    "    return a.append(b)"
   ]
  },
  {
   "cell_type": "code",
   "execution_count": 52,
   "id": "cef19881",
   "metadata": {},
   "outputs": [],
   "source": [
    "bb = []\n",
    "x(3,bb)"
   ]
  },
  {
   "cell_type": "code",
   "execution_count": 54,
   "id": "5507a739",
   "metadata": {},
   "outputs": [],
   "source": [
    "def xx(b, aa=[]):\n",
    "    c = aa.append(b)\n",
    "    return c"
   ]
  },
  {
   "cell_type": "code",
   "execution_count": 55,
   "id": "9ba5ac38",
   "metadata": {},
   "outputs": [],
   "source": [
    "xx(3)"
   ]
  },
  {
   "cell_type": "code",
   "execution_count": 57,
   "id": "386482c2",
   "metadata": {},
   "outputs": [],
   "source": [
    "def f(a, L=[]):\n",
    "    L.append(a)\n",
    "    return L"
   ]
  },
  {
   "cell_type": "code",
   "execution_count": 58,
   "id": "07199526",
   "metadata": {},
   "outputs": [
    {
     "data": {
      "text/plain": [
       "[1]"
      ]
     },
     "execution_count": 58,
     "metadata": {},
     "output_type": "execute_result"
    }
   ],
   "source": [
    "f(1)"
   ]
  },
  {
   "cell_type": "code",
   "execution_count": 59,
   "id": "f17e0600",
   "metadata": {},
   "outputs": [
    {
     "data": {
      "text/plain": [
       "[1, 2]"
      ]
     },
     "execution_count": 59,
     "metadata": {},
     "output_type": "execute_result"
    }
   ],
   "source": [
    "f(2)"
   ]
  },
  {
   "cell_type": "code",
   "execution_count": 60,
   "id": "1315482d",
   "metadata": {},
   "outputs": [],
   "source": [
    "def ff(a, L=None):\n",
    "    if L is None:\n",
    "        L = []\n",
    "    L.append(a)\n",
    "    return L"
   ]
  },
  {
   "cell_type": "code",
   "execution_count": 61,
   "id": "7063acae",
   "metadata": {},
   "outputs": [
    {
     "data": {
      "text/plain": [
       "[1]"
      ]
     },
     "execution_count": 61,
     "metadata": {},
     "output_type": "execute_result"
    }
   ],
   "source": [
    "ff(1)"
   ]
  },
  {
   "cell_type": "code",
   "execution_count": 62,
   "id": "f0b1ce25",
   "metadata": {},
   "outputs": [
    {
     "data": {
      "text/plain": [
       "[2]"
      ]
     },
     "execution_count": 62,
     "metadata": {},
     "output_type": "execute_result"
    }
   ],
   "source": [
    "ff(2)"
   ]
  },
  {
   "cell_type": "code",
   "execution_count": 63,
   "id": "c758c3f6",
   "metadata": {},
   "outputs": [],
   "source": [
    "import time"
   ]
  },
  {
   "cell_type": "code",
   "execution_count": 76,
   "id": "dd45eebc",
   "metadata": {},
   "outputs": [
    {
     "data": {
      "text/plain": [
       "1709883706.2014802"
      ]
     },
     "execution_count": 76,
     "metadata": {},
     "output_type": "execute_result"
    }
   ],
   "source": [
    "time.time()"
   ]
  },
  {
   "cell_type": "code",
   "execution_count": 77,
   "id": "a02530f2",
   "metadata": {},
   "outputs": [],
   "source": [
    "def tt(t=time.time()):\n",
    "    return t"
   ]
  },
  {
   "cell_type": "code",
   "execution_count": 81,
   "id": "d4c9f382",
   "metadata": {},
   "outputs": [
    {
     "data": {
      "text/plain": [
       "1709883718.9593325"
      ]
     },
     "execution_count": 81,
     "metadata": {},
     "output_type": "execute_result"
    }
   ],
   "source": [
    "tt()"
   ]
  },
  {
   "cell_type": "code",
   "execution_count": null,
   "id": "def94104",
   "metadata": {},
   "outputs": [],
   "source": []
  }
 ],
 "metadata": {
  "kernelspec": {
   "display_name": "Python 3 (ipykernel)",
   "language": "python",
   "name": "python3"
  },
  "language_info": {
   "codemirror_mode": {
    "name": "ipython",
    "version": 3
   },
   "file_extension": ".py",
   "mimetype": "text/x-python",
   "name": "python",
   "nbconvert_exporter": "python",
   "pygments_lexer": "ipython3",
   "version": "3.9.12"
  }
 },
 "nbformat": 4,
 "nbformat_minor": 5
}
