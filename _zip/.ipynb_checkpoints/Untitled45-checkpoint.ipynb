{
 "cells": [
  {
   "cell_type": "code",
   "execution_count": 1,
   "id": "fadec5b7",
   "metadata": {},
   "outputs": [],
   "source": [
    "import matplotlib as ma"
   ]
  },
  {
   "cell_type": "code",
   "execution_count": 3,
   "id": "e01e69d1",
   "metadata": {},
   "outputs": [
    {
     "data": {
      "text/plain": [
       "108"
      ]
     },
     "execution_count": 3,
     "metadata": {},
     "output_type": "execute_result"
    }
   ],
   "source": [
    "len(dir(ma))"
   ]
  },
  {
   "cell_type": "code",
   "execution_count": 4,
   "id": "9b012cf8",
   "metadata": {},
   "outputs": [],
   "source": [
    "import matplotlib.pyplot as plt"
   ]
  },
  {
   "cell_type": "code",
   "execution_count": 5,
   "id": "5bcd7b2e",
   "metadata": {},
   "outputs": [
    {
     "data": {
      "text/plain": [
       "157"
      ]
     },
     "execution_count": 5,
     "metadata": {},
     "output_type": "execute_result"
    }
   ],
   "source": [
    "len(dir(ma))"
   ]
  },
  {
   "cell_type": "code",
   "execution_count": null,
   "id": "49d970c7",
   "metadata": {},
   "outputs": [],
   "source": [
    "게릴라 패치 > 고릴라 패치 "
   ]
  }
 ],
 "metadata": {
  "kernelspec": {
   "display_name": "Python 3 (ipykernel)",
   "language": "python",
   "name": "python3"
  },
  "language_info": {
   "codemirror_mode": {
    "name": "ipython",
    "version": 3
   },
   "file_extension": ".py",
   "mimetype": "text/x-python",
   "name": "python",
   "nbconvert_exporter": "python",
   "pygments_lexer": "ipython3",
   "version": "3.9.12"
  }
 },
 "nbformat": 4,
 "nbformat_minor": 5
}
