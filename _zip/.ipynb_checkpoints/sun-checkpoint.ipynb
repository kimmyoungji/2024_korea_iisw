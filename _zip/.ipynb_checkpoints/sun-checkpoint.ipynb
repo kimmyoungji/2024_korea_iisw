{
 "cells": [
  {
   "cell_type": "code",
   "execution_count": 1,
   "id": "fc27ce43",
   "metadata": {},
   "outputs": [],
   "source": [
    "x = 1\n",
    "_x = 2\n",
    "__x = 3\n",
    "\n",
    "def y():\n",
    "    pass\n",
    "\n",
    "def _y():\n",
    "    pass\n",
    "\n",
    "def __y():\n",
    "    pass"
   ]
  },
  {
   "cell_type": "code",
   "execution_count": null,
   "id": "69e086cb",
   "metadata": {},
   "outputs": [],
   "source": [
    "__all__ = ['x']"
   ]
  }
 ],
 "metadata": {
  "kernelspec": {
   "display_name": "Python 3 (ipykernel)",
   "language": "python",
   "name": "python3"
  },
  "language_info": {
   "codemirror_mode": {
    "name": "ipython",
    "version": 3
   },
   "file_extension": ".py",
   "mimetype": "text/x-python",
   "name": "python",
   "nbconvert_exporter": "python",
   "pygments_lexer": "ipython3",
   "version": "3.9.12"
  }
 },
 "nbformat": 4,
 "nbformat_minor": 5
}
