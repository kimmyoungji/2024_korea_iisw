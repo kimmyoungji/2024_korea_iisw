{
 "cells": [
  {
   "cell_type": "code",
   "execution_count": null,
   "id": "17b74b9b",
   "metadata": {},
   "outputs": [],
   "source": [
    "녹차라때 6\n",
    "아아 6\n",
    "쿠앤크 7\n",
    "딸요 7\n",
    "초라 5\n",
    "레에 2\n",
    "딸바 8\n",
    "자몽에 5\n",
    "바닐라라 1\n",
    "블루스 2\n",
    "초바 1\n",
    "민초 1\n",
    "홍라 1\n",
    "아샷추 1"
   ]
  }
 ],
 "metadata": {
  "kernelspec": {
   "display_name": "Python 3 (ipykernel)",
   "language": "python",
   "name": "python3"
  },
  "language_info": {
   "codemirror_mode": {
    "name": "ipython",
    "version": 3
   },
   "file_extension": ".py",
   "mimetype": "text/x-python",
   "name": "python",
   "nbconvert_exporter": "python",
   "pygments_lexer": "ipython3",
   "version": "3.9.12"
  }
 },
 "nbformat": 4,
 "nbformat_minor": 5
}
