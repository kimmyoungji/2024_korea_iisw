{
 "cells": [
  {
   "cell_type": "code",
   "execution_count": 1,
   "id": "ca373f0b",
   "metadata": {},
   "outputs": [],
   "source": [
    "import sun"
   ]
  },
  {
   "cell_type": "code",
   "execution_count": 4,
   "id": "a15f3daa",
   "metadata": {},
   "outputs": [],
   "source": [
    "import sun as s"
   ]
  },
  {
   "cell_type": "code",
   "execution_count": 2,
   "id": "7a9a40c6",
   "metadata": {},
   "outputs": [
    {
     "data": {
      "text/plain": [
       "['__builtins__',\n",
       " '__cached__',\n",
       " '__doc__',\n",
       " '__file__',\n",
       " '__loader__',\n",
       " '__name__',\n",
       " '__package__',\n",
       " '__spec__',\n",
       " '__x',\n",
       " '__y',\n",
       " '_x',\n",
       " '_y',\n",
       " 'x',\n",
       " 'y']"
      ]
     },
     "execution_count": 2,
     "metadata": {},
     "output_type": "execute_result"
    }
   ],
   "source": [
    "dir(sun)"
   ]
  },
  {
   "cell_type": "code",
   "execution_count": 3,
   "id": "69c39f42",
   "metadata": {},
   "outputs": [
    {
     "data": {
      "text/plain": [
       "2"
      ]
     },
     "execution_count": 3,
     "metadata": {},
     "output_type": "execute_result"
    }
   ],
   "source": [
    "sun._x"
   ]
  },
  {
   "cell_type": "code",
   "execution_count": 5,
   "id": "ea975678",
   "metadata": {},
   "outputs": [
    {
     "data": {
      "text/plain": [
       "2"
      ]
     },
     "execution_count": 5,
     "metadata": {},
     "output_type": "execute_result"
    }
   ],
   "source": [
    "s._x"
   ]
  },
  {
   "cell_type": "code",
   "execution_count": null,
   "id": "53babf02",
   "metadata": {},
   "outputs": [],
   "source": []
  }
 ],
 "metadata": {
  "kernelspec": {
   "display_name": "Python 3 (ipykernel)",
   "language": "python",
   "name": "python3"
  },
  "language_info": {
   "codemirror_mode": {
    "name": "ipython",
    "version": 3
   },
   "file_extension": ".py",
   "mimetype": "text/x-python",
   "name": "python",
   "nbconvert_exporter": "python",
   "pygments_lexer": "ipython3",
   "version": "3.9.12"
  }
 },
 "nbformat": 4,
 "nbformat_minor": 5
}
